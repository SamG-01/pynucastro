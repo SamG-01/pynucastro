{
 "cells": [
  {
   "cell_type": "markdown",
   "metadata": {},
   "source": [
    "# Solving for  nuclear statistical equilibrium"
   ]
  },
  {
   "cell_type": "markdown",
   "metadata": {},
   "source": [
    "pynucastro is able to calculate the abundances at nuclear statistical equilibrium of a given reaction network.\n",
    "\n",
    "The constrained equations are setup following\n",
    "<cite data-cite-t=\"calder:2007\">Calder et al. (2007)</cite> and\n",
    "<cite data-cite-t=\"seitenzahl:2009\">Seitenzahl et al. (2009)</cite>\n",
    "and solved using `scipy.optimize.fsolve()`.\n",
    "\n",
    "Here we show how to find the NSE state of a set of nuclei."
   ]
  },
  {
   "cell_type": "code",
   "execution_count": 1,
   "metadata": {
    "execution": {
     "iopub.execute_input": "2024-10-17T07:30:47.283502Z",
     "iopub.status.busy": "2024-10-17T07:30:47.283094Z",
     "iopub.status.idle": "2024-10-17T07:30:49.560499Z",
     "shell.execute_reply": "2024-10-17T07:30:49.559980Z"
    },
    "tags": []
   },
   "outputs": [
    {
     "ename": "ModuleNotFoundError",
     "evalue": "No module named 'microphysics'",
     "output_type": "error",
     "traceback": [
      "\u001b[0;31m---------------------------------------------------------------------------\u001b[0m",
      "\u001b[0;31mModuleNotFoundError\u001b[0m                       Traceback (most recent call last)",
      "Cell \u001b[0;32mIn[1], line 1\u001b[0m\n\u001b[0;32m----> 1\u001b[0m \u001b[38;5;28;01mimport\u001b[39;00m \u001b[38;5;21;01mpynucastro\u001b[39;00m \u001b[38;5;28;01mas\u001b[39;00m \u001b[38;5;21;01mpyna\u001b[39;00m\n\u001b[1;32m      2\u001b[0m \u001b[38;5;28;01mimport\u001b[39;00m \u001b[38;5;21;01mnumpy\u001b[39;00m \u001b[38;5;28;01mas\u001b[39;00m \u001b[38;5;21;01mnp\u001b[39;00m\n\u001b[1;32m      3\u001b[0m \u001b[38;5;28;01mimport\u001b[39;00m \u001b[38;5;21;01mmatplotlib\u001b[39;00m\u001b[38;5;21;01m.\u001b[39;00m\u001b[38;5;21;01mpyplot\u001b[39;00m \u001b[38;5;28;01mas\u001b[39;00m \u001b[38;5;21;01mplt\u001b[39;00m\n",
      "File \u001b[0;32m/opt/hostedtoolcache/Python/3.11.10/x64/lib/python3.11/site-packages/pynucastro/__init__.py:132\u001b[0m\n\u001b[1;32m    128\u001b[0m __version__ \u001b[38;5;241m=\u001b[39m version\n\u001b[1;32m    131\u001b[0m \u001b[38;5;28;01mimport\u001b[39;00m \u001b[38;5;21;01mpynucastro\u001b[39;00m\u001b[38;5;21;01m.\u001b[39;00m\u001b[38;5;21;01mscreening\u001b[39;00m\n\u001b[0;32m--> 132\u001b[0m \u001b[38;5;28;01mfrom\u001b[39;00m \u001b[38;5;21;01mpynucastro\u001b[39;00m\u001b[38;5;21;01m.\u001b[39;00m\u001b[38;5;21;01mnetworks\u001b[39;00m \u001b[38;5;28;01mimport\u001b[39;00m (AmrexAstroCxxNetwork, BaseCxxNetwork,\n\u001b[1;32m    133\u001b[0m                                  Composition, Explorer, NSENetwork,\n\u001b[1;32m    134\u001b[0m                                  NumpyNetwork, PythonNetwork, RateCollection,\n\u001b[1;32m    135\u001b[0m                                  SimpleCxxNetwork, StarKillerCxxNetwork,\n\u001b[1;32m    136\u001b[0m                                  SympyRates)\n\u001b[1;32m    137\u001b[0m \u001b[38;5;28;01mfrom\u001b[39;00m \u001b[38;5;21;01mpynucastro\u001b[39;00m\u001b[38;5;21;01m.\u001b[39;00m\u001b[38;5;21;01mnucdata\u001b[39;00m \u001b[38;5;28;01mimport\u001b[39;00m Nucleus, get_all_nuclei, get_nuclei_in_range\n\u001b[1;32m    138\u001b[0m \u001b[38;5;28;01mfrom\u001b[39;00m \u001b[38;5;21;01mpynucastro\u001b[39;00m\u001b[38;5;21;01m.\u001b[39;00m\u001b[38;5;21;01mrates\u001b[39;00m \u001b[38;5;28;01mimport\u001b[39;00m (ApproximateRate, DerivedRate, LangankeLibrary,\n\u001b[1;32m    139\u001b[0m                               Library, Rate, RateFilter, ReacLibLibrary,\n\u001b[1;32m    140\u001b[0m                               SuzukiLibrary, TabularLibrary, Tfactors,\n\u001b[1;32m    141\u001b[0m                               list_known_rates, load_rate)\n",
      "File \u001b[0;32m/opt/hostedtoolcache/Python/3.11.10/x64/lib/python3.11/site-packages/pynucastro/networks/__init__.py:29\u001b[0m\n\u001b[1;32m      1\u001b[0m \u001b[38;5;124;03m\"\"\"The pynucastro modules that support the creation of networks.\u001b[39;00m\n\u001b[1;32m      2\u001b[0m \u001b[38;5;124;03mThere are several main submodules here:\u001b[39;00m\n\u001b[1;32m      3\u001b[0m \n\u001b[0;32m   (...)\u001b[0m\n\u001b[1;32m     24\u001b[0m \n\u001b[1;32m     25\u001b[0m \u001b[38;5;124;03m\"\"\"\u001b[39;00m\n\u001b[1;32m     27\u001b[0m \u001b[38;5;66;03m#__all__ = [\"python_network\", \"rate_collection\", \"sympy_network_support\"]\u001b[39;00m\n\u001b[0;32m---> 29\u001b[0m \u001b[38;5;28;01mfrom\u001b[39;00m \u001b[38;5;21;01m.\u001b[39;00m\u001b[38;5;21;01mamrexastro_cxx_network\u001b[39;00m \u001b[38;5;28;01mimport\u001b[39;00m AmrexAstroCxxNetwork\n\u001b[1;32m     30\u001b[0m \u001b[38;5;28;01mfrom\u001b[39;00m \u001b[38;5;21;01m.\u001b[39;00m\u001b[38;5;21;01mbase_cxx_network\u001b[39;00m \u001b[38;5;28;01mimport\u001b[39;00m BaseCxxNetwork\n\u001b[1;32m     31\u001b[0m \u001b[38;5;28;01mfrom\u001b[39;00m \u001b[38;5;21;01m.\u001b[39;00m\u001b[38;5;21;01mnse_network\u001b[39;00m \u001b[38;5;28;01mimport\u001b[39;00m NSENetwork\n",
      "File \u001b[0;32m/opt/hostedtoolcache/Python/3.11.10/x64/lib/python3.11/site-packages/pynucastro/networks/amrexastro_cxx_network.py:9\u001b[0m\n\u001b[1;32m      6\u001b[0m \u001b[38;5;28;01mimport\u001b[39;00m \u001b[38;5;21;01mre\u001b[39;00m\n\u001b[1;32m      7\u001b[0m \u001b[38;5;28;01mfrom\u001b[39;00m \u001b[38;5;21;01mpathlib\u001b[39;00m \u001b[38;5;28;01mimport\u001b[39;00m Path\n\u001b[0;32m----> 9\u001b[0m \u001b[38;5;28;01mfrom\u001b[39;00m \u001b[38;5;21;01mpynucastro\u001b[39;00m\u001b[38;5;21;01m.\u001b[39;00m\u001b[38;5;21;01mnetworks\u001b[39;00m\u001b[38;5;21;01m.\u001b[39;00m\u001b[38;5;21;01mbase_cxx_network\u001b[39;00m \u001b[38;5;28;01mimport\u001b[39;00m BaseCxxNetwork\n\u001b[1;32m     10\u001b[0m \u001b[38;5;28;01mfrom\u001b[39;00m \u001b[38;5;21;01mpynucastro\u001b[39;00m\u001b[38;5;21;01m.\u001b[39;00m\u001b[38;5;21;01mnucdata\u001b[39;00m \u001b[38;5;28;01mimport\u001b[39;00m Nucleus\n\u001b[1;32m     11\u001b[0m \u001b[38;5;28;01mfrom\u001b[39;00m \u001b[38;5;21;01mpynucastro\u001b[39;00m\u001b[38;5;21;01m.\u001b[39;00m\u001b[38;5;21;01mrates\u001b[39;00m \u001b[38;5;28;01mimport\u001b[39;00m ReacLibRate\n",
      "File \u001b[0;32m/opt/hostedtoolcache/Python/3.11.10/x64/lib/python3.11/site-packages/pynucastro/networks/base_cxx_network.py:19\u001b[0m\n\u001b[1;32m     16\u001b[0m \u001b[38;5;28;01mimport\u001b[39;00m \u001b[38;5;21;01mnumpy\u001b[39;00m \u001b[38;5;28;01mas\u001b[39;00m \u001b[38;5;21;01mnp\u001b[39;00m\n\u001b[1;32m     17\u001b[0m \u001b[38;5;28;01mimport\u001b[39;00m \u001b[38;5;21;01msympy\u001b[39;00m\n\u001b[0;32m---> 19\u001b[0m \u001b[38;5;28;01mfrom\u001b[39;00m \u001b[38;5;21;01mpynucastro\u001b[39;00m\u001b[38;5;21;01m.\u001b[39;00m\u001b[38;5;21;01mnetworks\u001b[39;00m\u001b[38;5;21;01m.\u001b[39;00m\u001b[38;5;21;01mrate_collection\u001b[39;00m \u001b[38;5;28;01mimport\u001b[39;00m RateCollection\n\u001b[1;32m     20\u001b[0m \u001b[38;5;28;01mfrom\u001b[39;00m \u001b[38;5;21;01mpynucastro\u001b[39;00m\u001b[38;5;21;01m.\u001b[39;00m\u001b[38;5;21;01mnetworks\u001b[39;00m\u001b[38;5;21;01m.\u001b[39;00m\u001b[38;5;21;01msympy_network_support\u001b[39;00m \u001b[38;5;28;01mimport\u001b[39;00m SympyRates\n\u001b[1;32m     21\u001b[0m \u001b[38;5;28;01mfrom\u001b[39;00m \u001b[38;5;21;01mpynucastro\u001b[39;00m\u001b[38;5;21;01m.\u001b[39;00m\u001b[38;5;21;01mrates\u001b[39;00m \u001b[38;5;28;01mimport\u001b[39;00m DerivedRate\n",
      "File \u001b[0;32m/opt/hostedtoolcache/Python/3.11.10/x64/lib/python3.11/site-packages/pynucastro/networks/rate_collection.py:32\u001b[0m\n\u001b[1;32m     28\u001b[0m \u001b[38;5;28;01mfrom\u001b[39;00m \u001b[38;5;21;01mpynucastro\u001b[39;00m\u001b[38;5;21;01m.\u001b[39;00m\u001b[38;5;21;01mrates\u001b[39;00m\u001b[38;5;21;01m.\u001b[39;00m\u001b[38;5;21;01mlibrary\u001b[39;00m \u001b[38;5;28;01mimport\u001b[39;00m _rate_name_to_nuc, capitalize_rid\n\u001b[1;32m     29\u001b[0m \u001b[38;5;28;01mfrom\u001b[39;00m \u001b[38;5;21;01mpynucastro\u001b[39;00m\u001b[38;5;21;01m.\u001b[39;00m\u001b[38;5;21;01mscreening\u001b[39;00m \u001b[38;5;28;01mimport\u001b[39;00m (get_screening_map, make_plasma_state,\n\u001b[1;32m     30\u001b[0m                                   make_screen_factors)\n\u001b[0;32m---> 32\u001b[0m \u001b[38;5;28;01mfrom\u001b[39;00m \u001b[38;5;21;01mmicrophysics\u001b[39;00m\u001b[38;5;21;01m.\u001b[39;00m\u001b[38;5;21;01mpynucastro\u001b[39;00m\u001b[38;5;21;01m.\u001b[39;00m\u001b[38;5;21;01mpynucastro\u001b[39;00m\u001b[38;5;21;01m.\u001b[39;00m\u001b[38;5;21;01mnucdata\u001b[39;00m \u001b[38;5;28;01mimport\u001b[39;00m nucleus\n\u001b[1;32m     34\u001b[0m mpl\u001b[38;5;241m.\u001b[39mrcParams[\u001b[38;5;124m'\u001b[39m\u001b[38;5;124mfigure.dpi\u001b[39m\u001b[38;5;124m'\u001b[39m] \u001b[38;5;241m=\u001b[39m \u001b[38;5;241m100\u001b[39m\n\u001b[1;32m     37\u001b[0m \u001b[38;5;28;01mclass\u001b[39;00m \u001b[38;5;21;01mRateDuplicationError\u001b[39;00m(\u001b[38;5;167;01mException\u001b[39;00m):\n",
      "\u001b[0;31mModuleNotFoundError\u001b[0m: No module named 'microphysics'"
     ]
    }
   ],
   "source": [
    "import pynucastro as pyna\n",
    "import numpy as np\n",
    "import matplotlib.pyplot as plt"
   ]
  },
  {
   "cell_type": "markdown",
   "metadata": {},
   "source": [
    "We start by creating a `Library` object that reads all the ReacLib rates and link different nuclei of choice. \n",
    "\n",
    "Then initialize `NSENetwork` by using the the rates created by the `Library` object."
   ]
  },
  {
   "cell_type": "code",
   "execution_count": 2,
   "metadata": {
    "execution": {
     "iopub.execute_input": "2024-10-17T07:30:49.562420Z",
     "iopub.status.busy": "2024-10-17T07:30:49.562098Z",
     "iopub.status.idle": "2024-10-17T07:30:49.579461Z",
     "shell.execute_reply": "2024-10-17T07:30:49.578995Z"
    },
    "tags": []
   },
   "outputs": [
    {
     "ename": "NameError",
     "evalue": "name 'pyna' is not defined",
     "output_type": "error",
     "traceback": [
      "\u001b[0;31m---------------------------------------------------------------------------\u001b[0m",
      "\u001b[0;31mNameError\u001b[0m                                 Traceback (most recent call last)",
      "Cell \u001b[0;32mIn[2], line 1\u001b[0m\n\u001b[0;32m----> 1\u001b[0m library \u001b[38;5;241m=\u001b[39m \u001b[43mpyna\u001b[49m\u001b[38;5;241m.\u001b[39mReacLibLibrary()\n\u001b[1;32m      3\u001b[0m subch_full \u001b[38;5;241m=\u001b[39m library\u001b[38;5;241m.\u001b[39mlinking_nuclei([\u001b[38;5;124m\"\u001b[39m\u001b[38;5;124mp\u001b[39m\u001b[38;5;124m\"\u001b[39m, \u001b[38;5;124m\"\u001b[39m\u001b[38;5;124mhe4\u001b[39m\u001b[38;5;124m\"\u001b[39m,\n\u001b[1;32m      4\u001b[0m                                      \u001b[38;5;124m\"\u001b[39m\u001b[38;5;124mc12\u001b[39m\u001b[38;5;124m\"\u001b[39m, \u001b[38;5;124m\"\u001b[39m\u001b[38;5;124mn13\u001b[39m\u001b[38;5;124m\"\u001b[39m, \u001b[38;5;124m\"\u001b[39m\u001b[38;5;124mn14\u001b[39m\u001b[38;5;124m\"\u001b[39m,\n\u001b[1;32m      5\u001b[0m                                      \u001b[38;5;124m\"\u001b[39m\u001b[38;5;124mo16\u001b[39m\u001b[38;5;124m\"\u001b[39m, \u001b[38;5;124m\"\u001b[39m\u001b[38;5;124mf18\u001b[39m\u001b[38;5;124m\"\u001b[39m, \u001b[38;5;124m\"\u001b[39m\u001b[38;5;124mne20\u001b[39m\u001b[38;5;124m\"\u001b[39m,\n\u001b[0;32m   (...)\u001b[0m\n\u001b[1;32m     11\u001b[0m                                      \u001b[38;5;124m\"\u001b[39m\u001b[38;5;124mcr48\u001b[39m\u001b[38;5;124m\"\u001b[39m, \u001b[38;5;124m\"\u001b[39m\u001b[38;5;124mmn51\u001b[39m\u001b[38;5;124m\"\u001b[39m,\n\u001b[1;32m     12\u001b[0m                                      \u001b[38;5;124m\"\u001b[39m\u001b[38;5;124mfe52\u001b[39m\u001b[38;5;124m\"\u001b[39m,\u001b[38;5;124m\"\u001b[39m\u001b[38;5;124mco55\u001b[39m\u001b[38;5;124m\"\u001b[39m,\u001b[38;5;124m\"\u001b[39m\u001b[38;5;124mni56\u001b[39m\u001b[38;5;124m\"\u001b[39m])\n\u001b[1;32m     14\u001b[0m nse \u001b[38;5;241m=\u001b[39m pyna\u001b[38;5;241m.\u001b[39mNSENetwork(libraries\u001b[38;5;241m=\u001b[39msubch_full)\n",
      "\u001b[0;31mNameError\u001b[0m: name 'pyna' is not defined"
     ]
    }
   ],
   "source": [
    "library = pyna.ReacLibLibrary()\n",
    "\n",
    "subch_full = library.linking_nuclei([\"p\", \"he4\",\n",
    "                                     \"c12\", \"n13\", \"n14\",\n",
    "                                     \"o16\", \"f18\", \"ne20\",\n",
    "                                     \"ne21\", \"na22\", \"na23\",\n",
    "                                     \"mg24\", \"al27\", \"si28\",\n",
    "                                     \"p31\", \"s32\", \"cl35\",\n",
    "                                     \"ar36\", \"k39\", \"ca40\",\n",
    "                                     \"sc43\", \"ti44\", \"v47\",\n",
    "                                     \"cr48\", \"mn51\",\n",
    "                                     \"fe52\",\"co55\",\"ni56\"])\n",
    "\n",
    "nse = pyna.NSENetwork(libraries=subch_full)"
   ]
  },
  {
   "cell_type": "markdown",
   "metadata": {},
   "source": [
    "`get_comp_nse(rho,T,ye)` is a method of `NSEState` that returns composition at NSE as an object `Composition` by providing density, temperature, and a presribed electron fraction. \n",
    "\n",
    "There is pre-set initial guess for the proton and neutron chemical potentials, however one should adjust the initial guess, accordingly if no solutions are found or taking a long time as the algorithm is searching for the correct initial guess. To pass in the initial guess, set `initial_guess=guess`. `guess` is a user-supplied list of the form `[mu_p, mu_n]`, where `mu_p` and `mu_n` are the chemical potential for proton and neutron, respectively.\n",
    "\n",
    "It has options of incorporating coulomb correction terms by let `use_coulomb_corr=True`, and return the solution of proton and neutron chemical potentials by `return_sol=True`."
   ]
  },
  {
   "cell_type": "code",
   "execution_count": 3,
   "metadata": {
    "editable": true,
    "execution": {
     "iopub.execute_input": "2024-10-17T07:30:49.581293Z",
     "iopub.status.busy": "2024-10-17T07:30:49.580869Z",
     "iopub.status.idle": "2024-10-17T07:30:49.593097Z",
     "shell.execute_reply": "2024-10-17T07:30:49.592625Z"
    },
    "slideshow": {
     "slide_type": ""
    },
    "tags": [
     "nbval-ignore-output"
    ]
   },
   "outputs": [
    {
     "ename": "NameError",
     "evalue": "name 'nse' is not defined",
     "output_type": "error",
     "traceback": [
      "\u001b[0;31m---------------------------------------------------------------------------\u001b[0m",
      "\u001b[0;31mNameError\u001b[0m                                 Traceback (most recent call last)",
      "Cell \u001b[0;32mIn[3], line 1\u001b[0m\n\u001b[0;32m----> 1\u001b[0m comp, sol \u001b[38;5;241m=\u001b[39m \u001b[43mnse\u001b[49m\u001b[38;5;241m.\u001b[39mget_comp_nse(\u001b[38;5;241m1e7\u001b[39m, \u001b[38;5;241m6e9\u001b[39m, \u001b[38;5;241m0.50\u001b[39m, use_coulomb_corr\u001b[38;5;241m=\u001b[39m\u001b[38;5;28;01mTrue\u001b[39;00m, return_sol\u001b[38;5;241m=\u001b[39m\u001b[38;5;28;01mTrue\u001b[39;00m)\n\u001b[1;32m      2\u001b[0m fig \u001b[38;5;241m=\u001b[39m comp\u001b[38;5;241m.\u001b[39mplot()\n",
      "\u001b[0;31mNameError\u001b[0m: name 'nse' is not defined"
     ]
    }
   ],
   "source": [
    "comp, sol = nse.get_comp_nse(1e7, 6e9, 0.50, use_coulomb_corr=True, return_sol=True)\n",
    "fig = comp.plot()"
   ]
  },
  {
   "cell_type": "markdown",
   "metadata": {},
   "source": [
    "We can also explicitly print the composition"
   ]
  },
  {
   "cell_type": "code",
   "execution_count": 4,
   "metadata": {
    "editable": true,
    "execution": {
     "iopub.execute_input": "2024-10-17T07:30:49.594865Z",
     "iopub.status.busy": "2024-10-17T07:30:49.594462Z",
     "iopub.status.idle": "2024-10-17T07:30:49.606158Z",
     "shell.execute_reply": "2024-10-17T07:30:49.605719Z"
    },
    "slideshow": {
     "slide_type": ""
    },
    "tags": []
   },
   "outputs": [
    {
     "ename": "NameError",
     "evalue": "name 'comp' is not defined",
     "output_type": "error",
     "traceback": [
      "\u001b[0;31m---------------------------------------------------------------------------\u001b[0m",
      "\u001b[0;31mNameError\u001b[0m                                 Traceback (most recent call last)",
      "Cell \u001b[0;32mIn[4], line 1\u001b[0m\n\u001b[0;32m----> 1\u001b[0m \u001b[38;5;28;01mfor\u001b[39;00m c, v \u001b[38;5;129;01min\u001b[39;00m \u001b[43mcomp\u001b[49m\u001b[38;5;241m.\u001b[39mX\u001b[38;5;241m.\u001b[39mitems():\n\u001b[1;32m      2\u001b[0m     \u001b[38;5;28mprint\u001b[39m(\u001b[38;5;124mf\u001b[39m\u001b[38;5;124m\"\u001b[39m\u001b[38;5;132;01m{\u001b[39;00m\u001b[38;5;28mstr\u001b[39m(c)\u001b[38;5;132;01m:\u001b[39;00m\u001b[38;5;124m6\u001b[39m\u001b[38;5;132;01m}\u001b[39;00m\u001b[38;5;124m : \u001b[39m\u001b[38;5;132;01m{\u001b[39;00mv\u001b[38;5;132;01m:\u001b[39;00m\u001b[38;5;124m20.12g\u001b[39m\u001b[38;5;132;01m}\u001b[39;00m\u001b[38;5;124m\"\u001b[39m)\n",
      "\u001b[0;31mNameError\u001b[0m: name 'comp' is not defined"
     ]
    }
   ],
   "source": [
    "for c, v in comp.X.items():\n",
    "    print(f\"{str(c):6} : {v:20.12g}\")"
   ]
  },
  {
   "cell_type": "code",
   "execution_count": 5,
   "metadata": {
    "editable": true,
    "execution": {
     "iopub.execute_input": "2024-10-17T07:30:49.607849Z",
     "iopub.status.busy": "2024-10-17T07:30:49.607518Z",
     "iopub.status.idle": "2024-10-17T07:30:49.619077Z",
     "shell.execute_reply": "2024-10-17T07:30:49.618615Z"
    },
    "slideshow": {
     "slide_type": ""
    },
    "tags": []
   },
   "outputs": [
    {
     "ename": "NameError",
     "evalue": "name 'sol' is not defined",
     "output_type": "error",
     "traceback": [
      "\u001b[0;31m---------------------------------------------------------------------------\u001b[0m",
      "\u001b[0;31mNameError\u001b[0m                                 Traceback (most recent call last)",
      "Cell \u001b[0;32mIn[5], line 1\u001b[0m\n\u001b[0;32m----> 1\u001b[0m \u001b[38;5;28mprint\u001b[39m(\u001b[38;5;124mf\u001b[39m\u001b[38;5;124m\"\u001b[39m\u001b[38;5;124mAfter solving, the chemical potential for proton and neutron are \u001b[39m\u001b[38;5;132;01m{\u001b[39;00m\u001b[43msol\u001b[49m[\u001b[38;5;241m0\u001b[39m]\u001b[38;5;132;01m:\u001b[39;00m\u001b[38;5;124m10.7f\u001b[39m\u001b[38;5;132;01m}\u001b[39;00m\u001b[38;5;124m and \u001b[39m\u001b[38;5;132;01m{\u001b[39;00msol[\u001b[38;5;241m1\u001b[39m]\u001b[38;5;132;01m:\u001b[39;00m\u001b[38;5;124m10.7f\u001b[39m\u001b[38;5;132;01m}\u001b[39;00m\u001b[38;5;124m\"\u001b[39m)\n",
      "\u001b[0;31mNameError\u001b[0m: name 'sol' is not defined"
     ]
    }
   ],
   "source": [
    "print(f\"After solving, the chemical potential for proton and neutron are {sol[0]:10.7f} and {sol[1]:10.7f}\")"
   ]
  },
  {
   "cell_type": "markdown",
   "metadata": {
    "editable": true,
    "slideshow": {
     "slide_type": ""
    },
    "tags": []
   },
   "source": [
    "For $\\rho = 10^7~\\mathrm{g~cm^{-3}}$ and electron fraction, $Y_e = 0.5$, we can explore how the NSE state changes with temperature.\n",
    "\n",
    "Here we used a guess for chemical potential of proton and neutron of -6.0 and -11.5, respectively."
   ]
  },
  {
   "cell_type": "code",
   "execution_count": 6,
   "metadata": {
    "editable": true,
    "execution": {
     "iopub.execute_input": "2024-10-17T07:30:49.620635Z",
     "iopub.status.busy": "2024-10-17T07:30:49.620375Z",
     "iopub.status.idle": "2024-10-17T07:30:49.634803Z",
     "shell.execute_reply": "2024-10-17T07:30:49.634365Z"
    },
    "slideshow": {
     "slide_type": ""
    },
    "tags": []
   },
   "outputs": [
    {
     "ename": "NameError",
     "evalue": "name 'np' is not defined",
     "output_type": "error",
     "traceback": [
      "\u001b[0;31m---------------------------------------------------------------------------\u001b[0m",
      "\u001b[0;31mNameError\u001b[0m                                 Traceback (most recent call last)",
      "Cell \u001b[0;32mIn[6], line 3\u001b[0m\n\u001b[1;32m      1\u001b[0m rho \u001b[38;5;241m=\u001b[39m \u001b[38;5;241m1e7\u001b[39m\n\u001b[1;32m      2\u001b[0m ye \u001b[38;5;241m=\u001b[39m \u001b[38;5;241m0.5\u001b[39m\n\u001b[0;32m----> 3\u001b[0m temps \u001b[38;5;241m=\u001b[39m \u001b[43mnp\u001b[49m\u001b[38;5;241m.\u001b[39mlinspace(\u001b[38;5;241m2.5\u001b[39m, \u001b[38;5;241m12.0\u001b[39m, \u001b[38;5;241m100\u001b[39m)\n\u001b[1;32m      4\u001b[0m X_s \u001b[38;5;241m=\u001b[39m []\n\u001b[1;32m      6\u001b[0m guess \u001b[38;5;241m=\u001b[39m [\u001b[38;5;241m-\u001b[39m\u001b[38;5;241m6.0\u001b[39m, \u001b[38;5;241m-\u001b[39m\u001b[38;5;241m11.5\u001b[39m]\n",
      "\u001b[0;31mNameError\u001b[0m: name 'np' is not defined"
     ]
    }
   ],
   "source": [
    "rho = 1e7\n",
    "ye = 0.5\n",
    "temps = np.linspace(2.5, 12.0, 100)\n",
    "X_s = []\n",
    "\n",
    "guess = [-6.0, -11.5]\n",
    "for i, temp in enumerate(temps):\n",
    "    nse_comp, sol = nse.get_comp_nse(rho, temp*1.0e9, ye, init_guess=guess, \n",
    "                                     use_coulomb_corr=True, return_sol=True)\n",
    "    guess = sol\n",
    "    nse_X_s = [nse_comp.X[nuc] for nuc in nse_comp.X]\n",
    "    X_s.append(nse_X_s)"
   ]
  },
  {
   "cell_type": "code",
   "execution_count": 7,
   "metadata": {
    "editable": true,
    "execution": {
     "iopub.execute_input": "2024-10-17T07:30:49.636235Z",
     "iopub.status.busy": "2024-10-17T07:30:49.636076Z",
     "iopub.status.idle": "2024-10-17T07:30:49.651030Z",
     "shell.execute_reply": "2024-10-17T07:30:49.650589Z"
    },
    "slideshow": {
     "slide_type": ""
    },
    "tags": []
   },
   "outputs": [
    {
     "ename": "NameError",
     "evalue": "name 'np' is not defined",
     "output_type": "error",
     "traceback": [
      "\u001b[0;31m---------------------------------------------------------------------------\u001b[0m",
      "\u001b[0;31mNameError\u001b[0m                                 Traceback (most recent call last)",
      "Cell \u001b[0;32mIn[7], line 1\u001b[0m\n\u001b[0;32m----> 1\u001b[0m X_s \u001b[38;5;241m=\u001b[39m \u001b[43mnp\u001b[49m\u001b[38;5;241m.\u001b[39marray(X_s)\n\u001b[1;32m      2\u001b[0m nuc_names \u001b[38;5;241m=\u001b[39m nse\u001b[38;5;241m.\u001b[39mget_nuclei()\n\u001b[1;32m      4\u001b[0m low_limit \u001b[38;5;241m=\u001b[39m \u001b[38;5;241m1e-2\u001b[39m\n",
      "\u001b[0;31mNameError\u001b[0m: name 'np' is not defined"
     ]
    }
   ],
   "source": [
    "X_s = np.array(X_s)\n",
    "nuc_names = nse.get_nuclei()\n",
    "\n",
    "low_limit = 1e-2\n",
    "fig, ax = plt.subplots()\n",
    "\n",
    "for k in range(len(nuc_names)):\n",
    "    line, = ax.plot(temps, X_s[:,k])\n",
    "    if (max(X_s[:,k]) > low_limit):\n",
    "        line.set_label(str(nuc_names[k]))\n",
    "\n",
    "ax.legend(loc = \"upper right\")\n",
    "ax.set_xlabel(r'Temp $[\\times 10^9 K]$')\n",
    "ax.set_ylabel('Mass Fraction')\n",
    "ax.set_yscale('log')\n",
    "ax.set_ylim([low_limit,1.1])\n",
    "ax.set_title(rf\"$Y_e = {ye}$, $\\rho = {rho:6.3g}$\")\n",
    "\n",
    "fig.set_size_inches((7, 6))"
   ]
  },
  {
   "cell_type": "markdown",
   "metadata": {
    "editable": true,
    "slideshow": {
     "slide_type": ""
    },
    "tags": []
   },
   "source": [
    "For $\\rho = 10^7~\\mathrm{g~cm^{-3}}$ and a relatively high temperature of $T = 6 \\times 10^9~\\mathrm{K}$, we can look at how the NSE state changes with varying $Y_e$.\n",
    "\n",
    "Note: there will be a lowest $Y_e$ that is attainable by the network, depending on what species are represented.  As long as protons are in the network, we can reach a $Y_e$ of $1$."
   ]
  },
  {
   "cell_type": "code",
   "execution_count": 8,
   "metadata": {
    "editable": true,
    "execution": {
     "iopub.execute_input": "2024-10-17T07:30:49.652575Z",
     "iopub.status.busy": "2024-10-17T07:30:49.652409Z",
     "iopub.status.idle": "2024-10-17T07:30:49.664417Z",
     "shell.execute_reply": "2024-10-17T07:30:49.663987Z"
    },
    "slideshow": {
     "slide_type": ""
    },
    "tags": []
   },
   "outputs": [
    {
     "ename": "NameError",
     "evalue": "name 'nse' is not defined",
     "output_type": "error",
     "traceback": [
      "\u001b[0;31m---------------------------------------------------------------------------\u001b[0m",
      "\u001b[0;31mNameError\u001b[0m                                 Traceback (most recent call last)",
      "Cell \u001b[0;32mIn[8], line 1\u001b[0m\n\u001b[0;32m----> 1\u001b[0m ye_low \u001b[38;5;241m=\u001b[39m \u001b[38;5;28mmin\u001b[39m(nuc\u001b[38;5;241m.\u001b[39mZ\u001b[38;5;241m/\u001b[39mnuc\u001b[38;5;241m.\u001b[39mA \u001b[38;5;28;01mfor\u001b[39;00m nuc \u001b[38;5;129;01min\u001b[39;00m \u001b[43mnse\u001b[49m\u001b[38;5;241m.\u001b[39munique_nuclei)\n",
      "\u001b[0;31mNameError\u001b[0m: name 'nse' is not defined"
     ]
    }
   ],
   "source": [
    "ye_low = min(nuc.Z/nuc.A for nuc in nse.unique_nuclei)"
   ]
  },
  {
   "cell_type": "code",
   "execution_count": 9,
   "metadata": {
    "editable": true,
    "execution": {
     "iopub.execute_input": "2024-10-17T07:30:49.665879Z",
     "iopub.status.busy": "2024-10-17T07:30:49.665698Z",
     "iopub.status.idle": "2024-10-17T07:30:49.679395Z",
     "shell.execute_reply": "2024-10-17T07:30:49.678837Z"
    },
    "slideshow": {
     "slide_type": ""
    },
    "tags": []
   },
   "outputs": [
    {
     "ename": "NameError",
     "evalue": "name 'np' is not defined",
     "output_type": "error",
     "traceback": [
      "\u001b[0;31m---------------------------------------------------------------------------\u001b[0m",
      "\u001b[0;31mNameError\u001b[0m                                 Traceback (most recent call last)",
      "Cell \u001b[0;32mIn[9], line 2\u001b[0m\n\u001b[1;32m      1\u001b[0m rho \u001b[38;5;241m=\u001b[39m \u001b[38;5;241m1e7\u001b[39m\n\u001b[0;32m----> 2\u001b[0m ye_s \u001b[38;5;241m=\u001b[39m \u001b[43mnp\u001b[49m\u001b[38;5;241m.\u001b[39mlinspace(ye_low, \u001b[38;5;241m0.65\u001b[39m, \u001b[38;5;241m100\u001b[39m)\n\u001b[1;32m      3\u001b[0m temp \u001b[38;5;241m=\u001b[39m \u001b[38;5;241m6.0e9\u001b[39m\n\u001b[1;32m      4\u001b[0m X_s_1 \u001b[38;5;241m=\u001b[39m []\n",
      "\u001b[0;31mNameError\u001b[0m: name 'np' is not defined"
     ]
    }
   ],
   "source": [
    "rho = 1e7\n",
    "ye_s = np.linspace(ye_low, 0.65, 100)\n",
    "temp = 6.0e9\n",
    "X_s_1 = []\n",
    "\n",
    "guess = [-6.0, -11.5]\n",
    "for i, ye in enumerate(ye_s):\n",
    "    nse_comp_1, sol = nse.get_comp_nse(rho, temp, ye, init_guess=guess, \n",
    "                                       use_coulomb_corr=True, return_sol=True)\n",
    "    guess = sol\n",
    "    nse_X_s_1 = [nse_comp_1.X[nuc] for nuc in nse_comp_1.X]\n",
    "    X_s_1.append(nse_X_s_1)"
   ]
  },
  {
   "cell_type": "code",
   "execution_count": 10,
   "metadata": {
    "editable": true,
    "execution": {
     "iopub.execute_input": "2024-10-17T07:30:49.681093Z",
     "iopub.status.busy": "2024-10-17T07:30:49.680708Z",
     "iopub.status.idle": "2024-10-17T07:30:49.695236Z",
     "shell.execute_reply": "2024-10-17T07:30:49.694796Z"
    },
    "slideshow": {
     "slide_type": ""
    },
    "tags": []
   },
   "outputs": [
    {
     "ename": "NameError",
     "evalue": "name 'np' is not defined",
     "output_type": "error",
     "traceback": [
      "\u001b[0;31m---------------------------------------------------------------------------\u001b[0m",
      "\u001b[0;31mNameError\u001b[0m                                 Traceback (most recent call last)",
      "Cell \u001b[0;32mIn[10], line 1\u001b[0m\n\u001b[0;32m----> 1\u001b[0m X_s_1 \u001b[38;5;241m=\u001b[39m \u001b[43mnp\u001b[49m\u001b[38;5;241m.\u001b[39marray(X_s_1)\n\u001b[1;32m      2\u001b[0m nuc_names \u001b[38;5;241m=\u001b[39m nse\u001b[38;5;241m.\u001b[39mget_nuclei()\n\u001b[1;32m      4\u001b[0m fig, ax \u001b[38;5;241m=\u001b[39m plt\u001b[38;5;241m.\u001b[39msubplots()\n",
      "\u001b[0;31mNameError\u001b[0m: name 'np' is not defined"
     ]
    }
   ],
   "source": [
    "X_s_1 = np.array(X_s_1)\n",
    "nuc_names = nse.get_nuclei()\n",
    "\n",
    "fig, ax = plt.subplots()\n",
    "\n",
    "for k in range(len(nuc_names)):\n",
    "    line, = ax.plot(ye_s, X_s_1[:,k])\n",
    "    if (max(X_s_1[:,k]) > 0.01):\n",
    "        line.set_label(str(nuc_names[k]))\n",
    "\n",
    "ax.legend(loc=\"best\")\n",
    "ax.set_xlabel('ye')\n",
    "ax.set_ylabel('Mass Fraction')\n",
    "ax.set_yscale('log')\n",
    "ax.set_ylim([0.01,1])\n",
    "ax.set_title(rf\"$\\rho = {rho:6.3g}$ and $T={temp:6.3g}$\")\n",
    "\n",
    "fig.set_size_inches((7, 6))"
   ]
  }
 ],
 "metadata": {
  "kernelspec": {
   "display_name": "Python 3 (ipykernel)",
   "language": "python",
   "name": "python3"
  },
  "language_info": {
   "codemirror_mode": {
    "name": "ipython",
    "version": 3
   },
   "file_extension": ".py",
   "mimetype": "text/x-python",
   "name": "python",
   "nbconvert_exporter": "python",
   "pygments_lexer": "ipython3",
   "version": "3.11.10"
  }
 },
 "nbformat": 4,
 "nbformat_minor": 4
}
