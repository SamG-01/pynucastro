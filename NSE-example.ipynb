{
 "cells": [
  {
   "cell_type": "markdown",
   "metadata": {},
   "source": [
    "# Solving for  nuclear statistical equilibrium"
   ]
  },
  {
   "cell_type": "markdown",
   "metadata": {},
   "source": [
    "pynucastro is able to calculate the abundances at nuclear statistical equilibrium of a given reaction network.\n",
    "\n",
    "The constrained equations are setup following\n",
    "<cite data-cite-t=\"calder:2007\">Calder et al. (2007)</cite> and\n",
    "<cite data-cite-t=\"seitenzahl:2009\">Seitenzahl et al. (2009)</cite>\n",
    "and solved using `scipy.optimize.fsolve()`.\n",
    "\n",
    "Here we show how to find the NSE state of a set of nuclei."
   ]
  },
  {
   "cell_type": "code",
   "execution_count": 1,
   "metadata": {
    "execution": {
     "iopub.execute_input": "2024-10-10T10:02:42.436941Z",
     "iopub.status.busy": "2024-10-10T10:02:42.436774Z",
     "iopub.status.idle": "2024-10-10T10:02:44.250815Z",
     "shell.execute_reply": "2024-10-10T10:02:44.250267Z"
    },
    "tags": []
   },
   "outputs": [],
   "source": [
    "import pynucastro as pyna\n",
    "import numpy as np\n",
    "import matplotlib.pyplot as plt"
   ]
  },
  {
   "cell_type": "markdown",
   "metadata": {},
   "source": [
    "We start by creating a `Library` object that reads all the ReacLib rates and link different nuclei of choice. \n",
    "\n",
    "Then initialize `NSENetwork` by using the the rates created by the `Library` object."
   ]
  },
  {
   "cell_type": "code",
   "execution_count": 2,
   "metadata": {
    "execution": {
     "iopub.execute_input": "2024-10-10T10:02:44.253155Z",
     "iopub.status.busy": "2024-10-10T10:02:44.252852Z",
     "iopub.status.idle": "2024-10-10T10:02:44.674616Z",
     "shell.execute_reply": "2024-10-10T10:02:44.674074Z"
    },
    "tags": []
   },
   "outputs": [
    {
     "ename": "RateFileError",
     "evalue": "File 'reaclib_default2_20220329' not found in the working directory, /opt/hostedtoolcache/Python/3.11.10/x64/lib/python3.11/site-packages/pynucastro/rates/library, or /opt/hostedtoolcache/Python/3.11.10/x64/lib/python3.11/site-packages/pynucastro/rates/tabular",
     "output_type": "error",
     "traceback": [
      "\u001b[0;31m---------------------------------------------------------------------------\u001b[0m",
      "\u001b[0;31mRateFileError\u001b[0m                             Traceback (most recent call last)",
      "Cell \u001b[0;32mIn[2], line 1\u001b[0m\n\u001b[0;32m----> 1\u001b[0m library \u001b[38;5;241m=\u001b[39m \u001b[43mpyna\u001b[49m\u001b[38;5;241;43m.\u001b[39;49m\u001b[43mReacLibLibrary\u001b[49m\u001b[43m(\u001b[49m\u001b[43m)\u001b[49m\n\u001b[1;32m      3\u001b[0m subch_full \u001b[38;5;241m=\u001b[39m library\u001b[38;5;241m.\u001b[39mlinking_nuclei([\u001b[38;5;124m\"\u001b[39m\u001b[38;5;124mp\u001b[39m\u001b[38;5;124m\"\u001b[39m, \u001b[38;5;124m\"\u001b[39m\u001b[38;5;124mhe4\u001b[39m\u001b[38;5;124m\"\u001b[39m,\n\u001b[1;32m      4\u001b[0m                                      \u001b[38;5;124m\"\u001b[39m\u001b[38;5;124mc12\u001b[39m\u001b[38;5;124m\"\u001b[39m, \u001b[38;5;124m\"\u001b[39m\u001b[38;5;124mn13\u001b[39m\u001b[38;5;124m\"\u001b[39m, \u001b[38;5;124m\"\u001b[39m\u001b[38;5;124mn14\u001b[39m\u001b[38;5;124m\"\u001b[39m,\n\u001b[1;32m      5\u001b[0m                                      \u001b[38;5;124m\"\u001b[39m\u001b[38;5;124mo16\u001b[39m\u001b[38;5;124m\"\u001b[39m, \u001b[38;5;124m\"\u001b[39m\u001b[38;5;124mf18\u001b[39m\u001b[38;5;124m\"\u001b[39m, \u001b[38;5;124m\"\u001b[39m\u001b[38;5;124mne20\u001b[39m\u001b[38;5;124m\"\u001b[39m,\n\u001b[0;32m   (...)\u001b[0m\n\u001b[1;32m     11\u001b[0m                                      \u001b[38;5;124m\"\u001b[39m\u001b[38;5;124mcr48\u001b[39m\u001b[38;5;124m\"\u001b[39m, \u001b[38;5;124m\"\u001b[39m\u001b[38;5;124mmn51\u001b[39m\u001b[38;5;124m\"\u001b[39m,\n\u001b[1;32m     12\u001b[0m                                      \u001b[38;5;124m\"\u001b[39m\u001b[38;5;124mfe52\u001b[39m\u001b[38;5;124m\"\u001b[39m,\u001b[38;5;124m\"\u001b[39m\u001b[38;5;124mco55\u001b[39m\u001b[38;5;124m\"\u001b[39m,\u001b[38;5;124m\"\u001b[39m\u001b[38;5;124mni56\u001b[39m\u001b[38;5;124m\"\u001b[39m])\n\u001b[1;32m     14\u001b[0m nse \u001b[38;5;241m=\u001b[39m pyna\u001b[38;5;241m.\u001b[39mNSENetwork(libraries\u001b[38;5;241m=\u001b[39msubch_full)\n",
      "File \u001b[0;32m/opt/hostedtoolcache/Python/3.11.10/x64/lib/python3.11/site-packages/pynucastro/rates/library.py:698\u001b[0m, in \u001b[0;36mReacLibLibrary.__init__\u001b[0;34m(self)\u001b[0m\n\u001b[1;32m    696\u001b[0m \u001b[38;5;28;01mdef\u001b[39;00m \u001b[38;5;21m__init__\u001b[39m(\u001b[38;5;28mself\u001b[39m):\n\u001b[1;32m    697\u001b[0m     libfile \u001b[38;5;241m=\u001b[39m \u001b[38;5;124m'\u001b[39m\u001b[38;5;124mreaclib_default2_20220329\u001b[39m\u001b[38;5;124m'\u001b[39m\n\u001b[0;32m--> 698\u001b[0m     \u001b[43mLibrary\u001b[49m\u001b[38;5;241;43m.\u001b[39;49m\u001b[38;5;21;43m__init__\u001b[39;49m\u001b[43m(\u001b[49m\u001b[38;5;28;43mself\u001b[39;49m\u001b[43m,\u001b[49m\u001b[43m \u001b[49m\u001b[43mlibfile\u001b[49m\u001b[38;5;241;43m=\u001b[39;49m\u001b[43mlibfile\u001b[49m\u001b[43m)\u001b[49m\n",
      "File \u001b[0;32m/opt/hostedtoolcache/Python/3.11.10/x64/lib/python3.11/site-packages/pynucastro/rates/library.py:141\u001b[0m, in \u001b[0;36mLibrary.__init__\u001b[0;34m(self, libfile, rates)\u001b[0m\n\u001b[1;32m    138\u001b[0m \u001b[38;5;28mself\u001b[39m\u001b[38;5;241m.\u001b[39m_library_source_lines \u001b[38;5;241m=\u001b[39m collections\u001b[38;5;241m.\u001b[39mdeque()\n\u001b[1;32m    140\u001b[0m \u001b[38;5;28;01mif\u001b[39;00m \u001b[38;5;28mself\u001b[39m\u001b[38;5;241m.\u001b[39m_library_file:\n\u001b[0;32m--> 141\u001b[0m     \u001b[38;5;28mself\u001b[39m\u001b[38;5;241m.\u001b[39m_library_file \u001b[38;5;241m=\u001b[39m \u001b[43m_find_rate_file\u001b[49m\u001b[43m(\u001b[49m\u001b[38;5;28;43mself\u001b[39;49m\u001b[38;5;241;43m.\u001b[39;49m\u001b[43m_library_file\u001b[49m\u001b[43m)\u001b[49m\n\u001b[1;32m    142\u001b[0m     \u001b[38;5;28mself\u001b[39m\u001b[38;5;241m.\u001b[39m_read_library_file()\n",
      "File \u001b[0;32m/opt/hostedtoolcache/Python/3.11.10/x64/lib/python3.11/site-packages/pynucastro/rates/rate.py:100\u001b[0m, in \u001b[0;36m_find_rate_file\u001b[0;34m(ratename)\u001b[0m\n\u001b[1;32m     97\u001b[0m         \u001b[38;5;28;01mreturn\u001b[39;00m x\u001b[38;5;241m.\u001b[39mresolve()\n\u001b[1;32m     99\u001b[0m \u001b[38;5;66;03m# notify user we can't find the file\u001b[39;00m\n\u001b[0;32m--> 100\u001b[0m \u001b[38;5;28;01mraise\u001b[39;00m RateFileError(\u001b[38;5;124mf\u001b[39m\u001b[38;5;124m'\u001b[39m\u001b[38;5;124mFile \u001b[39m\u001b[38;5;132;01m{\u001b[39;00mratename\u001b[38;5;132;01m!r}\u001b[39;00m\u001b[38;5;124m not found in the working directory, \u001b[39m\u001b[38;5;132;01m{\u001b[39;00m_pynucastro_rates_dir\u001b[38;5;132;01m}\u001b[39;00m\u001b[38;5;124m, or \u001b[39m\u001b[38;5;132;01m{\u001b[39;00m_pynucastro_tabular_dir\u001b[38;5;132;01m}\u001b[39;00m\u001b[38;5;124m'\u001b[39m)\n",
      "\u001b[0;31mRateFileError\u001b[0m: File 'reaclib_default2_20220329' not found in the working directory, /opt/hostedtoolcache/Python/3.11.10/x64/lib/python3.11/site-packages/pynucastro/rates/library, or /opt/hostedtoolcache/Python/3.11.10/x64/lib/python3.11/site-packages/pynucastro/rates/tabular"
     ]
    }
   ],
   "source": [
    "library = pyna.ReacLibLibrary()\n",
    "\n",
    "subch_full = library.linking_nuclei([\"p\", \"he4\",\n",
    "                                     \"c12\", \"n13\", \"n14\",\n",
    "                                     \"o16\", \"f18\", \"ne20\",\n",
    "                                     \"ne21\", \"na22\", \"na23\",\n",
    "                                     \"mg24\", \"al27\", \"si28\",\n",
    "                                     \"p31\", \"s32\", \"cl35\",\n",
    "                                     \"ar36\", \"k39\", \"ca40\",\n",
    "                                     \"sc43\", \"ti44\", \"v47\",\n",
    "                                     \"cr48\", \"mn51\",\n",
    "                                     \"fe52\",\"co55\",\"ni56\"])\n",
    "\n",
    "nse = pyna.NSENetwork(libraries=subch_full)"
   ]
  },
  {
   "cell_type": "markdown",
   "metadata": {},
   "source": [
    "`get_comp_nse(rho,T,ye)` is a method of `NSEState` that returns composition at NSE as an object `Composition` by providing density, temperature, and a presribed electron fraction. \n",
    "\n",
    "There is pre-set initial guess for the proton and neutron chemical potentials, however one should adjust the initial guess, accordingly if no solutions are found or taking a long time as the algorithm is searching for the correct initial guess. To pass in the initial guess, set `initial_guess=guess`. `guess` is a user-supplied list of the form `[mu_p, mu_n]`, where `mu_p` and `mu_n` are the chemical potential for proton and neutron, respectively.\n",
    "\n",
    "It has options of incorporating coulomb correction terms by let `use_coulomb_corr=True`, and return the solution of proton and neutron chemical potentials by `return_sol=True`."
   ]
  },
  {
   "cell_type": "code",
   "execution_count": 3,
   "metadata": {
    "editable": true,
    "execution": {
     "iopub.execute_input": "2024-10-10T10:02:44.676393Z",
     "iopub.status.busy": "2024-10-10T10:02:44.676221Z",
     "iopub.status.idle": "2024-10-10T10:02:44.689789Z",
     "shell.execute_reply": "2024-10-10T10:02:44.689219Z"
    },
    "slideshow": {
     "slide_type": ""
    },
    "tags": [
     "nbval-ignore-output"
    ]
   },
   "outputs": [
    {
     "ename": "NameError",
     "evalue": "name 'nse' is not defined",
     "output_type": "error",
     "traceback": [
      "\u001b[0;31m---------------------------------------------------------------------------\u001b[0m",
      "\u001b[0;31mNameError\u001b[0m                                 Traceback (most recent call last)",
      "Cell \u001b[0;32mIn[3], line 1\u001b[0m\n\u001b[0;32m----> 1\u001b[0m comp, sol \u001b[38;5;241m=\u001b[39m \u001b[43mnse\u001b[49m\u001b[38;5;241m.\u001b[39mget_comp_nse(\u001b[38;5;241m1e7\u001b[39m, \u001b[38;5;241m6e9\u001b[39m, \u001b[38;5;241m0.50\u001b[39m, use_coulomb_corr\u001b[38;5;241m=\u001b[39m\u001b[38;5;28;01mTrue\u001b[39;00m, return_sol\u001b[38;5;241m=\u001b[39m\u001b[38;5;28;01mTrue\u001b[39;00m)\n\u001b[1;32m      2\u001b[0m fig \u001b[38;5;241m=\u001b[39m comp\u001b[38;5;241m.\u001b[39mplot()\n",
      "\u001b[0;31mNameError\u001b[0m: name 'nse' is not defined"
     ]
    }
   ],
   "source": [
    "comp, sol = nse.get_comp_nse(1e7, 6e9, 0.50, use_coulomb_corr=True, return_sol=True)\n",
    "fig = comp.plot()"
   ]
  },
  {
   "cell_type": "markdown",
   "metadata": {},
   "source": [
    "We can also explicitly print the composition"
   ]
  },
  {
   "cell_type": "code",
   "execution_count": 4,
   "metadata": {
    "editable": true,
    "execution": {
     "iopub.execute_input": "2024-10-10T10:02:44.691891Z",
     "iopub.status.busy": "2024-10-10T10:02:44.691257Z",
     "iopub.status.idle": "2024-10-10T10:02:44.704197Z",
     "shell.execute_reply": "2024-10-10T10:02:44.703745Z"
    },
    "slideshow": {
     "slide_type": ""
    },
    "tags": []
   },
   "outputs": [
    {
     "ename": "NameError",
     "evalue": "name 'comp' is not defined",
     "output_type": "error",
     "traceback": [
      "\u001b[0;31m---------------------------------------------------------------------------\u001b[0m",
      "\u001b[0;31mNameError\u001b[0m                                 Traceback (most recent call last)",
      "Cell \u001b[0;32mIn[4], line 1\u001b[0m\n\u001b[0;32m----> 1\u001b[0m \u001b[38;5;28;01mfor\u001b[39;00m c, v \u001b[38;5;129;01min\u001b[39;00m \u001b[43mcomp\u001b[49m\u001b[38;5;241m.\u001b[39mX\u001b[38;5;241m.\u001b[39mitems():\n\u001b[1;32m      2\u001b[0m     \u001b[38;5;28mprint\u001b[39m(\u001b[38;5;124mf\u001b[39m\u001b[38;5;124m\"\u001b[39m\u001b[38;5;132;01m{\u001b[39;00m\u001b[38;5;28mstr\u001b[39m(c)\u001b[38;5;132;01m:\u001b[39;00m\u001b[38;5;124m6\u001b[39m\u001b[38;5;132;01m}\u001b[39;00m\u001b[38;5;124m : \u001b[39m\u001b[38;5;132;01m{\u001b[39;00mv\u001b[38;5;132;01m:\u001b[39;00m\u001b[38;5;124m20.12g\u001b[39m\u001b[38;5;132;01m}\u001b[39;00m\u001b[38;5;124m\"\u001b[39m)\n",
      "\u001b[0;31mNameError\u001b[0m: name 'comp' is not defined"
     ]
    }
   ],
   "source": [
    "for c, v in comp.X.items():\n",
    "    print(f\"{str(c):6} : {v:20.12g}\")"
   ]
  },
  {
   "cell_type": "code",
   "execution_count": 5,
   "metadata": {
    "editable": true,
    "execution": {
     "iopub.execute_input": "2024-10-10T10:02:44.706134Z",
     "iopub.status.busy": "2024-10-10T10:02:44.705791Z",
     "iopub.status.idle": "2024-10-10T10:02:44.719512Z",
     "shell.execute_reply": "2024-10-10T10:02:44.718950Z"
    },
    "slideshow": {
     "slide_type": ""
    },
    "tags": []
   },
   "outputs": [
    {
     "ename": "NameError",
     "evalue": "name 'sol' is not defined",
     "output_type": "error",
     "traceback": [
      "\u001b[0;31m---------------------------------------------------------------------------\u001b[0m",
      "\u001b[0;31mNameError\u001b[0m                                 Traceback (most recent call last)",
      "Cell \u001b[0;32mIn[5], line 1\u001b[0m\n\u001b[0;32m----> 1\u001b[0m \u001b[38;5;28mprint\u001b[39m(\u001b[38;5;124mf\u001b[39m\u001b[38;5;124m\"\u001b[39m\u001b[38;5;124mAfter solving, the chemical potential for proton and neutron are \u001b[39m\u001b[38;5;132;01m{\u001b[39;00m\u001b[43msol\u001b[49m[\u001b[38;5;241m0\u001b[39m]\u001b[38;5;132;01m:\u001b[39;00m\u001b[38;5;124m10.7f\u001b[39m\u001b[38;5;132;01m}\u001b[39;00m\u001b[38;5;124m and \u001b[39m\u001b[38;5;132;01m{\u001b[39;00msol[\u001b[38;5;241m1\u001b[39m]\u001b[38;5;132;01m:\u001b[39;00m\u001b[38;5;124m10.7f\u001b[39m\u001b[38;5;132;01m}\u001b[39;00m\u001b[38;5;124m\"\u001b[39m)\n",
      "\u001b[0;31mNameError\u001b[0m: name 'sol' is not defined"
     ]
    }
   ],
   "source": [
    "print(f\"After solving, the chemical potential for proton and neutron are {sol[0]:10.7f} and {sol[1]:10.7f}\")"
   ]
  },
  {
   "cell_type": "markdown",
   "metadata": {
    "editable": true,
    "slideshow": {
     "slide_type": ""
    },
    "tags": []
   },
   "source": [
    "For $\\rho = 10^7~\\mathrm{g~cm^{-3}}$ and electron fraction, $Y_e = 0.5$, we can explore how the NSE state changes with temperature.\n",
    "\n",
    "Here we used a guess for chemical potential of proton and neutron of -6.0 and -11.5, respectively."
   ]
  },
  {
   "cell_type": "code",
   "execution_count": 6,
   "metadata": {
    "editable": true,
    "execution": {
     "iopub.execute_input": "2024-10-10T10:02:44.721288Z",
     "iopub.status.busy": "2024-10-10T10:02:44.720964Z",
     "iopub.status.idle": "2024-10-10T10:02:44.736816Z",
     "shell.execute_reply": "2024-10-10T10:02:44.736272Z"
    },
    "slideshow": {
     "slide_type": ""
    },
    "tags": []
   },
   "outputs": [
    {
     "ename": "NameError",
     "evalue": "name 'nse' is not defined",
     "output_type": "error",
     "traceback": [
      "\u001b[0;31m---------------------------------------------------------------------------\u001b[0m",
      "\u001b[0;31mNameError\u001b[0m                                 Traceback (most recent call last)",
      "Cell \u001b[0;32mIn[6], line 8\u001b[0m\n\u001b[1;32m      6\u001b[0m guess \u001b[38;5;241m=\u001b[39m [\u001b[38;5;241m-\u001b[39m\u001b[38;5;241m6.0\u001b[39m, \u001b[38;5;241m-\u001b[39m\u001b[38;5;241m11.5\u001b[39m]\n\u001b[1;32m      7\u001b[0m \u001b[38;5;28;01mfor\u001b[39;00m i, temp \u001b[38;5;129;01min\u001b[39;00m \u001b[38;5;28menumerate\u001b[39m(temps):\n\u001b[0;32m----> 8\u001b[0m     nse_comp, sol \u001b[38;5;241m=\u001b[39m \u001b[43mnse\u001b[49m\u001b[38;5;241m.\u001b[39mget_comp_nse(rho, temp\u001b[38;5;241m*\u001b[39m\u001b[38;5;241m1.0e9\u001b[39m, ye, init_guess\u001b[38;5;241m=\u001b[39mguess, \n\u001b[1;32m      9\u001b[0m                                      use_coulomb_corr\u001b[38;5;241m=\u001b[39m\u001b[38;5;28;01mTrue\u001b[39;00m, return_sol\u001b[38;5;241m=\u001b[39m\u001b[38;5;28;01mTrue\u001b[39;00m)\n\u001b[1;32m     10\u001b[0m     guess \u001b[38;5;241m=\u001b[39m sol\n\u001b[1;32m     11\u001b[0m     nse_X_s \u001b[38;5;241m=\u001b[39m [nse_comp\u001b[38;5;241m.\u001b[39mX[nuc] \u001b[38;5;28;01mfor\u001b[39;00m nuc \u001b[38;5;129;01min\u001b[39;00m nse_comp\u001b[38;5;241m.\u001b[39mX]\n",
      "\u001b[0;31mNameError\u001b[0m: name 'nse' is not defined"
     ]
    }
   ],
   "source": [
    "rho = 1e7\n",
    "ye = 0.5\n",
    "temps = np.linspace(2.5, 12.0, 100)\n",
    "X_s = []\n",
    "\n",
    "guess = [-6.0, -11.5]\n",
    "for i, temp in enumerate(temps):\n",
    "    nse_comp, sol = nse.get_comp_nse(rho, temp*1.0e9, ye, init_guess=guess, \n",
    "                                     use_coulomb_corr=True, return_sol=True)\n",
    "    guess = sol\n",
    "    nse_X_s = [nse_comp.X[nuc] for nuc in nse_comp.X]\n",
    "    X_s.append(nse_X_s)"
   ]
  },
  {
   "cell_type": "code",
   "execution_count": 7,
   "metadata": {
    "editable": true,
    "execution": {
     "iopub.execute_input": "2024-10-10T10:02:44.738784Z",
     "iopub.status.busy": "2024-10-10T10:02:44.738373Z",
     "iopub.status.idle": "2024-10-10T10:02:44.755183Z",
     "shell.execute_reply": "2024-10-10T10:02:44.754720Z"
    },
    "slideshow": {
     "slide_type": ""
    },
    "tags": []
   },
   "outputs": [
    {
     "ename": "NameError",
     "evalue": "name 'nse' is not defined",
     "output_type": "error",
     "traceback": [
      "\u001b[0;31m---------------------------------------------------------------------------\u001b[0m",
      "\u001b[0;31mNameError\u001b[0m                                 Traceback (most recent call last)",
      "Cell \u001b[0;32mIn[7], line 2\u001b[0m\n\u001b[1;32m      1\u001b[0m X_s \u001b[38;5;241m=\u001b[39m np\u001b[38;5;241m.\u001b[39marray(X_s)\n\u001b[0;32m----> 2\u001b[0m nuc_names \u001b[38;5;241m=\u001b[39m \u001b[43mnse\u001b[49m\u001b[38;5;241m.\u001b[39mget_nuclei()\n\u001b[1;32m      4\u001b[0m low_limit \u001b[38;5;241m=\u001b[39m \u001b[38;5;241m1e-2\u001b[39m\n\u001b[1;32m      5\u001b[0m fig, ax \u001b[38;5;241m=\u001b[39m plt\u001b[38;5;241m.\u001b[39msubplots()\n",
      "\u001b[0;31mNameError\u001b[0m: name 'nse' is not defined"
     ]
    }
   ],
   "source": [
    "X_s = np.array(X_s)\n",
    "nuc_names = nse.get_nuclei()\n",
    "\n",
    "low_limit = 1e-2\n",
    "fig, ax = plt.subplots()\n",
    "\n",
    "for k in range(len(nuc_names)):\n",
    "    line, = ax.plot(temps, X_s[:,k])\n",
    "    if (max(X_s[:,k]) > low_limit):\n",
    "        line.set_label(str(nuc_names[k]))\n",
    "\n",
    "ax.legend(loc = \"upper right\")\n",
    "ax.set_xlabel(r'Temp $[\\times 10^9 K]$')\n",
    "ax.set_ylabel('Mass Fraction')\n",
    "ax.set_yscale('log')\n",
    "ax.set_ylim([low_limit,1.1])\n",
    "ax.set_title(rf\"$Y_e = {ye}$, $\\rho = {rho:6.3g}$\")\n",
    "\n",
    "fig.set_size_inches((7, 6))"
   ]
  },
  {
   "cell_type": "markdown",
   "metadata": {
    "editable": true,
    "slideshow": {
     "slide_type": ""
    },
    "tags": []
   },
   "source": [
    "For $\\rho = 10^7~\\mathrm{g~cm^{-3}}$ and a relatively high temperature of $T = 6 \\times 10^9~\\mathrm{K}$, we can look at how the NSE state changes with varying $Y_e$.\n",
    "\n",
    "Note: there will be a lowest $Y_e$ that is attainable by the network, depending on what species are represented.  As long as protons are in the network, we can reach a $Y_e$ of $1$."
   ]
  },
  {
   "cell_type": "code",
   "execution_count": 8,
   "metadata": {
    "editable": true,
    "execution": {
     "iopub.execute_input": "2024-10-10T10:02:44.757024Z",
     "iopub.status.busy": "2024-10-10T10:02:44.756672Z",
     "iopub.status.idle": "2024-10-10T10:02:44.769522Z",
     "shell.execute_reply": "2024-10-10T10:02:44.769053Z"
    },
    "slideshow": {
     "slide_type": ""
    },
    "tags": []
   },
   "outputs": [
    {
     "ename": "NameError",
     "evalue": "name 'nse' is not defined",
     "output_type": "error",
     "traceback": [
      "\u001b[0;31m---------------------------------------------------------------------------\u001b[0m",
      "\u001b[0;31mNameError\u001b[0m                                 Traceback (most recent call last)",
      "Cell \u001b[0;32mIn[8], line 1\u001b[0m\n\u001b[0;32m----> 1\u001b[0m ye_low \u001b[38;5;241m=\u001b[39m \u001b[38;5;28mmin\u001b[39m(nuc\u001b[38;5;241m.\u001b[39mZ\u001b[38;5;241m/\u001b[39mnuc\u001b[38;5;241m.\u001b[39mA \u001b[38;5;28;01mfor\u001b[39;00m nuc \u001b[38;5;129;01min\u001b[39;00m \u001b[43mnse\u001b[49m\u001b[38;5;241m.\u001b[39munique_nuclei)\n",
      "\u001b[0;31mNameError\u001b[0m: name 'nse' is not defined"
     ]
    }
   ],
   "source": [
    "ye_low = min(nuc.Z/nuc.A for nuc in nse.unique_nuclei)"
   ]
  },
  {
   "cell_type": "code",
   "execution_count": 9,
   "metadata": {
    "editable": true,
    "execution": {
     "iopub.execute_input": "2024-10-10T10:02:44.771275Z",
     "iopub.status.busy": "2024-10-10T10:02:44.770942Z",
     "iopub.status.idle": "2024-10-10T10:02:44.786144Z",
     "shell.execute_reply": "2024-10-10T10:02:44.785703Z"
    },
    "slideshow": {
     "slide_type": ""
    },
    "tags": []
   },
   "outputs": [
    {
     "ename": "NameError",
     "evalue": "name 'ye_low' is not defined",
     "output_type": "error",
     "traceback": [
      "\u001b[0;31m---------------------------------------------------------------------------\u001b[0m",
      "\u001b[0;31mNameError\u001b[0m                                 Traceback (most recent call last)",
      "Cell \u001b[0;32mIn[9], line 2\u001b[0m\n\u001b[1;32m      1\u001b[0m rho \u001b[38;5;241m=\u001b[39m \u001b[38;5;241m1e7\u001b[39m\n\u001b[0;32m----> 2\u001b[0m ye_s \u001b[38;5;241m=\u001b[39m np\u001b[38;5;241m.\u001b[39mlinspace(\u001b[43mye_low\u001b[49m, \u001b[38;5;241m0.65\u001b[39m, \u001b[38;5;241m100\u001b[39m)\n\u001b[1;32m      3\u001b[0m temp \u001b[38;5;241m=\u001b[39m \u001b[38;5;241m6.0e9\u001b[39m\n\u001b[1;32m      4\u001b[0m X_s_1 \u001b[38;5;241m=\u001b[39m []\n",
      "\u001b[0;31mNameError\u001b[0m: name 'ye_low' is not defined"
     ]
    }
   ],
   "source": [
    "rho = 1e7\n",
    "ye_s = np.linspace(ye_low, 0.65, 100)\n",
    "temp = 6.0e9\n",
    "X_s_1 = []\n",
    "\n",
    "guess = [-6.0, -11.5]\n",
    "for i, ye in enumerate(ye_s):\n",
    "    nse_comp_1, sol = nse.get_comp_nse(rho, temp, ye, init_guess=guess, \n",
    "                                       use_coulomb_corr=True, return_sol=True)\n",
    "    guess = sol\n",
    "    nse_X_s_1 = [nse_comp_1.X[nuc] for nuc in nse_comp_1.X]\n",
    "    X_s_1.append(nse_X_s_1)"
   ]
  },
  {
   "cell_type": "code",
   "execution_count": 10,
   "metadata": {
    "editable": true,
    "execution": {
     "iopub.execute_input": "2024-10-10T10:02:44.787761Z",
     "iopub.status.busy": "2024-10-10T10:02:44.787593Z",
     "iopub.status.idle": "2024-10-10T10:02:44.804113Z",
     "shell.execute_reply": "2024-10-10T10:02:44.803643Z"
    },
    "slideshow": {
     "slide_type": ""
    },
    "tags": []
   },
   "outputs": [
    {
     "ename": "NameError",
     "evalue": "name 'X_s_1' is not defined",
     "output_type": "error",
     "traceback": [
      "\u001b[0;31m---------------------------------------------------------------------------\u001b[0m",
      "\u001b[0;31mNameError\u001b[0m                                 Traceback (most recent call last)",
      "Cell \u001b[0;32mIn[10], line 1\u001b[0m\n\u001b[0;32m----> 1\u001b[0m X_s_1 \u001b[38;5;241m=\u001b[39m np\u001b[38;5;241m.\u001b[39marray(\u001b[43mX_s_1\u001b[49m)\n\u001b[1;32m      2\u001b[0m nuc_names \u001b[38;5;241m=\u001b[39m nse\u001b[38;5;241m.\u001b[39mget_nuclei()\n\u001b[1;32m      4\u001b[0m fig, ax \u001b[38;5;241m=\u001b[39m plt\u001b[38;5;241m.\u001b[39msubplots()\n",
      "\u001b[0;31mNameError\u001b[0m: name 'X_s_1' is not defined"
     ]
    }
   ],
   "source": [
    "X_s_1 = np.array(X_s_1)\n",
    "nuc_names = nse.get_nuclei()\n",
    "\n",
    "fig, ax = plt.subplots()\n",
    "\n",
    "for k in range(len(nuc_names)):\n",
    "    line, = ax.plot(ye_s, X_s_1[:,k])\n",
    "    if (max(X_s_1[:,k]) > 0.01):\n",
    "        line.set_label(str(nuc_names[k]))\n",
    "\n",
    "ax.legend(loc=\"best\")\n",
    "ax.set_xlabel('ye')\n",
    "ax.set_ylabel('Mass Fraction')\n",
    "ax.set_yscale('log')\n",
    "ax.set_ylim([0.01,1])\n",
    "ax.set_title(rf\"$\\rho = {rho:6.3g}$ and $T={temp:6.3g}$\")\n",
    "\n",
    "fig.set_size_inches((7, 6))"
   ]
  }
 ],
 "metadata": {
  "kernelspec": {
   "display_name": "Python 3 (ipykernel)",
   "language": "python",
   "name": "python3"
  },
  "language_info": {
   "codemirror_mode": {
    "name": "ipython",
    "version": 3
   },
   "file_extension": ".py",
   "mimetype": "text/x-python",
   "name": "python",
   "nbconvert_exporter": "python",
   "pygments_lexer": "ipython3",
   "version": "3.11.10"
  }
 },
 "nbformat": 4,
 "nbformat_minor": 4
}
