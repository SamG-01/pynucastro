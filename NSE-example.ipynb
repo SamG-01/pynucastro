{
 "cells": [
  {
   "cell_type": "markdown",
   "metadata": {},
   "source": [
    "# Solving for  nuclear statistical equilibrium"
   ]
  },
  {
   "cell_type": "markdown",
   "metadata": {},
   "source": [
    "pynucastro is able to calculate the abundances at nuclear statistical equilibrium of a given reaction network.\n",
    "\n",
    "The constrained equations are setup following\n",
    "<cite data-cite-t=\"calder:2007\">Calder et al. (2007)</cite> and\n",
    "<cite data-cite-t=\"seitenzahl:2009\">Seitenzahl et al. (2009)</cite>\n",
    "and solved using `scipy.optimize.fsolve()`.\n",
    "\n",
    "Here we show how to find the NSE state of a set of nuclei."
   ]
  },
  {
   "cell_type": "code",
   "execution_count": 1,
   "metadata": {
    "execution": {
     "iopub.execute_input": "2024-10-17T09:01:25.572256Z",
     "iopub.status.busy": "2024-10-17T09:01:25.572094Z",
     "iopub.status.idle": "2024-10-17T09:01:27.343182Z",
     "shell.execute_reply": "2024-10-17T09:01:27.342643Z"
    },
    "tags": []
   },
   "outputs": [],
   "source": [
    "import pynucastro as pyna\n",
    "import numpy as np\n",
    "import matplotlib.pyplot as plt"
   ]
  },
  {
   "cell_type": "markdown",
   "metadata": {},
   "source": [
    "We start by creating a `Library` object that reads all the ReacLib rates and link different nuclei of choice. \n",
    "\n",
    "Then initialize `NSENetwork` by using the the rates created by the `Library` object."
   ]
  },
  {
   "cell_type": "code",
   "execution_count": 2,
   "metadata": {
    "execution": {
     "iopub.execute_input": "2024-10-17T09:01:27.345549Z",
     "iopub.status.busy": "2024-10-17T09:01:27.345087Z",
     "iopub.status.idle": "2024-10-17T09:01:31.805649Z",
     "shell.execute_reply": "2024-10-17T09:01:31.805091Z"
    },
    "tags": []
   },
   "outputs": [
    {
     "ename": "TypeError",
     "evalue": "argument of type 'NoneType' is not iterable",
     "output_type": "error",
     "traceback": [
      "\u001b[0;31m---------------------------------------------------------------------------\u001b[0m",
      "\u001b[0;31mTypeError\u001b[0m                                 Traceback (most recent call last)",
      "Cell \u001b[0;32mIn[2], line 14\u001b[0m\n\u001b[1;32m      1\u001b[0m library \u001b[38;5;241m=\u001b[39m pyna\u001b[38;5;241m.\u001b[39mReacLibLibrary()\n\u001b[1;32m      3\u001b[0m subch_full \u001b[38;5;241m=\u001b[39m library\u001b[38;5;241m.\u001b[39mlinking_nuclei([\u001b[38;5;124m\"\u001b[39m\u001b[38;5;124mp\u001b[39m\u001b[38;5;124m\"\u001b[39m, \u001b[38;5;124m\"\u001b[39m\u001b[38;5;124mhe4\u001b[39m\u001b[38;5;124m\"\u001b[39m,\n\u001b[1;32m      4\u001b[0m                                      \u001b[38;5;124m\"\u001b[39m\u001b[38;5;124mc12\u001b[39m\u001b[38;5;124m\"\u001b[39m, \u001b[38;5;124m\"\u001b[39m\u001b[38;5;124mn13\u001b[39m\u001b[38;5;124m\"\u001b[39m, \u001b[38;5;124m\"\u001b[39m\u001b[38;5;124mn14\u001b[39m\u001b[38;5;124m\"\u001b[39m,\n\u001b[1;32m      5\u001b[0m                                      \u001b[38;5;124m\"\u001b[39m\u001b[38;5;124mo16\u001b[39m\u001b[38;5;124m\"\u001b[39m, \u001b[38;5;124m\"\u001b[39m\u001b[38;5;124mf18\u001b[39m\u001b[38;5;124m\"\u001b[39m, \u001b[38;5;124m\"\u001b[39m\u001b[38;5;124mne20\u001b[39m\u001b[38;5;124m\"\u001b[39m,\n\u001b[0;32m   (...)\u001b[0m\n\u001b[1;32m     11\u001b[0m                                      \u001b[38;5;124m\"\u001b[39m\u001b[38;5;124mcr48\u001b[39m\u001b[38;5;124m\"\u001b[39m, \u001b[38;5;124m\"\u001b[39m\u001b[38;5;124mmn51\u001b[39m\u001b[38;5;124m\"\u001b[39m,\n\u001b[1;32m     12\u001b[0m                                      \u001b[38;5;124m\"\u001b[39m\u001b[38;5;124mfe52\u001b[39m\u001b[38;5;124m\"\u001b[39m,\u001b[38;5;124m\"\u001b[39m\u001b[38;5;124mco55\u001b[39m\u001b[38;5;124m\"\u001b[39m,\u001b[38;5;124m\"\u001b[39m\u001b[38;5;124mni56\u001b[39m\u001b[38;5;124m\"\u001b[39m])\n\u001b[0;32m---> 14\u001b[0m nse \u001b[38;5;241m=\u001b[39m \u001b[43mpyna\u001b[49m\u001b[38;5;241;43m.\u001b[39;49m\u001b[43mNSENetwork\u001b[49m\u001b[43m(\u001b[49m\u001b[43mlibraries\u001b[49m\u001b[38;5;241;43m=\u001b[39;49m\u001b[43msubch_full\u001b[49m\u001b[43m)\u001b[49m\n",
      "File \u001b[0;32m/opt/hostedtoolcache/Python/3.11.10/x64/lib/python3.11/site-packages/pynucastro/networks/rate_collection.py:475\u001b[0m, in \u001b[0;36mRateCollection.__init__\u001b[0;34m(self, rate_files, libraries, rates, inert_nuclei, symmetric_screening, do_screening)\u001b[0m\n\u001b[1;32m    473\u001b[0m             \u001b[38;5;28;01mraise\u001b[39;00m \u001b[38;5;167;01mValueError\u001b[39;00m(\u001b[38;5;124m'\u001b[39m\u001b[38;5;124mExpected Library object or list of Library objects passed as the libraries argument.\u001b[39m\u001b[38;5;124m'\u001b[39m)\n\u001b[1;32m    474\u001b[0m     \u001b[38;5;28;01mfor\u001b[39;00m lib \u001b[38;5;129;01min\u001b[39;00m libraries:\n\u001b[0;32m--> 475\u001b[0m         \u001b[43mcombined_library\u001b[49m\u001b[43m \u001b[49m\u001b[38;5;241;43m+\u001b[39;49m\u001b[38;5;241;43m=\u001b[39;49m\u001b[43m \u001b[49m\u001b[43mlib\u001b[49m\n\u001b[1;32m    477\u001b[0m \u001b[38;5;28mself\u001b[39m\u001b[38;5;241m.\u001b[39mrates \u001b[38;5;241m=\u001b[39m \u001b[38;5;28mself\u001b[39m\u001b[38;5;241m.\u001b[39mrates \u001b[38;5;241m+\u001b[39m combined_library\u001b[38;5;241m.\u001b[39mget_rates()\n\u001b[1;32m    479\u001b[0m \u001b[38;5;28mself\u001b[39m\u001b[38;5;241m.\u001b[39m_build_collection()\n",
      "File \u001b[0;32m/opt/hostedtoolcache/Python/3.11.10/x64/lib/python3.11/site-packages/pynucastro/rates/library.py:360\u001b[0m, in \u001b[0;36mLibrary.__add__\u001b[0;34m(self, other)\u001b[0m\n\u001b[1;32m    358\u001b[0m new_rates \u001b[38;5;241m=\u001b[39m \u001b[38;5;28mself\u001b[39m\u001b[38;5;241m.\u001b[39m_rates\n\u001b[1;32m    359\u001b[0m \u001b[38;5;28;01mfor\u001b[39;00m rid, r \u001b[38;5;129;01min\u001b[39;00m other\u001b[38;5;241m.\u001b[39m_rates\u001b[38;5;241m.\u001b[39mitems():\n\u001b[0;32m--> 360\u001b[0m     \u001b[38;5;28;01mif\u001b[39;00m \u001b[43mrid\u001b[49m\u001b[43m \u001b[49m\u001b[38;5;129;43;01min\u001b[39;49;00m\u001b[43m \u001b[49m\u001b[43mnew_rates\u001b[49m:\n\u001b[1;32m    361\u001b[0m         \u001b[38;5;28;01mif\u001b[39;00m r \u001b[38;5;241m!=\u001b[39m new_rates[rid]:\n\u001b[1;32m    362\u001b[0m             \u001b[38;5;28;01mraise\u001b[39;00m \u001b[38;5;167;01mValueError\u001b[39;00m(\u001b[38;5;124mf\u001b[39m\u001b[38;5;124m'\u001b[39m\u001b[38;5;124mrate \u001b[39m\u001b[38;5;132;01m{\u001b[39;00mr\u001b[38;5;132;01m}\u001b[39;00m\u001b[38;5;124m defined differently in libraries \u001b[39m\u001b[38;5;132;01m{\u001b[39;00m\u001b[38;5;28mself\u001b[39m\u001b[38;5;241m.\u001b[39m_library_file\u001b[38;5;132;01m}\u001b[39;00m\u001b[38;5;124m and \u001b[39m\u001b[38;5;132;01m{\u001b[39;00mother\u001b[38;5;241m.\u001b[39m_library_file\u001b[38;5;132;01m}\u001b[39;00m\u001b[38;5;124m'\u001b[39m)\n",
      "\u001b[0;31mTypeError\u001b[0m: argument of type 'NoneType' is not iterable"
     ]
    }
   ],
   "source": [
    "library = pyna.ReacLibLibrary()\n",
    "\n",
    "subch_full = library.linking_nuclei([\"p\", \"he4\",\n",
    "                                     \"c12\", \"n13\", \"n14\",\n",
    "                                     \"o16\", \"f18\", \"ne20\",\n",
    "                                     \"ne21\", \"na22\", \"na23\",\n",
    "                                     \"mg24\", \"al27\", \"si28\",\n",
    "                                     \"p31\", \"s32\", \"cl35\",\n",
    "                                     \"ar36\", \"k39\", \"ca40\",\n",
    "                                     \"sc43\", \"ti44\", \"v47\",\n",
    "                                     \"cr48\", \"mn51\",\n",
    "                                     \"fe52\",\"co55\",\"ni56\"])\n",
    "\n",
    "nse = pyna.NSENetwork(libraries=subch_full)"
   ]
  },
  {
   "cell_type": "markdown",
   "metadata": {},
   "source": [
    "`get_comp_nse(rho,T,ye)` is a method of `NSEState` that returns composition at NSE as an object `Composition` by providing density, temperature, and a presribed electron fraction. \n",
    "\n",
    "There is pre-set initial guess for the proton and neutron chemical potentials, however one should adjust the initial guess, accordingly if no solutions are found or taking a long time as the algorithm is searching for the correct initial guess. To pass in the initial guess, set `initial_guess=guess`. `guess` is a user-supplied list of the form `[mu_p, mu_n]`, where `mu_p` and `mu_n` are the chemical potential for proton and neutron, respectively.\n",
    "\n",
    "It has options of incorporating coulomb correction terms by let `use_coulomb_corr=True`, and return the solution of proton and neutron chemical potentials by `return_sol=True`."
   ]
  },
  {
   "cell_type": "code",
   "execution_count": 3,
   "metadata": {
    "editable": true,
    "execution": {
     "iopub.execute_input": "2024-10-17T09:01:31.807498Z",
     "iopub.status.busy": "2024-10-17T09:01:31.807321Z",
     "iopub.status.idle": "2024-10-17T09:01:31.821217Z",
     "shell.execute_reply": "2024-10-17T09:01:31.820671Z"
    },
    "slideshow": {
     "slide_type": ""
    },
    "tags": [
     "nbval-ignore-output"
    ]
   },
   "outputs": [
    {
     "ename": "NameError",
     "evalue": "name 'nse' is not defined",
     "output_type": "error",
     "traceback": [
      "\u001b[0;31m---------------------------------------------------------------------------\u001b[0m",
      "\u001b[0;31mNameError\u001b[0m                                 Traceback (most recent call last)",
      "Cell \u001b[0;32mIn[3], line 1\u001b[0m\n\u001b[0;32m----> 1\u001b[0m comp, sol \u001b[38;5;241m=\u001b[39m \u001b[43mnse\u001b[49m\u001b[38;5;241m.\u001b[39mget_comp_nse(\u001b[38;5;241m1e7\u001b[39m, \u001b[38;5;241m6e9\u001b[39m, \u001b[38;5;241m0.50\u001b[39m, use_coulomb_corr\u001b[38;5;241m=\u001b[39m\u001b[38;5;28;01mTrue\u001b[39;00m, return_sol\u001b[38;5;241m=\u001b[39m\u001b[38;5;28;01mTrue\u001b[39;00m)\n\u001b[1;32m      2\u001b[0m fig \u001b[38;5;241m=\u001b[39m comp\u001b[38;5;241m.\u001b[39mplot()\n",
      "\u001b[0;31mNameError\u001b[0m: name 'nse' is not defined"
     ]
    }
   ],
   "source": [
    "comp, sol = nse.get_comp_nse(1e7, 6e9, 0.50, use_coulomb_corr=True, return_sol=True)\n",
    "fig = comp.plot()"
   ]
  },
  {
   "cell_type": "markdown",
   "metadata": {},
   "source": [
    "We can also explicitly print the composition"
   ]
  },
  {
   "cell_type": "code",
   "execution_count": 4,
   "metadata": {
    "editable": true,
    "execution": {
     "iopub.execute_input": "2024-10-17T09:01:31.822952Z",
     "iopub.status.busy": "2024-10-17T09:01:31.822630Z",
     "iopub.status.idle": "2024-10-17T09:01:31.834613Z",
     "shell.execute_reply": "2024-10-17T09:01:31.834123Z"
    },
    "slideshow": {
     "slide_type": ""
    },
    "tags": []
   },
   "outputs": [
    {
     "ename": "NameError",
     "evalue": "name 'comp' is not defined",
     "output_type": "error",
     "traceback": [
      "\u001b[0;31m---------------------------------------------------------------------------\u001b[0m",
      "\u001b[0;31mNameError\u001b[0m                                 Traceback (most recent call last)",
      "Cell \u001b[0;32mIn[4], line 1\u001b[0m\n\u001b[0;32m----> 1\u001b[0m \u001b[38;5;28;01mfor\u001b[39;00m c, v \u001b[38;5;129;01min\u001b[39;00m \u001b[43mcomp\u001b[49m\u001b[38;5;241m.\u001b[39mX\u001b[38;5;241m.\u001b[39mitems():\n\u001b[1;32m      2\u001b[0m     \u001b[38;5;28mprint\u001b[39m(\u001b[38;5;124mf\u001b[39m\u001b[38;5;124m\"\u001b[39m\u001b[38;5;132;01m{\u001b[39;00m\u001b[38;5;28mstr\u001b[39m(c)\u001b[38;5;132;01m:\u001b[39;00m\u001b[38;5;124m6\u001b[39m\u001b[38;5;132;01m}\u001b[39;00m\u001b[38;5;124m : \u001b[39m\u001b[38;5;132;01m{\u001b[39;00mv\u001b[38;5;132;01m:\u001b[39;00m\u001b[38;5;124m20.12g\u001b[39m\u001b[38;5;132;01m}\u001b[39;00m\u001b[38;5;124m\"\u001b[39m)\n",
      "\u001b[0;31mNameError\u001b[0m: name 'comp' is not defined"
     ]
    }
   ],
   "source": [
    "for c, v in comp.X.items():\n",
    "    print(f\"{str(c):6} : {v:20.12g}\")"
   ]
  },
  {
   "cell_type": "code",
   "execution_count": 5,
   "metadata": {
    "editable": true,
    "execution": {
     "iopub.execute_input": "2024-10-17T09:01:31.836558Z",
     "iopub.status.busy": "2024-10-17T09:01:31.836097Z",
     "iopub.status.idle": "2024-10-17T09:01:31.848254Z",
     "shell.execute_reply": "2024-10-17T09:01:31.847698Z"
    },
    "slideshow": {
     "slide_type": ""
    },
    "tags": []
   },
   "outputs": [
    {
     "ename": "NameError",
     "evalue": "name 'sol' is not defined",
     "output_type": "error",
     "traceback": [
      "\u001b[0;31m---------------------------------------------------------------------------\u001b[0m",
      "\u001b[0;31mNameError\u001b[0m                                 Traceback (most recent call last)",
      "Cell \u001b[0;32mIn[5], line 1\u001b[0m\n\u001b[0;32m----> 1\u001b[0m \u001b[38;5;28mprint\u001b[39m(\u001b[38;5;124mf\u001b[39m\u001b[38;5;124m\"\u001b[39m\u001b[38;5;124mAfter solving, the chemical potential for proton and neutron are \u001b[39m\u001b[38;5;132;01m{\u001b[39;00m\u001b[43msol\u001b[49m[\u001b[38;5;241m0\u001b[39m]\u001b[38;5;132;01m:\u001b[39;00m\u001b[38;5;124m10.7f\u001b[39m\u001b[38;5;132;01m}\u001b[39;00m\u001b[38;5;124m and \u001b[39m\u001b[38;5;132;01m{\u001b[39;00msol[\u001b[38;5;241m1\u001b[39m]\u001b[38;5;132;01m:\u001b[39;00m\u001b[38;5;124m10.7f\u001b[39m\u001b[38;5;132;01m}\u001b[39;00m\u001b[38;5;124m\"\u001b[39m)\n",
      "\u001b[0;31mNameError\u001b[0m: name 'sol' is not defined"
     ]
    }
   ],
   "source": [
    "print(f\"After solving, the chemical potential for proton and neutron are {sol[0]:10.7f} and {sol[1]:10.7f}\")"
   ]
  },
  {
   "cell_type": "markdown",
   "metadata": {
    "editable": true,
    "slideshow": {
     "slide_type": ""
    },
    "tags": []
   },
   "source": [
    "For $\\rho = 10^7~\\mathrm{g~cm^{-3}}$ and electron fraction, $Y_e = 0.5$, we can explore how the NSE state changes with temperature.\n",
    "\n",
    "Here we used a guess for chemical potential of proton and neutron of -6.0 and -11.5, respectively."
   ]
  },
  {
   "cell_type": "code",
   "execution_count": 6,
   "metadata": {
    "editable": true,
    "execution": {
     "iopub.execute_input": "2024-10-17T09:01:31.850065Z",
     "iopub.status.busy": "2024-10-17T09:01:31.849737Z",
     "iopub.status.idle": "2024-10-17T09:01:31.864718Z",
     "shell.execute_reply": "2024-10-17T09:01:31.864148Z"
    },
    "slideshow": {
     "slide_type": ""
    },
    "tags": []
   },
   "outputs": [
    {
     "ename": "NameError",
     "evalue": "name 'nse' is not defined",
     "output_type": "error",
     "traceback": [
      "\u001b[0;31m---------------------------------------------------------------------------\u001b[0m",
      "\u001b[0;31mNameError\u001b[0m                                 Traceback (most recent call last)",
      "Cell \u001b[0;32mIn[6], line 8\u001b[0m\n\u001b[1;32m      6\u001b[0m guess \u001b[38;5;241m=\u001b[39m [\u001b[38;5;241m-\u001b[39m\u001b[38;5;241m6.0\u001b[39m, \u001b[38;5;241m-\u001b[39m\u001b[38;5;241m11.5\u001b[39m]\n\u001b[1;32m      7\u001b[0m \u001b[38;5;28;01mfor\u001b[39;00m i, temp \u001b[38;5;129;01min\u001b[39;00m \u001b[38;5;28menumerate\u001b[39m(temps):\n\u001b[0;32m----> 8\u001b[0m     nse_comp, sol \u001b[38;5;241m=\u001b[39m \u001b[43mnse\u001b[49m\u001b[38;5;241m.\u001b[39mget_comp_nse(rho, temp\u001b[38;5;241m*\u001b[39m\u001b[38;5;241m1.0e9\u001b[39m, ye, init_guess\u001b[38;5;241m=\u001b[39mguess, \n\u001b[1;32m      9\u001b[0m                                      use_coulomb_corr\u001b[38;5;241m=\u001b[39m\u001b[38;5;28;01mTrue\u001b[39;00m, return_sol\u001b[38;5;241m=\u001b[39m\u001b[38;5;28;01mTrue\u001b[39;00m)\n\u001b[1;32m     10\u001b[0m     guess \u001b[38;5;241m=\u001b[39m sol\n\u001b[1;32m     11\u001b[0m     nse_X_s \u001b[38;5;241m=\u001b[39m [nse_comp\u001b[38;5;241m.\u001b[39mX[nuc] \u001b[38;5;28;01mfor\u001b[39;00m nuc \u001b[38;5;129;01min\u001b[39;00m nse_comp\u001b[38;5;241m.\u001b[39mX]\n",
      "\u001b[0;31mNameError\u001b[0m: name 'nse' is not defined"
     ]
    }
   ],
   "source": [
    "rho = 1e7\n",
    "ye = 0.5\n",
    "temps = np.linspace(2.5, 12.0, 100)\n",
    "X_s = []\n",
    "\n",
    "guess = [-6.0, -11.5]\n",
    "for i, temp in enumerate(temps):\n",
    "    nse_comp, sol = nse.get_comp_nse(rho, temp*1.0e9, ye, init_guess=guess, \n",
    "                                     use_coulomb_corr=True, return_sol=True)\n",
    "    guess = sol\n",
    "    nse_X_s = [nse_comp.X[nuc] for nuc in nse_comp.X]\n",
    "    X_s.append(nse_X_s)"
   ]
  },
  {
   "cell_type": "code",
   "execution_count": 7,
   "metadata": {
    "editable": true,
    "execution": {
     "iopub.execute_input": "2024-10-17T09:01:31.866407Z",
     "iopub.status.busy": "2024-10-17T09:01:31.866235Z",
     "iopub.status.idle": "2024-10-17T09:01:31.883221Z",
     "shell.execute_reply": "2024-10-17T09:01:31.882732Z"
    },
    "slideshow": {
     "slide_type": ""
    },
    "tags": []
   },
   "outputs": [
    {
     "ename": "NameError",
     "evalue": "name 'nse' is not defined",
     "output_type": "error",
     "traceback": [
      "\u001b[0;31m---------------------------------------------------------------------------\u001b[0m",
      "\u001b[0;31mNameError\u001b[0m                                 Traceback (most recent call last)",
      "Cell \u001b[0;32mIn[7], line 2\u001b[0m\n\u001b[1;32m      1\u001b[0m X_s \u001b[38;5;241m=\u001b[39m np\u001b[38;5;241m.\u001b[39marray(X_s)\n\u001b[0;32m----> 2\u001b[0m nuc_names \u001b[38;5;241m=\u001b[39m \u001b[43mnse\u001b[49m\u001b[38;5;241m.\u001b[39mget_nuclei()\n\u001b[1;32m      4\u001b[0m low_limit \u001b[38;5;241m=\u001b[39m \u001b[38;5;241m1e-2\u001b[39m\n\u001b[1;32m      5\u001b[0m fig, ax \u001b[38;5;241m=\u001b[39m plt\u001b[38;5;241m.\u001b[39msubplots()\n",
      "\u001b[0;31mNameError\u001b[0m: name 'nse' is not defined"
     ]
    }
   ],
   "source": [
    "X_s = np.array(X_s)\n",
    "nuc_names = nse.get_nuclei()\n",
    "\n",
    "low_limit = 1e-2\n",
    "fig, ax = plt.subplots()\n",
    "\n",
    "for k in range(len(nuc_names)):\n",
    "    line, = ax.plot(temps, X_s[:,k])\n",
    "    if (max(X_s[:,k]) > low_limit):\n",
    "        line.set_label(str(nuc_names[k]))\n",
    "\n",
    "ax.legend(loc = \"upper right\")\n",
    "ax.set_xlabel(r'Temp $[\\times 10^9 K]$')\n",
    "ax.set_ylabel('Mass Fraction')\n",
    "ax.set_yscale('log')\n",
    "ax.set_ylim([low_limit,1.1])\n",
    "ax.set_title(rf\"$Y_e = {ye}$, $\\rho = {rho:6.3g}$\")\n",
    "\n",
    "fig.set_size_inches((7, 6))"
   ]
  },
  {
   "cell_type": "markdown",
   "metadata": {
    "editable": true,
    "slideshow": {
     "slide_type": ""
    },
    "tags": []
   },
   "source": [
    "For $\\rho = 10^7~\\mathrm{g~cm^{-3}}$ and a relatively high temperature of $T = 6 \\times 10^9~\\mathrm{K}$, we can look at how the NSE state changes with varying $Y_e$.\n",
    "\n",
    "Note: there will be a lowest $Y_e$ that is attainable by the network, depending on what species are represented.  As long as protons are in the network, we can reach a $Y_e$ of $1$."
   ]
  },
  {
   "cell_type": "code",
   "execution_count": 8,
   "metadata": {
    "editable": true,
    "execution": {
     "iopub.execute_input": "2024-10-17T09:01:31.885125Z",
     "iopub.status.busy": "2024-10-17T09:01:31.884776Z",
     "iopub.status.idle": "2024-10-17T09:01:31.898501Z",
     "shell.execute_reply": "2024-10-17T09:01:31.898040Z"
    },
    "slideshow": {
     "slide_type": ""
    },
    "tags": []
   },
   "outputs": [
    {
     "ename": "NameError",
     "evalue": "name 'nse' is not defined",
     "output_type": "error",
     "traceback": [
      "\u001b[0;31m---------------------------------------------------------------------------\u001b[0m",
      "\u001b[0;31mNameError\u001b[0m                                 Traceback (most recent call last)",
      "Cell \u001b[0;32mIn[8], line 1\u001b[0m\n\u001b[0;32m----> 1\u001b[0m ye_low \u001b[38;5;241m=\u001b[39m \u001b[38;5;28mmin\u001b[39m(nuc\u001b[38;5;241m.\u001b[39mZ\u001b[38;5;241m/\u001b[39mnuc\u001b[38;5;241m.\u001b[39mA \u001b[38;5;28;01mfor\u001b[39;00m nuc \u001b[38;5;129;01min\u001b[39;00m \u001b[43mnse\u001b[49m\u001b[38;5;241m.\u001b[39munique_nuclei)\n",
      "\u001b[0;31mNameError\u001b[0m: name 'nse' is not defined"
     ]
    }
   ],
   "source": [
    "ye_low = min(nuc.Z/nuc.A for nuc in nse.unique_nuclei)"
   ]
  },
  {
   "cell_type": "code",
   "execution_count": 9,
   "metadata": {
    "editable": true,
    "execution": {
     "iopub.execute_input": "2024-10-17T09:01:31.900304Z",
     "iopub.status.busy": "2024-10-17T09:01:31.899965Z",
     "iopub.status.idle": "2024-10-17T09:01:31.915741Z",
     "shell.execute_reply": "2024-10-17T09:01:31.915158Z"
    },
    "slideshow": {
     "slide_type": ""
    },
    "tags": []
   },
   "outputs": [
    {
     "ename": "NameError",
     "evalue": "name 'ye_low' is not defined",
     "output_type": "error",
     "traceback": [
      "\u001b[0;31m---------------------------------------------------------------------------\u001b[0m",
      "\u001b[0;31mNameError\u001b[0m                                 Traceback (most recent call last)",
      "Cell \u001b[0;32mIn[9], line 2\u001b[0m\n\u001b[1;32m      1\u001b[0m rho \u001b[38;5;241m=\u001b[39m \u001b[38;5;241m1e7\u001b[39m\n\u001b[0;32m----> 2\u001b[0m ye_s \u001b[38;5;241m=\u001b[39m np\u001b[38;5;241m.\u001b[39mlinspace(\u001b[43mye_low\u001b[49m, \u001b[38;5;241m0.65\u001b[39m, \u001b[38;5;241m100\u001b[39m)\n\u001b[1;32m      3\u001b[0m temp \u001b[38;5;241m=\u001b[39m \u001b[38;5;241m6.0e9\u001b[39m\n\u001b[1;32m      4\u001b[0m X_s_1 \u001b[38;5;241m=\u001b[39m []\n",
      "\u001b[0;31mNameError\u001b[0m: name 'ye_low' is not defined"
     ]
    }
   ],
   "source": [
    "rho = 1e7\n",
    "ye_s = np.linspace(ye_low, 0.65, 100)\n",
    "temp = 6.0e9\n",
    "X_s_1 = []\n",
    "\n",
    "guess = [-6.0, -11.5]\n",
    "for i, ye in enumerate(ye_s):\n",
    "    nse_comp_1, sol = nse.get_comp_nse(rho, temp, ye, init_guess=guess, \n",
    "                                       use_coulomb_corr=True, return_sol=True)\n",
    "    guess = sol\n",
    "    nse_X_s_1 = [nse_comp_1.X[nuc] for nuc in nse_comp_1.X]\n",
    "    X_s_1.append(nse_X_s_1)"
   ]
  },
  {
   "cell_type": "code",
   "execution_count": 10,
   "metadata": {
    "editable": true,
    "execution": {
     "iopub.execute_input": "2024-10-17T09:01:31.917601Z",
     "iopub.status.busy": "2024-10-17T09:01:31.917256Z",
     "iopub.status.idle": "2024-10-17T09:01:31.935867Z",
     "shell.execute_reply": "2024-10-17T09:01:31.935348Z"
    },
    "slideshow": {
     "slide_type": ""
    },
    "tags": []
   },
   "outputs": [
    {
     "ename": "NameError",
     "evalue": "name 'X_s_1' is not defined",
     "output_type": "error",
     "traceback": [
      "\u001b[0;31m---------------------------------------------------------------------------\u001b[0m",
      "\u001b[0;31mNameError\u001b[0m                                 Traceback (most recent call last)",
      "Cell \u001b[0;32mIn[10], line 1\u001b[0m\n\u001b[0;32m----> 1\u001b[0m X_s_1 \u001b[38;5;241m=\u001b[39m np\u001b[38;5;241m.\u001b[39marray(\u001b[43mX_s_1\u001b[49m)\n\u001b[1;32m      2\u001b[0m nuc_names \u001b[38;5;241m=\u001b[39m nse\u001b[38;5;241m.\u001b[39mget_nuclei()\n\u001b[1;32m      4\u001b[0m fig, ax \u001b[38;5;241m=\u001b[39m plt\u001b[38;5;241m.\u001b[39msubplots()\n",
      "\u001b[0;31mNameError\u001b[0m: name 'X_s_1' is not defined"
     ]
    }
   ],
   "source": [
    "X_s_1 = np.array(X_s_1)\n",
    "nuc_names = nse.get_nuclei()\n",
    "\n",
    "fig, ax = plt.subplots()\n",
    "\n",
    "for k in range(len(nuc_names)):\n",
    "    line, = ax.plot(ye_s, X_s_1[:,k])\n",
    "    if (max(X_s_1[:,k]) > 0.01):\n",
    "        line.set_label(str(nuc_names[k]))\n",
    "\n",
    "ax.legend(loc=\"best\")\n",
    "ax.set_xlabel('ye')\n",
    "ax.set_ylabel('Mass Fraction')\n",
    "ax.set_yscale('log')\n",
    "ax.set_ylim([0.01,1])\n",
    "ax.set_title(rf\"$\\rho = {rho:6.3g}$ and $T={temp:6.3g}$\")\n",
    "\n",
    "fig.set_size_inches((7, 6))"
   ]
  }
 ],
 "metadata": {
  "kernelspec": {
   "display_name": "Python 3 (ipykernel)",
   "language": "python",
   "name": "python3"
  },
  "language_info": {
   "codemirror_mode": {
    "name": "ipython",
    "version": 3
   },
   "file_extension": ".py",
   "mimetype": "text/x-python",
   "name": "python",
   "nbconvert_exporter": "python",
   "pygments_lexer": "ipython3",
   "version": "3.11.10"
  }
 },
 "nbformat": 4,
 "nbformat_minor": 4
}
