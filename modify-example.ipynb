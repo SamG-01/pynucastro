{
 "cells": [
  {
   "cell_type": "markdown",
   "id": "3d8f6f06-14c4-44a4-8f24-02de86401b43",
   "metadata": {},
   "source": [
    "# Modifying Rates"
   ]
  },
  {
   "cell_type": "markdown",
   "id": "4270b368-1213-4e6b-b0d9-7f5da5d47641",
   "metadata": {},
   "source": [
    "Sometimes we want to change the nuclei involved in rates to simplify our network.  Currently,\n",
    "pynucastro supports changing the products.  Here's an example."
   ]
  },
  {
   "cell_type": "code",
   "execution_count": 1,
   "id": "7b4a96a3-0898-4665-90c6-9ae45725a95a",
   "metadata": {
    "execution": {
     "iopub.execute_input": "2024-10-10T09:39:21.060398Z",
     "iopub.status.busy": "2024-10-10T09:39:21.059911Z",
     "iopub.status.idle": "2024-10-10T09:39:21.609606Z",
     "shell.execute_reply": "2024-10-10T09:39:21.609045Z"
    }
   },
   "outputs": [
    {
     "ename": "ValueError",
     "evalue": "could not convert string to float: 'evaluation'",
     "output_type": "error",
     "traceback": [
      "\u001b[0;31m---------------------------------------------------------------------------\u001b[0m",
      "\u001b[0;31mValueError\u001b[0m                                Traceback (most recent call last)",
      "Cell \u001b[0;32mIn[1], line 1\u001b[0m\n\u001b[0;32m----> 1\u001b[0m \u001b[38;5;28;01mimport\u001b[39;00m \u001b[38;5;21;01mpynucastro\u001b[39;00m \u001b[38;5;28;01mas\u001b[39;00m \u001b[38;5;21;01mpyna\u001b[39;00m\n",
      "File \u001b[0;32m/opt/hostedtoolcache/Python/3.11.10/x64/lib/python3.11/site-packages/pynucastro/__init__.py:131\u001b[0m\n\u001b[1;32m    126\u001b[0m \u001b[38;5;28;01mfrom\u001b[39;00m \u001b[38;5;21;01m.\u001b[39;00m\u001b[38;5;21;01m_version\u001b[39;00m \u001b[38;5;28;01mimport\u001b[39;00m version\n\u001b[1;32m    128\u001b[0m __version__ \u001b[38;5;241m=\u001b[39m version\n\u001b[0;32m--> 131\u001b[0m \u001b[38;5;28;01mimport\u001b[39;00m \u001b[38;5;21;01mpynucastro\u001b[39;00m\u001b[38;5;21;01m.\u001b[39;00m\u001b[38;5;21;01mscreening\u001b[39;00m\n\u001b[1;32m    132\u001b[0m \u001b[38;5;28;01mfrom\u001b[39;00m \u001b[38;5;21;01mpynucastro\u001b[39;00m\u001b[38;5;21;01m.\u001b[39;00m\u001b[38;5;21;01mnetworks\u001b[39;00m \u001b[38;5;28;01mimport\u001b[39;00m (AmrexAstroCxxNetwork, BaseCxxNetwork,\n\u001b[1;32m    133\u001b[0m                                  Composition, Explorer, NSENetwork,\n\u001b[1;32m    134\u001b[0m                                  NumpyNetwork, PythonNetwork, RateCollection,\n\u001b[1;32m    135\u001b[0m                                  SimpleCxxNetwork, StarKillerCxxNetwork,\n\u001b[1;32m    136\u001b[0m                                  SympyRates)\n\u001b[1;32m    137\u001b[0m \u001b[38;5;28;01mfrom\u001b[39;00m \u001b[38;5;21;01mpynucastro\u001b[39;00m\u001b[38;5;21;01m.\u001b[39;00m\u001b[38;5;21;01mnucdata\u001b[39;00m \u001b[38;5;28;01mimport\u001b[39;00m Nucleus, get_all_nuclei, get_nuclei_in_range\n",
      "File \u001b[0;32m/opt/hostedtoolcache/Python/3.11.10/x64/lib/python3.11/site-packages/pynucastro/screening/__init__.py:5\u001b[0m\n\u001b[1;32m      1\u001b[0m \u001b[38;5;124;03m\"\"\"Screening routines\"\"\"\u001b[39;00m\n\u001b[1;32m      3\u001b[0m __all__ \u001b[38;5;241m=\u001b[39m [\u001b[38;5;124m\"\u001b[39m\u001b[38;5;124mscreen\u001b[39m\u001b[38;5;124m\"\u001b[39m, \u001b[38;5;124m\"\u001b[39m\u001b[38;5;124mscreening_util\u001b[39m\u001b[38;5;124m\"\u001b[39m]\n\u001b[0;32m----> 5\u001b[0m \u001b[38;5;28;01mfrom\u001b[39;00m \u001b[38;5;21;01m.\u001b[39;00m\u001b[38;5;21;01mscreen\u001b[39;00m \u001b[38;5;28;01mimport\u001b[39;00m (NseState, PlasmaState, ScreenFactors, chugunov_2007,\n\u001b[1;32m      6\u001b[0m                      chugunov_2009, make_plasma_state, make_screen_factors,\n\u001b[1;32m      7\u001b[0m                      potekhin_1998, screen5)\n\u001b[1;32m      8\u001b[0m \u001b[38;5;28;01mfrom\u001b[39;00m \u001b[38;5;21;01m.\u001b[39;00m\u001b[38;5;21;01mscreening_util\u001b[39;00m \u001b[38;5;28;01mimport\u001b[39;00m ScreeningPair, get_screening_map\n",
      "File \u001b[0;32m/opt/hostedtoolcache/Python/3.11.10/x64/lib/python3.11/site-packages/pynucastro/screening/screen.py:7\u001b[0m\n\u001b[1;32m      4\u001b[0m \u001b[38;5;28;01mimport\u001b[39;00m \u001b[38;5;21;01mnumpy\u001b[39;00m \u001b[38;5;28;01mas\u001b[39;00m \u001b[38;5;21;01mnp\u001b[39;00m\n\u001b[1;32m      6\u001b[0m \u001b[38;5;28;01mfrom\u001b[39;00m \u001b[38;5;21;01mpynucastro\u001b[39;00m\u001b[38;5;21;01m.\u001b[39;00m\u001b[38;5;21;01mconstants\u001b[39;00m \u001b[38;5;28;01mimport\u001b[39;00m constants\n\u001b[0;32m----> 7\u001b[0m \u001b[38;5;28;01mfrom\u001b[39;00m \u001b[38;5;21;01mpynucastro\u001b[39;00m\u001b[38;5;21;01m.\u001b[39;00m\u001b[38;5;21;01mnucdata\u001b[39;00m \u001b[38;5;28;01mimport\u001b[39;00m Nucleus\n\u001b[1;32m      8\u001b[0m \u001b[38;5;66;03m# use the jitclass placeholder from rate.py\u001b[39;00m\n\u001b[1;32m      9\u001b[0m \u001b[38;5;28;01mfrom\u001b[39;00m \u001b[38;5;21;01mpynucastro\u001b[39;00m\u001b[38;5;21;01m.\u001b[39;00m\u001b[38;5;21;01mrates\u001b[39;00m\u001b[38;5;21;01m.\u001b[39;00m\u001b[38;5;21;01mrate\u001b[39;00m \u001b[38;5;28;01mimport\u001b[39;00m jitclass, numba\n",
      "File \u001b[0;32m/opt/hostedtoolcache/Python/3.11.10/x64/lib/python3.11/site-packages/pynucastro/nucdata/__init__.py:10\u001b[0m\n\u001b[1;32m      8\u001b[0m \u001b[38;5;28;01mfrom\u001b[39;00m \u001b[38;5;21;01m.\u001b[39;00m\u001b[38;5;21;01melements\u001b[39;00m \u001b[38;5;28;01mimport\u001b[39;00m Element, PeriodicTable, UnidentifiedElement\n\u001b[1;32m      9\u001b[0m \u001b[38;5;28;01mfrom\u001b[39;00m \u001b[38;5;21;01m.\u001b[39;00m\u001b[38;5;21;01mmass_table\u001b[39;00m \u001b[38;5;28;01mimport\u001b[39;00m MassTable\n\u001b[0;32m---> 10\u001b[0m \u001b[38;5;28;01mfrom\u001b[39;00m \u001b[38;5;21;01m.\u001b[39;00m\u001b[38;5;21;01mnucleus\u001b[39;00m \u001b[38;5;28;01mimport\u001b[39;00m (Nucleus, UnsupportedNucleus, get_all_nuclei,\n\u001b[1;32m     11\u001b[0m                       get_nuclei_in_range)\n\u001b[1;32m     12\u001b[0m \u001b[38;5;28;01mfrom\u001b[39;00m \u001b[38;5;21;01m.\u001b[39;00m\u001b[38;5;21;01mpartition_function\u001b[39;00m \u001b[38;5;28;01mimport\u001b[39;00m (PartitionFunction,\n\u001b[1;32m     13\u001b[0m                                  PartitionFunctionCollection,\n\u001b[1;32m     14\u001b[0m                                  PartitionFunctionTable)\n\u001b[1;32m     15\u001b[0m \u001b[38;5;28;01mfrom\u001b[39;00m \u001b[38;5;21;01m.\u001b[39;00m\u001b[38;5;21;01mspin_table\u001b[39;00m \u001b[38;5;28;01mimport\u001b[39;00m SpinTable\n",
      "File \u001b[0;32m/opt/hostedtoolcache/Python/3.11.10/x64/lib/python3.11/site-packages/pynucastro/nucdata/nucleus.py:21\u001b[0m\n\u001b[1;32m     19\u001b[0m \u001b[38;5;66;03m# read the various tables with nuclear properties at the module-level\u001b[39;00m\n\u001b[1;32m     20\u001b[0m _mass_table \u001b[38;5;241m=\u001b[39m MassTable()\n\u001b[0;32m---> 21\u001b[0m _halflife_table \u001b[38;5;241m=\u001b[39m \u001b[43mHalfLifeTable\u001b[49m\u001b[43m(\u001b[49m\u001b[43m)\u001b[49m\n\u001b[1;32m     22\u001b[0m _spin_table \u001b[38;5;241m=\u001b[39m SpinTable(reliable\u001b[38;5;241m=\u001b[39m\u001b[38;5;28;01mTrue\u001b[39;00m)\n\u001b[1;32m     24\u001b[0m \u001b[38;5;66;03m# read the partition function table once and store it at the module-level\u001b[39;00m\n",
      "File \u001b[0;32m/opt/hostedtoolcache/Python/3.11.10/x64/lib/python3.11/site-packages/pynucastro/nucdata/halflife_table.py:20\u001b[0m, in \u001b[0;36mHalfLifeTable.__init__\u001b[0;34m(self, filename)\u001b[0m\n\u001b[1;32m     17\u001b[0m     datafile_name \u001b[38;5;241m=\u001b[39m \u001b[38;5;124m'\u001b[39m\u001b[38;5;124mhalflife2020.txt\u001b[39m\u001b[38;5;124m'\u001b[39m\n\u001b[1;32m     18\u001b[0m     \u001b[38;5;28mself\u001b[39m\u001b[38;5;241m.\u001b[39mfilename \u001b[38;5;241m=\u001b[39m nucdata_dir\u001b[38;5;241m/\u001b[39m\u001b[38;5;124m'\u001b[39m\u001b[38;5;124mAtomicMassEvaluation\u001b[39m\u001b[38;5;124m'\u001b[39m\u001b[38;5;241m/\u001b[39mdatafile_name\n\u001b[0;32m---> 20\u001b[0m \u001b[38;5;28;43mself\u001b[39;49m\u001b[38;5;241;43m.\u001b[39;49m\u001b[43m_read_table\u001b[49m\u001b[43m(\u001b[49m\u001b[43m)\u001b[49m\n",
      "File \u001b[0;32m/opt/hostedtoolcache/Python/3.11.10/x64/lib/python3.11/site-packages/pynucastro/nucdata/halflife_table.py:37\u001b[0m, in \u001b[0;36mHalfLifeTable._read_table\u001b[0;34m(self)\u001b[0m\n\u001b[1;32m     34\u001b[0m     \u001b[38;5;66;03m#print(data_list)\u001b[39;00m\n\u001b[1;32m     36\u001b[0m     \u001b[38;5;28;01mif\u001b[39;00m tau \u001b[38;5;241m!=\u001b[39m \u001b[38;5;124m\"\u001b[39m\u001b[38;5;124mstable\u001b[39m\u001b[38;5;124m\"\u001b[39m:\n\u001b[0;32m---> 37\u001b[0m         tau \u001b[38;5;241m=\u001b[39m \u001b[38;5;28;43mfloat\u001b[39;49m\u001b[43m(\u001b[49m\u001b[43mtau\u001b[49m\u001b[43m)\u001b[49m\n\u001b[1;32m     39\u001b[0m     \u001b[38;5;28mself\u001b[39m\u001b[38;5;241m.\u001b[39mhalflife[\u001b[38;5;28mint\u001b[39m(A), \u001b[38;5;28mint\u001b[39m(Z)] \u001b[38;5;241m=\u001b[39m tau\n\u001b[1;32m     41\u001b[0m file\u001b[38;5;241m.\u001b[39mclose()\n",
      "\u001b[0;31mValueError\u001b[0m: could not convert string to float: 'evaluation'"
     ]
    }
   ],
   "source": [
    "import pynucastro as pyna"
   ]
  },
  {
   "cell_type": "code",
   "execution_count": 2,
   "id": "99c975eb-1457-48f5-aa18-b540818109b0",
   "metadata": {
    "execution": {
     "iopub.execute_input": "2024-10-10T09:39:21.611531Z",
     "iopub.status.busy": "2024-10-10T09:39:21.611139Z",
     "iopub.status.idle": "2024-10-10T09:39:21.622259Z",
     "shell.execute_reply": "2024-10-10T09:39:21.621727Z"
    }
   },
   "outputs": [
    {
     "ename": "NameError",
     "evalue": "name 'pyna' is not defined",
     "output_type": "error",
     "traceback": [
      "\u001b[0;31m---------------------------------------------------------------------------\u001b[0m",
      "\u001b[0;31mNameError\u001b[0m                                 Traceback (most recent call last)",
      "Cell \u001b[0;32mIn[2], line 1\u001b[0m\n\u001b[0;32m----> 1\u001b[0m reaclib_library \u001b[38;5;241m=\u001b[39m \u001b[43mpyna\u001b[49m\u001b[38;5;241m.\u001b[39mReacLibLibrary()\n",
      "\u001b[0;31mNameError\u001b[0m: name 'pyna' is not defined"
     ]
    }
   ],
   "source": [
    "reaclib_library = pyna.ReacLibLibrary()"
   ]
  },
  {
   "cell_type": "markdown",
   "id": "ab3e7134-6849-415f-a079-8348058691b2",
   "metadata": {},
   "source": [
    "We want to model ${}^{12}\\mathrm{C} + {}^{12}\\mathrm{C}$ reactions.  There are 3 rates involved."
   ]
  },
  {
   "cell_type": "code",
   "execution_count": 3,
   "id": "09b02e00-07d3-4b47-86bd-09b47ce7b3d4",
   "metadata": {
    "execution": {
     "iopub.execute_input": "2024-10-10T09:39:21.624042Z",
     "iopub.status.busy": "2024-10-10T09:39:21.623779Z",
     "iopub.status.idle": "2024-10-10T09:39:21.634472Z",
     "shell.execute_reply": "2024-10-10T09:39:21.634030Z"
    }
   },
   "outputs": [
    {
     "ename": "NameError",
     "evalue": "name 'pyna' is not defined",
     "output_type": "error",
     "traceback": [
      "\u001b[0;31m---------------------------------------------------------------------------\u001b[0m",
      "\u001b[0;31mNameError\u001b[0m                                 Traceback (most recent call last)",
      "Cell \u001b[0;32mIn[3], line 1\u001b[0m\n\u001b[0;32m----> 1\u001b[0m \u001b[38;5;28mfilter\u001b[39m \u001b[38;5;241m=\u001b[39m \u001b[43mpyna\u001b[49m\u001b[38;5;241m.\u001b[39mRateFilter(reactants\u001b[38;5;241m=\u001b[39m[\u001b[38;5;124m\"\u001b[39m\u001b[38;5;124mc12\u001b[39m\u001b[38;5;124m\"\u001b[39m, \u001b[38;5;124m\"\u001b[39m\u001b[38;5;124mc12\u001b[39m\u001b[38;5;124m\"\u001b[39m])\n\u001b[1;32m      2\u001b[0m mylib \u001b[38;5;241m=\u001b[39m reaclib_library\u001b[38;5;241m.\u001b[39mfilter(\u001b[38;5;28mfilter\u001b[39m)\n\u001b[1;32m      3\u001b[0m mylib                       \n",
      "\u001b[0;31mNameError\u001b[0m: name 'pyna' is not defined"
     ]
    }
   ],
   "source": [
    "filter = pyna.RateFilter(reactants=[\"c12\", \"c12\"])\n",
    "mylib = reaclib_library.filter(filter)\n",
    "mylib                       "
   ]
  },
  {
   "cell_type": "markdown",
   "id": "9ad2e666-1d18-4fdb-8b25-386ea583a1a3",
   "metadata": {},
   "source": [
    "The rate ${}^{12}\\mathrm{C}({}^{12}\\mathrm{C},n){}^{23}\\mathrm{Mg}$ is quickly followed by ${}^{23}\\mathrm{Mg}(n,\\gamma){}^{24}\\mathrm{Mg}$, so we want to modify that rate sequence to just be ${}^{12}\\mathrm{C}({}^{12}\\mathrm{C},\\gamma){}^{24}\\mathrm{Mg}$"
   ]
  },
  {
   "cell_type": "code",
   "execution_count": 4,
   "id": "a3a654f5-fc0d-4de4-bc1e-e5a6322014c9",
   "metadata": {
    "execution": {
     "iopub.execute_input": "2024-10-10T09:39:21.636056Z",
     "iopub.status.busy": "2024-10-10T09:39:21.635893Z",
     "iopub.status.idle": "2024-10-10T09:39:21.646824Z",
     "shell.execute_reply": "2024-10-10T09:39:21.646394Z"
    }
   },
   "outputs": [
    {
     "ename": "NameError",
     "evalue": "name 'mylib' is not defined",
     "output_type": "error",
     "traceback": [
      "\u001b[0;31m---------------------------------------------------------------------------\u001b[0m",
      "\u001b[0;31mNameError\u001b[0m                                 Traceback (most recent call last)",
      "Cell \u001b[0;32mIn[4], line 1\u001b[0m\n\u001b[0;32m----> 1\u001b[0m r \u001b[38;5;241m=\u001b[39m \u001b[43mmylib\u001b[49m\u001b[38;5;241m.\u001b[39mget_rate(\u001b[38;5;124m\"\u001b[39m\u001b[38;5;124mc12 + c12 --> n + mg23 <cf88_reaclib__reverse>\u001b[39m\u001b[38;5;124m\"\u001b[39m)\n\u001b[1;32m      2\u001b[0m r\n",
      "\u001b[0;31mNameError\u001b[0m: name 'mylib' is not defined"
     ]
    }
   ],
   "source": [
    "r = mylib.get_rate(\"c12 + c12 --> n + mg23 <cf88_reaclib__reverse>\")\n",
    "r"
   ]
  },
  {
   "cell_type": "markdown",
   "id": "6b71a5da-fc50-4ea5-b2ed-c89e5afed3a8",
   "metadata": {},
   "source": [
    "This has the Q value:"
   ]
  },
  {
   "cell_type": "code",
   "execution_count": 5,
   "id": "14587d2a-19b2-4d05-9a2f-eaeb37ed39da",
   "metadata": {
    "execution": {
     "iopub.execute_input": "2024-10-10T09:39:21.648618Z",
     "iopub.status.busy": "2024-10-10T09:39:21.648193Z",
     "iopub.status.idle": "2024-10-10T09:39:21.658089Z",
     "shell.execute_reply": "2024-10-10T09:39:21.657546Z"
    }
   },
   "outputs": [
    {
     "ename": "NameError",
     "evalue": "name 'r' is not defined",
     "output_type": "error",
     "traceback": [
      "\u001b[0;31m---------------------------------------------------------------------------\u001b[0m",
      "\u001b[0;31mNameError\u001b[0m                                 Traceback (most recent call last)",
      "Cell \u001b[0;32mIn[5], line 1\u001b[0m\n\u001b[0;32m----> 1\u001b[0m \u001b[43mr\u001b[49m\u001b[38;5;241m.\u001b[39mQ\n",
      "\u001b[0;31mNameError\u001b[0m: name 'r' is not defined"
     ]
    }
   ],
   "source": [
    "r.Q"
   ]
  },
  {
   "cell_type": "markdown",
   "id": "0cfe6b49-1944-4ad4-8870-ffff987de786",
   "metadata": {},
   "source": [
    "Now we modify it"
   ]
  },
  {
   "cell_type": "code",
   "execution_count": 6,
   "id": "df86e360-e7ca-4401-a71a-432334a15f90",
   "metadata": {
    "execution": {
     "iopub.execute_input": "2024-10-10T09:39:21.659887Z",
     "iopub.status.busy": "2024-10-10T09:39:21.659575Z",
     "iopub.status.idle": "2024-10-10T09:39:21.669814Z",
     "shell.execute_reply": "2024-10-10T09:39:21.669253Z"
    }
   },
   "outputs": [
    {
     "ename": "NameError",
     "evalue": "name 'r' is not defined",
     "output_type": "error",
     "traceback": [
      "\u001b[0;31m---------------------------------------------------------------------------\u001b[0m",
      "\u001b[0;31mNameError\u001b[0m                                 Traceback (most recent call last)",
      "Cell \u001b[0;32mIn[6], line 1\u001b[0m\n\u001b[0;32m----> 1\u001b[0m \u001b[43mr\u001b[49m\u001b[38;5;241m.\u001b[39mmodify_products(\u001b[38;5;124m\"\u001b[39m\u001b[38;5;124mmg24\u001b[39m\u001b[38;5;124m\"\u001b[39m)\n\u001b[1;32m      2\u001b[0m r\n",
      "\u001b[0;31mNameError\u001b[0m: name 'r' is not defined"
     ]
    }
   ],
   "source": [
    "r.modify_products(\"mg24\")\n",
    "r"
   ]
  },
  {
   "cell_type": "markdown",
   "id": "7ea5badb-0a83-4a61-b2fa-f45b4956fd00",
   "metadata": {},
   "source": [
    "and we see that the Q value has been updated to reflect the new endpoint"
   ]
  },
  {
   "cell_type": "code",
   "execution_count": 7,
   "id": "d002c70a-aaac-4f8b-b18c-fd9fdfcbce02",
   "metadata": {
    "execution": {
     "iopub.execute_input": "2024-10-10T09:39:21.671588Z",
     "iopub.status.busy": "2024-10-10T09:39:21.671260Z",
     "iopub.status.idle": "2024-10-10T09:39:21.681110Z",
     "shell.execute_reply": "2024-10-10T09:39:21.680578Z"
    }
   },
   "outputs": [
    {
     "ename": "NameError",
     "evalue": "name 'r' is not defined",
     "output_type": "error",
     "traceback": [
      "\u001b[0;31m---------------------------------------------------------------------------\u001b[0m",
      "\u001b[0;31mNameError\u001b[0m                                 Traceback (most recent call last)",
      "Cell \u001b[0;32mIn[7], line 1\u001b[0m\n\u001b[0;32m----> 1\u001b[0m \u001b[43mr\u001b[49m\u001b[38;5;241m.\u001b[39mQ\n",
      "\u001b[0;31mNameError\u001b[0m: name 'r' is not defined"
     ]
    }
   ],
   "source": [
    "r.Q"
   ]
  },
  {
   "cell_type": "markdown",
   "id": "1d418f9f-ab0e-4cb4-8517-9f5e27fe2be7",
   "metadata": {},
   "source": [
    "Now let's build a network that includes the nuclei involved in our carbon burning.  We'll start by leaving off the ${}^{23}\\mathrm{Mg}$"
   ]
  },
  {
   "cell_type": "code",
   "execution_count": 8,
   "id": "4fdd0244-9935-471b-9251-685f2b658173",
   "metadata": {
    "execution": {
     "iopub.execute_input": "2024-10-10T09:39:21.682879Z",
     "iopub.status.busy": "2024-10-10T09:39:21.682574Z",
     "iopub.status.idle": "2024-10-10T09:39:21.693620Z",
     "shell.execute_reply": "2024-10-10T09:39:21.693075Z"
    }
   },
   "outputs": [
    {
     "ename": "NameError",
     "evalue": "name 'reaclib_library' is not defined",
     "output_type": "error",
     "traceback": [
      "\u001b[0;31m---------------------------------------------------------------------------\u001b[0m",
      "\u001b[0;31mNameError\u001b[0m                                 Traceback (most recent call last)",
      "Cell \u001b[0;32mIn[8], line 1\u001b[0m\n\u001b[0;32m----> 1\u001b[0m mylib2 \u001b[38;5;241m=\u001b[39m \u001b[43mreaclib_library\u001b[49m\u001b[38;5;241m.\u001b[39mlinking_nuclei([\u001b[38;5;124m\"\u001b[39m\u001b[38;5;124mp\u001b[39m\u001b[38;5;124m\"\u001b[39m, \u001b[38;5;124m\"\u001b[39m\u001b[38;5;124mhe4\u001b[39m\u001b[38;5;124m\"\u001b[39m, \u001b[38;5;124m\"\u001b[39m\u001b[38;5;124mc12\u001b[39m\u001b[38;5;124m\"\u001b[39m, \u001b[38;5;124m\"\u001b[39m\u001b[38;5;124mo16\u001b[39m\u001b[38;5;124m\"\u001b[39m, \u001b[38;5;124m\"\u001b[39m\u001b[38;5;124mne20\u001b[39m\u001b[38;5;124m\"\u001b[39m, \u001b[38;5;124m\"\u001b[39m\u001b[38;5;124mna23\u001b[39m\u001b[38;5;124m\"\u001b[39m, \u001b[38;5;124m\"\u001b[39m\u001b[38;5;124mmg24\u001b[39m\u001b[38;5;124m\"\u001b[39m])\n",
      "\u001b[0;31mNameError\u001b[0m: name 'reaclib_library' is not defined"
     ]
    }
   ],
   "source": [
    "mylib2 = reaclib_library.linking_nuclei([\"p\", \"he4\", \"c12\", \"o16\", \"ne20\", \"na23\", \"mg24\"])"
   ]
  },
  {
   "cell_type": "markdown",
   "id": "0ee92979-b07b-4fb3-b600-3c5fa2a4e380",
   "metadata": {},
   "source": [
    "Now we add in our modified rate"
   ]
  },
  {
   "cell_type": "code",
   "execution_count": 9,
   "id": "1a8cac1c-fdf6-47a3-bd1b-12172ab7123a",
   "metadata": {
    "execution": {
     "iopub.execute_input": "2024-10-10T09:39:21.695365Z",
     "iopub.status.busy": "2024-10-10T09:39:21.695062Z",
     "iopub.status.idle": "2024-10-10T09:39:21.705438Z",
     "shell.execute_reply": "2024-10-10T09:39:21.704909Z"
    }
   },
   "outputs": [
    {
     "ename": "NameError",
     "evalue": "name 'mylib2' is not defined",
     "output_type": "error",
     "traceback": [
      "\u001b[0;31m---------------------------------------------------------------------------\u001b[0m",
      "\u001b[0;31mNameError\u001b[0m                                 Traceback (most recent call last)",
      "Cell \u001b[0;32mIn[9], line 1\u001b[0m\n\u001b[0;32m----> 1\u001b[0m \u001b[43mmylib2\u001b[49m \u001b[38;5;241m+\u001b[39m\u001b[38;5;241m=\u001b[39m pyna\u001b[38;5;241m.\u001b[39mLibrary(rates\u001b[38;5;241m=\u001b[39m[r])\n",
      "\u001b[0;31mNameError\u001b[0m: name 'mylib2' is not defined"
     ]
    }
   ],
   "source": [
    "mylib2 += pyna.Library(rates=[r])"
   ]
  },
  {
   "cell_type": "code",
   "execution_count": 10,
   "id": "9c56630c-db05-45e9-9f73-a36189d21689",
   "metadata": {
    "execution": {
     "iopub.execute_input": "2024-10-10T09:39:21.707150Z",
     "iopub.status.busy": "2024-10-10T09:39:21.706848Z",
     "iopub.status.idle": "2024-10-10T09:39:21.716742Z",
     "shell.execute_reply": "2024-10-10T09:39:21.716284Z"
    }
   },
   "outputs": [
    {
     "ename": "NameError",
     "evalue": "name 'mylib2' is not defined",
     "output_type": "error",
     "traceback": [
      "\u001b[0;31m---------------------------------------------------------------------------\u001b[0m",
      "\u001b[0;31mNameError\u001b[0m                                 Traceback (most recent call last)",
      "Cell \u001b[0;32mIn[10], line 1\u001b[0m\n\u001b[0;32m----> 1\u001b[0m \u001b[43mmylib2\u001b[49m\n",
      "\u001b[0;31mNameError\u001b[0m: name 'mylib2' is not defined"
     ]
    }
   ],
   "source": [
    "mylib2"
   ]
  },
  {
   "cell_type": "code",
   "execution_count": 11,
   "id": "81a56946-86bf-4414-9d0a-354bbd0f68e8",
   "metadata": {
    "execution": {
     "iopub.execute_input": "2024-10-10T09:39:21.718450Z",
     "iopub.status.busy": "2024-10-10T09:39:21.718070Z",
     "iopub.status.idle": "2024-10-10T09:39:21.729374Z",
     "shell.execute_reply": "2024-10-10T09:39:21.728924Z"
    }
   },
   "outputs": [
    {
     "ename": "NameError",
     "evalue": "name 'pyna' is not defined",
     "output_type": "error",
     "traceback": [
      "\u001b[0;31m---------------------------------------------------------------------------\u001b[0m",
      "\u001b[0;31mNameError\u001b[0m                                 Traceback (most recent call last)",
      "Cell \u001b[0;32mIn[11], line 1\u001b[0m\n\u001b[0;32m----> 1\u001b[0m rc \u001b[38;5;241m=\u001b[39m \u001b[43mpyna\u001b[49m\u001b[38;5;241m.\u001b[39mRateCollection(libraries\u001b[38;5;241m=\u001b[39m[mylib2])\n\u001b[1;32m      2\u001b[0m fig \u001b[38;5;241m=\u001b[39m rc\u001b[38;5;241m.\u001b[39mplot(rotated\u001b[38;5;241m=\u001b[39m\u001b[38;5;28;01mTrue\u001b[39;00m, curved_edges\u001b[38;5;241m=\u001b[39m\u001b[38;5;28;01mTrue\u001b[39;00m, hide_xalpha\u001b[38;5;241m=\u001b[39m\u001b[38;5;28;01mTrue\u001b[39;00m)\n",
      "\u001b[0;31mNameError\u001b[0m: name 'pyna' is not defined"
     ]
    }
   ],
   "source": [
    "rc = pyna.RateCollection(libraries=[mylib2])\n",
    "fig = rc.plot(rotated=True, curved_edges=True, hide_xalpha=True)"
   ]
  }
 ],
 "metadata": {
  "kernelspec": {
   "display_name": "Python 3 (ipykernel)",
   "language": "python",
   "name": "python3"
  },
  "language_info": {
   "codemirror_mode": {
    "name": "ipython",
    "version": 3
   },
   "file_extension": ".py",
   "mimetype": "text/x-python",
   "name": "python",
   "nbconvert_exporter": "python",
   "pygments_lexer": "ipython3",
   "version": "3.11.10"
  }
 },
 "nbformat": 4,
 "nbformat_minor": 5
}
