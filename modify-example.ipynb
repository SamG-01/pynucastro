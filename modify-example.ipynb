{
 "cells": [
  {
   "cell_type": "markdown",
   "id": "3d8f6f06-14c4-44a4-8f24-02de86401b43",
   "metadata": {},
   "source": [
    "# Modifying Rates"
   ]
  },
  {
   "cell_type": "markdown",
   "id": "4270b368-1213-4e6b-b0d9-7f5da5d47641",
   "metadata": {},
   "source": [
    "Sometimes we want to change the nuclei involved in rates to simplify our network.  Currently,\n",
    "pynucastro supports changing the products.  Here's an example."
   ]
  },
  {
   "cell_type": "code",
   "execution_count": 1,
   "id": "7b4a96a3-0898-4665-90c6-9ae45725a95a",
   "metadata": {
    "execution": {
     "iopub.execute_input": "2024-10-17T10:07:07.406469Z",
     "iopub.status.busy": "2024-10-17T10:07:07.406299Z",
     "iopub.status.idle": "2024-10-17T10:07:08.723549Z",
     "shell.execute_reply": "2024-10-17T10:07:08.723013Z"
    }
   },
   "outputs": [],
   "source": [
    "import pynucastro as pyna"
   ]
  },
  {
   "cell_type": "code",
   "execution_count": 2,
   "id": "99c975eb-1457-48f5-aa18-b540818109b0",
   "metadata": {
    "execution": {
     "iopub.execute_input": "2024-10-17T10:07:08.725596Z",
     "iopub.status.busy": "2024-10-17T10:07:08.725330Z",
     "iopub.status.idle": "2024-10-17T10:07:12.435362Z",
     "shell.execute_reply": "2024-10-17T10:07:12.434808Z"
    }
   },
   "outputs": [],
   "source": [
    "reaclib_library = pyna.ReacLibLibrary()"
   ]
  },
  {
   "cell_type": "markdown",
   "id": "ab3e7134-6849-415f-a079-8348058691b2",
   "metadata": {},
   "source": [
    "We want to model ${}^{12}\\mathrm{C} + {}^{12}\\mathrm{C}$ reactions.  There are 3 rates involved."
   ]
  },
  {
   "cell_type": "code",
   "execution_count": 3,
   "id": "09b02e00-07d3-4b47-86bd-09b47ce7b3d4",
   "metadata": {
    "execution": {
     "iopub.execute_input": "2024-10-17T10:07:12.437357Z",
     "iopub.status.busy": "2024-10-17T10:07:12.437182Z",
     "iopub.status.idle": "2024-10-17T10:07:12.538517Z",
     "shell.execute_reply": "2024-10-17T10:07:12.538004Z"
    }
   },
   "outputs": [
    {
     "data": {
      "text/plain": [
       "C12 + C12 ⟶ He4 + Ne20         [Q =   4.62 MeV] (C12 + C12 --> He4 + Ne20 <cf88_reaclib__>)\n",
       "C12 + C12 ⟶ p + Na23           [Q =   2.24 MeV] (C12 + C12 --> p + Na23 <cf88_reaclib__>)\n",
       "C12 + C12 ⟶ n + Mg23           [Q =  -2.60 MeV] (C12 + C12 --> n + Mg23 <cf88_reaclib__reverse>)"
      ]
     },
     "execution_count": 3,
     "metadata": {},
     "output_type": "execute_result"
    }
   ],
   "source": [
    "filter = pyna.RateFilter(reactants=[\"c12\", \"c12\"])\n",
    "mylib = reaclib_library.filter(filter)\n",
    "mylib                       "
   ]
  },
  {
   "cell_type": "markdown",
   "id": "9ad2e666-1d18-4fdb-8b25-386ea583a1a3",
   "metadata": {},
   "source": [
    "The rate ${}^{12}\\mathrm{C}({}^{12}\\mathrm{C},n){}^{23}\\mathrm{Mg}$ is quickly followed by ${}^{23}\\mathrm{Mg}(n,\\gamma){}^{24}\\mathrm{Mg}$, so we want to modify that rate sequence to just be ${}^{12}\\mathrm{C}({}^{12}\\mathrm{C},\\gamma){}^{24}\\mathrm{Mg}$"
   ]
  },
  {
   "cell_type": "code",
   "execution_count": 4,
   "id": "a3a654f5-fc0d-4de4-bc1e-e5a6322014c9",
   "metadata": {
    "execution": {
     "iopub.execute_input": "2024-10-17T10:07:12.540369Z",
     "iopub.status.busy": "2024-10-17T10:07:12.540016Z",
     "iopub.status.idle": "2024-10-17T10:07:12.992843Z",
     "shell.execute_reply": "2024-10-17T10:07:12.992320Z"
    }
   },
   "outputs": [
    {
     "ename": "LookupError",
     "evalue": "rate identifier 'c12 + c12 --> n + mg23 <cf88_reaclib__reverse>' does not match a rate in this library.",
     "output_type": "error",
     "traceback": [
      "\u001b[0;31m---------------------------------------------------------------------------\u001b[0m",
      "\u001b[0;31mLookupError\u001b[0m                               Traceback (most recent call last)",
      "Cell \u001b[0;32mIn[4], line 1\u001b[0m\n\u001b[0;32m----> 1\u001b[0m r \u001b[38;5;241m=\u001b[39m \u001b[43mmylib\u001b[49m\u001b[38;5;241;43m.\u001b[39;49m\u001b[43mget_rate\u001b[49m\u001b[43m(\u001b[49m\u001b[38;5;124;43m\"\u001b[39;49m\u001b[38;5;124;43mc12 + c12 --> n + mg23 <cf88_reaclib__reverse>\u001b[39;49m\u001b[38;5;124;43m\"\u001b[39;49m\u001b[43m)\u001b[49m\n\u001b[1;32m      2\u001b[0m r\n",
      "File \u001b[0;32m/opt/hostedtoolcache/Python/3.11.10/x64/lib/python3.11/site-packages/pynucastro/rates/library.py:162\u001b[0m, in \u001b[0;36mLibrary.get_rate\u001b[0;34m(self, rid)\u001b[0m\n\u001b[1;32m    160\u001b[0m     \u001b[38;5;28;01mreturn\u001b[39;00m [q \u001b[38;5;28;01mfor\u001b[39;00m q \u001b[38;5;129;01min\u001b[39;00m \u001b[38;5;28mself\u001b[39m\u001b[38;5;241m.\u001b[39mrates \u001b[38;5;28;01mif\u001b[39;00m q\u001b[38;5;241m.\u001b[39mfname \u001b[38;5;241m==\u001b[39m rid_mod][\u001b[38;5;241m0\u001b[39m]\n\u001b[1;32m    161\u001b[0m \u001b[38;5;28;01mexcept\u001b[39;00m \u001b[38;5;167;01mIndexError\u001b[39;00m:\n\u001b[0;32m--> 162\u001b[0m     \u001b[38;5;28;01mraise\u001b[39;00m \u001b[38;5;167;01mLookupError\u001b[39;00m(\u001b[38;5;124mf\u001b[39m\u001b[38;5;124m\"\u001b[39m\u001b[38;5;124mrate identifier \u001b[39m\u001b[38;5;132;01m{\u001b[39;00mrid\u001b[38;5;132;01m!r}\u001b[39;00m\u001b[38;5;124m does not match a rate in this library.\u001b[39m\u001b[38;5;124m\"\u001b[39m) \u001b[38;5;28;01mfrom\u001b[39;00m \u001b[38;5;28;01mNone\u001b[39;00m\n",
      "\u001b[0;31mLookupError\u001b[0m: rate identifier 'c12 + c12 --> n + mg23 <cf88_reaclib__reverse>' does not match a rate in this library."
     ]
    }
   ],
   "source": [
    "r = mylib.get_rate(\"c12 + c12 --> n + mg23 <cf88_reaclib__reverse>\")\n",
    "r"
   ]
  },
  {
   "cell_type": "markdown",
   "id": "6b71a5da-fc50-4ea5-b2ed-c89e5afed3a8",
   "metadata": {},
   "source": [
    "This has the Q value:"
   ]
  },
  {
   "cell_type": "code",
   "execution_count": 5,
   "id": "14587d2a-19b2-4d05-9a2f-eaeb37ed39da",
   "metadata": {
    "execution": {
     "iopub.execute_input": "2024-10-17T10:07:12.994670Z",
     "iopub.status.busy": "2024-10-17T10:07:12.994330Z",
     "iopub.status.idle": "2024-10-17T10:07:13.006573Z",
     "shell.execute_reply": "2024-10-17T10:07:13.006147Z"
    }
   },
   "outputs": [
    {
     "ename": "NameError",
     "evalue": "name 'r' is not defined",
     "output_type": "error",
     "traceback": [
      "\u001b[0;31m---------------------------------------------------------------------------\u001b[0m",
      "\u001b[0;31mNameError\u001b[0m                                 Traceback (most recent call last)",
      "Cell \u001b[0;32mIn[5], line 1\u001b[0m\n\u001b[0;32m----> 1\u001b[0m \u001b[43mr\u001b[49m\u001b[38;5;241m.\u001b[39mQ\n",
      "\u001b[0;31mNameError\u001b[0m: name 'r' is not defined"
     ]
    }
   ],
   "source": [
    "r.Q"
   ]
  },
  {
   "cell_type": "markdown",
   "id": "0cfe6b49-1944-4ad4-8870-ffff987de786",
   "metadata": {},
   "source": [
    "Now we modify it"
   ]
  },
  {
   "cell_type": "code",
   "execution_count": 6,
   "id": "df86e360-e7ca-4401-a71a-432334a15f90",
   "metadata": {
    "execution": {
     "iopub.execute_input": "2024-10-17T10:07:13.008144Z",
     "iopub.status.busy": "2024-10-17T10:07:13.007811Z",
     "iopub.status.idle": "2024-10-17T10:07:13.018953Z",
     "shell.execute_reply": "2024-10-17T10:07:13.018533Z"
    }
   },
   "outputs": [
    {
     "ename": "NameError",
     "evalue": "name 'r' is not defined",
     "output_type": "error",
     "traceback": [
      "\u001b[0;31m---------------------------------------------------------------------------\u001b[0m",
      "\u001b[0;31mNameError\u001b[0m                                 Traceback (most recent call last)",
      "Cell \u001b[0;32mIn[6], line 1\u001b[0m\n\u001b[0;32m----> 1\u001b[0m \u001b[43mr\u001b[49m\u001b[38;5;241m.\u001b[39mmodify_products(\u001b[38;5;124m\"\u001b[39m\u001b[38;5;124mmg24\u001b[39m\u001b[38;5;124m\"\u001b[39m)\n\u001b[1;32m      2\u001b[0m r\n",
      "\u001b[0;31mNameError\u001b[0m: name 'r' is not defined"
     ]
    }
   ],
   "source": [
    "r.modify_products(\"mg24\")\n",
    "r"
   ]
  },
  {
   "cell_type": "markdown",
   "id": "7ea5badb-0a83-4a61-b2fa-f45b4956fd00",
   "metadata": {},
   "source": [
    "and we see that the Q value has been updated to reflect the new endpoint"
   ]
  },
  {
   "cell_type": "code",
   "execution_count": 7,
   "id": "d002c70a-aaac-4f8b-b18c-fd9fdfcbce02",
   "metadata": {
    "execution": {
     "iopub.execute_input": "2024-10-17T10:07:13.020446Z",
     "iopub.status.busy": "2024-10-17T10:07:13.020280Z",
     "iopub.status.idle": "2024-10-17T10:07:13.031654Z",
     "shell.execute_reply": "2024-10-17T10:07:13.031096Z"
    }
   },
   "outputs": [
    {
     "ename": "NameError",
     "evalue": "name 'r' is not defined",
     "output_type": "error",
     "traceback": [
      "\u001b[0;31m---------------------------------------------------------------------------\u001b[0m",
      "\u001b[0;31mNameError\u001b[0m                                 Traceback (most recent call last)",
      "Cell \u001b[0;32mIn[7], line 1\u001b[0m\n\u001b[0;32m----> 1\u001b[0m \u001b[43mr\u001b[49m\u001b[38;5;241m.\u001b[39mQ\n",
      "\u001b[0;31mNameError\u001b[0m: name 'r' is not defined"
     ]
    }
   ],
   "source": [
    "r.Q"
   ]
  },
  {
   "cell_type": "markdown",
   "id": "1d418f9f-ab0e-4cb4-8517-9f5e27fe2be7",
   "metadata": {},
   "source": [
    "Now let's build a network that includes the nuclei involved in our carbon burning.  We'll start by leaving off the ${}^{23}\\mathrm{Mg}$"
   ]
  },
  {
   "cell_type": "code",
   "execution_count": 8,
   "id": "4fdd0244-9935-471b-9251-685f2b658173",
   "metadata": {
    "execution": {
     "iopub.execute_input": "2024-10-17T10:07:13.033401Z",
     "iopub.status.busy": "2024-10-17T10:07:13.033102Z",
     "iopub.status.idle": "2024-10-17T10:07:13.101987Z",
     "shell.execute_reply": "2024-10-17T10:07:13.101391Z"
    }
   },
   "outputs": [],
   "source": [
    "mylib2 = reaclib_library.linking_nuclei([\"p\", \"he4\", \"c12\", \"o16\", \"ne20\", \"na23\", \"mg24\"])"
   ]
  },
  {
   "cell_type": "markdown",
   "id": "0ee92979-b07b-4fb3-b600-3c5fa2a4e380",
   "metadata": {},
   "source": [
    "Now we add in our modified rate"
   ]
  },
  {
   "cell_type": "code",
   "execution_count": 9,
   "id": "1a8cac1c-fdf6-47a3-bd1b-12172ab7123a",
   "metadata": {
    "execution": {
     "iopub.execute_input": "2024-10-17T10:07:13.103638Z",
     "iopub.status.busy": "2024-10-17T10:07:13.103469Z",
     "iopub.status.idle": "2024-10-17T10:07:13.115745Z",
     "shell.execute_reply": "2024-10-17T10:07:13.115329Z"
    }
   },
   "outputs": [
    {
     "ename": "NameError",
     "evalue": "name 'r' is not defined",
     "output_type": "error",
     "traceback": [
      "\u001b[0;31m---------------------------------------------------------------------------\u001b[0m",
      "\u001b[0;31mNameError\u001b[0m                                 Traceback (most recent call last)",
      "Cell \u001b[0;32mIn[9], line 1\u001b[0m\n\u001b[0;32m----> 1\u001b[0m mylib2 \u001b[38;5;241m+\u001b[39m\u001b[38;5;241m=\u001b[39m pyna\u001b[38;5;241m.\u001b[39mLibrary(rates\u001b[38;5;241m=\u001b[39m[\u001b[43mr\u001b[49m])\n",
      "\u001b[0;31mNameError\u001b[0m: name 'r' is not defined"
     ]
    }
   ],
   "source": [
    "mylib2 += pyna.Library(rates=[r])"
   ]
  },
  {
   "cell_type": "code",
   "execution_count": 10,
   "id": "9c56630c-db05-45e9-9f73-a36189d21689",
   "metadata": {
    "execution": {
     "iopub.execute_input": "2024-10-17T10:07:13.117344Z",
     "iopub.status.busy": "2024-10-17T10:07:13.117032Z",
     "iopub.status.idle": "2024-10-17T10:07:13.120885Z",
     "shell.execute_reply": "2024-10-17T10:07:13.120339Z"
    }
   },
   "outputs": [
    {
     "data": {
      "text/plain": [
       "He4 + He4 + He4 ⟶ C12 + 𝛾      [Q =   7.28 MeV] (He4 + He4 + He4 --> C12 <fy05_reaclib__>)\n",
       "C12 + He4 ⟶ O16 + 𝛾            [Q =   7.16 MeV] (C12 + He4 --> O16 <nac2_reaclib__>)\n",
       "C12 + C12 ⟶ He4 + Ne20         [Q =   4.62 MeV] (C12 + C12 --> He4 + Ne20 <cf88_reaclib__>)\n",
       "C12 + C12 ⟶ p + Na23           [Q =   2.24 MeV] (C12 + C12 --> p + Na23 <cf88_reaclib__>)\n",
       "O16 + He4 ⟶ Ne20 + 𝛾           [Q =   4.73 MeV] (O16 + He4 --> Ne20 <co10_reaclib__>)\n",
       "O16 + C12 ⟶ He4 + Mg24         [Q =   6.77 MeV] (O16 + C12 --> He4 + Mg24 <cf88_reaclib__>)\n",
       "Ne20 + He4 ⟶ Mg24 + 𝛾          [Q =   9.32 MeV] (Ne20 + He4 --> Mg24 <il10_reaclib__>)\n",
       "Na23 + p ⟶ He4 + Ne20          [Q =   2.38 MeV] (Na23 + p --> He4 + Ne20 <il10_reaclib__>)\n",
       "Na23 + p ⟶ Mg24 + 𝛾            [Q =  11.69 MeV] (Na23 + p --> Mg24 <il10_reaclib__>)\n",
       "C12 ⟶ He4 + He4 + He4          [Q =  -7.28 MeV] (C12 --> He4 + He4 + He4 <fy05_reaclib__reverse>)\n",
       "O16 ⟶ He4 + C12                [Q =  -7.16 MeV] (O16 --> He4 + C12 <nac2_reaclib__reverse>)\n",
       "Ne20 + He4 ⟶ C12 + C12         [Q =  -4.62 MeV] (Ne20 + He4 --> C12 + C12 <cf88_reaclib__reverse>)\n",
       "Ne20 + He4 ⟶ p + Na23          [Q =  -2.38 MeV] (Ne20 + He4 --> p + Na23 <il10_reaclib__reverse>)\n",
       "Ne20 ⟶ He4 + O16               [Q =  -4.73 MeV] (Ne20 --> He4 + O16 <co10_reaclib__reverse>)\n",
       "Na23 + p ⟶ C12 + C12           [Q =  -2.24 MeV] (Na23 + p --> C12 + C12 <cf88_reaclib__reverse>)\n",
       "Mg24 + He4 ⟶ C12 + O16         [Q =  -6.77 MeV] (Mg24 + He4 --> C12 + O16 <cf88_reaclib__reverse>)\n",
       "Mg24 ⟶ He4 + Ne20              [Q =  -9.32 MeV] (Mg24 --> He4 + Ne20 <il10_reaclib__reverse>)\n",
       "Mg24 ⟶ p + Na23                [Q = -11.69 MeV] (Mg24 --> p + Na23 <il10_reaclib__reverse>)"
      ]
     },
     "execution_count": 10,
     "metadata": {},
     "output_type": "execute_result"
    }
   ],
   "source": [
    "mylib2"
   ]
  },
  {
   "cell_type": "code",
   "execution_count": 11,
   "id": "81a56946-86bf-4414-9d0a-354bbd0f68e8",
   "metadata": {
    "execution": {
     "iopub.execute_input": "2024-10-17T10:07:13.122538Z",
     "iopub.status.busy": "2024-10-17T10:07:13.122257Z",
     "iopub.status.idle": "2024-10-17T10:07:13.390858Z",
     "shell.execute_reply": "2024-10-17T10:07:13.390270Z"
    }
   },
   "outputs": [
    {
     "data": {
      "image/png": "[encoded data removed]",
      "text/plain": [
       "<Figure size 800x600 with 1 Axes>"
      ]
     },
     "metadata": {},
     "output_type": "display_data"
    }
   ],
   "source": [
    "rc = pyna.RateCollection(libraries=[mylib2])\n",
    "fig = rc.plot(rotated=True, curved_edges=True, hide_xalpha=True)"
   ]
  }
 ],
 "metadata": {
  "kernelspec": {
   "display_name": "Python 3 (ipykernel)",
   "language": "python",
   "name": "python3"
  },
  "language_info": {
   "codemirror_mode": {
    "name": "ipython",
    "version": 3
   },
   "file_extension": ".py",
   "mimetype": "text/x-python",
   "name": "python",
   "nbconvert_exporter": "python",
   "pygments_lexer": "ipython3",
   "version": "3.11.10"
  }
 },
 "nbformat": 4,
 "nbformat_minor": 5
}
