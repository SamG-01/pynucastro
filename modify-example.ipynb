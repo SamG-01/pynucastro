{
 "cells": [
  {
   "cell_type": "markdown",
   "id": "3d8f6f06-14c4-44a4-8f24-02de86401b43",
   "metadata": {},
   "source": [
    "# Modifying Rates"
   ]
  },
  {
   "cell_type": "markdown",
   "id": "4270b368-1213-4e6b-b0d9-7f5da5d47641",
   "metadata": {},
   "source": [
    "Sometimes we want to change the nuclei involved in rates to simplify our network.  Currently,\n",
    "pynucastro supports changing the products.  Here's an example."
   ]
  },
  {
   "cell_type": "code",
   "execution_count": 1,
   "id": "7b4a96a3-0898-4665-90c6-9ae45725a95a",
   "metadata": {
    "execution": {
     "iopub.execute_input": "2024-10-17T07:53:32.607685Z",
     "iopub.status.busy": "2024-10-17T07:53:32.607498Z",
     "iopub.status.idle": "2024-10-17T07:53:34.058152Z",
     "shell.execute_reply": "2024-10-17T07:53:34.057508Z"
    }
   },
   "outputs": [],
   "source": [
    "import pynucastro as pyna"
   ]
  },
  {
   "cell_type": "code",
   "execution_count": 2,
   "id": "99c975eb-1457-48f5-aa18-b540818109b0",
   "metadata": {
    "execution": {
     "iopub.execute_input": "2024-10-17T07:53:34.060544Z",
     "iopub.status.busy": "2024-10-17T07:53:34.060204Z",
     "iopub.status.idle": "2024-10-17T07:53:38.011347Z",
     "shell.execute_reply": "2024-10-17T07:53:38.010772Z"
    }
   },
   "outputs": [],
   "source": [
    "reaclib_library = pyna.ReacLibLibrary()"
   ]
  },
  {
   "cell_type": "markdown",
   "id": "ab3e7134-6849-415f-a079-8348058691b2",
   "metadata": {},
   "source": [
    "We want to model ${}^{12}\\mathrm{C} + {}^{12}\\mathrm{C}$ reactions.  There are 3 rates involved."
   ]
  },
  {
   "cell_type": "code",
   "execution_count": 3,
   "id": "09b02e00-07d3-4b47-86bd-09b47ce7b3d4",
   "metadata": {
    "execution": {
     "iopub.execute_input": "2024-10-17T07:53:38.013628Z",
     "iopub.status.busy": "2024-10-17T07:53:38.013435Z",
     "iopub.status.idle": "2024-10-17T07:53:38.120657Z",
     "shell.execute_reply": "2024-10-17T07:53:38.120114Z"
    }
   },
   "outputs": [
    {
     "data": {
      "text/plain": [
       "C12 + C12 ⟶ He4 + Ne20         [Q =   4.62 MeV] (C12 + C12 --> He4 + Ne20 <cf88_reaclib__>)\n",
       "C12 + C12 ⟶ p + Na23           [Q =   2.24 MeV] (C12 + C12 --> p + Na23 <cf88_reaclib__>)\n",
       "C12 + C12 ⟶ n + Mg23           [Q =  -2.60 MeV] (C12 + C12 --> n + Mg23 <cf88_reaclib__reverse>)"
      ]
     },
     "execution_count": 3,
     "metadata": {},
     "output_type": "execute_result"
    }
   ],
   "source": [
    "filter = pyna.RateFilter(reactants=[\"c12\", \"c12\"])\n",
    "mylib = reaclib_library.filter(filter)\n",
    "mylib                       "
   ]
  },
  {
   "cell_type": "markdown",
   "id": "9ad2e666-1d18-4fdb-8b25-386ea583a1a3",
   "metadata": {},
   "source": [
    "The rate ${}^{12}\\mathrm{C}({}^{12}\\mathrm{C},n){}^{23}\\mathrm{Mg}$ is quickly followed by ${}^{23}\\mathrm{Mg}(n,\\gamma){}^{24}\\mathrm{Mg}$, so we want to modify that rate sequence to just be ${}^{12}\\mathrm{C}({}^{12}\\mathrm{C},\\gamma){}^{24}\\mathrm{Mg}$"
   ]
  },
  {
   "cell_type": "code",
   "execution_count": 4,
   "id": "a3a654f5-fc0d-4de4-bc1e-e5a6322014c9",
   "metadata": {
    "execution": {
     "iopub.execute_input": "2024-10-17T07:53:38.122598Z",
     "iopub.status.busy": "2024-10-17T07:53:38.122230Z",
     "iopub.status.idle": "2024-10-17T07:53:38.125864Z",
     "shell.execute_reply": "2024-10-17T07:53:38.125435Z"
    }
   },
   "outputs": [
    {
     "data": {
      "text/plain": [
       "C12 + C12 ⟶ n + Mg23"
      ]
     },
     "execution_count": 4,
     "metadata": {},
     "output_type": "execute_result"
    }
   ],
   "source": [
    "r = mylib.get_rate(\"c12 + c12 --> n + mg23 <cf88_reaclib__reverse>\")\n",
    "r"
   ]
  },
  {
   "cell_type": "markdown",
   "id": "6b71a5da-fc50-4ea5-b2ed-c89e5afed3a8",
   "metadata": {},
   "source": [
    "This has the Q value:"
   ]
  },
  {
   "cell_type": "code",
   "execution_count": 5,
   "id": "14587d2a-19b2-4d05-9a2f-eaeb37ed39da",
   "metadata": {
    "execution": {
     "iopub.execute_input": "2024-10-17T07:53:38.127687Z",
     "iopub.status.busy": "2024-10-17T07:53:38.127358Z",
     "iopub.status.idle": "2024-10-17T07:53:38.130678Z",
     "shell.execute_reply": "2024-10-17T07:53:38.130251Z"
    }
   },
   "outputs": [
    {
     "data": {
      "text/plain": [
       "-2.598"
      ]
     },
     "execution_count": 5,
     "metadata": {},
     "output_type": "execute_result"
    }
   ],
   "source": [
    "r.Q"
   ]
  },
  {
   "cell_type": "markdown",
   "id": "0cfe6b49-1944-4ad4-8870-ffff987de786",
   "metadata": {},
   "source": [
    "Now we modify it"
   ]
  },
  {
   "cell_type": "code",
   "execution_count": 6,
   "id": "df86e360-e7ca-4401-a71a-432334a15f90",
   "metadata": {
    "execution": {
     "iopub.execute_input": "2024-10-17T07:53:38.132450Z",
     "iopub.status.busy": "2024-10-17T07:53:38.132121Z",
     "iopub.status.idle": "2024-10-17T07:53:38.135318Z",
     "shell.execute_reply": "2024-10-17T07:53:38.134882Z"
    }
   },
   "outputs": [
    {
     "data": {
      "text/plain": [
       "C12 + C12 ⟶ Mg24 + 𝛾"
      ]
     },
     "execution_count": 6,
     "metadata": {},
     "output_type": "execute_result"
    }
   ],
   "source": [
    "r.modify_products(\"mg24\")\n",
    "r"
   ]
  },
  {
   "cell_type": "markdown",
   "id": "7ea5badb-0a83-4a61-b2fa-f45b4956fd00",
   "metadata": {},
   "source": [
    "and we see that the Q value has been updated to reflect the new endpoint"
   ]
  },
  {
   "cell_type": "code",
   "execution_count": 7,
   "id": "d002c70a-aaac-4f8b-b18c-fd9fdfcbce02",
   "metadata": {
    "execution": {
     "iopub.execute_input": "2024-10-17T07:53:38.136999Z",
     "iopub.status.busy": "2024-10-17T07:53:38.136670Z",
     "iopub.status.idle": "2024-10-17T07:53:38.140090Z",
     "shell.execute_reply": "2024-10-17T07:53:38.139499Z"
    }
   },
   "outputs": [
    {
     "data": {
      "text/plain": [
       "13.933578000000125"
      ]
     },
     "execution_count": 7,
     "metadata": {},
     "output_type": "execute_result"
    }
   ],
   "source": [
    "r.Q"
   ]
  },
  {
   "cell_type": "markdown",
   "id": "1d418f9f-ab0e-4cb4-8517-9f5e27fe2be7",
   "metadata": {},
   "source": [
    "Now let's build a network that includes the nuclei involved in our carbon burning.  We'll start by leaving off the ${}^{23}\\mathrm{Mg}$"
   ]
  },
  {
   "cell_type": "code",
   "execution_count": 8,
   "id": "4fdd0244-9935-471b-9251-685f2b658173",
   "metadata": {
    "execution": {
     "iopub.execute_input": "2024-10-17T07:53:38.141940Z",
     "iopub.status.busy": "2024-10-17T07:53:38.141602Z",
     "iopub.status.idle": "2024-10-17T07:53:38.719142Z",
     "shell.execute_reply": "2024-10-17T07:53:38.718585Z"
    }
   },
   "outputs": [
    {
     "ename": "AttributeError",
     "evalue": "'NoneType' object has no attribute 'values'",
     "output_type": "error",
     "traceback": [
      "\u001b[0;31m---------------------------------------------------------------------------\u001b[0m",
      "\u001b[0;31mAttributeError\u001b[0m                            Traceback (most recent call last)",
      "Cell \u001b[0;32mIn[8], line 1\u001b[0m\n\u001b[0;32m----> 1\u001b[0m mylib2 \u001b[38;5;241m=\u001b[39m \u001b[43mreaclib_library\u001b[49m\u001b[38;5;241;43m.\u001b[39;49m\u001b[43mlinking_nuclei\u001b[49m\u001b[43m(\u001b[49m\u001b[43m[\u001b[49m\u001b[38;5;124;43m\"\u001b[39;49m\u001b[38;5;124;43mp\u001b[39;49m\u001b[38;5;124;43m\"\u001b[39;49m\u001b[43m,\u001b[49m\u001b[43m \u001b[49m\u001b[38;5;124;43m\"\u001b[39;49m\u001b[38;5;124;43mhe4\u001b[39;49m\u001b[38;5;124;43m\"\u001b[39;49m\u001b[43m,\u001b[49m\u001b[43m \u001b[49m\u001b[38;5;124;43m\"\u001b[39;49m\u001b[38;5;124;43mc12\u001b[39;49m\u001b[38;5;124;43m\"\u001b[39;49m\u001b[43m,\u001b[49m\u001b[43m \u001b[49m\u001b[38;5;124;43m\"\u001b[39;49m\u001b[38;5;124;43mo16\u001b[39;49m\u001b[38;5;124;43m\"\u001b[39;49m\u001b[43m,\u001b[49m\u001b[43m \u001b[49m\u001b[38;5;124;43m\"\u001b[39;49m\u001b[38;5;124;43mne20\u001b[39;49m\u001b[38;5;124;43m\"\u001b[39;49m\u001b[43m,\u001b[49m\u001b[43m \u001b[49m\u001b[38;5;124;43m\"\u001b[39;49m\u001b[38;5;124;43mna23\u001b[39;49m\u001b[38;5;124;43m\"\u001b[39;49m\u001b[43m,\u001b[49m\u001b[43m \u001b[49m\u001b[38;5;124;43m\"\u001b[39;49m\u001b[38;5;124;43mmg24\u001b[39;49m\u001b[38;5;124;43m\"\u001b[39;49m\u001b[43m]\u001b[49m\u001b[43m)\u001b[49m\n",
      "File \u001b[0;32m/opt/hostedtoolcache/Python/3.11.10/x64/lib/python3.11/site-packages/pynucastro/rates/library.py:442\u001b[0m, in \u001b[0;36mLibrary.linking_nuclei\u001b[0;34m(self, nuclist, with_reverse, print_warning)\u001b[0m\n\u001b[1;32m    439\u001b[0m         filtered_rates\u001b[38;5;241m.\u001b[39mappend(r)\n\u001b[1;32m    441\u001b[0m \u001b[38;5;66;03m# create a new library containing the filtered rates\u001b[39;00m\n\u001b[0;32m--> 442\u001b[0m new_lib \u001b[38;5;241m=\u001b[39m \u001b[43mLibrary\u001b[49m\u001b[43m(\u001b[49m\u001b[43mrates\u001b[49m\u001b[38;5;241;43m=\u001b[39;49m\u001b[43mfiltered_rates\u001b[49m\u001b[43m)\u001b[49m\n\u001b[1;32m    444\u001b[0m \u001b[38;5;66;03m# print out a warning if one of the input nuclei is not linked\u001b[39;00m\n\u001b[1;32m    445\u001b[0m \u001b[38;5;28;01mif\u001b[39;00m print_warning:\n",
      "File \u001b[0;32m/opt/hostedtoolcache/Python/3.11.10/x64/lib/python3.11/site-packages/pynucastro/rates/library.py:130\u001b[0m, in \u001b[0;36mLibrary.__init__\u001b[0;34m(self, libfile, rates)\u001b[0m\n\u001b[1;32m    128\u001b[0m     \u001b[38;5;28mself\u001b[39m\u001b[38;5;241m.\u001b[39m_rates \u001b[38;5;241m=\u001b[39m rates\n\u001b[1;32m    129\u001b[0m \u001b[38;5;28;01melif\u001b[39;00m \u001b[38;5;28misinstance\u001b[39m(rates, (\u001b[38;5;28mlist\u001b[39m, \u001b[38;5;28mset\u001b[39m)):\n\u001b[0;32m--> 130\u001b[0m     \u001b[38;5;28;43mself\u001b[39;49m\u001b[38;5;241;43m.\u001b[39;49m\u001b[43madd_rates\u001b[49m\u001b[43m(\u001b[49m\u001b[43mrates\u001b[49m\u001b[43m)\u001b[49m\n\u001b[1;32m    131\u001b[0m \u001b[38;5;28;01melse\u001b[39;00m:\n\u001b[1;32m    132\u001b[0m     \u001b[38;5;28;01mraise\u001b[39;00m \u001b[38;5;167;01mTypeError\u001b[39;00m(\u001b[38;5;124m\"\u001b[39m\u001b[38;5;124mrates in Library constructor must be a Rate object, list of Rate objects, or dictionary of Rate objects keyed by Rate.get_rate_id()\u001b[39m\u001b[38;5;124m\"\u001b[39m)\n",
      "File \u001b[0;32m/opt/hostedtoolcache/Python/3.11.10/x64/lib/python3.11/site-packages/pynucastro/rates/library.py:180\u001b[0m, in \u001b[0;36mLibrary.add_rates\u001b[0;34m(self, ratelist)\u001b[0m\n\u001b[1;32m    178\u001b[0m \u001b[38;5;250m\u001b[39m\u001b[38;5;124;03m\"\"\" Add to the rate dictionary from the supplied list of Rate objects.\"\"\"\u001b[39;00m\n\u001b[1;32m    179\u001b[0m \u001b[38;5;28;01mfor\u001b[39;00m rate \u001b[38;5;129;01min\u001b[39;00m ratelist:\n\u001b[0;32m--> 180\u001b[0m     \u001b[38;5;28;01mif\u001b[39;00m rate \u001b[38;5;129;01min\u001b[39;00m \u001b[38;5;28;43mself\u001b[39;49m\u001b[38;5;241;43m.\u001b[39;49m\u001b[43mrates\u001b[49m:\n\u001b[1;32m    181\u001b[0m         rid \u001b[38;5;241m=\u001b[39m rate\u001b[38;5;241m.\u001b[39mid\n\u001b[1;32m    182\u001b[0m         \u001b[38;5;28;01mraise\u001b[39;00m \u001b[38;5;167;01mValueError\u001b[39;00m(\u001b[38;5;124mf\u001b[39m\u001b[38;5;124m\"\u001b[39m\u001b[38;5;124msupplied a Rate object already in the Library: \u001b[39m\u001b[38;5;132;01m{\u001b[39;00mrid\u001b[38;5;132;01m}\u001b[39;00m\u001b[38;5;124m\"\u001b[39m)\n",
      "File \u001b[0;32m/opt/hostedtoolcache/Python/3.11.10/x64/lib/python3.11/site-packages/pynucastro/rates/library.py:143\u001b[0m, in \u001b[0;36mLibrary.get_rates\u001b[0;34m(self)\u001b[0m\n\u001b[1;32m    141\u001b[0m \u001b[38;5;28;01mdef\u001b[39;00m \u001b[38;5;21mget_rates\u001b[39m(\u001b[38;5;28mself\u001b[39m) \u001b[38;5;241m-\u001b[39m\u001b[38;5;241m>\u001b[39m \u001b[38;5;28mlist\u001b[39m[Rate]:\n\u001b[1;32m    142\u001b[0m \u001b[38;5;250m    \u001b[39m\u001b[38;5;124;03m\"\"\" Return a list of the rates in this library.\"\"\"\u001b[39;00m\n\u001b[0;32m--> 143\u001b[0m     \u001b[38;5;28;01mreturn\u001b[39;00m \u001b[38;5;28mlist\u001b[39m(\u001b[38;5;28;43mself\u001b[39;49m\u001b[38;5;241;43m.\u001b[39;49m\u001b[43m_rates\u001b[49m\u001b[38;5;241;43m.\u001b[39;49m\u001b[43mvalues\u001b[49m())\n",
      "\u001b[0;31mAttributeError\u001b[0m: 'NoneType' object has no attribute 'values'"
     ]
    }
   ],
   "source": [
    "mylib2 = reaclib_library.linking_nuclei([\"p\", \"he4\", \"c12\", \"o16\", \"ne20\", \"na23\", \"mg24\"])"
   ]
  },
  {
   "cell_type": "markdown",
   "id": "0ee92979-b07b-4fb3-b600-3c5fa2a4e380",
   "metadata": {},
   "source": [
    "Now we add in our modified rate"
   ]
  },
  {
   "cell_type": "code",
   "execution_count": 9,
   "id": "1a8cac1c-fdf6-47a3-bd1b-12172ab7123a",
   "metadata": {
    "execution": {
     "iopub.execute_input": "2024-10-17T07:53:38.721075Z",
     "iopub.status.busy": "2024-10-17T07:53:38.720702Z",
     "iopub.status.idle": "2024-10-17T07:53:38.734770Z",
     "shell.execute_reply": "2024-10-17T07:53:38.734205Z"
    }
   },
   "outputs": [
    {
     "ename": "NameError",
     "evalue": "name 'mylib2' is not defined",
     "output_type": "error",
     "traceback": [
      "\u001b[0;31m---------------------------------------------------------------------------\u001b[0m",
      "\u001b[0;31mNameError\u001b[0m                                 Traceback (most recent call last)",
      "Cell \u001b[0;32mIn[9], line 1\u001b[0m\n\u001b[0;32m----> 1\u001b[0m \u001b[43mmylib2\u001b[49m \u001b[38;5;241m+\u001b[39m\u001b[38;5;241m=\u001b[39m pyna\u001b[38;5;241m.\u001b[39mLibrary(rates\u001b[38;5;241m=\u001b[39m[r])\n",
      "\u001b[0;31mNameError\u001b[0m: name 'mylib2' is not defined"
     ]
    }
   ],
   "source": [
    "mylib2 += pyna.Library(rates=[r])"
   ]
  },
  {
   "cell_type": "code",
   "execution_count": 10,
   "id": "9c56630c-db05-45e9-9f73-a36189d21689",
   "metadata": {
    "execution": {
     "iopub.execute_input": "2024-10-17T07:53:38.736616Z",
     "iopub.status.busy": "2024-10-17T07:53:38.736214Z",
     "iopub.status.idle": "2024-10-17T07:53:38.749045Z",
     "shell.execute_reply": "2024-10-17T07:53:38.748484Z"
    }
   },
   "outputs": [
    {
     "ename": "NameError",
     "evalue": "name 'mylib2' is not defined",
     "output_type": "error",
     "traceback": [
      "\u001b[0;31m---------------------------------------------------------------------------\u001b[0m",
      "\u001b[0;31mNameError\u001b[0m                                 Traceback (most recent call last)",
      "Cell \u001b[0;32mIn[10], line 1\u001b[0m\n\u001b[0;32m----> 1\u001b[0m \u001b[43mmylib2\u001b[49m\n",
      "\u001b[0;31mNameError\u001b[0m: name 'mylib2' is not defined"
     ]
    }
   ],
   "source": [
    "mylib2"
   ]
  },
  {
   "cell_type": "code",
   "execution_count": 11,
   "id": "81a56946-86bf-4414-9d0a-354bbd0f68e8",
   "metadata": {
    "execution": {
     "iopub.execute_input": "2024-10-17T07:53:38.750901Z",
     "iopub.status.busy": "2024-10-17T07:53:38.750603Z",
     "iopub.status.idle": "2024-10-17T07:53:38.763244Z",
     "shell.execute_reply": "2024-10-17T07:53:38.762680Z"
    }
   },
   "outputs": [
    {
     "ename": "NameError",
     "evalue": "name 'mylib2' is not defined",
     "output_type": "error",
     "traceback": [
      "\u001b[0;31m---------------------------------------------------------------------------\u001b[0m",
      "\u001b[0;31mNameError\u001b[0m                                 Traceback (most recent call last)",
      "Cell \u001b[0;32mIn[11], line 1\u001b[0m\n\u001b[0;32m----> 1\u001b[0m rc \u001b[38;5;241m=\u001b[39m pyna\u001b[38;5;241m.\u001b[39mRateCollection(libraries\u001b[38;5;241m=\u001b[39m[\u001b[43mmylib2\u001b[49m])\n\u001b[1;32m      2\u001b[0m fig \u001b[38;5;241m=\u001b[39m rc\u001b[38;5;241m.\u001b[39mplot(rotated\u001b[38;5;241m=\u001b[39m\u001b[38;5;28;01mTrue\u001b[39;00m, curved_edges\u001b[38;5;241m=\u001b[39m\u001b[38;5;28;01mTrue\u001b[39;00m, hide_xalpha\u001b[38;5;241m=\u001b[39m\u001b[38;5;28;01mTrue\u001b[39;00m)\n",
      "\u001b[0;31mNameError\u001b[0m: name 'mylib2' is not defined"
     ]
    }
   ],
   "source": [
    "rc = pyna.RateCollection(libraries=[mylib2])\n",
    "fig = rc.plot(rotated=True, curved_edges=True, hide_xalpha=True)"
   ]
  }
 ],
 "metadata": {
  "kernelspec": {
   "display_name": "Python 3 (ipykernel)",
   "language": "python",
   "name": "python3"
  },
  "language_info": {
   "codemirror_mode": {
    "name": "ipython",
    "version": 3
   },
   "file_extension": ".py",
   "mimetype": "text/x-python",
   "name": "python",
   "nbconvert_exporter": "python",
   "pygments_lexer": "ipython3",
   "version": "3.11.10"
  }
 },
 "nbformat": 4,
 "nbformat_minor": 5
}
