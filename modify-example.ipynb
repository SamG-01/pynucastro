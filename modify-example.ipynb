{
 "cells": [
  {
   "cell_type": "markdown",
   "id": "3d8f6f06-14c4-44a4-8f24-02de86401b43",
   "metadata": {},
   "source": [
    "# Modifying Rates"
   ]
  },
  {
   "cell_type": "markdown",
   "id": "4270b368-1213-4e6b-b0d9-7f5da5d47641",
   "metadata": {},
   "source": [
    "Sometimes we want to change the nuclei involved in rates to simplify our network.  Currently,\n",
    "pynucastro supports changing the products.  Here's an example."
   ]
  },
  {
   "cell_type": "code",
   "execution_count": 1,
   "id": "7b4a96a3-0898-4665-90c6-9ae45725a95a",
   "metadata": {
    "execution": {
     "iopub.execute_input": "2024-10-17T07:31:43.097390Z",
     "iopub.status.busy": "2024-10-17T07:31:43.096918Z",
     "iopub.status.idle": "2024-10-17T07:31:45.043658Z",
     "shell.execute_reply": "2024-10-17T07:31:45.043118Z"
    }
   },
   "outputs": [
    {
     "ename": "ModuleNotFoundError",
     "evalue": "No module named 'microphysics'",
     "output_type": "error",
     "traceback": [
      "\u001b[0;31m---------------------------------------------------------------------------\u001b[0m",
      "\u001b[0;31mModuleNotFoundError\u001b[0m                       Traceback (most recent call last)",
      "Cell \u001b[0;32mIn[1], line 1\u001b[0m\n\u001b[0;32m----> 1\u001b[0m \u001b[38;5;28;01mimport\u001b[39;00m \u001b[38;5;21;01mpynucastro\u001b[39;00m \u001b[38;5;28;01mas\u001b[39;00m \u001b[38;5;21;01mpyna\u001b[39;00m\n",
      "File \u001b[0;32m/opt/hostedtoolcache/Python/3.11.10/x64/lib/python3.11/site-packages/pynucastro/__init__.py:132\u001b[0m\n\u001b[1;32m    128\u001b[0m __version__ \u001b[38;5;241m=\u001b[39m version\n\u001b[1;32m    131\u001b[0m \u001b[38;5;28;01mimport\u001b[39;00m \u001b[38;5;21;01mpynucastro\u001b[39;00m\u001b[38;5;21;01m.\u001b[39;00m\u001b[38;5;21;01mscreening\u001b[39;00m\n\u001b[0;32m--> 132\u001b[0m \u001b[38;5;28;01mfrom\u001b[39;00m \u001b[38;5;21;01mpynucastro\u001b[39;00m\u001b[38;5;21;01m.\u001b[39;00m\u001b[38;5;21;01mnetworks\u001b[39;00m \u001b[38;5;28;01mimport\u001b[39;00m (AmrexAstroCxxNetwork, BaseCxxNetwork,\n\u001b[1;32m    133\u001b[0m                                  Composition, Explorer, NSENetwork,\n\u001b[1;32m    134\u001b[0m                                  NumpyNetwork, PythonNetwork, RateCollection,\n\u001b[1;32m    135\u001b[0m                                  SimpleCxxNetwork, StarKillerCxxNetwork,\n\u001b[1;32m    136\u001b[0m                                  SympyRates)\n\u001b[1;32m    137\u001b[0m \u001b[38;5;28;01mfrom\u001b[39;00m \u001b[38;5;21;01mpynucastro\u001b[39;00m\u001b[38;5;21;01m.\u001b[39;00m\u001b[38;5;21;01mnucdata\u001b[39;00m \u001b[38;5;28;01mimport\u001b[39;00m Nucleus, get_all_nuclei, get_nuclei_in_range\n\u001b[1;32m    138\u001b[0m \u001b[38;5;28;01mfrom\u001b[39;00m \u001b[38;5;21;01mpynucastro\u001b[39;00m\u001b[38;5;21;01m.\u001b[39;00m\u001b[38;5;21;01mrates\u001b[39;00m \u001b[38;5;28;01mimport\u001b[39;00m (ApproximateRate, DerivedRate, LangankeLibrary,\n\u001b[1;32m    139\u001b[0m                               Library, Rate, RateFilter, ReacLibLibrary,\n\u001b[1;32m    140\u001b[0m                               SuzukiLibrary, TabularLibrary, Tfactors,\n\u001b[1;32m    141\u001b[0m                               list_known_rates, load_rate)\n",
      "File \u001b[0;32m/opt/hostedtoolcache/Python/3.11.10/x64/lib/python3.11/site-packages/pynucastro/networks/__init__.py:29\u001b[0m\n\u001b[1;32m      1\u001b[0m \u001b[38;5;124;03m\"\"\"The pynucastro modules that support the creation of networks.\u001b[39;00m\n\u001b[1;32m      2\u001b[0m \u001b[38;5;124;03mThere are several main submodules here:\u001b[39;00m\n\u001b[1;32m      3\u001b[0m \n\u001b[0;32m   (...)\u001b[0m\n\u001b[1;32m     24\u001b[0m \n\u001b[1;32m     25\u001b[0m \u001b[38;5;124;03m\"\"\"\u001b[39;00m\n\u001b[1;32m     27\u001b[0m \u001b[38;5;66;03m#__all__ = [\"python_network\", \"rate_collection\", \"sympy_network_support\"]\u001b[39;00m\n\u001b[0;32m---> 29\u001b[0m \u001b[38;5;28;01mfrom\u001b[39;00m \u001b[38;5;21;01m.\u001b[39;00m\u001b[38;5;21;01mamrexastro_cxx_network\u001b[39;00m \u001b[38;5;28;01mimport\u001b[39;00m AmrexAstroCxxNetwork\n\u001b[1;32m     30\u001b[0m \u001b[38;5;28;01mfrom\u001b[39;00m \u001b[38;5;21;01m.\u001b[39;00m\u001b[38;5;21;01mbase_cxx_network\u001b[39;00m \u001b[38;5;28;01mimport\u001b[39;00m BaseCxxNetwork\n\u001b[1;32m     31\u001b[0m \u001b[38;5;28;01mfrom\u001b[39;00m \u001b[38;5;21;01m.\u001b[39;00m\u001b[38;5;21;01mnse_network\u001b[39;00m \u001b[38;5;28;01mimport\u001b[39;00m NSENetwork\n",
      "File \u001b[0;32m/opt/hostedtoolcache/Python/3.11.10/x64/lib/python3.11/site-packages/pynucastro/networks/amrexastro_cxx_network.py:9\u001b[0m\n\u001b[1;32m      6\u001b[0m \u001b[38;5;28;01mimport\u001b[39;00m \u001b[38;5;21;01mre\u001b[39;00m\n\u001b[1;32m      7\u001b[0m \u001b[38;5;28;01mfrom\u001b[39;00m \u001b[38;5;21;01mpathlib\u001b[39;00m \u001b[38;5;28;01mimport\u001b[39;00m Path\n\u001b[0;32m----> 9\u001b[0m \u001b[38;5;28;01mfrom\u001b[39;00m \u001b[38;5;21;01mpynucastro\u001b[39;00m\u001b[38;5;21;01m.\u001b[39;00m\u001b[38;5;21;01mnetworks\u001b[39;00m\u001b[38;5;21;01m.\u001b[39;00m\u001b[38;5;21;01mbase_cxx_network\u001b[39;00m \u001b[38;5;28;01mimport\u001b[39;00m BaseCxxNetwork\n\u001b[1;32m     10\u001b[0m \u001b[38;5;28;01mfrom\u001b[39;00m \u001b[38;5;21;01mpynucastro\u001b[39;00m\u001b[38;5;21;01m.\u001b[39;00m\u001b[38;5;21;01mnucdata\u001b[39;00m \u001b[38;5;28;01mimport\u001b[39;00m Nucleus\n\u001b[1;32m     11\u001b[0m \u001b[38;5;28;01mfrom\u001b[39;00m \u001b[38;5;21;01mpynucastro\u001b[39;00m\u001b[38;5;21;01m.\u001b[39;00m\u001b[38;5;21;01mrates\u001b[39;00m \u001b[38;5;28;01mimport\u001b[39;00m ReacLibRate\n",
      "File \u001b[0;32m/opt/hostedtoolcache/Python/3.11.10/x64/lib/python3.11/site-packages/pynucastro/networks/base_cxx_network.py:19\u001b[0m\n\u001b[1;32m     16\u001b[0m \u001b[38;5;28;01mimport\u001b[39;00m \u001b[38;5;21;01mnumpy\u001b[39;00m \u001b[38;5;28;01mas\u001b[39;00m \u001b[38;5;21;01mnp\u001b[39;00m\n\u001b[1;32m     17\u001b[0m \u001b[38;5;28;01mimport\u001b[39;00m \u001b[38;5;21;01msympy\u001b[39;00m\n\u001b[0;32m---> 19\u001b[0m \u001b[38;5;28;01mfrom\u001b[39;00m \u001b[38;5;21;01mpynucastro\u001b[39;00m\u001b[38;5;21;01m.\u001b[39;00m\u001b[38;5;21;01mnetworks\u001b[39;00m\u001b[38;5;21;01m.\u001b[39;00m\u001b[38;5;21;01mrate_collection\u001b[39;00m \u001b[38;5;28;01mimport\u001b[39;00m RateCollection\n\u001b[1;32m     20\u001b[0m \u001b[38;5;28;01mfrom\u001b[39;00m \u001b[38;5;21;01mpynucastro\u001b[39;00m\u001b[38;5;21;01m.\u001b[39;00m\u001b[38;5;21;01mnetworks\u001b[39;00m\u001b[38;5;21;01m.\u001b[39;00m\u001b[38;5;21;01msympy_network_support\u001b[39;00m \u001b[38;5;28;01mimport\u001b[39;00m SympyRates\n\u001b[1;32m     21\u001b[0m \u001b[38;5;28;01mfrom\u001b[39;00m \u001b[38;5;21;01mpynucastro\u001b[39;00m\u001b[38;5;21;01m.\u001b[39;00m\u001b[38;5;21;01mrates\u001b[39;00m \u001b[38;5;28;01mimport\u001b[39;00m DerivedRate\n",
      "File \u001b[0;32m/opt/hostedtoolcache/Python/3.11.10/x64/lib/python3.11/site-packages/pynucastro/networks/rate_collection.py:32\u001b[0m\n\u001b[1;32m     28\u001b[0m \u001b[38;5;28;01mfrom\u001b[39;00m \u001b[38;5;21;01mpynucastro\u001b[39;00m\u001b[38;5;21;01m.\u001b[39;00m\u001b[38;5;21;01mrates\u001b[39;00m\u001b[38;5;21;01m.\u001b[39;00m\u001b[38;5;21;01mlibrary\u001b[39;00m \u001b[38;5;28;01mimport\u001b[39;00m _rate_name_to_nuc, capitalize_rid\n\u001b[1;32m     29\u001b[0m \u001b[38;5;28;01mfrom\u001b[39;00m \u001b[38;5;21;01mpynucastro\u001b[39;00m\u001b[38;5;21;01m.\u001b[39;00m\u001b[38;5;21;01mscreening\u001b[39;00m \u001b[38;5;28;01mimport\u001b[39;00m (get_screening_map, make_plasma_state,\n\u001b[1;32m     30\u001b[0m                                   make_screen_factors)\n\u001b[0;32m---> 32\u001b[0m \u001b[38;5;28;01mfrom\u001b[39;00m \u001b[38;5;21;01mmicrophysics\u001b[39;00m\u001b[38;5;21;01m.\u001b[39;00m\u001b[38;5;21;01mpynucastro\u001b[39;00m\u001b[38;5;21;01m.\u001b[39;00m\u001b[38;5;21;01mpynucastro\u001b[39;00m\u001b[38;5;21;01m.\u001b[39;00m\u001b[38;5;21;01mnucdata\u001b[39;00m \u001b[38;5;28;01mimport\u001b[39;00m nucleus\n\u001b[1;32m     34\u001b[0m mpl\u001b[38;5;241m.\u001b[39mrcParams[\u001b[38;5;124m'\u001b[39m\u001b[38;5;124mfigure.dpi\u001b[39m\u001b[38;5;124m'\u001b[39m] \u001b[38;5;241m=\u001b[39m \u001b[38;5;241m100\u001b[39m\n\u001b[1;32m     37\u001b[0m \u001b[38;5;28;01mclass\u001b[39;00m \u001b[38;5;21;01mRateDuplicationError\u001b[39;00m(\u001b[38;5;167;01mException\u001b[39;00m):\n",
      "\u001b[0;31mModuleNotFoundError\u001b[0m: No module named 'microphysics'"
     ]
    }
   ],
   "source": [
    "import pynucastro as pyna"
   ]
  },
  {
   "cell_type": "code",
   "execution_count": 2,
   "id": "99c975eb-1457-48f5-aa18-b540818109b0",
   "metadata": {
    "execution": {
     "iopub.execute_input": "2024-10-17T07:31:45.045559Z",
     "iopub.status.busy": "2024-10-17T07:31:45.045213Z",
     "iopub.status.idle": "2024-10-17T07:31:45.057341Z",
     "shell.execute_reply": "2024-10-17T07:31:45.056898Z"
    }
   },
   "outputs": [
    {
     "ename": "NameError",
     "evalue": "name 'pyna' is not defined",
     "output_type": "error",
     "traceback": [
      "\u001b[0;31m---------------------------------------------------------------------------\u001b[0m",
      "\u001b[0;31mNameError\u001b[0m                                 Traceback (most recent call last)",
      "Cell \u001b[0;32mIn[2], line 1\u001b[0m\n\u001b[0;32m----> 1\u001b[0m reaclib_library \u001b[38;5;241m=\u001b[39m \u001b[43mpyna\u001b[49m\u001b[38;5;241m.\u001b[39mReacLibLibrary()\n",
      "\u001b[0;31mNameError\u001b[0m: name 'pyna' is not defined"
     ]
    }
   ],
   "source": [
    "reaclib_library = pyna.ReacLibLibrary()"
   ]
  },
  {
   "cell_type": "markdown",
   "id": "ab3e7134-6849-415f-a079-8348058691b2",
   "metadata": {},
   "source": [
    "We want to model ${}^{12}\\mathrm{C} + {}^{12}\\mathrm{C}$ reactions.  There are 3 rates involved."
   ]
  },
  {
   "cell_type": "code",
   "execution_count": 3,
   "id": "09b02e00-07d3-4b47-86bd-09b47ce7b3d4",
   "metadata": {
    "execution": {
     "iopub.execute_input": "2024-10-17T07:31:45.058973Z",
     "iopub.status.busy": "2024-10-17T07:31:45.058653Z",
     "iopub.status.idle": "2024-10-17T07:31:45.070138Z",
     "shell.execute_reply": "2024-10-17T07:31:45.069702Z"
    }
   },
   "outputs": [
    {
     "ename": "NameError",
     "evalue": "name 'pyna' is not defined",
     "output_type": "error",
     "traceback": [
      "\u001b[0;31m---------------------------------------------------------------------------\u001b[0m",
      "\u001b[0;31mNameError\u001b[0m                                 Traceback (most recent call last)",
      "Cell \u001b[0;32mIn[3], line 1\u001b[0m\n\u001b[0;32m----> 1\u001b[0m \u001b[38;5;28mfilter\u001b[39m \u001b[38;5;241m=\u001b[39m \u001b[43mpyna\u001b[49m\u001b[38;5;241m.\u001b[39mRateFilter(reactants\u001b[38;5;241m=\u001b[39m[\u001b[38;5;124m\"\u001b[39m\u001b[38;5;124mc12\u001b[39m\u001b[38;5;124m\"\u001b[39m, \u001b[38;5;124m\"\u001b[39m\u001b[38;5;124mc12\u001b[39m\u001b[38;5;124m\"\u001b[39m])\n\u001b[1;32m      2\u001b[0m mylib \u001b[38;5;241m=\u001b[39m reaclib_library\u001b[38;5;241m.\u001b[39mfilter(\u001b[38;5;28mfilter\u001b[39m)\n\u001b[1;32m      3\u001b[0m mylib                       \n",
      "\u001b[0;31mNameError\u001b[0m: name 'pyna' is not defined"
     ]
    }
   ],
   "source": [
    "filter = pyna.RateFilter(reactants=[\"c12\", \"c12\"])\n",
    "mylib = reaclib_library.filter(filter)\n",
    "mylib                       "
   ]
  },
  {
   "cell_type": "markdown",
   "id": "9ad2e666-1d18-4fdb-8b25-386ea583a1a3",
   "metadata": {},
   "source": [
    "The rate ${}^{12}\\mathrm{C}({}^{12}\\mathrm{C},n){}^{23}\\mathrm{Mg}$ is quickly followed by ${}^{23}\\mathrm{Mg}(n,\\gamma){}^{24}\\mathrm{Mg}$, so we want to modify that rate sequence to just be ${}^{12}\\mathrm{C}({}^{12}\\mathrm{C},\\gamma){}^{24}\\mathrm{Mg}$"
   ]
  },
  {
   "cell_type": "code",
   "execution_count": 4,
   "id": "a3a654f5-fc0d-4de4-bc1e-e5a6322014c9",
   "metadata": {
    "execution": {
     "iopub.execute_input": "2024-10-17T07:31:45.071770Z",
     "iopub.status.busy": "2024-10-17T07:31:45.071448Z",
     "iopub.status.idle": "2024-10-17T07:31:45.082488Z",
     "shell.execute_reply": "2024-10-17T07:31:45.082057Z"
    }
   },
   "outputs": [
    {
     "ename": "NameError",
     "evalue": "name 'mylib' is not defined",
     "output_type": "error",
     "traceback": [
      "\u001b[0;31m---------------------------------------------------------------------------\u001b[0m",
      "\u001b[0;31mNameError\u001b[0m                                 Traceback (most recent call last)",
      "Cell \u001b[0;32mIn[4], line 1\u001b[0m\n\u001b[0;32m----> 1\u001b[0m r \u001b[38;5;241m=\u001b[39m \u001b[43mmylib\u001b[49m\u001b[38;5;241m.\u001b[39mget_rate(\u001b[38;5;124m\"\u001b[39m\u001b[38;5;124mc12 + c12 --> n + mg23 <cf88_reaclib__reverse>\u001b[39m\u001b[38;5;124m\"\u001b[39m)\n\u001b[1;32m      2\u001b[0m r\n",
      "\u001b[0;31mNameError\u001b[0m: name 'mylib' is not defined"
     ]
    }
   ],
   "source": [
    "r = mylib.get_rate(\"c12 + c12 --> n + mg23 <cf88_reaclib__reverse>\")\n",
    "r"
   ]
  },
  {
   "cell_type": "markdown",
   "id": "6b71a5da-fc50-4ea5-b2ed-c89e5afed3a8",
   "metadata": {},
   "source": [
    "This has the Q value:"
   ]
  },
  {
   "cell_type": "code",
   "execution_count": 5,
   "id": "14587d2a-19b2-4d05-9a2f-eaeb37ed39da",
   "metadata": {
    "execution": {
     "iopub.execute_input": "2024-10-17T07:31:45.084122Z",
     "iopub.status.busy": "2024-10-17T07:31:45.083786Z",
     "iopub.status.idle": "2024-10-17T07:31:45.094589Z",
     "shell.execute_reply": "2024-10-17T07:31:45.094157Z"
    }
   },
   "outputs": [
    {
     "ename": "NameError",
     "evalue": "name 'r' is not defined",
     "output_type": "error",
     "traceback": [
      "\u001b[0;31m---------------------------------------------------------------------------\u001b[0m",
      "\u001b[0;31mNameError\u001b[0m                                 Traceback (most recent call last)",
      "Cell \u001b[0;32mIn[5], line 1\u001b[0m\n\u001b[0;32m----> 1\u001b[0m \u001b[43mr\u001b[49m\u001b[38;5;241m.\u001b[39mQ\n",
      "\u001b[0;31mNameError\u001b[0m: name 'r' is not defined"
     ]
    }
   ],
   "source": [
    "r.Q"
   ]
  },
  {
   "cell_type": "markdown",
   "id": "0cfe6b49-1944-4ad4-8870-ffff987de786",
   "metadata": {},
   "source": [
    "Now we modify it"
   ]
  },
  {
   "cell_type": "code",
   "execution_count": 6,
   "id": "df86e360-e7ca-4401-a71a-432334a15f90",
   "metadata": {
    "execution": {
     "iopub.execute_input": "2024-10-17T07:31:45.096238Z",
     "iopub.status.busy": "2024-10-17T07:31:45.095914Z",
     "iopub.status.idle": "2024-10-17T07:31:45.106953Z",
     "shell.execute_reply": "2024-10-17T07:31:45.106380Z"
    }
   },
   "outputs": [
    {
     "ename": "NameError",
     "evalue": "name 'r' is not defined",
     "output_type": "error",
     "traceback": [
      "\u001b[0;31m---------------------------------------------------------------------------\u001b[0m",
      "\u001b[0;31mNameError\u001b[0m                                 Traceback (most recent call last)",
      "Cell \u001b[0;32mIn[6], line 1\u001b[0m\n\u001b[0;32m----> 1\u001b[0m \u001b[43mr\u001b[49m\u001b[38;5;241m.\u001b[39mmodify_products(\u001b[38;5;124m\"\u001b[39m\u001b[38;5;124mmg24\u001b[39m\u001b[38;5;124m\"\u001b[39m)\n\u001b[1;32m      2\u001b[0m r\n",
      "\u001b[0;31mNameError\u001b[0m: name 'r' is not defined"
     ]
    }
   ],
   "source": [
    "r.modify_products(\"mg24\")\n",
    "r"
   ]
  },
  {
   "cell_type": "markdown",
   "id": "7ea5badb-0a83-4a61-b2fa-f45b4956fd00",
   "metadata": {},
   "source": [
    "and we see that the Q value has been updated to reflect the new endpoint"
   ]
  },
  {
   "cell_type": "code",
   "execution_count": 7,
   "id": "d002c70a-aaac-4f8b-b18c-fd9fdfcbce02",
   "metadata": {
    "execution": {
     "iopub.execute_input": "2024-10-17T07:31:45.108709Z",
     "iopub.status.busy": "2024-10-17T07:31:45.108327Z",
     "iopub.status.idle": "2024-10-17T07:31:45.119414Z",
     "shell.execute_reply": "2024-10-17T07:31:45.118997Z"
    }
   },
   "outputs": [
    {
     "ename": "NameError",
     "evalue": "name 'r' is not defined",
     "output_type": "error",
     "traceback": [
      "\u001b[0;31m---------------------------------------------------------------------------\u001b[0m",
      "\u001b[0;31mNameError\u001b[0m                                 Traceback (most recent call last)",
      "Cell \u001b[0;32mIn[7], line 1\u001b[0m\n\u001b[0;32m----> 1\u001b[0m \u001b[43mr\u001b[49m\u001b[38;5;241m.\u001b[39mQ\n",
      "\u001b[0;31mNameError\u001b[0m: name 'r' is not defined"
     ]
    }
   ],
   "source": [
    "r.Q"
   ]
  },
  {
   "cell_type": "markdown",
   "id": "1d418f9f-ab0e-4cb4-8517-9f5e27fe2be7",
   "metadata": {},
   "source": [
    "Now let's build a network that includes the nuclei involved in our carbon burning.  We'll start by leaving off the ${}^{23}\\mathrm{Mg}$"
   ]
  },
  {
   "cell_type": "code",
   "execution_count": 8,
   "id": "4fdd0244-9935-471b-9251-685f2b658173",
   "metadata": {
    "execution": {
     "iopub.execute_input": "2024-10-17T07:31:45.121026Z",
     "iopub.status.busy": "2024-10-17T07:31:45.120690Z",
     "iopub.status.idle": "2024-10-17T07:31:45.132144Z",
     "shell.execute_reply": "2024-10-17T07:31:45.131665Z"
    }
   },
   "outputs": [
    {
     "ename": "NameError",
     "evalue": "name 'reaclib_library' is not defined",
     "output_type": "error",
     "traceback": [
      "\u001b[0;31m---------------------------------------------------------------------------\u001b[0m",
      "\u001b[0;31mNameError\u001b[0m                                 Traceback (most recent call last)",
      "Cell \u001b[0;32mIn[8], line 1\u001b[0m\n\u001b[0;32m----> 1\u001b[0m mylib2 \u001b[38;5;241m=\u001b[39m \u001b[43mreaclib_library\u001b[49m\u001b[38;5;241m.\u001b[39mlinking_nuclei([\u001b[38;5;124m\"\u001b[39m\u001b[38;5;124mp\u001b[39m\u001b[38;5;124m\"\u001b[39m, \u001b[38;5;124m\"\u001b[39m\u001b[38;5;124mhe4\u001b[39m\u001b[38;5;124m\"\u001b[39m, \u001b[38;5;124m\"\u001b[39m\u001b[38;5;124mc12\u001b[39m\u001b[38;5;124m\"\u001b[39m, \u001b[38;5;124m\"\u001b[39m\u001b[38;5;124mo16\u001b[39m\u001b[38;5;124m\"\u001b[39m, \u001b[38;5;124m\"\u001b[39m\u001b[38;5;124mne20\u001b[39m\u001b[38;5;124m\"\u001b[39m, \u001b[38;5;124m\"\u001b[39m\u001b[38;5;124mna23\u001b[39m\u001b[38;5;124m\"\u001b[39m, \u001b[38;5;124m\"\u001b[39m\u001b[38;5;124mmg24\u001b[39m\u001b[38;5;124m\"\u001b[39m])\n",
      "\u001b[0;31mNameError\u001b[0m: name 'reaclib_library' is not defined"
     ]
    }
   ],
   "source": [
    "mylib2 = reaclib_library.linking_nuclei([\"p\", \"he4\", \"c12\", \"o16\", \"ne20\", \"na23\", \"mg24\"])"
   ]
  },
  {
   "cell_type": "markdown",
   "id": "0ee92979-b07b-4fb3-b600-3c5fa2a4e380",
   "metadata": {},
   "source": [
    "Now we add in our modified rate"
   ]
  },
  {
   "cell_type": "code",
   "execution_count": 9,
   "id": "1a8cac1c-fdf6-47a3-bd1b-12172ab7123a",
   "metadata": {
    "execution": {
     "iopub.execute_input": "2024-10-17T07:31:45.133817Z",
     "iopub.status.busy": "2024-10-17T07:31:45.133500Z",
     "iopub.status.idle": "2024-10-17T07:31:45.144378Z",
     "shell.execute_reply": "2024-10-17T07:31:45.143937Z"
    }
   },
   "outputs": [
    {
     "ename": "NameError",
     "evalue": "name 'mylib2' is not defined",
     "output_type": "error",
     "traceback": [
      "\u001b[0;31m---------------------------------------------------------------------------\u001b[0m",
      "\u001b[0;31mNameError\u001b[0m                                 Traceback (most recent call last)",
      "Cell \u001b[0;32mIn[9], line 1\u001b[0m\n\u001b[0;32m----> 1\u001b[0m \u001b[43mmylib2\u001b[49m \u001b[38;5;241m+\u001b[39m\u001b[38;5;241m=\u001b[39m pyna\u001b[38;5;241m.\u001b[39mLibrary(rates\u001b[38;5;241m=\u001b[39m[r])\n",
      "\u001b[0;31mNameError\u001b[0m: name 'mylib2' is not defined"
     ]
    }
   ],
   "source": [
    "mylib2 += pyna.Library(rates=[r])"
   ]
  },
  {
   "cell_type": "code",
   "execution_count": 10,
   "id": "9c56630c-db05-45e9-9f73-a36189d21689",
   "metadata": {
    "execution": {
     "iopub.execute_input": "2024-10-17T07:31:45.146029Z",
     "iopub.status.busy": "2024-10-17T07:31:45.145703Z",
     "iopub.status.idle": "2024-10-17T07:31:45.156289Z",
     "shell.execute_reply": "2024-10-17T07:31:45.155853Z"
    }
   },
   "outputs": [
    {
     "ename": "NameError",
     "evalue": "name 'mylib2' is not defined",
     "output_type": "error",
     "traceback": [
      "\u001b[0;31m---------------------------------------------------------------------------\u001b[0m",
      "\u001b[0;31mNameError\u001b[0m                                 Traceback (most recent call last)",
      "Cell \u001b[0;32mIn[10], line 1\u001b[0m\n\u001b[0;32m----> 1\u001b[0m \u001b[43mmylib2\u001b[49m\n",
      "\u001b[0;31mNameError\u001b[0m: name 'mylib2' is not defined"
     ]
    }
   ],
   "source": [
    "mylib2"
   ]
  },
  {
   "cell_type": "code",
   "execution_count": 11,
   "id": "81a56946-86bf-4414-9d0a-354bbd0f68e8",
   "metadata": {
    "execution": {
     "iopub.execute_input": "2024-10-17T07:31:45.157853Z",
     "iopub.status.busy": "2024-10-17T07:31:45.157573Z",
     "iopub.status.idle": "2024-10-17T07:31:45.169075Z",
     "shell.execute_reply": "2024-10-17T07:31:45.168497Z"
    }
   },
   "outputs": [
    {
     "ename": "NameError",
     "evalue": "name 'pyna' is not defined",
     "output_type": "error",
     "traceback": [
      "\u001b[0;31m---------------------------------------------------------------------------\u001b[0m",
      "\u001b[0;31mNameError\u001b[0m                                 Traceback (most recent call last)",
      "Cell \u001b[0;32mIn[11], line 1\u001b[0m\n\u001b[0;32m----> 1\u001b[0m rc \u001b[38;5;241m=\u001b[39m \u001b[43mpyna\u001b[49m\u001b[38;5;241m.\u001b[39mRateCollection(libraries\u001b[38;5;241m=\u001b[39m[mylib2])\n\u001b[1;32m      2\u001b[0m fig \u001b[38;5;241m=\u001b[39m rc\u001b[38;5;241m.\u001b[39mplot(rotated\u001b[38;5;241m=\u001b[39m\u001b[38;5;28;01mTrue\u001b[39;00m, curved_edges\u001b[38;5;241m=\u001b[39m\u001b[38;5;28;01mTrue\u001b[39;00m, hide_xalpha\u001b[38;5;241m=\u001b[39m\u001b[38;5;28;01mTrue\u001b[39;00m)\n",
      "\u001b[0;31mNameError\u001b[0m: name 'pyna' is not defined"
     ]
    }
   ],
   "source": [
    "rc = pyna.RateCollection(libraries=[mylib2])\n",
    "fig = rc.plot(rotated=True, curved_edges=True, hide_xalpha=True)"
   ]
  }
 ],
 "metadata": {
  "kernelspec": {
   "display_name": "Python 3 (ipykernel)",
   "language": "python",
   "name": "python3"
  },
  "language_info": {
   "codemirror_mode": {
    "name": "ipython",
    "version": 3
   },
   "file_extension": ".py",
   "mimetype": "text/x-python",
   "name": "python",
   "nbconvert_exporter": "python",
   "pygments_lexer": "ipython3",
   "version": "3.11.10"
  }
 },
 "nbformat": 4,
 "nbformat_minor": 5
}
