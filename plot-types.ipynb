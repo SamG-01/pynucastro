{
 "cells": [
  {
   "cell_type": "markdown",
   "id": "591222f3-f666-4f48-87a3-c4b787cfaa22",
   "metadata": {
    "user_expressions": []
   },
   "source": [
    "# Plotting Examples\n",
    "\n",
    "There are a variety of methods that can be used to visualize a network."
   ]
  },
  {
   "cell_type": "code",
   "execution_count": 1,
   "id": "47f769a5-0700-4846-87d1-3fe502bf50af",
   "metadata": {
    "execution": {
     "iopub.execute_input": "2024-10-18T08:33:19.242938Z",
     "iopub.status.busy": "2024-10-18T08:33:19.242458Z",
     "iopub.status.idle": "2024-10-18T08:33:20.598349Z",
     "shell.execute_reply": "2024-10-18T08:33:20.597788Z"
    },
    "tags": []
   },
   "outputs": [],
   "source": [
    "import pynucastro as pyna"
   ]
  },
  {
   "cell_type": "markdown",
   "id": "07943d6a-ffc1-41f6-ba84-f490ae7e1261",
   "metadata": {
    "user_expressions": []
   },
   "source": [
    "## Standard view\n",
    "\n",
    "Let's build a quick network that represents He, C, and O burning"
   ]
  },
  {
   "cell_type": "code",
   "execution_count": 2,
   "id": "529b1fe9-39c4-4b9a-8b7d-a3bd5bebb701",
   "metadata": {
    "execution": {
     "iopub.execute_input": "2024-10-18T08:33:20.600682Z",
     "iopub.status.busy": "2024-10-18T08:33:20.600074Z",
     "iopub.status.idle": "2024-10-18T08:33:24.929923Z",
     "shell.execute_reply": "2024-10-18T08:33:24.929272Z"
    },
    "tags": []
   },
   "outputs": [],
   "source": [
    "library = pyna.ReacLibLibrary()"
   ]
  },
  {
   "cell_type": "code",
   "execution_count": 3,
   "id": "c42e9e4d-5143-4a77-86d2-5ac416249183",
   "metadata": {
    "execution": {
     "iopub.execute_input": "2024-10-18T08:33:24.932245Z",
     "iopub.status.busy": "2024-10-18T08:33:24.931819Z",
     "iopub.status.idle": "2024-10-18T08:33:25.265765Z",
     "shell.execute_reply": "2024-10-18T08:33:25.265142Z"
    },
    "tags": []
   },
   "outputs": [
    {
     "ename": "AttributeError",
     "evalue": "'Library' object has no attribute 'rates'",
     "output_type": "error",
     "traceback": [
      "\u001b[0;31m---------------------------------------------------------------------------\u001b[0m",
      "\u001b[0;31mAttributeError\u001b[0m                            Traceback (most recent call last)",
      "Cell \u001b[0;32mIn[3], line 1\u001b[0m\n\u001b[0;32m----> 1\u001b[0m sub \u001b[38;5;241m=\u001b[39m \u001b[43mlibrary\u001b[49m\u001b[38;5;241;43m.\u001b[39;49m\u001b[43mlinking_nuclei\u001b[49m\u001b[43m(\u001b[49m\u001b[43m[\u001b[49m\u001b[38;5;124;43m\"\u001b[39;49m\u001b[38;5;124;43mp\u001b[39;49m\u001b[38;5;124;43m\"\u001b[39;49m\u001b[43m,\u001b[49m\u001b[43m \u001b[49m\u001b[38;5;124;43m\"\u001b[39;49m\u001b[38;5;124;43mn\u001b[39;49m\u001b[38;5;124;43m\"\u001b[39;49m\u001b[43m,\u001b[49m\u001b[43m \u001b[49m\u001b[38;5;124;43m\"\u001b[39;49m\u001b[38;5;124;43mhe4\u001b[39;49m\u001b[38;5;124;43m\"\u001b[39;49m\u001b[43m,\u001b[49m\u001b[43m \u001b[49m\u001b[38;5;124;43m\"\u001b[39;49m\u001b[38;5;124;43mc12\u001b[39;49m\u001b[38;5;124;43m\"\u001b[39;49m\u001b[43m,\u001b[49m\u001b[43m \u001b[49m\u001b[38;5;124;43m\"\u001b[39;49m\u001b[38;5;124;43mn13\u001b[39;49m\u001b[38;5;124;43m\"\u001b[39;49m\u001b[43m,\u001b[49m\u001b[43m \u001b[49m\u001b[38;5;124;43m\"\u001b[39;49m\u001b[38;5;124;43mn14\u001b[39;49m\u001b[38;5;124;43m\"\u001b[39;49m\u001b[43m,\u001b[49m\u001b[43m \u001b[49m\u001b[38;5;124;43m\"\u001b[39;49m\u001b[38;5;124;43mo16\u001b[39;49m\u001b[38;5;124;43m\"\u001b[39;49m\u001b[43m,\u001b[49m\n\u001b[1;32m      2\u001b[0m \u001b[43m                              \u001b[49m\u001b[38;5;124;43m\"\u001b[39;49m\u001b[38;5;124;43mne20\u001b[39;49m\u001b[38;5;124;43m\"\u001b[39;49m\u001b[43m,\u001b[49m\u001b[43m \u001b[49m\u001b[38;5;124;43m\"\u001b[39;49m\u001b[38;5;124;43mne21\u001b[39;49m\u001b[38;5;124;43m\"\u001b[39;49m\u001b[43m,\u001b[49m\u001b[43m \u001b[49m\u001b[38;5;124;43m\"\u001b[39;49m\u001b[38;5;124;43mna23\u001b[39;49m\u001b[38;5;124;43m\"\u001b[39;49m\u001b[43m,\u001b[49m\u001b[43m \u001b[49m\u001b[38;5;124;43m\"\u001b[39;49m\u001b[38;5;124;43mmg23\u001b[39;49m\u001b[38;5;124;43m\"\u001b[39;49m\u001b[43m,\u001b[49m\u001b[43m \u001b[49m\u001b[38;5;124;43m\"\u001b[39;49m\u001b[38;5;124;43mmg24\u001b[39;49m\u001b[38;5;124;43m\"\u001b[39;49m\u001b[43m,\u001b[49m\u001b[43m \u001b[49m\u001b[38;5;124;43m\"\u001b[39;49m\u001b[38;5;124;43mal27\u001b[39;49m\u001b[38;5;124;43m\"\u001b[39;49m\u001b[43m,\u001b[49m\n\u001b[1;32m      3\u001b[0m \u001b[43m                              \u001b[49m\u001b[38;5;124;43m\"\u001b[39;49m\u001b[38;5;124;43msi27\u001b[39;49m\u001b[38;5;124;43m\"\u001b[39;49m\u001b[43m,\u001b[49m\u001b[43m \u001b[49m\u001b[38;5;124;43m\"\u001b[39;49m\u001b[38;5;124;43msi28\u001b[39;49m\u001b[38;5;124;43m\"\u001b[39;49m\u001b[43m]\u001b[49m\u001b[43m)\u001b[49m\n\u001b[1;32m      4\u001b[0m rc \u001b[38;5;241m=\u001b[39m pyna\u001b[38;5;241m.\u001b[39mRateCollection(libraries\u001b[38;5;241m=\u001b[39msub)\n",
      "File \u001b[0;32m/opt/hostedtoolcache/Python/3.11.10/x64/lib/python3.11/site-packages/pynucastro/rates/library.py:443\u001b[0m, in \u001b[0;36mLibrary.linking_nuclei\u001b[0;34m(self, nuclist, with_reverse, print_warning)\u001b[0m\n\u001b[1;32m    441\u001b[0m \u001b[38;5;66;03m# print out a warning if one of the input nuclei is not linked\u001b[39;00m\n\u001b[1;32m    442\u001b[0m \u001b[38;5;28;01mif\u001b[39;00m print_warning:\n\u001b[0;32m--> 443\u001b[0m     lib_nuclei \u001b[38;5;241m=\u001b[39m \u001b[43mnew_lib\u001b[49m\u001b[38;5;241;43m.\u001b[39;49m\u001b[43mget_nuclei\u001b[49m\u001b[43m(\u001b[49m\u001b[43m)\u001b[49m\n\u001b[1;32m    444\u001b[0m     \u001b[38;5;28;01mfor\u001b[39;00m nuc \u001b[38;5;129;01min\u001b[39;00m nucleus_set:\n\u001b[1;32m    445\u001b[0m         \u001b[38;5;28;01mif\u001b[39;00m nuc \u001b[38;5;129;01mnot\u001b[39;00m \u001b[38;5;129;01min\u001b[39;00m lib_nuclei:\n",
      "File \u001b[0;32m/opt/hostedtoolcache/Python/3.11.10/x64/lib/python3.11/site-packages/pynucastro/rates/library.py:231\u001b[0m, in \u001b[0;36mLibrary.get_nuclei\u001b[0;34m(self)\u001b[0m\n\u001b[1;32m    229\u001b[0m \u001b[38;5;28;01mdef\u001b[39;00m \u001b[38;5;21mget_nuclei\u001b[39m(\u001b[38;5;28mself\u001b[39m) \u001b[38;5;241m-\u001b[39m\u001b[38;5;241m>\u001b[39m \u001b[38;5;28mset\u001b[39m[Nucleus]:\n\u001b[1;32m    230\u001b[0m \u001b[38;5;250m    \u001b[39m\u001b[38;5;124;03m\"\"\"get the list of unique nuclei\"\"\"\u001b[39;00m\n\u001b[0;32m--> 231\u001b[0m     \u001b[38;5;28;01mreturn\u001b[39;00m {nuc \u001b[38;5;28;01mfor\u001b[39;00m r \u001b[38;5;129;01min\u001b[39;00m \u001b[38;5;28;43mself\u001b[39;49m\u001b[38;5;241;43m.\u001b[39;49m\u001b[43mrates\u001b[49m \u001b[38;5;28;01mfor\u001b[39;00m nuc \u001b[38;5;129;01min\u001b[39;00m r\u001b[38;5;241m.\u001b[39mreactants \u001b[38;5;241m+\u001b[39m r\u001b[38;5;241m.\u001b[39mproducts}\n",
      "\u001b[0;31mAttributeError\u001b[0m: 'Library' object has no attribute 'rates'"
     ]
    }
   ],
   "source": [
    "sub = library.linking_nuclei([\"p\", \"n\", \"he4\", \"c12\", \"n13\", \"n14\", \"o16\",\n",
    "                              \"ne20\", \"ne21\", \"na23\", \"mg23\", \"mg24\", \"al27\",\n",
    "                              \"si27\", \"si28\"])\n",
    "rc = pyna.RateCollection(libraries=sub)"
   ]
  },
  {
   "cell_type": "markdown",
   "id": "65d694bb-4f65-4d2e-848c-44766d2fab8b",
   "metadata": {
    "user_expressions": []
   },
   "source": [
    "The standard network plot of this is:"
   ]
  },
  {
   "cell_type": "code",
   "execution_count": 4,
   "id": "9e155c62-7a62-4fa5-ae24-eadfcdc5ba67",
   "metadata": {
    "execution": {
     "iopub.execute_input": "2024-10-18T08:33:25.267543Z",
     "iopub.status.busy": "2024-10-18T08:33:25.267332Z",
     "iopub.status.idle": "2024-10-18T08:33:25.279632Z",
     "shell.execute_reply": "2024-10-18T08:33:25.279118Z"
    },
    "tags": []
   },
   "outputs": [
    {
     "ename": "NameError",
     "evalue": "name 'rc' is not defined",
     "output_type": "error",
     "traceback": [
      "\u001b[0;31m---------------------------------------------------------------------------\u001b[0m",
      "\u001b[0;31mNameError\u001b[0m                                 Traceback (most recent call last)",
      "Cell \u001b[0;32mIn[4], line 1\u001b[0m\n\u001b[0;32m----> 1\u001b[0m fig \u001b[38;5;241m=\u001b[39m \u001b[43mrc\u001b[49m\u001b[38;5;241m.\u001b[39mplot()\n",
      "\u001b[0;31mNameError\u001b[0m: name 'rc' is not defined"
     ]
    }
   ],
   "source": [
    "fig = rc.plot()"
   ]
  },
  {
   "cell_type": "markdown",
   "id": "1ff2be2d-252f-4fc2-a408-ac7ada2c97bb",
   "metadata": {
    "user_expressions": []
   },
   "source": [
    "## Rotated view\n",
    "\n",
    "Since everything lies close to the diagonal, it is hard to see the structure.  We can instead look at a rotated view of the network.\n",
    "\n",
    "While we're at it, we'll also color the rates by reaction rate strength"
   ]
  },
  {
   "cell_type": "code",
   "execution_count": 5,
   "id": "942b607c-ca88-4886-9472-448cf43716b6",
   "metadata": {
    "execution": {
     "iopub.execute_input": "2024-10-18T08:33:25.281280Z",
     "iopub.status.busy": "2024-10-18T08:33:25.280972Z",
     "iopub.status.idle": "2024-10-18T08:33:25.292563Z",
     "shell.execute_reply": "2024-10-18T08:33:25.292119Z"
    },
    "tags": []
   },
   "outputs": [
    {
     "ename": "NameError",
     "evalue": "name 'rc' is not defined",
     "output_type": "error",
     "traceback": [
      "\u001b[0;31m---------------------------------------------------------------------------\u001b[0m",
      "\u001b[0;31mNameError\u001b[0m                                 Traceback (most recent call last)",
      "Cell \u001b[0;32mIn[5], line 3\u001b[0m\n\u001b[1;32m      1\u001b[0m rho \u001b[38;5;241m=\u001b[39m \u001b[38;5;241m1.e4\u001b[39m\n\u001b[1;32m      2\u001b[0m T \u001b[38;5;241m=\u001b[39m \u001b[38;5;241m1.e8\u001b[39m\n\u001b[0;32m----> 3\u001b[0m comp \u001b[38;5;241m=\u001b[39m pyna\u001b[38;5;241m.\u001b[39mComposition(\u001b[43mrc\u001b[49m\u001b[38;5;241m.\u001b[39mget_nuclei())\n\u001b[1;32m      4\u001b[0m comp\u001b[38;5;241m.\u001b[39mset_solar_like()\n",
      "\u001b[0;31mNameError\u001b[0m: name 'rc' is not defined"
     ]
    }
   ],
   "source": [
    "rho = 1.e4\n",
    "T = 1.e8\n",
    "comp = pyna.Composition(rc.get_nuclei())\n",
    "comp.set_solar_like()"
   ]
  },
  {
   "cell_type": "code",
   "execution_count": 6,
   "id": "085978db-2fd5-4463-9a89-f18d673c463c",
   "metadata": {
    "execution": {
     "iopub.execute_input": "2024-10-18T08:33:25.294240Z",
     "iopub.status.busy": "2024-10-18T08:33:25.293919Z",
     "iopub.status.idle": "2024-10-18T08:33:25.305589Z",
     "shell.execute_reply": "2024-10-18T08:33:25.305024Z"
    },
    "tags": []
   },
   "outputs": [
    {
     "ename": "NameError",
     "evalue": "name 'rc' is not defined",
     "output_type": "error",
     "traceback": [
      "\u001b[0;31m---------------------------------------------------------------------------\u001b[0m",
      "\u001b[0;31mNameError\u001b[0m                                 Traceback (most recent call last)",
      "Cell \u001b[0;32mIn[6], line 1\u001b[0m\n\u001b[0;32m----> 1\u001b[0m fig \u001b[38;5;241m=\u001b[39m \u001b[43mrc\u001b[49m\u001b[38;5;241m.\u001b[39mplot(rho, T, comp, rotated\u001b[38;5;241m=\u001b[39m\u001b[38;5;28;01mTrue\u001b[39;00m)\n",
      "\u001b[0;31mNameError\u001b[0m: name 'rc' is not defined"
     ]
    }
   ],
   "source": [
    "fig = rc.plot(rho, T, comp, rotated=True)"
   ]
  },
  {
   "cell_type": "markdown",
   "id": "48ce0e8a-a0f8-4901-907a-068d6ee75878",
   "metadata": {
    "user_expressions": []
   },
   "source": [
    "This looks a bit crowded, since it is showing all of the links to ${}^4\\mathrm{He}$ from reactions of the form $A(x, \\alpha)B$.  We can hide those links with ``hide_xalpha=True``"
   ]
  },
  {
   "cell_type": "code",
   "execution_count": 7,
   "id": "20806111-0def-4652-8257-71588b2d4da3",
   "metadata": {
    "execution": {
     "iopub.execute_input": "2024-10-18T08:33:25.307191Z",
     "iopub.status.busy": "2024-10-18T08:33:25.306887Z",
     "iopub.status.idle": "2024-10-18T08:33:25.318311Z",
     "shell.execute_reply": "2024-10-18T08:33:25.317768Z"
    },
    "tags": []
   },
   "outputs": [
    {
     "ename": "NameError",
     "evalue": "name 'rc' is not defined",
     "output_type": "error",
     "traceback": [
      "\u001b[0;31m---------------------------------------------------------------------------\u001b[0m",
      "\u001b[0;31mNameError\u001b[0m                                 Traceback (most recent call last)",
      "Cell \u001b[0;32mIn[7], line 1\u001b[0m\n\u001b[0;32m----> 1\u001b[0m fig \u001b[38;5;241m=\u001b[39m \u001b[43mrc\u001b[49m\u001b[38;5;241m.\u001b[39mplot(rho, T, comp, rotated\u001b[38;5;241m=\u001b[39m\u001b[38;5;28;01mTrue\u001b[39;00m, hide_xalpha\u001b[38;5;241m=\u001b[39m\u001b[38;5;28;01mTrue\u001b[39;00m)\n",
      "\u001b[0;31mNameError\u001b[0m: name 'rc' is not defined"
     ]
    }
   ],
   "source": [
    "fig = rc.plot(rho, T, comp, rotated=True, hide_xalpha=True)"
   ]
  },
  {
   "cell_type": "markdown",
   "id": "123c44d9-3191-435f-8417-3b026369604a",
   "metadata": {
    "user_expressions": []
   },
   "source": [
    "We can also plot the edges curved, to help distinguish the forward and reverse rates"
   ]
  },
  {
   "cell_type": "code",
   "execution_count": 8,
   "id": "3321a4c1-e4d4-4bcf-9cc1-8dddca94a9ef",
   "metadata": {
    "execution": {
     "iopub.execute_input": "2024-10-18T08:33:25.319963Z",
     "iopub.status.busy": "2024-10-18T08:33:25.319644Z",
     "iopub.status.idle": "2024-10-18T08:33:25.331135Z",
     "shell.execute_reply": "2024-10-18T08:33:25.330599Z"
    },
    "tags": []
   },
   "outputs": [
    {
     "ename": "NameError",
     "evalue": "name 'rc' is not defined",
     "output_type": "error",
     "traceback": [
      "\u001b[0;31m---------------------------------------------------------------------------\u001b[0m",
      "\u001b[0;31mNameError\u001b[0m                                 Traceback (most recent call last)",
      "Cell \u001b[0;32mIn[8], line 1\u001b[0m\n\u001b[0;32m----> 1\u001b[0m fig \u001b[38;5;241m=\u001b[39m \u001b[43mrc\u001b[49m\u001b[38;5;241m.\u001b[39mplot(rho, T, comp, rotated\u001b[38;5;241m=\u001b[39m\u001b[38;5;28;01mTrue\u001b[39;00m, hide_xalpha\u001b[38;5;241m=\u001b[39m\u001b[38;5;28;01mTrue\u001b[39;00m,\n\u001b[1;32m      2\u001b[0m               curved_edges\u001b[38;5;241m=\u001b[39m\u001b[38;5;28;01mTrue\u001b[39;00m)\n",
      "\u001b[0;31mNameError\u001b[0m: name 'rc' is not defined"
     ]
    }
   ],
   "source": [
    "fig = rc.plot(rho, T, comp, rotated=True, hide_xalpha=True,\n",
    "              curved_edges=True)"
   ]
  },
  {
   "cell_type": "markdown",
   "id": "61c3bb5c-a8d0-4305-9fbb-03e55b408823",
   "metadata": {
    "user_expressions": []
   },
   "source": [
    "## Filters\n",
    "\n",
    "We can use a rate filter to show only certain links.  For example, to show only links involving proton capture, we can do:"
   ]
  },
  {
   "cell_type": "code",
   "execution_count": 9,
   "id": "13a80d2b-c925-4e66-ae9c-a6f96f56c6af",
   "metadata": {
    "execution": {
     "iopub.execute_input": "2024-10-18T08:33:25.333018Z",
     "iopub.status.busy": "2024-10-18T08:33:25.332698Z",
     "iopub.status.idle": "2024-10-18T08:33:25.345484Z",
     "shell.execute_reply": "2024-10-18T08:33:25.344896Z"
    },
    "tags": []
   },
   "outputs": [
    {
     "ename": "NameError",
     "evalue": "name 'rc' is not defined",
     "output_type": "error",
     "traceback": [
      "\u001b[0;31m---------------------------------------------------------------------------\u001b[0m",
      "\u001b[0;31mNameError\u001b[0m                                 Traceback (most recent call last)",
      "Cell \u001b[0;32mIn[9], line 1\u001b[0m\n\u001b[0;32m----> 1\u001b[0m fig \u001b[38;5;241m=\u001b[39m \u001b[43mrc\u001b[49m\u001b[38;5;241m.\u001b[39mplot(rho, T, comp, rotated\u001b[38;5;241m=\u001b[39m\u001b[38;5;28;01mTrue\u001b[39;00m, hide_xalpha\u001b[38;5;241m=\u001b[39m\u001b[38;5;28;01mTrue\u001b[39;00m,\n\u001b[1;32m      2\u001b[0m               rate_filter_function\u001b[38;5;241m=\u001b[39m\u001b[38;5;28;01mlambda\u001b[39;00m r: pyna\u001b[38;5;241m.\u001b[39mNucleus(\u001b[38;5;124m\"\u001b[39m\u001b[38;5;124mp\u001b[39m\u001b[38;5;124m\"\u001b[39m) \u001b[38;5;129;01min\u001b[39;00m r\u001b[38;5;241m.\u001b[39mreactants)\n",
      "\u001b[0;31mNameError\u001b[0m: name 'rc' is not defined"
     ]
    }
   ],
   "source": [
    "fig = rc.plot(rho, T, comp, rotated=True, hide_xalpha=True,\n",
    "              rate_filter_function=lambda r: pyna.Nucleus(\"p\") in r.reactants)"
   ]
  },
  {
   "cell_type": "markdown",
   "id": "c45c6834-d31a-4231-b0d6-78346e7db475",
   "metadata": {
    "user_expressions": []
   },
   "source": [
    "We can also highlight rates using the `highlight_filter_function` mechanism.  This takes a function that operates on a rate and returns `True` if we wish to highlight the rate (i.e., as if we used a highlighter marker over the line).\n",
    "\n",
    "Here's an example where we highlight the rates that have $Q > 0$"
   ]
  },
  {
   "cell_type": "code",
   "execution_count": 10,
   "id": "dee64eb6-f86a-4115-b6a9-d4172aa28e79",
   "metadata": {
    "execution": {
     "iopub.execute_input": "2024-10-18T08:33:25.347101Z",
     "iopub.status.busy": "2024-10-18T08:33:25.346940Z",
     "iopub.status.idle": "2024-10-18T08:33:25.359061Z",
     "shell.execute_reply": "2024-10-18T08:33:25.358615Z"
    },
    "tags": []
   },
   "outputs": [
    {
     "ename": "NameError",
     "evalue": "name 'rc' is not defined",
     "output_type": "error",
     "traceback": [
      "\u001b[0;31m---------------------------------------------------------------------------\u001b[0m",
      "\u001b[0;31mNameError\u001b[0m                                 Traceback (most recent call last)",
      "Cell \u001b[0;32mIn[10], line 1\u001b[0m\n\u001b[0;32m----> 1\u001b[0m fig \u001b[38;5;241m=\u001b[39m \u001b[43mrc\u001b[49m\u001b[38;5;241m.\u001b[39mplot(rotated\u001b[38;5;241m=\u001b[39m\u001b[38;5;28;01mTrue\u001b[39;00m, hide_xalpha\u001b[38;5;241m=\u001b[39m\u001b[38;5;28;01mTrue\u001b[39;00m, size\u001b[38;5;241m=\u001b[39m(\u001b[38;5;241m1500\u001b[39m, \u001b[38;5;241m600\u001b[39m),\n\u001b[1;32m      2\u001b[0m               highlight_filter_function\u001b[38;5;241m=\u001b[39m\u001b[38;5;28;01mlambda\u001b[39;00m r: r\u001b[38;5;241m.\u001b[39mQ \u001b[38;5;241m>\u001b[39m \u001b[38;5;241m0\u001b[39m,\n\u001b[1;32m      3\u001b[0m               curved_edges\u001b[38;5;241m=\u001b[39m\u001b[38;5;28;01mTrue\u001b[39;00m)\n",
      "\u001b[0;31mNameError\u001b[0m: name 'rc' is not defined"
     ]
    }
   ],
   "source": [
    "fig = rc.plot(rotated=True, hide_xalpha=True, size=(1500, 600),\n",
    "              highlight_filter_function=lambda r: r.Q > 0,\n",
    "              curved_edges=True)"
   ]
  },
  {
   "cell_type": "markdown",
   "id": "e1829390-5145-43ab-80bd-4d32d104e37a",
   "metadata": {
    "user_expressions": []
   },
   "source": [
    "## Plotting the Jacobian\n",
    "\n",
    "For implicit integration, we solve:\n",
    "\n",
    "$$\\dot{\\bf Y} = {\\bf f}({\\bf Y})$$\n",
    "\n",
    "and the Jacobian, ${\\bf J} = \\partial {\\bf f} / \\partial {\\bf Y}$ plays an important role\n",
    "in solving for the update.\n",
    "\n",
    "We can visualize the Jacobian of our network easily.  By default, we will show all elements\n",
    "where \n",
    "\n",
    "$$\\frac{\\mathrm{max}_{i,j} (|J_{ij}|)}{|J_{ij}|} > 10^{10}$$\n",
    "\n",
    "but this ratio can be set via the `rate_scaling` keyword argument."
   ]
  },
  {
   "cell_type": "code",
   "execution_count": 11,
   "id": "8d3fcc6b-eadc-40a2-b16f-ea41ac71e540",
   "metadata": {
    "execution": {
     "iopub.execute_input": "2024-10-18T08:33:25.360549Z",
     "iopub.status.busy": "2024-10-18T08:33:25.360391Z",
     "iopub.status.idle": "2024-10-18T08:33:25.371864Z",
     "shell.execute_reply": "2024-10-18T08:33:25.371401Z"
    },
    "tags": []
   },
   "outputs": [
    {
     "ename": "NameError",
     "evalue": "name 'rc' is not defined",
     "output_type": "error",
     "traceback": [
      "\u001b[0;31m---------------------------------------------------------------------------\u001b[0m",
      "\u001b[0;31mNameError\u001b[0m                                 Traceback (most recent call last)",
      "Cell \u001b[0;32mIn[11], line 1\u001b[0m\n\u001b[0;32m----> 1\u001b[0m fig \u001b[38;5;241m=\u001b[39m \u001b[43mrc\u001b[49m\u001b[38;5;241m.\u001b[39mplot_jacobian(rho, T, comp, rate_scaling\u001b[38;5;241m=\u001b[39m\u001b[38;5;241m1.e50\u001b[39m)\n",
      "\u001b[0;31mNameError\u001b[0m: name 'rc' is not defined"
     ]
    }
   ],
   "source": [
    "fig = rc.plot_jacobian(rho, T, comp, rate_scaling=1.e50)"
   ]
  },
  {
   "cell_type": "markdown",
   "id": "c487490a-b911-47ec-bd82-49e80a3693d7",
   "metadata": {
    "user_expressions": []
   },
   "source": [
    "## Plot nuclides on a grid"
   ]
  },
  {
   "cell_type": "markdown",
   "id": "d6d85326-acc7-4e84-b60d-66e1affa1053",
   "metadata": {
    "user_expressions": []
   },
   "source": [
    "Nuclides in a network may also be visualized as cells on a grid of Z vs. N, colored by some quantity. This can be more interpretable for large networks. Calling `gridplot` without any arguments will just plot the grid - to see anything interesting we need to supply some conditions. Here is a plot of nuclide mass fraction on a log scale, with a 36 square inch figure:"
   ]
  },
  {
   "cell_type": "code",
   "execution_count": 12,
   "id": "d632d18d-8207-4495-99f0-1dd2762a20f8",
   "metadata": {
    "execution": {
     "iopub.execute_input": "2024-10-18T08:33:25.373418Z",
     "iopub.status.busy": "2024-10-18T08:33:25.373256Z",
     "iopub.status.idle": "2024-10-18T08:33:26.118575Z",
     "shell.execute_reply": "2024-10-18T08:33:26.118034Z"
    }
   },
   "outputs": [],
   "source": [
    "rate_names = [\"c12(p,g)n13\", \n",
    "              \"c13(p,g)n14\",\n",
    "              \"n13(,)c13\",\n",
    "              \"n13(p,g)o14\",\n",
    "              \"n14(p,g)o15\",\n",
    "              \"n15(p,a)c12\",\n",
    "              \"o14(,)n14\",\n",
    "              \"o15(,)n15\"]\n",
    "rates = library.get_rate_by_name(rate_names)\n",
    "rc = pyna.RateCollection(rates=rates)"
   ]
  },
  {
   "cell_type": "code",
   "execution_count": 13,
   "id": "a73417f8-5c09-4ef0-ab83-430c8369b9e3",
   "metadata": {
    "execution": {
     "iopub.execute_input": "2024-10-18T08:33:26.120459Z",
     "iopub.status.busy": "2024-10-18T08:33:26.120281Z",
     "iopub.status.idle": "2024-10-18T08:33:26.123192Z",
     "shell.execute_reply": "2024-10-18T08:33:26.122751Z"
    }
   },
   "outputs": [],
   "source": [
    "rho = 1.e4\n",
    "T = 1.e8\n",
    "comp = pyna.Composition(rc.get_nuclei())\n",
    "comp.set_solar_like()"
   ]
  },
  {
   "cell_type": "code",
   "execution_count": 14,
   "id": "03d354ee-2aae-40db-9a14-e4ea581fa50b",
   "metadata": {
    "execution": {
     "iopub.execute_input": "2024-10-18T08:33:26.124825Z",
     "iopub.status.busy": "2024-10-18T08:33:26.124527Z",
     "iopub.status.idle": "2024-10-18T08:33:26.316783Z",
     "shell.execute_reply": "2024-10-18T08:33:26.316215Z"
    }
   },
   "outputs": [
    {
     "data": {
      "image/png": "[encoded data removed]",
      "text/plain": [
       "<Figure size 641.427x561.249 with 2 Axes>"
      ]
     },
     "metadata": {},
     "output_type": "display_data"
    }
   ],
   "source": [
    "fig = rc.gridplot(comp=comp, color_field=\"X\", scale=\"log\", area=36)"
   ]
  },
  {
   "cell_type": "markdown",
   "id": "b2bdc499-a215-422c-9fa3-27ac44e02388",
   "metadata": {
    "user_expressions": []
   },
   "source": [
    "The plot is configurable through a large number of keyword arguments. Here we want to look at the rates at which nuclides are being created or destroyed, so we color by $\\dot{Y}$, the rate of change of molar abundance. Density and temperature need to be supplied to evaluate the rates. A full list of valid keyword arguments can be found in the API documentation."
   ]
  },
  {
   "cell_type": "code",
   "execution_count": 15,
   "id": "eec97024-239e-4c69-b054-930908c85110",
   "metadata": {
    "execution": {
     "iopub.execute_input": "2024-10-18T08:33:26.318600Z",
     "iopub.status.busy": "2024-10-18T08:33:26.318290Z",
     "iopub.status.idle": "2024-10-18T08:33:27.190920Z",
     "shell.execute_reply": "2024-10-18T08:33:27.190293Z"
    }
   },
   "outputs": [
    {
     "data": {
      "image/png": "[encoded data removed]",
      "text/plain": [
       "<Figure size 641.427x561.249 with 2 Axes>"
      ]
     },
     "metadata": {},
     "output_type": "display_data"
    }
   ],
   "source": [
    "fig = rc.gridplot(comp=comp, rho=rho, T=T, color_field=\"ydot\", area=36,\n",
    "                  cmap=\"RdGy\", cbar_bounds=(-0.1, 0.1))"
   ]
  },
  {
   "cell_type": "markdown",
   "id": "125c0e4d-20f4-4aaf-9e4a-47f35dc51de9",
   "metadata": {
    "user_expressions": []
   },
   "source": [
    "Unlike the network plot, this won't omit hydrogen and helium by default. To just look at the heavier nuclides, we can define a function to filter by proton number.  Here we also plot\n",
    "*activity*, which is the sum of all rates contributions to Ydot ignoring the sign."
   ]
  },
  {
   "cell_type": "code",
   "execution_count": 16,
   "id": "1a11be5f-2e88-47e4-9408-2587e8920b9f",
   "metadata": {
    "execution": {
     "iopub.execute_input": "2024-10-18T08:33:27.192836Z",
     "iopub.status.busy": "2024-10-18T08:33:27.192647Z",
     "iopub.status.idle": "2024-10-18T08:33:27.298181Z",
     "shell.execute_reply": "2024-10-18T08:33:27.297587Z"
    },
    "tags": []
   },
   "outputs": [
    {
     "data": {
      "image/png": "[encoded data removed]",
      "text/plain": [
       "<Figure size 447.214x447.214 with 2 Axes>"
      ]
     },
     "metadata": {},
     "output_type": "display_data"
    }
   ],
   "source": [
    "ff = lambda nuc: nuc.Z > 2\n",
    "fig = rc.gridplot(comp=comp, rho=rho, T=T, color_field=\"activity\", scale=\"log\",\n",
    "                  filter_function=ff, area=20, cmap=\"Blues\")"
   ]
  },
  {
   "cell_type": "markdown",
   "id": "c04f0893-b4ed-4eca-8c81-20cc2d037e95",
   "metadata": {
    "user_expressions": []
   },
   "source": [
    "## Network Chart"
   ]
  },
  {
   "cell_type": "markdown",
   "id": "3dd81fb3-35a4-4967-b800-ac59d13f5752",
   "metadata": {
    "user_expressions": []
   },
   "source": [
    "A network chart shows how each rate affects each nucleus"
   ]
  },
  {
   "cell_type": "code",
   "execution_count": 17,
   "id": "eeaac82d-28c1-436d-86e2-bcafe5f5e5fb",
   "metadata": {
    "execution": {
     "iopub.execute_input": "2024-10-18T08:33:27.300153Z",
     "iopub.status.busy": "2024-10-18T08:33:27.299829Z",
     "iopub.status.idle": "2024-10-18T08:33:28.122495Z",
     "shell.execute_reply": "2024-10-18T08:33:28.121988Z"
    },
    "tags": []
   },
   "outputs": [
    {
     "data": {
      "image/png": "[encoded data removed]",
      "text/plain": [
       "<Figure size 800x800 with 2 Axes>"
      ]
     },
     "metadata": {},
     "output_type": "display_data"
    }
   ],
   "source": [
    "fig = rc.plot_network_chart(rho, T, comp)"
   ]
  }
 ],
 "metadata": {
  "kernelspec": {
   "display_name": "Python 3 (ipykernel)",
   "language": "python",
   "name": "python3"
  },
  "language_info": {
   "codemirror_mode": {
    "name": "ipython",
    "version": 3
   },
   "file_extension": ".py",
   "mimetype": "text/x-python",
   "name": "python",
   "nbconvert_exporter": "python",
   "pygments_lexer": "ipython3",
   "version": "3.11.10"
  }
 },
 "nbformat": 4,
 "nbformat_minor": 5
}
