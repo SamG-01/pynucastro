{
 "cells": [
  {
   "cell_type": "markdown",
   "id": "591222f3-f666-4f48-87a3-c4b787cfaa22",
   "metadata": {
    "user_expressions": []
   },
   "source": [
    "# Plotting Examples\n",
    "\n",
    "There are a variety of methods that can be used to visualize a network."
   ]
  },
  {
   "cell_type": "code",
   "execution_count": 1,
   "id": "47f769a5-0700-4846-87d1-3fe502bf50af",
   "metadata": {
    "execution": {
     "iopub.execute_input": "2024-10-17T09:03:33.444423Z",
     "iopub.status.busy": "2024-10-17T09:03:33.444254Z",
     "iopub.status.idle": "2024-10-17T09:03:34.855439Z",
     "shell.execute_reply": "2024-10-17T09:03:34.854823Z"
    },
    "tags": []
   },
   "outputs": [],
   "source": [
    "import pynucastro as pyna"
   ]
  },
  {
   "cell_type": "markdown",
   "id": "07943d6a-ffc1-41f6-ba84-f490ae7e1261",
   "metadata": {
    "user_expressions": []
   },
   "source": [
    "## Standard view\n",
    "\n",
    "Let's build a quick network that represents He, C, and O burning"
   ]
  },
  {
   "cell_type": "code",
   "execution_count": 2,
   "id": "529b1fe9-39c4-4b9a-8b7d-a3bd5bebb701",
   "metadata": {
    "execution": {
     "iopub.execute_input": "2024-10-17T09:03:34.857698Z",
     "iopub.status.busy": "2024-10-17T09:03:34.857391Z",
     "iopub.status.idle": "2024-10-17T09:03:38.693506Z",
     "shell.execute_reply": "2024-10-17T09:03:38.692955Z"
    },
    "tags": []
   },
   "outputs": [],
   "source": [
    "library = pyna.ReacLibLibrary()"
   ]
  },
  {
   "cell_type": "code",
   "execution_count": 3,
   "id": "c42e9e4d-5143-4a77-86d2-5ac416249183",
   "metadata": {
    "execution": {
     "iopub.execute_input": "2024-10-17T09:03:38.695427Z",
     "iopub.status.busy": "2024-10-17T09:03:38.695236Z",
     "iopub.status.idle": "2024-10-17T09:03:39.354249Z",
     "shell.execute_reply": "2024-10-17T09:03:39.353626Z"
    },
    "tags": []
   },
   "outputs": [
    {
     "ename": "TypeError",
     "evalue": "argument of type 'NoneType' is not iterable",
     "output_type": "error",
     "traceback": [
      "\u001b[0;31m---------------------------------------------------------------------------\u001b[0m",
      "\u001b[0;31mTypeError\u001b[0m                                 Traceback (most recent call last)",
      "Cell \u001b[0;32mIn[3], line 4\u001b[0m\n\u001b[1;32m      1\u001b[0m sub \u001b[38;5;241m=\u001b[39m library\u001b[38;5;241m.\u001b[39mlinking_nuclei([\u001b[38;5;124m\"\u001b[39m\u001b[38;5;124mp\u001b[39m\u001b[38;5;124m\"\u001b[39m, \u001b[38;5;124m\"\u001b[39m\u001b[38;5;124mn\u001b[39m\u001b[38;5;124m\"\u001b[39m, \u001b[38;5;124m\"\u001b[39m\u001b[38;5;124mhe4\u001b[39m\u001b[38;5;124m\"\u001b[39m, \u001b[38;5;124m\"\u001b[39m\u001b[38;5;124mc12\u001b[39m\u001b[38;5;124m\"\u001b[39m, \u001b[38;5;124m\"\u001b[39m\u001b[38;5;124mn13\u001b[39m\u001b[38;5;124m\"\u001b[39m, \u001b[38;5;124m\"\u001b[39m\u001b[38;5;124mn14\u001b[39m\u001b[38;5;124m\"\u001b[39m, \u001b[38;5;124m\"\u001b[39m\u001b[38;5;124mo16\u001b[39m\u001b[38;5;124m\"\u001b[39m,\n\u001b[1;32m      2\u001b[0m                               \u001b[38;5;124m\"\u001b[39m\u001b[38;5;124mne20\u001b[39m\u001b[38;5;124m\"\u001b[39m, \u001b[38;5;124m\"\u001b[39m\u001b[38;5;124mne21\u001b[39m\u001b[38;5;124m\"\u001b[39m, \u001b[38;5;124m\"\u001b[39m\u001b[38;5;124mna23\u001b[39m\u001b[38;5;124m\"\u001b[39m, \u001b[38;5;124m\"\u001b[39m\u001b[38;5;124mmg23\u001b[39m\u001b[38;5;124m\"\u001b[39m, \u001b[38;5;124m\"\u001b[39m\u001b[38;5;124mmg24\u001b[39m\u001b[38;5;124m\"\u001b[39m, \u001b[38;5;124m\"\u001b[39m\u001b[38;5;124mal27\u001b[39m\u001b[38;5;124m\"\u001b[39m,\n\u001b[1;32m      3\u001b[0m                               \u001b[38;5;124m\"\u001b[39m\u001b[38;5;124msi27\u001b[39m\u001b[38;5;124m\"\u001b[39m, \u001b[38;5;124m\"\u001b[39m\u001b[38;5;124msi28\u001b[39m\u001b[38;5;124m\"\u001b[39m])\n\u001b[0;32m----> 4\u001b[0m rc \u001b[38;5;241m=\u001b[39m \u001b[43mpyna\u001b[49m\u001b[38;5;241;43m.\u001b[39;49m\u001b[43mRateCollection\u001b[49m\u001b[43m(\u001b[49m\u001b[43mlibraries\u001b[49m\u001b[38;5;241;43m=\u001b[39;49m\u001b[43msub\u001b[49m\u001b[43m)\u001b[49m\n",
      "File \u001b[0;32m/opt/hostedtoolcache/Python/3.11.10/x64/lib/python3.11/site-packages/pynucastro/networks/rate_collection.py:475\u001b[0m, in \u001b[0;36mRateCollection.__init__\u001b[0;34m(self, rate_files, libraries, rates, inert_nuclei, symmetric_screening, do_screening)\u001b[0m\n\u001b[1;32m    473\u001b[0m             \u001b[38;5;28;01mraise\u001b[39;00m \u001b[38;5;167;01mValueError\u001b[39;00m(\u001b[38;5;124m'\u001b[39m\u001b[38;5;124mExpected Library object or list of Library objects passed as the libraries argument.\u001b[39m\u001b[38;5;124m'\u001b[39m)\n\u001b[1;32m    474\u001b[0m     \u001b[38;5;28;01mfor\u001b[39;00m lib \u001b[38;5;129;01min\u001b[39;00m libraries:\n\u001b[0;32m--> 475\u001b[0m         \u001b[43mcombined_library\u001b[49m\u001b[43m \u001b[49m\u001b[38;5;241;43m+\u001b[39;49m\u001b[38;5;241;43m=\u001b[39;49m\u001b[43m \u001b[49m\u001b[43mlib\u001b[49m\n\u001b[1;32m    477\u001b[0m \u001b[38;5;28mself\u001b[39m\u001b[38;5;241m.\u001b[39mrates \u001b[38;5;241m=\u001b[39m \u001b[38;5;28mself\u001b[39m\u001b[38;5;241m.\u001b[39mrates \u001b[38;5;241m+\u001b[39m combined_library\u001b[38;5;241m.\u001b[39mget_rates()\n\u001b[1;32m    479\u001b[0m \u001b[38;5;28mself\u001b[39m\u001b[38;5;241m.\u001b[39m_build_collection()\n",
      "File \u001b[0;32m/opt/hostedtoolcache/Python/3.11.10/x64/lib/python3.11/site-packages/pynucastro/rates/library.py:360\u001b[0m, in \u001b[0;36mLibrary.__add__\u001b[0;34m(self, other)\u001b[0m\n\u001b[1;32m    358\u001b[0m new_rates \u001b[38;5;241m=\u001b[39m \u001b[38;5;28mself\u001b[39m\u001b[38;5;241m.\u001b[39m_rates\n\u001b[1;32m    359\u001b[0m \u001b[38;5;28;01mfor\u001b[39;00m rid, r \u001b[38;5;129;01min\u001b[39;00m other\u001b[38;5;241m.\u001b[39m_rates\u001b[38;5;241m.\u001b[39mitems():\n\u001b[0;32m--> 360\u001b[0m     \u001b[38;5;28;01mif\u001b[39;00m \u001b[43mrid\u001b[49m\u001b[43m \u001b[49m\u001b[38;5;129;43;01min\u001b[39;49;00m\u001b[43m \u001b[49m\u001b[43mnew_rates\u001b[49m:\n\u001b[1;32m    361\u001b[0m         \u001b[38;5;28;01mif\u001b[39;00m r \u001b[38;5;241m!=\u001b[39m new_rates[rid]:\n\u001b[1;32m    362\u001b[0m             \u001b[38;5;28;01mraise\u001b[39;00m \u001b[38;5;167;01mValueError\u001b[39;00m(\u001b[38;5;124mf\u001b[39m\u001b[38;5;124m'\u001b[39m\u001b[38;5;124mrate \u001b[39m\u001b[38;5;132;01m{\u001b[39;00mr\u001b[38;5;132;01m}\u001b[39;00m\u001b[38;5;124m defined differently in libraries \u001b[39m\u001b[38;5;132;01m{\u001b[39;00m\u001b[38;5;28mself\u001b[39m\u001b[38;5;241m.\u001b[39m_library_file\u001b[38;5;132;01m}\u001b[39;00m\u001b[38;5;124m and \u001b[39m\u001b[38;5;132;01m{\u001b[39;00mother\u001b[38;5;241m.\u001b[39m_library_file\u001b[38;5;132;01m}\u001b[39;00m\u001b[38;5;124m'\u001b[39m)\n",
      "\u001b[0;31mTypeError\u001b[0m: argument of type 'NoneType' is not iterable"
     ]
    }
   ],
   "source": [
    "sub = library.linking_nuclei([\"p\", \"n\", \"he4\", \"c12\", \"n13\", \"n14\", \"o16\",\n",
    "                              \"ne20\", \"ne21\", \"na23\", \"mg23\", \"mg24\", \"al27\",\n",
    "                              \"si27\", \"si28\"])\n",
    "rc = pyna.RateCollection(libraries=sub)"
   ]
  },
  {
   "cell_type": "markdown",
   "id": "65d694bb-4f65-4d2e-848c-44766d2fab8b",
   "metadata": {
    "user_expressions": []
   },
   "source": [
    "The standard network plot of this is:"
   ]
  },
  {
   "cell_type": "code",
   "execution_count": 4,
   "id": "9e155c62-7a62-4fa5-ae24-eadfcdc5ba67",
   "metadata": {
    "execution": {
     "iopub.execute_input": "2024-10-17T09:03:39.356384Z",
     "iopub.status.busy": "2024-10-17T09:03:39.355937Z",
     "iopub.status.idle": "2024-10-17T09:03:39.368659Z",
     "shell.execute_reply": "2024-10-17T09:03:39.368145Z"
    },
    "tags": []
   },
   "outputs": [
    {
     "ename": "NameError",
     "evalue": "name 'rc' is not defined",
     "output_type": "error",
     "traceback": [
      "\u001b[0;31m---------------------------------------------------------------------------\u001b[0m",
      "\u001b[0;31mNameError\u001b[0m                                 Traceback (most recent call last)",
      "Cell \u001b[0;32mIn[4], line 1\u001b[0m\n\u001b[0;32m----> 1\u001b[0m fig \u001b[38;5;241m=\u001b[39m \u001b[43mrc\u001b[49m\u001b[38;5;241m.\u001b[39mplot()\n",
      "\u001b[0;31mNameError\u001b[0m: name 'rc' is not defined"
     ]
    }
   ],
   "source": [
    "fig = rc.plot()"
   ]
  },
  {
   "cell_type": "markdown",
   "id": "1ff2be2d-252f-4fc2-a408-ac7ada2c97bb",
   "metadata": {
    "user_expressions": []
   },
   "source": [
    "## Rotated view\n",
    "\n",
    "Since everything lies close to the diagonal, it is hard to see the structure.  We can instead look at a rotated view of the network.\n",
    "\n",
    "While we're at it, we'll also color the rates by reaction rate strength"
   ]
  },
  {
   "cell_type": "code",
   "execution_count": 5,
   "id": "942b607c-ca88-4886-9472-448cf43716b6",
   "metadata": {
    "execution": {
     "iopub.execute_input": "2024-10-17T09:03:39.370372Z",
     "iopub.status.busy": "2024-10-17T09:03:39.370039Z",
     "iopub.status.idle": "2024-10-17T09:03:39.381760Z",
     "shell.execute_reply": "2024-10-17T09:03:39.381321Z"
    },
    "tags": []
   },
   "outputs": [
    {
     "ename": "NameError",
     "evalue": "name 'rc' is not defined",
     "output_type": "error",
     "traceback": [
      "\u001b[0;31m---------------------------------------------------------------------------\u001b[0m",
      "\u001b[0;31mNameError\u001b[0m                                 Traceback (most recent call last)",
      "Cell \u001b[0;32mIn[5], line 3\u001b[0m\n\u001b[1;32m      1\u001b[0m rho \u001b[38;5;241m=\u001b[39m \u001b[38;5;241m1.e4\u001b[39m\n\u001b[1;32m      2\u001b[0m T \u001b[38;5;241m=\u001b[39m \u001b[38;5;241m1.e8\u001b[39m\n\u001b[0;32m----> 3\u001b[0m comp \u001b[38;5;241m=\u001b[39m pyna\u001b[38;5;241m.\u001b[39mComposition(\u001b[43mrc\u001b[49m\u001b[38;5;241m.\u001b[39mget_nuclei())\n\u001b[1;32m      4\u001b[0m comp\u001b[38;5;241m.\u001b[39mset_solar_like()\n",
      "\u001b[0;31mNameError\u001b[0m: name 'rc' is not defined"
     ]
    }
   ],
   "source": [
    "rho = 1.e4\n",
    "T = 1.e8\n",
    "comp = pyna.Composition(rc.get_nuclei())\n",
    "comp.set_solar_like()"
   ]
  },
  {
   "cell_type": "code",
   "execution_count": 6,
   "id": "085978db-2fd5-4463-9a89-f18d673c463c",
   "metadata": {
    "execution": {
     "iopub.execute_input": "2024-10-17T09:03:39.383356Z",
     "iopub.status.busy": "2024-10-17T09:03:39.383185Z",
     "iopub.status.idle": "2024-10-17T09:03:39.394579Z",
     "shell.execute_reply": "2024-10-17T09:03:39.394038Z"
    },
    "tags": []
   },
   "outputs": [
    {
     "ename": "NameError",
     "evalue": "name 'rc' is not defined",
     "output_type": "error",
     "traceback": [
      "\u001b[0;31m---------------------------------------------------------------------------\u001b[0m",
      "\u001b[0;31mNameError\u001b[0m                                 Traceback (most recent call last)",
      "Cell \u001b[0;32mIn[6], line 1\u001b[0m\n\u001b[0;32m----> 1\u001b[0m fig \u001b[38;5;241m=\u001b[39m \u001b[43mrc\u001b[49m\u001b[38;5;241m.\u001b[39mplot(rho, T, comp, rotated\u001b[38;5;241m=\u001b[39m\u001b[38;5;28;01mTrue\u001b[39;00m)\n",
      "\u001b[0;31mNameError\u001b[0m: name 'rc' is not defined"
     ]
    }
   ],
   "source": [
    "fig = rc.plot(rho, T, comp, rotated=True)"
   ]
  },
  {
   "cell_type": "markdown",
   "id": "48ce0e8a-a0f8-4901-907a-068d6ee75878",
   "metadata": {
    "user_expressions": []
   },
   "source": [
    "This looks a bit crowded, since it is showing all of the links to ${}^4\\mathrm{He}$ from reactions of the form $A(x, \\alpha)B$.  We can hide those links with ``hide_xalpha=True``"
   ]
  },
  {
   "cell_type": "code",
   "execution_count": 7,
   "id": "20806111-0def-4652-8257-71588b2d4da3",
   "metadata": {
    "execution": {
     "iopub.execute_input": "2024-10-17T09:03:39.396366Z",
     "iopub.status.busy": "2024-10-17T09:03:39.396075Z",
     "iopub.status.idle": "2024-10-17T09:03:39.407335Z",
     "shell.execute_reply": "2024-10-17T09:03:39.406773Z"
    },
    "tags": []
   },
   "outputs": [
    {
     "ename": "NameError",
     "evalue": "name 'rc' is not defined",
     "output_type": "error",
     "traceback": [
      "\u001b[0;31m---------------------------------------------------------------------------\u001b[0m",
      "\u001b[0;31mNameError\u001b[0m                                 Traceback (most recent call last)",
      "Cell \u001b[0;32mIn[7], line 1\u001b[0m\n\u001b[0;32m----> 1\u001b[0m fig \u001b[38;5;241m=\u001b[39m \u001b[43mrc\u001b[49m\u001b[38;5;241m.\u001b[39mplot(rho, T, comp, rotated\u001b[38;5;241m=\u001b[39m\u001b[38;5;28;01mTrue\u001b[39;00m, hide_xalpha\u001b[38;5;241m=\u001b[39m\u001b[38;5;28;01mTrue\u001b[39;00m)\n",
      "\u001b[0;31mNameError\u001b[0m: name 'rc' is not defined"
     ]
    }
   ],
   "source": [
    "fig = rc.plot(rho, T, comp, rotated=True, hide_xalpha=True)"
   ]
  },
  {
   "cell_type": "markdown",
   "id": "123c44d9-3191-435f-8417-3b026369604a",
   "metadata": {
    "user_expressions": []
   },
   "source": [
    "We can also plot the edges curved, to help distinguish the forward and reverse rates"
   ]
  },
  {
   "cell_type": "code",
   "execution_count": 8,
   "id": "3321a4c1-e4d4-4bcf-9cc1-8dddca94a9ef",
   "metadata": {
    "execution": {
     "iopub.execute_input": "2024-10-17T09:03:39.408923Z",
     "iopub.status.busy": "2024-10-17T09:03:39.408626Z",
     "iopub.status.idle": "2024-10-17T09:03:39.420002Z",
     "shell.execute_reply": "2024-10-17T09:03:39.419469Z"
    },
    "tags": []
   },
   "outputs": [
    {
     "ename": "NameError",
     "evalue": "name 'rc' is not defined",
     "output_type": "error",
     "traceback": [
      "\u001b[0;31m---------------------------------------------------------------------------\u001b[0m",
      "\u001b[0;31mNameError\u001b[0m                                 Traceback (most recent call last)",
      "Cell \u001b[0;32mIn[8], line 1\u001b[0m\n\u001b[0;32m----> 1\u001b[0m fig \u001b[38;5;241m=\u001b[39m \u001b[43mrc\u001b[49m\u001b[38;5;241m.\u001b[39mplot(rho, T, comp, rotated\u001b[38;5;241m=\u001b[39m\u001b[38;5;28;01mTrue\u001b[39;00m, hide_xalpha\u001b[38;5;241m=\u001b[39m\u001b[38;5;28;01mTrue\u001b[39;00m,\n\u001b[1;32m      2\u001b[0m               curved_edges\u001b[38;5;241m=\u001b[39m\u001b[38;5;28;01mTrue\u001b[39;00m)\n",
      "\u001b[0;31mNameError\u001b[0m: name 'rc' is not defined"
     ]
    }
   ],
   "source": [
    "fig = rc.plot(rho, T, comp, rotated=True, hide_xalpha=True,\n",
    "              curved_edges=True)"
   ]
  },
  {
   "cell_type": "markdown",
   "id": "61c3bb5c-a8d0-4305-9fbb-03e55b408823",
   "metadata": {
    "user_expressions": []
   },
   "source": [
    "## Filters\n",
    "\n",
    "We can use a rate filter to show only certain links.  For example, to show only links involving proton capture, we can do:"
   ]
  },
  {
   "cell_type": "code",
   "execution_count": 9,
   "id": "13a80d2b-c925-4e66-ae9c-a6f96f56c6af",
   "metadata": {
    "execution": {
     "iopub.execute_input": "2024-10-17T09:03:39.421605Z",
     "iopub.status.busy": "2024-10-17T09:03:39.421311Z",
     "iopub.status.idle": "2024-10-17T09:03:39.433721Z",
     "shell.execute_reply": "2024-10-17T09:03:39.433191Z"
    },
    "tags": []
   },
   "outputs": [
    {
     "ename": "NameError",
     "evalue": "name 'rc' is not defined",
     "output_type": "error",
     "traceback": [
      "\u001b[0;31m---------------------------------------------------------------------------\u001b[0m",
      "\u001b[0;31mNameError\u001b[0m                                 Traceback (most recent call last)",
      "Cell \u001b[0;32mIn[9], line 1\u001b[0m\n\u001b[0;32m----> 1\u001b[0m fig \u001b[38;5;241m=\u001b[39m \u001b[43mrc\u001b[49m\u001b[38;5;241m.\u001b[39mplot(rho, T, comp, rotated\u001b[38;5;241m=\u001b[39m\u001b[38;5;28;01mTrue\u001b[39;00m, hide_xalpha\u001b[38;5;241m=\u001b[39m\u001b[38;5;28;01mTrue\u001b[39;00m,\n\u001b[1;32m      2\u001b[0m               rate_filter_function\u001b[38;5;241m=\u001b[39m\u001b[38;5;28;01mlambda\u001b[39;00m r: pyna\u001b[38;5;241m.\u001b[39mNucleus(\u001b[38;5;124m\"\u001b[39m\u001b[38;5;124mp\u001b[39m\u001b[38;5;124m\"\u001b[39m) \u001b[38;5;129;01min\u001b[39;00m r\u001b[38;5;241m.\u001b[39mreactants)\n",
      "\u001b[0;31mNameError\u001b[0m: name 'rc' is not defined"
     ]
    }
   ],
   "source": [
    "fig = rc.plot(rho, T, comp, rotated=True, hide_xalpha=True,\n",
    "              rate_filter_function=lambda r: pyna.Nucleus(\"p\") in r.reactants)"
   ]
  },
  {
   "cell_type": "markdown",
   "id": "c45c6834-d31a-4231-b0d6-78346e7db475",
   "metadata": {
    "user_expressions": []
   },
   "source": [
    "We can also highlight rates using the `highlight_filter_function` mechanism.  This takes a function that operates on a rate and returns `True` if we wish to highlight the rate (i.e., as if we used a highlighter marker over the line).\n",
    "\n",
    "Here's an example where we highlight the rates that have $Q > 0$"
   ]
  },
  {
   "cell_type": "code",
   "execution_count": 10,
   "id": "dee64eb6-f86a-4115-b6a9-d4172aa28e79",
   "metadata": {
    "execution": {
     "iopub.execute_input": "2024-10-17T09:03:39.435508Z",
     "iopub.status.busy": "2024-10-17T09:03:39.435211Z",
     "iopub.status.idle": "2024-10-17T09:03:39.446866Z",
     "shell.execute_reply": "2024-10-17T09:03:39.446337Z"
    },
    "tags": []
   },
   "outputs": [
    {
     "ename": "NameError",
     "evalue": "name 'rc' is not defined",
     "output_type": "error",
     "traceback": [
      "\u001b[0;31m---------------------------------------------------------------------------\u001b[0m",
      "\u001b[0;31mNameError\u001b[0m                                 Traceback (most recent call last)",
      "Cell \u001b[0;32mIn[10], line 1\u001b[0m\n\u001b[0;32m----> 1\u001b[0m fig \u001b[38;5;241m=\u001b[39m \u001b[43mrc\u001b[49m\u001b[38;5;241m.\u001b[39mplot(rotated\u001b[38;5;241m=\u001b[39m\u001b[38;5;28;01mTrue\u001b[39;00m, hide_xalpha\u001b[38;5;241m=\u001b[39m\u001b[38;5;28;01mTrue\u001b[39;00m, size\u001b[38;5;241m=\u001b[39m(\u001b[38;5;241m1500\u001b[39m, \u001b[38;5;241m600\u001b[39m),\n\u001b[1;32m      2\u001b[0m               highlight_filter_function\u001b[38;5;241m=\u001b[39m\u001b[38;5;28;01mlambda\u001b[39;00m r: r\u001b[38;5;241m.\u001b[39mQ \u001b[38;5;241m>\u001b[39m \u001b[38;5;241m0\u001b[39m,\n\u001b[1;32m      3\u001b[0m               curved_edges\u001b[38;5;241m=\u001b[39m\u001b[38;5;28;01mTrue\u001b[39;00m)\n",
      "\u001b[0;31mNameError\u001b[0m: name 'rc' is not defined"
     ]
    }
   ],
   "source": [
    "fig = rc.plot(rotated=True, hide_xalpha=True, size=(1500, 600),\n",
    "              highlight_filter_function=lambda r: r.Q > 0,\n",
    "              curved_edges=True)"
   ]
  },
  {
   "cell_type": "markdown",
   "id": "e1829390-5145-43ab-80bd-4d32d104e37a",
   "metadata": {
    "user_expressions": []
   },
   "source": [
    "## Plotting the Jacobian\n",
    "\n",
    "For implicit integration, we solve:\n",
    "\n",
    "$$\\dot{\\bf Y} = {\\bf f}({\\bf Y})$$\n",
    "\n",
    "and the Jacobian, ${\\bf J} = \\partial {\\bf f} / \\partial {\\bf Y}$ plays an important role\n",
    "in solving for the update.\n",
    "\n",
    "We can visualize the Jacobian of our network easily.  By default, we will show all elements\n",
    "where \n",
    "\n",
    "$$\\frac{\\mathrm{max}_{i,j} (|J_{ij}|)}{|J_{ij}|} > 10^{10}$$\n",
    "\n",
    "but this ratio can be set via the `rate_scaling` keyword argument."
   ]
  },
  {
   "cell_type": "code",
   "execution_count": 11,
   "id": "8d3fcc6b-eadc-40a2-b16f-ea41ac71e540",
   "metadata": {
    "execution": {
     "iopub.execute_input": "2024-10-17T09:03:39.448664Z",
     "iopub.status.busy": "2024-10-17T09:03:39.448369Z",
     "iopub.status.idle": "2024-10-17T09:03:39.459921Z",
     "shell.execute_reply": "2024-10-17T09:03:39.459384Z"
    },
    "tags": []
   },
   "outputs": [
    {
     "ename": "NameError",
     "evalue": "name 'rc' is not defined",
     "output_type": "error",
     "traceback": [
      "\u001b[0;31m---------------------------------------------------------------------------\u001b[0m",
      "\u001b[0;31mNameError\u001b[0m                                 Traceback (most recent call last)",
      "Cell \u001b[0;32mIn[11], line 1\u001b[0m\n\u001b[0;32m----> 1\u001b[0m fig \u001b[38;5;241m=\u001b[39m \u001b[43mrc\u001b[49m\u001b[38;5;241m.\u001b[39mplot_jacobian(rho, T, comp, rate_scaling\u001b[38;5;241m=\u001b[39m\u001b[38;5;241m1.e50\u001b[39m)\n",
      "\u001b[0;31mNameError\u001b[0m: name 'rc' is not defined"
     ]
    }
   ],
   "source": [
    "fig = rc.plot_jacobian(rho, T, comp, rate_scaling=1.e50)"
   ]
  },
  {
   "cell_type": "markdown",
   "id": "c487490a-b911-47ec-bd82-49e80a3693d7",
   "metadata": {
    "user_expressions": []
   },
   "source": [
    "## Plot nuclides on a grid"
   ]
  },
  {
   "cell_type": "markdown",
   "id": "d6d85326-acc7-4e84-b60d-66e1affa1053",
   "metadata": {
    "user_expressions": []
   },
   "source": [
    "Nuclides in a network may also be visualized as cells on a grid of Z vs. N, colored by some quantity. This can be more interpretable for large networks. Calling `gridplot` without any arguments will just plot the grid - to see anything interesting we need to supply some conditions. Here is a plot of nuclide mass fraction on a log scale, with a 36 square inch figure:"
   ]
  },
  {
   "cell_type": "code",
   "execution_count": 12,
   "id": "d632d18d-8207-4495-99f0-1dd2762a20f8",
   "metadata": {
    "execution": {
     "iopub.execute_input": "2024-10-17T09:03:39.461650Z",
     "iopub.status.busy": "2024-10-17T09:03:39.461355Z",
     "iopub.status.idle": "2024-10-17T09:03:39.529844Z",
     "shell.execute_reply": "2024-10-17T09:03:39.529218Z"
    }
   },
   "outputs": [
    {
     "ename": "ValueError",
     "evalue": "invalid literal for int() with base 10: ''",
     "output_type": "error",
     "traceback": [
      "\u001b[0;31m---------------------------------------------------------------------------\u001b[0m",
      "\u001b[0;31mValueError\u001b[0m                                Traceback (most recent call last)",
      "Cell \u001b[0;32mIn[12], line 9\u001b[0m\n\u001b[1;32m      1\u001b[0m rate_names \u001b[38;5;241m=\u001b[39m [\u001b[38;5;124m\"\u001b[39m\u001b[38;5;124mc12(p,g)n13\u001b[39m\u001b[38;5;124m\"\u001b[39m, \n\u001b[1;32m      2\u001b[0m               \u001b[38;5;124m\"\u001b[39m\u001b[38;5;124mc13(p,g)n14\u001b[39m\u001b[38;5;124m\"\u001b[39m,\n\u001b[1;32m      3\u001b[0m               \u001b[38;5;124m\"\u001b[39m\u001b[38;5;124mn13(,)c13\u001b[39m\u001b[38;5;124m\"\u001b[39m,\n\u001b[0;32m   (...)\u001b[0m\n\u001b[1;32m      7\u001b[0m               \u001b[38;5;124m\"\u001b[39m\u001b[38;5;124mo14(,)n14\u001b[39m\u001b[38;5;124m\"\u001b[39m,\n\u001b[1;32m      8\u001b[0m               \u001b[38;5;124m\"\u001b[39m\u001b[38;5;124mo15(,)n15\u001b[39m\u001b[38;5;124m\"\u001b[39m]\n\u001b[0;32m----> 9\u001b[0m rates \u001b[38;5;241m=\u001b[39m \u001b[43mlibrary\u001b[49m\u001b[38;5;241;43m.\u001b[39;49m\u001b[43mget_rate_by_name\u001b[49m\u001b[43m(\u001b[49m\u001b[43mrate_names\u001b[49m\u001b[43m)\u001b[49m\n\u001b[1;32m     10\u001b[0m rc \u001b[38;5;241m=\u001b[39m pyna\u001b[38;5;241m.\u001b[39mRateCollection(rates\u001b[38;5;241m=\u001b[39mrates)\n",
      "File \u001b[0;32m/opt/hostedtoolcache/Python/3.11.10/x64/lib/python3.11/site-packages/pynucastro/rates/library.py:203\u001b[0m, in \u001b[0;36mLibrary.get_rate_by_name\u001b[0;34m(self, name)\u001b[0m\n\u001b[1;32m    200\u001b[0m rates_out \u001b[38;5;241m=\u001b[39m []\n\u001b[1;32m    202\u001b[0m \u001b[38;5;28;01mfor\u001b[39;00m rname \u001b[38;5;129;01min\u001b[39;00m rate_name_list:\n\u001b[0;32m--> 203\u001b[0m     reactants, products \u001b[38;5;241m=\u001b[39m \u001b[43m_rate_name_to_nuc\u001b[49m\u001b[43m(\u001b[49m\u001b[43mrname\u001b[49m\u001b[43m)\u001b[49m\n\u001b[1;32m    205\u001b[0m     rf \u001b[38;5;241m=\u001b[39m RateFilter(reactants\u001b[38;5;241m=\u001b[39mreactants, products\u001b[38;5;241m=\u001b[39mproducts)\n\u001b[1;32m    206\u001b[0m     _lib \u001b[38;5;241m=\u001b[39m \u001b[38;5;28mself\u001b[39m\u001b[38;5;241m.\u001b[39mfilter(rf)\n",
      "File \u001b[0;32m/opt/hostedtoolcache/Python/3.11.10/x64/lib/python3.11/site-packages/pynucastro/rates/library.py:87\u001b[0m, in \u001b[0;36m_rate_name_to_nuc\u001b[0;34m(name)\u001b[0m\n\u001b[1;32m     85\u001b[0m         \u001b[38;5;28mprint\u001b[39m(\u001b[38;5;124mf\u001b[39m\u001b[38;5;124m\"\u001b[39m\u001b[38;5;124mcouldn\u001b[39m\u001b[38;5;124m'\u001b[39m\u001b[38;5;124mt deal with \u001b[39m\u001b[38;5;132;01m{\u001b[39;00mnuc\u001b[38;5;132;01m}\u001b[39;00m\u001b[38;5;124m\"\u001b[39m)\n\u001b[1;32m     86\u001b[0m         \u001b[38;5;28;01mraise\u001b[39;00m\n\u001b[0;32m---> 87\u001b[0m products \u001b[38;5;241m=\u001b[39m \u001b[43mNucleus\u001b[49m\u001b[38;5;241;43m.\u001b[39;49m\u001b[43mcast_list\u001b[49m\u001b[43m(\u001b[49m\u001b[43mproducts\u001b[49m\u001b[43m)\u001b[49m\n\u001b[1;32m     89\u001b[0m \u001b[38;5;28;01mreturn\u001b[39;00m reactants, products\n",
      "File \u001b[0;32m/opt/hostedtoolcache/Python/3.11.10/x64/lib/python3.11/site-packages/pynucastro/nucdata/nucleus.py:211\u001b[0m, in \u001b[0;36mNucleus.cast_list\u001b[0;34m(cls, lst, allow_None, allow_single)\u001b[0m\n\u001b[1;32m    209\u001b[0m         \u001b[38;5;28;01mreturn\u001b[39;00m [\u001b[38;5;28mcls\u001b[39m\u001b[38;5;241m.\u001b[39mcast(lst)]\n\u001b[1;32m    210\u001b[0m     \u001b[38;5;28;01mraise\u001b[39;00m \u001b[38;5;167;01mValueError\u001b[39;00m(\u001b[38;5;124m\"\u001b[39m\u001b[38;5;124mSingle object passed to Nucleus.cast_list() instead of list\u001b[39m\u001b[38;5;124m\"\u001b[39m)\n\u001b[0;32m--> 211\u001b[0m \u001b[38;5;28;01mreturn\u001b[39;00m \u001b[43m[\u001b[49m\u001b[38;5;28;43mcls\u001b[39;49m\u001b[38;5;241;43m.\u001b[39;49m\u001b[43mcast\u001b[49m\u001b[43m(\u001b[49m\u001b[43mobj\u001b[49m\u001b[43m)\u001b[49m\u001b[43m \u001b[49m\u001b[38;5;28;43;01mfor\u001b[39;49;00m\u001b[43m \u001b[49m\u001b[43mobj\u001b[49m\u001b[43m \u001b[49m\u001b[38;5;129;43;01min\u001b[39;49;00m\u001b[43m \u001b[49m\u001b[43mlst\u001b[49m\u001b[43m]\u001b[49m\n",
      "File \u001b[0;32m/opt/hostedtoolcache/Python/3.11.10/x64/lib/python3.11/site-packages/pynucastro/nucdata/nucleus.py:211\u001b[0m, in \u001b[0;36m<listcomp>\u001b[0;34m(.0)\u001b[0m\n\u001b[1;32m    209\u001b[0m         \u001b[38;5;28;01mreturn\u001b[39;00m [\u001b[38;5;28mcls\u001b[39m\u001b[38;5;241m.\u001b[39mcast(lst)]\n\u001b[1;32m    210\u001b[0m     \u001b[38;5;28;01mraise\u001b[39;00m \u001b[38;5;167;01mValueError\u001b[39;00m(\u001b[38;5;124m\"\u001b[39m\u001b[38;5;124mSingle object passed to Nucleus.cast_list() instead of list\u001b[39m\u001b[38;5;124m\"\u001b[39m)\n\u001b[0;32m--> 211\u001b[0m \u001b[38;5;28;01mreturn\u001b[39;00m [\u001b[38;5;28;43mcls\u001b[39;49m\u001b[38;5;241;43m.\u001b[39;49m\u001b[43mcast\u001b[49m\u001b[43m(\u001b[49m\u001b[43mobj\u001b[49m\u001b[43m)\u001b[49m \u001b[38;5;28;01mfor\u001b[39;00m obj \u001b[38;5;129;01min\u001b[39;00m lst]\n",
      "File \u001b[0;32m/opt/hostedtoolcache/Python/3.11.10/x64/lib/python3.11/site-packages/pynucastro/nucdata/nucleus.py:198\u001b[0m, in \u001b[0;36mNucleus.cast\u001b[0;34m(cls, obj)\u001b[0m\n\u001b[1;32m    196\u001b[0m     \u001b[38;5;28;01mreturn\u001b[39;00m obj\n\u001b[1;32m    197\u001b[0m \u001b[38;5;28;01mif\u001b[39;00m \u001b[38;5;28misinstance\u001b[39m(obj, \u001b[38;5;28mstr\u001b[39m):\n\u001b[0;32m--> 198\u001b[0m     \u001b[38;5;28;01mreturn\u001b[39;00m \u001b[38;5;28;43mcls\u001b[39;49m\u001b[38;5;241;43m.\u001b[39;49m\u001b[43mfrom_cache\u001b[49m\u001b[43m(\u001b[49m\u001b[43mobj\u001b[49m\u001b[43m)\u001b[49m\n\u001b[1;32m    199\u001b[0m \u001b[38;5;28;01mraise\u001b[39;00m \u001b[38;5;167;01mTypeError\u001b[39;00m(\u001b[38;5;124m\"\u001b[39m\u001b[38;5;124mInvalid type passed to Nucleus.cast() (expected str or Nucleus)\u001b[39m\u001b[38;5;124m\"\u001b[39m)\n",
      "File \u001b[0;32m/opt/hostedtoolcache/Python/3.11.10/x64/lib/python3.11/site-packages/pynucastro/nucdata/nucleus.py:161\u001b[0m, in \u001b[0;36mNucleus.from_cache\u001b[0;34m(cls, name, dummy)\u001b[0m\n\u001b[1;32m    159\u001b[0m key \u001b[38;5;241m=\u001b[39m (name\u001b[38;5;241m.\u001b[39mlower(), dummy)\n\u001b[1;32m    160\u001b[0m \u001b[38;5;28;01mif\u001b[39;00m key \u001b[38;5;129;01mnot\u001b[39;00m \u001b[38;5;129;01min\u001b[39;00m \u001b[38;5;28mcls\u001b[39m\u001b[38;5;241m.\u001b[39m_cache:\n\u001b[0;32m--> 161\u001b[0m     \u001b[38;5;28mcls\u001b[39m\u001b[38;5;241m.\u001b[39m_cache[key] \u001b[38;5;241m=\u001b[39m \u001b[43mNucleus\u001b[49m\u001b[43m(\u001b[49m\u001b[43mname\u001b[49m\u001b[43m,\u001b[49m\u001b[43m \u001b[49m\u001b[43mdummy\u001b[49m\u001b[43m)\u001b[49m\n\u001b[1;32m    162\u001b[0m \u001b[38;5;28;01mreturn\u001b[39;00m \u001b[38;5;28mcls\u001b[39m\u001b[38;5;241m.\u001b[39m_cache[key]\n",
      "File \u001b[0;32m/opt/hostedtoolcache/Python/3.11.10/x64/lib/python3.11/site-packages/pynucastro/nucdata/nucleus.py:100\u001b[0m, in \u001b[0;36mNucleus.__init__\u001b[0;34m(self, name, dummy)\u001b[0m\n\u001b[1;32m     98\u001b[0m \u001b[38;5;28mself\u001b[39m\u001b[38;5;241m.\u001b[39mel \u001b[38;5;241m=\u001b[39m e\u001b[38;5;241m.\u001b[39mgroup(\u001b[38;5;241m1\u001b[39m)\u001b[38;5;241m.\u001b[39mtitle()  \u001b[38;5;66;03m# chemical symbol\u001b[39;00m\n\u001b[1;32m     99\u001b[0m \u001b[38;5;28;01massert\u001b[39;00m \u001b[38;5;28mself\u001b[39m\u001b[38;5;241m.\u001b[39mel\n\u001b[0;32m--> 100\u001b[0m \u001b[38;5;28mself\u001b[39m\u001b[38;5;241m.\u001b[39mA \u001b[38;5;241m=\u001b[39m \u001b[38;5;28;43mint\u001b[39;49m\u001b[43m(\u001b[49m\u001b[43me\u001b[49m\u001b[38;5;241;43m.\u001b[39;49m\u001b[43mgroup\u001b[49m\u001b[43m(\u001b[49m\u001b[38;5;241;43m2\u001b[39;49m\u001b[43m)\u001b[49m\u001b[43m)\u001b[49m\n\u001b[1;32m    101\u001b[0m \u001b[38;5;28;01massert\u001b[39;00m \u001b[38;5;28mself\u001b[39m\u001b[38;5;241m.\u001b[39mA \u001b[38;5;241m>\u001b[39m\u001b[38;5;241m=\u001b[39m \u001b[38;5;241m0\u001b[39m\n\u001b[1;32m    102\u001b[0m \u001b[38;5;28mself\u001b[39m\u001b[38;5;241m.\u001b[39mshort_spec_name \u001b[38;5;241m=\u001b[39m name\n",
      "\u001b[0;31mValueError\u001b[0m: invalid literal for int() with base 10: ''"
     ]
    }
   ],
   "source": [
    "rate_names = [\"c12(p,g)n13\", \n",
    "              \"c13(p,g)n14\",\n",
    "              \"n13(,)c13\",\n",
    "              \"n13(p,g)o14\",\n",
    "              \"n14(p,g)o15\",\n",
    "              \"n15(p,a)c12\",\n",
    "              \"o14(,)n14\",\n",
    "              \"o15(,)n15\"]\n",
    "rates = library.get_rate_by_name(rate_names)\n",
    "rc = pyna.RateCollection(rates=rates)"
   ]
  },
  {
   "cell_type": "code",
   "execution_count": 13,
   "id": "a73417f8-5c09-4ef0-ab83-430c8369b9e3",
   "metadata": {
    "execution": {
     "iopub.execute_input": "2024-10-17T09:03:39.531764Z",
     "iopub.status.busy": "2024-10-17T09:03:39.531438Z",
     "iopub.status.idle": "2024-10-17T09:03:39.543841Z",
     "shell.execute_reply": "2024-10-17T09:03:39.543289Z"
    }
   },
   "outputs": [
    {
     "ename": "NameError",
     "evalue": "name 'rc' is not defined",
     "output_type": "error",
     "traceback": [
      "\u001b[0;31m---------------------------------------------------------------------------\u001b[0m",
      "\u001b[0;31mNameError\u001b[0m                                 Traceback (most recent call last)",
      "Cell \u001b[0;32mIn[13], line 3\u001b[0m\n\u001b[1;32m      1\u001b[0m rho \u001b[38;5;241m=\u001b[39m \u001b[38;5;241m1.e4\u001b[39m\n\u001b[1;32m      2\u001b[0m T \u001b[38;5;241m=\u001b[39m \u001b[38;5;241m1.e8\u001b[39m\n\u001b[0;32m----> 3\u001b[0m comp \u001b[38;5;241m=\u001b[39m pyna\u001b[38;5;241m.\u001b[39mComposition(\u001b[43mrc\u001b[49m\u001b[38;5;241m.\u001b[39mget_nuclei())\n\u001b[1;32m      4\u001b[0m comp\u001b[38;5;241m.\u001b[39mset_solar_like()\n",
      "\u001b[0;31mNameError\u001b[0m: name 'rc' is not defined"
     ]
    }
   ],
   "source": [
    "rho = 1.e4\n",
    "T = 1.e8\n",
    "comp = pyna.Composition(rc.get_nuclei())\n",
    "comp.set_solar_like()"
   ]
  },
  {
   "cell_type": "code",
   "execution_count": 14,
   "id": "03d354ee-2aae-40db-9a14-e4ea581fa50b",
   "metadata": {
    "execution": {
     "iopub.execute_input": "2024-10-17T09:03:39.545715Z",
     "iopub.status.busy": "2024-10-17T09:03:39.545270Z",
     "iopub.status.idle": "2024-10-17T09:03:39.556655Z",
     "shell.execute_reply": "2024-10-17T09:03:39.556215Z"
    }
   },
   "outputs": [
    {
     "ename": "NameError",
     "evalue": "name 'rc' is not defined",
     "output_type": "error",
     "traceback": [
      "\u001b[0;31m---------------------------------------------------------------------------\u001b[0m",
      "\u001b[0;31mNameError\u001b[0m                                 Traceback (most recent call last)",
      "Cell \u001b[0;32mIn[14], line 1\u001b[0m\n\u001b[0;32m----> 1\u001b[0m fig \u001b[38;5;241m=\u001b[39m \u001b[43mrc\u001b[49m\u001b[38;5;241m.\u001b[39mgridplot(comp\u001b[38;5;241m=\u001b[39mcomp, color_field\u001b[38;5;241m=\u001b[39m\u001b[38;5;124m\"\u001b[39m\u001b[38;5;124mX\u001b[39m\u001b[38;5;124m\"\u001b[39m, scale\u001b[38;5;241m=\u001b[39m\u001b[38;5;124m\"\u001b[39m\u001b[38;5;124mlog\u001b[39m\u001b[38;5;124m\"\u001b[39m, area\u001b[38;5;241m=\u001b[39m\u001b[38;5;241m36\u001b[39m)\n",
      "\u001b[0;31mNameError\u001b[0m: name 'rc' is not defined"
     ]
    }
   ],
   "source": [
    "fig = rc.gridplot(comp=comp, color_field=\"X\", scale=\"log\", area=36)"
   ]
  },
  {
   "cell_type": "markdown",
   "id": "b2bdc499-a215-422c-9fa3-27ac44e02388",
   "metadata": {
    "user_expressions": []
   },
   "source": [
    "The plot is configurable through a large number of keyword arguments. Here we want to look at the rates at which nuclides are being created or destroyed, so we color by $\\dot{Y}$, the rate of change of molar abundance. Density and temperature need to be supplied to evaluate the rates. A full list of valid keyword arguments can be found in the API documentation."
   ]
  },
  {
   "cell_type": "code",
   "execution_count": 15,
   "id": "eec97024-239e-4c69-b054-930908c85110",
   "metadata": {
    "execution": {
     "iopub.execute_input": "2024-10-17T09:03:39.558508Z",
     "iopub.status.busy": "2024-10-17T09:03:39.558092Z",
     "iopub.status.idle": "2024-10-17T09:03:39.570138Z",
     "shell.execute_reply": "2024-10-17T09:03:39.569703Z"
    }
   },
   "outputs": [
    {
     "ename": "NameError",
     "evalue": "name 'rc' is not defined",
     "output_type": "error",
     "traceback": [
      "\u001b[0;31m---------------------------------------------------------------------------\u001b[0m",
      "\u001b[0;31mNameError\u001b[0m                                 Traceback (most recent call last)",
      "Cell \u001b[0;32mIn[15], line 1\u001b[0m\n\u001b[0;32m----> 1\u001b[0m fig \u001b[38;5;241m=\u001b[39m \u001b[43mrc\u001b[49m\u001b[38;5;241m.\u001b[39mgridplot(comp\u001b[38;5;241m=\u001b[39mcomp, rho\u001b[38;5;241m=\u001b[39mrho, T\u001b[38;5;241m=\u001b[39mT, color_field\u001b[38;5;241m=\u001b[39m\u001b[38;5;124m\"\u001b[39m\u001b[38;5;124mydot\u001b[39m\u001b[38;5;124m\"\u001b[39m, area\u001b[38;5;241m=\u001b[39m\u001b[38;5;241m36\u001b[39m,\n\u001b[1;32m      2\u001b[0m                   cmap\u001b[38;5;241m=\u001b[39m\u001b[38;5;124m\"\u001b[39m\u001b[38;5;124mRdGy\u001b[39m\u001b[38;5;124m\"\u001b[39m, cbar_bounds\u001b[38;5;241m=\u001b[39m(\u001b[38;5;241m-\u001b[39m\u001b[38;5;241m0.1\u001b[39m, \u001b[38;5;241m0.1\u001b[39m))\n",
      "\u001b[0;31mNameError\u001b[0m: name 'rc' is not defined"
     ]
    }
   ],
   "source": [
    "fig = rc.gridplot(comp=comp, rho=rho, T=T, color_field=\"ydot\", area=36,\n",
    "                  cmap=\"RdGy\", cbar_bounds=(-0.1, 0.1))"
   ]
  },
  {
   "cell_type": "markdown",
   "id": "125c0e4d-20f4-4aaf-9e4a-47f35dc51de9",
   "metadata": {
    "user_expressions": []
   },
   "source": [
    "Unlike the network plot, this won't omit hydrogen and helium by default. To just look at the heavier nuclides, we can define a function to filter by proton number.  Here we also plot\n",
    "*activity*, which is the sum of all rates contributions to Ydot ignoring the sign."
   ]
  },
  {
   "cell_type": "code",
   "execution_count": 16,
   "id": "1a11be5f-2e88-47e4-9408-2587e8920b9f",
   "metadata": {
    "execution": {
     "iopub.execute_input": "2024-10-17T09:03:39.571857Z",
     "iopub.status.busy": "2024-10-17T09:03:39.571542Z",
     "iopub.status.idle": "2024-10-17T09:03:39.584696Z",
     "shell.execute_reply": "2024-10-17T09:03:39.584157Z"
    },
    "tags": []
   },
   "outputs": [
    {
     "ename": "NameError",
     "evalue": "name 'rc' is not defined",
     "output_type": "error",
     "traceback": [
      "\u001b[0;31m---------------------------------------------------------------------------\u001b[0m",
      "\u001b[0;31mNameError\u001b[0m                                 Traceback (most recent call last)",
      "Cell \u001b[0;32mIn[16], line 2\u001b[0m\n\u001b[1;32m      1\u001b[0m ff \u001b[38;5;241m=\u001b[39m \u001b[38;5;28;01mlambda\u001b[39;00m nuc: nuc\u001b[38;5;241m.\u001b[39mZ \u001b[38;5;241m>\u001b[39m \u001b[38;5;241m2\u001b[39m\n\u001b[0;32m----> 2\u001b[0m fig \u001b[38;5;241m=\u001b[39m \u001b[43mrc\u001b[49m\u001b[38;5;241m.\u001b[39mgridplot(comp\u001b[38;5;241m=\u001b[39mcomp, rho\u001b[38;5;241m=\u001b[39mrho, T\u001b[38;5;241m=\u001b[39mT, color_field\u001b[38;5;241m=\u001b[39m\u001b[38;5;124m\"\u001b[39m\u001b[38;5;124mactivity\u001b[39m\u001b[38;5;124m\"\u001b[39m, scale\u001b[38;5;241m=\u001b[39m\u001b[38;5;124m\"\u001b[39m\u001b[38;5;124mlog\u001b[39m\u001b[38;5;124m\"\u001b[39m,\n\u001b[1;32m      3\u001b[0m                   filter_function\u001b[38;5;241m=\u001b[39mff, area\u001b[38;5;241m=\u001b[39m\u001b[38;5;241m20\u001b[39m, cmap\u001b[38;5;241m=\u001b[39m\u001b[38;5;124m\"\u001b[39m\u001b[38;5;124mBlues\u001b[39m\u001b[38;5;124m\"\u001b[39m)\n",
      "\u001b[0;31mNameError\u001b[0m: name 'rc' is not defined"
     ]
    }
   ],
   "source": [
    "ff = lambda nuc: nuc.Z > 2\n",
    "fig = rc.gridplot(comp=comp, rho=rho, T=T, color_field=\"activity\", scale=\"log\",\n",
    "                  filter_function=ff, area=20, cmap=\"Blues\")"
   ]
  },
  {
   "cell_type": "markdown",
   "id": "c04f0893-b4ed-4eca-8c81-20cc2d037e95",
   "metadata": {
    "user_expressions": []
   },
   "source": [
    "## Network Chart"
   ]
  },
  {
   "cell_type": "markdown",
   "id": "3dd81fb3-35a4-4967-b800-ac59d13f5752",
   "metadata": {
    "user_expressions": []
   },
   "source": [
    "A network chart shows how each rate affects each nucleus"
   ]
  },
  {
   "cell_type": "code",
   "execution_count": 17,
   "id": "eeaac82d-28c1-436d-86e2-bcafe5f5e5fb",
   "metadata": {
    "execution": {
     "iopub.execute_input": "2024-10-17T09:03:39.586648Z",
     "iopub.status.busy": "2024-10-17T09:03:39.586212Z",
     "iopub.status.idle": "2024-10-17T09:03:39.597596Z",
     "shell.execute_reply": "2024-10-17T09:03:39.597034Z"
    },
    "tags": []
   },
   "outputs": [
    {
     "ename": "NameError",
     "evalue": "name 'rc' is not defined",
     "output_type": "error",
     "traceback": [
      "\u001b[0;31m---------------------------------------------------------------------------\u001b[0m",
      "\u001b[0;31mNameError\u001b[0m                                 Traceback (most recent call last)",
      "Cell \u001b[0;32mIn[17], line 1\u001b[0m\n\u001b[0;32m----> 1\u001b[0m fig \u001b[38;5;241m=\u001b[39m \u001b[43mrc\u001b[49m\u001b[38;5;241m.\u001b[39mplot_network_chart(rho, T, comp)\n",
      "\u001b[0;31mNameError\u001b[0m: name 'rc' is not defined"
     ]
    }
   ],
   "source": [
    "fig = rc.plot_network_chart(rho, T, comp)"
   ]
  }
 ],
 "metadata": {
  "kernelspec": {
   "display_name": "Python 3 (ipykernel)",
   "language": "python",
   "name": "python3"
  },
  "language_info": {
   "codemirror_mode": {
    "name": "ipython",
    "version": 3
   },
   "file_extension": ".py",
   "mimetype": "text/x-python",
   "name": "python",
   "nbconvert_exporter": "python",
   "pygments_lexer": "ipython3",
   "version": "3.11.10"
  }
 },
 "nbformat": 4,
 "nbformat_minor": 5
}
