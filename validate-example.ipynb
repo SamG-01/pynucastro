{
 "cells": [
  {
   "cell_type": "markdown",
   "id": "0784b0fc-cf3a-4f75-b22f-e96d7e469d1a",
   "metadata": {
    "user_expressions": []
   },
   "source": [
    "# Checking your network"
   ]
  },
  {
   "cell_type": "markdown",
   "id": "9ef5a720-b022-4347-936e-e503395a7db7",
   "metadata": {
    "user_expressions": []
   },
   "source": [
    "Selecting which rates to include and which to exclude from your network is a bit of an art.  pynucastro has a few tools to help check what you might be missing."
   ]
  },
  {
   "cell_type": "code",
   "execution_count": 1,
   "id": "40841ac9-5cf2-4d12-9df9-2cd460852ca2",
   "metadata": {
    "execution": {
     "iopub.execute_input": "2024-10-17T07:54:46.832895Z",
     "iopub.status.busy": "2024-10-17T07:54:46.832371Z",
     "iopub.status.idle": "2024-10-17T07:54:48.290890Z",
     "shell.execute_reply": "2024-10-17T07:54:48.290323Z"
    },
    "tags": []
   },
   "outputs": [],
   "source": [
    "import pynucastro as pyna"
   ]
  },
  {
   "cell_type": "code",
   "execution_count": 2,
   "id": "94d36083-9d99-457f-9103-3a45e046d613",
   "metadata": {
    "execution": {
     "iopub.execute_input": "2024-10-17T07:54:48.293152Z",
     "iopub.status.busy": "2024-10-17T07:54:48.292667Z",
     "iopub.status.idle": "2024-10-17T07:54:52.224539Z",
     "shell.execute_reply": "2024-10-17T07:54:52.223992Z"
    },
    "tags": []
   },
   "outputs": [],
   "source": [
    "reaclib_library = pyna.ReacLibLibrary()"
   ]
  },
  {
   "cell_type": "markdown",
   "id": "bc58b81e-bf45-430e-9215-363d0a96e8cd",
   "metadata": {
    "user_expressions": []
   },
   "source": [
    "## `RateCollection` validate method\n",
    "\n",
    "Let's start by trying to create a network for carbon burning."
   ]
  },
  {
   "cell_type": "markdown",
   "id": "da391bca-c38c-437a-a419-88f26f7b7ac0",
   "metadata": {
    "user_expressions": []
   },
   "source": [
    "To start, let's pick the nuclei $\\alpha$, ${}^{12}\\mathrm{C}$ and ${}^{20}\\mathrm{Ne}$"
   ]
  },
  {
   "cell_type": "code",
   "execution_count": 3,
   "id": "a3350cc9-924b-4d59-ab60-9582e38c337b",
   "metadata": {
    "execution": {
     "iopub.execute_input": "2024-10-17T07:54:52.226564Z",
     "iopub.status.busy": "2024-10-17T07:54:52.226217Z",
     "iopub.status.idle": "2024-10-17T07:54:52.790832Z",
     "shell.execute_reply": "2024-10-17T07:54:52.790164Z"
    },
    "tags": []
   },
   "outputs": [
    {
     "ename": "AttributeError",
     "evalue": "'NoneType' object has no attribute 'values'",
     "output_type": "error",
     "traceback": [
      "\u001b[0;31m---------------------------------------------------------------------------\u001b[0m",
      "\u001b[0;31mAttributeError\u001b[0m                            Traceback (most recent call last)",
      "Cell \u001b[0;32mIn[3], line 2\u001b[0m\n\u001b[1;32m      1\u001b[0m nuclei \u001b[38;5;241m=\u001b[39m [\u001b[38;5;124m\"\u001b[39m\u001b[38;5;124mhe4\u001b[39m\u001b[38;5;124m\"\u001b[39m, \u001b[38;5;124m\"\u001b[39m\u001b[38;5;124mc12\u001b[39m\u001b[38;5;124m\"\u001b[39m, \u001b[38;5;124m\"\u001b[39m\u001b[38;5;124mne20\u001b[39m\u001b[38;5;124m\"\u001b[39m]\n\u001b[0;32m----> 2\u001b[0m cburn_library \u001b[38;5;241m=\u001b[39m \u001b[43mreaclib_library\u001b[49m\u001b[38;5;241;43m.\u001b[39;49m\u001b[43mlinking_nuclei\u001b[49m\u001b[43m(\u001b[49m\u001b[43mnuclei\u001b[49m\u001b[43m)\u001b[49m\n",
      "File \u001b[0;32m/opt/hostedtoolcache/Python/3.11.10/x64/lib/python3.11/site-packages/pynucastro/rates/library.py:442\u001b[0m, in \u001b[0;36mLibrary.linking_nuclei\u001b[0;34m(self, nuclist, with_reverse, print_warning)\u001b[0m\n\u001b[1;32m    439\u001b[0m         filtered_rates\u001b[38;5;241m.\u001b[39mappend(r)\n\u001b[1;32m    441\u001b[0m \u001b[38;5;66;03m# create a new library containing the filtered rates\u001b[39;00m\n\u001b[0;32m--> 442\u001b[0m new_lib \u001b[38;5;241m=\u001b[39m \u001b[43mLibrary\u001b[49m\u001b[43m(\u001b[49m\u001b[43mrates\u001b[49m\u001b[38;5;241;43m=\u001b[39;49m\u001b[43mfiltered_rates\u001b[49m\u001b[43m)\u001b[49m\n\u001b[1;32m    444\u001b[0m \u001b[38;5;66;03m# print out a warning if one of the input nuclei is not linked\u001b[39;00m\n\u001b[1;32m    445\u001b[0m \u001b[38;5;28;01mif\u001b[39;00m print_warning:\n",
      "File \u001b[0;32m/opt/hostedtoolcache/Python/3.11.10/x64/lib/python3.11/site-packages/pynucastro/rates/library.py:130\u001b[0m, in \u001b[0;36mLibrary.__init__\u001b[0;34m(self, libfile, rates)\u001b[0m\n\u001b[1;32m    128\u001b[0m     \u001b[38;5;28mself\u001b[39m\u001b[38;5;241m.\u001b[39m_rates \u001b[38;5;241m=\u001b[39m rates\n\u001b[1;32m    129\u001b[0m \u001b[38;5;28;01melif\u001b[39;00m \u001b[38;5;28misinstance\u001b[39m(rates, (\u001b[38;5;28mlist\u001b[39m, \u001b[38;5;28mset\u001b[39m)):\n\u001b[0;32m--> 130\u001b[0m     \u001b[38;5;28;43mself\u001b[39;49m\u001b[38;5;241;43m.\u001b[39;49m\u001b[43madd_rates\u001b[49m\u001b[43m(\u001b[49m\u001b[43mrates\u001b[49m\u001b[43m)\u001b[49m\n\u001b[1;32m    131\u001b[0m \u001b[38;5;28;01melse\u001b[39;00m:\n\u001b[1;32m    132\u001b[0m     \u001b[38;5;28;01mraise\u001b[39;00m \u001b[38;5;167;01mTypeError\u001b[39;00m(\u001b[38;5;124m\"\u001b[39m\u001b[38;5;124mrates in Library constructor must be a Rate object, list of Rate objects, or dictionary of Rate objects keyed by Rate.get_rate_id()\u001b[39m\u001b[38;5;124m\"\u001b[39m)\n",
      "File \u001b[0;32m/opt/hostedtoolcache/Python/3.11.10/x64/lib/python3.11/site-packages/pynucastro/rates/library.py:180\u001b[0m, in \u001b[0;36mLibrary.add_rates\u001b[0;34m(self, ratelist)\u001b[0m\n\u001b[1;32m    178\u001b[0m \u001b[38;5;250m\u001b[39m\u001b[38;5;124;03m\"\"\" Add to the rate dictionary from the supplied list of Rate objects.\"\"\"\u001b[39;00m\n\u001b[1;32m    179\u001b[0m \u001b[38;5;28;01mfor\u001b[39;00m rate \u001b[38;5;129;01min\u001b[39;00m ratelist:\n\u001b[0;32m--> 180\u001b[0m     \u001b[38;5;28;01mif\u001b[39;00m rate \u001b[38;5;129;01min\u001b[39;00m \u001b[38;5;28;43mself\u001b[39;49m\u001b[38;5;241;43m.\u001b[39;49m\u001b[43mrates\u001b[49m:\n\u001b[1;32m    181\u001b[0m         rid \u001b[38;5;241m=\u001b[39m rate\u001b[38;5;241m.\u001b[39mid\n\u001b[1;32m    182\u001b[0m         \u001b[38;5;28;01mraise\u001b[39;00m \u001b[38;5;167;01mValueError\u001b[39;00m(\u001b[38;5;124mf\u001b[39m\u001b[38;5;124m\"\u001b[39m\u001b[38;5;124msupplied a Rate object already in the Library: \u001b[39m\u001b[38;5;132;01m{\u001b[39;00mrid\u001b[38;5;132;01m}\u001b[39;00m\u001b[38;5;124m\"\u001b[39m)\n",
      "File \u001b[0;32m/opt/hostedtoolcache/Python/3.11.10/x64/lib/python3.11/site-packages/pynucastro/rates/library.py:143\u001b[0m, in \u001b[0;36mLibrary.get_rates\u001b[0;34m(self)\u001b[0m\n\u001b[1;32m    141\u001b[0m \u001b[38;5;28;01mdef\u001b[39;00m \u001b[38;5;21mget_rates\u001b[39m(\u001b[38;5;28mself\u001b[39m) \u001b[38;5;241m-\u001b[39m\u001b[38;5;241m>\u001b[39m \u001b[38;5;28mlist\u001b[39m[Rate]:\n\u001b[1;32m    142\u001b[0m \u001b[38;5;250m    \u001b[39m\u001b[38;5;124;03m\"\"\" Return a list of the rates in this library.\"\"\"\u001b[39;00m\n\u001b[0;32m--> 143\u001b[0m     \u001b[38;5;28;01mreturn\u001b[39;00m \u001b[38;5;28mlist\u001b[39m(\u001b[38;5;28;43mself\u001b[39;49m\u001b[38;5;241;43m.\u001b[39;49m\u001b[43m_rates\u001b[49m\u001b[38;5;241;43m.\u001b[39;49m\u001b[43mvalues\u001b[49m())\n",
      "\u001b[0;31mAttributeError\u001b[0m: 'NoneType' object has no attribute 'values'"
     ]
    }
   ],
   "source": [
    "nuclei = [\"he4\", \"c12\", \"ne20\"]\n",
    "cburn_library = reaclib_library.linking_nuclei(nuclei)"
   ]
  },
  {
   "cell_type": "markdown",
   "id": "c7be0af2-4e3d-43e5-b7b7-686435587af7",
   "metadata": {
    "user_expressions": []
   },
   "source": [
    "Now we can make a rate collection"
   ]
  },
  {
   "cell_type": "code",
   "execution_count": 4,
   "id": "a1364f20-9017-47c0-800b-478d0c148f09",
   "metadata": {
    "execution": {
     "iopub.execute_input": "2024-10-17T07:54:52.792994Z",
     "iopub.status.busy": "2024-10-17T07:54:52.792566Z",
     "iopub.status.idle": "2024-10-17T07:54:52.805705Z",
     "shell.execute_reply": "2024-10-17T07:54:52.805243Z"
    },
    "tags": []
   },
   "outputs": [
    {
     "ename": "NameError",
     "evalue": "name 'cburn_library' is not defined",
     "output_type": "error",
     "traceback": [
      "\u001b[0;31m---------------------------------------------------------------------------\u001b[0m",
      "\u001b[0;31mNameError\u001b[0m                                 Traceback (most recent call last)",
      "Cell \u001b[0;32mIn[4], line 1\u001b[0m\n\u001b[0;32m----> 1\u001b[0m rc \u001b[38;5;241m=\u001b[39m pyna\u001b[38;5;241m.\u001b[39mRateCollection(libraries\u001b[38;5;241m=\u001b[39m[\u001b[43mcburn_library\u001b[49m])\n\u001b[1;32m      2\u001b[0m rc\n",
      "\u001b[0;31mNameError\u001b[0m: name 'cburn_library' is not defined"
     ]
    }
   ],
   "source": [
    "rc = pyna.RateCollection(libraries=[cburn_library])\n",
    "rc"
   ]
  },
  {
   "cell_type": "markdown",
   "id": "53c36d63-b39b-4a5b-ae2a-750b00e83668",
   "metadata": {
    "user_expressions": []
   },
   "source": [
    "Now, since we are primarily interested in ${}^{12}\\mathrm{C} + {}^{12}\\mathrm{C}$, let's make sure we are not missing any other reactions that have the same reactants.  The `validate()` method will do this, by comparing the rates we have selected to another library."
   ]
  },
  {
   "cell_type": "code",
   "execution_count": 5,
   "id": "d85f0c38-5eec-43b1-900a-c6077182e9fe",
   "metadata": {
    "execution": {
     "iopub.execute_input": "2024-10-17T07:54:52.807559Z",
     "iopub.status.busy": "2024-10-17T07:54:52.807161Z",
     "iopub.status.idle": "2024-10-17T07:54:52.819452Z",
     "shell.execute_reply": "2024-10-17T07:54:52.818991Z"
    },
    "tags": []
   },
   "outputs": [
    {
     "ename": "NameError",
     "evalue": "name 'rc' is not defined",
     "output_type": "error",
     "traceback": [
      "\u001b[0;31m---------------------------------------------------------------------------\u001b[0m",
      "\u001b[0;31mNameError\u001b[0m                                 Traceback (most recent call last)",
      "Cell \u001b[0;32mIn[5], line 1\u001b[0m\n\u001b[0;32m----> 1\u001b[0m \u001b[43mrc\u001b[49m\u001b[38;5;241m.\u001b[39mvalidate(reaclib_library)\n",
      "\u001b[0;31mNameError\u001b[0m: name 'rc' is not defined"
     ]
    }
   ],
   "source": [
    "rc.validate(reaclib_library)"
   ]
  },
  {
   "cell_type": "markdown",
   "id": "c01017db-c393-4db8-b711-aaea1a1b4cbb",
   "metadata": {
    "user_expressions": []
   },
   "source": [
    "This tells us that we are missing 2 branches of the ${}^{12}\\mathrm{C} + {}^{12}\\mathrm{C}$ reaction.  ReacLib already scales the rates based on the branching of the products, so we should try to include these other branches.\n",
    "\n",
    "Note: by default, `validate()` only checks forward rates."
   ]
  },
  {
   "cell_type": "markdown",
   "id": "2bb5947c-e12e-49fe-b4d9-d64db3d1b11b",
   "metadata": {
    "user_expressions": []
   },
   "source": [
    "To address these issues, we need to include the additional nuclei.  In particular, the branch that makes ${}^{23}\\mathrm{Na}$ is likely important (the rate making ${}^{23}\\mathrm{Mg}$ is endothermic, so less likely)."
   ]
  },
  {
   "cell_type": "code",
   "execution_count": 6,
   "id": "567a885a-783e-4be3-bd1e-56728956ffc8",
   "metadata": {
    "execution": {
     "iopub.execute_input": "2024-10-17T07:54:52.821441Z",
     "iopub.status.busy": "2024-10-17T07:54:52.820985Z",
     "iopub.status.idle": "2024-10-17T07:54:52.923479Z",
     "shell.execute_reply": "2024-10-17T07:54:52.922983Z"
    },
    "tags": []
   },
   "outputs": [
    {
     "ename": "AttributeError",
     "evalue": "'NoneType' object has no attribute 'values'",
     "output_type": "error",
     "traceback": [
      "\u001b[0;31m---------------------------------------------------------------------------\u001b[0m",
      "\u001b[0;31mAttributeError\u001b[0m                            Traceback (most recent call last)",
      "Cell \u001b[0;32mIn[6], line 2\u001b[0m\n\u001b[1;32m      1\u001b[0m nuclei \u001b[38;5;241m+\u001b[39m\u001b[38;5;241m=\u001b[39m [\u001b[38;5;124m\"\u001b[39m\u001b[38;5;124mp\u001b[39m\u001b[38;5;124m\"\u001b[39m, \u001b[38;5;124m\"\u001b[39m\u001b[38;5;124mna23\u001b[39m\u001b[38;5;124m\"\u001b[39m]\n\u001b[0;32m----> 2\u001b[0m cburn_library \u001b[38;5;241m=\u001b[39m \u001b[43mreaclib_library\u001b[49m\u001b[38;5;241;43m.\u001b[39;49m\u001b[43mlinking_nuclei\u001b[49m\u001b[43m(\u001b[49m\u001b[43mnuclei\u001b[49m\u001b[43m)\u001b[49m\n\u001b[1;32m      3\u001b[0m rc \u001b[38;5;241m=\u001b[39m pyna\u001b[38;5;241m.\u001b[39mRateCollection(libraries\u001b[38;5;241m=\u001b[39m[cburn_library])\n\u001b[1;32m      4\u001b[0m rc\n",
      "File \u001b[0;32m/opt/hostedtoolcache/Python/3.11.10/x64/lib/python3.11/site-packages/pynucastro/rates/library.py:442\u001b[0m, in \u001b[0;36mLibrary.linking_nuclei\u001b[0;34m(self, nuclist, with_reverse, print_warning)\u001b[0m\n\u001b[1;32m    439\u001b[0m         filtered_rates\u001b[38;5;241m.\u001b[39mappend(r)\n\u001b[1;32m    441\u001b[0m \u001b[38;5;66;03m# create a new library containing the filtered rates\u001b[39;00m\n\u001b[0;32m--> 442\u001b[0m new_lib \u001b[38;5;241m=\u001b[39m \u001b[43mLibrary\u001b[49m\u001b[43m(\u001b[49m\u001b[43mrates\u001b[49m\u001b[38;5;241;43m=\u001b[39;49m\u001b[43mfiltered_rates\u001b[49m\u001b[43m)\u001b[49m\n\u001b[1;32m    444\u001b[0m \u001b[38;5;66;03m# print out a warning if one of the input nuclei is not linked\u001b[39;00m\n\u001b[1;32m    445\u001b[0m \u001b[38;5;28;01mif\u001b[39;00m print_warning:\n",
      "File \u001b[0;32m/opt/hostedtoolcache/Python/3.11.10/x64/lib/python3.11/site-packages/pynucastro/rates/library.py:130\u001b[0m, in \u001b[0;36mLibrary.__init__\u001b[0;34m(self, libfile, rates)\u001b[0m\n\u001b[1;32m    128\u001b[0m     \u001b[38;5;28mself\u001b[39m\u001b[38;5;241m.\u001b[39m_rates \u001b[38;5;241m=\u001b[39m rates\n\u001b[1;32m    129\u001b[0m \u001b[38;5;28;01melif\u001b[39;00m \u001b[38;5;28misinstance\u001b[39m(rates, (\u001b[38;5;28mlist\u001b[39m, \u001b[38;5;28mset\u001b[39m)):\n\u001b[0;32m--> 130\u001b[0m     \u001b[38;5;28;43mself\u001b[39;49m\u001b[38;5;241;43m.\u001b[39;49m\u001b[43madd_rates\u001b[49m\u001b[43m(\u001b[49m\u001b[43mrates\u001b[49m\u001b[43m)\u001b[49m\n\u001b[1;32m    131\u001b[0m \u001b[38;5;28;01melse\u001b[39;00m:\n\u001b[1;32m    132\u001b[0m     \u001b[38;5;28;01mraise\u001b[39;00m \u001b[38;5;167;01mTypeError\u001b[39;00m(\u001b[38;5;124m\"\u001b[39m\u001b[38;5;124mrates in Library constructor must be a Rate object, list of Rate objects, or dictionary of Rate objects keyed by Rate.get_rate_id()\u001b[39m\u001b[38;5;124m\"\u001b[39m)\n",
      "File \u001b[0;32m/opt/hostedtoolcache/Python/3.11.10/x64/lib/python3.11/site-packages/pynucastro/rates/library.py:180\u001b[0m, in \u001b[0;36mLibrary.add_rates\u001b[0;34m(self, ratelist)\u001b[0m\n\u001b[1;32m    178\u001b[0m \u001b[38;5;250m\u001b[39m\u001b[38;5;124;03m\"\"\" Add to the rate dictionary from the supplied list of Rate objects.\"\"\"\u001b[39;00m\n\u001b[1;32m    179\u001b[0m \u001b[38;5;28;01mfor\u001b[39;00m rate \u001b[38;5;129;01min\u001b[39;00m ratelist:\n\u001b[0;32m--> 180\u001b[0m     \u001b[38;5;28;01mif\u001b[39;00m rate \u001b[38;5;129;01min\u001b[39;00m \u001b[38;5;28;43mself\u001b[39;49m\u001b[38;5;241;43m.\u001b[39;49m\u001b[43mrates\u001b[49m:\n\u001b[1;32m    181\u001b[0m         rid \u001b[38;5;241m=\u001b[39m rate\u001b[38;5;241m.\u001b[39mid\n\u001b[1;32m    182\u001b[0m         \u001b[38;5;28;01mraise\u001b[39;00m \u001b[38;5;167;01mValueError\u001b[39;00m(\u001b[38;5;124mf\u001b[39m\u001b[38;5;124m\"\u001b[39m\u001b[38;5;124msupplied a Rate object already in the Library: \u001b[39m\u001b[38;5;132;01m{\u001b[39;00mrid\u001b[38;5;132;01m}\u001b[39;00m\u001b[38;5;124m\"\u001b[39m)\n",
      "File \u001b[0;32m/opt/hostedtoolcache/Python/3.11.10/x64/lib/python3.11/site-packages/pynucastro/rates/library.py:143\u001b[0m, in \u001b[0;36mLibrary.get_rates\u001b[0;34m(self)\u001b[0m\n\u001b[1;32m    141\u001b[0m \u001b[38;5;28;01mdef\u001b[39;00m \u001b[38;5;21mget_rates\u001b[39m(\u001b[38;5;28mself\u001b[39m) \u001b[38;5;241m-\u001b[39m\u001b[38;5;241m>\u001b[39m \u001b[38;5;28mlist\u001b[39m[Rate]:\n\u001b[1;32m    142\u001b[0m \u001b[38;5;250m    \u001b[39m\u001b[38;5;124;03m\"\"\" Return a list of the rates in this library.\"\"\"\u001b[39;00m\n\u001b[0;32m--> 143\u001b[0m     \u001b[38;5;28;01mreturn\u001b[39;00m \u001b[38;5;28mlist\u001b[39m(\u001b[38;5;28;43mself\u001b[39;49m\u001b[38;5;241;43m.\u001b[39;49m\u001b[43m_rates\u001b[49m\u001b[38;5;241;43m.\u001b[39;49m\u001b[43mvalues\u001b[49m())\n",
      "\u001b[0;31mAttributeError\u001b[0m: 'NoneType' object has no attribute 'values'"
     ]
    }
   ],
   "source": [
    "nuclei += [\"p\", \"na23\"]\n",
    "cburn_library = reaclib_library.linking_nuclei(nuclei)\n",
    "rc = pyna.RateCollection(libraries=[cburn_library])\n",
    "rc"
   ]
  },
  {
   "cell_type": "code",
   "execution_count": 7,
   "id": "64774e00-8a1b-48c7-bf3f-d8cfc37fe96d",
   "metadata": {
    "execution": {
     "iopub.execute_input": "2024-10-17T07:54:52.925442Z",
     "iopub.status.busy": "2024-10-17T07:54:52.925263Z",
     "iopub.status.idle": "2024-10-17T07:54:52.938170Z",
     "shell.execute_reply": "2024-10-17T07:54:52.937595Z"
    },
    "tags": []
   },
   "outputs": [
    {
     "ename": "NameError",
     "evalue": "name 'rc' is not defined",
     "output_type": "error",
     "traceback": [
      "\u001b[0;31m---------------------------------------------------------------------------\u001b[0m",
      "\u001b[0;31mNameError\u001b[0m                                 Traceback (most recent call last)",
      "Cell \u001b[0;32mIn[7], line 1\u001b[0m\n\u001b[0;32m----> 1\u001b[0m \u001b[43mrc\u001b[49m\u001b[38;5;241m.\u001b[39mvalidate(reaclib_library)\n",
      "\u001b[0;31mNameError\u001b[0m: name 'rc' is not defined"
     ]
    }
   ],
   "source": [
    "rc.validate(reaclib_library)"
   ]
  },
  {
   "cell_type": "markdown",
   "id": "34070657-d310-495c-8355-0c25464ec8ea",
   "metadata": {
    "user_expressions": []
   },
   "source": [
    "Now, looking at what is missing, we probably want to include ${}^{24}\\mathrm{Mg}$ as an endpoint for carbon burning."
   ]
  },
  {
   "cell_type": "code",
   "execution_count": 8,
   "id": "382be1d1-0086-4ef9-aab5-67681939d132",
   "metadata": {
    "execution": {
     "iopub.execute_input": "2024-10-17T07:54:52.940073Z",
     "iopub.status.busy": "2024-10-17T07:54:52.939672Z",
     "iopub.status.idle": "2024-10-17T07:54:53.043175Z",
     "shell.execute_reply": "2024-10-17T07:54:53.042611Z"
    },
    "tags": []
   },
   "outputs": [
    {
     "ename": "AttributeError",
     "evalue": "'NoneType' object has no attribute 'values'",
     "output_type": "error",
     "traceback": [
      "\u001b[0;31m---------------------------------------------------------------------------\u001b[0m",
      "\u001b[0;31mAttributeError\u001b[0m                            Traceback (most recent call last)",
      "Cell \u001b[0;32mIn[8], line 2\u001b[0m\n\u001b[1;32m      1\u001b[0m nuclei \u001b[38;5;241m+\u001b[39m\u001b[38;5;241m=\u001b[39m [\u001b[38;5;124m\"\u001b[39m\u001b[38;5;124mmg24\u001b[39m\u001b[38;5;124m\"\u001b[39m]\n\u001b[0;32m----> 2\u001b[0m cburn_library \u001b[38;5;241m=\u001b[39m \u001b[43mreaclib_library\u001b[49m\u001b[38;5;241;43m.\u001b[39;49m\u001b[43mlinking_nuclei\u001b[49m\u001b[43m(\u001b[49m\u001b[43mnuclei\u001b[49m\u001b[43m)\u001b[49m\n\u001b[1;32m      3\u001b[0m rc \u001b[38;5;241m=\u001b[39m pyna\u001b[38;5;241m.\u001b[39mRateCollection(libraries\u001b[38;5;241m=\u001b[39m[cburn_library])\n\u001b[1;32m      4\u001b[0m rc\n",
      "File \u001b[0;32m/opt/hostedtoolcache/Python/3.11.10/x64/lib/python3.11/site-packages/pynucastro/rates/library.py:442\u001b[0m, in \u001b[0;36mLibrary.linking_nuclei\u001b[0;34m(self, nuclist, with_reverse, print_warning)\u001b[0m\n\u001b[1;32m    439\u001b[0m         filtered_rates\u001b[38;5;241m.\u001b[39mappend(r)\n\u001b[1;32m    441\u001b[0m \u001b[38;5;66;03m# create a new library containing the filtered rates\u001b[39;00m\n\u001b[0;32m--> 442\u001b[0m new_lib \u001b[38;5;241m=\u001b[39m \u001b[43mLibrary\u001b[49m\u001b[43m(\u001b[49m\u001b[43mrates\u001b[49m\u001b[38;5;241;43m=\u001b[39;49m\u001b[43mfiltered_rates\u001b[49m\u001b[43m)\u001b[49m\n\u001b[1;32m    444\u001b[0m \u001b[38;5;66;03m# print out a warning if one of the input nuclei is not linked\u001b[39;00m\n\u001b[1;32m    445\u001b[0m \u001b[38;5;28;01mif\u001b[39;00m print_warning:\n",
      "File \u001b[0;32m/opt/hostedtoolcache/Python/3.11.10/x64/lib/python3.11/site-packages/pynucastro/rates/library.py:130\u001b[0m, in \u001b[0;36mLibrary.__init__\u001b[0;34m(self, libfile, rates)\u001b[0m\n\u001b[1;32m    128\u001b[0m     \u001b[38;5;28mself\u001b[39m\u001b[38;5;241m.\u001b[39m_rates \u001b[38;5;241m=\u001b[39m rates\n\u001b[1;32m    129\u001b[0m \u001b[38;5;28;01melif\u001b[39;00m \u001b[38;5;28misinstance\u001b[39m(rates, (\u001b[38;5;28mlist\u001b[39m, \u001b[38;5;28mset\u001b[39m)):\n\u001b[0;32m--> 130\u001b[0m     \u001b[38;5;28;43mself\u001b[39;49m\u001b[38;5;241;43m.\u001b[39;49m\u001b[43madd_rates\u001b[49m\u001b[43m(\u001b[49m\u001b[43mrates\u001b[49m\u001b[43m)\u001b[49m\n\u001b[1;32m    131\u001b[0m \u001b[38;5;28;01melse\u001b[39;00m:\n\u001b[1;32m    132\u001b[0m     \u001b[38;5;28;01mraise\u001b[39;00m \u001b[38;5;167;01mTypeError\u001b[39;00m(\u001b[38;5;124m\"\u001b[39m\u001b[38;5;124mrates in Library constructor must be a Rate object, list of Rate objects, or dictionary of Rate objects keyed by Rate.get_rate_id()\u001b[39m\u001b[38;5;124m\"\u001b[39m)\n",
      "File \u001b[0;32m/opt/hostedtoolcache/Python/3.11.10/x64/lib/python3.11/site-packages/pynucastro/rates/library.py:180\u001b[0m, in \u001b[0;36mLibrary.add_rates\u001b[0;34m(self, ratelist)\u001b[0m\n\u001b[1;32m    178\u001b[0m \u001b[38;5;250m\u001b[39m\u001b[38;5;124;03m\"\"\" Add to the rate dictionary from the supplied list of Rate objects.\"\"\"\u001b[39;00m\n\u001b[1;32m    179\u001b[0m \u001b[38;5;28;01mfor\u001b[39;00m rate \u001b[38;5;129;01min\u001b[39;00m ratelist:\n\u001b[0;32m--> 180\u001b[0m     \u001b[38;5;28;01mif\u001b[39;00m rate \u001b[38;5;129;01min\u001b[39;00m \u001b[38;5;28;43mself\u001b[39;49m\u001b[38;5;241;43m.\u001b[39;49m\u001b[43mrates\u001b[49m:\n\u001b[1;32m    181\u001b[0m         rid \u001b[38;5;241m=\u001b[39m rate\u001b[38;5;241m.\u001b[39mid\n\u001b[1;32m    182\u001b[0m         \u001b[38;5;28;01mraise\u001b[39;00m \u001b[38;5;167;01mValueError\u001b[39;00m(\u001b[38;5;124mf\u001b[39m\u001b[38;5;124m\"\u001b[39m\u001b[38;5;124msupplied a Rate object already in the Library: \u001b[39m\u001b[38;5;132;01m{\u001b[39;00mrid\u001b[38;5;132;01m}\u001b[39;00m\u001b[38;5;124m\"\u001b[39m)\n",
      "File \u001b[0;32m/opt/hostedtoolcache/Python/3.11.10/x64/lib/python3.11/site-packages/pynucastro/rates/library.py:143\u001b[0m, in \u001b[0;36mLibrary.get_rates\u001b[0;34m(self)\u001b[0m\n\u001b[1;32m    141\u001b[0m \u001b[38;5;28;01mdef\u001b[39;00m \u001b[38;5;21mget_rates\u001b[39m(\u001b[38;5;28mself\u001b[39m) \u001b[38;5;241m-\u001b[39m\u001b[38;5;241m>\u001b[39m \u001b[38;5;28mlist\u001b[39m[Rate]:\n\u001b[1;32m    142\u001b[0m \u001b[38;5;250m    \u001b[39m\u001b[38;5;124;03m\"\"\" Return a list of the rates in this library.\"\"\"\u001b[39;00m\n\u001b[0;32m--> 143\u001b[0m     \u001b[38;5;28;01mreturn\u001b[39;00m \u001b[38;5;28mlist\u001b[39m(\u001b[38;5;28;43mself\u001b[39;49m\u001b[38;5;241;43m.\u001b[39;49m\u001b[43m_rates\u001b[49m\u001b[38;5;241;43m.\u001b[39;49m\u001b[43mvalues\u001b[49m())\n",
      "\u001b[0;31mAttributeError\u001b[0m: 'NoneType' object has no attribute 'values'"
     ]
    }
   ],
   "source": [
    "nuclei += [\"mg24\"]\n",
    "cburn_library = reaclib_library.linking_nuclei(nuclei)\n",
    "rc = pyna.RateCollection(libraries=[cburn_library])\n",
    "rc"
   ]
  },
  {
   "cell_type": "code",
   "execution_count": 9,
   "id": "754e2898-1d65-495e-ac05-e1f45b151b71",
   "metadata": {
    "execution": {
     "iopub.execute_input": "2024-10-17T07:54:53.044804Z",
     "iopub.status.busy": "2024-10-17T07:54:53.044632Z",
     "iopub.status.idle": "2024-10-17T07:54:53.057049Z",
     "shell.execute_reply": "2024-10-17T07:54:53.056499Z"
    },
    "tags": []
   },
   "outputs": [
    {
     "ename": "NameError",
     "evalue": "name 'rc' is not defined",
     "output_type": "error",
     "traceback": [
      "\u001b[0;31m---------------------------------------------------------------------------\u001b[0m",
      "\u001b[0;31mNameError\u001b[0m                                 Traceback (most recent call last)",
      "Cell \u001b[0;32mIn[9], line 1\u001b[0m\n\u001b[0;32m----> 1\u001b[0m \u001b[43mrc\u001b[49m\u001b[38;5;241m.\u001b[39mvalidate(reaclib_library)\n",
      "\u001b[0;31mNameError\u001b[0m: name 'rc' is not defined"
     ]
    }
   ],
   "source": [
    "rc.validate(reaclib_library)"
   ]
  },
  {
   "cell_type": "markdown",
   "id": "78f5f05d-8466-4f08-aafc-09331faa3587",
   "metadata": {
    "user_expressions": []
   },
   "source": [
    "This now seems reasonable.  The reactions that are missing are all endothermic."
   ]
  },
  {
   "cell_type": "code",
   "execution_count": 10,
   "id": "7d6ff645-2100-4f9b-b944-cdc581a2836e",
   "metadata": {
    "execution": {
     "iopub.execute_input": "2024-10-17T07:54:53.058880Z",
     "iopub.status.busy": "2024-10-17T07:54:53.058581Z",
     "iopub.status.idle": "2024-10-17T07:54:53.070935Z",
     "shell.execute_reply": "2024-10-17T07:54:53.070367Z"
    },
    "tags": []
   },
   "outputs": [
    {
     "ename": "NameError",
     "evalue": "name 'rc' is not defined",
     "output_type": "error",
     "traceback": [
      "\u001b[0;31m---------------------------------------------------------------------------\u001b[0m",
      "\u001b[0;31mNameError\u001b[0m                                 Traceback (most recent call last)",
      "Cell \u001b[0;32mIn[10], line 1\u001b[0m\n\u001b[0;32m----> 1\u001b[0m fig \u001b[38;5;241m=\u001b[39m \u001b[43mrc\u001b[49m\u001b[38;5;241m.\u001b[39mplot(curved_edges\u001b[38;5;241m=\u001b[39m\u001b[38;5;28;01mTrue\u001b[39;00m)\n",
      "\u001b[0;31mNameError\u001b[0m: name 'rc' is not defined"
     ]
    }
   ],
   "source": [
    "fig = rc.plot(curved_edges=True)"
   ]
  }
 ],
 "metadata": {
  "kernelspec": {
   "display_name": "Python 3 (ipykernel)",
   "language": "python",
   "name": "python3"
  },
  "language_info": {
   "codemirror_mode": {
    "name": "ipython",
    "version": 3
   },
   "file_extension": ".py",
   "mimetype": "text/x-python",
   "name": "python",
   "nbconvert_exporter": "python",
   "pygments_lexer": "ipython3",
   "version": "3.11.10"
  }
 },
 "nbformat": 4,
 "nbformat_minor": 5
}
