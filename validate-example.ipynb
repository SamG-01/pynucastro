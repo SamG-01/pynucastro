{
 "cells": [
  {
   "cell_type": "markdown",
   "id": "0784b0fc-cf3a-4f75-b22f-e96d7e469d1a",
   "metadata": {
    "user_expressions": []
   },
   "source": [
    "# Checking your network"
   ]
  },
  {
   "cell_type": "markdown",
   "id": "9ef5a720-b022-4347-936e-e503395a7db7",
   "metadata": {
    "user_expressions": []
   },
   "source": [
    "Selecting which rates to include and which to exclude from your network is a bit of an art.  pynucastro has a few tools to help check what you might be missing."
   ]
  },
  {
   "cell_type": "code",
   "execution_count": 1,
   "id": "40841ac9-5cf2-4d12-9df9-2cd460852ca2",
   "metadata": {
    "execution": {
     "iopub.execute_input": "2024-10-19T09:36:01.853046Z",
     "iopub.status.busy": "2024-10-19T09:36:01.852856Z",
     "iopub.status.idle": "2024-10-19T09:36:03.358232Z",
     "shell.execute_reply": "2024-10-19T09:36:03.357649Z"
    },
    "tags": []
   },
   "outputs": [
    {
     "ename": "KeyError",
     "evalue": "'6an9CYBT'",
     "output_type": "error",
     "traceback": [
      "\u001b[0;31m---------------------------------------------------------------------------\u001b[0m",
      "\u001b[0;31mKeyError\u001b[0m                                  Traceback (most recent call last)",
      "Cell \u001b[0;32mIn[1], line 1\u001b[0m\n\u001b[0;32m----> 1\u001b[0m \u001b[38;5;28;01mimport\u001b[39;00m \u001b[38;5;21;01mpynucastro\u001b[39;00m \u001b[38;5;28;01mas\u001b[39;00m \u001b[38;5;21;01mpyna\u001b[39;00m\n",
      "File \u001b[0;32m/opt/hostedtoolcache/Python/3.11.10/x64/lib/python3.11/site-packages/pynucastro/__init__.py:131\u001b[0m\n\u001b[1;32m    126\u001b[0m \u001b[38;5;28;01mfrom\u001b[39;00m \u001b[38;5;21;01m.\u001b[39;00m\u001b[38;5;21;01m_version\u001b[39;00m \u001b[38;5;28;01mimport\u001b[39;00m version\n\u001b[1;32m    128\u001b[0m __version__ \u001b[38;5;241m=\u001b[39m version\n\u001b[0;32m--> 131\u001b[0m \u001b[38;5;28;01mimport\u001b[39;00m \u001b[38;5;21;01mpynucastro\u001b[39;00m\u001b[38;5;21;01m.\u001b[39;00m\u001b[38;5;21;01mscreening\u001b[39;00m\n\u001b[1;32m    132\u001b[0m \u001b[38;5;28;01mfrom\u001b[39;00m \u001b[38;5;21;01mpynucastro\u001b[39;00m\u001b[38;5;21;01m.\u001b[39;00m\u001b[38;5;21;01mnetworks\u001b[39;00m \u001b[38;5;28;01mimport\u001b[39;00m (AmrexAstroCxxNetwork, BaseCxxNetwork,\n\u001b[1;32m    133\u001b[0m                                  Composition, Explorer, NSENetwork,\n\u001b[1;32m    134\u001b[0m                                  NumpyNetwork, PythonNetwork, RateCollection,\n\u001b[1;32m    135\u001b[0m                                  SimpleCxxNetwork, StarKillerCxxNetwork,\n\u001b[1;32m    136\u001b[0m                                  SympyRates)\n\u001b[1;32m    137\u001b[0m \u001b[38;5;28;01mfrom\u001b[39;00m \u001b[38;5;21;01mpynucastro\u001b[39;00m\u001b[38;5;21;01m.\u001b[39;00m\u001b[38;5;21;01mnucdata\u001b[39;00m \u001b[38;5;28;01mimport\u001b[39;00m Nucleus, get_all_nuclei, get_nuclei_in_range\n",
      "File \u001b[0;32m/opt/hostedtoolcache/Python/3.11.10/x64/lib/python3.11/site-packages/pynucastro/screening/__init__.py:5\u001b[0m\n\u001b[1;32m      1\u001b[0m \u001b[38;5;124;03m\"\"\"Screening routines\"\"\"\u001b[39;00m\n\u001b[1;32m      3\u001b[0m __all__ \u001b[38;5;241m=\u001b[39m [\u001b[38;5;124m\"\u001b[39m\u001b[38;5;124mscreen\u001b[39m\u001b[38;5;124m\"\u001b[39m, \u001b[38;5;124m\"\u001b[39m\u001b[38;5;124mscreening_util\u001b[39m\u001b[38;5;124m\"\u001b[39m]\n\u001b[0;32m----> 5\u001b[0m \u001b[38;5;28;01mfrom\u001b[39;00m \u001b[38;5;21;01m.\u001b[39;00m\u001b[38;5;21;01mscreen\u001b[39;00m \u001b[38;5;28;01mimport\u001b[39;00m (NseState, PlasmaState, ScreenFactors, chugunov_2007,\n\u001b[1;32m      6\u001b[0m                      chugunov_2009, make_plasma_state, make_screen_factors,\n\u001b[1;32m      7\u001b[0m                      potekhin_1998, screen5)\n\u001b[1;32m      8\u001b[0m \u001b[38;5;28;01mfrom\u001b[39;00m \u001b[38;5;21;01m.\u001b[39;00m\u001b[38;5;21;01mscreening_util\u001b[39;00m \u001b[38;5;28;01mimport\u001b[39;00m ScreeningPair, get_screening_map\n",
      "File \u001b[0;32m/opt/hostedtoolcache/Python/3.11.10/x64/lib/python3.11/site-packages/pynucastro/screening/screen.py:9\u001b[0m\n\u001b[1;32m      7\u001b[0m \u001b[38;5;28;01mfrom\u001b[39;00m \u001b[38;5;21;01mpynucastro\u001b[39;00m\u001b[38;5;21;01m.\u001b[39;00m\u001b[38;5;21;01mnucdata\u001b[39;00m \u001b[38;5;28;01mimport\u001b[39;00m Nucleus\n\u001b[1;32m      8\u001b[0m \u001b[38;5;66;03m# use the jitclass placeholder from rate.py\u001b[39;00m\n\u001b[0;32m----> 9\u001b[0m \u001b[38;5;28;01mfrom\u001b[39;00m \u001b[38;5;21;01mpynucastro\u001b[39;00m\u001b[38;5;21;01m.\u001b[39;00m\u001b[38;5;21;01mrates\u001b[39;00m\u001b[38;5;21;01m.\u001b[39;00m\u001b[38;5;21;01mrate\u001b[39;00m \u001b[38;5;28;01mimport\u001b[39;00m jitclass, numba\n\u001b[1;32m     11\u001b[0m \u001b[38;5;28;01mif\u001b[39;00m numba \u001b[38;5;129;01mis\u001b[39;00m \u001b[38;5;129;01mnot\u001b[39;00m \u001b[38;5;28;01mNone\u001b[39;00m:\n\u001b[1;32m     12\u001b[0m     njit \u001b[38;5;241m=\u001b[39m numba\u001b[38;5;241m.\u001b[39mnjit\n",
      "File \u001b[0;32m/opt/hostedtoolcache/Python/3.11.10/x64/lib/python3.11/site-packages/pynucastro/rates/__init__.py:5\u001b[0m\n\u001b[1;32m      1\u001b[0m \u001b[38;5;124;03m\"\"\"The core routines needed to read and interpret nuclear reaction rates\"\"\"\u001b[39;00m\n\u001b[1;32m      3\u001b[0m __all__ \u001b[38;5;241m=\u001b[39m [\u001b[38;5;124m\"\u001b[39m\u001b[38;5;124mapproximate_rates\u001b[39m\u001b[38;5;124m\"\u001b[39m, \u001b[38;5;124m\"\u001b[39m\u001b[38;5;124mrate\u001b[39m\u001b[38;5;124m\"\u001b[39m, \u001b[38;5;124m\"\u001b[39m\u001b[38;5;124mlibrary\u001b[39m\u001b[38;5;124m\"\u001b[39m]\n\u001b[0;32m----> 5\u001b[0m \u001b[38;5;28;01mfrom\u001b[39;00m \u001b[38;5;21;01m.\u001b[39;00m\u001b[38;5;21;01mapproximate_rates\u001b[39;00m \u001b[38;5;28;01mimport\u001b[39;00m ApproximateRate\n\u001b[1;32m      6\u001b[0m \u001b[38;5;28;01mfrom\u001b[39;00m \u001b[38;5;21;01m.\u001b[39;00m\u001b[38;5;21;01mknown_duplicates\u001b[39;00m \u001b[38;5;28;01mimport\u001b[39;00m find_duplicate_rates, is_allowed_dupe\n\u001b[1;32m      7\u001b[0m \u001b[38;5;28;01mfrom\u001b[39;00m \u001b[38;5;21;01m.\u001b[39;00m\u001b[38;5;21;01mlibrary\u001b[39;00m \u001b[38;5;28;01mimport\u001b[39;00m (LangankeLibrary, Library, RateFilter, ReacLibLibrary,\n\u001b[1;32m      8\u001b[0m                       SuzukiLibrary, TabularLibrary, list_known_rates)\n",
      "File \u001b[0;32m/opt/hostedtoolcache/Python/3.11.10/x64/lib/python3.11/site-packages/pynucastro/rates/approximate_rates.py:2\u001b[0m\n\u001b[1;32m      1\u001b[0m \u001b[38;5;28;01mfrom\u001b[39;00m \u001b[38;5;21;01mpynucastro\u001b[39;00m\u001b[38;5;21;01m.\u001b[39;00m\u001b[38;5;21;01mnucdata\u001b[39;00m \u001b[38;5;28;01mimport\u001b[39;00m Nucleus\n\u001b[0;32m----> 2\u001b[0m \u001b[38;5;28;01mfrom\u001b[39;00m \u001b[38;5;21;01mpynucastro\u001b[39;00m\u001b[38;5;21;01m.\u001b[39;00m\u001b[38;5;21;01mrates\u001b[39;00m\u001b[38;5;21;01m.\u001b[39;00m\u001b[38;5;21;01mrate\u001b[39;00m \u001b[38;5;28;01mimport\u001b[39;00m Rate\n\u001b[1;32m      5\u001b[0m \u001b[38;5;28;01mclass\u001b[39;00m \u001b[38;5;21;01mApproximateRate\u001b[39;00m(Rate):\n\u001b[1;32m      7\u001b[0m     \u001b[38;5;28;01mdef\u001b[39;00m \u001b[38;5;21m__init__\u001b[39m(\u001b[38;5;28mself\u001b[39m, primary_rate, secondary_rates,\n\u001b[1;32m      8\u001b[0m                  primary_reverse, secondary_reverse, \u001b[38;5;241m*\u001b[39m,\n\u001b[1;32m      9\u001b[0m                  is_reverse\u001b[38;5;241m=\u001b[39m\u001b[38;5;28;01mFalse\u001b[39;00m, approx_type\u001b[38;5;241m=\u001b[39m\u001b[38;5;124m\"\u001b[39m\u001b[38;5;124map_pg\u001b[39m\u001b[38;5;124m\"\u001b[39m,\n\u001b[1;32m     10\u001b[0m                  use_identical_particle_factor\u001b[38;5;241m=\u001b[39m\u001b[38;5;28;01mTrue\u001b[39;00m):\n",
      "File \u001b[0;32m/opt/hostedtoolcache/Python/3.11.10/x64/lib/python3.11/site-packages/pynucastro/rates/rate.py:775\u001b[0m\n\u001b[1;32m    771\u001b[0m     NU \u001b[38;5;241m=\u001b[39m \u001b[38;5;241m6\u001b[39m\n\u001b[1;32m    772\u001b[0m     GAMMA \u001b[38;5;241m=\u001b[39m \u001b[38;5;241m7\u001b[39m\n\u001b[0;32m--> 775\u001b[0m \u001b[38;5;28;43;01mclass\u001b[39;49;00m\u001b[43m \u001b[49m\u001b[38;5;21;43;01mRateSource\u001b[39;49;00m\u001b[43m:\u001b[49m\n\u001b[1;32m    776\u001b[0m \u001b[38;5;250;43m    \u001b[39;49m\u001b[38;5;124;43;03m\"\"\"A class that stores the reference label information for various rates.\"\"\"\u001b[39;49;00m\n\u001b[1;32m    778\u001b[0m \u001b[43m    \u001b[49m\u001b[43mcsv_path\u001b[49m\u001b[43m \u001b[49m\u001b[38;5;241;43m=\u001b[39;49m\u001b[43m \u001b[49m\u001b[43m_find_rate_file\u001b[49m\u001b[43m(\u001b[49m\u001b[38;5;124;43m\"\u001b[39;49m\u001b[38;5;124;43mRate Sources.csv\u001b[39;49m\u001b[38;5;124;43m\"\u001b[39;49m\u001b[43m)\u001b[49m\n",
      "File \u001b[0;32m/opt/hostedtoolcache/Python/3.11.10/x64/lib/python3.11/site-packages/pynucastro/rates/rate.py:795\u001b[0m, in \u001b[0;36mRateSource\u001b[0;34m()\u001b[0m\n\u001b[1;32m    793\u001b[0m         label \u001b[38;5;241m=\u001b[39m cells[\u001b[38;5;241m0\u001b[39m]\n\u001b[1;32m    794\u001b[0m         label_data \u001b[38;5;241m=\u001b[39m labels[label\u001b[38;5;241m.\u001b[39mlower()] \u001b[38;5;241m=\u001b[39m \u001b[38;5;28mdict\u001b[39m(\u001b[38;5;28mzip\u001b[39m(column_titles, cells))\n\u001b[0;32m--> 795\u001b[0m         label_data[\u001b[38;5;124m\"\u001b[39m\u001b[38;5;124mURL\u001b[39m\u001b[38;5;124m\"\u001b[39m] \u001b[38;5;241m=\u001b[39m urls\u001b[38;5;241m.\u001b[39mget(label, \u001b[43murls\u001b[49m\u001b[43m[\u001b[49m\u001b[43mlabel\u001b[49m\u001b[43m]\u001b[49m \u001b[38;5;241m+\u001b[39m label\u001b[38;5;241m.\u001b[39mlower())\n\u001b[1;32m    797\u001b[0m \u001b[38;5;129m@classmethod\u001b[39m\n\u001b[1;32m    798\u001b[0m \u001b[38;5;28;01mdef\u001b[39;00m \u001b[38;5;21msource\u001b[39m(\u001b[38;5;28mcls\u001b[39m, label: \u001b[38;5;28mstr\u001b[39m) \u001b[38;5;241m-\u001b[39m\u001b[38;5;241m>\u001b[39m \u001b[38;5;28mdict\u001b[39m[\u001b[38;5;28mstr\u001b[39m, \u001b[38;5;28mstr\u001b[39m] \u001b[38;5;241m|\u001b[39m \u001b[38;5;28;01mNone\u001b[39;00m:\n\u001b[1;32m    799\u001b[0m \u001b[38;5;250m    \u001b[39m\u001b[38;5;124;03m\"\"\"Returns the source of a rate given its label, and None if not found.\"\"\"\u001b[39;00m\n",
      "\u001b[0;31mKeyError\u001b[0m: '6an9CYBT'"
     ]
    }
   ],
   "source": [
    "import pynucastro as pyna"
   ]
  },
  {
   "cell_type": "code",
   "execution_count": 2,
   "id": "94d36083-9d99-457f-9103-3a45e046d613",
   "metadata": {
    "execution": {
     "iopub.execute_input": "2024-10-19T09:36:03.360033Z",
     "iopub.status.busy": "2024-10-19T09:36:03.359860Z",
     "iopub.status.idle": "2024-10-19T09:36:03.370998Z",
     "shell.execute_reply": "2024-10-19T09:36:03.370571Z"
    },
    "tags": []
   },
   "outputs": [
    {
     "ename": "NameError",
     "evalue": "name 'pyna' is not defined",
     "output_type": "error",
     "traceback": [
      "\u001b[0;31m---------------------------------------------------------------------------\u001b[0m",
      "\u001b[0;31mNameError\u001b[0m                                 Traceback (most recent call last)",
      "Cell \u001b[0;32mIn[2], line 1\u001b[0m\n\u001b[0;32m----> 1\u001b[0m reaclib_library \u001b[38;5;241m=\u001b[39m \u001b[43mpyna\u001b[49m\u001b[38;5;241m.\u001b[39mReacLibLibrary()\n",
      "\u001b[0;31mNameError\u001b[0m: name 'pyna' is not defined"
     ]
    }
   ],
   "source": [
    "reaclib_library = pyna.ReacLibLibrary()"
   ]
  },
  {
   "cell_type": "markdown",
   "id": "bc58b81e-bf45-430e-9215-363d0a96e8cd",
   "metadata": {
    "user_expressions": []
   },
   "source": [
    "## `RateCollection` validate method\n",
    "\n",
    "Let's start by trying to create a network for carbon burning."
   ]
  },
  {
   "cell_type": "markdown",
   "id": "da391bca-c38c-437a-a419-88f26f7b7ac0",
   "metadata": {
    "user_expressions": []
   },
   "source": [
    "To start, let's pick the nuclei $\\alpha$, ${}^{12}\\mathrm{C}$ and ${}^{20}\\mathrm{Ne}$"
   ]
  },
  {
   "cell_type": "code",
   "execution_count": 3,
   "id": "a3350cc9-924b-4d59-ab60-9582e38c337b",
   "metadata": {
    "execution": {
     "iopub.execute_input": "2024-10-19T09:36:03.372815Z",
     "iopub.status.busy": "2024-10-19T09:36:03.372351Z",
     "iopub.status.idle": "2024-10-19T09:36:03.382974Z",
     "shell.execute_reply": "2024-10-19T09:36:03.382521Z"
    },
    "tags": []
   },
   "outputs": [
    {
     "ename": "NameError",
     "evalue": "name 'reaclib_library' is not defined",
     "output_type": "error",
     "traceback": [
      "\u001b[0;31m---------------------------------------------------------------------------\u001b[0m",
      "\u001b[0;31mNameError\u001b[0m                                 Traceback (most recent call last)",
      "Cell \u001b[0;32mIn[3], line 2\u001b[0m\n\u001b[1;32m      1\u001b[0m nuclei \u001b[38;5;241m=\u001b[39m [\u001b[38;5;124m\"\u001b[39m\u001b[38;5;124mhe4\u001b[39m\u001b[38;5;124m\"\u001b[39m, \u001b[38;5;124m\"\u001b[39m\u001b[38;5;124mc12\u001b[39m\u001b[38;5;124m\"\u001b[39m, \u001b[38;5;124m\"\u001b[39m\u001b[38;5;124mne20\u001b[39m\u001b[38;5;124m\"\u001b[39m]\n\u001b[0;32m----> 2\u001b[0m cburn_library \u001b[38;5;241m=\u001b[39m \u001b[43mreaclib_library\u001b[49m\u001b[38;5;241m.\u001b[39mlinking_nuclei(nuclei)\n",
      "\u001b[0;31mNameError\u001b[0m: name 'reaclib_library' is not defined"
     ]
    }
   ],
   "source": [
    "nuclei = [\"he4\", \"c12\", \"ne20\"]\n",
    "cburn_library = reaclib_library.linking_nuclei(nuclei)"
   ]
  },
  {
   "cell_type": "markdown",
   "id": "c7be0af2-4e3d-43e5-b7b7-686435587af7",
   "metadata": {
    "user_expressions": []
   },
   "source": [
    "Now we can make a rate collection"
   ]
  },
  {
   "cell_type": "code",
   "execution_count": 4,
   "id": "a1364f20-9017-47c0-800b-478d0c148f09",
   "metadata": {
    "execution": {
     "iopub.execute_input": "2024-10-19T09:36:03.384453Z",
     "iopub.status.busy": "2024-10-19T09:36:03.384292Z",
     "iopub.status.idle": "2024-10-19T09:36:03.395002Z",
     "shell.execute_reply": "2024-10-19T09:36:03.394449Z"
    },
    "tags": []
   },
   "outputs": [
    {
     "ename": "NameError",
     "evalue": "name 'pyna' is not defined",
     "output_type": "error",
     "traceback": [
      "\u001b[0;31m---------------------------------------------------------------------------\u001b[0m",
      "\u001b[0;31mNameError\u001b[0m                                 Traceback (most recent call last)",
      "Cell \u001b[0;32mIn[4], line 1\u001b[0m\n\u001b[0;32m----> 1\u001b[0m rc \u001b[38;5;241m=\u001b[39m \u001b[43mpyna\u001b[49m\u001b[38;5;241m.\u001b[39mRateCollection(libraries\u001b[38;5;241m=\u001b[39m[cburn_library])\n\u001b[1;32m      2\u001b[0m rc\n",
      "\u001b[0;31mNameError\u001b[0m: name 'pyna' is not defined"
     ]
    }
   ],
   "source": [
    "rc = pyna.RateCollection(libraries=[cburn_library])\n",
    "rc"
   ]
  },
  {
   "cell_type": "markdown",
   "id": "53c36d63-b39b-4a5b-ae2a-750b00e83668",
   "metadata": {
    "user_expressions": []
   },
   "source": [
    "Now, since we are primarily interested in ${}^{12}\\mathrm{C} + {}^{12}\\mathrm{C}$, let's make sure we are not missing any other reactions that have the same reactants.  The `validate()` method will do this, by comparing the rates we have selected to another library."
   ]
  },
  {
   "cell_type": "code",
   "execution_count": 5,
   "id": "d85f0c38-5eec-43b1-900a-c6077182e9fe",
   "metadata": {
    "execution": {
     "iopub.execute_input": "2024-10-19T09:36:03.396779Z",
     "iopub.status.busy": "2024-10-19T09:36:03.396404Z",
     "iopub.status.idle": "2024-10-19T09:36:03.406645Z",
     "shell.execute_reply": "2024-10-19T09:36:03.406182Z"
    },
    "tags": []
   },
   "outputs": [
    {
     "ename": "NameError",
     "evalue": "name 'rc' is not defined",
     "output_type": "error",
     "traceback": [
      "\u001b[0;31m---------------------------------------------------------------------------\u001b[0m",
      "\u001b[0;31mNameError\u001b[0m                                 Traceback (most recent call last)",
      "Cell \u001b[0;32mIn[5], line 1\u001b[0m\n\u001b[0;32m----> 1\u001b[0m \u001b[43mrc\u001b[49m\u001b[38;5;241m.\u001b[39mvalidate(reaclib_library)\n",
      "\u001b[0;31mNameError\u001b[0m: name 'rc' is not defined"
     ]
    }
   ],
   "source": [
    "rc.validate(reaclib_library)"
   ]
  },
  {
   "cell_type": "markdown",
   "id": "c01017db-c393-4db8-b711-aaea1a1b4cbb",
   "metadata": {
    "user_expressions": []
   },
   "source": [
    "This tells us that we are missing 2 branches of the ${}^{12}\\mathrm{C} + {}^{12}\\mathrm{C}$ reaction.  ReacLib already scales the rates based on the branching of the products, so we should try to include these other branches.\n",
    "\n",
    "Note: by default, `validate()` only checks forward rates."
   ]
  },
  {
   "cell_type": "markdown",
   "id": "2bb5947c-e12e-49fe-b4d9-d64db3d1b11b",
   "metadata": {
    "user_expressions": []
   },
   "source": [
    "To address these issues, we need to include the additional nuclei.  In particular, the branch that makes ${}^{23}\\mathrm{Na}$ is likely important (the rate making ${}^{23}\\mathrm{Mg}$ is endothermic, so less likely)."
   ]
  },
  {
   "cell_type": "code",
   "execution_count": 6,
   "id": "567a885a-783e-4be3-bd1e-56728956ffc8",
   "metadata": {
    "execution": {
     "iopub.execute_input": "2024-10-19T09:36:03.408335Z",
     "iopub.status.busy": "2024-10-19T09:36:03.408009Z",
     "iopub.status.idle": "2024-10-19T09:36:03.419125Z",
     "shell.execute_reply": "2024-10-19T09:36:03.418680Z"
    },
    "tags": []
   },
   "outputs": [
    {
     "ename": "NameError",
     "evalue": "name 'reaclib_library' is not defined",
     "output_type": "error",
     "traceback": [
      "\u001b[0;31m---------------------------------------------------------------------------\u001b[0m",
      "\u001b[0;31mNameError\u001b[0m                                 Traceback (most recent call last)",
      "Cell \u001b[0;32mIn[6], line 2\u001b[0m\n\u001b[1;32m      1\u001b[0m nuclei \u001b[38;5;241m+\u001b[39m\u001b[38;5;241m=\u001b[39m [\u001b[38;5;124m\"\u001b[39m\u001b[38;5;124mp\u001b[39m\u001b[38;5;124m\"\u001b[39m, \u001b[38;5;124m\"\u001b[39m\u001b[38;5;124mna23\u001b[39m\u001b[38;5;124m\"\u001b[39m]\n\u001b[0;32m----> 2\u001b[0m cburn_library \u001b[38;5;241m=\u001b[39m \u001b[43mreaclib_library\u001b[49m\u001b[38;5;241m.\u001b[39mlinking_nuclei(nuclei)\n\u001b[1;32m      3\u001b[0m rc \u001b[38;5;241m=\u001b[39m pyna\u001b[38;5;241m.\u001b[39mRateCollection(libraries\u001b[38;5;241m=\u001b[39m[cburn_library])\n\u001b[1;32m      4\u001b[0m rc\n",
      "\u001b[0;31mNameError\u001b[0m: name 'reaclib_library' is not defined"
     ]
    }
   ],
   "source": [
    "nuclei += [\"p\", \"na23\"]\n",
    "cburn_library = reaclib_library.linking_nuclei(nuclei)\n",
    "rc = pyna.RateCollection(libraries=[cburn_library])\n",
    "rc"
   ]
  },
  {
   "cell_type": "code",
   "execution_count": 7,
   "id": "64774e00-8a1b-48c7-bf3f-d8cfc37fe96d",
   "metadata": {
    "execution": {
     "iopub.execute_input": "2024-10-19T09:36:03.420823Z",
     "iopub.status.busy": "2024-10-19T09:36:03.420510Z",
     "iopub.status.idle": "2024-10-19T09:36:03.431320Z",
     "shell.execute_reply": "2024-10-19T09:36:03.430862Z"
    },
    "tags": []
   },
   "outputs": [
    {
     "ename": "NameError",
     "evalue": "name 'rc' is not defined",
     "output_type": "error",
     "traceback": [
      "\u001b[0;31m---------------------------------------------------------------------------\u001b[0m",
      "\u001b[0;31mNameError\u001b[0m                                 Traceback (most recent call last)",
      "Cell \u001b[0;32mIn[7], line 1\u001b[0m\n\u001b[0;32m----> 1\u001b[0m \u001b[43mrc\u001b[49m\u001b[38;5;241m.\u001b[39mvalidate(reaclib_library)\n",
      "\u001b[0;31mNameError\u001b[0m: name 'rc' is not defined"
     ]
    }
   ],
   "source": [
    "rc.validate(reaclib_library)"
   ]
  },
  {
   "cell_type": "markdown",
   "id": "34070657-d310-495c-8355-0c25464ec8ea",
   "metadata": {
    "user_expressions": []
   },
   "source": [
    "Now, looking at what is missing, we probably want to include ${}^{24}\\mathrm{Mg}$ as an endpoint for carbon burning."
   ]
  },
  {
   "cell_type": "code",
   "execution_count": 8,
   "id": "382be1d1-0086-4ef9-aab5-67681939d132",
   "metadata": {
    "execution": {
     "iopub.execute_input": "2024-10-19T09:36:03.432951Z",
     "iopub.status.busy": "2024-10-19T09:36:03.432624Z",
     "iopub.status.idle": "2024-10-19T09:36:03.443547Z",
     "shell.execute_reply": "2024-10-19T09:36:03.443112Z"
    },
    "tags": []
   },
   "outputs": [
    {
     "ename": "NameError",
     "evalue": "name 'reaclib_library' is not defined",
     "output_type": "error",
     "traceback": [
      "\u001b[0;31m---------------------------------------------------------------------------\u001b[0m",
      "\u001b[0;31mNameError\u001b[0m                                 Traceback (most recent call last)",
      "Cell \u001b[0;32mIn[8], line 2\u001b[0m\n\u001b[1;32m      1\u001b[0m nuclei \u001b[38;5;241m+\u001b[39m\u001b[38;5;241m=\u001b[39m [\u001b[38;5;124m\"\u001b[39m\u001b[38;5;124mmg24\u001b[39m\u001b[38;5;124m\"\u001b[39m]\n\u001b[0;32m----> 2\u001b[0m cburn_library \u001b[38;5;241m=\u001b[39m \u001b[43mreaclib_library\u001b[49m\u001b[38;5;241m.\u001b[39mlinking_nuclei(nuclei)\n\u001b[1;32m      3\u001b[0m rc \u001b[38;5;241m=\u001b[39m pyna\u001b[38;5;241m.\u001b[39mRateCollection(libraries\u001b[38;5;241m=\u001b[39m[cburn_library])\n\u001b[1;32m      4\u001b[0m rc\n",
      "\u001b[0;31mNameError\u001b[0m: name 'reaclib_library' is not defined"
     ]
    }
   ],
   "source": [
    "nuclei += [\"mg24\"]\n",
    "cburn_library = reaclib_library.linking_nuclei(nuclei)\n",
    "rc = pyna.RateCollection(libraries=[cburn_library])\n",
    "rc"
   ]
  },
  {
   "cell_type": "code",
   "execution_count": 9,
   "id": "754e2898-1d65-495e-ac05-e1f45b151b71",
   "metadata": {
    "execution": {
     "iopub.execute_input": "2024-10-19T09:36:03.445262Z",
     "iopub.status.busy": "2024-10-19T09:36:03.444938Z",
     "iopub.status.idle": "2024-10-19T09:36:03.455159Z",
     "shell.execute_reply": "2024-10-19T09:36:03.454719Z"
    },
    "tags": []
   },
   "outputs": [
    {
     "ename": "NameError",
     "evalue": "name 'rc' is not defined",
     "output_type": "error",
     "traceback": [
      "\u001b[0;31m---------------------------------------------------------------------------\u001b[0m",
      "\u001b[0;31mNameError\u001b[0m                                 Traceback (most recent call last)",
      "Cell \u001b[0;32mIn[9], line 1\u001b[0m\n\u001b[0;32m----> 1\u001b[0m \u001b[43mrc\u001b[49m\u001b[38;5;241m.\u001b[39mvalidate(reaclib_library)\n",
      "\u001b[0;31mNameError\u001b[0m: name 'rc' is not defined"
     ]
    }
   ],
   "source": [
    "rc.validate(reaclib_library)"
   ]
  },
  {
   "cell_type": "markdown",
   "id": "78f5f05d-8466-4f08-aafc-09331faa3587",
   "metadata": {
    "user_expressions": []
   },
   "source": [
    "This now seems reasonable.  The reactions that are missing are all endothermic."
   ]
  },
  {
   "cell_type": "code",
   "execution_count": 10,
   "id": "7d6ff645-2100-4f9b-b944-cdc581a2836e",
   "metadata": {
    "execution": {
     "iopub.execute_input": "2024-10-19T09:36:03.456754Z",
     "iopub.status.busy": "2024-10-19T09:36:03.456474Z",
     "iopub.status.idle": "2024-10-19T09:36:03.466896Z",
     "shell.execute_reply": "2024-10-19T09:36:03.466328Z"
    },
    "tags": []
   },
   "outputs": [
    {
     "ename": "NameError",
     "evalue": "name 'rc' is not defined",
     "output_type": "error",
     "traceback": [
      "\u001b[0;31m---------------------------------------------------------------------------\u001b[0m",
      "\u001b[0;31mNameError\u001b[0m                                 Traceback (most recent call last)",
      "Cell \u001b[0;32mIn[10], line 1\u001b[0m\n\u001b[0;32m----> 1\u001b[0m fig \u001b[38;5;241m=\u001b[39m \u001b[43mrc\u001b[49m\u001b[38;5;241m.\u001b[39mplot(curved_edges\u001b[38;5;241m=\u001b[39m\u001b[38;5;28;01mTrue\u001b[39;00m)\n",
      "\u001b[0;31mNameError\u001b[0m: name 'rc' is not defined"
     ]
    }
   ],
   "source": [
    "fig = rc.plot(curved_edges=True)"
   ]
  }
 ],
 "metadata": {
  "kernelspec": {
   "display_name": "Python 3 (ipykernel)",
   "language": "python",
   "name": "python3"
  },
  "language_info": {
   "codemirror_mode": {
    "name": "ipython",
    "version": 3
   },
   "file_extension": ".py",
   "mimetype": "text/x-python",
   "name": "python",
   "nbconvert_exporter": "python",
   "pygments_lexer": "ipython3",
   "version": "3.11.10"
  }
 },
 "nbformat": 4,
 "nbformat_minor": 5
}
