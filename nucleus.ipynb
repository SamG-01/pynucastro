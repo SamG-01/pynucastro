{
 "cells": [
  {
   "cell_type": "markdown",
   "id": "3ad312b1-df8e-442f-b4ca-0e48f8495a64",
   "metadata": {},
   "source": [
    "# Nuclear Properties"
   ]
  },
  {
   "cell_type": "markdown",
   "id": "00fc9bd0-7cee-405d-bb7b-687a2d91bec9",
   "metadata": {},
   "source": [
    "pynucastro gets basic nuclear data from the [Nubase evaluation](https://www-nds.iaea.org/amdc/) (currently the Nubase2020 data).  This provides the mass excesses, $\\Delta m$, and spins.  From this, we compute the binding energy, $B$, and mass\n",
    "of the nucleus, $m$ as:\n",
    "\n",
    "$$m = A m_u + \\Delta m$$\n",
    "\n",
    "$$B = Z m_H + N m_n - m$$\n",
    "\n",
    "where $m_u$ is the atomic mass unit and $m_n$ is the neutron mass, both taken from the CODATA physical constants database.  $m_H$ is the mass of ${}^{1}\\mathrm{H}$, which is computed from the mass excess of ${}^{1}\\mathrm{H}$."
   ]
  },
  {
   "cell_type": "markdown",
   "id": "21ae31d7-9620-4a59-b5e1-c836d25a8a1f",
   "metadata": {},
   "source": [
    "Binding energies are also computed and tablulated in the AME mass evaluation (see [AME2020 mass table](https://www-nds.iaea.org/amdc/ame2020/mass_1.mas20.txt)].  But note that the Nubase evaluation seems to more closely follow\n",
    "the \"rounded\" version of the table [AME2020 rounded mass table](https://www-nds.iaea.org/amdc/ame2020/massround.mas20.txt).  The rounding procedure is discussed in Table I on the [AME 2020 paper II](https://iopscience.iop.org/article/10.1088/1674-1137/abddaf) (also see the [Nubase2020 paper](https://iopscience.iop.org/article/10.1088/1674-1137/abddae), Table I)."
   ]
  },
  {
   "cell_type": "code",
   "execution_count": 1,
   "id": "f7511e0a-f7a2-444f-bd8d-1e4491909879",
   "metadata": {
    "execution": {
     "iopub.execute_input": "2024-10-10T09:41:08.386071Z",
     "iopub.status.busy": "2024-10-10T09:41:08.385763Z",
     "iopub.status.idle": "2024-10-10T09:41:08.928590Z",
     "shell.execute_reply": "2024-10-10T09:41:08.927954Z"
    }
   },
   "outputs": [
    {
     "ename": "ValueError",
     "evalue": "could not convert string to float: 'evaluation'",
     "output_type": "error",
     "traceback": [
      "\u001b[0;31m---------------------------------------------------------------------------\u001b[0m",
      "\u001b[0;31mValueError\u001b[0m                                Traceback (most recent call last)",
      "Cell \u001b[0;32mIn[1], line 1\u001b[0m\n\u001b[0;32m----> 1\u001b[0m \u001b[38;5;28;01mfrom\u001b[39;00m \u001b[38;5;21;01mpynucastro\u001b[39;00m \u001b[38;5;28;01mimport\u001b[39;00m Nucleus\n",
      "File \u001b[0;32m/opt/hostedtoolcache/Python/3.11.10/x64/lib/python3.11/site-packages/pynucastro/__init__.py:131\u001b[0m\n\u001b[1;32m    126\u001b[0m \u001b[38;5;28;01mfrom\u001b[39;00m \u001b[38;5;21;01m.\u001b[39;00m\u001b[38;5;21;01m_version\u001b[39;00m \u001b[38;5;28;01mimport\u001b[39;00m version\n\u001b[1;32m    128\u001b[0m __version__ \u001b[38;5;241m=\u001b[39m version\n\u001b[0;32m--> 131\u001b[0m \u001b[38;5;28;01mimport\u001b[39;00m \u001b[38;5;21;01mpynucastro\u001b[39;00m\u001b[38;5;21;01m.\u001b[39;00m\u001b[38;5;21;01mscreening\u001b[39;00m\n\u001b[1;32m    132\u001b[0m \u001b[38;5;28;01mfrom\u001b[39;00m \u001b[38;5;21;01mpynucastro\u001b[39;00m\u001b[38;5;21;01m.\u001b[39;00m\u001b[38;5;21;01mnetworks\u001b[39;00m \u001b[38;5;28;01mimport\u001b[39;00m (AmrexAstroCxxNetwork, BaseCxxNetwork,\n\u001b[1;32m    133\u001b[0m                                  Composition, Explorer, NSENetwork,\n\u001b[1;32m    134\u001b[0m                                  NumpyNetwork, PythonNetwork, RateCollection,\n\u001b[1;32m    135\u001b[0m                                  SimpleCxxNetwork, StarKillerCxxNetwork,\n\u001b[1;32m    136\u001b[0m                                  SympyRates)\n\u001b[1;32m    137\u001b[0m \u001b[38;5;28;01mfrom\u001b[39;00m \u001b[38;5;21;01mpynucastro\u001b[39;00m\u001b[38;5;21;01m.\u001b[39;00m\u001b[38;5;21;01mnucdata\u001b[39;00m \u001b[38;5;28;01mimport\u001b[39;00m Nucleus, get_all_nuclei, get_nuclei_in_range\n",
      "File \u001b[0;32m/opt/hostedtoolcache/Python/3.11.10/x64/lib/python3.11/site-packages/pynucastro/screening/__init__.py:5\u001b[0m\n\u001b[1;32m      1\u001b[0m \u001b[38;5;124;03m\"\"\"Screening routines\"\"\"\u001b[39;00m\n\u001b[1;32m      3\u001b[0m __all__ \u001b[38;5;241m=\u001b[39m [\u001b[38;5;124m\"\u001b[39m\u001b[38;5;124mscreen\u001b[39m\u001b[38;5;124m\"\u001b[39m, \u001b[38;5;124m\"\u001b[39m\u001b[38;5;124mscreening_util\u001b[39m\u001b[38;5;124m\"\u001b[39m]\n\u001b[0;32m----> 5\u001b[0m \u001b[38;5;28;01mfrom\u001b[39;00m \u001b[38;5;21;01m.\u001b[39;00m\u001b[38;5;21;01mscreen\u001b[39;00m \u001b[38;5;28;01mimport\u001b[39;00m (NseState, PlasmaState, ScreenFactors, chugunov_2007,\n\u001b[1;32m      6\u001b[0m                      chugunov_2009, make_plasma_state, make_screen_factors,\n\u001b[1;32m      7\u001b[0m                      potekhin_1998, screen5)\n\u001b[1;32m      8\u001b[0m \u001b[38;5;28;01mfrom\u001b[39;00m \u001b[38;5;21;01m.\u001b[39;00m\u001b[38;5;21;01mscreening_util\u001b[39;00m \u001b[38;5;28;01mimport\u001b[39;00m ScreeningPair, get_screening_map\n",
      "File \u001b[0;32m/opt/hostedtoolcache/Python/3.11.10/x64/lib/python3.11/site-packages/pynucastro/screening/screen.py:7\u001b[0m\n\u001b[1;32m      4\u001b[0m \u001b[38;5;28;01mimport\u001b[39;00m \u001b[38;5;21;01mnumpy\u001b[39;00m \u001b[38;5;28;01mas\u001b[39;00m \u001b[38;5;21;01mnp\u001b[39;00m\n\u001b[1;32m      6\u001b[0m \u001b[38;5;28;01mfrom\u001b[39;00m \u001b[38;5;21;01mpynucastro\u001b[39;00m\u001b[38;5;21;01m.\u001b[39;00m\u001b[38;5;21;01mconstants\u001b[39;00m \u001b[38;5;28;01mimport\u001b[39;00m constants\n\u001b[0;32m----> 7\u001b[0m \u001b[38;5;28;01mfrom\u001b[39;00m \u001b[38;5;21;01mpynucastro\u001b[39;00m\u001b[38;5;21;01m.\u001b[39;00m\u001b[38;5;21;01mnucdata\u001b[39;00m \u001b[38;5;28;01mimport\u001b[39;00m Nucleus\n\u001b[1;32m      8\u001b[0m \u001b[38;5;66;03m# use the jitclass placeholder from rate.py\u001b[39;00m\n\u001b[1;32m      9\u001b[0m \u001b[38;5;28;01mfrom\u001b[39;00m \u001b[38;5;21;01mpynucastro\u001b[39;00m\u001b[38;5;21;01m.\u001b[39;00m\u001b[38;5;21;01mrates\u001b[39;00m\u001b[38;5;21;01m.\u001b[39;00m\u001b[38;5;21;01mrate\u001b[39;00m \u001b[38;5;28;01mimport\u001b[39;00m jitclass, numba\n",
      "File \u001b[0;32m/opt/hostedtoolcache/Python/3.11.10/x64/lib/python3.11/site-packages/pynucastro/nucdata/__init__.py:10\u001b[0m\n\u001b[1;32m      8\u001b[0m \u001b[38;5;28;01mfrom\u001b[39;00m \u001b[38;5;21;01m.\u001b[39;00m\u001b[38;5;21;01melements\u001b[39;00m \u001b[38;5;28;01mimport\u001b[39;00m Element, PeriodicTable, UnidentifiedElement\n\u001b[1;32m      9\u001b[0m \u001b[38;5;28;01mfrom\u001b[39;00m \u001b[38;5;21;01m.\u001b[39;00m\u001b[38;5;21;01mmass_table\u001b[39;00m \u001b[38;5;28;01mimport\u001b[39;00m MassTable\n\u001b[0;32m---> 10\u001b[0m \u001b[38;5;28;01mfrom\u001b[39;00m \u001b[38;5;21;01m.\u001b[39;00m\u001b[38;5;21;01mnucleus\u001b[39;00m \u001b[38;5;28;01mimport\u001b[39;00m (Nucleus, UnsupportedNucleus, get_all_nuclei,\n\u001b[1;32m     11\u001b[0m                       get_nuclei_in_range)\n\u001b[1;32m     12\u001b[0m \u001b[38;5;28;01mfrom\u001b[39;00m \u001b[38;5;21;01m.\u001b[39;00m\u001b[38;5;21;01mpartition_function\u001b[39;00m \u001b[38;5;28;01mimport\u001b[39;00m (PartitionFunction,\n\u001b[1;32m     13\u001b[0m                                  PartitionFunctionCollection,\n\u001b[1;32m     14\u001b[0m                                  PartitionFunctionTable)\n\u001b[1;32m     15\u001b[0m \u001b[38;5;28;01mfrom\u001b[39;00m \u001b[38;5;21;01m.\u001b[39;00m\u001b[38;5;21;01mspin_table\u001b[39;00m \u001b[38;5;28;01mimport\u001b[39;00m SpinTable\n",
      "File \u001b[0;32m/opt/hostedtoolcache/Python/3.11.10/x64/lib/python3.11/site-packages/pynucastro/nucdata/nucleus.py:21\u001b[0m\n\u001b[1;32m     19\u001b[0m \u001b[38;5;66;03m# read the various tables with nuclear properties at the module-level\u001b[39;00m\n\u001b[1;32m     20\u001b[0m _mass_table \u001b[38;5;241m=\u001b[39m MassTable()\n\u001b[0;32m---> 21\u001b[0m _halflife_table \u001b[38;5;241m=\u001b[39m \u001b[43mHalfLifeTable\u001b[49m\u001b[43m(\u001b[49m\u001b[43m)\u001b[49m\n\u001b[1;32m     22\u001b[0m _spin_table \u001b[38;5;241m=\u001b[39m SpinTable(reliable\u001b[38;5;241m=\u001b[39m\u001b[38;5;28;01mTrue\u001b[39;00m)\n\u001b[1;32m     24\u001b[0m \u001b[38;5;66;03m# read the partition function table once and store it at the module-level\u001b[39;00m\n",
      "File \u001b[0;32m/opt/hostedtoolcache/Python/3.11.10/x64/lib/python3.11/site-packages/pynucastro/nucdata/halflife_table.py:20\u001b[0m, in \u001b[0;36mHalfLifeTable.__init__\u001b[0;34m(self, filename)\u001b[0m\n\u001b[1;32m     17\u001b[0m     datafile_name \u001b[38;5;241m=\u001b[39m \u001b[38;5;124m'\u001b[39m\u001b[38;5;124mhalflife2020.txt\u001b[39m\u001b[38;5;124m'\u001b[39m\n\u001b[1;32m     18\u001b[0m     \u001b[38;5;28mself\u001b[39m\u001b[38;5;241m.\u001b[39mfilename \u001b[38;5;241m=\u001b[39m nucdata_dir\u001b[38;5;241m/\u001b[39m\u001b[38;5;124m'\u001b[39m\u001b[38;5;124mAtomicMassEvaluation\u001b[39m\u001b[38;5;124m'\u001b[39m\u001b[38;5;241m/\u001b[39mdatafile_name\n\u001b[0;32m---> 20\u001b[0m \u001b[38;5;28;43mself\u001b[39;49m\u001b[38;5;241;43m.\u001b[39;49m\u001b[43m_read_table\u001b[49m\u001b[43m(\u001b[49m\u001b[43m)\u001b[49m\n",
      "File \u001b[0;32m/opt/hostedtoolcache/Python/3.11.10/x64/lib/python3.11/site-packages/pynucastro/nucdata/halflife_table.py:37\u001b[0m, in \u001b[0;36mHalfLifeTable._read_table\u001b[0;34m(self)\u001b[0m\n\u001b[1;32m     34\u001b[0m \u001b[38;5;66;03m#print(data_list)\u001b[39;00m\n\u001b[1;32m     36\u001b[0m \u001b[38;5;28;01mif\u001b[39;00m tau \u001b[38;5;241m!=\u001b[39m \u001b[38;5;124m\"\u001b[39m\u001b[38;5;124mstable\u001b[39m\u001b[38;5;124m\"\u001b[39m:\n\u001b[0;32m---> 37\u001b[0m     tau \u001b[38;5;241m=\u001b[39m \u001b[38;5;28;43mfloat\u001b[39;49m\u001b[43m(\u001b[49m\u001b[43mtau\u001b[49m\u001b[43m)\u001b[49m\n\u001b[1;32m     39\u001b[0m \u001b[38;5;28mself\u001b[39m\u001b[38;5;241m.\u001b[39mhalflife[\u001b[38;5;28mint\u001b[39m(A), \u001b[38;5;28mint\u001b[39m(Z)] \u001b[38;5;241m=\u001b[39m tau\n",
      "\u001b[0;31mValueError\u001b[0m: could not convert string to float: 'evaluation'"
     ]
    }
   ],
   "source": [
    "from pynucastro import Nucleus"
   ]
  },
  {
   "cell_type": "markdown",
   "id": "52b2678b-2e9f-4720-aac9-464ce3348b13",
   "metadata": {},
   "source": [
    "## `Nucleus`\n",
    "\n",
    "The `Nucleus` class manages all of the properties of a nucleus.  We create a `Nucleus` simply by giving the name of the isotope"
   ]
  },
  {
   "cell_type": "code",
   "execution_count": 2,
   "id": "8d47acf7-e00e-4c1a-9349-165076f93cdf",
   "metadata": {
    "execution": {
     "iopub.execute_input": "2024-10-10T09:41:08.930571Z",
     "iopub.status.busy": "2024-10-10T09:41:08.930205Z",
     "iopub.status.idle": "2024-10-10T09:41:08.941015Z",
     "shell.execute_reply": "2024-10-10T09:41:08.940571Z"
    }
   },
   "outputs": [
    {
     "ename": "NameError",
     "evalue": "name 'Nucleus' is not defined",
     "output_type": "error",
     "traceback": [
      "\u001b[0;31m---------------------------------------------------------------------------\u001b[0m",
      "\u001b[0;31mNameError\u001b[0m                                 Traceback (most recent call last)",
      "Cell \u001b[0;32mIn[2], line 1\u001b[0m\n\u001b[0;32m----> 1\u001b[0m he4 \u001b[38;5;241m=\u001b[39m \u001b[43mNucleus\u001b[49m(\u001b[38;5;124m\"\u001b[39m\u001b[38;5;124mhe4\u001b[39m\u001b[38;5;124m\"\u001b[39m)\n",
      "\u001b[0;31mNameError\u001b[0m: name 'Nucleus' is not defined"
     ]
    }
   ],
   "source": [
    "he4 = Nucleus(\"he4\")"
   ]
  },
  {
   "cell_type": "markdown",
   "id": "192a61a1-4ff1-4e85-80c5-4247bce21220",
   "metadata": {},
   "source": [
    "From this we can access the member data:\n",
    "\n",
    "* `Z`, `N`, `A` : the atomic number, neutron number, and atomic mass\n",
    "* `mass` : the mass of the nucleus in MeV\n",
    "* `dm` : the mass excess of the nucleus in MeV\n",
    "* `nucbind` : the nuclear binding energy of the nucleus in MeV / nucleon\n",
    "* `A_nuc` : the mass number of the nucleus (`mass` / atomic mass unit)"
   ]
  },
  {
   "cell_type": "code",
   "execution_count": 3,
   "id": "459bd1ba-1ac4-4a79-89d6-b67219623096",
   "metadata": {
    "execution": {
     "iopub.execute_input": "2024-10-10T09:41:08.942685Z",
     "iopub.status.busy": "2024-10-10T09:41:08.942356Z",
     "iopub.status.idle": "2024-10-10T09:41:08.952797Z",
     "shell.execute_reply": "2024-10-10T09:41:08.952239Z"
    }
   },
   "outputs": [
    {
     "ename": "NameError",
     "evalue": "name 'he4' is not defined",
     "output_type": "error",
     "traceback": [
      "\u001b[0;31m---------------------------------------------------------------------------\u001b[0m",
      "\u001b[0;31mNameError\u001b[0m                                 Traceback (most recent call last)",
      "Cell \u001b[0;32mIn[3], line 1\u001b[0m\n\u001b[0;32m----> 1\u001b[0m \u001b[43mhe4\u001b[49m\u001b[38;5;241m.\u001b[39mZ, he4\u001b[38;5;241m.\u001b[39mA\n",
      "\u001b[0;31mNameError\u001b[0m: name 'he4' is not defined"
     ]
    }
   ],
   "source": [
    "he4.Z, he4.A"
   ]
  },
  {
   "cell_type": "code",
   "execution_count": 4,
   "id": "897450c0-e9e0-42a1-b523-053d42319a58",
   "metadata": {
    "execution": {
     "iopub.execute_input": "2024-10-10T09:41:08.954428Z",
     "iopub.status.busy": "2024-10-10T09:41:08.954119Z",
     "iopub.status.idle": "2024-10-10T09:41:08.964972Z",
     "shell.execute_reply": "2024-10-10T09:41:08.964521Z"
    }
   },
   "outputs": [
    {
     "ename": "NameError",
     "evalue": "name 'he4' is not defined",
     "output_type": "error",
     "traceback": [
      "\u001b[0;31m---------------------------------------------------------------------------\u001b[0m",
      "\u001b[0;31mNameError\u001b[0m                                 Traceback (most recent call last)",
      "Cell \u001b[0;32mIn[4], line 1\u001b[0m\n\u001b[0;32m----> 1\u001b[0m \u001b[43mhe4\u001b[49m\u001b[38;5;241m.\u001b[39mnucbind\n",
      "\u001b[0;31mNameError\u001b[0m: name 'he4' is not defined"
     ]
    }
   ],
   "source": [
    "he4.nucbind"
   ]
  },
  {
   "cell_type": "markdown",
   "id": "dac0aad1-8080-4048-902b-f516f57f9c80",
   "metadata": {},
   "source": [
    "We can also get the partition functions of the nucleus, if it exists.  The data we use mostly provides these for the heavy nuclei."
   ]
  },
  {
   "cell_type": "code",
   "execution_count": 5,
   "id": "2f786e6f-0537-4882-91db-8bc2075dfe43",
   "metadata": {
    "execution": {
     "iopub.execute_input": "2024-10-10T09:41:08.966584Z",
     "iopub.status.busy": "2024-10-10T09:41:08.966292Z",
     "iopub.status.idle": "2024-10-10T09:41:08.976592Z",
     "shell.execute_reply": "2024-10-10T09:41:08.976056Z"
    }
   },
   "outputs": [
    {
     "ename": "NameError",
     "evalue": "name 'Nucleus' is not defined",
     "output_type": "error",
     "traceback": [
      "\u001b[0;31m---------------------------------------------------------------------------\u001b[0m",
      "\u001b[0;31mNameError\u001b[0m                                 Traceback (most recent call last)",
      "Cell \u001b[0;32mIn[5], line 1\u001b[0m\n\u001b[0;32m----> 1\u001b[0m ni56 \u001b[38;5;241m=\u001b[39m \u001b[43mNucleus\u001b[49m(\u001b[38;5;124m\"\u001b[39m\u001b[38;5;124mni56\u001b[39m\u001b[38;5;124m\"\u001b[39m)\n\u001b[1;32m      2\u001b[0m ni56\u001b[38;5;241m.\u001b[39mpartition_function\u001b[38;5;241m.\u001b[39meval(\u001b[38;5;241m4.e9\u001b[39m)\n",
      "\u001b[0;31mNameError\u001b[0m: name 'Nucleus' is not defined"
     ]
    }
   ],
   "source": [
    "ni56 = Nucleus(\"ni56\")\n",
    "ni56.partition_function.eval(4.e9)"
   ]
  },
  {
   "cell_type": "markdown",
   "id": "ba8676b5-83c9-4f7c-bfcd-7fe9e41040f0",
   "metadata": {},
   "source": [
    "## Exploring properties"
   ]
  },
  {
   "cell_type": "markdown",
   "id": "0923c779-d384-4ea8-aaca-9f90d0281f09",
   "metadata": {},
   "source": [
    "Let's look at some nuclei and look at their mass excess, mass, and binding energies"
   ]
  },
  {
   "cell_type": "code",
   "execution_count": 6,
   "id": "07fc3312-491c-4949-89b0-a17838f7c752",
   "metadata": {
    "execution": {
     "iopub.execute_input": "2024-10-10T09:41:08.978304Z",
     "iopub.status.busy": "2024-10-10T09:41:08.977998Z",
     "iopub.status.idle": "2024-10-10T09:41:08.989262Z",
     "shell.execute_reply": "2024-10-10T09:41:08.988716Z"
    }
   },
   "outputs": [
    {
     "ename": "NameError",
     "evalue": "name 'Nucleus' is not defined",
     "output_type": "error",
     "traceback": [
      "\u001b[0;31m---------------------------------------------------------------------------\u001b[0m",
      "\u001b[0;31mNameError\u001b[0m                                 Traceback (most recent call last)",
      "Cell \u001b[0;32mIn[6], line 1\u001b[0m\n\u001b[0;32m----> 1\u001b[0m p \u001b[38;5;241m=\u001b[39m \u001b[43mNucleus\u001b[49m(\u001b[38;5;124m\"\u001b[39m\u001b[38;5;124mp\u001b[39m\u001b[38;5;124m\"\u001b[39m)\n\u001b[1;32m      2\u001b[0m n \u001b[38;5;241m=\u001b[39m Nucleus(\u001b[38;5;124m\"\u001b[39m\u001b[38;5;124mn\u001b[39m\u001b[38;5;124m\"\u001b[39m)\n\u001b[1;32m      3\u001b[0m c12 \u001b[38;5;241m=\u001b[39m Nucleus(\u001b[38;5;124m\"\u001b[39m\u001b[38;5;124mc12\u001b[39m\u001b[38;5;124m\"\u001b[39m)\n",
      "\u001b[0;31mNameError\u001b[0m: name 'Nucleus' is not defined"
     ]
    }
   ],
   "source": [
    "p = Nucleus(\"p\")\n",
    "n = Nucleus(\"n\")\n",
    "c12 = Nucleus(\"c12\")\n",
    "ne22 = Nucleus(\"ne22\")\n",
    "ti43 = Nucleus(\"ti43\")\n",
    "fe56 = Nucleus(\"fe56\")"
   ]
  },
  {
   "cell_type": "code",
   "execution_count": 7,
   "id": "ad96edc6-1705-4573-a086-0f8097af8e52",
   "metadata": {
    "execution": {
     "iopub.execute_input": "2024-10-10T09:41:08.990994Z",
     "iopub.status.busy": "2024-10-10T09:41:08.990700Z",
     "iopub.status.idle": "2024-10-10T09:41:09.002005Z",
     "shell.execute_reply": "2024-10-10T09:41:09.001447Z"
    }
   },
   "outputs": [
    {
     "ename": "NameError",
     "evalue": "name 'p' is not defined",
     "output_type": "error",
     "traceback": [
      "\u001b[0;31m---------------------------------------------------------------------------\u001b[0m",
      "\u001b[0;31mNameError\u001b[0m                                 Traceback (most recent call last)",
      "Cell \u001b[0;32mIn[7], line 1\u001b[0m\n\u001b[0;32m----> 1\u001b[0m \u001b[38;5;28;01mfor\u001b[39;00m nuc \u001b[38;5;129;01min\u001b[39;00m [\u001b[43mp\u001b[49m, n, c12, ne22, ti43, fe56]:\n\u001b[1;32m      2\u001b[0m     \u001b[38;5;28mprint\u001b[39m(\u001b[38;5;124mf\u001b[39m\u001b[38;5;124m\"\u001b[39m\u001b[38;5;132;01m{\u001b[39;00m\u001b[38;5;28mstr\u001b[39m(nuc)\u001b[38;5;132;01m:\u001b[39;00m\u001b[38;5;124m6\u001b[39m\u001b[38;5;132;01m}\u001b[39;00m\u001b[38;5;124m \u001b[39m\u001b[38;5;132;01m{\u001b[39;00mnuc\u001b[38;5;241m.\u001b[39mdm\u001b[38;5;132;01m:\u001b[39;00m\u001b[38;5;124m15.8\u001b[39m\u001b[38;5;132;01m}\u001b[39;00m\u001b[38;5;124m \u001b[39m\u001b[38;5;132;01m{\u001b[39;00mnuc\u001b[38;5;241m.\u001b[39mmass\u001b[38;5;132;01m:\u001b[39;00m\u001b[38;5;124m15.8f\u001b[39m\u001b[38;5;132;01m}\u001b[39;00m\u001b[38;5;124m \u001b[39m\u001b[38;5;132;01m{\u001b[39;00mnuc\u001b[38;5;241m.\u001b[39mnucbind\u001b[38;5;132;01m:\u001b[39;00m\u001b[38;5;124m15.8f\u001b[39m\u001b[38;5;132;01m}\u001b[39;00m\u001b[38;5;124m\"\u001b[39m)\n",
      "\u001b[0;31mNameError\u001b[0m: name 'p' is not defined"
     ]
    }
   ],
   "source": [
    "for nuc in [p, n, c12, ne22, ti43, fe56]:\n",
    "    print(f\"{str(nuc):6} {nuc.dm:15.8} {nuc.mass:15.8f} {nuc.nucbind:15.8f}\")"
   ]
  },
  {
   "cell_type": "markdown",
   "id": "7d1e9fb5-7fe3-48d5-9981-a15021b0d86a",
   "metadata": {},
   "source": [
    "We see that the binding energy for protons and neutrons are zero, as expected."
   ]
  },
  {
   "cell_type": "markdown",
   "id": "723edee9-6d5c-4c1c-9450-7d09883b31df",
   "metadata": {},
   "source": [
    "For ${}^{12}\\mathrm{C}$ the binding energy compares well with the tablulated version from the rounded AME 2020 of `7680.145`."
   ]
  },
  {
   "cell_type": "markdown",
   "id": "ce9b0df6-d556-4b99-bf70-c7c5dcefd523",
   "metadata": {},
   "source": [
    "For ${}^{22}\\mathrm{Ne}$ the binding energy compares well with the tablulated version from the rounded AME 2020 of `8080.466`."
   ]
  },
  {
   "cell_type": "markdown",
   "id": "b9e62dad-aaf1-4071-9758-85ade1033a18",
   "metadata": {},
   "source": [
    "For ${}^{43}\\mathrm{Ti}$ the binding energy compares well with the tablulated version from the rounded AME 2020 of `8352.81`."
   ]
  },
  {
   "cell_type": "markdown",
   "id": "0d9122d8-8242-45c2-8a8b-5ac9b790eb4c",
   "metadata": {},
   "source": [
    "For ${}^{56}\\mathrm{Fe}$ the binding energy compares well with the tablulated version from the rounded AME 2020 of `8790.356`."
   ]
  },
  {
   "cell_type": "code",
   "execution_count": 8,
   "id": "36458c33-9472-4525-8967-dba557674a04",
   "metadata": {
    "execution": {
     "iopub.execute_input": "2024-10-10T09:41:09.003881Z",
     "iopub.status.busy": "2024-10-10T09:41:09.003451Z",
     "iopub.status.idle": "2024-10-10T09:41:09.006180Z",
     "shell.execute_reply": "2024-10-10T09:41:09.005650Z"
    }
   },
   "outputs": [],
   "source": [
    "from pynucastro.constants import constants"
   ]
  },
  {
   "cell_type": "markdown",
   "id": "e0f8fd74-98d0-4224-8f13-bc618bc714be",
   "metadata": {},
   "source": [
    "We also see that the mass of ${}^{12}\\mathrm{C}$ agrees with the atomic mass unit from the CODATA compilation:"
   ]
  },
  {
   "cell_type": "code",
   "execution_count": 9,
   "id": "72e24505-ab91-4822-9544-cfeee7926579",
   "metadata": {
    "execution": {
     "iopub.execute_input": "2024-10-10T09:41:09.007951Z",
     "iopub.status.busy": "2024-10-10T09:41:09.007626Z",
     "iopub.status.idle": "2024-10-10T09:41:09.018364Z",
     "shell.execute_reply": "2024-10-10T09:41:09.017783Z"
    }
   },
   "outputs": [
    {
     "ename": "NameError",
     "evalue": "name 'c12' is not defined",
     "output_type": "error",
     "traceback": [
      "\u001b[0;31m---------------------------------------------------------------------------\u001b[0m",
      "\u001b[0;31mNameError\u001b[0m                                 Traceback (most recent call last)",
      "Cell \u001b[0;32mIn[9], line 1\u001b[0m\n\u001b[0;32m----> 1\u001b[0m \u001b[43mc12\u001b[49m\u001b[38;5;241m.\u001b[39mmass \u001b[38;5;241m/\u001b[39m \u001b[38;5;241m12\u001b[39m \u001b[38;5;241m-\u001b[39m constants\u001b[38;5;241m.\u001b[39mm_u_MeV\n",
      "\u001b[0;31mNameError\u001b[0m: name 'c12' is not defined"
     ]
    }
   ],
   "source": [
    "c12.mass / 12 - constants.m_u_MeV"
   ]
  }
 ],
 "metadata": {
  "kernelspec": {
   "display_name": "Python 3 (ipykernel)",
   "language": "python",
   "name": "python3"
  },
  "language_info": {
   "codemirror_mode": {
    "name": "ipython",
    "version": 3
   },
   "file_extension": ".py",
   "mimetype": "text/x-python",
   "name": "python",
   "nbconvert_exporter": "python",
   "pygments_lexer": "ipython3",
   "version": "3.11.10"
  }
 },
 "nbformat": 4,
 "nbformat_minor": 5
}
