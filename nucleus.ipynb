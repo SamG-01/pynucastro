{
 "cells": [
  {
   "cell_type": "markdown",
   "id": "3ad312b1-df8e-442f-b4ca-0e48f8495a64",
   "metadata": {},
   "source": [
    "# Nuclear Properties"
   ]
  },
  {
   "cell_type": "markdown",
   "id": "00fc9bd0-7cee-405d-bb7b-687a2d91bec9",
   "metadata": {},
   "source": [
    "pynucastro gets basic nuclear data from the [Nubase evaluation](https://www-nds.iaea.org/amdc/) (currently the Nubase2020 data).  This provides the mass excesses, $\\Delta m$, and spins.  From this, we compute the binding energy, $B$, and mass\n",
    "of the nucleus, $m$ as:\n",
    "\n",
    "$$m = A m_u + \\Delta m$$\n",
    "\n",
    "$$B = Z m_H + N m_n - m$$\n",
    "\n",
    "where $m_u$ is the atomic mass unit and $m_n$ is the neutron mass, both taken from the CODATA physical constants database.  $m_H$ is the mass of ${}^{1}\\mathrm{H}$, which is computed from the mass excess of ${}^{1}\\mathrm{H}$."
   ]
  },
  {
   "cell_type": "markdown",
   "id": "21ae31d7-9620-4a59-b5e1-c836d25a8a1f",
   "metadata": {},
   "source": [
    "Binding energies are also computed and tablulated in the AME mass evaluation (see [AME2020 mass table](https://www-nds.iaea.org/amdc/ame2020/mass_1.mas20.txt)].  But note that the Nubase evaluation seems to more closely follow\n",
    "the \"rounded\" version of the table [AME2020 rounded mass table](https://www-nds.iaea.org/amdc/ame2020/massround.mas20.txt).  The rounding procedure is discussed in Table I on the [AME 2020 paper II](https://iopscience.iop.org/article/10.1088/1674-1137/abddaf) (also see the [Nubase2020 paper](https://iopscience.iop.org/article/10.1088/1674-1137/abddae), Table I)."
   ]
  },
  {
   "cell_type": "code",
   "execution_count": 1,
   "id": "f7511e0a-f7a2-444f-bd8d-1e4491909879",
   "metadata": {
    "execution": {
     "iopub.execute_input": "2024-10-17T07:29:38.634403Z",
     "iopub.status.busy": "2024-10-17T07:29:38.634007Z",
     "iopub.status.idle": "2024-10-17T07:29:40.152612Z",
     "shell.execute_reply": "2024-10-17T07:29:40.151959Z"
    }
   },
   "outputs": [
    {
     "ename": "AttributeError",
     "evalue": "module 'warnings' has no attribute 'LiteralString'",
     "output_type": "error",
     "traceback": [
      "\u001b[0;31m---------------------------------------------------------------------------\u001b[0m",
      "\u001b[0;31mAttributeError\u001b[0m                            Traceback (most recent call last)",
      "Cell \u001b[0;32mIn[1], line 1\u001b[0m\n\u001b[0;32m----> 1\u001b[0m \u001b[38;5;28;01mfrom\u001b[39;00m \u001b[38;5;21;01mpynucastro\u001b[39;00m \u001b[38;5;28;01mimport\u001b[39;00m Nucleus\n",
      "File \u001b[0;32m/opt/hostedtoolcache/Python/3.11.10/x64/lib/python3.11/site-packages/pynucastro/__init__.py:131\u001b[0m\n\u001b[1;32m    126\u001b[0m \u001b[38;5;28;01mfrom\u001b[39;00m \u001b[38;5;21;01m.\u001b[39;00m\u001b[38;5;21;01m_version\u001b[39;00m \u001b[38;5;28;01mimport\u001b[39;00m version\n\u001b[1;32m    128\u001b[0m __version__ \u001b[38;5;241m=\u001b[39m version\n\u001b[0;32m--> 131\u001b[0m \u001b[38;5;28;01mimport\u001b[39;00m \u001b[38;5;21;01mpynucastro\u001b[39;00m\u001b[38;5;21;01m.\u001b[39;00m\u001b[38;5;21;01mscreening\u001b[39;00m\n\u001b[1;32m    132\u001b[0m \u001b[38;5;28;01mfrom\u001b[39;00m \u001b[38;5;21;01mpynucastro\u001b[39;00m\u001b[38;5;21;01m.\u001b[39;00m\u001b[38;5;21;01mnetworks\u001b[39;00m \u001b[38;5;28;01mimport\u001b[39;00m (AmrexAstroCxxNetwork, BaseCxxNetwork,\n\u001b[1;32m    133\u001b[0m                                  Composition, Explorer, NSENetwork,\n\u001b[1;32m    134\u001b[0m                                  NumpyNetwork, PythonNetwork, RateCollection,\n\u001b[1;32m    135\u001b[0m                                  SimpleCxxNetwork, StarKillerCxxNetwork,\n\u001b[1;32m    136\u001b[0m                                  SympyRates)\n\u001b[1;32m    137\u001b[0m \u001b[38;5;28;01mfrom\u001b[39;00m \u001b[38;5;21;01mpynucastro\u001b[39;00m\u001b[38;5;21;01m.\u001b[39;00m\u001b[38;5;21;01mnucdata\u001b[39;00m \u001b[38;5;28;01mimport\u001b[39;00m Nucleus, get_all_nuclei, get_nuclei_in_range\n",
      "File \u001b[0;32m/opt/hostedtoolcache/Python/3.11.10/x64/lib/python3.11/site-packages/pynucastro/screening/__init__.py:5\u001b[0m\n\u001b[1;32m      1\u001b[0m \u001b[38;5;124;03m\"\"\"Screening routines\"\"\"\u001b[39;00m\n\u001b[1;32m      3\u001b[0m __all__ \u001b[38;5;241m=\u001b[39m [\u001b[38;5;124m\"\u001b[39m\u001b[38;5;124mscreen\u001b[39m\u001b[38;5;124m\"\u001b[39m, \u001b[38;5;124m\"\u001b[39m\u001b[38;5;124mscreening_util\u001b[39m\u001b[38;5;124m\"\u001b[39m]\n\u001b[0;32m----> 5\u001b[0m \u001b[38;5;28;01mfrom\u001b[39;00m \u001b[38;5;21;01m.\u001b[39;00m\u001b[38;5;21;01mscreen\u001b[39;00m \u001b[38;5;28;01mimport\u001b[39;00m (NseState, PlasmaState, ScreenFactors, chugunov_2007,\n\u001b[1;32m      6\u001b[0m                      chugunov_2009, make_plasma_state, make_screen_factors,\n\u001b[1;32m      7\u001b[0m                      potekhin_1998, screen5)\n\u001b[1;32m      8\u001b[0m \u001b[38;5;28;01mfrom\u001b[39;00m \u001b[38;5;21;01m.\u001b[39;00m\u001b[38;5;21;01mscreening_util\u001b[39;00m \u001b[38;5;28;01mimport\u001b[39;00m ScreeningPair, get_screening_map\n",
      "File \u001b[0;32m/opt/hostedtoolcache/Python/3.11.10/x64/lib/python3.11/site-packages/pynucastro/screening/screen.py:9\u001b[0m\n\u001b[1;32m      7\u001b[0m \u001b[38;5;28;01mfrom\u001b[39;00m \u001b[38;5;21;01mpynucastro\u001b[39;00m\u001b[38;5;21;01m.\u001b[39;00m\u001b[38;5;21;01mnucdata\u001b[39;00m \u001b[38;5;28;01mimport\u001b[39;00m Nucleus\n\u001b[1;32m      8\u001b[0m \u001b[38;5;66;03m# use the jitclass placeholder from rate.py\u001b[39;00m\n\u001b[0;32m----> 9\u001b[0m \u001b[38;5;28;01mfrom\u001b[39;00m \u001b[38;5;21;01mpynucastro\u001b[39;00m\u001b[38;5;21;01m.\u001b[39;00m\u001b[38;5;21;01mrates\u001b[39;00m\u001b[38;5;21;01m.\u001b[39;00m\u001b[38;5;21;01mrate\u001b[39;00m \u001b[38;5;28;01mimport\u001b[39;00m jitclass, numba\n\u001b[1;32m     11\u001b[0m \u001b[38;5;28;01mif\u001b[39;00m numba \u001b[38;5;129;01mis\u001b[39;00m \u001b[38;5;129;01mnot\u001b[39;00m \u001b[38;5;28;01mNone\u001b[39;00m:\n\u001b[1;32m     12\u001b[0m     njit \u001b[38;5;241m=\u001b[39m numba\u001b[38;5;241m.\u001b[39mnjit\n",
      "File \u001b[0;32m/opt/hostedtoolcache/Python/3.11.10/x64/lib/python3.11/site-packages/pynucastro/rates/__init__.py:5\u001b[0m\n\u001b[1;32m      1\u001b[0m \u001b[38;5;124;03m\"\"\"The core routines needed to read and interpret nuclear reaction rates\"\"\"\u001b[39;00m\n\u001b[1;32m      3\u001b[0m __all__ \u001b[38;5;241m=\u001b[39m [\u001b[38;5;124m\"\u001b[39m\u001b[38;5;124mapproximate_rates\u001b[39m\u001b[38;5;124m\"\u001b[39m, \u001b[38;5;124m\"\u001b[39m\u001b[38;5;124mrate\u001b[39m\u001b[38;5;124m\"\u001b[39m, \u001b[38;5;124m\"\u001b[39m\u001b[38;5;124mlibrary\u001b[39m\u001b[38;5;124m\"\u001b[39m]\n\u001b[0;32m----> 5\u001b[0m \u001b[38;5;28;01mfrom\u001b[39;00m \u001b[38;5;21;01m.\u001b[39;00m\u001b[38;5;21;01mapproximate_rates\u001b[39;00m \u001b[38;5;28;01mimport\u001b[39;00m ApproximateRate\n\u001b[1;32m      6\u001b[0m \u001b[38;5;28;01mfrom\u001b[39;00m \u001b[38;5;21;01m.\u001b[39;00m\u001b[38;5;21;01mknown_duplicates\u001b[39;00m \u001b[38;5;28;01mimport\u001b[39;00m find_duplicate_rates, is_allowed_dupe\n\u001b[1;32m      7\u001b[0m \u001b[38;5;28;01mfrom\u001b[39;00m \u001b[38;5;21;01m.\u001b[39;00m\u001b[38;5;21;01mlibrary\u001b[39;00m \u001b[38;5;28;01mimport\u001b[39;00m (LangankeLibrary, Library, RateFilter, ReacLibLibrary,\n\u001b[1;32m      8\u001b[0m                       SuzukiLibrary, TabularLibrary, list_known_rates)\n",
      "File \u001b[0;32m/opt/hostedtoolcache/Python/3.11.10/x64/lib/python3.11/site-packages/pynucastro/rates/approximate_rates.py:2\u001b[0m\n\u001b[1;32m      1\u001b[0m \u001b[38;5;28;01mfrom\u001b[39;00m \u001b[38;5;21;01mpynucastro\u001b[39;00m\u001b[38;5;21;01m.\u001b[39;00m\u001b[38;5;21;01mnucdata\u001b[39;00m \u001b[38;5;28;01mimport\u001b[39;00m Nucleus\n\u001b[0;32m----> 2\u001b[0m \u001b[38;5;28;01mfrom\u001b[39;00m \u001b[38;5;21;01mpynucastro\u001b[39;00m\u001b[38;5;21;01m.\u001b[39;00m\u001b[38;5;21;01mrates\u001b[39;00m\u001b[38;5;21;01m.\u001b[39;00m\u001b[38;5;21;01mrate\u001b[39;00m \u001b[38;5;28;01mimport\u001b[39;00m Rate\n\u001b[1;32m      5\u001b[0m \u001b[38;5;28;01mclass\u001b[39;00m \u001b[38;5;21;01mApproximateRate\u001b[39;00m(Rate):\n\u001b[1;32m      7\u001b[0m     \u001b[38;5;28;01mdef\u001b[39;00m \u001b[38;5;21m__init__\u001b[39m(\u001b[38;5;28mself\u001b[39m, primary_rate: Rate, secondary_rates: \u001b[38;5;28mlist\u001b[39m[Rate],\n\u001b[1;32m      8\u001b[0m                  primary_reverse: Rate, secondary_reverse: \u001b[38;5;28mlist\u001b[39m[Rate],\n\u001b[1;32m      9\u001b[0m                  is_reverse: \u001b[38;5;28mbool\u001b[39m \u001b[38;5;241m=\u001b[39m \u001b[38;5;28;01mFalse\u001b[39;00m, approx_type: \u001b[38;5;28mstr\u001b[39m\u001b[38;5;241m=\u001b[39m \u001b[38;5;124m\"\u001b[39m\u001b[38;5;124map_pg\u001b[39m\u001b[38;5;124m\"\u001b[39m) \u001b[38;5;241m-\u001b[39m\u001b[38;5;241m>\u001b[39m \u001b[38;5;28;01mNone\u001b[39;00m:\n",
      "File \u001b[0;32m/opt/hostedtoolcache/Python/3.11.10/x64/lib/python3.11/site-packages/pynucastro/rates/rate.py:313\u001b[0m\n\u001b[1;32m    309\u001b[0m         string \u001b[38;5;241m+\u001b[39m\u001b[38;5;241m=\u001b[39m \u001b[38;5;124m\"\u001b[39m\u001b[38;5;124m;\u001b[39m\u001b[38;5;124m\"\u001b[39m\n\u001b[1;32m    310\u001b[0m         \u001b[38;5;28;01mreturn\u001b[39;00m string\n\u001b[0;32m--> 313\u001b[0m \u001b[38;5;28;43;01mclass\u001b[39;49;00m\u001b[43m \u001b[49m\u001b[38;5;21;43;01mRate\u001b[39;49;00m\u001b[43m:\u001b[49m\n\u001b[1;32m    314\u001b[0m \u001b[38;5;250;43m    \u001b[39;49m\u001b[38;5;124;43;03m\"\"\"The base reaction rate class.  Most rate types will subclass\u001b[39;49;00m\n\u001b[1;32m    315\u001b[0m \u001b[38;5;124;43;03m    this and extend to their particular format.\u001b[39;49;00m\n\u001b[1;32m    316\u001b[0m \n\u001b[1;32m    317\u001b[0m \u001b[38;5;124;43;03m    \"\"\"\u001b[39;49;00m\n\u001b[1;32m    318\u001b[0m \u001b[43m    \u001b[49m\u001b[38;5;28;43;01mdef\u001b[39;49;00m\u001b[43m \u001b[49m\u001b[38;5;21;43m__init__\u001b[39;49m\u001b[43m(\u001b[49m\u001b[38;5;28;43mself\u001b[39;49m\u001b[43m,\u001b[49m\u001b[43m \u001b[49m\u001b[43mreactants\u001b[49m\u001b[43m:\u001b[49m\u001b[43m \u001b[49m\u001b[38;5;28;43mlist\u001b[39;49m\u001b[43m[\u001b[49m\u001b[38;5;28;43mstr\u001b[39;49m\u001b[43m]\u001b[49m\u001b[43m \u001b[49m\u001b[38;5;241;43m|\u001b[39;49m\u001b[43m \u001b[49m\u001b[38;5;28;43mlist\u001b[39;49m\u001b[43m[\u001b[49m\u001b[43mNucleus\u001b[49m\u001b[43m]\u001b[49m\u001b[43m \u001b[49m\u001b[38;5;241;43m=\u001b[39;49m\u001b[43m \u001b[49m\u001b[38;5;28;43;01mNone\u001b[39;49;00m\u001b[43m,\u001b[49m\n\u001b[1;32m    319\u001b[0m \u001b[43m                 \u001b[49m\u001b[43mproducts\u001b[49m\u001b[43m:\u001b[49m\u001b[43m \u001b[49m\u001b[38;5;28;43mlist\u001b[39;49m\u001b[43m[\u001b[49m\u001b[38;5;28;43mstr\u001b[39;49m\u001b[43m]\u001b[49m\u001b[43m \u001b[49m\u001b[38;5;241;43m|\u001b[39;49m\u001b[43m \u001b[49m\u001b[38;5;28;43mlist\u001b[39;49m\u001b[43m[\u001b[49m\u001b[43mNucleus\u001b[49m\u001b[43m]\u001b[49m\u001b[43m \u001b[49m\u001b[38;5;241;43m=\u001b[39;49m\u001b[43m \u001b[49m\u001b[38;5;28;43;01mNone\u001b[39;49;00m\u001b[43m,\u001b[49m\n\u001b[1;32m    320\u001b[0m \u001b[43m                 \u001b[49m\u001b[43mQ\u001b[49m\u001b[43m:\u001b[49m\u001b[43m \u001b[49m\u001b[38;5;28;43mfloat\u001b[39;49m\u001b[43m \u001b[49m\u001b[38;5;241;43m=\u001b[39;49m\u001b[43m \u001b[49m\u001b[38;5;28;43;01mNone\u001b[39;49;00m\u001b[43m,\u001b[49m\u001b[43m \u001b[49m\u001b[43mweak_type\u001b[49m\u001b[43m:\u001b[49m\u001b[43m \u001b[49m\u001b[38;5;28;43mstr\u001b[39;49m\u001b[43m \u001b[49m\u001b[38;5;241;43m=\u001b[39;49m\u001b[43m \u001b[49m\u001b[38;5;124;43m\"\u001b[39;49m\u001b[38;5;124;43m\"\u001b[39;49m\u001b[43m,\u001b[49m\n\u001b[1;32m    321\u001b[0m \u001b[43m                 \u001b[49m\u001b[43mlabel\u001b[49m\u001b[43m:\u001b[49m\u001b[43m \u001b[49m\u001b[38;5;28;43mstr\u001b[39;49m\u001b[43m \u001b[49m\u001b[38;5;241;43m=\u001b[39;49m\u001b[43m \u001b[49m\u001b[38;5;124;43m\"\u001b[39;49m\u001b[38;5;124;43mgeneric\u001b[39;49m\u001b[38;5;124;43m\"\u001b[39;49m\u001b[43m)\u001b[49m\u001b[43m \u001b[49m\u001b[38;5;241;43m-\u001b[39;49m\u001b[38;5;241;43m>\u001b[39;49m\u001b[43m \u001b[49m\u001b[38;5;28;43;01mNone\u001b[39;49;00m\u001b[43m:\u001b[49m\n",
      "File \u001b[0;32m/opt/hostedtoolcache/Python/3.11.10/x64/lib/python3.11/site-packages/pynucastro/rates/rate.py:620\u001b[0m, in \u001b[0;36mRate\u001b[0;34m()\u001b[0m\n\u001b[1;32m    617\u001b[0m             nuc \u001b[38;5;241m=\u001b[39m n\n\u001b[1;32m    618\u001b[0m     \u001b[38;5;28;01mreturn\u001b[39;00m nuc\n\u001b[0;32m--> 620\u001b[0m \u001b[38;5;28;01mdef\u001b[39;00m \u001b[38;5;21mydot_string_py\u001b[39m(\u001b[38;5;28mself\u001b[39m) \u001b[38;5;241m-\u001b[39m\u001b[38;5;241m>\u001b[39m \u001b[43mwarnings\u001b[49m\u001b[38;5;241;43m.\u001b[39;49m\u001b[43mLiteralString\u001b[49m:\n\u001b[1;32m    621\u001b[0m \u001b[38;5;250m    \u001b[39m\u001b[38;5;124;03m\"\"\"\u001b[39;00m\n\u001b[1;32m    622\u001b[0m \u001b[38;5;124;03m    Return a string containing the term in a dY/dt equation\u001b[39;00m\n\u001b[1;32m    623\u001b[0m \u001b[38;5;124;03m    in a reaction network corresponding to this rate.\u001b[39;00m\n\u001b[1;32m    624\u001b[0m \u001b[38;5;124;03m    \"\"\"\u001b[39;00m\n\u001b[1;32m    626\u001b[0m     ydot_string_components \u001b[38;5;241m=\u001b[39m []\n",
      "\u001b[0;31mAttributeError\u001b[0m: module 'warnings' has no attribute 'LiteralString'"
     ]
    }
   ],
   "source": [
    "from pynucastro import Nucleus"
   ]
  },
  {
   "cell_type": "markdown",
   "id": "52b2678b-2e9f-4720-aac9-464ce3348b13",
   "metadata": {},
   "source": [
    "## `Nucleus`\n",
    "\n",
    "The `Nucleus` class manages all of the properties of a nucleus.  We create a `Nucleus` simply by giving the name of the isotope"
   ]
  },
  {
   "cell_type": "code",
   "execution_count": 2,
   "id": "8d47acf7-e00e-4c1a-9349-165076f93cdf",
   "metadata": {
    "execution": {
     "iopub.execute_input": "2024-10-17T07:29:40.154776Z",
     "iopub.status.busy": "2024-10-17T07:29:40.154318Z",
     "iopub.status.idle": "2024-10-17T07:29:40.165525Z",
     "shell.execute_reply": "2024-10-17T07:29:40.164978Z"
    }
   },
   "outputs": [
    {
     "ename": "NameError",
     "evalue": "name 'Nucleus' is not defined",
     "output_type": "error",
     "traceback": [
      "\u001b[0;31m---------------------------------------------------------------------------\u001b[0m",
      "\u001b[0;31mNameError\u001b[0m                                 Traceback (most recent call last)",
      "Cell \u001b[0;32mIn[2], line 1\u001b[0m\n\u001b[0;32m----> 1\u001b[0m he4 \u001b[38;5;241m=\u001b[39m \u001b[43mNucleus\u001b[49m(\u001b[38;5;124m\"\u001b[39m\u001b[38;5;124mhe4\u001b[39m\u001b[38;5;124m\"\u001b[39m)\n",
      "\u001b[0;31mNameError\u001b[0m: name 'Nucleus' is not defined"
     ]
    }
   ],
   "source": [
    "he4 = Nucleus(\"he4\")"
   ]
  },
  {
   "cell_type": "markdown",
   "id": "192a61a1-4ff1-4e85-80c5-4247bce21220",
   "metadata": {},
   "source": [
    "From this we can access the member data:\n",
    "\n",
    "* `Z`, `N`, `A` : the atomic number, neutron number, and atomic mass\n",
    "* `mass` : the mass of the nucleus in MeV\n",
    "* `dm` : the mass excess of the nucleus in MeV\n",
    "* `nucbind` : the nuclear binding energy of the nucleus in MeV / nucleon\n",
    "* `A_nuc` : the mass number of the nucleus (`mass` / atomic mass unit)"
   ]
  },
  {
   "cell_type": "code",
   "execution_count": 3,
   "id": "459bd1ba-1ac4-4a79-89d6-b67219623096",
   "metadata": {
    "execution": {
     "iopub.execute_input": "2024-10-17T07:29:40.167439Z",
     "iopub.status.busy": "2024-10-17T07:29:40.166993Z",
     "iopub.status.idle": "2024-10-17T07:29:40.177686Z",
     "shell.execute_reply": "2024-10-17T07:29:40.177237Z"
    }
   },
   "outputs": [
    {
     "ename": "NameError",
     "evalue": "name 'he4' is not defined",
     "output_type": "error",
     "traceback": [
      "\u001b[0;31m---------------------------------------------------------------------------\u001b[0m",
      "\u001b[0;31mNameError\u001b[0m                                 Traceback (most recent call last)",
      "Cell \u001b[0;32mIn[3], line 1\u001b[0m\n\u001b[0;32m----> 1\u001b[0m \u001b[43mhe4\u001b[49m\u001b[38;5;241m.\u001b[39mZ, he4\u001b[38;5;241m.\u001b[39mA\n",
      "\u001b[0;31mNameError\u001b[0m: name 'he4' is not defined"
     ]
    }
   ],
   "source": [
    "he4.Z, he4.A"
   ]
  },
  {
   "cell_type": "code",
   "execution_count": 4,
   "id": "897450c0-e9e0-42a1-b523-053d42319a58",
   "metadata": {
    "execution": {
     "iopub.execute_input": "2024-10-17T07:29:40.179261Z",
     "iopub.status.busy": "2024-10-17T07:29:40.178942Z",
     "iopub.status.idle": "2024-10-17T07:29:40.189213Z",
     "shell.execute_reply": "2024-10-17T07:29:40.188775Z"
    }
   },
   "outputs": [
    {
     "ename": "NameError",
     "evalue": "name 'he4' is not defined",
     "output_type": "error",
     "traceback": [
      "\u001b[0;31m---------------------------------------------------------------------------\u001b[0m",
      "\u001b[0;31mNameError\u001b[0m                                 Traceback (most recent call last)",
      "Cell \u001b[0;32mIn[4], line 1\u001b[0m\n\u001b[0;32m----> 1\u001b[0m \u001b[43mhe4\u001b[49m\u001b[38;5;241m.\u001b[39mnucbind\n",
      "\u001b[0;31mNameError\u001b[0m: name 'he4' is not defined"
     ]
    }
   ],
   "source": [
    "he4.nucbind"
   ]
  },
  {
   "cell_type": "markdown",
   "id": "dac0aad1-8080-4048-902b-f516f57f9c80",
   "metadata": {},
   "source": [
    "We can also get the partition functions of the nucleus, if it exists.  The data we use mostly provides these for the heavy nuclei."
   ]
  },
  {
   "cell_type": "code",
   "execution_count": 5,
   "id": "2f786e6f-0537-4882-91db-8bc2075dfe43",
   "metadata": {
    "execution": {
     "iopub.execute_input": "2024-10-17T07:29:40.190858Z",
     "iopub.status.busy": "2024-10-17T07:29:40.190523Z",
     "iopub.status.idle": "2024-10-17T07:29:40.201136Z",
     "shell.execute_reply": "2024-10-17T07:29:40.200568Z"
    }
   },
   "outputs": [
    {
     "ename": "NameError",
     "evalue": "name 'Nucleus' is not defined",
     "output_type": "error",
     "traceback": [
      "\u001b[0;31m---------------------------------------------------------------------------\u001b[0m",
      "\u001b[0;31mNameError\u001b[0m                                 Traceback (most recent call last)",
      "Cell \u001b[0;32mIn[5], line 1\u001b[0m\n\u001b[0;32m----> 1\u001b[0m ni56 \u001b[38;5;241m=\u001b[39m \u001b[43mNucleus\u001b[49m(\u001b[38;5;124m\"\u001b[39m\u001b[38;5;124mni56\u001b[39m\u001b[38;5;124m\"\u001b[39m)\n\u001b[1;32m      2\u001b[0m ni56\u001b[38;5;241m.\u001b[39mpartition_function\u001b[38;5;241m.\u001b[39meval(\u001b[38;5;241m4.e9\u001b[39m)\n",
      "\u001b[0;31mNameError\u001b[0m: name 'Nucleus' is not defined"
     ]
    }
   ],
   "source": [
    "ni56 = Nucleus(\"ni56\")\n",
    "ni56.partition_function.eval(4.e9)"
   ]
  },
  {
   "cell_type": "markdown",
   "id": "ba8676b5-83c9-4f7c-bfcd-7fe9e41040f0",
   "metadata": {},
   "source": [
    "## Exploring properties"
   ]
  },
  {
   "cell_type": "markdown",
   "id": "0923c779-d384-4ea8-aaca-9f90d0281f09",
   "metadata": {},
   "source": [
    "Let's look at some nuclei and look at their mass excess, mass, and binding energies"
   ]
  },
  {
   "cell_type": "code",
   "execution_count": 6,
   "id": "07fc3312-491c-4949-89b0-a17838f7c752",
   "metadata": {
    "execution": {
     "iopub.execute_input": "2024-10-17T07:29:40.202821Z",
     "iopub.status.busy": "2024-10-17T07:29:40.202651Z",
     "iopub.status.idle": "2024-10-17T07:29:40.214165Z",
     "shell.execute_reply": "2024-10-17T07:29:40.213575Z"
    }
   },
   "outputs": [
    {
     "ename": "NameError",
     "evalue": "name 'Nucleus' is not defined",
     "output_type": "error",
     "traceback": [
      "\u001b[0;31m---------------------------------------------------------------------------\u001b[0m",
      "\u001b[0;31mNameError\u001b[0m                                 Traceback (most recent call last)",
      "Cell \u001b[0;32mIn[6], line 1\u001b[0m\n\u001b[0;32m----> 1\u001b[0m p \u001b[38;5;241m=\u001b[39m \u001b[43mNucleus\u001b[49m(\u001b[38;5;124m\"\u001b[39m\u001b[38;5;124mp\u001b[39m\u001b[38;5;124m\"\u001b[39m)\n\u001b[1;32m      2\u001b[0m n \u001b[38;5;241m=\u001b[39m Nucleus(\u001b[38;5;124m\"\u001b[39m\u001b[38;5;124mn\u001b[39m\u001b[38;5;124m\"\u001b[39m)\n\u001b[1;32m      3\u001b[0m c12 \u001b[38;5;241m=\u001b[39m Nucleus(\u001b[38;5;124m\"\u001b[39m\u001b[38;5;124mc12\u001b[39m\u001b[38;5;124m\"\u001b[39m)\n",
      "\u001b[0;31mNameError\u001b[0m: name 'Nucleus' is not defined"
     ]
    }
   ],
   "source": [
    "p = Nucleus(\"p\")\n",
    "n = Nucleus(\"n\")\n",
    "c12 = Nucleus(\"c12\")\n",
    "ne22 = Nucleus(\"ne22\")\n",
    "ti43 = Nucleus(\"ti43\")\n",
    "fe56 = Nucleus(\"fe56\")"
   ]
  },
  {
   "cell_type": "code",
   "execution_count": 7,
   "id": "ad96edc6-1705-4573-a086-0f8097af8e52",
   "metadata": {
    "execution": {
     "iopub.execute_input": "2024-10-17T07:29:40.216038Z",
     "iopub.status.busy": "2024-10-17T07:29:40.215638Z",
     "iopub.status.idle": "2024-10-17T07:29:40.227872Z",
     "shell.execute_reply": "2024-10-17T07:29:40.227407Z"
    }
   },
   "outputs": [
    {
     "ename": "NameError",
     "evalue": "name 'p' is not defined",
     "output_type": "error",
     "traceback": [
      "\u001b[0;31m---------------------------------------------------------------------------\u001b[0m",
      "\u001b[0;31mNameError\u001b[0m                                 Traceback (most recent call last)",
      "Cell \u001b[0;32mIn[7], line 1\u001b[0m\n\u001b[0;32m----> 1\u001b[0m \u001b[38;5;28;01mfor\u001b[39;00m nuc \u001b[38;5;129;01min\u001b[39;00m [\u001b[43mp\u001b[49m, n, c12, ne22, ti43, fe56]:\n\u001b[1;32m      2\u001b[0m     \u001b[38;5;28mprint\u001b[39m(\u001b[38;5;124mf\u001b[39m\u001b[38;5;124m\"\u001b[39m\u001b[38;5;132;01m{\u001b[39;00m\u001b[38;5;28mstr\u001b[39m(nuc)\u001b[38;5;132;01m:\u001b[39;00m\u001b[38;5;124m6\u001b[39m\u001b[38;5;132;01m}\u001b[39;00m\u001b[38;5;124m \u001b[39m\u001b[38;5;132;01m{\u001b[39;00mnuc\u001b[38;5;241m.\u001b[39mdm\u001b[38;5;132;01m:\u001b[39;00m\u001b[38;5;124m15.8\u001b[39m\u001b[38;5;132;01m}\u001b[39;00m\u001b[38;5;124m \u001b[39m\u001b[38;5;132;01m{\u001b[39;00mnuc\u001b[38;5;241m.\u001b[39mmass\u001b[38;5;132;01m:\u001b[39;00m\u001b[38;5;124m15.8f\u001b[39m\u001b[38;5;132;01m}\u001b[39;00m\u001b[38;5;124m \u001b[39m\u001b[38;5;132;01m{\u001b[39;00mnuc\u001b[38;5;241m.\u001b[39mnucbind\u001b[38;5;132;01m:\u001b[39;00m\u001b[38;5;124m15.8f\u001b[39m\u001b[38;5;132;01m}\u001b[39;00m\u001b[38;5;124m\"\u001b[39m)\n",
      "\u001b[0;31mNameError\u001b[0m: name 'p' is not defined"
     ]
    }
   ],
   "source": [
    "for nuc in [p, n, c12, ne22, ti43, fe56]:\n",
    "    print(f\"{str(nuc):6} {nuc.dm:15.8} {nuc.mass:15.8f} {nuc.nucbind:15.8f}\")"
   ]
  },
  {
   "cell_type": "markdown",
   "id": "7d1e9fb5-7fe3-48d5-9981-a15021b0d86a",
   "metadata": {},
   "source": [
    "We see that the binding energy for protons and neutrons are zero, as expected."
   ]
  },
  {
   "cell_type": "markdown",
   "id": "723edee9-6d5c-4c1c-9450-7d09883b31df",
   "metadata": {},
   "source": [
    "For ${}^{12}\\mathrm{C}$ the binding energy compares well with the tablulated version from the rounded AME 2020 of `7680.145`."
   ]
  },
  {
   "cell_type": "markdown",
   "id": "ce9b0df6-d556-4b99-bf70-c7c5dcefd523",
   "metadata": {},
   "source": [
    "For ${}^{22}\\mathrm{Ne}$ the binding energy compares well with the tablulated version from the rounded AME 2020 of `8080.466`."
   ]
  },
  {
   "cell_type": "markdown",
   "id": "b9e62dad-aaf1-4071-9758-85ade1033a18",
   "metadata": {},
   "source": [
    "For ${}^{43}\\mathrm{Ti}$ the binding energy compares well with the tablulated version from the rounded AME 2020 of `8352.81`."
   ]
  },
  {
   "cell_type": "markdown",
   "id": "0d9122d8-8242-45c2-8a8b-5ac9b790eb4c",
   "metadata": {},
   "source": [
    "For ${}^{56}\\mathrm{Fe}$ the binding energy compares well with the tablulated version from the rounded AME 2020 of `8790.356`."
   ]
  },
  {
   "cell_type": "code",
   "execution_count": 8,
   "id": "36458c33-9472-4525-8967-dba557674a04",
   "metadata": {
    "execution": {
     "iopub.execute_input": "2024-10-17T07:29:40.229597Z",
     "iopub.status.busy": "2024-10-17T07:29:40.229273Z",
     "iopub.status.idle": "2024-10-17T07:29:40.231882Z",
     "shell.execute_reply": "2024-10-17T07:29:40.231411Z"
    }
   },
   "outputs": [],
   "source": [
    "from pynucastro.constants import constants"
   ]
  },
  {
   "cell_type": "markdown",
   "id": "e0f8fd74-98d0-4224-8f13-bc618bc714be",
   "metadata": {},
   "source": [
    "We also see that the mass of ${}^{12}\\mathrm{C}$ agrees with the atomic mass unit from the CODATA compilation:"
   ]
  },
  {
   "cell_type": "code",
   "execution_count": 9,
   "id": "72e24505-ab91-4822-9544-cfeee7926579",
   "metadata": {
    "execution": {
     "iopub.execute_input": "2024-10-17T07:29:40.233530Z",
     "iopub.status.busy": "2024-10-17T07:29:40.233230Z",
     "iopub.status.idle": "2024-10-17T07:29:40.243754Z",
     "shell.execute_reply": "2024-10-17T07:29:40.243217Z"
    }
   },
   "outputs": [
    {
     "ename": "NameError",
     "evalue": "name 'c12' is not defined",
     "output_type": "error",
     "traceback": [
      "\u001b[0;31m---------------------------------------------------------------------------\u001b[0m",
      "\u001b[0;31mNameError\u001b[0m                                 Traceback (most recent call last)",
      "Cell \u001b[0;32mIn[9], line 1\u001b[0m\n\u001b[0;32m----> 1\u001b[0m \u001b[43mc12\u001b[49m\u001b[38;5;241m.\u001b[39mmass \u001b[38;5;241m/\u001b[39m \u001b[38;5;241m12\u001b[39m \u001b[38;5;241m-\u001b[39m constants\u001b[38;5;241m.\u001b[39mm_u_MeV\n",
      "\u001b[0;31mNameError\u001b[0m: name 'c12' is not defined"
     ]
    }
   ],
   "source": [
    "c12.mass / 12 - constants.m_u_MeV"
   ]
  }
 ],
 "metadata": {
  "kernelspec": {
   "display_name": "Python 3 (ipykernel)",
   "language": "python",
   "name": "python3"
  },
  "language_info": {
   "codemirror_mode": {
    "name": "ipython",
    "version": 3
   },
   "file_extension": ".py",
   "mimetype": "text/x-python",
   "name": "python",
   "nbconvert_exporter": "python",
   "pygments_lexer": "ipython3",
   "version": "3.11.10"
  }
 },
 "nbformat": 4,
 "nbformat_minor": 5
}
