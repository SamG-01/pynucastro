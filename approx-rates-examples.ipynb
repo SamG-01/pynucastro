{
 "cells": [
  {
   "cell_type": "markdown",
   "id": "2d21e25a-4b3d-423b-842f-b08bac453158",
   "metadata": {},
   "source": [
    "# Approximate Rates\n",
    "\n",
    "pynucastro can use rate approximations for $A(\\alpha,\\gamma)B$ and $A(\\alpha,p)X(p,\\gamma)B$,\n",
    "combining them into a single effective rate by assuming that the protons and nucleus $X$ are in equilibrium."
   ]
  },
  {
   "cell_type": "code",
   "execution_count": 1,
   "id": "12e1d6a1-2384-4409-bbe7-221cf2f9e197",
   "metadata": {
    "execution": {
     "iopub.execute_input": "2024-10-17T08:51:38.953686Z",
     "iopub.status.busy": "2024-10-17T08:51:38.953521Z",
     "iopub.status.idle": "2024-10-17T08:51:40.346192Z",
     "shell.execute_reply": "2024-10-17T08:51:40.345485Z"
    }
   },
   "outputs": [],
   "source": [
    "import pynucastro as pyna\n",
    "import numpy as np\n",
    "import matplotlib.pyplot as plt\n",
    "from scipy.integrate import solve_ivp"
   ]
  },
  {
   "cell_type": "markdown",
   "id": "847af100-3f40-475c-aa5e-7af228f35aef",
   "metadata": {},
   "source": [
    "Let's create a simple network that has both an $(\\alpha, \\gamma)$ and\n",
    "$(\\alpha, p)(p, \\gamma)$ sequence."
   ]
  },
  {
   "cell_type": "code",
   "execution_count": 2,
   "id": "4f2b68c7-0fbb-44e9-ad74-71d7b74d7d3f",
   "metadata": {
    "execution": {
     "iopub.execute_input": "2024-10-17T08:51:40.348603Z",
     "iopub.status.busy": "2024-10-17T08:51:40.348012Z",
     "iopub.status.idle": "2024-10-17T08:51:40.775855Z",
     "shell.execute_reply": "2024-10-17T08:51:40.775294Z"
    }
   },
   "outputs": [
    {
     "ename": "TypeError",
     "evalue": "argument of type 'NoneType' is not iterable",
     "output_type": "error",
     "traceback": [
      "\u001b[0;31m---------------------------------------------------------------------------\u001b[0m",
      "\u001b[0;31mTypeError\u001b[0m                                 Traceback (most recent call last)",
      "Cell \u001b[0;32mIn[2], line 1\u001b[0m\n\u001b[0;32m----> 1\u001b[0m reaclib_library \u001b[38;5;241m=\u001b[39m \u001b[43mpyna\u001b[49m\u001b[38;5;241;43m.\u001b[39;49m\u001b[43mReacLibLibrary\u001b[49m\u001b[43m(\u001b[49m\u001b[43m)\u001b[49m\n\u001b[1;32m      2\u001b[0m mylib \u001b[38;5;241m=\u001b[39m reaclib_library\u001b[38;5;241m.\u001b[39mlinking_nuclei([\u001b[38;5;124m\"\u001b[39m\u001b[38;5;124mmg24\u001b[39m\u001b[38;5;124m\"\u001b[39m, \u001b[38;5;124m\"\u001b[39m\u001b[38;5;124mal27\u001b[39m\u001b[38;5;124m\"\u001b[39m, \u001b[38;5;124m\"\u001b[39m\u001b[38;5;124msi28\u001b[39m\u001b[38;5;124m\"\u001b[39m, \u001b[38;5;124m\"\u001b[39m\u001b[38;5;124mp31\u001b[39m\u001b[38;5;124m\"\u001b[39m, \u001b[38;5;124m\"\u001b[39m\u001b[38;5;124ms32\u001b[39m\u001b[38;5;124m\"\u001b[39m, \u001b[38;5;124m\"\u001b[39m\u001b[38;5;124mhe4\u001b[39m\u001b[38;5;124m\"\u001b[39m, \u001b[38;5;124m\"\u001b[39m\u001b[38;5;124mp\u001b[39m\u001b[38;5;124m\"\u001b[39m])\n\u001b[1;32m      3\u001b[0m pynet \u001b[38;5;241m=\u001b[39m pyna\u001b[38;5;241m.\u001b[39mPythonNetwork(libraries\u001b[38;5;241m=\u001b[39m[mylib])\n",
      "File \u001b[0;32m/opt/hostedtoolcache/Python/3.11.10/x64/lib/python3.11/site-packages/pynucastro/rates/library.py:700\u001b[0m, in \u001b[0;36mReacLibLibrary.__init__\u001b[0;34m(self)\u001b[0m\n\u001b[1;32m    698\u001b[0m \u001b[38;5;28;01mdef\u001b[39;00m \u001b[38;5;21m__init__\u001b[39m(\u001b[38;5;28mself\u001b[39m) \u001b[38;5;241m-\u001b[39m\u001b[38;5;241m>\u001b[39m \u001b[38;5;28;01mNone\u001b[39;00m:\n\u001b[1;32m    699\u001b[0m     libfile \u001b[38;5;241m=\u001b[39m \u001b[38;5;124m'\u001b[39m\u001b[38;5;124mreaclib_default2_20220329\u001b[39m\u001b[38;5;124m'\u001b[39m\n\u001b[0;32m--> 700\u001b[0m     \u001b[43mLibrary\u001b[49m\u001b[38;5;241;43m.\u001b[39;49m\u001b[38;5;21;43m__init__\u001b[39;49m\u001b[43m(\u001b[49m\u001b[38;5;28;43mself\u001b[39;49m\u001b[43m,\u001b[49m\u001b[43m \u001b[49m\u001b[43mlibfile\u001b[49m\u001b[38;5;241;43m=\u001b[39;49m\u001b[43mlibfile\u001b[49m\u001b[43m)\u001b[49m\n",
      "File \u001b[0;32m/opt/hostedtoolcache/Python/3.11.10/x64/lib/python3.11/site-packages/pynucastro/rates/library.py:139\u001b[0m, in \u001b[0;36mLibrary.__init__\u001b[0;34m(self, libfile, rates)\u001b[0m\n\u001b[1;32m    137\u001b[0m \u001b[38;5;28;01mif\u001b[39;00m \u001b[38;5;28mself\u001b[39m\u001b[38;5;241m.\u001b[39m_library_file:\n\u001b[1;32m    138\u001b[0m     \u001b[38;5;28mself\u001b[39m\u001b[38;5;241m.\u001b[39m_library_file \u001b[38;5;241m=\u001b[39m _find_rate_file(\u001b[38;5;28mself\u001b[39m\u001b[38;5;241m.\u001b[39m_library_file)\n\u001b[0;32m--> 139\u001b[0m     \u001b[38;5;28;43mself\u001b[39;49m\u001b[38;5;241;43m.\u001b[39;49m\u001b[43m_read_library_file\u001b[49m\u001b[43m(\u001b[49m\u001b[43m)\u001b[49m\n",
      "File \u001b[0;32m/opt/hostedtoolcache/Python/3.11.10/x64/lib/python3.11/site-packages/pynucastro/rates/library.py:316\u001b[0m, in \u001b[0;36mLibrary._read_library_file\u001b[0;34m(self)\u001b[0m\n\u001b[1;32m    314\u001b[0m \u001b[38;5;28;01melse\u001b[39;00m:\n\u001b[1;32m    315\u001b[0m     rid \u001b[38;5;241m=\u001b[39m r\u001b[38;5;241m.\u001b[39mget_rate_id()\n\u001b[0;32m--> 316\u001b[0m     \u001b[38;5;28;01mif\u001b[39;00m \u001b[43mrid\u001b[49m\u001b[43m \u001b[49m\u001b[38;5;129;43;01min\u001b[39;49;00m\u001b[43m \u001b[49m\u001b[38;5;28;43mself\u001b[39;49m\u001b[38;5;241;43m.\u001b[39;49m\u001b[43m_rates\u001b[49m:\n\u001b[1;32m    317\u001b[0m         \u001b[38;5;28mself\u001b[39m\u001b[38;5;241m.\u001b[39m_rates[rid] \u001b[38;5;241m=\u001b[39m \u001b[38;5;28mself\u001b[39m\u001b[38;5;241m.\u001b[39m_rates[rid] \u001b[38;5;241m+\u001b[39m r\n\u001b[1;32m    318\u001b[0m     \u001b[38;5;28;01melse\u001b[39;00m:\n",
      "\u001b[0;31mTypeError\u001b[0m: argument of type 'NoneType' is not iterable"
     ]
    }
   ],
   "source": [
    "reaclib_library = pyna.ReacLibLibrary()\n",
    "mylib = reaclib_library.linking_nuclei([\"mg24\", \"al27\", \"si28\", \"p31\", \"s32\", \"he4\", \"p\"])\n",
    "pynet = pyna.PythonNetwork(libraries=[mylib])"
   ]
  },
  {
   "cell_type": "code",
   "execution_count": 3,
   "id": "7891cf0e-5b06-438d-87d5-8adca038465f",
   "metadata": {
    "execution": {
     "iopub.execute_input": "2024-10-17T08:51:40.777716Z",
     "iopub.status.busy": "2024-10-17T08:51:40.777530Z",
     "iopub.status.idle": "2024-10-17T08:51:40.791112Z",
     "shell.execute_reply": "2024-10-17T08:51:40.790651Z"
    },
    "tags": []
   },
   "outputs": [
    {
     "ename": "NameError",
     "evalue": "name 'pynet' is not defined",
     "output_type": "error",
     "traceback": [
      "\u001b[0;31m---------------------------------------------------------------------------\u001b[0m",
      "\u001b[0;31mNameError\u001b[0m                                 Traceback (most recent call last)",
      "Cell \u001b[0;32mIn[3], line 1\u001b[0m\n\u001b[0;32m----> 1\u001b[0m fig \u001b[38;5;241m=\u001b[39m \u001b[43mpynet\u001b[49m\u001b[38;5;241m.\u001b[39mplot(rotated\u001b[38;5;241m=\u001b[39m\u001b[38;5;28;01mTrue\u001b[39;00m, curved_edges\u001b[38;5;241m=\u001b[39m\u001b[38;5;28;01mTrue\u001b[39;00m)\n",
      "\u001b[0;31mNameError\u001b[0m: name 'pynet' is not defined"
     ]
    }
   ],
   "source": [
    "fig = pynet.plot(rotated=True, curved_edges=True)"
   ]
  },
  {
   "cell_type": "code",
   "execution_count": 4,
   "id": "576721f6-1ef0-4c58-8e12-5b70692640f0",
   "metadata": {
    "execution": {
     "iopub.execute_input": "2024-10-17T08:51:40.792674Z",
     "iopub.status.busy": "2024-10-17T08:51:40.792501Z",
     "iopub.status.idle": "2024-10-17T08:51:40.804417Z",
     "shell.execute_reply": "2024-10-17T08:51:40.803828Z"
    }
   },
   "outputs": [
    {
     "ename": "NameError",
     "evalue": "name 'pynet' is not defined",
     "output_type": "error",
     "traceback": [
      "\u001b[0;31m---------------------------------------------------------------------------\u001b[0m",
      "\u001b[0;31mNameError\u001b[0m                                 Traceback (most recent call last)",
      "Cell \u001b[0;32mIn[4], line 1\u001b[0m\n\u001b[0;32m----> 1\u001b[0m \u001b[43mpynet\u001b[49m\u001b[38;5;241m.\u001b[39mwrite_network(\u001b[38;5;124m\"\u001b[39m\u001b[38;5;124mfull_net.py\u001b[39m\u001b[38;5;124m\"\u001b[39m)\n",
      "\u001b[0;31mNameError\u001b[0m: name 'pynet' is not defined"
     ]
    }
   ],
   "source": [
    "pynet.write_network(\"full_net.py\")"
   ]
  },
  {
   "cell_type": "code",
   "execution_count": 5,
   "id": "01eb52a1-5e98-49e4-a69d-a52dc9e8bb44",
   "metadata": {
    "execution": {
     "iopub.execute_input": "2024-10-17T08:51:40.806118Z",
     "iopub.status.busy": "2024-10-17T08:51:40.805942Z",
     "iopub.status.idle": "2024-10-17T08:51:40.817163Z",
     "shell.execute_reply": "2024-10-17T08:51:40.816694Z"
    }
   },
   "outputs": [
    {
     "ename": "ModuleNotFoundError",
     "evalue": "No module named 'full_net'",
     "output_type": "error",
     "traceback": [
      "\u001b[0;31m---------------------------------------------------------------------------\u001b[0m",
      "\u001b[0;31mModuleNotFoundError\u001b[0m                       Traceback (most recent call last)",
      "Cell \u001b[0;32mIn[5], line 1\u001b[0m\n\u001b[0;32m----> 1\u001b[0m \u001b[38;5;28;01mimport\u001b[39;00m \u001b[38;5;21;01mfull_net\u001b[39;00m\n",
      "\u001b[0;31mModuleNotFoundError\u001b[0m: No module named 'full_net'"
     ]
    }
   ],
   "source": [
    "import full_net"
   ]
  },
  {
   "cell_type": "markdown",
   "id": "8574a131-764a-40ec-81e5-5e01da2e8215",
   "metadata": {},
   "source": [
    "## Integrating the full network\n",
    "\n",
    "Now let's integrate this.  We'll start with half ${}^{24}\\mathrm{Mg}$ and half $\\alpha$ by mass."
   ]
  },
  {
   "cell_type": "code",
   "execution_count": 6,
   "id": "4789d42d-5345-4560-a2cf-9646cbb757f0",
   "metadata": {
    "execution": {
     "iopub.execute_input": "2024-10-17T08:51:40.819016Z",
     "iopub.status.busy": "2024-10-17T08:51:40.818599Z",
     "iopub.status.idle": "2024-10-17T08:51:40.831051Z",
     "shell.execute_reply": "2024-10-17T08:51:40.830510Z"
    }
   },
   "outputs": [
    {
     "ename": "NameError",
     "evalue": "name 'full_net' is not defined",
     "output_type": "error",
     "traceback": [
      "\u001b[0;31m---------------------------------------------------------------------------\u001b[0m",
      "\u001b[0;31mNameError\u001b[0m                                 Traceback (most recent call last)",
      "Cell \u001b[0;32mIn[6], line 4\u001b[0m\n\u001b[1;32m      1\u001b[0m rho \u001b[38;5;241m=\u001b[39m \u001b[38;5;241m1.e7\u001b[39m\n\u001b[1;32m      2\u001b[0m T \u001b[38;5;241m=\u001b[39m \u001b[38;5;241m3e9\u001b[39m\n\u001b[0;32m----> 4\u001b[0m X0 \u001b[38;5;241m=\u001b[39m np\u001b[38;5;241m.\u001b[39mzeros(\u001b[43mfull_net\u001b[49m\u001b[38;5;241m.\u001b[39mnnuc)\n\u001b[1;32m      5\u001b[0m X0[full_net\u001b[38;5;241m.\u001b[39mjhe4] \u001b[38;5;241m=\u001b[39m \u001b[38;5;241m0.5\u001b[39m\n\u001b[1;32m      6\u001b[0m X0[full_net\u001b[38;5;241m.\u001b[39mjmg24] \u001b[38;5;241m=\u001b[39m \u001b[38;5;241m0.5\u001b[39m\n",
      "\u001b[0;31mNameError\u001b[0m: name 'full_net' is not defined"
     ]
    }
   ],
   "source": [
    "rho = 1.e7\n",
    "T = 3e9\n",
    "\n",
    "X0 = np.zeros(full_net.nnuc)\n",
    "X0[full_net.jhe4] = 0.5\n",
    "X0[full_net.jmg24] = 0.5\n",
    "\n",
    "Y0 = X0 / full_net.A"
   ]
  },
  {
   "cell_type": "code",
   "execution_count": 7,
   "id": "472497be-32f8-42bd-9ac6-594d4dac0edf",
   "metadata": {
    "execution": {
     "iopub.execute_input": "2024-10-17T08:51:40.832606Z",
     "iopub.status.busy": "2024-10-17T08:51:40.832316Z",
     "iopub.status.idle": "2024-10-17T08:51:40.845175Z",
     "shell.execute_reply": "2024-10-17T08:51:40.844615Z"
    }
   },
   "outputs": [
    {
     "ename": "NameError",
     "evalue": "name 'full_net' is not defined",
     "output_type": "error",
     "traceback": [
      "\u001b[0;31m---------------------------------------------------------------------------\u001b[0m",
      "\u001b[0;31mNameError\u001b[0m                                 Traceback (most recent call last)",
      "Cell \u001b[0;32mIn[7], line 2\u001b[0m\n\u001b[1;32m      1\u001b[0m tmax \u001b[38;5;241m=\u001b[39m \u001b[38;5;241m1.e-3\u001b[39m\n\u001b[0;32m----> 2\u001b[0m sol \u001b[38;5;241m=\u001b[39m solve_ivp(\u001b[43mfull_net\u001b[49m\u001b[38;5;241m.\u001b[39mrhs, [\u001b[38;5;241m0\u001b[39m, tmax], Y0, method\u001b[38;5;241m=\u001b[39m\u001b[38;5;124m\"\u001b[39m\u001b[38;5;124mBDF\u001b[39m\u001b[38;5;124m\"\u001b[39m,\n\u001b[1;32m      3\u001b[0m                 dense_output\u001b[38;5;241m=\u001b[39m\u001b[38;5;28;01mTrue\u001b[39;00m, args\u001b[38;5;241m=\u001b[39m(rho, T), rtol\u001b[38;5;241m=\u001b[39m\u001b[38;5;241m1.e-6\u001b[39m, atol\u001b[38;5;241m=\u001b[39m\u001b[38;5;241m1.e-10\u001b[39m)\n",
      "\u001b[0;31mNameError\u001b[0m: name 'full_net' is not defined"
     ]
    }
   ],
   "source": [
    "tmax = 1.e-3\n",
    "sol = solve_ivp(full_net.rhs, [0, tmax], Y0, method=\"BDF\",\n",
    "                dense_output=True, args=(rho, T), rtol=1.e-6, atol=1.e-10)"
   ]
  },
  {
   "cell_type": "code",
   "execution_count": 8,
   "id": "10062ec0-3363-4376-87ec-981889e7be5a",
   "metadata": {
    "execution": {
     "iopub.execute_input": "2024-10-17T08:51:40.847138Z",
     "iopub.status.busy": "2024-10-17T08:51:40.846726Z",
     "iopub.status.idle": "2024-10-17T08:51:40.941903Z",
     "shell.execute_reply": "2024-10-17T08:51:40.941362Z"
    }
   },
   "outputs": [
    {
     "ename": "NameError",
     "evalue": "name 'full_net' is not defined",
     "output_type": "error",
     "traceback": [
      "\u001b[0;31m---------------------------------------------------------------------------\u001b[0m",
      "\u001b[0;31mNameError\u001b[0m                                 Traceback (most recent call last)",
      "Cell \u001b[0;32mIn[8], line 4\u001b[0m\n\u001b[1;32m      1\u001b[0m fig \u001b[38;5;241m=\u001b[39m plt\u001b[38;5;241m.\u001b[39mfigure()\n\u001b[1;32m      2\u001b[0m ax \u001b[38;5;241m=\u001b[39m fig\u001b[38;5;241m.\u001b[39madd_subplot(\u001b[38;5;241m111\u001b[39m)\n\u001b[0;32m----> 4\u001b[0m \u001b[38;5;28;01mfor\u001b[39;00m i \u001b[38;5;129;01min\u001b[39;00m \u001b[38;5;28mrange\u001b[39m(\u001b[43mfull_net\u001b[49m\u001b[38;5;241m.\u001b[39mnnuc):\n\u001b[1;32m      5\u001b[0m     ax\u001b[38;5;241m.\u001b[39mloglog(sol\u001b[38;5;241m.\u001b[39mt, sol\u001b[38;5;241m.\u001b[39my[i,:] \u001b[38;5;241m*\u001b[39m full_net\u001b[38;5;241m.\u001b[39mA[i], label\u001b[38;5;241m=\u001b[39m\u001b[38;5;124mf\u001b[39m\u001b[38;5;124m\"\u001b[39m\u001b[38;5;124mX(\u001b[39m\u001b[38;5;132;01m{\u001b[39;00mfull_net\u001b[38;5;241m.\u001b[39mnames[i]\u001b[38;5;241m.\u001b[39mcapitalize()\u001b[38;5;132;01m}\u001b[39;00m\u001b[38;5;124m)\u001b[39m\u001b[38;5;124m\"\u001b[39m)\n\u001b[1;32m      7\u001b[0m ax\u001b[38;5;241m.\u001b[39mlegend()\n",
      "\u001b[0;31mNameError\u001b[0m: name 'full_net' is not defined"
     ]
    },
    {
     "data": {
      "image/png": "[encoded data removed]",
      "text/plain": [
       "<Figure size 640x480 with 1 Axes>"
      ]
     },
     "metadata": {},
     "output_type": "display_data"
    }
   ],
   "source": [
    "fig = plt.figure()\n",
    "ax = fig.add_subplot(111)\n",
    "\n",
    "for i in range(full_net.nnuc):\n",
    "    ax.loglog(sol.t, sol.y[i,:] * full_net.A[i], label=f\"X({full_net.names[i].capitalize()})\")\n",
    "\n",
    "ax.legend()\n",
    "\n",
    "ax.set_xlim(1.e-10, 1.e-3)\n",
    "ax.set_ylim(1.e-12, 1)\n",
    "fig.set_size_inches((10, 8))"
   ]
  },
  {
   "cell_type": "markdown",
   "id": "4255ddd6-7424-488c-b2e6-5ffd9007f2d1",
   "metadata": {},
   "source": [
    "## Approximate Version\n",
    "\n",
    "Now we will approximate the rates, combining $(\\alpha, \\gamma)$ and\n",
    "$(\\alpha, p)(p, \\gamma)$ into a single effective rate.\n",
    "\n",
    "The routine `make_ap_pg_approx()` will find all of the rates that make up that sequence and create a\n",
    "single `ApproximateRate` that captures the effective rate.  The original rates will still be stored in the `ApproximateRate` object and will be evaluated to compute the needed approximation when the effective rate is evaluated."
   ]
  },
  {
   "cell_type": "code",
   "execution_count": 9,
   "id": "ccd17fe3-9ce5-4a90-8dc5-a4377f28f132",
   "metadata": {
    "execution": {
     "iopub.execute_input": "2024-10-17T08:51:40.943715Z",
     "iopub.status.busy": "2024-10-17T08:51:40.943392Z",
     "iopub.status.idle": "2024-10-17T08:51:40.957267Z",
     "shell.execute_reply": "2024-10-17T08:51:40.956791Z"
    }
   },
   "outputs": [
    {
     "ename": "NameError",
     "evalue": "name 'pynet' is not defined",
     "output_type": "error",
     "traceback": [
      "\u001b[0;31m---------------------------------------------------------------------------\u001b[0m",
      "\u001b[0;31mNameError\u001b[0m                                 Traceback (most recent call last)",
      "Cell \u001b[0;32mIn[9], line 1\u001b[0m\n\u001b[0;32m----> 1\u001b[0m \u001b[43mpynet\u001b[49m\u001b[38;5;241m.\u001b[39mmake_ap_pg_approx()\n",
      "\u001b[0;31mNameError\u001b[0m: name 'pynet' is not defined"
     ]
    }
   ],
   "source": [
    "pynet.make_ap_pg_approx()"
   ]
  },
  {
   "cell_type": "code",
   "execution_count": 10,
   "id": "b7192d34-9fd9-47eb-86ed-8ac797661081",
   "metadata": {
    "execution": {
     "iopub.execute_input": "2024-10-17T08:51:40.958980Z",
     "iopub.status.busy": "2024-10-17T08:51:40.958644Z",
     "iopub.status.idle": "2024-10-17T08:51:40.971183Z",
     "shell.execute_reply": "2024-10-17T08:51:40.970735Z"
    }
   },
   "outputs": [
    {
     "ename": "NameError",
     "evalue": "name 'pynet' is not defined",
     "output_type": "error",
     "traceback": [
      "\u001b[0;31m---------------------------------------------------------------------------\u001b[0m",
      "\u001b[0;31mNameError\u001b[0m                                 Traceback (most recent call last)",
      "Cell \u001b[0;32mIn[10], line 1\u001b[0m\n\u001b[0;32m----> 1\u001b[0m \u001b[43mpynet\u001b[49m\n",
      "\u001b[0;31mNameError\u001b[0m: name 'pynet' is not defined"
     ]
    }
   ],
   "source": [
    "pynet"
   ]
  },
  {
   "cell_type": "markdown",
   "id": "d46fc1b5-a52c-468e-a793-55838b86ab8e",
   "metadata": {},
   "source": [
    "Since we no longer care about the ${}^{27}\\mathrm{Al}$ and ${}^{31}\\mathrm{P}$, we can remove them from the network.  The `ApproximateRate` object still knows that these are the intermediate nucleus, but now they\n",
    "won't explicitly appear as one of the nuclei in the network."
   ]
  },
  {
   "cell_type": "code",
   "execution_count": 11,
   "id": "1787e527-b409-4310-b12f-1bc03e1326d2",
   "metadata": {
    "execution": {
     "iopub.execute_input": "2024-10-17T08:51:40.972697Z",
     "iopub.status.busy": "2024-10-17T08:51:40.972520Z",
     "iopub.status.idle": "2024-10-17T08:51:40.984033Z",
     "shell.execute_reply": "2024-10-17T08:51:40.983462Z"
    }
   },
   "outputs": [
    {
     "ename": "NameError",
     "evalue": "name 'pynet' is not defined",
     "output_type": "error",
     "traceback": [
      "\u001b[0;31m---------------------------------------------------------------------------\u001b[0m",
      "\u001b[0;31mNameError\u001b[0m                                 Traceback (most recent call last)",
      "Cell \u001b[0;32mIn[11], line 1\u001b[0m\n\u001b[0;32m----> 1\u001b[0m \u001b[43mpynet\u001b[49m\u001b[38;5;241m.\u001b[39mremove_nuclei([\u001b[38;5;124m\"\u001b[39m\u001b[38;5;124mal27\u001b[39m\u001b[38;5;124m\"\u001b[39m, \u001b[38;5;124m\"\u001b[39m\u001b[38;5;124mp31\u001b[39m\u001b[38;5;124m\"\u001b[39m])\n",
      "\u001b[0;31mNameError\u001b[0m: name 'pynet' is not defined"
     ]
    }
   ],
   "source": [
    "pynet.remove_nuclei([\"al27\", \"p31\"])"
   ]
  },
  {
   "cell_type": "markdown",
   "id": "f2a8190b-d049-4125-a6a0-ad7d3e621d31",
   "metadata": {},
   "source": [
    "Note that since no reactions consume protons after that removal, the protons are all removed from the network, reducing its size from 7 nuclei to 4"
   ]
  },
  {
   "cell_type": "code",
   "execution_count": 12,
   "id": "2b3d0703-0c92-4aaa-a1f2-f3e07e2c89bd",
   "metadata": {
    "execution": {
     "iopub.execute_input": "2024-10-17T08:51:40.985610Z",
     "iopub.status.busy": "2024-10-17T08:51:40.985441Z",
     "iopub.status.idle": "2024-10-17T08:51:40.996693Z",
     "shell.execute_reply": "2024-10-17T08:51:40.996141Z"
    }
   },
   "outputs": [
    {
     "ename": "NameError",
     "evalue": "name 'pynet' is not defined",
     "output_type": "error",
     "traceback": [
      "\u001b[0;31m---------------------------------------------------------------------------\u001b[0m",
      "\u001b[0;31mNameError\u001b[0m                                 Traceback (most recent call last)",
      "Cell \u001b[0;32mIn[12], line 1\u001b[0m\n\u001b[0;32m----> 1\u001b[0m \u001b[38;5;28mprint\u001b[39m(\u001b[43mpynet\u001b[49m\u001b[38;5;241m.\u001b[39mnetwork_overview())\n",
      "\u001b[0;31mNameError\u001b[0m: name 'pynet' is not defined"
     ]
    }
   ],
   "source": [
    "print(pynet.network_overview())"
   ]
  },
  {
   "cell_type": "code",
   "execution_count": 13,
   "id": "57b11c1e-4fab-482e-92a8-90c7eb3d0ff5",
   "metadata": {
    "execution": {
     "iopub.execute_input": "2024-10-17T08:51:40.998289Z",
     "iopub.status.busy": "2024-10-17T08:51:40.998118Z",
     "iopub.status.idle": "2024-10-17T08:51:41.009335Z",
     "shell.execute_reply": "2024-10-17T08:51:41.008751Z"
    },
    "tags": []
   },
   "outputs": [
    {
     "ename": "NameError",
     "evalue": "name 'pynet' is not defined",
     "output_type": "error",
     "traceback": [
      "\u001b[0;31m---------------------------------------------------------------------------\u001b[0m",
      "\u001b[0;31mNameError\u001b[0m                                 Traceback (most recent call last)",
      "Cell \u001b[0;32mIn[13], line 1\u001b[0m\n\u001b[0;32m----> 1\u001b[0m fig \u001b[38;5;241m=\u001b[39m \u001b[43mpynet\u001b[49m\u001b[38;5;241m.\u001b[39mplot(rotated\u001b[38;5;241m=\u001b[39m\u001b[38;5;28;01mTrue\u001b[39;00m, curved_edges\u001b[38;5;241m=\u001b[39m\u001b[38;5;28;01mTrue\u001b[39;00m)\n",
      "\u001b[0;31mNameError\u001b[0m: name 'pynet' is not defined"
     ]
    }
   ],
   "source": [
    "fig = pynet.plot(rotated=True, curved_edges=True)"
   ]
  },
  {
   "cell_type": "markdown",
   "id": "1e9dc382-0ddc-4454-89d7-5383a634821d",
   "metadata": {},
   "source": [
    "As we see above, the nuclei ${}^{27}\\mathrm{Al}$ and ${}^{31}\\mathrm{P}$ no longer appear in the network, but  the links to them are still understood to the network.  This reduces the size of the network, while still preserving those flows."
   ]
  },
  {
   "cell_type": "code",
   "execution_count": 14,
   "id": "3991d57c-a8e7-47b5-987a-608eab285def",
   "metadata": {
    "execution": {
     "iopub.execute_input": "2024-10-17T08:51:41.011139Z",
     "iopub.status.busy": "2024-10-17T08:51:41.010972Z",
     "iopub.status.idle": "2024-10-17T08:51:41.022032Z",
     "shell.execute_reply": "2024-10-17T08:51:41.021528Z"
    }
   },
   "outputs": [
    {
     "ename": "NameError",
     "evalue": "name 'pynet' is not defined",
     "output_type": "error",
     "traceback": [
      "\u001b[0;31m---------------------------------------------------------------------------\u001b[0m",
      "\u001b[0;31mNameError\u001b[0m                                 Traceback (most recent call last)",
      "Cell \u001b[0;32mIn[14], line 1\u001b[0m\n\u001b[0;32m----> 1\u001b[0m \u001b[43mpynet\u001b[49m\u001b[38;5;241m.\u001b[39mwrite_network(\u001b[38;5;124m\"\u001b[39m\u001b[38;5;124mapprox_net.py\u001b[39m\u001b[38;5;124m\"\u001b[39m)\n",
      "\u001b[0;31mNameError\u001b[0m: name 'pynet' is not defined"
     ]
    }
   ],
   "source": [
    "pynet.write_network(\"approx_net.py\")"
   ]
  },
  {
   "cell_type": "code",
   "execution_count": 15,
   "id": "57dedd73-df07-46b2-aade-ee2d70a21768",
   "metadata": {
    "execution": {
     "iopub.execute_input": "2024-10-17T08:51:41.023642Z",
     "iopub.status.busy": "2024-10-17T08:51:41.023355Z",
     "iopub.status.idle": "2024-10-17T08:51:41.034325Z",
     "shell.execute_reply": "2024-10-17T08:51:41.033761Z"
    }
   },
   "outputs": [
    {
     "ename": "ModuleNotFoundError",
     "evalue": "No module named 'approx_net'",
     "output_type": "error",
     "traceback": [
      "\u001b[0;31m---------------------------------------------------------------------------\u001b[0m",
      "\u001b[0;31mModuleNotFoundError\u001b[0m                       Traceback (most recent call last)",
      "Cell \u001b[0;32mIn[15], line 1\u001b[0m\n\u001b[0;32m----> 1\u001b[0m \u001b[38;5;28;01mimport\u001b[39;00m \u001b[38;5;21;01mapprox_net\u001b[39;00m\n",
      "\u001b[0;31mModuleNotFoundError\u001b[0m: No module named 'approx_net'"
     ]
    }
   ],
   "source": [
    "import approx_net"
   ]
  },
  {
   "cell_type": "markdown",
   "id": "65bb3e24-5e74-4188-abf9-9ba4b061fcaf",
   "metadata": {},
   "source": [
    "The `PythonNetwork` knows how to write out the code needed to evaluate the rate approximation.  For instance, the evolution of ${}^{4}\\mathrm{He}$ is determined as:"
   ]
  },
  {
   "cell_type": "code",
   "execution_count": 16,
   "id": "1a44c205-0ceb-45f9-a770-6950bbd31967",
   "metadata": {
    "execution": {
     "iopub.execute_input": "2024-10-17T08:51:41.036095Z",
     "iopub.status.busy": "2024-10-17T08:51:41.035801Z",
     "iopub.status.idle": "2024-10-17T08:51:41.047035Z",
     "shell.execute_reply": "2024-10-17T08:51:41.046495Z"
    }
   },
   "outputs": [
    {
     "ename": "NameError",
     "evalue": "name 'pynet' is not defined",
     "output_type": "error",
     "traceback": [
      "\u001b[0;31m---------------------------------------------------------------------------\u001b[0m",
      "\u001b[0;31mNameError\u001b[0m                                 Traceback (most recent call last)",
      "Cell \u001b[0;32mIn[16], line 1\u001b[0m\n\u001b[0;32m----> 1\u001b[0m \u001b[38;5;28mprint\u001b[39m(\u001b[43mpynet\u001b[49m\u001b[38;5;241m.\u001b[39mfull_ydot_string(pyna\u001b[38;5;241m.\u001b[39mNucleus(\u001b[38;5;124m\"\u001b[39m\u001b[38;5;124mhe4\u001b[39m\u001b[38;5;124m\"\u001b[39m)))\n",
      "\u001b[0;31mNameError\u001b[0m: name 'pynet' is not defined"
     ]
    }
   ],
   "source": [
    "print(pynet.full_ydot_string(pyna.Nucleus(\"he4\")))"
   ]
  },
  {
   "cell_type": "markdown",
   "id": "9bfba495-85c0-4330-841a-7c155cad8d29",
   "metadata": {},
   "source": [
    "And the rate approximations are computed as:"
   ]
  },
  {
   "cell_type": "code",
   "execution_count": 17,
   "id": "e352e718-7d4f-46fb-bedf-a1eb05898f06",
   "metadata": {
    "execution": {
     "iopub.execute_input": "2024-10-17T08:51:41.048789Z",
     "iopub.status.busy": "2024-10-17T08:51:41.048364Z",
     "iopub.status.idle": "2024-10-17T08:51:41.060483Z",
     "shell.execute_reply": "2024-10-17T08:51:41.059940Z"
    }
   },
   "outputs": [
    {
     "ename": "NameError",
     "evalue": "name 'pynet' is not defined",
     "output_type": "error",
     "traceback": [
      "\u001b[0;31m---------------------------------------------------------------------------\u001b[0m",
      "\u001b[0;31mNameError\u001b[0m                                 Traceback (most recent call last)",
      "Cell \u001b[0;32mIn[17], line 1\u001b[0m\n\u001b[0;32m----> 1\u001b[0m r \u001b[38;5;241m=\u001b[39m \u001b[43mpynet\u001b[49m\u001b[38;5;241m.\u001b[39mget_rate(\u001b[38;5;124m\"\u001b[39m\u001b[38;5;124mmg24_he4__si28__approx\u001b[39m\u001b[38;5;124m\"\u001b[39m)\n\u001b[1;32m      2\u001b[0m \u001b[38;5;28mprint\u001b[39m(r\u001b[38;5;241m.\u001b[39mfunction_string_py())\n",
      "\u001b[0;31mNameError\u001b[0m: name 'pynet' is not defined"
     ]
    }
   ],
   "source": [
    "r = pynet.get_rate(\"mg24_he4__si28__approx\")\n",
    "print(r.function_string_py())"
   ]
  },
  {
   "cell_type": "markdown",
   "id": "b864e42b-c124-491c-a7a8-3cce4d979026",
   "metadata": {},
   "source": [
    "where the 4 lines before the rate approximation is made are evaluating the original, unapproximated rates."
   ]
  },
  {
   "cell_type": "markdown",
   "id": "7835f2b6-5843-4a72-a60f-c9f59925b8a7",
   "metadata": {},
   "source": [
    "## Integrating the approximate network\n",
    "\n",
    "Let's integrate this approximate net and compare to above"
   ]
  },
  {
   "cell_type": "code",
   "execution_count": 18,
   "id": "4cb2106a-106c-4db2-bfb1-99110386dad0",
   "metadata": {
    "execution": {
     "iopub.execute_input": "2024-10-17T08:51:41.062417Z",
     "iopub.status.busy": "2024-10-17T08:51:41.062017Z",
     "iopub.status.idle": "2024-10-17T08:51:41.074236Z",
     "shell.execute_reply": "2024-10-17T08:51:41.073735Z"
    }
   },
   "outputs": [
    {
     "ename": "NameError",
     "evalue": "name 'approx_net' is not defined",
     "output_type": "error",
     "traceback": [
      "\u001b[0;31m---------------------------------------------------------------------------\u001b[0m",
      "\u001b[0;31mNameError\u001b[0m                                 Traceback (most recent call last)",
      "Cell \u001b[0;32mIn[18], line 4\u001b[0m\n\u001b[1;32m      1\u001b[0m rho \u001b[38;5;241m=\u001b[39m \u001b[38;5;241m1.e7\u001b[39m\n\u001b[1;32m      2\u001b[0m T \u001b[38;5;241m=\u001b[39m \u001b[38;5;241m3.e9\u001b[39m\n\u001b[0;32m----> 4\u001b[0m X0 \u001b[38;5;241m=\u001b[39m np\u001b[38;5;241m.\u001b[39mzeros(\u001b[43mapprox_net\u001b[49m\u001b[38;5;241m.\u001b[39mnnuc)\n\u001b[1;32m      5\u001b[0m X0[approx_net\u001b[38;5;241m.\u001b[39mjhe4] \u001b[38;5;241m=\u001b[39m \u001b[38;5;241m0.5\u001b[39m\n\u001b[1;32m      6\u001b[0m X0[approx_net\u001b[38;5;241m.\u001b[39mjmg24] \u001b[38;5;241m=\u001b[39m \u001b[38;5;241m0.5\u001b[39m\n",
      "\u001b[0;31mNameError\u001b[0m: name 'approx_net' is not defined"
     ]
    }
   ],
   "source": [
    "rho = 1.e7\n",
    "T = 3.e9\n",
    "\n",
    "X0 = np.zeros(approx_net.nnuc)\n",
    "X0[approx_net.jhe4] = 0.5\n",
    "X0[approx_net.jmg24] = 0.5\n",
    "\n",
    "Y0 = X0 / approx_net.A"
   ]
  },
  {
   "cell_type": "code",
   "execution_count": 19,
   "id": "d451dfd3-7e90-4107-a418-fca77efd9217",
   "metadata": {
    "execution": {
     "iopub.execute_input": "2024-10-17T08:51:41.075930Z",
     "iopub.status.busy": "2024-10-17T08:51:41.075596Z",
     "iopub.status.idle": "2024-10-17T08:51:41.088160Z",
     "shell.execute_reply": "2024-10-17T08:51:41.087705Z"
    }
   },
   "outputs": [
    {
     "ename": "NameError",
     "evalue": "name 'approx_net' is not defined",
     "output_type": "error",
     "traceback": [
      "\u001b[0;31m---------------------------------------------------------------------------\u001b[0m",
      "\u001b[0;31mNameError\u001b[0m                                 Traceback (most recent call last)",
      "Cell \u001b[0;32mIn[19], line 2\u001b[0m\n\u001b[1;32m      1\u001b[0m tmax \u001b[38;5;241m=\u001b[39m \u001b[38;5;241m1.e-3\u001b[39m\n\u001b[0;32m----> 2\u001b[0m approx_sol \u001b[38;5;241m=\u001b[39m solve_ivp(\u001b[43mapprox_net\u001b[49m\u001b[38;5;241m.\u001b[39mrhs, [\u001b[38;5;241m0\u001b[39m, tmax], Y0, method\u001b[38;5;241m=\u001b[39m\u001b[38;5;124m\"\u001b[39m\u001b[38;5;124mBDF\u001b[39m\u001b[38;5;124m\"\u001b[39m,\n\u001b[1;32m      3\u001b[0m                        dense_output\u001b[38;5;241m=\u001b[39m\u001b[38;5;28;01mTrue\u001b[39;00m, args\u001b[38;5;241m=\u001b[39m(rho, T), rtol\u001b[38;5;241m=\u001b[39m\u001b[38;5;241m1.e-6\u001b[39m, atol\u001b[38;5;241m=\u001b[39m\u001b[38;5;241m1.e-10\u001b[39m)\n",
      "\u001b[0;31mNameError\u001b[0m: name 'approx_net' is not defined"
     ]
    }
   ],
   "source": [
    "tmax = 1.e-3\n",
    "approx_sol = solve_ivp(approx_net.rhs, [0, tmax], Y0, method=\"BDF\",\n",
    "                       dense_output=True, args=(rho, T), rtol=1.e-6, atol=1.e-10)"
   ]
  },
  {
   "cell_type": "code",
   "execution_count": 20,
   "id": "3f1d7be8-11e4-4769-910b-868611b970b0",
   "metadata": {
    "execution": {
     "iopub.execute_input": "2024-10-17T08:51:41.089753Z",
     "iopub.status.busy": "2024-10-17T08:51:41.089491Z",
     "iopub.status.idle": "2024-10-17T08:51:41.172344Z",
     "shell.execute_reply": "2024-10-17T08:51:41.171871Z"
    }
   },
   "outputs": [
    {
     "ename": "NameError",
     "evalue": "name 'approx_net' is not defined",
     "output_type": "error",
     "traceback": [
      "\u001b[0;31m---------------------------------------------------------------------------\u001b[0m",
      "\u001b[0;31mNameError\u001b[0m                                 Traceback (most recent call last)",
      "Cell \u001b[0;32mIn[20], line 4\u001b[0m\n\u001b[1;32m      1\u001b[0m fig \u001b[38;5;241m=\u001b[39m plt\u001b[38;5;241m.\u001b[39mfigure()\n\u001b[1;32m      2\u001b[0m ax \u001b[38;5;241m=\u001b[39m fig\u001b[38;5;241m.\u001b[39madd_subplot(\u001b[38;5;241m111\u001b[39m)\n\u001b[0;32m----> 4\u001b[0m \u001b[38;5;28;01mfor\u001b[39;00m i \u001b[38;5;129;01min\u001b[39;00m \u001b[38;5;28mrange\u001b[39m(\u001b[43mapprox_net\u001b[49m\u001b[38;5;241m.\u001b[39mnnuc):\n\u001b[1;32m      5\u001b[0m     ax\u001b[38;5;241m.\u001b[39mloglog(approx_sol\u001b[38;5;241m.\u001b[39mt, approx_sol\u001b[38;5;241m.\u001b[39my[i,:] \u001b[38;5;241m*\u001b[39m approx_net\u001b[38;5;241m.\u001b[39mA[i], label\u001b[38;5;241m=\u001b[39m\u001b[38;5;124mf\u001b[39m\u001b[38;5;124m\"\u001b[39m\u001b[38;5;124mX(\u001b[39m\u001b[38;5;132;01m{\u001b[39;00mapprox_net\u001b[38;5;241m.\u001b[39mnames[i]\u001b[38;5;241m.\u001b[39mcapitalize()\u001b[38;5;132;01m}\u001b[39;00m\u001b[38;5;124m)\u001b[39m\u001b[38;5;124m\"\u001b[39m)\n\u001b[1;32m      7\u001b[0m ax\u001b[38;5;241m.\u001b[39mlegend()\n",
      "\u001b[0;31mNameError\u001b[0m: name 'approx_net' is not defined"
     ]
    },
    {
     "data": {
      "image/png": "[encoded data removed]",
      "text/plain": [
       "<Figure size 640x480 with 1 Axes>"
      ]
     },
     "metadata": {},
     "output_type": "display_data"
    }
   ],
   "source": [
    "fig = plt.figure()\n",
    "ax = fig.add_subplot(111)\n",
    "\n",
    "for i in range(approx_net.nnuc):\n",
    "    ax.loglog(approx_sol.t, approx_sol.y[i,:] * approx_net.A[i], label=f\"X({approx_net.names[i].capitalize()})\")\n",
    "\n",
    "ax.legend()\n",
    "ax.set_xlim(1.e-10, 1.e-3)\n",
    "ax.set_ylim(1.e-12, 1)\n",
    "\n",
    "fig.set_size_inches((10, 8))"
   ]
  },
  {
   "cell_type": "markdown",
   "id": "a1489754-4aba-4dc2-bdbf-75bb0261801f",
   "metadata": {},
   "source": [
    "## Comparison\n",
    "\n",
    "Let's plot both on the same axes to see the comparison."
   ]
  },
  {
   "cell_type": "code",
   "execution_count": 21,
   "id": "29e47190-d9e1-4f4e-9012-e3c52d7d94c9",
   "metadata": {
    "execution": {
     "iopub.execute_input": "2024-10-17T08:51:41.174339Z",
     "iopub.status.busy": "2024-10-17T08:51:41.173989Z",
     "iopub.status.idle": "2024-10-17T08:51:41.259170Z",
     "shell.execute_reply": "2024-10-17T08:51:41.258692Z"
    }
   },
   "outputs": [
    {
     "ename": "NameError",
     "evalue": "name 'approx_net' is not defined",
     "output_type": "error",
     "traceback": [
      "\u001b[0;31m---------------------------------------------------------------------------\u001b[0m",
      "\u001b[0;31mNameError\u001b[0m                                 Traceback (most recent call last)",
      "Cell \u001b[0;32mIn[21], line 4\u001b[0m\n\u001b[1;32m      1\u001b[0m fig \u001b[38;5;241m=\u001b[39m plt\u001b[38;5;241m.\u001b[39mfigure()\n\u001b[1;32m      2\u001b[0m ax \u001b[38;5;241m=\u001b[39m fig\u001b[38;5;241m.\u001b[39madd_subplot(\u001b[38;5;241m111\u001b[39m)\n\u001b[0;32m----> 4\u001b[0m \u001b[38;5;28;01mfor\u001b[39;00m i \u001b[38;5;129;01min\u001b[39;00m \u001b[38;5;28mrange\u001b[39m(\u001b[43mapprox_net\u001b[49m\u001b[38;5;241m.\u001b[39mnnuc):\n\u001b[1;32m      5\u001b[0m     ax\u001b[38;5;241m.\u001b[39mloglog(approx_sol\u001b[38;5;241m.\u001b[39mt, approx_sol\u001b[38;5;241m.\u001b[39my[i,:] \u001b[38;5;241m*\u001b[39m approx_net\u001b[38;5;241m.\u001b[39mA[i],\n\u001b[1;32m      6\u001b[0m               linestyle\u001b[38;5;241m=\u001b[39m\u001b[38;5;124m\"\u001b[39m\u001b[38;5;124m:\u001b[39m\u001b[38;5;124m\"\u001b[39m, color\u001b[38;5;241m=\u001b[39m\u001b[38;5;124mf\u001b[39m\u001b[38;5;124m\"\u001b[39m\u001b[38;5;124mC\u001b[39m\u001b[38;5;132;01m{\u001b[39;00mi\u001b[38;5;132;01m}\u001b[39;00m\u001b[38;5;124m\"\u001b[39m)\n\u001b[1;32m      8\u001b[0m     idx \u001b[38;5;241m=\u001b[39m full_net\u001b[38;5;241m.\u001b[39mnames\u001b[38;5;241m.\u001b[39mindex(approx_net\u001b[38;5;241m.\u001b[39mnames[i])\n",
      "\u001b[0;31mNameError\u001b[0m: name 'approx_net' is not defined"
     ]
    },
    {
     "data": {
      "image/png": "[encoded data removed]",
      "text/plain": [
       "<Figure size 640x480 with 1 Axes>"
      ]
     },
     "metadata": {},
     "output_type": "display_data"
    }
   ],
   "source": [
    "fig = plt.figure()\n",
    "ax = fig.add_subplot(111)\n",
    "\n",
    "for i in range(approx_net.nnuc):\n",
    "    ax.loglog(approx_sol.t, approx_sol.y[i,:] * approx_net.A[i],\n",
    "              linestyle=\":\", color=f\"C{i}\")\n",
    "\n",
    "    idx = full_net.names.index(approx_net.names[i])\n",
    "    ax.loglog(sol.t, sol.y[idx,:] * full_net.A[idx],\n",
    "              label=f\"X({full_net.names[idx].capitalize()})\",              \n",
    "              linestyle=\"-\", color=f\"C{i}\")\n",
    "\n",
    "\n",
    "ax.legend()\n",
    "ax.set_xlim(1.e-10, 1.e-3)\n",
    "ax.set_ylim(1.e-12, 1)\n",
    "\n",
    "fig.set_size_inches((10, 8))"
   ]
  },
  {
   "cell_type": "markdown",
   "id": "aa2c23f7-5b7a-473c-9561-afc9ccf5be60",
   "metadata": {},
   "source": [
    "Here the dotted line is the approximate network.  We see that the results agree well."
   ]
  },
  {
   "cell_type": "markdown",
   "id": "b08f1087-04e3-45fd-a778-08bec0461574",
   "metadata": {},
   "source": [
    "## No approximation\n",
    "\n",
    "What if we just create a 4 nuclei network without the $(\\alpha,p)(p,\\gamma)$ links?  How does this compare?"
   ]
  },
  {
   "cell_type": "code",
   "execution_count": 22,
   "id": "693dee33-98e6-43a4-93a7-2de7aba1604e",
   "metadata": {
    "execution": {
     "iopub.execute_input": "2024-10-17T08:51:41.261101Z",
     "iopub.status.busy": "2024-10-17T08:51:41.260724Z",
     "iopub.status.idle": "2024-10-17T08:51:41.274931Z",
     "shell.execute_reply": "2024-10-17T08:51:41.274491Z"
    }
   },
   "outputs": [
    {
     "ename": "NameError",
     "evalue": "name 'reaclib_library' is not defined",
     "output_type": "error",
     "traceback": [
      "\u001b[0;31m---------------------------------------------------------------------------\u001b[0m",
      "\u001b[0;31mNameError\u001b[0m                                 Traceback (most recent call last)",
      "Cell \u001b[0;32mIn[22], line 1\u001b[0m\n\u001b[0;32m----> 1\u001b[0m newlib \u001b[38;5;241m=\u001b[39m \u001b[43mreaclib_library\u001b[49m\u001b[38;5;241m.\u001b[39mlinking_nuclei([\u001b[38;5;124m\"\u001b[39m\u001b[38;5;124mhe4\u001b[39m\u001b[38;5;124m\"\u001b[39m, \u001b[38;5;124m\"\u001b[39m\u001b[38;5;124mmg24\u001b[39m\u001b[38;5;124m\"\u001b[39m, \u001b[38;5;124m\"\u001b[39m\u001b[38;5;124msi28\u001b[39m\u001b[38;5;124m\"\u001b[39m, \u001b[38;5;124m\"\u001b[39m\u001b[38;5;124ms32\u001b[39m\u001b[38;5;124m\"\u001b[39m])\n\u001b[1;32m      2\u001b[0m newpynet \u001b[38;5;241m=\u001b[39m pyna\u001b[38;5;241m.\u001b[39mPythonNetwork(libraries\u001b[38;5;241m=\u001b[39m[newlib])\n\u001b[1;32m      3\u001b[0m fig \u001b[38;5;241m=\u001b[39m newpynet\u001b[38;5;241m.\u001b[39mplot(rotated\u001b[38;5;241m=\u001b[39m\u001b[38;5;28;01mTrue\u001b[39;00m, curved_edges\u001b[38;5;241m=\u001b[39m\u001b[38;5;28;01mTrue\u001b[39;00m)\n",
      "\u001b[0;31mNameError\u001b[0m: name 'reaclib_library' is not defined"
     ]
    }
   ],
   "source": [
    "newlib = reaclib_library.linking_nuclei([\"he4\", \"mg24\", \"si28\", \"s32\"])\n",
    "newpynet = pyna.PythonNetwork(libraries=[newlib])\n",
    "fig = newpynet.plot(rotated=True, curved_edges=True)"
   ]
  },
  {
   "cell_type": "code",
   "execution_count": 23,
   "id": "be1d4c67-be90-4786-93a7-24b47f37b583",
   "metadata": {
    "execution": {
     "iopub.execute_input": "2024-10-17T08:51:41.276596Z",
     "iopub.status.busy": "2024-10-17T08:51:41.276252Z",
     "iopub.status.idle": "2024-10-17T08:51:41.288147Z",
     "shell.execute_reply": "2024-10-17T08:51:41.287706Z"
    }
   },
   "outputs": [
    {
     "ename": "NameError",
     "evalue": "name 'newpynet' is not defined",
     "output_type": "error",
     "traceback": [
      "\u001b[0;31m---------------------------------------------------------------------------\u001b[0m",
      "\u001b[0;31mNameError\u001b[0m                                 Traceback (most recent call last)",
      "Cell \u001b[0;32mIn[23], line 1\u001b[0m\n\u001b[0;32m----> 1\u001b[0m \u001b[43mnewpynet\u001b[49m\u001b[38;5;241m.\u001b[39mwrite_network(\u001b[38;5;124m\"\u001b[39m\u001b[38;5;124msimple_net.py\u001b[39m\u001b[38;5;124m\"\u001b[39m)\n\u001b[1;32m      2\u001b[0m \u001b[38;5;28;01mimport\u001b[39;00m \u001b[38;5;21;01msimple_net\u001b[39;00m\n",
      "\u001b[0;31mNameError\u001b[0m: name 'newpynet' is not defined"
     ]
    }
   ],
   "source": [
    "newpynet.write_network(\"simple_net.py\")\n",
    "import simple_net"
   ]
  },
  {
   "cell_type": "code",
   "execution_count": 24,
   "id": "5c91da87-c28f-43a8-b872-d5b29cc84a41",
   "metadata": {
    "execution": {
     "iopub.execute_input": "2024-10-17T08:51:41.289883Z",
     "iopub.status.busy": "2024-10-17T08:51:41.289547Z",
     "iopub.status.idle": "2024-10-17T08:51:41.302266Z",
     "shell.execute_reply": "2024-10-17T08:51:41.301780Z"
    }
   },
   "outputs": [
    {
     "ename": "NameError",
     "evalue": "name 'simple_net' is not defined",
     "output_type": "error",
     "traceback": [
      "\u001b[0;31m---------------------------------------------------------------------------\u001b[0m",
      "\u001b[0;31mNameError\u001b[0m                                 Traceback (most recent call last)",
      "Cell \u001b[0;32mIn[24], line 4\u001b[0m\n\u001b[1;32m      1\u001b[0m rho \u001b[38;5;241m=\u001b[39m \u001b[38;5;241m1.e7\u001b[39m\n\u001b[1;32m      2\u001b[0m T \u001b[38;5;241m=\u001b[39m \u001b[38;5;241m3e9\u001b[39m\n\u001b[0;32m----> 4\u001b[0m X0 \u001b[38;5;241m=\u001b[39m np\u001b[38;5;241m.\u001b[39mzeros(\u001b[43msimple_net\u001b[49m\u001b[38;5;241m.\u001b[39mnnuc)\n\u001b[1;32m      5\u001b[0m X0[simple_net\u001b[38;5;241m.\u001b[39mjhe4] \u001b[38;5;241m=\u001b[39m \u001b[38;5;241m0.5\u001b[39m\n\u001b[1;32m      6\u001b[0m X0[simple_net\u001b[38;5;241m.\u001b[39mjmg24] \u001b[38;5;241m=\u001b[39m \u001b[38;5;241m0.5\u001b[39m\n",
      "\u001b[0;31mNameError\u001b[0m: name 'simple_net' is not defined"
     ]
    }
   ],
   "source": [
    "rho = 1.e7\n",
    "T = 3e9\n",
    "\n",
    "X0 = np.zeros(simple_net.nnuc)\n",
    "X0[simple_net.jhe4] = 0.5\n",
    "X0[simple_net.jmg24] = 0.5\n",
    "\n",
    "Y0 = X0 / simple_net.A"
   ]
  },
  {
   "cell_type": "code",
   "execution_count": 25,
   "id": "115b6412-d074-487a-83cd-cbcc22e591de",
   "metadata": {
    "execution": {
     "iopub.execute_input": "2024-10-17T08:51:41.303915Z",
     "iopub.status.busy": "2024-10-17T08:51:41.303594Z",
     "iopub.status.idle": "2024-10-17T08:51:41.315789Z",
     "shell.execute_reply": "2024-10-17T08:51:41.315328Z"
    }
   },
   "outputs": [
    {
     "ename": "NameError",
     "evalue": "name 'simple_net' is not defined",
     "output_type": "error",
     "traceback": [
      "\u001b[0;31m---------------------------------------------------------------------------\u001b[0m",
      "\u001b[0;31mNameError\u001b[0m                                 Traceback (most recent call last)",
      "Cell \u001b[0;32mIn[25], line 1\u001b[0m\n\u001b[0;32m----> 1\u001b[0m \u001b[43msimple_net\u001b[49m\u001b[38;5;241m.\u001b[39mnames \u001b[38;5;241m==\u001b[39m approx_net\u001b[38;5;241m.\u001b[39mnames\n",
      "\u001b[0;31mNameError\u001b[0m: name 'simple_net' is not defined"
     ]
    }
   ],
   "source": [
    "simple_net.names == approx_net.names"
   ]
  },
  {
   "cell_type": "code",
   "execution_count": 26,
   "id": "0d3ea5d7-9447-44ff-ab35-affa05335e93",
   "metadata": {
    "execution": {
     "iopub.execute_input": "2024-10-17T08:51:41.317369Z",
     "iopub.status.busy": "2024-10-17T08:51:41.317070Z",
     "iopub.status.idle": "2024-10-17T08:51:41.329293Z",
     "shell.execute_reply": "2024-10-17T08:51:41.328822Z"
    }
   },
   "outputs": [
    {
     "ename": "NameError",
     "evalue": "name 'simple_net' is not defined",
     "output_type": "error",
     "traceback": [
      "\u001b[0;31m---------------------------------------------------------------------------\u001b[0m",
      "\u001b[0;31mNameError\u001b[0m                                 Traceback (most recent call last)",
      "Cell \u001b[0;32mIn[26], line 2\u001b[0m\n\u001b[1;32m      1\u001b[0m tmax \u001b[38;5;241m=\u001b[39m \u001b[38;5;241m1.e-3\u001b[39m\n\u001b[0;32m----> 2\u001b[0m simple_sol \u001b[38;5;241m=\u001b[39m solve_ivp(\u001b[43msimple_net\u001b[49m\u001b[38;5;241m.\u001b[39mrhs, [\u001b[38;5;241m0\u001b[39m, tmax], Y0, method\u001b[38;5;241m=\u001b[39m\u001b[38;5;124m\"\u001b[39m\u001b[38;5;124mBDF\u001b[39m\u001b[38;5;124m\"\u001b[39m,\n\u001b[1;32m      3\u001b[0m                        dense_output\u001b[38;5;241m=\u001b[39m\u001b[38;5;28;01mTrue\u001b[39;00m, args\u001b[38;5;241m=\u001b[39m(rho, T), rtol\u001b[38;5;241m=\u001b[39m\u001b[38;5;241m1.e-6\u001b[39m, atol\u001b[38;5;241m=\u001b[39m\u001b[38;5;241m1.e-10\u001b[39m)\n",
      "\u001b[0;31mNameError\u001b[0m: name 'simple_net' is not defined"
     ]
    }
   ],
   "source": [
    "tmax = 1.e-3\n",
    "simple_sol = solve_ivp(simple_net.rhs, [0, tmax], Y0, method=\"BDF\",\n",
    "                       dense_output=True, args=(rho, T), rtol=1.e-6, atol=1.e-10)"
   ]
  },
  {
   "cell_type": "code",
   "execution_count": 27,
   "id": "5616b8dd-3396-48cf-ae93-b86324003024",
   "metadata": {
    "execution": {
     "iopub.execute_input": "2024-10-17T08:51:41.331065Z",
     "iopub.status.busy": "2024-10-17T08:51:41.330676Z",
     "iopub.status.idle": "2024-10-17T08:51:41.417238Z",
     "shell.execute_reply": "2024-10-17T08:51:41.416722Z"
    }
   },
   "outputs": [
    {
     "ename": "NameError",
     "evalue": "name 'approx_net' is not defined",
     "output_type": "error",
     "traceback": [
      "\u001b[0;31m---------------------------------------------------------------------------\u001b[0m",
      "\u001b[0;31mNameError\u001b[0m                                 Traceback (most recent call last)",
      "Cell \u001b[0;32mIn[27], line 4\u001b[0m\n\u001b[1;32m      1\u001b[0m fig \u001b[38;5;241m=\u001b[39m plt\u001b[38;5;241m.\u001b[39mfigure()\n\u001b[1;32m      2\u001b[0m ax \u001b[38;5;241m=\u001b[39m fig\u001b[38;5;241m.\u001b[39madd_subplot(\u001b[38;5;241m111\u001b[39m)\n\u001b[0;32m----> 4\u001b[0m \u001b[38;5;28;01mfor\u001b[39;00m i \u001b[38;5;129;01min\u001b[39;00m \u001b[38;5;28mrange\u001b[39m(\u001b[43mapprox_net\u001b[49m\u001b[38;5;241m.\u001b[39mnnuc):\n\u001b[1;32m      5\u001b[0m     ax\u001b[38;5;241m.\u001b[39mloglog(approx_sol\u001b[38;5;241m.\u001b[39mt, approx_sol\u001b[38;5;241m.\u001b[39my[i,:] \u001b[38;5;241m*\u001b[39m approx_net\u001b[38;5;241m.\u001b[39mA[i],\n\u001b[1;32m      6\u001b[0m               linestyle\u001b[38;5;241m=\u001b[39m\u001b[38;5;124m\"\u001b[39m\u001b[38;5;124m:\u001b[39m\u001b[38;5;124m\"\u001b[39m, color\u001b[38;5;241m=\u001b[39m\u001b[38;5;124mf\u001b[39m\u001b[38;5;124m\"\u001b[39m\u001b[38;5;124mC\u001b[39m\u001b[38;5;132;01m{\u001b[39;00mi\u001b[38;5;132;01m}\u001b[39;00m\u001b[38;5;124m\"\u001b[39m)\n\u001b[1;32m      8\u001b[0m     idx \u001b[38;5;241m=\u001b[39m full_net\u001b[38;5;241m.\u001b[39mnames\u001b[38;5;241m.\u001b[39mindex(approx_net\u001b[38;5;241m.\u001b[39mnames[i])\n",
      "\u001b[0;31mNameError\u001b[0m: name 'approx_net' is not defined"
     ]
    },
    {
     "data": {
      "image/png": "[encoded data removed]",
      "text/plain": [
       "<Figure size 640x480 with 1 Axes>"
      ]
     },
     "metadata": {},
     "output_type": "display_data"
    }
   ],
   "source": [
    "fig = plt.figure()\n",
    "ax = fig.add_subplot(111)\n",
    "\n",
    "for i in range(approx_net.nnuc):\n",
    "    ax.loglog(approx_sol.t, approx_sol.y[i,:] * approx_net.A[i],\n",
    "              linestyle=\":\", color=f\"C{i}\")\n",
    "\n",
    "    idx = full_net.names.index(approx_net.names[i])\n",
    "    ax.loglog(sol.t, sol.y[idx,:] * full_net.A[idx],\n",
    "              label=f\"X({full_net.names[idx].capitalize()})\",              \n",
    "              linestyle=\"-\", color=f\"C{i}\")\n",
    "\n",
    "    idx = simple_net.names.index(approx_net.names[i])\n",
    "    ax.loglog(simple_sol.t, simple_sol.y[idx,:] * simple_net.A[idx],\n",
    "              linestyle=\"--\", color=f\"C{i}\")\n",
    "\n",
    "\n",
    "ax.legend()\n",
    "ax.set_xlim(1.e-10, 1.e-3)\n",
    "ax.set_ylim(1.e-12, 1)\n",
    "\n",
    "fig.set_size_inches((10, 8))"
   ]
  },
  {
   "cell_type": "markdown",
   "id": "136ada1d-1c7b-4903-bc0f-8a028bb5e011",
   "metadata": {},
   "source": [
    "Here we see all 3 networks.  The full network (7 nuclei) is the solid lines.  The approximate version of that is the dotted line.  We see that they track reasonably well, especially when the abundance is high.  The dashed line is the version of the network that has the same 4 nuclei as the approximate network, but with out approximating the $(\\alpha, p)(p,\\gamma)$ links, so we see that the ${}^{24}\\mathrm{Mg}$ takes longer to burn."
   ]
  }
 ],
 "metadata": {
  "kernelspec": {
   "display_name": "Python 3 (ipykernel)",
   "language": "python",
   "name": "python3"
  },
  "language_info": {
   "codemirror_mode": {
    "name": "ipython",
    "version": 3
   },
   "file_extension": ".py",
   "mimetype": "text/x-python",
   "name": "python",
   "nbconvert_exporter": "python",
   "pygments_lexer": "ipython3",
   "version": "3.11.10"
  }
 },
 "nbformat": 4,
 "nbformat_minor": 5
}
