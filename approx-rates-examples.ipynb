{
 "cells": [
  {
   "cell_type": "markdown",
   "id": "2d21e25a-4b3d-423b-842f-b08bac453158",
   "metadata": {},
   "source": [
    "# Approximate Rates\n",
    "\n",
    "pynucastro can use rate approximations for $A(\\alpha,\\gamma)B$ and $A(\\alpha,p)X(p,\\gamma)B$,\n",
    "combining them into a single effective rate by assuming that the protons and nucleus $X$ are in equilibrium."
   ]
  },
  {
   "cell_type": "code",
   "execution_count": 1,
   "id": "12e1d6a1-2384-4409-bbe7-221cf2f9e197",
   "metadata": {
    "execution": {
     "iopub.execute_input": "2024-10-10T09:53:13.601567Z",
     "iopub.status.busy": "2024-10-10T09:53:13.601396Z",
     "iopub.status.idle": "2024-10-10T09:53:14.156546Z",
     "shell.execute_reply": "2024-10-10T09:53:14.155995Z"
    }
   },
   "outputs": [
    {
     "ename": "ValueError",
     "evalue": "not enough values to unpack (expected 5, got 4)",
     "output_type": "error",
     "traceback": [
      "\u001b[0;31m---------------------------------------------------------------------------\u001b[0m",
      "\u001b[0;31mValueError\u001b[0m                                Traceback (most recent call last)",
      "Cell \u001b[0;32mIn[1], line 1\u001b[0m\n\u001b[0;32m----> 1\u001b[0m \u001b[38;5;28;01mimport\u001b[39;00m \u001b[38;5;21;01mpynucastro\u001b[39;00m \u001b[38;5;28;01mas\u001b[39;00m \u001b[38;5;21;01mpyna\u001b[39;00m\n\u001b[1;32m      2\u001b[0m \u001b[38;5;28;01mimport\u001b[39;00m \u001b[38;5;21;01mnumpy\u001b[39;00m \u001b[38;5;28;01mas\u001b[39;00m \u001b[38;5;21;01mnp\u001b[39;00m\n\u001b[1;32m      3\u001b[0m \u001b[38;5;28;01mimport\u001b[39;00m \u001b[38;5;21;01mmatplotlib\u001b[39;00m\u001b[38;5;21;01m.\u001b[39;00m\u001b[38;5;21;01mpyplot\u001b[39;00m \u001b[38;5;28;01mas\u001b[39;00m \u001b[38;5;21;01mplt\u001b[39;00m\n",
      "File \u001b[0;32m/opt/hostedtoolcache/Python/3.11.10/x64/lib/python3.11/site-packages/pynucastro/__init__.py:131\u001b[0m\n\u001b[1;32m    126\u001b[0m \u001b[38;5;28;01mfrom\u001b[39;00m \u001b[38;5;21;01m.\u001b[39;00m\u001b[38;5;21;01m_version\u001b[39;00m \u001b[38;5;28;01mimport\u001b[39;00m version\n\u001b[1;32m    128\u001b[0m __version__ \u001b[38;5;241m=\u001b[39m version\n\u001b[0;32m--> 131\u001b[0m \u001b[38;5;28;01mimport\u001b[39;00m \u001b[38;5;21;01mpynucastro\u001b[39;00m\u001b[38;5;21;01m.\u001b[39;00m\u001b[38;5;21;01mscreening\u001b[39;00m\n\u001b[1;32m    132\u001b[0m \u001b[38;5;28;01mfrom\u001b[39;00m \u001b[38;5;21;01mpynucastro\u001b[39;00m\u001b[38;5;21;01m.\u001b[39;00m\u001b[38;5;21;01mnetworks\u001b[39;00m \u001b[38;5;28;01mimport\u001b[39;00m (AmrexAstroCxxNetwork, BaseCxxNetwork,\n\u001b[1;32m    133\u001b[0m                                  Composition, Explorer, NSENetwork,\n\u001b[1;32m    134\u001b[0m                                  NumpyNetwork, PythonNetwork, RateCollection,\n\u001b[1;32m    135\u001b[0m                                  SimpleCxxNetwork, StarKillerCxxNetwork,\n\u001b[1;32m    136\u001b[0m                                  SympyRates)\n\u001b[1;32m    137\u001b[0m \u001b[38;5;28;01mfrom\u001b[39;00m \u001b[38;5;21;01mpynucastro\u001b[39;00m\u001b[38;5;21;01m.\u001b[39;00m\u001b[38;5;21;01mnucdata\u001b[39;00m \u001b[38;5;28;01mimport\u001b[39;00m Nucleus, get_all_nuclei, get_nuclei_in_range\n",
      "File \u001b[0;32m/opt/hostedtoolcache/Python/3.11.10/x64/lib/python3.11/site-packages/pynucastro/screening/__init__.py:5\u001b[0m\n\u001b[1;32m      1\u001b[0m \u001b[38;5;124;03m\"\"\"Screening routines\"\"\"\u001b[39;00m\n\u001b[1;32m      3\u001b[0m __all__ \u001b[38;5;241m=\u001b[39m [\u001b[38;5;124m\"\u001b[39m\u001b[38;5;124mscreen\u001b[39m\u001b[38;5;124m\"\u001b[39m, \u001b[38;5;124m\"\u001b[39m\u001b[38;5;124mscreening_util\u001b[39m\u001b[38;5;124m\"\u001b[39m]\n\u001b[0;32m----> 5\u001b[0m \u001b[38;5;28;01mfrom\u001b[39;00m \u001b[38;5;21;01m.\u001b[39;00m\u001b[38;5;21;01mscreen\u001b[39;00m \u001b[38;5;28;01mimport\u001b[39;00m (NseState, PlasmaState, ScreenFactors, chugunov_2007,\n\u001b[1;32m      6\u001b[0m                      chugunov_2009, make_plasma_state, make_screen_factors,\n\u001b[1;32m      7\u001b[0m                      potekhin_1998, screen5)\n\u001b[1;32m      8\u001b[0m \u001b[38;5;28;01mfrom\u001b[39;00m \u001b[38;5;21;01m.\u001b[39;00m\u001b[38;5;21;01mscreening_util\u001b[39;00m \u001b[38;5;28;01mimport\u001b[39;00m ScreeningPair, get_screening_map\n",
      "File \u001b[0;32m/opt/hostedtoolcache/Python/3.11.10/x64/lib/python3.11/site-packages/pynucastro/screening/screen.py:7\u001b[0m\n\u001b[1;32m      4\u001b[0m \u001b[38;5;28;01mimport\u001b[39;00m \u001b[38;5;21;01mnumpy\u001b[39;00m \u001b[38;5;28;01mas\u001b[39;00m \u001b[38;5;21;01mnp\u001b[39;00m\n\u001b[1;32m      6\u001b[0m \u001b[38;5;28;01mfrom\u001b[39;00m \u001b[38;5;21;01mpynucastro\u001b[39;00m\u001b[38;5;21;01m.\u001b[39;00m\u001b[38;5;21;01mconstants\u001b[39;00m \u001b[38;5;28;01mimport\u001b[39;00m constants\n\u001b[0;32m----> 7\u001b[0m \u001b[38;5;28;01mfrom\u001b[39;00m \u001b[38;5;21;01mpynucastro\u001b[39;00m\u001b[38;5;21;01m.\u001b[39;00m\u001b[38;5;21;01mnucdata\u001b[39;00m \u001b[38;5;28;01mimport\u001b[39;00m Nucleus\n\u001b[1;32m      8\u001b[0m \u001b[38;5;66;03m# use the jitclass placeholder from rate.py\u001b[39;00m\n\u001b[1;32m      9\u001b[0m \u001b[38;5;28;01mfrom\u001b[39;00m \u001b[38;5;21;01mpynucastro\u001b[39;00m\u001b[38;5;21;01m.\u001b[39;00m\u001b[38;5;21;01mrates\u001b[39;00m\u001b[38;5;21;01m.\u001b[39;00m\u001b[38;5;21;01mrate\u001b[39;00m \u001b[38;5;28;01mimport\u001b[39;00m jitclass, numba\n",
      "File \u001b[0;32m/opt/hostedtoolcache/Python/3.11.10/x64/lib/python3.11/site-packages/pynucastro/nucdata/__init__.py:10\u001b[0m\n\u001b[1;32m      8\u001b[0m \u001b[38;5;28;01mfrom\u001b[39;00m \u001b[38;5;21;01m.\u001b[39;00m\u001b[38;5;21;01melements\u001b[39;00m \u001b[38;5;28;01mimport\u001b[39;00m Element, PeriodicTable, UnidentifiedElement\n\u001b[1;32m      9\u001b[0m \u001b[38;5;28;01mfrom\u001b[39;00m \u001b[38;5;21;01m.\u001b[39;00m\u001b[38;5;21;01mmass_table\u001b[39;00m \u001b[38;5;28;01mimport\u001b[39;00m MassTable\n\u001b[0;32m---> 10\u001b[0m \u001b[38;5;28;01mfrom\u001b[39;00m \u001b[38;5;21;01m.\u001b[39;00m\u001b[38;5;21;01mnucleus\u001b[39;00m \u001b[38;5;28;01mimport\u001b[39;00m (Nucleus, UnsupportedNucleus, get_all_nuclei,\n\u001b[1;32m     11\u001b[0m                       get_nuclei_in_range)\n\u001b[1;32m     12\u001b[0m \u001b[38;5;28;01mfrom\u001b[39;00m \u001b[38;5;21;01m.\u001b[39;00m\u001b[38;5;21;01mpartition_function\u001b[39;00m \u001b[38;5;28;01mimport\u001b[39;00m (PartitionFunction,\n\u001b[1;32m     13\u001b[0m                                  PartitionFunctionCollection,\n\u001b[1;32m     14\u001b[0m                                  PartitionFunctionTable)\n\u001b[1;32m     15\u001b[0m \u001b[38;5;28;01mfrom\u001b[39;00m \u001b[38;5;21;01m.\u001b[39;00m\u001b[38;5;21;01mspin_table\u001b[39;00m \u001b[38;5;28;01mimport\u001b[39;00m SpinTable\n",
      "File \u001b[0;32m/opt/hostedtoolcache/Python/3.11.10/x64/lib/python3.11/site-packages/pynucastro/nucdata/nucleus.py:22\u001b[0m\n\u001b[1;32m     20\u001b[0m _mass_table \u001b[38;5;241m=\u001b[39m MassTable()\n\u001b[1;32m     21\u001b[0m _halflife_table \u001b[38;5;241m=\u001b[39m HalfLifeTable()\n\u001b[0;32m---> 22\u001b[0m _spin_table \u001b[38;5;241m=\u001b[39m \u001b[43mSpinTable\u001b[49m\u001b[43m(\u001b[49m\u001b[43mreliable\u001b[49m\u001b[38;5;241;43m=\u001b[39;49m\u001b[38;5;28;43;01mTrue\u001b[39;49;00m\u001b[43m)\u001b[49m\n\u001b[1;32m     24\u001b[0m \u001b[38;5;66;03m# read the partition function table once and store it at the module-level\u001b[39;00m\n\u001b[1;32m     25\u001b[0m _pcollection \u001b[38;5;241m=\u001b[39m PartitionFunctionCollection(use_high_temperatures\u001b[38;5;241m=\u001b[39m\u001b[38;5;28;01mTrue\u001b[39;00m, use_set\u001b[38;5;241m=\u001b[39m\u001b[38;5;124m'\u001b[39m\u001b[38;5;124mfrdm\u001b[39m\u001b[38;5;124m'\u001b[39m)\n",
      "File \u001b[0;32m/opt/hostedtoolcache/Python/3.11.10/x64/lib/python3.11/site-packages/pynucastro/nucdata/spin_table.py:27\u001b[0m, in \u001b[0;36mSpinTable.__init__\u001b[0;34m(self, datafile, reliable)\u001b[0m\n\u001b[1;32m     24\u001b[0m     datafile_name \u001b[38;5;241m=\u001b[39m \u001b[38;5;124m'\u001b[39m\u001b[38;5;124mnubase2020_1.txt\u001b[39m\u001b[38;5;124m'\u001b[39m\n\u001b[1;32m     25\u001b[0m     \u001b[38;5;28mself\u001b[39m\u001b[38;5;241m.\u001b[39mdatafile \u001b[38;5;241m=\u001b[39m nucdata_dir\u001b[38;5;241m/\u001b[39m\u001b[38;5;124m'\u001b[39m\u001b[38;5;124mAtomicMassEvaluation\u001b[39m\u001b[38;5;124m'\u001b[39m\u001b[38;5;241m/\u001b[39mdatafile_name\n\u001b[0;32m---> 27\u001b[0m \u001b[38;5;28;43mself\u001b[39;49m\u001b[38;5;241;43m.\u001b[39;49m\u001b[43m_read_table\u001b[49m\u001b[43m(\u001b[49m\u001b[43m)\u001b[49m\n",
      "File \u001b[0;32m/opt/hostedtoolcache/Python/3.11.10/x64/lib/python3.11/site-packages/pynucastro/nucdata/spin_table.py:35\u001b[0m, in \u001b[0;36mSpinTable._read_table\u001b[0;34m(self)\u001b[0m\n\u001b[1;32m     31\u001b[0m \u001b[38;5;28;01mwith\u001b[39;00m \u001b[38;5;28mself\u001b[39m\u001b[38;5;241m.\u001b[39mdatafile\u001b[38;5;241m.\u001b[39mopen(\u001b[38;5;124m\"\u001b[39m\u001b[38;5;124mr\u001b[39m\u001b[38;5;124m\"\u001b[39m) \u001b[38;5;28;01mas\u001b[39;00m f:\n\u001b[1;32m     33\u001b[0m     \u001b[38;5;28;01mfor\u001b[39;00m line \u001b[38;5;129;01min\u001b[39;00m f\u001b[38;5;241m.\u001b[39mreadlines()[\u001b[38;5;241m4\u001b[39m:]:\n\u001b[0;32m---> 35\u001b[0m         A, Z, _, spin_states, experimental \u001b[38;5;241m=\u001b[39m line\u001b[38;5;241m.\u001b[39mstrip()\u001b[38;5;241m.\u001b[39msplit()[:\u001b[38;5;241m4\u001b[39m]\n\u001b[1;32m     36\u001b[0m         A, Z, spin_states \u001b[38;5;241m=\u001b[39m \u001b[38;5;28mint\u001b[39m(A), \u001b[38;5;28mint\u001b[39m(Z), \u001b[38;5;28mint\u001b[39m(spin_states)\n\u001b[1;32m     38\u001b[0m         \u001b[38;5;28;01mif\u001b[39;00m \u001b[38;5;28mself\u001b[39m\u001b[38;5;241m.\u001b[39mreliable:\n",
      "\u001b[0;31mValueError\u001b[0m: not enough values to unpack (expected 5, got 4)"
     ]
    }
   ],
   "source": [
    "import pynucastro as pyna\n",
    "import numpy as np\n",
    "import matplotlib.pyplot as plt\n",
    "from scipy.integrate import solve_ivp"
   ]
  },
  {
   "cell_type": "markdown",
   "id": "847af100-3f40-475c-aa5e-7af228f35aef",
   "metadata": {},
   "source": [
    "Let's create a simple network that has both an $(\\alpha, \\gamma)$ and\n",
    "$(\\alpha, p)(p, \\gamma)$ sequence."
   ]
  },
  {
   "cell_type": "code",
   "execution_count": 2,
   "id": "4f2b68c7-0fbb-44e9-ad74-71d7b74d7d3f",
   "metadata": {
    "execution": {
     "iopub.execute_input": "2024-10-10T09:53:14.158491Z",
     "iopub.status.busy": "2024-10-10T09:53:14.158125Z",
     "iopub.status.idle": "2024-10-10T09:53:14.170517Z",
     "shell.execute_reply": "2024-10-10T09:53:14.170018Z"
    }
   },
   "outputs": [
    {
     "ename": "NameError",
     "evalue": "name 'pyna' is not defined",
     "output_type": "error",
     "traceback": [
      "\u001b[0;31m---------------------------------------------------------------------------\u001b[0m",
      "\u001b[0;31mNameError\u001b[0m                                 Traceback (most recent call last)",
      "Cell \u001b[0;32mIn[2], line 1\u001b[0m\n\u001b[0;32m----> 1\u001b[0m reaclib_library \u001b[38;5;241m=\u001b[39m \u001b[43mpyna\u001b[49m\u001b[38;5;241m.\u001b[39mReacLibLibrary()\n\u001b[1;32m      2\u001b[0m mylib \u001b[38;5;241m=\u001b[39m reaclib_library\u001b[38;5;241m.\u001b[39mlinking_nuclei([\u001b[38;5;124m\"\u001b[39m\u001b[38;5;124mmg24\u001b[39m\u001b[38;5;124m\"\u001b[39m, \u001b[38;5;124m\"\u001b[39m\u001b[38;5;124mal27\u001b[39m\u001b[38;5;124m\"\u001b[39m, \u001b[38;5;124m\"\u001b[39m\u001b[38;5;124msi28\u001b[39m\u001b[38;5;124m\"\u001b[39m, \u001b[38;5;124m\"\u001b[39m\u001b[38;5;124mp31\u001b[39m\u001b[38;5;124m\"\u001b[39m, \u001b[38;5;124m\"\u001b[39m\u001b[38;5;124ms32\u001b[39m\u001b[38;5;124m\"\u001b[39m, \u001b[38;5;124m\"\u001b[39m\u001b[38;5;124mhe4\u001b[39m\u001b[38;5;124m\"\u001b[39m, \u001b[38;5;124m\"\u001b[39m\u001b[38;5;124mp\u001b[39m\u001b[38;5;124m\"\u001b[39m])\n\u001b[1;32m      3\u001b[0m pynet \u001b[38;5;241m=\u001b[39m pyna\u001b[38;5;241m.\u001b[39mPythonNetwork(libraries\u001b[38;5;241m=\u001b[39m[mylib])\n",
      "\u001b[0;31mNameError\u001b[0m: name 'pyna' is not defined"
     ]
    }
   ],
   "source": [
    "reaclib_library = pyna.ReacLibLibrary()\n",
    "mylib = reaclib_library.linking_nuclei([\"mg24\", \"al27\", \"si28\", \"p31\", \"s32\", \"he4\", \"p\"])\n",
    "pynet = pyna.PythonNetwork(libraries=[mylib])"
   ]
  },
  {
   "cell_type": "code",
   "execution_count": 3,
   "id": "7891cf0e-5b06-438d-87d5-8adca038465f",
   "metadata": {
    "execution": {
     "iopub.execute_input": "2024-10-10T09:53:14.172363Z",
     "iopub.status.busy": "2024-10-10T09:53:14.172009Z",
     "iopub.status.idle": "2024-10-10T09:53:14.182386Z",
     "shell.execute_reply": "2024-10-10T09:53:14.181939Z"
    },
    "tags": []
   },
   "outputs": [
    {
     "ename": "NameError",
     "evalue": "name 'pynet' is not defined",
     "output_type": "error",
     "traceback": [
      "\u001b[0;31m---------------------------------------------------------------------------\u001b[0m",
      "\u001b[0;31mNameError\u001b[0m                                 Traceback (most recent call last)",
      "Cell \u001b[0;32mIn[3], line 1\u001b[0m\n\u001b[0;32m----> 1\u001b[0m fig \u001b[38;5;241m=\u001b[39m \u001b[43mpynet\u001b[49m\u001b[38;5;241m.\u001b[39mplot(rotated\u001b[38;5;241m=\u001b[39m\u001b[38;5;28;01mTrue\u001b[39;00m, curved_edges\u001b[38;5;241m=\u001b[39m\u001b[38;5;28;01mTrue\u001b[39;00m)\n",
      "\u001b[0;31mNameError\u001b[0m: name 'pynet' is not defined"
     ]
    }
   ],
   "source": [
    "fig = pynet.plot(rotated=True, curved_edges=True)"
   ]
  },
  {
   "cell_type": "code",
   "execution_count": 4,
   "id": "576721f6-1ef0-4c58-8e12-5b70692640f0",
   "metadata": {
    "execution": {
     "iopub.execute_input": "2024-10-10T09:53:14.184148Z",
     "iopub.status.busy": "2024-10-10T09:53:14.183697Z",
     "iopub.status.idle": "2024-10-10T09:53:14.194055Z",
     "shell.execute_reply": "2024-10-10T09:53:14.193611Z"
    }
   },
   "outputs": [
    {
     "ename": "NameError",
     "evalue": "name 'pynet' is not defined",
     "output_type": "error",
     "traceback": [
      "\u001b[0;31m---------------------------------------------------------------------------\u001b[0m",
      "\u001b[0;31mNameError\u001b[0m                                 Traceback (most recent call last)",
      "Cell \u001b[0;32mIn[4], line 1\u001b[0m\n\u001b[0;32m----> 1\u001b[0m \u001b[43mpynet\u001b[49m\u001b[38;5;241m.\u001b[39mwrite_network(\u001b[38;5;124m\"\u001b[39m\u001b[38;5;124mfull_net.py\u001b[39m\u001b[38;5;124m\"\u001b[39m)\n",
      "\u001b[0;31mNameError\u001b[0m: name 'pynet' is not defined"
     ]
    }
   ],
   "source": [
    "pynet.write_network(\"full_net.py\")"
   ]
  },
  {
   "cell_type": "code",
   "execution_count": 5,
   "id": "01eb52a1-5e98-49e4-a69d-a52dc9e8bb44",
   "metadata": {
    "execution": {
     "iopub.execute_input": "2024-10-10T09:53:14.195724Z",
     "iopub.status.busy": "2024-10-10T09:53:14.195389Z",
     "iopub.status.idle": "2024-10-10T09:53:14.205624Z",
     "shell.execute_reply": "2024-10-10T09:53:14.205068Z"
    }
   },
   "outputs": [
    {
     "ename": "ModuleNotFoundError",
     "evalue": "No module named 'full_net'",
     "output_type": "error",
     "traceback": [
      "\u001b[0;31m---------------------------------------------------------------------------\u001b[0m",
      "\u001b[0;31mModuleNotFoundError\u001b[0m                       Traceback (most recent call last)",
      "Cell \u001b[0;32mIn[5], line 1\u001b[0m\n\u001b[0;32m----> 1\u001b[0m \u001b[38;5;28;01mimport\u001b[39;00m \u001b[38;5;21;01mfull_net\u001b[39;00m\n",
      "\u001b[0;31mModuleNotFoundError\u001b[0m: No module named 'full_net'"
     ]
    }
   ],
   "source": [
    "import full_net"
   ]
  },
  {
   "cell_type": "markdown",
   "id": "8574a131-764a-40ec-81e5-5e01da2e8215",
   "metadata": {},
   "source": [
    "## Integrating the full network\n",
    "\n",
    "Now let's integrate this.  We'll start with half ${}^{24}\\mathrm{Mg}$ and half $\\alpha$ by mass."
   ]
  },
  {
   "cell_type": "code",
   "execution_count": 6,
   "id": "4789d42d-5345-4560-a2cf-9646cbb757f0",
   "metadata": {
    "execution": {
     "iopub.execute_input": "2024-10-10T09:53:14.207258Z",
     "iopub.status.busy": "2024-10-10T09:53:14.206937Z",
     "iopub.status.idle": "2024-10-10T09:53:14.218532Z",
     "shell.execute_reply": "2024-10-10T09:53:14.217989Z"
    }
   },
   "outputs": [
    {
     "ename": "NameError",
     "evalue": "name 'np' is not defined",
     "output_type": "error",
     "traceback": [
      "\u001b[0;31m---------------------------------------------------------------------------\u001b[0m",
      "\u001b[0;31mNameError\u001b[0m                                 Traceback (most recent call last)",
      "Cell \u001b[0;32mIn[6], line 4\u001b[0m\n\u001b[1;32m      1\u001b[0m rho \u001b[38;5;241m=\u001b[39m \u001b[38;5;241m1.e7\u001b[39m\n\u001b[1;32m      2\u001b[0m T \u001b[38;5;241m=\u001b[39m \u001b[38;5;241m3e9\u001b[39m\n\u001b[0;32m----> 4\u001b[0m X0 \u001b[38;5;241m=\u001b[39m \u001b[43mnp\u001b[49m\u001b[38;5;241m.\u001b[39mzeros(full_net\u001b[38;5;241m.\u001b[39mnnuc)\n\u001b[1;32m      5\u001b[0m X0[full_net\u001b[38;5;241m.\u001b[39mjhe4] \u001b[38;5;241m=\u001b[39m \u001b[38;5;241m0.5\u001b[39m\n\u001b[1;32m      6\u001b[0m X0[full_net\u001b[38;5;241m.\u001b[39mjmg24] \u001b[38;5;241m=\u001b[39m \u001b[38;5;241m0.5\u001b[39m\n",
      "\u001b[0;31mNameError\u001b[0m: name 'np' is not defined"
     ]
    }
   ],
   "source": [
    "rho = 1.e7\n",
    "T = 3e9\n",
    "\n",
    "X0 = np.zeros(full_net.nnuc)\n",
    "X0[full_net.jhe4] = 0.5\n",
    "X0[full_net.jmg24] = 0.5\n",
    "\n",
    "Y0 = X0 / full_net.A"
   ]
  },
  {
   "cell_type": "code",
   "execution_count": 7,
   "id": "472497be-32f8-42bd-9ac6-594d4dac0edf",
   "metadata": {
    "execution": {
     "iopub.execute_input": "2024-10-10T09:53:14.220268Z",
     "iopub.status.busy": "2024-10-10T09:53:14.219943Z",
     "iopub.status.idle": "2024-10-10T09:53:14.231373Z",
     "shell.execute_reply": "2024-10-10T09:53:14.230898Z"
    }
   },
   "outputs": [
    {
     "ename": "NameError",
     "evalue": "name 'solve_ivp' is not defined",
     "output_type": "error",
     "traceback": [
      "\u001b[0;31m---------------------------------------------------------------------------\u001b[0m",
      "\u001b[0;31mNameError\u001b[0m                                 Traceback (most recent call last)",
      "Cell \u001b[0;32mIn[7], line 2\u001b[0m\n\u001b[1;32m      1\u001b[0m tmax \u001b[38;5;241m=\u001b[39m \u001b[38;5;241m1.e-3\u001b[39m\n\u001b[0;32m----> 2\u001b[0m sol \u001b[38;5;241m=\u001b[39m \u001b[43msolve_ivp\u001b[49m(full_net\u001b[38;5;241m.\u001b[39mrhs, [\u001b[38;5;241m0\u001b[39m, tmax], Y0, method\u001b[38;5;241m=\u001b[39m\u001b[38;5;124m\"\u001b[39m\u001b[38;5;124mBDF\u001b[39m\u001b[38;5;124m\"\u001b[39m,\n\u001b[1;32m      3\u001b[0m                 dense_output\u001b[38;5;241m=\u001b[39m\u001b[38;5;28;01mTrue\u001b[39;00m, args\u001b[38;5;241m=\u001b[39m(rho, T), rtol\u001b[38;5;241m=\u001b[39m\u001b[38;5;241m1.e-6\u001b[39m, atol\u001b[38;5;241m=\u001b[39m\u001b[38;5;241m1.e-10\u001b[39m)\n",
      "\u001b[0;31mNameError\u001b[0m: name 'solve_ivp' is not defined"
     ]
    }
   ],
   "source": [
    "tmax = 1.e-3\n",
    "sol = solve_ivp(full_net.rhs, [0, tmax], Y0, method=\"BDF\",\n",
    "                dense_output=True, args=(rho, T), rtol=1.e-6, atol=1.e-10)"
   ]
  },
  {
   "cell_type": "code",
   "execution_count": 8,
   "id": "10062ec0-3363-4376-87ec-981889e7be5a",
   "metadata": {
    "execution": {
     "iopub.execute_input": "2024-10-10T09:53:14.232932Z",
     "iopub.status.busy": "2024-10-10T09:53:14.232774Z",
     "iopub.status.idle": "2024-10-10T09:53:14.247154Z",
     "shell.execute_reply": "2024-10-10T09:53:14.246701Z"
    }
   },
   "outputs": [
    {
     "ename": "NameError",
     "evalue": "name 'plt' is not defined",
     "output_type": "error",
     "traceback": [
      "\u001b[0;31m---------------------------------------------------------------------------\u001b[0m",
      "\u001b[0;31mNameError\u001b[0m                                 Traceback (most recent call last)",
      "Cell \u001b[0;32mIn[8], line 1\u001b[0m\n\u001b[0;32m----> 1\u001b[0m fig \u001b[38;5;241m=\u001b[39m \u001b[43mplt\u001b[49m\u001b[38;5;241m.\u001b[39mfigure()\n\u001b[1;32m      2\u001b[0m ax \u001b[38;5;241m=\u001b[39m fig\u001b[38;5;241m.\u001b[39madd_subplot(\u001b[38;5;241m111\u001b[39m)\n\u001b[1;32m      4\u001b[0m \u001b[38;5;28;01mfor\u001b[39;00m i \u001b[38;5;129;01min\u001b[39;00m \u001b[38;5;28mrange\u001b[39m(full_net\u001b[38;5;241m.\u001b[39mnnuc):\n",
      "\u001b[0;31mNameError\u001b[0m: name 'plt' is not defined"
     ]
    }
   ],
   "source": [
    "fig = plt.figure()\n",
    "ax = fig.add_subplot(111)\n",
    "\n",
    "for i in range(full_net.nnuc):\n",
    "    ax.loglog(sol.t, sol.y[i,:] * full_net.A[i], label=f\"X({full_net.names[i].capitalize()})\")\n",
    "\n",
    "ax.legend()\n",
    "\n",
    "ax.set_xlim(1.e-10, 1.e-3)\n",
    "ax.set_ylim(1.e-12, 1)\n",
    "fig.set_size_inches((10, 8))"
   ]
  },
  {
   "cell_type": "markdown",
   "id": "4255ddd6-7424-488c-b2e6-5ffd9007f2d1",
   "metadata": {},
   "source": [
    "## Approximate Version\n",
    "\n",
    "Now we will approximate the rates, combining $(\\alpha, \\gamma)$ and\n",
    "$(\\alpha, p)(p, \\gamma)$ into a single effective rate.\n",
    "\n",
    "The routine `make_ap_pg_approx()` will find all of the rates that make up that sequence and create a\n",
    "single `ApproximateRate` that captures the effective rate.  The original rates will still be stored in the `ApproximateRate` object and will be evaluated to compute the needed approximation when the effective rate is evaluated."
   ]
  },
  {
   "cell_type": "code",
   "execution_count": 9,
   "id": "ccd17fe3-9ce5-4a90-8dc5-a4377f28f132",
   "metadata": {
    "execution": {
     "iopub.execute_input": "2024-10-10T09:53:14.248802Z",
     "iopub.status.busy": "2024-10-10T09:53:14.248632Z",
     "iopub.status.idle": "2024-10-10T09:53:14.259191Z",
     "shell.execute_reply": "2024-10-10T09:53:14.258714Z"
    }
   },
   "outputs": [
    {
     "ename": "NameError",
     "evalue": "name 'pynet' is not defined",
     "output_type": "error",
     "traceback": [
      "\u001b[0;31m---------------------------------------------------------------------------\u001b[0m",
      "\u001b[0;31mNameError\u001b[0m                                 Traceback (most recent call last)",
      "Cell \u001b[0;32mIn[9], line 1\u001b[0m\n\u001b[0;32m----> 1\u001b[0m \u001b[43mpynet\u001b[49m\u001b[38;5;241m.\u001b[39mmake_ap_pg_approx()\n",
      "\u001b[0;31mNameError\u001b[0m: name 'pynet' is not defined"
     ]
    }
   ],
   "source": [
    "pynet.make_ap_pg_approx()"
   ]
  },
  {
   "cell_type": "code",
   "execution_count": 10,
   "id": "b7192d34-9fd9-47eb-86ed-8ac797661081",
   "metadata": {
    "execution": {
     "iopub.execute_input": "2024-10-10T09:53:14.261163Z",
     "iopub.status.busy": "2024-10-10T09:53:14.260714Z",
     "iopub.status.idle": "2024-10-10T09:53:14.272118Z",
     "shell.execute_reply": "2024-10-10T09:53:14.271465Z"
    }
   },
   "outputs": [
    {
     "ename": "NameError",
     "evalue": "name 'pynet' is not defined",
     "output_type": "error",
     "traceback": [
      "\u001b[0;31m---------------------------------------------------------------------------\u001b[0m",
      "\u001b[0;31mNameError\u001b[0m                                 Traceback (most recent call last)",
      "Cell \u001b[0;32mIn[10], line 1\u001b[0m\n\u001b[0;32m----> 1\u001b[0m \u001b[43mpynet\u001b[49m\n",
      "\u001b[0;31mNameError\u001b[0m: name 'pynet' is not defined"
     ]
    }
   ],
   "source": [
    "pynet"
   ]
  },
  {
   "cell_type": "markdown",
   "id": "d46fc1b5-a52c-468e-a793-55838b86ab8e",
   "metadata": {},
   "source": [
    "Since we no longer care about the ${}^{27}\\mathrm{Al}$ and ${}^{31}\\mathrm{P}$, we can remove them from the network.  The `ApproximateRate` object still knows that these are the intermediate nucleus, but now they\n",
    "won't explicitly appear as one of the nuclei in the network."
   ]
  },
  {
   "cell_type": "code",
   "execution_count": 11,
   "id": "1787e527-b409-4310-b12f-1bc03e1326d2",
   "metadata": {
    "execution": {
     "iopub.execute_input": "2024-10-10T09:53:14.274096Z",
     "iopub.status.busy": "2024-10-10T09:53:14.273683Z",
     "iopub.status.idle": "2024-10-10T09:53:14.284888Z",
     "shell.execute_reply": "2024-10-10T09:53:14.284338Z"
    }
   },
   "outputs": [
    {
     "ename": "NameError",
     "evalue": "name 'pynet' is not defined",
     "output_type": "error",
     "traceback": [
      "\u001b[0;31m---------------------------------------------------------------------------\u001b[0m",
      "\u001b[0;31mNameError\u001b[0m                                 Traceback (most recent call last)",
      "Cell \u001b[0;32mIn[11], line 1\u001b[0m\n\u001b[0;32m----> 1\u001b[0m \u001b[43mpynet\u001b[49m\u001b[38;5;241m.\u001b[39mremove_nuclei([\u001b[38;5;124m\"\u001b[39m\u001b[38;5;124mal27\u001b[39m\u001b[38;5;124m\"\u001b[39m, \u001b[38;5;124m\"\u001b[39m\u001b[38;5;124mp31\u001b[39m\u001b[38;5;124m\"\u001b[39m])\n",
      "\u001b[0;31mNameError\u001b[0m: name 'pynet' is not defined"
     ]
    }
   ],
   "source": [
    "pynet.remove_nuclei([\"al27\", \"p31\"])"
   ]
  },
  {
   "cell_type": "markdown",
   "id": "f2a8190b-d049-4125-a6a0-ad7d3e621d31",
   "metadata": {},
   "source": [
    "Note that since no reactions consume protons after that removal, the protons are all removed from the network, reducing its size from 7 nuclei to 4"
   ]
  },
  {
   "cell_type": "code",
   "execution_count": 12,
   "id": "2b3d0703-0c92-4aaa-a1f2-f3e07e2c89bd",
   "metadata": {
    "execution": {
     "iopub.execute_input": "2024-10-10T09:53:14.286798Z",
     "iopub.status.busy": "2024-10-10T09:53:14.286422Z",
     "iopub.status.idle": "2024-10-10T09:53:14.296995Z",
     "shell.execute_reply": "2024-10-10T09:53:14.296431Z"
    }
   },
   "outputs": [
    {
     "ename": "NameError",
     "evalue": "name 'pynet' is not defined",
     "output_type": "error",
     "traceback": [
      "\u001b[0;31m---------------------------------------------------------------------------\u001b[0m",
      "\u001b[0;31mNameError\u001b[0m                                 Traceback (most recent call last)",
      "Cell \u001b[0;32mIn[12], line 1\u001b[0m\n\u001b[0;32m----> 1\u001b[0m \u001b[38;5;28mprint\u001b[39m(\u001b[43mpynet\u001b[49m\u001b[38;5;241m.\u001b[39mnetwork_overview())\n",
      "\u001b[0;31mNameError\u001b[0m: name 'pynet' is not defined"
     ]
    }
   ],
   "source": [
    "print(pynet.network_overview())"
   ]
  },
  {
   "cell_type": "code",
   "execution_count": 13,
   "id": "57b11c1e-4fab-482e-92a8-90c7eb3d0ff5",
   "metadata": {
    "execution": {
     "iopub.execute_input": "2024-10-10T09:53:14.298698Z",
     "iopub.status.busy": "2024-10-10T09:53:14.298381Z",
     "iopub.status.idle": "2024-10-10T09:53:14.308612Z",
     "shell.execute_reply": "2024-10-10T09:53:14.308062Z"
    },
    "tags": []
   },
   "outputs": [
    {
     "ename": "NameError",
     "evalue": "name 'pynet' is not defined",
     "output_type": "error",
     "traceback": [
      "\u001b[0;31m---------------------------------------------------------------------------\u001b[0m",
      "\u001b[0;31mNameError\u001b[0m                                 Traceback (most recent call last)",
      "Cell \u001b[0;32mIn[13], line 1\u001b[0m\n\u001b[0;32m----> 1\u001b[0m fig \u001b[38;5;241m=\u001b[39m \u001b[43mpynet\u001b[49m\u001b[38;5;241m.\u001b[39mplot(rotated\u001b[38;5;241m=\u001b[39m\u001b[38;5;28;01mTrue\u001b[39;00m, curved_edges\u001b[38;5;241m=\u001b[39m\u001b[38;5;28;01mTrue\u001b[39;00m)\n",
      "\u001b[0;31mNameError\u001b[0m: name 'pynet' is not defined"
     ]
    }
   ],
   "source": [
    "fig = pynet.plot(rotated=True, curved_edges=True)"
   ]
  },
  {
   "cell_type": "markdown",
   "id": "1e9dc382-0ddc-4454-89d7-5383a634821d",
   "metadata": {},
   "source": [
    "As we see above, the nuclei ${}^{27}\\mathrm{Al}$ and ${}^{31}\\mathrm{P}$ no longer appear in the network, but  the links to them are still understood to the network.  This reduces the size of the network, while still preserving those flows."
   ]
  },
  {
   "cell_type": "code",
   "execution_count": 14,
   "id": "3991d57c-a8e7-47b5-987a-608eab285def",
   "metadata": {
    "execution": {
     "iopub.execute_input": "2024-10-10T09:53:14.310350Z",
     "iopub.status.busy": "2024-10-10T09:53:14.310055Z",
     "iopub.status.idle": "2024-10-10T09:53:14.320262Z",
     "shell.execute_reply": "2024-10-10T09:53:14.319712Z"
    }
   },
   "outputs": [
    {
     "ename": "NameError",
     "evalue": "name 'pynet' is not defined",
     "output_type": "error",
     "traceback": [
      "\u001b[0;31m---------------------------------------------------------------------------\u001b[0m",
      "\u001b[0;31mNameError\u001b[0m                                 Traceback (most recent call last)",
      "Cell \u001b[0;32mIn[14], line 1\u001b[0m\n\u001b[0;32m----> 1\u001b[0m \u001b[43mpynet\u001b[49m\u001b[38;5;241m.\u001b[39mwrite_network(\u001b[38;5;124m\"\u001b[39m\u001b[38;5;124mapprox_net.py\u001b[39m\u001b[38;5;124m\"\u001b[39m)\n",
      "\u001b[0;31mNameError\u001b[0m: name 'pynet' is not defined"
     ]
    }
   ],
   "source": [
    "pynet.write_network(\"approx_net.py\")"
   ]
  },
  {
   "cell_type": "code",
   "execution_count": 15,
   "id": "57dedd73-df07-46b2-aade-ee2d70a21768",
   "metadata": {
    "execution": {
     "iopub.execute_input": "2024-10-10T09:53:14.321970Z",
     "iopub.status.busy": "2024-10-10T09:53:14.321668Z",
     "iopub.status.idle": "2024-10-10T09:53:14.331807Z",
     "shell.execute_reply": "2024-10-10T09:53:14.331265Z"
    }
   },
   "outputs": [
    {
     "ename": "ModuleNotFoundError",
     "evalue": "No module named 'approx_net'",
     "output_type": "error",
     "traceback": [
      "\u001b[0;31m---------------------------------------------------------------------------\u001b[0m",
      "\u001b[0;31mModuleNotFoundError\u001b[0m                       Traceback (most recent call last)",
      "Cell \u001b[0;32mIn[15], line 1\u001b[0m\n\u001b[0;32m----> 1\u001b[0m \u001b[38;5;28;01mimport\u001b[39;00m \u001b[38;5;21;01mapprox_net\u001b[39;00m\n",
      "\u001b[0;31mModuleNotFoundError\u001b[0m: No module named 'approx_net'"
     ]
    }
   ],
   "source": [
    "import approx_net"
   ]
  },
  {
   "cell_type": "markdown",
   "id": "65bb3e24-5e74-4188-abf9-9ba4b061fcaf",
   "metadata": {},
   "source": [
    "The `PythonNetwork` knows how to write out the code needed to evaluate the rate approximation.  For instance, the evolution of ${}^{4}\\mathrm{He}$ is determined as:"
   ]
  },
  {
   "cell_type": "code",
   "execution_count": 16,
   "id": "1a44c205-0ceb-45f9-a770-6950bbd31967",
   "metadata": {
    "execution": {
     "iopub.execute_input": "2024-10-10T09:53:14.333516Z",
     "iopub.status.busy": "2024-10-10T09:53:14.333109Z",
     "iopub.status.idle": "2024-10-10T09:53:14.344071Z",
     "shell.execute_reply": "2024-10-10T09:53:14.343609Z"
    }
   },
   "outputs": [
    {
     "ename": "NameError",
     "evalue": "name 'pynet' is not defined",
     "output_type": "error",
     "traceback": [
      "\u001b[0;31m---------------------------------------------------------------------------\u001b[0m",
      "\u001b[0;31mNameError\u001b[0m                                 Traceback (most recent call last)",
      "Cell \u001b[0;32mIn[16], line 1\u001b[0m\n\u001b[0;32m----> 1\u001b[0m \u001b[38;5;28mprint\u001b[39m(\u001b[43mpynet\u001b[49m\u001b[38;5;241m.\u001b[39mfull_ydot_string(pyna\u001b[38;5;241m.\u001b[39mNucleus(\u001b[38;5;124m\"\u001b[39m\u001b[38;5;124mhe4\u001b[39m\u001b[38;5;124m\"\u001b[39m)))\n",
      "\u001b[0;31mNameError\u001b[0m: name 'pynet' is not defined"
     ]
    }
   ],
   "source": [
    "print(pynet.full_ydot_string(pyna.Nucleus(\"he4\")))"
   ]
  },
  {
   "cell_type": "markdown",
   "id": "9bfba495-85c0-4330-841a-7c155cad8d29",
   "metadata": {},
   "source": [
    "And the rate approximations are computed as:"
   ]
  },
  {
   "cell_type": "code",
   "execution_count": 17,
   "id": "e352e718-7d4f-46fb-bedf-a1eb05898f06",
   "metadata": {
    "execution": {
     "iopub.execute_input": "2024-10-10T09:53:14.345726Z",
     "iopub.status.busy": "2024-10-10T09:53:14.345396Z",
     "iopub.status.idle": "2024-10-10T09:53:14.355582Z",
     "shell.execute_reply": "2024-10-10T09:53:14.355049Z"
    }
   },
   "outputs": [
    {
     "ename": "NameError",
     "evalue": "name 'pynet' is not defined",
     "output_type": "error",
     "traceback": [
      "\u001b[0;31m---------------------------------------------------------------------------\u001b[0m",
      "\u001b[0;31mNameError\u001b[0m                                 Traceback (most recent call last)",
      "Cell \u001b[0;32mIn[17], line 1\u001b[0m\n\u001b[0;32m----> 1\u001b[0m r \u001b[38;5;241m=\u001b[39m \u001b[43mpynet\u001b[49m\u001b[38;5;241m.\u001b[39mget_rate(\u001b[38;5;124m\"\u001b[39m\u001b[38;5;124mmg24_he4__si28__approx\u001b[39m\u001b[38;5;124m\"\u001b[39m)\n\u001b[1;32m      2\u001b[0m \u001b[38;5;28mprint\u001b[39m(r\u001b[38;5;241m.\u001b[39mfunction_string_py())\n",
      "\u001b[0;31mNameError\u001b[0m: name 'pynet' is not defined"
     ]
    }
   ],
   "source": [
    "r = pynet.get_rate(\"mg24_he4__si28__approx\")\n",
    "print(r.function_string_py())"
   ]
  },
  {
   "cell_type": "markdown",
   "id": "b864e42b-c124-491c-a7a8-3cce4d979026",
   "metadata": {},
   "source": [
    "where the 4 lines before the rate approximation is made are evaluating the original, unapproximated rates."
   ]
  },
  {
   "cell_type": "markdown",
   "id": "7835f2b6-5843-4a72-a60f-c9f59925b8a7",
   "metadata": {},
   "source": [
    "## Integrating the approximate network\n",
    "\n",
    "Let's integrate this approximate net and compare to above"
   ]
  },
  {
   "cell_type": "code",
   "execution_count": 18,
   "id": "4cb2106a-106c-4db2-bfb1-99110386dad0",
   "metadata": {
    "execution": {
     "iopub.execute_input": "2024-10-10T09:53:14.357283Z",
     "iopub.status.busy": "2024-10-10T09:53:14.356960Z",
     "iopub.status.idle": "2024-10-10T09:53:14.368314Z",
     "shell.execute_reply": "2024-10-10T09:53:14.367831Z"
    }
   },
   "outputs": [
    {
     "ename": "NameError",
     "evalue": "name 'np' is not defined",
     "output_type": "error",
     "traceback": [
      "\u001b[0;31m---------------------------------------------------------------------------\u001b[0m",
      "\u001b[0;31mNameError\u001b[0m                                 Traceback (most recent call last)",
      "Cell \u001b[0;32mIn[18], line 4\u001b[0m\n\u001b[1;32m      1\u001b[0m rho \u001b[38;5;241m=\u001b[39m \u001b[38;5;241m1.e7\u001b[39m\n\u001b[1;32m      2\u001b[0m T \u001b[38;5;241m=\u001b[39m \u001b[38;5;241m3.e9\u001b[39m\n\u001b[0;32m----> 4\u001b[0m X0 \u001b[38;5;241m=\u001b[39m \u001b[43mnp\u001b[49m\u001b[38;5;241m.\u001b[39mzeros(approx_net\u001b[38;5;241m.\u001b[39mnnuc)\n\u001b[1;32m      5\u001b[0m X0[approx_net\u001b[38;5;241m.\u001b[39mjhe4] \u001b[38;5;241m=\u001b[39m \u001b[38;5;241m0.5\u001b[39m\n\u001b[1;32m      6\u001b[0m X0[approx_net\u001b[38;5;241m.\u001b[39mjmg24] \u001b[38;5;241m=\u001b[39m \u001b[38;5;241m0.5\u001b[39m\n",
      "\u001b[0;31mNameError\u001b[0m: name 'np' is not defined"
     ]
    }
   ],
   "source": [
    "rho = 1.e7\n",
    "T = 3.e9\n",
    "\n",
    "X0 = np.zeros(approx_net.nnuc)\n",
    "X0[approx_net.jhe4] = 0.5\n",
    "X0[approx_net.jmg24] = 0.5\n",
    "\n",
    "Y0 = X0 / approx_net.A"
   ]
  },
  {
   "cell_type": "code",
   "execution_count": 19,
   "id": "d451dfd3-7e90-4107-a418-fca77efd9217",
   "metadata": {
    "execution": {
     "iopub.execute_input": "2024-10-10T09:53:14.369956Z",
     "iopub.status.busy": "2024-10-10T09:53:14.369628Z",
     "iopub.status.idle": "2024-10-10T09:53:14.380916Z",
     "shell.execute_reply": "2024-10-10T09:53:14.380321Z"
    }
   },
   "outputs": [
    {
     "ename": "NameError",
     "evalue": "name 'solve_ivp' is not defined",
     "output_type": "error",
     "traceback": [
      "\u001b[0;31m---------------------------------------------------------------------------\u001b[0m",
      "\u001b[0;31mNameError\u001b[0m                                 Traceback (most recent call last)",
      "Cell \u001b[0;32mIn[19], line 2\u001b[0m\n\u001b[1;32m      1\u001b[0m tmax \u001b[38;5;241m=\u001b[39m \u001b[38;5;241m1.e-3\u001b[39m\n\u001b[0;32m----> 2\u001b[0m approx_sol \u001b[38;5;241m=\u001b[39m \u001b[43msolve_ivp\u001b[49m(approx_net\u001b[38;5;241m.\u001b[39mrhs, [\u001b[38;5;241m0\u001b[39m, tmax], Y0, method\u001b[38;5;241m=\u001b[39m\u001b[38;5;124m\"\u001b[39m\u001b[38;5;124mBDF\u001b[39m\u001b[38;5;124m\"\u001b[39m,\n\u001b[1;32m      3\u001b[0m                        dense_output\u001b[38;5;241m=\u001b[39m\u001b[38;5;28;01mTrue\u001b[39;00m, args\u001b[38;5;241m=\u001b[39m(rho, T), rtol\u001b[38;5;241m=\u001b[39m\u001b[38;5;241m1.e-6\u001b[39m, atol\u001b[38;5;241m=\u001b[39m\u001b[38;5;241m1.e-10\u001b[39m)\n",
      "\u001b[0;31mNameError\u001b[0m: name 'solve_ivp' is not defined"
     ]
    }
   ],
   "source": [
    "tmax = 1.e-3\n",
    "approx_sol = solve_ivp(approx_net.rhs, [0, tmax], Y0, method=\"BDF\",\n",
    "                       dense_output=True, args=(rho, T), rtol=1.e-6, atol=1.e-10)"
   ]
  },
  {
   "cell_type": "code",
   "execution_count": 20,
   "id": "3f1d7be8-11e4-4769-910b-868611b970b0",
   "metadata": {
    "execution": {
     "iopub.execute_input": "2024-10-10T09:53:14.382601Z",
     "iopub.status.busy": "2024-10-10T09:53:14.382329Z",
     "iopub.status.idle": "2024-10-10T09:53:14.395057Z",
     "shell.execute_reply": "2024-10-10T09:53:14.394497Z"
    }
   },
   "outputs": [
    {
     "ename": "NameError",
     "evalue": "name 'plt' is not defined",
     "output_type": "error",
     "traceback": [
      "\u001b[0;31m---------------------------------------------------------------------------\u001b[0m",
      "\u001b[0;31mNameError\u001b[0m                                 Traceback (most recent call last)",
      "Cell \u001b[0;32mIn[20], line 1\u001b[0m\n\u001b[0;32m----> 1\u001b[0m fig \u001b[38;5;241m=\u001b[39m \u001b[43mplt\u001b[49m\u001b[38;5;241m.\u001b[39mfigure()\n\u001b[1;32m      2\u001b[0m ax \u001b[38;5;241m=\u001b[39m fig\u001b[38;5;241m.\u001b[39madd_subplot(\u001b[38;5;241m111\u001b[39m)\n\u001b[1;32m      4\u001b[0m \u001b[38;5;28;01mfor\u001b[39;00m i \u001b[38;5;129;01min\u001b[39;00m \u001b[38;5;28mrange\u001b[39m(approx_net\u001b[38;5;241m.\u001b[39mnnuc):\n",
      "\u001b[0;31mNameError\u001b[0m: name 'plt' is not defined"
     ]
    }
   ],
   "source": [
    "fig = plt.figure()\n",
    "ax = fig.add_subplot(111)\n",
    "\n",
    "for i in range(approx_net.nnuc):\n",
    "    ax.loglog(approx_sol.t, approx_sol.y[i,:] * approx_net.A[i], label=f\"X({approx_net.names[i].capitalize()})\")\n",
    "\n",
    "ax.legend()\n",
    "ax.set_xlim(1.e-10, 1.e-3)\n",
    "ax.set_ylim(1.e-12, 1)\n",
    "\n",
    "fig.set_size_inches((10, 8))"
   ]
  },
  {
   "cell_type": "markdown",
   "id": "a1489754-4aba-4dc2-bdbf-75bb0261801f",
   "metadata": {},
   "source": [
    "## Comparison\n",
    "\n",
    "Let's plot both on the same axes to see the comparison."
   ]
  },
  {
   "cell_type": "code",
   "execution_count": 21,
   "id": "29e47190-d9e1-4f4e-9012-e3c52d7d94c9",
   "metadata": {
    "execution": {
     "iopub.execute_input": "2024-10-10T09:53:14.396688Z",
     "iopub.status.busy": "2024-10-10T09:53:14.396524Z",
     "iopub.status.idle": "2024-10-10T09:53:14.410704Z",
     "shell.execute_reply": "2024-10-10T09:53:14.410279Z"
    }
   },
   "outputs": [
    {
     "ename": "NameError",
     "evalue": "name 'plt' is not defined",
     "output_type": "error",
     "traceback": [
      "\u001b[0;31m---------------------------------------------------------------------------\u001b[0m",
      "\u001b[0;31mNameError\u001b[0m                                 Traceback (most recent call last)",
      "Cell \u001b[0;32mIn[21], line 1\u001b[0m\n\u001b[0;32m----> 1\u001b[0m fig \u001b[38;5;241m=\u001b[39m \u001b[43mplt\u001b[49m\u001b[38;5;241m.\u001b[39mfigure()\n\u001b[1;32m      2\u001b[0m ax \u001b[38;5;241m=\u001b[39m fig\u001b[38;5;241m.\u001b[39madd_subplot(\u001b[38;5;241m111\u001b[39m)\n\u001b[1;32m      4\u001b[0m \u001b[38;5;28;01mfor\u001b[39;00m i \u001b[38;5;129;01min\u001b[39;00m \u001b[38;5;28mrange\u001b[39m(approx_net\u001b[38;5;241m.\u001b[39mnnuc):\n",
      "\u001b[0;31mNameError\u001b[0m: name 'plt' is not defined"
     ]
    }
   ],
   "source": [
    "fig = plt.figure()\n",
    "ax = fig.add_subplot(111)\n",
    "\n",
    "for i in range(approx_net.nnuc):\n",
    "    ax.loglog(approx_sol.t, approx_sol.y[i,:] * approx_net.A[i],\n",
    "              linestyle=\":\", color=f\"C{i}\")\n",
    "\n",
    "    idx = full_net.names.index(approx_net.names[i])\n",
    "    ax.loglog(sol.t, sol.y[idx,:] * full_net.A[idx],\n",
    "              label=f\"X({full_net.names[idx].capitalize()})\",              \n",
    "              linestyle=\"-\", color=f\"C{i}\")\n",
    "\n",
    "\n",
    "ax.legend()\n",
    "ax.set_xlim(1.e-10, 1.e-3)\n",
    "ax.set_ylim(1.e-12, 1)\n",
    "\n",
    "fig.set_size_inches((10, 8))"
   ]
  },
  {
   "cell_type": "markdown",
   "id": "aa2c23f7-5b7a-473c-9561-afc9ccf5be60",
   "metadata": {},
   "source": [
    "Here the dotted line is the approximate network.  We see that the results agree well."
   ]
  },
  {
   "cell_type": "markdown",
   "id": "b08f1087-04e3-45fd-a778-08bec0461574",
   "metadata": {},
   "source": [
    "## No approximation\n",
    "\n",
    "What if we just create a 4 nuclei network without the $(\\alpha,p)(p,\\gamma)$ links?  How does this compare?"
   ]
  },
  {
   "cell_type": "code",
   "execution_count": 22,
   "id": "693dee33-98e6-43a4-93a7-2de7aba1604e",
   "metadata": {
    "execution": {
     "iopub.execute_input": "2024-10-10T09:53:14.412222Z",
     "iopub.status.busy": "2024-10-10T09:53:14.412058Z",
     "iopub.status.idle": "2024-10-10T09:53:14.424334Z",
     "shell.execute_reply": "2024-10-10T09:53:14.423880Z"
    }
   },
   "outputs": [
    {
     "ename": "NameError",
     "evalue": "name 'reaclib_library' is not defined",
     "output_type": "error",
     "traceback": [
      "\u001b[0;31m---------------------------------------------------------------------------\u001b[0m",
      "\u001b[0;31mNameError\u001b[0m                                 Traceback (most recent call last)",
      "Cell \u001b[0;32mIn[22], line 1\u001b[0m\n\u001b[0;32m----> 1\u001b[0m newlib \u001b[38;5;241m=\u001b[39m \u001b[43mreaclib_library\u001b[49m\u001b[38;5;241m.\u001b[39mlinking_nuclei([\u001b[38;5;124m\"\u001b[39m\u001b[38;5;124mhe4\u001b[39m\u001b[38;5;124m\"\u001b[39m, \u001b[38;5;124m\"\u001b[39m\u001b[38;5;124mmg24\u001b[39m\u001b[38;5;124m\"\u001b[39m, \u001b[38;5;124m\"\u001b[39m\u001b[38;5;124msi28\u001b[39m\u001b[38;5;124m\"\u001b[39m, \u001b[38;5;124m\"\u001b[39m\u001b[38;5;124ms32\u001b[39m\u001b[38;5;124m\"\u001b[39m])\n\u001b[1;32m      2\u001b[0m newpynet \u001b[38;5;241m=\u001b[39m pyna\u001b[38;5;241m.\u001b[39mPythonNetwork(libraries\u001b[38;5;241m=\u001b[39m[newlib])\n\u001b[1;32m      3\u001b[0m fig \u001b[38;5;241m=\u001b[39m newpynet\u001b[38;5;241m.\u001b[39mplot(rotated\u001b[38;5;241m=\u001b[39m\u001b[38;5;28;01mTrue\u001b[39;00m, curved_edges\u001b[38;5;241m=\u001b[39m\u001b[38;5;28;01mTrue\u001b[39;00m)\n",
      "\u001b[0;31mNameError\u001b[0m: name 'reaclib_library' is not defined"
     ]
    }
   ],
   "source": [
    "newlib = reaclib_library.linking_nuclei([\"he4\", \"mg24\", \"si28\", \"s32\"])\n",
    "newpynet = pyna.PythonNetwork(libraries=[newlib])\n",
    "fig = newpynet.plot(rotated=True, curved_edges=True)"
   ]
  },
  {
   "cell_type": "code",
   "execution_count": 23,
   "id": "be1d4c67-be90-4786-93a7-24b47f37b583",
   "metadata": {
    "execution": {
     "iopub.execute_input": "2024-10-10T09:53:14.425914Z",
     "iopub.status.busy": "2024-10-10T09:53:14.425596Z",
     "iopub.status.idle": "2024-10-10T09:53:14.435633Z",
     "shell.execute_reply": "2024-10-10T09:53:14.435201Z"
    }
   },
   "outputs": [
    {
     "ename": "NameError",
     "evalue": "name 'newpynet' is not defined",
     "output_type": "error",
     "traceback": [
      "\u001b[0;31m---------------------------------------------------------------------------\u001b[0m",
      "\u001b[0;31mNameError\u001b[0m                                 Traceback (most recent call last)",
      "Cell \u001b[0;32mIn[23], line 1\u001b[0m\n\u001b[0;32m----> 1\u001b[0m \u001b[43mnewpynet\u001b[49m\u001b[38;5;241m.\u001b[39mwrite_network(\u001b[38;5;124m\"\u001b[39m\u001b[38;5;124msimple_net.py\u001b[39m\u001b[38;5;124m\"\u001b[39m)\n\u001b[1;32m      2\u001b[0m \u001b[38;5;28;01mimport\u001b[39;00m \u001b[38;5;21;01msimple_net\u001b[39;00m\n",
      "\u001b[0;31mNameError\u001b[0m: name 'newpynet' is not defined"
     ]
    }
   ],
   "source": [
    "newpynet.write_network(\"simple_net.py\")\n",
    "import simple_net"
   ]
  },
  {
   "cell_type": "code",
   "execution_count": 24,
   "id": "5c91da87-c28f-43a8-b872-d5b29cc84a41",
   "metadata": {
    "execution": {
     "iopub.execute_input": "2024-10-10T09:53:14.437240Z",
     "iopub.status.busy": "2024-10-10T09:53:14.436918Z",
     "iopub.status.idle": "2024-10-10T09:53:14.448245Z",
     "shell.execute_reply": "2024-10-10T09:53:14.447741Z"
    }
   },
   "outputs": [
    {
     "ename": "NameError",
     "evalue": "name 'np' is not defined",
     "output_type": "error",
     "traceback": [
      "\u001b[0;31m---------------------------------------------------------------------------\u001b[0m",
      "\u001b[0;31mNameError\u001b[0m                                 Traceback (most recent call last)",
      "Cell \u001b[0;32mIn[24], line 4\u001b[0m\n\u001b[1;32m      1\u001b[0m rho \u001b[38;5;241m=\u001b[39m \u001b[38;5;241m1.e7\u001b[39m\n\u001b[1;32m      2\u001b[0m T \u001b[38;5;241m=\u001b[39m \u001b[38;5;241m3e9\u001b[39m\n\u001b[0;32m----> 4\u001b[0m X0 \u001b[38;5;241m=\u001b[39m \u001b[43mnp\u001b[49m\u001b[38;5;241m.\u001b[39mzeros(simple_net\u001b[38;5;241m.\u001b[39mnnuc)\n\u001b[1;32m      5\u001b[0m X0[simple_net\u001b[38;5;241m.\u001b[39mjhe4] \u001b[38;5;241m=\u001b[39m \u001b[38;5;241m0.5\u001b[39m\n\u001b[1;32m      6\u001b[0m X0[simple_net\u001b[38;5;241m.\u001b[39mjmg24] \u001b[38;5;241m=\u001b[39m \u001b[38;5;241m0.5\u001b[39m\n",
      "\u001b[0;31mNameError\u001b[0m: name 'np' is not defined"
     ]
    }
   ],
   "source": [
    "rho = 1.e7\n",
    "T = 3e9\n",
    "\n",
    "X0 = np.zeros(simple_net.nnuc)\n",
    "X0[simple_net.jhe4] = 0.5\n",
    "X0[simple_net.jmg24] = 0.5\n",
    "\n",
    "Y0 = X0 / simple_net.A"
   ]
  },
  {
   "cell_type": "code",
   "execution_count": 25,
   "id": "115b6412-d074-487a-83cd-cbcc22e591de",
   "metadata": {
    "execution": {
     "iopub.execute_input": "2024-10-10T09:53:14.449769Z",
     "iopub.status.busy": "2024-10-10T09:53:14.449524Z",
     "iopub.status.idle": "2024-10-10T09:53:14.459707Z",
     "shell.execute_reply": "2024-10-10T09:53:14.459135Z"
    }
   },
   "outputs": [
    {
     "ename": "NameError",
     "evalue": "name 'simple_net' is not defined",
     "output_type": "error",
     "traceback": [
      "\u001b[0;31m---------------------------------------------------------------------------\u001b[0m",
      "\u001b[0;31mNameError\u001b[0m                                 Traceback (most recent call last)",
      "Cell \u001b[0;32mIn[25], line 1\u001b[0m\n\u001b[0;32m----> 1\u001b[0m \u001b[43msimple_net\u001b[49m\u001b[38;5;241m.\u001b[39mnames \u001b[38;5;241m==\u001b[39m approx_net\u001b[38;5;241m.\u001b[39mnames\n",
      "\u001b[0;31mNameError\u001b[0m: name 'simple_net' is not defined"
     ]
    }
   ],
   "source": [
    "simple_net.names == approx_net.names"
   ]
  },
  {
   "cell_type": "code",
   "execution_count": 26,
   "id": "0d3ea5d7-9447-44ff-ab35-affa05335e93",
   "metadata": {
    "execution": {
     "iopub.execute_input": "2024-10-10T09:53:14.461547Z",
     "iopub.status.busy": "2024-10-10T09:53:14.461234Z",
     "iopub.status.idle": "2024-10-10T09:53:14.472520Z",
     "shell.execute_reply": "2024-10-10T09:53:14.471980Z"
    }
   },
   "outputs": [
    {
     "ename": "NameError",
     "evalue": "name 'solve_ivp' is not defined",
     "output_type": "error",
     "traceback": [
      "\u001b[0;31m---------------------------------------------------------------------------\u001b[0m",
      "\u001b[0;31mNameError\u001b[0m                                 Traceback (most recent call last)",
      "Cell \u001b[0;32mIn[26], line 2\u001b[0m\n\u001b[1;32m      1\u001b[0m tmax \u001b[38;5;241m=\u001b[39m \u001b[38;5;241m1.e-3\u001b[39m\n\u001b[0;32m----> 2\u001b[0m simple_sol \u001b[38;5;241m=\u001b[39m \u001b[43msolve_ivp\u001b[49m(simple_net\u001b[38;5;241m.\u001b[39mrhs, [\u001b[38;5;241m0\u001b[39m, tmax], Y0, method\u001b[38;5;241m=\u001b[39m\u001b[38;5;124m\"\u001b[39m\u001b[38;5;124mBDF\u001b[39m\u001b[38;5;124m\"\u001b[39m,\n\u001b[1;32m      3\u001b[0m                        dense_output\u001b[38;5;241m=\u001b[39m\u001b[38;5;28;01mTrue\u001b[39;00m, args\u001b[38;5;241m=\u001b[39m(rho, T), rtol\u001b[38;5;241m=\u001b[39m\u001b[38;5;241m1.e-6\u001b[39m, atol\u001b[38;5;241m=\u001b[39m\u001b[38;5;241m1.e-10\u001b[39m)\n",
      "\u001b[0;31mNameError\u001b[0m: name 'solve_ivp' is not defined"
     ]
    }
   ],
   "source": [
    "tmax = 1.e-3\n",
    "simple_sol = solve_ivp(simple_net.rhs, [0, tmax], Y0, method=\"BDF\",\n",
    "                       dense_output=True, args=(rho, T), rtol=1.e-6, atol=1.e-10)"
   ]
  },
  {
   "cell_type": "code",
   "execution_count": 27,
   "id": "5616b8dd-3396-48cf-ae93-b86324003024",
   "metadata": {
    "execution": {
     "iopub.execute_input": "2024-10-10T09:53:14.474323Z",
     "iopub.status.busy": "2024-10-10T09:53:14.473904Z",
     "iopub.status.idle": "2024-10-10T09:53:14.489359Z",
     "shell.execute_reply": "2024-10-10T09:53:14.488823Z"
    }
   },
   "outputs": [
    {
     "ename": "NameError",
     "evalue": "name 'plt' is not defined",
     "output_type": "error",
     "traceback": [
      "\u001b[0;31m---------------------------------------------------------------------------\u001b[0m",
      "\u001b[0;31mNameError\u001b[0m                                 Traceback (most recent call last)",
      "Cell \u001b[0;32mIn[27], line 1\u001b[0m\n\u001b[0;32m----> 1\u001b[0m fig \u001b[38;5;241m=\u001b[39m \u001b[43mplt\u001b[49m\u001b[38;5;241m.\u001b[39mfigure()\n\u001b[1;32m      2\u001b[0m ax \u001b[38;5;241m=\u001b[39m fig\u001b[38;5;241m.\u001b[39madd_subplot(\u001b[38;5;241m111\u001b[39m)\n\u001b[1;32m      4\u001b[0m \u001b[38;5;28;01mfor\u001b[39;00m i \u001b[38;5;129;01min\u001b[39;00m \u001b[38;5;28mrange\u001b[39m(approx_net\u001b[38;5;241m.\u001b[39mnnuc):\n",
      "\u001b[0;31mNameError\u001b[0m: name 'plt' is not defined"
     ]
    }
   ],
   "source": [
    "fig = plt.figure()\n",
    "ax = fig.add_subplot(111)\n",
    "\n",
    "for i in range(approx_net.nnuc):\n",
    "    ax.loglog(approx_sol.t, approx_sol.y[i,:] * approx_net.A[i],\n",
    "              linestyle=\":\", color=f\"C{i}\")\n",
    "\n",
    "    idx = full_net.names.index(approx_net.names[i])\n",
    "    ax.loglog(sol.t, sol.y[idx,:] * full_net.A[idx],\n",
    "              label=f\"X({full_net.names[idx].capitalize()})\",              \n",
    "              linestyle=\"-\", color=f\"C{i}\")\n",
    "\n",
    "    idx = simple_net.names.index(approx_net.names[i])\n",
    "    ax.loglog(simple_sol.t, simple_sol.y[idx,:] * simple_net.A[idx],\n",
    "              linestyle=\"--\", color=f\"C{i}\")\n",
    "\n",
    "\n",
    "ax.legend()\n",
    "ax.set_xlim(1.e-10, 1.e-3)\n",
    "ax.set_ylim(1.e-12, 1)\n",
    "\n",
    "fig.set_size_inches((10, 8))"
   ]
  },
  {
   "cell_type": "markdown",
   "id": "136ada1d-1c7b-4903-bc0f-8a028bb5e011",
   "metadata": {},
   "source": [
    "Here we see all 3 networks.  The full network (7 nuclei) is the solid lines.  The approximate version of that is the dotted line.  We see that they track reasonably well, especially when the abundance is high.  The dashed line is the version of the network that has the same 4 nuclei as the approximate network, but with out approximating the $(\\alpha, p)(p,\\gamma)$ links, so we see that the ${}^{24}\\mathrm{Mg}$ takes longer to burn."
   ]
  }
 ],
 "metadata": {
  "kernelspec": {
   "display_name": "Python 3 (ipykernel)",
   "language": "python",
   "name": "python3"
  },
  "language_info": {
   "codemirror_mode": {
    "name": "ipython",
    "version": 3
   },
   "file_extension": ".py",
   "mimetype": "text/x-python",
   "name": "python",
   "nbconvert_exporter": "python",
   "pygments_lexer": "ipython3",
   "version": "3.11.10"
  }
 },
 "nbformat": 4,
 "nbformat_minor": 5
}
