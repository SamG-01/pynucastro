{
 "cells": [
  {
   "cell_type": "markdown",
   "id": "2d21e25a-4b3d-423b-842f-b08bac453158",
   "metadata": {},
   "source": [
    "# Approximate Rates\n",
    "\n",
    "pynucastro can use rate approximations for $A(\\alpha,\\gamma)B$ and $A(\\alpha,p)X(p,\\gamma)B$,\n",
    "combining them into a single effective rate by assuming that the protons and nucleus $X$ are in equilibrium."
   ]
  },
  {
   "cell_type": "code",
   "execution_count": 1,
   "id": "12e1d6a1-2384-4409-bbe7-221cf2f9e197",
   "metadata": {
    "execution": {
     "iopub.execute_input": "2024-10-17T07:28:46.958709Z",
     "iopub.status.busy": "2024-10-17T07:28:46.958306Z",
     "iopub.status.idle": "2024-10-17T07:28:48.498489Z",
     "shell.execute_reply": "2024-10-17T07:28:48.497833Z"
    }
   },
   "outputs": [
    {
     "ename": "AttributeError",
     "evalue": "module 'warnings' has no attribute 'LiteralString'",
     "output_type": "error",
     "traceback": [
      "\u001b[0;31m---------------------------------------------------------------------------\u001b[0m",
      "\u001b[0;31mAttributeError\u001b[0m                            Traceback (most recent call last)",
      "Cell \u001b[0;32mIn[1], line 1\u001b[0m\n\u001b[0;32m----> 1\u001b[0m \u001b[38;5;28;01mimport\u001b[39;00m \u001b[38;5;21;01mpynucastro\u001b[39;00m \u001b[38;5;28;01mas\u001b[39;00m \u001b[38;5;21;01mpyna\u001b[39;00m\n\u001b[1;32m      2\u001b[0m \u001b[38;5;28;01mimport\u001b[39;00m \u001b[38;5;21;01mnumpy\u001b[39;00m \u001b[38;5;28;01mas\u001b[39;00m \u001b[38;5;21;01mnp\u001b[39;00m\n\u001b[1;32m      3\u001b[0m \u001b[38;5;28;01mimport\u001b[39;00m \u001b[38;5;21;01mmatplotlib\u001b[39;00m\u001b[38;5;21;01m.\u001b[39;00m\u001b[38;5;21;01mpyplot\u001b[39;00m \u001b[38;5;28;01mas\u001b[39;00m \u001b[38;5;21;01mplt\u001b[39;00m\n",
      "File \u001b[0;32m/opt/hostedtoolcache/Python/3.11.10/x64/lib/python3.11/site-packages/pynucastro/__init__.py:131\u001b[0m\n\u001b[1;32m    126\u001b[0m \u001b[38;5;28;01mfrom\u001b[39;00m \u001b[38;5;21;01m.\u001b[39;00m\u001b[38;5;21;01m_version\u001b[39;00m \u001b[38;5;28;01mimport\u001b[39;00m version\n\u001b[1;32m    128\u001b[0m __version__ \u001b[38;5;241m=\u001b[39m version\n\u001b[0;32m--> 131\u001b[0m \u001b[38;5;28;01mimport\u001b[39;00m \u001b[38;5;21;01mpynucastro\u001b[39;00m\u001b[38;5;21;01m.\u001b[39;00m\u001b[38;5;21;01mscreening\u001b[39;00m\n\u001b[1;32m    132\u001b[0m \u001b[38;5;28;01mfrom\u001b[39;00m \u001b[38;5;21;01mpynucastro\u001b[39;00m\u001b[38;5;21;01m.\u001b[39;00m\u001b[38;5;21;01mnetworks\u001b[39;00m \u001b[38;5;28;01mimport\u001b[39;00m (AmrexAstroCxxNetwork, BaseCxxNetwork,\n\u001b[1;32m    133\u001b[0m                                  Composition, Explorer, NSENetwork,\n\u001b[1;32m    134\u001b[0m                                  NumpyNetwork, PythonNetwork, RateCollection,\n\u001b[1;32m    135\u001b[0m                                  SimpleCxxNetwork, StarKillerCxxNetwork,\n\u001b[1;32m    136\u001b[0m                                  SympyRates)\n\u001b[1;32m    137\u001b[0m \u001b[38;5;28;01mfrom\u001b[39;00m \u001b[38;5;21;01mpynucastro\u001b[39;00m\u001b[38;5;21;01m.\u001b[39;00m\u001b[38;5;21;01mnucdata\u001b[39;00m \u001b[38;5;28;01mimport\u001b[39;00m Nucleus, get_all_nuclei, get_nuclei_in_range\n",
      "File \u001b[0;32m/opt/hostedtoolcache/Python/3.11.10/x64/lib/python3.11/site-packages/pynucastro/screening/__init__.py:5\u001b[0m\n\u001b[1;32m      1\u001b[0m \u001b[38;5;124;03m\"\"\"Screening routines\"\"\"\u001b[39;00m\n\u001b[1;32m      3\u001b[0m __all__ \u001b[38;5;241m=\u001b[39m [\u001b[38;5;124m\"\u001b[39m\u001b[38;5;124mscreen\u001b[39m\u001b[38;5;124m\"\u001b[39m, \u001b[38;5;124m\"\u001b[39m\u001b[38;5;124mscreening_util\u001b[39m\u001b[38;5;124m\"\u001b[39m]\n\u001b[0;32m----> 5\u001b[0m \u001b[38;5;28;01mfrom\u001b[39;00m \u001b[38;5;21;01m.\u001b[39;00m\u001b[38;5;21;01mscreen\u001b[39;00m \u001b[38;5;28;01mimport\u001b[39;00m (NseState, PlasmaState, ScreenFactors, chugunov_2007,\n\u001b[1;32m      6\u001b[0m                      chugunov_2009, make_plasma_state, make_screen_factors,\n\u001b[1;32m      7\u001b[0m                      potekhin_1998, screen5)\n\u001b[1;32m      8\u001b[0m \u001b[38;5;28;01mfrom\u001b[39;00m \u001b[38;5;21;01m.\u001b[39;00m\u001b[38;5;21;01mscreening_util\u001b[39;00m \u001b[38;5;28;01mimport\u001b[39;00m ScreeningPair, get_screening_map\n",
      "File \u001b[0;32m/opt/hostedtoolcache/Python/3.11.10/x64/lib/python3.11/site-packages/pynucastro/screening/screen.py:9\u001b[0m\n\u001b[1;32m      7\u001b[0m \u001b[38;5;28;01mfrom\u001b[39;00m \u001b[38;5;21;01mpynucastro\u001b[39;00m\u001b[38;5;21;01m.\u001b[39;00m\u001b[38;5;21;01mnucdata\u001b[39;00m \u001b[38;5;28;01mimport\u001b[39;00m Nucleus\n\u001b[1;32m      8\u001b[0m \u001b[38;5;66;03m# use the jitclass placeholder from rate.py\u001b[39;00m\n\u001b[0;32m----> 9\u001b[0m \u001b[38;5;28;01mfrom\u001b[39;00m \u001b[38;5;21;01mpynucastro\u001b[39;00m\u001b[38;5;21;01m.\u001b[39;00m\u001b[38;5;21;01mrates\u001b[39;00m\u001b[38;5;21;01m.\u001b[39;00m\u001b[38;5;21;01mrate\u001b[39;00m \u001b[38;5;28;01mimport\u001b[39;00m jitclass, numba\n\u001b[1;32m     11\u001b[0m \u001b[38;5;28;01mif\u001b[39;00m numba \u001b[38;5;129;01mis\u001b[39;00m \u001b[38;5;129;01mnot\u001b[39;00m \u001b[38;5;28;01mNone\u001b[39;00m:\n\u001b[1;32m     12\u001b[0m     njit \u001b[38;5;241m=\u001b[39m numba\u001b[38;5;241m.\u001b[39mnjit\n",
      "File \u001b[0;32m/opt/hostedtoolcache/Python/3.11.10/x64/lib/python3.11/site-packages/pynucastro/rates/__init__.py:5\u001b[0m\n\u001b[1;32m      1\u001b[0m \u001b[38;5;124;03m\"\"\"The core routines needed to read and interpret nuclear reaction rates\"\"\"\u001b[39;00m\n\u001b[1;32m      3\u001b[0m __all__ \u001b[38;5;241m=\u001b[39m [\u001b[38;5;124m\"\u001b[39m\u001b[38;5;124mapproximate_rates\u001b[39m\u001b[38;5;124m\"\u001b[39m, \u001b[38;5;124m\"\u001b[39m\u001b[38;5;124mrate\u001b[39m\u001b[38;5;124m\"\u001b[39m, \u001b[38;5;124m\"\u001b[39m\u001b[38;5;124mlibrary\u001b[39m\u001b[38;5;124m\"\u001b[39m]\n\u001b[0;32m----> 5\u001b[0m \u001b[38;5;28;01mfrom\u001b[39;00m \u001b[38;5;21;01m.\u001b[39;00m\u001b[38;5;21;01mapproximate_rates\u001b[39;00m \u001b[38;5;28;01mimport\u001b[39;00m ApproximateRate\n\u001b[1;32m      6\u001b[0m \u001b[38;5;28;01mfrom\u001b[39;00m \u001b[38;5;21;01m.\u001b[39;00m\u001b[38;5;21;01mknown_duplicates\u001b[39;00m \u001b[38;5;28;01mimport\u001b[39;00m find_duplicate_rates, is_allowed_dupe\n\u001b[1;32m      7\u001b[0m \u001b[38;5;28;01mfrom\u001b[39;00m \u001b[38;5;21;01m.\u001b[39;00m\u001b[38;5;21;01mlibrary\u001b[39;00m \u001b[38;5;28;01mimport\u001b[39;00m (LangankeLibrary, Library, RateFilter, ReacLibLibrary,\n\u001b[1;32m      8\u001b[0m                       SuzukiLibrary, TabularLibrary, list_known_rates)\n",
      "File \u001b[0;32m/opt/hostedtoolcache/Python/3.11.10/x64/lib/python3.11/site-packages/pynucastro/rates/approximate_rates.py:2\u001b[0m\n\u001b[1;32m      1\u001b[0m \u001b[38;5;28;01mfrom\u001b[39;00m \u001b[38;5;21;01mpynucastro\u001b[39;00m\u001b[38;5;21;01m.\u001b[39;00m\u001b[38;5;21;01mnucdata\u001b[39;00m \u001b[38;5;28;01mimport\u001b[39;00m Nucleus\n\u001b[0;32m----> 2\u001b[0m \u001b[38;5;28;01mfrom\u001b[39;00m \u001b[38;5;21;01mpynucastro\u001b[39;00m\u001b[38;5;21;01m.\u001b[39;00m\u001b[38;5;21;01mrates\u001b[39;00m\u001b[38;5;21;01m.\u001b[39;00m\u001b[38;5;21;01mrate\u001b[39;00m \u001b[38;5;28;01mimport\u001b[39;00m Rate\n\u001b[1;32m      5\u001b[0m \u001b[38;5;28;01mclass\u001b[39;00m \u001b[38;5;21;01mApproximateRate\u001b[39;00m(Rate):\n\u001b[1;32m      7\u001b[0m     \u001b[38;5;28;01mdef\u001b[39;00m \u001b[38;5;21m__init__\u001b[39m(\u001b[38;5;28mself\u001b[39m, primary_rate: Rate, secondary_rates: \u001b[38;5;28mlist\u001b[39m[Rate],\n\u001b[1;32m      8\u001b[0m                  primary_reverse: Rate, secondary_reverse: \u001b[38;5;28mlist\u001b[39m[Rate],\n\u001b[1;32m      9\u001b[0m                  is_reverse: \u001b[38;5;28mbool\u001b[39m \u001b[38;5;241m=\u001b[39m \u001b[38;5;28;01mFalse\u001b[39;00m, approx_type: \u001b[38;5;28mstr\u001b[39m\u001b[38;5;241m=\u001b[39m \u001b[38;5;124m\"\u001b[39m\u001b[38;5;124map_pg\u001b[39m\u001b[38;5;124m\"\u001b[39m) \u001b[38;5;241m-\u001b[39m\u001b[38;5;241m>\u001b[39m \u001b[38;5;28;01mNone\u001b[39;00m:\n",
      "File \u001b[0;32m/opt/hostedtoolcache/Python/3.11.10/x64/lib/python3.11/site-packages/pynucastro/rates/rate.py:313\u001b[0m\n\u001b[1;32m    309\u001b[0m         string \u001b[38;5;241m+\u001b[39m\u001b[38;5;241m=\u001b[39m \u001b[38;5;124m\"\u001b[39m\u001b[38;5;124m;\u001b[39m\u001b[38;5;124m\"\u001b[39m\n\u001b[1;32m    310\u001b[0m         \u001b[38;5;28;01mreturn\u001b[39;00m string\n\u001b[0;32m--> 313\u001b[0m \u001b[38;5;28;43;01mclass\u001b[39;49;00m\u001b[43m \u001b[49m\u001b[38;5;21;43;01mRate\u001b[39;49;00m\u001b[43m:\u001b[49m\n\u001b[1;32m    314\u001b[0m \u001b[38;5;250;43m    \u001b[39;49m\u001b[38;5;124;43;03m\"\"\"The base reaction rate class.  Most rate types will subclass\u001b[39;49;00m\n\u001b[1;32m    315\u001b[0m \u001b[38;5;124;43;03m    this and extend to their particular format.\u001b[39;49;00m\n\u001b[1;32m    316\u001b[0m \n\u001b[1;32m    317\u001b[0m \u001b[38;5;124;43;03m    \"\"\"\u001b[39;49;00m\n\u001b[1;32m    318\u001b[0m \u001b[43m    \u001b[49m\u001b[38;5;28;43;01mdef\u001b[39;49;00m\u001b[43m \u001b[49m\u001b[38;5;21;43m__init__\u001b[39;49m\u001b[43m(\u001b[49m\u001b[38;5;28;43mself\u001b[39;49m\u001b[43m,\u001b[49m\u001b[43m \u001b[49m\u001b[43mreactants\u001b[49m\u001b[43m:\u001b[49m\u001b[43m \u001b[49m\u001b[38;5;28;43mlist\u001b[39;49m\u001b[43m[\u001b[49m\u001b[38;5;28;43mstr\u001b[39;49m\u001b[43m]\u001b[49m\u001b[43m \u001b[49m\u001b[38;5;241;43m|\u001b[39;49m\u001b[43m \u001b[49m\u001b[38;5;28;43mlist\u001b[39;49m\u001b[43m[\u001b[49m\u001b[43mNucleus\u001b[49m\u001b[43m]\u001b[49m\u001b[43m \u001b[49m\u001b[38;5;241;43m=\u001b[39;49m\u001b[43m \u001b[49m\u001b[38;5;28;43;01mNone\u001b[39;49;00m\u001b[43m,\u001b[49m\n\u001b[1;32m    319\u001b[0m \u001b[43m                 \u001b[49m\u001b[43mproducts\u001b[49m\u001b[43m:\u001b[49m\u001b[43m \u001b[49m\u001b[38;5;28;43mlist\u001b[39;49m\u001b[43m[\u001b[49m\u001b[38;5;28;43mstr\u001b[39;49m\u001b[43m]\u001b[49m\u001b[43m \u001b[49m\u001b[38;5;241;43m|\u001b[39;49m\u001b[43m \u001b[49m\u001b[38;5;28;43mlist\u001b[39;49m\u001b[43m[\u001b[49m\u001b[43mNucleus\u001b[49m\u001b[43m]\u001b[49m\u001b[43m \u001b[49m\u001b[38;5;241;43m=\u001b[39;49m\u001b[43m \u001b[49m\u001b[38;5;28;43;01mNone\u001b[39;49;00m\u001b[43m,\u001b[49m\n\u001b[1;32m    320\u001b[0m \u001b[43m                 \u001b[49m\u001b[43mQ\u001b[49m\u001b[43m:\u001b[49m\u001b[43m \u001b[49m\u001b[38;5;28;43mfloat\u001b[39;49m\u001b[43m \u001b[49m\u001b[38;5;241;43m=\u001b[39;49m\u001b[43m \u001b[49m\u001b[38;5;28;43;01mNone\u001b[39;49;00m\u001b[43m,\u001b[49m\u001b[43m \u001b[49m\u001b[43mweak_type\u001b[49m\u001b[43m:\u001b[49m\u001b[43m \u001b[49m\u001b[38;5;28;43mstr\u001b[39;49m\u001b[43m \u001b[49m\u001b[38;5;241;43m=\u001b[39;49m\u001b[43m \u001b[49m\u001b[38;5;124;43m\"\u001b[39;49m\u001b[38;5;124;43m\"\u001b[39;49m\u001b[43m,\u001b[49m\n\u001b[1;32m    321\u001b[0m \u001b[43m                 \u001b[49m\u001b[43mlabel\u001b[49m\u001b[43m:\u001b[49m\u001b[43m \u001b[49m\u001b[38;5;28;43mstr\u001b[39;49m\u001b[43m \u001b[49m\u001b[38;5;241;43m=\u001b[39;49m\u001b[43m \u001b[49m\u001b[38;5;124;43m\"\u001b[39;49m\u001b[38;5;124;43mgeneric\u001b[39;49m\u001b[38;5;124;43m\"\u001b[39;49m\u001b[43m)\u001b[49m\u001b[43m \u001b[49m\u001b[38;5;241;43m-\u001b[39;49m\u001b[38;5;241;43m>\u001b[39;49m\u001b[43m \u001b[49m\u001b[38;5;28;43;01mNone\u001b[39;49;00m\u001b[43m:\u001b[49m\n",
      "File \u001b[0;32m/opt/hostedtoolcache/Python/3.11.10/x64/lib/python3.11/site-packages/pynucastro/rates/rate.py:620\u001b[0m, in \u001b[0;36mRate\u001b[0;34m()\u001b[0m\n\u001b[1;32m    617\u001b[0m             nuc \u001b[38;5;241m=\u001b[39m n\n\u001b[1;32m    618\u001b[0m     \u001b[38;5;28;01mreturn\u001b[39;00m nuc\n\u001b[0;32m--> 620\u001b[0m \u001b[38;5;28;01mdef\u001b[39;00m \u001b[38;5;21mydot_string_py\u001b[39m(\u001b[38;5;28mself\u001b[39m) \u001b[38;5;241m-\u001b[39m\u001b[38;5;241m>\u001b[39m \u001b[43mwarnings\u001b[49m\u001b[38;5;241;43m.\u001b[39;49m\u001b[43mLiteralString\u001b[49m:\n\u001b[1;32m    621\u001b[0m \u001b[38;5;250m    \u001b[39m\u001b[38;5;124;03m\"\"\"\u001b[39;00m\n\u001b[1;32m    622\u001b[0m \u001b[38;5;124;03m    Return a string containing the term in a dY/dt equation\u001b[39;00m\n\u001b[1;32m    623\u001b[0m \u001b[38;5;124;03m    in a reaction network corresponding to this rate.\u001b[39;00m\n\u001b[1;32m    624\u001b[0m \u001b[38;5;124;03m    \"\"\"\u001b[39;00m\n\u001b[1;32m    626\u001b[0m     ydot_string_components \u001b[38;5;241m=\u001b[39m []\n",
      "\u001b[0;31mAttributeError\u001b[0m: module 'warnings' has no attribute 'LiteralString'"
     ]
    }
   ],
   "source": [
    "import pynucastro as pyna\n",
    "import numpy as np\n",
    "import matplotlib.pyplot as plt\n",
    "from scipy.integrate import solve_ivp"
   ]
  },
  {
   "cell_type": "markdown",
   "id": "847af100-3f40-475c-aa5e-7af228f35aef",
   "metadata": {},
   "source": [
    "Let's create a simple network that has both an $(\\alpha, \\gamma)$ and\n",
    "$(\\alpha, p)(p, \\gamma)$ sequence."
   ]
  },
  {
   "cell_type": "code",
   "execution_count": 2,
   "id": "4f2b68c7-0fbb-44e9-ad74-71d7b74d7d3f",
   "metadata": {
    "execution": {
     "iopub.execute_input": "2024-10-17T07:28:48.500949Z",
     "iopub.status.busy": "2024-10-17T07:28:48.500588Z",
     "iopub.status.idle": "2024-10-17T07:28:48.514266Z",
     "shell.execute_reply": "2024-10-17T07:28:48.513782Z"
    }
   },
   "outputs": [
    {
     "ename": "NameError",
     "evalue": "name 'pyna' is not defined",
     "output_type": "error",
     "traceback": [
      "\u001b[0;31m---------------------------------------------------------------------------\u001b[0m",
      "\u001b[0;31mNameError\u001b[0m                                 Traceback (most recent call last)",
      "Cell \u001b[0;32mIn[2], line 1\u001b[0m\n\u001b[0;32m----> 1\u001b[0m reaclib_library \u001b[38;5;241m=\u001b[39m \u001b[43mpyna\u001b[49m\u001b[38;5;241m.\u001b[39mReacLibLibrary()\n\u001b[1;32m      2\u001b[0m mylib \u001b[38;5;241m=\u001b[39m reaclib_library\u001b[38;5;241m.\u001b[39mlinking_nuclei([\u001b[38;5;124m\"\u001b[39m\u001b[38;5;124mmg24\u001b[39m\u001b[38;5;124m\"\u001b[39m, \u001b[38;5;124m\"\u001b[39m\u001b[38;5;124mal27\u001b[39m\u001b[38;5;124m\"\u001b[39m, \u001b[38;5;124m\"\u001b[39m\u001b[38;5;124msi28\u001b[39m\u001b[38;5;124m\"\u001b[39m, \u001b[38;5;124m\"\u001b[39m\u001b[38;5;124mp31\u001b[39m\u001b[38;5;124m\"\u001b[39m, \u001b[38;5;124m\"\u001b[39m\u001b[38;5;124ms32\u001b[39m\u001b[38;5;124m\"\u001b[39m, \u001b[38;5;124m\"\u001b[39m\u001b[38;5;124mhe4\u001b[39m\u001b[38;5;124m\"\u001b[39m, \u001b[38;5;124m\"\u001b[39m\u001b[38;5;124mp\u001b[39m\u001b[38;5;124m\"\u001b[39m])\n\u001b[1;32m      3\u001b[0m pynet \u001b[38;5;241m=\u001b[39m pyna\u001b[38;5;241m.\u001b[39mPythonNetwork(libraries\u001b[38;5;241m=\u001b[39m[mylib])\n",
      "\u001b[0;31mNameError\u001b[0m: name 'pyna' is not defined"
     ]
    }
   ],
   "source": [
    "reaclib_library = pyna.ReacLibLibrary()\n",
    "mylib = reaclib_library.linking_nuclei([\"mg24\", \"al27\", \"si28\", \"p31\", \"s32\", \"he4\", \"p\"])\n",
    "pynet = pyna.PythonNetwork(libraries=[mylib])"
   ]
  },
  {
   "cell_type": "code",
   "execution_count": 3,
   "id": "7891cf0e-5b06-438d-87d5-8adca038465f",
   "metadata": {
    "execution": {
     "iopub.execute_input": "2024-10-17T07:28:48.515969Z",
     "iopub.status.busy": "2024-10-17T07:28:48.515529Z",
     "iopub.status.idle": "2024-10-17T07:28:48.525980Z",
     "shell.execute_reply": "2024-10-17T07:28:48.525457Z"
    },
    "tags": []
   },
   "outputs": [
    {
     "ename": "NameError",
     "evalue": "name 'pynet' is not defined",
     "output_type": "error",
     "traceback": [
      "\u001b[0;31m---------------------------------------------------------------------------\u001b[0m",
      "\u001b[0;31mNameError\u001b[0m                                 Traceback (most recent call last)",
      "Cell \u001b[0;32mIn[3], line 1\u001b[0m\n\u001b[0;32m----> 1\u001b[0m fig \u001b[38;5;241m=\u001b[39m \u001b[43mpynet\u001b[49m\u001b[38;5;241m.\u001b[39mplot(rotated\u001b[38;5;241m=\u001b[39m\u001b[38;5;28;01mTrue\u001b[39;00m, curved_edges\u001b[38;5;241m=\u001b[39m\u001b[38;5;28;01mTrue\u001b[39;00m)\n",
      "\u001b[0;31mNameError\u001b[0m: name 'pynet' is not defined"
     ]
    }
   ],
   "source": [
    "fig = pynet.plot(rotated=True, curved_edges=True)"
   ]
  },
  {
   "cell_type": "code",
   "execution_count": 4,
   "id": "576721f6-1ef0-4c58-8e12-5b70692640f0",
   "metadata": {
    "execution": {
     "iopub.execute_input": "2024-10-17T07:28:48.527605Z",
     "iopub.status.busy": "2024-10-17T07:28:48.527255Z",
     "iopub.status.idle": "2024-10-17T07:28:48.537682Z",
     "shell.execute_reply": "2024-10-17T07:28:48.537236Z"
    }
   },
   "outputs": [
    {
     "ename": "NameError",
     "evalue": "name 'pynet' is not defined",
     "output_type": "error",
     "traceback": [
      "\u001b[0;31m---------------------------------------------------------------------------\u001b[0m",
      "\u001b[0;31mNameError\u001b[0m                                 Traceback (most recent call last)",
      "Cell \u001b[0;32mIn[4], line 1\u001b[0m\n\u001b[0;32m----> 1\u001b[0m \u001b[43mpynet\u001b[49m\u001b[38;5;241m.\u001b[39mwrite_network(\u001b[38;5;124m\"\u001b[39m\u001b[38;5;124mfull_net.py\u001b[39m\u001b[38;5;124m\"\u001b[39m)\n",
      "\u001b[0;31mNameError\u001b[0m: name 'pynet' is not defined"
     ]
    }
   ],
   "source": [
    "pynet.write_network(\"full_net.py\")"
   ]
  },
  {
   "cell_type": "code",
   "execution_count": 5,
   "id": "01eb52a1-5e98-49e4-a69d-a52dc9e8bb44",
   "metadata": {
    "execution": {
     "iopub.execute_input": "2024-10-17T07:28:48.539362Z",
     "iopub.status.busy": "2024-10-17T07:28:48.539027Z",
     "iopub.status.idle": "2024-10-17T07:28:48.549181Z",
     "shell.execute_reply": "2024-10-17T07:28:48.548744Z"
    }
   },
   "outputs": [
    {
     "ename": "ModuleNotFoundError",
     "evalue": "No module named 'full_net'",
     "output_type": "error",
     "traceback": [
      "\u001b[0;31m---------------------------------------------------------------------------\u001b[0m",
      "\u001b[0;31mModuleNotFoundError\u001b[0m                       Traceback (most recent call last)",
      "Cell \u001b[0;32mIn[5], line 1\u001b[0m\n\u001b[0;32m----> 1\u001b[0m \u001b[38;5;28;01mimport\u001b[39;00m \u001b[38;5;21;01mfull_net\u001b[39;00m\n",
      "\u001b[0;31mModuleNotFoundError\u001b[0m: No module named 'full_net'"
     ]
    }
   ],
   "source": [
    "import full_net"
   ]
  },
  {
   "cell_type": "markdown",
   "id": "8574a131-764a-40ec-81e5-5e01da2e8215",
   "metadata": {},
   "source": [
    "## Integrating the full network\n",
    "\n",
    "Now let's integrate this.  We'll start with half ${}^{24}\\mathrm{Mg}$ and half $\\alpha$ by mass."
   ]
  },
  {
   "cell_type": "code",
   "execution_count": 6,
   "id": "4789d42d-5345-4560-a2cf-9646cbb757f0",
   "metadata": {
    "execution": {
     "iopub.execute_input": "2024-10-17T07:28:48.550761Z",
     "iopub.status.busy": "2024-10-17T07:28:48.550433Z",
     "iopub.status.idle": "2024-10-17T07:28:48.562053Z",
     "shell.execute_reply": "2024-10-17T07:28:48.561620Z"
    }
   },
   "outputs": [
    {
     "ename": "NameError",
     "evalue": "name 'np' is not defined",
     "output_type": "error",
     "traceback": [
      "\u001b[0;31m---------------------------------------------------------------------------\u001b[0m",
      "\u001b[0;31mNameError\u001b[0m                                 Traceback (most recent call last)",
      "Cell \u001b[0;32mIn[6], line 4\u001b[0m\n\u001b[1;32m      1\u001b[0m rho \u001b[38;5;241m=\u001b[39m \u001b[38;5;241m1.e7\u001b[39m\n\u001b[1;32m      2\u001b[0m T \u001b[38;5;241m=\u001b[39m \u001b[38;5;241m3e9\u001b[39m\n\u001b[0;32m----> 4\u001b[0m X0 \u001b[38;5;241m=\u001b[39m \u001b[43mnp\u001b[49m\u001b[38;5;241m.\u001b[39mzeros(full_net\u001b[38;5;241m.\u001b[39mnnuc)\n\u001b[1;32m      5\u001b[0m X0[full_net\u001b[38;5;241m.\u001b[39mjhe4] \u001b[38;5;241m=\u001b[39m \u001b[38;5;241m0.5\u001b[39m\n\u001b[1;32m      6\u001b[0m X0[full_net\u001b[38;5;241m.\u001b[39mjmg24] \u001b[38;5;241m=\u001b[39m \u001b[38;5;241m0.5\u001b[39m\n",
      "\u001b[0;31mNameError\u001b[0m: name 'np' is not defined"
     ]
    }
   ],
   "source": [
    "rho = 1.e7\n",
    "T = 3e9\n",
    "\n",
    "X0 = np.zeros(full_net.nnuc)\n",
    "X0[full_net.jhe4] = 0.5\n",
    "X0[full_net.jmg24] = 0.5\n",
    "\n",
    "Y0 = X0 / full_net.A"
   ]
  },
  {
   "cell_type": "code",
   "execution_count": 7,
   "id": "472497be-32f8-42bd-9ac6-594d4dac0edf",
   "metadata": {
    "execution": {
     "iopub.execute_input": "2024-10-17T07:28:48.563654Z",
     "iopub.status.busy": "2024-10-17T07:28:48.563309Z",
     "iopub.status.idle": "2024-10-17T07:28:48.575455Z",
     "shell.execute_reply": "2024-10-17T07:28:48.574874Z"
    }
   },
   "outputs": [
    {
     "ename": "NameError",
     "evalue": "name 'solve_ivp' is not defined",
     "output_type": "error",
     "traceback": [
      "\u001b[0;31m---------------------------------------------------------------------------\u001b[0m",
      "\u001b[0;31mNameError\u001b[0m                                 Traceback (most recent call last)",
      "Cell \u001b[0;32mIn[7], line 2\u001b[0m\n\u001b[1;32m      1\u001b[0m tmax \u001b[38;5;241m=\u001b[39m \u001b[38;5;241m1.e-3\u001b[39m\n\u001b[0;32m----> 2\u001b[0m sol \u001b[38;5;241m=\u001b[39m \u001b[43msolve_ivp\u001b[49m(full_net\u001b[38;5;241m.\u001b[39mrhs, [\u001b[38;5;241m0\u001b[39m, tmax], Y0, method\u001b[38;5;241m=\u001b[39m\u001b[38;5;124m\"\u001b[39m\u001b[38;5;124mBDF\u001b[39m\u001b[38;5;124m\"\u001b[39m,\n\u001b[1;32m      3\u001b[0m                 dense_output\u001b[38;5;241m=\u001b[39m\u001b[38;5;28;01mTrue\u001b[39;00m, args\u001b[38;5;241m=\u001b[39m(rho, T), rtol\u001b[38;5;241m=\u001b[39m\u001b[38;5;241m1.e-6\u001b[39m, atol\u001b[38;5;241m=\u001b[39m\u001b[38;5;241m1.e-10\u001b[39m)\n",
      "\u001b[0;31mNameError\u001b[0m: name 'solve_ivp' is not defined"
     ]
    }
   ],
   "source": [
    "tmax = 1.e-3\n",
    "sol = solve_ivp(full_net.rhs, [0, tmax], Y0, method=\"BDF\",\n",
    "                dense_output=True, args=(rho, T), rtol=1.e-6, atol=1.e-10)"
   ]
  },
  {
   "cell_type": "code",
   "execution_count": 8,
   "id": "10062ec0-3363-4376-87ec-981889e7be5a",
   "metadata": {
    "execution": {
     "iopub.execute_input": "2024-10-17T07:28:48.577080Z",
     "iopub.status.busy": "2024-10-17T07:28:48.576766Z",
     "iopub.status.idle": "2024-10-17T07:28:48.589543Z",
     "shell.execute_reply": "2024-10-17T07:28:48.589098Z"
    }
   },
   "outputs": [
    {
     "ename": "NameError",
     "evalue": "name 'plt' is not defined",
     "output_type": "error",
     "traceback": [
      "\u001b[0;31m---------------------------------------------------------------------------\u001b[0m",
      "\u001b[0;31mNameError\u001b[0m                                 Traceback (most recent call last)",
      "Cell \u001b[0;32mIn[8], line 1\u001b[0m\n\u001b[0;32m----> 1\u001b[0m fig \u001b[38;5;241m=\u001b[39m \u001b[43mplt\u001b[49m\u001b[38;5;241m.\u001b[39mfigure()\n\u001b[1;32m      2\u001b[0m ax \u001b[38;5;241m=\u001b[39m fig\u001b[38;5;241m.\u001b[39madd_subplot(\u001b[38;5;241m111\u001b[39m)\n\u001b[1;32m      4\u001b[0m \u001b[38;5;28;01mfor\u001b[39;00m i \u001b[38;5;129;01min\u001b[39;00m \u001b[38;5;28mrange\u001b[39m(full_net\u001b[38;5;241m.\u001b[39mnnuc):\n",
      "\u001b[0;31mNameError\u001b[0m: name 'plt' is not defined"
     ]
    }
   ],
   "source": [
    "fig = plt.figure()\n",
    "ax = fig.add_subplot(111)\n",
    "\n",
    "for i in range(full_net.nnuc):\n",
    "    ax.loglog(sol.t, sol.y[i,:] * full_net.A[i], label=f\"X({full_net.names[i].capitalize()})\")\n",
    "\n",
    "ax.legend()\n",
    "\n",
    "ax.set_xlim(1.e-10, 1.e-3)\n",
    "ax.set_ylim(1.e-12, 1)\n",
    "fig.set_size_inches((10, 8))"
   ]
  },
  {
   "cell_type": "markdown",
   "id": "4255ddd6-7424-488c-b2e6-5ffd9007f2d1",
   "metadata": {},
   "source": [
    "## Approximate Version\n",
    "\n",
    "Now we will approximate the rates, combining $(\\alpha, \\gamma)$ and\n",
    "$(\\alpha, p)(p, \\gamma)$ into a single effective rate.\n",
    "\n",
    "The routine `make_ap_pg_approx()` will find all of the rates that make up that sequence and create a\n",
    "single `ApproximateRate` that captures the effective rate.  The original rates will still be stored in the `ApproximateRate` object and will be evaluated to compute the needed approximation when the effective rate is evaluated."
   ]
  },
  {
   "cell_type": "code",
   "execution_count": 9,
   "id": "ccd17fe3-9ce5-4a90-8dc5-a4377f28f132",
   "metadata": {
    "execution": {
     "iopub.execute_input": "2024-10-17T07:28:48.591145Z",
     "iopub.status.busy": "2024-10-17T07:28:48.590836Z",
     "iopub.status.idle": "2024-10-17T07:28:48.601083Z",
     "shell.execute_reply": "2024-10-17T07:28:48.600652Z"
    }
   },
   "outputs": [
    {
     "ename": "NameError",
     "evalue": "name 'pynet' is not defined",
     "output_type": "error",
     "traceback": [
      "\u001b[0;31m---------------------------------------------------------------------------\u001b[0m",
      "\u001b[0;31mNameError\u001b[0m                                 Traceback (most recent call last)",
      "Cell \u001b[0;32mIn[9], line 1\u001b[0m\n\u001b[0;32m----> 1\u001b[0m \u001b[43mpynet\u001b[49m\u001b[38;5;241m.\u001b[39mmake_ap_pg_approx()\n",
      "\u001b[0;31mNameError\u001b[0m: name 'pynet' is not defined"
     ]
    }
   ],
   "source": [
    "pynet.make_ap_pg_approx()"
   ]
  },
  {
   "cell_type": "code",
   "execution_count": 10,
   "id": "b7192d34-9fd9-47eb-86ed-8ac797661081",
   "metadata": {
    "execution": {
     "iopub.execute_input": "2024-10-17T07:28:48.602641Z",
     "iopub.status.busy": "2024-10-17T07:28:48.602325Z",
     "iopub.status.idle": "2024-10-17T07:28:48.612295Z",
     "shell.execute_reply": "2024-10-17T07:28:48.611855Z"
    }
   },
   "outputs": [
    {
     "ename": "NameError",
     "evalue": "name 'pynet' is not defined",
     "output_type": "error",
     "traceback": [
      "\u001b[0;31m---------------------------------------------------------------------------\u001b[0m",
      "\u001b[0;31mNameError\u001b[0m                                 Traceback (most recent call last)",
      "Cell \u001b[0;32mIn[10], line 1\u001b[0m\n\u001b[0;32m----> 1\u001b[0m \u001b[43mpynet\u001b[49m\n",
      "\u001b[0;31mNameError\u001b[0m: name 'pynet' is not defined"
     ]
    }
   ],
   "source": [
    "pynet"
   ]
  },
  {
   "cell_type": "markdown",
   "id": "d46fc1b5-a52c-468e-a793-55838b86ab8e",
   "metadata": {},
   "source": [
    "Since we no longer care about the ${}^{27}\\mathrm{Al}$ and ${}^{31}\\mathrm{P}$, we can remove them from the network.  The `ApproximateRate` object still knows that these are the intermediate nucleus, but now they\n",
    "won't explicitly appear as one of the nuclei in the network."
   ]
  },
  {
   "cell_type": "code",
   "execution_count": 11,
   "id": "1787e527-b409-4310-b12f-1bc03e1326d2",
   "metadata": {
    "execution": {
     "iopub.execute_input": "2024-10-17T07:28:48.613999Z",
     "iopub.status.busy": "2024-10-17T07:28:48.613576Z",
     "iopub.status.idle": "2024-10-17T07:28:48.624093Z",
     "shell.execute_reply": "2024-10-17T07:28:48.623526Z"
    }
   },
   "outputs": [
    {
     "ename": "NameError",
     "evalue": "name 'pynet' is not defined",
     "output_type": "error",
     "traceback": [
      "\u001b[0;31m---------------------------------------------------------------------------\u001b[0m",
      "\u001b[0;31mNameError\u001b[0m                                 Traceback (most recent call last)",
      "Cell \u001b[0;32mIn[11], line 1\u001b[0m\n\u001b[0;32m----> 1\u001b[0m \u001b[43mpynet\u001b[49m\u001b[38;5;241m.\u001b[39mremove_nuclei([\u001b[38;5;124m\"\u001b[39m\u001b[38;5;124mal27\u001b[39m\u001b[38;5;124m\"\u001b[39m, \u001b[38;5;124m\"\u001b[39m\u001b[38;5;124mp31\u001b[39m\u001b[38;5;124m\"\u001b[39m])\n",
      "\u001b[0;31mNameError\u001b[0m: name 'pynet' is not defined"
     ]
    }
   ],
   "source": [
    "pynet.remove_nuclei([\"al27\", \"p31\"])"
   ]
  },
  {
   "cell_type": "markdown",
   "id": "f2a8190b-d049-4125-a6a0-ad7d3e621d31",
   "metadata": {},
   "source": [
    "Note that since no reactions consume protons after that removal, the protons are all removed from the network, reducing its size from 7 nuclei to 4"
   ]
  },
  {
   "cell_type": "code",
   "execution_count": 12,
   "id": "2b3d0703-0c92-4aaa-a1f2-f3e07e2c89bd",
   "metadata": {
    "execution": {
     "iopub.execute_input": "2024-10-17T07:28:48.625827Z",
     "iopub.status.busy": "2024-10-17T07:28:48.625401Z",
     "iopub.status.idle": "2024-10-17T07:28:48.635901Z",
     "shell.execute_reply": "2024-10-17T07:28:48.635347Z"
    }
   },
   "outputs": [
    {
     "ename": "NameError",
     "evalue": "name 'pynet' is not defined",
     "output_type": "error",
     "traceback": [
      "\u001b[0;31m---------------------------------------------------------------------------\u001b[0m",
      "\u001b[0;31mNameError\u001b[0m                                 Traceback (most recent call last)",
      "Cell \u001b[0;32mIn[12], line 1\u001b[0m\n\u001b[0;32m----> 1\u001b[0m \u001b[38;5;28mprint\u001b[39m(\u001b[43mpynet\u001b[49m\u001b[38;5;241m.\u001b[39mnetwork_overview())\n",
      "\u001b[0;31mNameError\u001b[0m: name 'pynet' is not defined"
     ]
    }
   ],
   "source": [
    "print(pynet.network_overview())"
   ]
  },
  {
   "cell_type": "code",
   "execution_count": 13,
   "id": "57b11c1e-4fab-482e-92a8-90c7eb3d0ff5",
   "metadata": {
    "execution": {
     "iopub.execute_input": "2024-10-17T07:28:48.637522Z",
     "iopub.status.busy": "2024-10-17T07:28:48.637115Z",
     "iopub.status.idle": "2024-10-17T07:28:48.647484Z",
     "shell.execute_reply": "2024-10-17T07:28:48.647044Z"
    },
    "tags": []
   },
   "outputs": [
    {
     "ename": "NameError",
     "evalue": "name 'pynet' is not defined",
     "output_type": "error",
     "traceback": [
      "\u001b[0;31m---------------------------------------------------------------------------\u001b[0m",
      "\u001b[0;31mNameError\u001b[0m                                 Traceback (most recent call last)",
      "Cell \u001b[0;32mIn[13], line 1\u001b[0m\n\u001b[0;32m----> 1\u001b[0m fig \u001b[38;5;241m=\u001b[39m \u001b[43mpynet\u001b[49m\u001b[38;5;241m.\u001b[39mplot(rotated\u001b[38;5;241m=\u001b[39m\u001b[38;5;28;01mTrue\u001b[39;00m, curved_edges\u001b[38;5;241m=\u001b[39m\u001b[38;5;28;01mTrue\u001b[39;00m)\n",
      "\u001b[0;31mNameError\u001b[0m: name 'pynet' is not defined"
     ]
    }
   ],
   "source": [
    "fig = pynet.plot(rotated=True, curved_edges=True)"
   ]
  },
  {
   "cell_type": "markdown",
   "id": "1e9dc382-0ddc-4454-89d7-5383a634821d",
   "metadata": {},
   "source": [
    "As we see above, the nuclei ${}^{27}\\mathrm{Al}$ and ${}^{31}\\mathrm{P}$ no longer appear in the network, but  the links to them are still understood to the network.  This reduces the size of the network, while still preserving those flows."
   ]
  },
  {
   "cell_type": "code",
   "execution_count": 14,
   "id": "3991d57c-a8e7-47b5-987a-608eab285def",
   "metadata": {
    "execution": {
     "iopub.execute_input": "2024-10-17T07:28:48.649120Z",
     "iopub.status.busy": "2024-10-17T07:28:48.648957Z",
     "iopub.status.idle": "2024-10-17T07:28:48.660863Z",
     "shell.execute_reply": "2024-10-17T07:28:48.660413Z"
    }
   },
   "outputs": [
    {
     "ename": "NameError",
     "evalue": "name 'pynet' is not defined",
     "output_type": "error",
     "traceback": [
      "\u001b[0;31m---------------------------------------------------------------------------\u001b[0m",
      "\u001b[0;31mNameError\u001b[0m                                 Traceback (most recent call last)",
      "Cell \u001b[0;32mIn[14], line 1\u001b[0m\n\u001b[0;32m----> 1\u001b[0m \u001b[43mpynet\u001b[49m\u001b[38;5;241m.\u001b[39mwrite_network(\u001b[38;5;124m\"\u001b[39m\u001b[38;5;124mapprox_net.py\u001b[39m\u001b[38;5;124m\"\u001b[39m)\n",
      "\u001b[0;31mNameError\u001b[0m: name 'pynet' is not defined"
     ]
    }
   ],
   "source": [
    "pynet.write_network(\"approx_net.py\")"
   ]
  },
  {
   "cell_type": "code",
   "execution_count": 15,
   "id": "57dedd73-df07-46b2-aade-ee2d70a21768",
   "metadata": {
    "execution": {
     "iopub.execute_input": "2024-10-17T07:28:48.662453Z",
     "iopub.status.busy": "2024-10-17T07:28:48.662145Z",
     "iopub.status.idle": "2024-10-17T07:28:48.672231Z",
     "shell.execute_reply": "2024-10-17T07:28:48.671780Z"
    }
   },
   "outputs": [
    {
     "ename": "ModuleNotFoundError",
     "evalue": "No module named 'approx_net'",
     "output_type": "error",
     "traceback": [
      "\u001b[0;31m---------------------------------------------------------------------------\u001b[0m",
      "\u001b[0;31mModuleNotFoundError\u001b[0m                       Traceback (most recent call last)",
      "Cell \u001b[0;32mIn[15], line 1\u001b[0m\n\u001b[0;32m----> 1\u001b[0m \u001b[38;5;28;01mimport\u001b[39;00m \u001b[38;5;21;01mapprox_net\u001b[39;00m\n",
      "\u001b[0;31mModuleNotFoundError\u001b[0m: No module named 'approx_net'"
     ]
    }
   ],
   "source": [
    "import approx_net"
   ]
  },
  {
   "cell_type": "markdown",
   "id": "65bb3e24-5e74-4188-abf9-9ba4b061fcaf",
   "metadata": {},
   "source": [
    "The `PythonNetwork` knows how to write out the code needed to evaluate the rate approximation.  For instance, the evolution of ${}^{4}\\mathrm{He}$ is determined as:"
   ]
  },
  {
   "cell_type": "code",
   "execution_count": 16,
   "id": "1a44c205-0ceb-45f9-a770-6950bbd31967",
   "metadata": {
    "execution": {
     "iopub.execute_input": "2024-10-17T07:28:48.673672Z",
     "iopub.status.busy": "2024-10-17T07:28:48.673514Z",
     "iopub.status.idle": "2024-10-17T07:28:48.684484Z",
     "shell.execute_reply": "2024-10-17T07:28:48.683953Z"
    }
   },
   "outputs": [
    {
     "ename": "NameError",
     "evalue": "name 'pynet' is not defined",
     "output_type": "error",
     "traceback": [
      "\u001b[0;31m---------------------------------------------------------------------------\u001b[0m",
      "\u001b[0;31mNameError\u001b[0m                                 Traceback (most recent call last)",
      "Cell \u001b[0;32mIn[16], line 1\u001b[0m\n\u001b[0;32m----> 1\u001b[0m \u001b[38;5;28mprint\u001b[39m(\u001b[43mpynet\u001b[49m\u001b[38;5;241m.\u001b[39mfull_ydot_string(pyna\u001b[38;5;241m.\u001b[39mNucleus(\u001b[38;5;124m\"\u001b[39m\u001b[38;5;124mhe4\u001b[39m\u001b[38;5;124m\"\u001b[39m)))\n",
      "\u001b[0;31mNameError\u001b[0m: name 'pynet' is not defined"
     ]
    }
   ],
   "source": [
    "print(pynet.full_ydot_string(pyna.Nucleus(\"he4\")))"
   ]
  },
  {
   "cell_type": "markdown",
   "id": "9bfba495-85c0-4330-841a-7c155cad8d29",
   "metadata": {},
   "source": [
    "And the rate approximations are computed as:"
   ]
  },
  {
   "cell_type": "code",
   "execution_count": 17,
   "id": "e352e718-7d4f-46fb-bedf-a1eb05898f06",
   "metadata": {
    "execution": {
     "iopub.execute_input": "2024-10-17T07:28:48.686190Z",
     "iopub.status.busy": "2024-10-17T07:28:48.685886Z",
     "iopub.status.idle": "2024-10-17T07:28:48.696309Z",
     "shell.execute_reply": "2024-10-17T07:28:48.695796Z"
    }
   },
   "outputs": [
    {
     "ename": "NameError",
     "evalue": "name 'pynet' is not defined",
     "output_type": "error",
     "traceback": [
      "\u001b[0;31m---------------------------------------------------------------------------\u001b[0m",
      "\u001b[0;31mNameError\u001b[0m                                 Traceback (most recent call last)",
      "Cell \u001b[0;32mIn[17], line 1\u001b[0m\n\u001b[0;32m----> 1\u001b[0m r \u001b[38;5;241m=\u001b[39m \u001b[43mpynet\u001b[49m\u001b[38;5;241m.\u001b[39mget_rate(\u001b[38;5;124m\"\u001b[39m\u001b[38;5;124mmg24_he4__si28__approx\u001b[39m\u001b[38;5;124m\"\u001b[39m)\n\u001b[1;32m      2\u001b[0m \u001b[38;5;28mprint\u001b[39m(r\u001b[38;5;241m.\u001b[39mfunction_string_py())\n",
      "\u001b[0;31mNameError\u001b[0m: name 'pynet' is not defined"
     ]
    }
   ],
   "source": [
    "r = pynet.get_rate(\"mg24_he4__si28__approx\")\n",
    "print(r.function_string_py())"
   ]
  },
  {
   "cell_type": "markdown",
   "id": "b864e42b-c124-491c-a7a8-3cce4d979026",
   "metadata": {},
   "source": [
    "where the 4 lines before the rate approximation is made are evaluating the original, unapproximated rates."
   ]
  },
  {
   "cell_type": "markdown",
   "id": "7835f2b6-5843-4a72-a60f-c9f59925b8a7",
   "metadata": {},
   "source": [
    "## Integrating the approximate network\n",
    "\n",
    "Let's integrate this approximate net and compare to above"
   ]
  },
  {
   "cell_type": "code",
   "execution_count": 18,
   "id": "4cb2106a-106c-4db2-bfb1-99110386dad0",
   "metadata": {
    "execution": {
     "iopub.execute_input": "2024-10-17T07:28:48.697882Z",
     "iopub.status.busy": "2024-10-17T07:28:48.697591Z",
     "iopub.status.idle": "2024-10-17T07:28:48.708847Z",
     "shell.execute_reply": "2024-10-17T07:28:48.708399Z"
    }
   },
   "outputs": [
    {
     "ename": "NameError",
     "evalue": "name 'np' is not defined",
     "output_type": "error",
     "traceback": [
      "\u001b[0;31m---------------------------------------------------------------------------\u001b[0m",
      "\u001b[0;31mNameError\u001b[0m                                 Traceback (most recent call last)",
      "Cell \u001b[0;32mIn[18], line 4\u001b[0m\n\u001b[1;32m      1\u001b[0m rho \u001b[38;5;241m=\u001b[39m \u001b[38;5;241m1.e7\u001b[39m\n\u001b[1;32m      2\u001b[0m T \u001b[38;5;241m=\u001b[39m \u001b[38;5;241m3.e9\u001b[39m\n\u001b[0;32m----> 4\u001b[0m X0 \u001b[38;5;241m=\u001b[39m \u001b[43mnp\u001b[49m\u001b[38;5;241m.\u001b[39mzeros(approx_net\u001b[38;5;241m.\u001b[39mnnuc)\n\u001b[1;32m      5\u001b[0m X0[approx_net\u001b[38;5;241m.\u001b[39mjhe4] \u001b[38;5;241m=\u001b[39m \u001b[38;5;241m0.5\u001b[39m\n\u001b[1;32m      6\u001b[0m X0[approx_net\u001b[38;5;241m.\u001b[39mjmg24] \u001b[38;5;241m=\u001b[39m \u001b[38;5;241m0.5\u001b[39m\n",
      "\u001b[0;31mNameError\u001b[0m: name 'np' is not defined"
     ]
    }
   ],
   "source": [
    "rho = 1.e7\n",
    "T = 3.e9\n",
    "\n",
    "X0 = np.zeros(approx_net.nnuc)\n",
    "X0[approx_net.jhe4] = 0.5\n",
    "X0[approx_net.jmg24] = 0.5\n",
    "\n",
    "Y0 = X0 / approx_net.A"
   ]
  },
  {
   "cell_type": "code",
   "execution_count": 19,
   "id": "d451dfd3-7e90-4107-a418-fca77efd9217",
   "metadata": {
    "execution": {
     "iopub.execute_input": "2024-10-17T07:28:48.710335Z",
     "iopub.status.busy": "2024-10-17T07:28:48.710171Z",
     "iopub.status.idle": "2024-10-17T07:28:48.721462Z",
     "shell.execute_reply": "2024-10-17T07:28:48.721030Z"
    }
   },
   "outputs": [
    {
     "ename": "NameError",
     "evalue": "name 'solve_ivp' is not defined",
     "output_type": "error",
     "traceback": [
      "\u001b[0;31m---------------------------------------------------------------------------\u001b[0m",
      "\u001b[0;31mNameError\u001b[0m                                 Traceback (most recent call last)",
      "Cell \u001b[0;32mIn[19], line 2\u001b[0m\n\u001b[1;32m      1\u001b[0m tmax \u001b[38;5;241m=\u001b[39m \u001b[38;5;241m1.e-3\u001b[39m\n\u001b[0;32m----> 2\u001b[0m approx_sol \u001b[38;5;241m=\u001b[39m \u001b[43msolve_ivp\u001b[49m(approx_net\u001b[38;5;241m.\u001b[39mrhs, [\u001b[38;5;241m0\u001b[39m, tmax], Y0, method\u001b[38;5;241m=\u001b[39m\u001b[38;5;124m\"\u001b[39m\u001b[38;5;124mBDF\u001b[39m\u001b[38;5;124m\"\u001b[39m,\n\u001b[1;32m      3\u001b[0m                        dense_output\u001b[38;5;241m=\u001b[39m\u001b[38;5;28;01mTrue\u001b[39;00m, args\u001b[38;5;241m=\u001b[39m(rho, T), rtol\u001b[38;5;241m=\u001b[39m\u001b[38;5;241m1.e-6\u001b[39m, atol\u001b[38;5;241m=\u001b[39m\u001b[38;5;241m1.e-10\u001b[39m)\n",
      "\u001b[0;31mNameError\u001b[0m: name 'solve_ivp' is not defined"
     ]
    }
   ],
   "source": [
    "tmax = 1.e-3\n",
    "approx_sol = solve_ivp(approx_net.rhs, [0, tmax], Y0, method=\"BDF\",\n",
    "                       dense_output=True, args=(rho, T), rtol=1.e-6, atol=1.e-10)"
   ]
  },
  {
   "cell_type": "code",
   "execution_count": 20,
   "id": "3f1d7be8-11e4-4769-910b-868611b970b0",
   "metadata": {
    "execution": {
     "iopub.execute_input": "2024-10-17T07:28:48.722897Z",
     "iopub.status.busy": "2024-10-17T07:28:48.722738Z",
     "iopub.status.idle": "2024-10-17T07:28:48.735883Z",
     "shell.execute_reply": "2024-10-17T07:28:48.735409Z"
    }
   },
   "outputs": [
    {
     "ename": "NameError",
     "evalue": "name 'plt' is not defined",
     "output_type": "error",
     "traceback": [
      "\u001b[0;31m---------------------------------------------------------------------------\u001b[0m",
      "\u001b[0;31mNameError\u001b[0m                                 Traceback (most recent call last)",
      "Cell \u001b[0;32mIn[20], line 1\u001b[0m\n\u001b[0;32m----> 1\u001b[0m fig \u001b[38;5;241m=\u001b[39m \u001b[43mplt\u001b[49m\u001b[38;5;241m.\u001b[39mfigure()\n\u001b[1;32m      2\u001b[0m ax \u001b[38;5;241m=\u001b[39m fig\u001b[38;5;241m.\u001b[39madd_subplot(\u001b[38;5;241m111\u001b[39m)\n\u001b[1;32m      4\u001b[0m \u001b[38;5;28;01mfor\u001b[39;00m i \u001b[38;5;129;01min\u001b[39;00m \u001b[38;5;28mrange\u001b[39m(approx_net\u001b[38;5;241m.\u001b[39mnnuc):\n",
      "\u001b[0;31mNameError\u001b[0m: name 'plt' is not defined"
     ]
    }
   ],
   "source": [
    "fig = plt.figure()\n",
    "ax = fig.add_subplot(111)\n",
    "\n",
    "for i in range(approx_net.nnuc):\n",
    "    ax.loglog(approx_sol.t, approx_sol.y[i,:] * approx_net.A[i], label=f\"X({approx_net.names[i].capitalize()})\")\n",
    "\n",
    "ax.legend()\n",
    "ax.set_xlim(1.e-10, 1.e-3)\n",
    "ax.set_ylim(1.e-12, 1)\n",
    "\n",
    "fig.set_size_inches((10, 8))"
   ]
  },
  {
   "cell_type": "markdown",
   "id": "a1489754-4aba-4dc2-bdbf-75bb0261801f",
   "metadata": {},
   "source": [
    "## Comparison\n",
    "\n",
    "Let's plot both on the same axes to see the comparison."
   ]
  },
  {
   "cell_type": "code",
   "execution_count": 21,
   "id": "29e47190-d9e1-4f4e-9012-e3c52d7d94c9",
   "metadata": {
    "execution": {
     "iopub.execute_input": "2024-10-17T07:28:48.737360Z",
     "iopub.status.busy": "2024-10-17T07:28:48.737198Z",
     "iopub.status.idle": "2024-10-17T07:28:48.752292Z",
     "shell.execute_reply": "2024-10-17T07:28:48.751720Z"
    }
   },
   "outputs": [
    {
     "ename": "NameError",
     "evalue": "name 'plt' is not defined",
     "output_type": "error",
     "traceback": [
      "\u001b[0;31m---------------------------------------------------------------------------\u001b[0m",
      "\u001b[0;31mNameError\u001b[0m                                 Traceback (most recent call last)",
      "Cell \u001b[0;32mIn[21], line 1\u001b[0m\n\u001b[0;32m----> 1\u001b[0m fig \u001b[38;5;241m=\u001b[39m \u001b[43mplt\u001b[49m\u001b[38;5;241m.\u001b[39mfigure()\n\u001b[1;32m      2\u001b[0m ax \u001b[38;5;241m=\u001b[39m fig\u001b[38;5;241m.\u001b[39madd_subplot(\u001b[38;5;241m111\u001b[39m)\n\u001b[1;32m      4\u001b[0m \u001b[38;5;28;01mfor\u001b[39;00m i \u001b[38;5;129;01min\u001b[39;00m \u001b[38;5;28mrange\u001b[39m(approx_net\u001b[38;5;241m.\u001b[39mnnuc):\n",
      "\u001b[0;31mNameError\u001b[0m: name 'plt' is not defined"
     ]
    }
   ],
   "source": [
    "fig = plt.figure()\n",
    "ax = fig.add_subplot(111)\n",
    "\n",
    "for i in range(approx_net.nnuc):\n",
    "    ax.loglog(approx_sol.t, approx_sol.y[i,:] * approx_net.A[i],\n",
    "              linestyle=\":\", color=f\"C{i}\")\n",
    "\n",
    "    idx = full_net.names.index(approx_net.names[i])\n",
    "    ax.loglog(sol.t, sol.y[idx,:] * full_net.A[idx],\n",
    "              label=f\"X({full_net.names[idx].capitalize()})\",              \n",
    "              linestyle=\"-\", color=f\"C{i}\")\n",
    "\n",
    "\n",
    "ax.legend()\n",
    "ax.set_xlim(1.e-10, 1.e-3)\n",
    "ax.set_ylim(1.e-12, 1)\n",
    "\n",
    "fig.set_size_inches((10, 8))"
   ]
  },
  {
   "cell_type": "markdown",
   "id": "aa2c23f7-5b7a-473c-9561-afc9ccf5be60",
   "metadata": {},
   "source": [
    "Here the dotted line is the approximate network.  We see that the results agree well."
   ]
  },
  {
   "cell_type": "markdown",
   "id": "b08f1087-04e3-45fd-a778-08bec0461574",
   "metadata": {},
   "source": [
    "## No approximation\n",
    "\n",
    "What if we just create a 4 nuclei network without the $(\\alpha,p)(p,\\gamma)$ links?  How does this compare?"
   ]
  },
  {
   "cell_type": "code",
   "execution_count": 22,
   "id": "693dee33-98e6-43a4-93a7-2de7aba1604e",
   "metadata": {
    "execution": {
     "iopub.execute_input": "2024-10-17T07:28:48.753951Z",
     "iopub.status.busy": "2024-10-17T07:28:48.753656Z",
     "iopub.status.idle": "2024-10-17T07:28:48.765970Z",
     "shell.execute_reply": "2024-10-17T07:28:48.765420Z"
    }
   },
   "outputs": [
    {
     "ename": "NameError",
     "evalue": "name 'reaclib_library' is not defined",
     "output_type": "error",
     "traceback": [
      "\u001b[0;31m---------------------------------------------------------------------------\u001b[0m",
      "\u001b[0;31mNameError\u001b[0m                                 Traceback (most recent call last)",
      "Cell \u001b[0;32mIn[22], line 1\u001b[0m\n\u001b[0;32m----> 1\u001b[0m newlib \u001b[38;5;241m=\u001b[39m \u001b[43mreaclib_library\u001b[49m\u001b[38;5;241m.\u001b[39mlinking_nuclei([\u001b[38;5;124m\"\u001b[39m\u001b[38;5;124mhe4\u001b[39m\u001b[38;5;124m\"\u001b[39m, \u001b[38;5;124m\"\u001b[39m\u001b[38;5;124mmg24\u001b[39m\u001b[38;5;124m\"\u001b[39m, \u001b[38;5;124m\"\u001b[39m\u001b[38;5;124msi28\u001b[39m\u001b[38;5;124m\"\u001b[39m, \u001b[38;5;124m\"\u001b[39m\u001b[38;5;124ms32\u001b[39m\u001b[38;5;124m\"\u001b[39m])\n\u001b[1;32m      2\u001b[0m newpynet \u001b[38;5;241m=\u001b[39m pyna\u001b[38;5;241m.\u001b[39mPythonNetwork(libraries\u001b[38;5;241m=\u001b[39m[newlib])\n\u001b[1;32m      3\u001b[0m fig \u001b[38;5;241m=\u001b[39m newpynet\u001b[38;5;241m.\u001b[39mplot(rotated\u001b[38;5;241m=\u001b[39m\u001b[38;5;28;01mTrue\u001b[39;00m, curved_edges\u001b[38;5;241m=\u001b[39m\u001b[38;5;28;01mTrue\u001b[39;00m)\n",
      "\u001b[0;31mNameError\u001b[0m: name 'reaclib_library' is not defined"
     ]
    }
   ],
   "source": [
    "newlib = reaclib_library.linking_nuclei([\"he4\", \"mg24\", \"si28\", \"s32\"])\n",
    "newpynet = pyna.PythonNetwork(libraries=[newlib])\n",
    "fig = newpynet.plot(rotated=True, curved_edges=True)"
   ]
  },
  {
   "cell_type": "code",
   "execution_count": 23,
   "id": "be1d4c67-be90-4786-93a7-24b47f37b583",
   "metadata": {
    "execution": {
     "iopub.execute_input": "2024-10-17T07:28:48.767626Z",
     "iopub.status.busy": "2024-10-17T07:28:48.767286Z",
     "iopub.status.idle": "2024-10-17T07:28:48.777772Z",
     "shell.execute_reply": "2024-10-17T07:28:48.777225Z"
    }
   },
   "outputs": [
    {
     "ename": "NameError",
     "evalue": "name 'newpynet' is not defined",
     "output_type": "error",
     "traceback": [
      "\u001b[0;31m---------------------------------------------------------------------------\u001b[0m",
      "\u001b[0;31mNameError\u001b[0m                                 Traceback (most recent call last)",
      "Cell \u001b[0;32mIn[23], line 1\u001b[0m\n\u001b[0;32m----> 1\u001b[0m \u001b[43mnewpynet\u001b[49m\u001b[38;5;241m.\u001b[39mwrite_network(\u001b[38;5;124m\"\u001b[39m\u001b[38;5;124msimple_net.py\u001b[39m\u001b[38;5;124m\"\u001b[39m)\n\u001b[1;32m      2\u001b[0m \u001b[38;5;28;01mimport\u001b[39;00m \u001b[38;5;21;01msimple_net\u001b[39;00m\n",
      "\u001b[0;31mNameError\u001b[0m: name 'newpynet' is not defined"
     ]
    }
   ],
   "source": [
    "newpynet.write_network(\"simple_net.py\")\n",
    "import simple_net"
   ]
  },
  {
   "cell_type": "code",
   "execution_count": 24,
   "id": "5c91da87-c28f-43a8-b872-d5b29cc84a41",
   "metadata": {
    "execution": {
     "iopub.execute_input": "2024-10-17T07:28:48.779432Z",
     "iopub.status.busy": "2024-10-17T07:28:48.779122Z",
     "iopub.status.idle": "2024-10-17T07:28:48.790697Z",
     "shell.execute_reply": "2024-10-17T07:28:48.790261Z"
    }
   },
   "outputs": [
    {
     "ename": "NameError",
     "evalue": "name 'np' is not defined",
     "output_type": "error",
     "traceback": [
      "\u001b[0;31m---------------------------------------------------------------------------\u001b[0m",
      "\u001b[0;31mNameError\u001b[0m                                 Traceback (most recent call last)",
      "Cell \u001b[0;32mIn[24], line 4\u001b[0m\n\u001b[1;32m      1\u001b[0m rho \u001b[38;5;241m=\u001b[39m \u001b[38;5;241m1.e7\u001b[39m\n\u001b[1;32m      2\u001b[0m T \u001b[38;5;241m=\u001b[39m \u001b[38;5;241m3e9\u001b[39m\n\u001b[0;32m----> 4\u001b[0m X0 \u001b[38;5;241m=\u001b[39m \u001b[43mnp\u001b[49m\u001b[38;5;241m.\u001b[39mzeros(simple_net\u001b[38;5;241m.\u001b[39mnnuc)\n\u001b[1;32m      5\u001b[0m X0[simple_net\u001b[38;5;241m.\u001b[39mjhe4] \u001b[38;5;241m=\u001b[39m \u001b[38;5;241m0.5\u001b[39m\n\u001b[1;32m      6\u001b[0m X0[simple_net\u001b[38;5;241m.\u001b[39mjmg24] \u001b[38;5;241m=\u001b[39m \u001b[38;5;241m0.5\u001b[39m\n",
      "\u001b[0;31mNameError\u001b[0m: name 'np' is not defined"
     ]
    }
   ],
   "source": [
    "rho = 1.e7\n",
    "T = 3e9\n",
    "\n",
    "X0 = np.zeros(simple_net.nnuc)\n",
    "X0[simple_net.jhe4] = 0.5\n",
    "X0[simple_net.jmg24] = 0.5\n",
    "\n",
    "Y0 = X0 / simple_net.A"
   ]
  },
  {
   "cell_type": "code",
   "execution_count": 25,
   "id": "115b6412-d074-487a-83cd-cbcc22e591de",
   "metadata": {
    "execution": {
     "iopub.execute_input": "2024-10-17T07:28:48.792252Z",
     "iopub.status.busy": "2024-10-17T07:28:48.792089Z",
     "iopub.status.idle": "2024-10-17T07:28:48.802310Z",
     "shell.execute_reply": "2024-10-17T07:28:48.801766Z"
    }
   },
   "outputs": [
    {
     "ename": "NameError",
     "evalue": "name 'simple_net' is not defined",
     "output_type": "error",
     "traceback": [
      "\u001b[0;31m---------------------------------------------------------------------------\u001b[0m",
      "\u001b[0;31mNameError\u001b[0m                                 Traceback (most recent call last)",
      "Cell \u001b[0;32mIn[25], line 1\u001b[0m\n\u001b[0;32m----> 1\u001b[0m \u001b[43msimple_net\u001b[49m\u001b[38;5;241m.\u001b[39mnames \u001b[38;5;241m==\u001b[39m approx_net\u001b[38;5;241m.\u001b[39mnames\n",
      "\u001b[0;31mNameError\u001b[0m: name 'simple_net' is not defined"
     ]
    }
   ],
   "source": [
    "simple_net.names == approx_net.names"
   ]
  },
  {
   "cell_type": "code",
   "execution_count": 26,
   "id": "0d3ea5d7-9447-44ff-ab35-affa05335e93",
   "metadata": {
    "execution": {
     "iopub.execute_input": "2024-10-17T07:28:48.803894Z",
     "iopub.status.busy": "2024-10-17T07:28:48.803744Z",
     "iopub.status.idle": "2024-10-17T07:28:48.815369Z",
     "shell.execute_reply": "2024-10-17T07:28:48.814924Z"
    }
   },
   "outputs": [
    {
     "ename": "NameError",
     "evalue": "name 'solve_ivp' is not defined",
     "output_type": "error",
     "traceback": [
      "\u001b[0;31m---------------------------------------------------------------------------\u001b[0m",
      "\u001b[0;31mNameError\u001b[0m                                 Traceback (most recent call last)",
      "Cell \u001b[0;32mIn[26], line 2\u001b[0m\n\u001b[1;32m      1\u001b[0m tmax \u001b[38;5;241m=\u001b[39m \u001b[38;5;241m1.e-3\u001b[39m\n\u001b[0;32m----> 2\u001b[0m simple_sol \u001b[38;5;241m=\u001b[39m \u001b[43msolve_ivp\u001b[49m(simple_net\u001b[38;5;241m.\u001b[39mrhs, [\u001b[38;5;241m0\u001b[39m, tmax], Y0, method\u001b[38;5;241m=\u001b[39m\u001b[38;5;124m\"\u001b[39m\u001b[38;5;124mBDF\u001b[39m\u001b[38;5;124m\"\u001b[39m,\n\u001b[1;32m      3\u001b[0m                        dense_output\u001b[38;5;241m=\u001b[39m\u001b[38;5;28;01mTrue\u001b[39;00m, args\u001b[38;5;241m=\u001b[39m(rho, T), rtol\u001b[38;5;241m=\u001b[39m\u001b[38;5;241m1.e-6\u001b[39m, atol\u001b[38;5;241m=\u001b[39m\u001b[38;5;241m1.e-10\u001b[39m)\n",
      "\u001b[0;31mNameError\u001b[0m: name 'solve_ivp' is not defined"
     ]
    }
   ],
   "source": [
    "tmax = 1.e-3\n",
    "simple_sol = solve_ivp(simple_net.rhs, [0, tmax], Y0, method=\"BDF\",\n",
    "                       dense_output=True, args=(rho, T), rtol=1.e-6, atol=1.e-10)"
   ]
  },
  {
   "cell_type": "code",
   "execution_count": 27,
   "id": "5616b8dd-3396-48cf-ae93-b86324003024",
   "metadata": {
    "execution": {
     "iopub.execute_input": "2024-10-17T07:28:48.817033Z",
     "iopub.status.busy": "2024-10-17T07:28:48.816662Z",
     "iopub.status.idle": "2024-10-17T07:28:48.832251Z",
     "shell.execute_reply": "2024-10-17T07:28:48.831778Z"
    }
   },
   "outputs": [
    {
     "ename": "NameError",
     "evalue": "name 'plt' is not defined",
     "output_type": "error",
     "traceback": [
      "\u001b[0;31m---------------------------------------------------------------------------\u001b[0m",
      "\u001b[0;31mNameError\u001b[0m                                 Traceback (most recent call last)",
      "Cell \u001b[0;32mIn[27], line 1\u001b[0m\n\u001b[0;32m----> 1\u001b[0m fig \u001b[38;5;241m=\u001b[39m \u001b[43mplt\u001b[49m\u001b[38;5;241m.\u001b[39mfigure()\n\u001b[1;32m      2\u001b[0m ax \u001b[38;5;241m=\u001b[39m fig\u001b[38;5;241m.\u001b[39madd_subplot(\u001b[38;5;241m111\u001b[39m)\n\u001b[1;32m      4\u001b[0m \u001b[38;5;28;01mfor\u001b[39;00m i \u001b[38;5;129;01min\u001b[39;00m \u001b[38;5;28mrange\u001b[39m(approx_net\u001b[38;5;241m.\u001b[39mnnuc):\n",
      "\u001b[0;31mNameError\u001b[0m: name 'plt' is not defined"
     ]
    }
   ],
   "source": [
    "fig = plt.figure()\n",
    "ax = fig.add_subplot(111)\n",
    "\n",
    "for i in range(approx_net.nnuc):\n",
    "    ax.loglog(approx_sol.t, approx_sol.y[i,:] * approx_net.A[i],\n",
    "              linestyle=\":\", color=f\"C{i}\")\n",
    "\n",
    "    idx = full_net.names.index(approx_net.names[i])\n",
    "    ax.loglog(sol.t, sol.y[idx,:] * full_net.A[idx],\n",
    "              label=f\"X({full_net.names[idx].capitalize()})\",              \n",
    "              linestyle=\"-\", color=f\"C{i}\")\n",
    "\n",
    "    idx = simple_net.names.index(approx_net.names[i])\n",
    "    ax.loglog(simple_sol.t, simple_sol.y[idx,:] * simple_net.A[idx],\n",
    "              linestyle=\"--\", color=f\"C{i}\")\n",
    "\n",
    "\n",
    "ax.legend()\n",
    "ax.set_xlim(1.e-10, 1.e-3)\n",
    "ax.set_ylim(1.e-12, 1)\n",
    "\n",
    "fig.set_size_inches((10, 8))"
   ]
  },
  {
   "cell_type": "markdown",
   "id": "136ada1d-1c7b-4903-bc0f-8a028bb5e011",
   "metadata": {},
   "source": [
    "Here we see all 3 networks.  The full network (7 nuclei) is the solid lines.  The approximate version of that is the dotted line.  We see that they track reasonably well, especially when the abundance is high.  The dashed line is the version of the network that has the same 4 nuclei as the approximate network, but with out approximating the $(\\alpha, p)(p,\\gamma)$ links, so we see that the ${}^{24}\\mathrm{Mg}$ takes longer to burn."
   ]
  }
 ],
 "metadata": {
  "kernelspec": {
   "display_name": "Python 3 (ipykernel)",
   "language": "python",
   "name": "python3"
  },
  "language_info": {
   "codemirror_mode": {
    "name": "ipython",
    "version": 3
   },
   "file_extension": ".py",
   "mimetype": "text/x-python",
   "name": "python",
   "nbconvert_exporter": "python",
   "pygments_lexer": "ipython3",
   "version": "3.11.10"
  }
 },
 "nbformat": 4,
 "nbformat_minor": 5
}
