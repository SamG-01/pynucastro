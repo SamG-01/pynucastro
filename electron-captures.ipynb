{
 "cells": [
  {
   "cell_type": "markdown",
   "metadata": {},
   "source": [
    "# Combining ReacLib Rates with Electron Capture Tables"
   ]
  },
  {
   "cell_type": "markdown",
   "metadata": {},
   "source": [
    "Here's an example of using tabulated weak rates from <cite data-cite-t=\"suzuki:2016\">Suzuki et al. (2016)</cite> together with rates from the ReacLib database.\n",
    "\n",
    "We'll build a network suitable for e-capture supernovae."
   ]
  },
  {
   "cell_type": "code",
   "execution_count": 1,
   "metadata": {
    "execution": {
     "iopub.execute_input": "2024-10-10T09:53:24.353790Z",
     "iopub.status.busy": "2024-10-10T09:53:24.353336Z",
     "iopub.status.idle": "2024-10-10T09:53:24.912456Z",
     "shell.execute_reply": "2024-10-10T09:53:24.911836Z"
    }
   },
   "outputs": [
    {
     "ename": "ValueError",
     "evalue": "not enough values to unpack (expected 5, got 4)",
     "output_type": "error",
     "traceback": [
      "\u001b[0;31m---------------------------------------------------------------------------\u001b[0m",
      "\u001b[0;31mValueError\u001b[0m                                Traceback (most recent call last)",
      "Cell \u001b[0;32mIn[1], line 1\u001b[0m\n\u001b[0;32m----> 1\u001b[0m \u001b[38;5;28;01mimport\u001b[39;00m \u001b[38;5;21;01mpynucastro\u001b[39;00m \u001b[38;5;28;01mas\u001b[39;00m \u001b[38;5;21;01mpyna\u001b[39;00m\n",
      "File \u001b[0;32m/opt/hostedtoolcache/Python/3.11.10/x64/lib/python3.11/site-packages/pynucastro/__init__.py:131\u001b[0m\n\u001b[1;32m    126\u001b[0m \u001b[38;5;28;01mfrom\u001b[39;00m \u001b[38;5;21;01m.\u001b[39;00m\u001b[38;5;21;01m_version\u001b[39;00m \u001b[38;5;28;01mimport\u001b[39;00m version\n\u001b[1;32m    128\u001b[0m __version__ \u001b[38;5;241m=\u001b[39m version\n\u001b[0;32m--> 131\u001b[0m \u001b[38;5;28;01mimport\u001b[39;00m \u001b[38;5;21;01mpynucastro\u001b[39;00m\u001b[38;5;21;01m.\u001b[39;00m\u001b[38;5;21;01mscreening\u001b[39;00m\n\u001b[1;32m    132\u001b[0m \u001b[38;5;28;01mfrom\u001b[39;00m \u001b[38;5;21;01mpynucastro\u001b[39;00m\u001b[38;5;21;01m.\u001b[39;00m\u001b[38;5;21;01mnetworks\u001b[39;00m \u001b[38;5;28;01mimport\u001b[39;00m (AmrexAstroCxxNetwork, BaseCxxNetwork,\n\u001b[1;32m    133\u001b[0m                                  Composition, Explorer, NSENetwork,\n\u001b[1;32m    134\u001b[0m                                  NumpyNetwork, PythonNetwork, RateCollection,\n\u001b[1;32m    135\u001b[0m                                  SimpleCxxNetwork, StarKillerCxxNetwork,\n\u001b[1;32m    136\u001b[0m                                  SympyRates)\n\u001b[1;32m    137\u001b[0m \u001b[38;5;28;01mfrom\u001b[39;00m \u001b[38;5;21;01mpynucastro\u001b[39;00m\u001b[38;5;21;01m.\u001b[39;00m\u001b[38;5;21;01mnucdata\u001b[39;00m \u001b[38;5;28;01mimport\u001b[39;00m Nucleus, get_all_nuclei, get_nuclei_in_range\n",
      "File \u001b[0;32m/opt/hostedtoolcache/Python/3.11.10/x64/lib/python3.11/site-packages/pynucastro/screening/__init__.py:5\u001b[0m\n\u001b[1;32m      1\u001b[0m \u001b[38;5;124;03m\"\"\"Screening routines\"\"\"\u001b[39;00m\n\u001b[1;32m      3\u001b[0m __all__ \u001b[38;5;241m=\u001b[39m [\u001b[38;5;124m\"\u001b[39m\u001b[38;5;124mscreen\u001b[39m\u001b[38;5;124m\"\u001b[39m, \u001b[38;5;124m\"\u001b[39m\u001b[38;5;124mscreening_util\u001b[39m\u001b[38;5;124m\"\u001b[39m]\n\u001b[0;32m----> 5\u001b[0m \u001b[38;5;28;01mfrom\u001b[39;00m \u001b[38;5;21;01m.\u001b[39;00m\u001b[38;5;21;01mscreen\u001b[39;00m \u001b[38;5;28;01mimport\u001b[39;00m (NseState, PlasmaState, ScreenFactors, chugunov_2007,\n\u001b[1;32m      6\u001b[0m                      chugunov_2009, make_plasma_state, make_screen_factors,\n\u001b[1;32m      7\u001b[0m                      potekhin_1998, screen5)\n\u001b[1;32m      8\u001b[0m \u001b[38;5;28;01mfrom\u001b[39;00m \u001b[38;5;21;01m.\u001b[39;00m\u001b[38;5;21;01mscreening_util\u001b[39;00m \u001b[38;5;28;01mimport\u001b[39;00m ScreeningPair, get_screening_map\n",
      "File \u001b[0;32m/opt/hostedtoolcache/Python/3.11.10/x64/lib/python3.11/site-packages/pynucastro/screening/screen.py:7\u001b[0m\n\u001b[1;32m      4\u001b[0m \u001b[38;5;28;01mimport\u001b[39;00m \u001b[38;5;21;01mnumpy\u001b[39;00m \u001b[38;5;28;01mas\u001b[39;00m \u001b[38;5;21;01mnp\u001b[39;00m\n\u001b[1;32m      6\u001b[0m \u001b[38;5;28;01mfrom\u001b[39;00m \u001b[38;5;21;01mpynucastro\u001b[39;00m\u001b[38;5;21;01m.\u001b[39;00m\u001b[38;5;21;01mconstants\u001b[39;00m \u001b[38;5;28;01mimport\u001b[39;00m constants\n\u001b[0;32m----> 7\u001b[0m \u001b[38;5;28;01mfrom\u001b[39;00m \u001b[38;5;21;01mpynucastro\u001b[39;00m\u001b[38;5;21;01m.\u001b[39;00m\u001b[38;5;21;01mnucdata\u001b[39;00m \u001b[38;5;28;01mimport\u001b[39;00m Nucleus\n\u001b[1;32m      8\u001b[0m \u001b[38;5;66;03m# use the jitclass placeholder from rate.py\u001b[39;00m\n\u001b[1;32m      9\u001b[0m \u001b[38;5;28;01mfrom\u001b[39;00m \u001b[38;5;21;01mpynucastro\u001b[39;00m\u001b[38;5;21;01m.\u001b[39;00m\u001b[38;5;21;01mrates\u001b[39;00m\u001b[38;5;21;01m.\u001b[39;00m\u001b[38;5;21;01mrate\u001b[39;00m \u001b[38;5;28;01mimport\u001b[39;00m jitclass, numba\n",
      "File \u001b[0;32m/opt/hostedtoolcache/Python/3.11.10/x64/lib/python3.11/site-packages/pynucastro/nucdata/__init__.py:10\u001b[0m\n\u001b[1;32m      8\u001b[0m \u001b[38;5;28;01mfrom\u001b[39;00m \u001b[38;5;21;01m.\u001b[39;00m\u001b[38;5;21;01melements\u001b[39;00m \u001b[38;5;28;01mimport\u001b[39;00m Element, PeriodicTable, UnidentifiedElement\n\u001b[1;32m      9\u001b[0m \u001b[38;5;28;01mfrom\u001b[39;00m \u001b[38;5;21;01m.\u001b[39;00m\u001b[38;5;21;01mmass_table\u001b[39;00m \u001b[38;5;28;01mimport\u001b[39;00m MassTable\n\u001b[0;32m---> 10\u001b[0m \u001b[38;5;28;01mfrom\u001b[39;00m \u001b[38;5;21;01m.\u001b[39;00m\u001b[38;5;21;01mnucleus\u001b[39;00m \u001b[38;5;28;01mimport\u001b[39;00m (Nucleus, UnsupportedNucleus, get_all_nuclei,\n\u001b[1;32m     11\u001b[0m                       get_nuclei_in_range)\n\u001b[1;32m     12\u001b[0m \u001b[38;5;28;01mfrom\u001b[39;00m \u001b[38;5;21;01m.\u001b[39;00m\u001b[38;5;21;01mpartition_function\u001b[39;00m \u001b[38;5;28;01mimport\u001b[39;00m (PartitionFunction,\n\u001b[1;32m     13\u001b[0m                                  PartitionFunctionCollection,\n\u001b[1;32m     14\u001b[0m                                  PartitionFunctionTable)\n\u001b[1;32m     15\u001b[0m \u001b[38;5;28;01mfrom\u001b[39;00m \u001b[38;5;21;01m.\u001b[39;00m\u001b[38;5;21;01mspin_table\u001b[39;00m \u001b[38;5;28;01mimport\u001b[39;00m SpinTable\n",
      "File \u001b[0;32m/opt/hostedtoolcache/Python/3.11.10/x64/lib/python3.11/site-packages/pynucastro/nucdata/nucleus.py:22\u001b[0m\n\u001b[1;32m     20\u001b[0m _mass_table \u001b[38;5;241m=\u001b[39m MassTable()\n\u001b[1;32m     21\u001b[0m _halflife_table \u001b[38;5;241m=\u001b[39m HalfLifeTable()\n\u001b[0;32m---> 22\u001b[0m _spin_table \u001b[38;5;241m=\u001b[39m \u001b[43mSpinTable\u001b[49m\u001b[43m(\u001b[49m\u001b[43mreliable\u001b[49m\u001b[38;5;241;43m=\u001b[39;49m\u001b[38;5;28;43;01mTrue\u001b[39;49;00m\u001b[43m)\u001b[49m\n\u001b[1;32m     24\u001b[0m \u001b[38;5;66;03m# read the partition function table once and store it at the module-level\u001b[39;00m\n\u001b[1;32m     25\u001b[0m _pcollection \u001b[38;5;241m=\u001b[39m PartitionFunctionCollection(use_high_temperatures\u001b[38;5;241m=\u001b[39m\u001b[38;5;28;01mTrue\u001b[39;00m, use_set\u001b[38;5;241m=\u001b[39m\u001b[38;5;124m'\u001b[39m\u001b[38;5;124mfrdm\u001b[39m\u001b[38;5;124m'\u001b[39m)\n",
      "File \u001b[0;32m/opt/hostedtoolcache/Python/3.11.10/x64/lib/python3.11/site-packages/pynucastro/nucdata/spin_table.py:27\u001b[0m, in \u001b[0;36mSpinTable.__init__\u001b[0;34m(self, datafile, reliable)\u001b[0m\n\u001b[1;32m     24\u001b[0m     datafile_name \u001b[38;5;241m=\u001b[39m \u001b[38;5;124m'\u001b[39m\u001b[38;5;124mnubase2020_1.txt\u001b[39m\u001b[38;5;124m'\u001b[39m\n\u001b[1;32m     25\u001b[0m     \u001b[38;5;28mself\u001b[39m\u001b[38;5;241m.\u001b[39mdatafile \u001b[38;5;241m=\u001b[39m nucdata_dir\u001b[38;5;241m/\u001b[39m\u001b[38;5;124m'\u001b[39m\u001b[38;5;124mAtomicMassEvaluation\u001b[39m\u001b[38;5;124m'\u001b[39m\u001b[38;5;241m/\u001b[39mdatafile_name\n\u001b[0;32m---> 27\u001b[0m \u001b[38;5;28;43mself\u001b[39;49m\u001b[38;5;241;43m.\u001b[39;49m\u001b[43m_read_table\u001b[49m\u001b[43m(\u001b[49m\u001b[43m)\u001b[49m\n",
      "File \u001b[0;32m/opt/hostedtoolcache/Python/3.11.10/x64/lib/python3.11/site-packages/pynucastro/nucdata/spin_table.py:35\u001b[0m, in \u001b[0;36mSpinTable._read_table\u001b[0;34m(self)\u001b[0m\n\u001b[1;32m     31\u001b[0m \u001b[38;5;28;01mwith\u001b[39;00m \u001b[38;5;28mself\u001b[39m\u001b[38;5;241m.\u001b[39mdatafile\u001b[38;5;241m.\u001b[39mopen(\u001b[38;5;124m\"\u001b[39m\u001b[38;5;124mr\u001b[39m\u001b[38;5;124m\"\u001b[39m) \u001b[38;5;28;01mas\u001b[39;00m f:\n\u001b[1;32m     33\u001b[0m     \u001b[38;5;28;01mfor\u001b[39;00m line \u001b[38;5;129;01min\u001b[39;00m f\u001b[38;5;241m.\u001b[39mreadlines()[\u001b[38;5;241m4\u001b[39m:]:\n\u001b[0;32m---> 35\u001b[0m         A, Z, _, spin_states, experimental \u001b[38;5;241m=\u001b[39m line\u001b[38;5;241m.\u001b[39mstrip()\u001b[38;5;241m.\u001b[39msplit()[:\u001b[38;5;241m4\u001b[39m]\n\u001b[1;32m     36\u001b[0m         A, Z, spin_states \u001b[38;5;241m=\u001b[39m \u001b[38;5;28mint\u001b[39m(A), \u001b[38;5;28mint\u001b[39m(Z), \u001b[38;5;28mint\u001b[39m(spin_states)\n\u001b[1;32m     38\u001b[0m         \u001b[38;5;28;01mif\u001b[39;00m \u001b[38;5;28mself\u001b[39m\u001b[38;5;241m.\u001b[39mreliable:\n",
      "\u001b[0;31mValueError\u001b[0m: not enough values to unpack (expected 5, got 4)"
     ]
    }
   ],
   "source": [
    "import pynucastro as pyna"
   ]
  },
  {
   "cell_type": "markdown",
   "metadata": {},
   "source": [
    "First create a library from ReacLib using a set of nuclei."
   ]
  },
  {
   "cell_type": "code",
   "execution_count": 2,
   "metadata": {
    "execution": {
     "iopub.execute_input": "2024-10-10T09:53:24.914201Z",
     "iopub.status.busy": "2024-10-10T09:53:24.914039Z",
     "iopub.status.idle": "2024-10-10T09:53:24.926809Z",
     "shell.execute_reply": "2024-10-10T09:53:24.926328Z"
    }
   },
   "outputs": [
    {
     "ename": "NameError",
     "evalue": "name 'pyna' is not defined",
     "output_type": "error",
     "traceback": [
      "\u001b[0;31m---------------------------------------------------------------------------\u001b[0m",
      "\u001b[0;31mNameError\u001b[0m                                 Traceback (most recent call last)",
      "Cell \u001b[0;32mIn[2], line 1\u001b[0m\n\u001b[0;32m----> 1\u001b[0m reaclib_library \u001b[38;5;241m=\u001b[39m \u001b[43mpyna\u001b[49m\u001b[38;5;241m.\u001b[39mReacLibLibrary()\n\u001b[1;32m      3\u001b[0m all_nuclei \u001b[38;5;241m=\u001b[39m [\u001b[38;5;124m\"\u001b[39m\u001b[38;5;124mp\u001b[39m\u001b[38;5;124m\"\u001b[39m, \u001b[38;5;124m\"\u001b[39m\u001b[38;5;124mhe4\u001b[39m\u001b[38;5;124m\"\u001b[39m,\n\u001b[1;32m      4\u001b[0m               \u001b[38;5;124m\"\u001b[39m\u001b[38;5;124mne20\u001b[39m\u001b[38;5;124m\"\u001b[39m, \u001b[38;5;124m\"\u001b[39m\u001b[38;5;124mo20\u001b[39m\u001b[38;5;124m\"\u001b[39m, \u001b[38;5;124m\"\u001b[39m\u001b[38;5;124mf20\u001b[39m\u001b[38;5;124m\"\u001b[39m,\n\u001b[1;32m      5\u001b[0m               \u001b[38;5;124m\"\u001b[39m\u001b[38;5;124mmg24\u001b[39m\u001b[38;5;124m\"\u001b[39m, \u001b[38;5;124m\"\u001b[39m\u001b[38;5;124mal27\u001b[39m\u001b[38;5;124m\"\u001b[39m, \u001b[38;5;124m\"\u001b[39m\u001b[38;5;124mo16\u001b[39m\u001b[38;5;124m\"\u001b[39m,\n\u001b[1;32m      6\u001b[0m               \u001b[38;5;124m\"\u001b[39m\u001b[38;5;124msi28\u001b[39m\u001b[38;5;124m\"\u001b[39m, \u001b[38;5;124m\"\u001b[39m\u001b[38;5;124ms32\u001b[39m\u001b[38;5;124m\"\u001b[39m, \u001b[38;5;124m\"\u001b[39m\u001b[38;5;124mp31\u001b[39m\u001b[38;5;124m\"\u001b[39m]\n\u001b[1;32m      7\u001b[0m ecsn_library \u001b[38;5;241m=\u001b[39m reaclib_library\u001b[38;5;241m.\u001b[39mlinking_nuclei(all_nuclei,with_reverse\u001b[38;5;241m=\u001b[39m\u001b[38;5;28;01mTrue\u001b[39;00m)\n",
      "\u001b[0;31mNameError\u001b[0m: name 'pyna' is not defined"
     ]
    }
   ],
   "source": [
    "reaclib_library = pyna.ReacLibLibrary()\n",
    "\n",
    "all_nuclei = [\"p\", \"he4\",\n",
    "              \"ne20\", \"o20\", \"f20\",\n",
    "              \"mg24\", \"al27\", \"o16\",\n",
    "              \"si28\", \"s32\", \"p31\"]\n",
    "ecsn_library = reaclib_library.linking_nuclei(all_nuclei,with_reverse=True)"
   ]
  },
  {
   "cell_type": "markdown",
   "metadata": {},
   "source": [
    "Here are the rates it chose"
   ]
  },
  {
   "cell_type": "code",
   "execution_count": 3,
   "metadata": {
    "execution": {
     "iopub.execute_input": "2024-10-10T09:53:24.928412Z",
     "iopub.status.busy": "2024-10-10T09:53:24.928240Z",
     "iopub.status.idle": "2024-10-10T09:53:24.938656Z",
     "shell.execute_reply": "2024-10-10T09:53:24.938082Z"
    }
   },
   "outputs": [
    {
     "ename": "NameError",
     "evalue": "name 'ecsn_library' is not defined",
     "output_type": "error",
     "traceback": [
      "\u001b[0;31m---------------------------------------------------------------------------\u001b[0m",
      "\u001b[0;31mNameError\u001b[0m                                 Traceback (most recent call last)",
      "Cell \u001b[0;32mIn[3], line 1\u001b[0m\n\u001b[0;32m----> 1\u001b[0m \u001b[38;5;28mprint\u001b[39m(\u001b[43mecsn_library\u001b[49m)\n",
      "\u001b[0;31mNameError\u001b[0m: name 'ecsn_library' is not defined"
     ]
    }
   ],
   "source": [
    "print(ecsn_library)"
   ]
  },
  {
   "cell_type": "markdown",
   "metadata": {},
   "source": [
    "Now let's specify the weak rates we want from <cite data-cite-t=\"suzuki:2016\">Suzuki et al.</cite> -- these tables are included with pynucastro:"
   ]
  },
  {
   "cell_type": "code",
   "execution_count": 4,
   "metadata": {
    "execution": {
     "iopub.execute_input": "2024-10-10T09:53:24.940349Z",
     "iopub.status.busy": "2024-10-10T09:53:24.940060Z",
     "iopub.status.idle": "2024-10-10T09:53:24.951039Z",
     "shell.execute_reply": "2024-10-10T09:53:24.950567Z"
    }
   },
   "outputs": [
    {
     "ename": "NameError",
     "evalue": "name 'pyna' is not defined",
     "output_type": "error",
     "traceback": [
      "\u001b[0;31m---------------------------------------------------------------------------\u001b[0m",
      "\u001b[0;31mNameError\u001b[0m                                 Traceback (most recent call last)",
      "Cell \u001b[0;32mIn[4], line 1\u001b[0m\n\u001b[0;32m----> 1\u001b[0m tabular_lib \u001b[38;5;241m=\u001b[39m \u001b[43mpyna\u001b[49m\u001b[38;5;241m.\u001b[39mTabularLibrary()\n",
      "\u001b[0;31mNameError\u001b[0m: name 'pyna' is not defined"
     ]
    }
   ],
   "source": [
    "tabular_lib = pyna.TabularLibrary()"
   ]
  },
  {
   "cell_type": "code",
   "execution_count": 5,
   "metadata": {
    "execution": {
     "iopub.execute_input": "2024-10-10T09:53:24.952903Z",
     "iopub.status.busy": "2024-10-10T09:53:24.952548Z",
     "iopub.status.idle": "2024-10-10T09:53:24.964481Z",
     "shell.execute_reply": "2024-10-10T09:53:24.963996Z"
    }
   },
   "outputs": [
    {
     "ename": "NameError",
     "evalue": "name 'tabular_lib' is not defined",
     "output_type": "error",
     "traceback": [
      "\u001b[0;31m---------------------------------------------------------------------------\u001b[0m",
      "\u001b[0;31mNameError\u001b[0m                                 Traceback (most recent call last)",
      "Cell \u001b[0;32mIn[5], line 1\u001b[0m\n\u001b[0;32m----> 1\u001b[0m ecsn_tabular \u001b[38;5;241m=\u001b[39m \u001b[43mtabular_lib\u001b[49m\u001b[38;5;241m.\u001b[39mlinking_nuclei([\u001b[38;5;124m\"\u001b[39m\u001b[38;5;124mf20\u001b[39m\u001b[38;5;124m\"\u001b[39m, \u001b[38;5;124m\"\u001b[39m\u001b[38;5;124mo20\u001b[39m\u001b[38;5;124m\"\u001b[39m, \u001b[38;5;124m\"\u001b[39m\u001b[38;5;124mne20\u001b[39m\u001b[38;5;124m\"\u001b[39m])\n",
      "\u001b[0;31mNameError\u001b[0m: name 'tabular_lib' is not defined"
     ]
    }
   ],
   "source": [
    "ecsn_tabular = tabular_lib.linking_nuclei([\"f20\", \"o20\", \"ne20\"])"
   ]
  },
  {
   "cell_type": "markdown",
   "metadata": {},
   "source": [
    "Let's look at the rates"
   ]
  },
  {
   "cell_type": "code",
   "execution_count": 6,
   "metadata": {
    "execution": {
     "iopub.execute_input": "2024-10-10T09:53:24.966279Z",
     "iopub.status.busy": "2024-10-10T09:53:24.966001Z",
     "iopub.status.idle": "2024-10-10T09:53:24.977514Z",
     "shell.execute_reply": "2024-10-10T09:53:24.977057Z"
    }
   },
   "outputs": [
    {
     "ename": "NameError",
     "evalue": "name 'ecsn_tabular' is not defined",
     "output_type": "error",
     "traceback": [
      "\u001b[0;31m---------------------------------------------------------------------------\u001b[0m",
      "\u001b[0;31mNameError\u001b[0m                                 Traceback (most recent call last)",
      "Cell \u001b[0;32mIn[6], line 1\u001b[0m\n\u001b[0;32m----> 1\u001b[0m tr \u001b[38;5;241m=\u001b[39m \u001b[43mecsn_tabular\u001b[49m\u001b[38;5;241m.\u001b[39mget_rates()\n\u001b[1;32m      2\u001b[0m tr\n",
      "\u001b[0;31mNameError\u001b[0m: name 'ecsn_tabular' is not defined"
     ]
    }
   ],
   "source": [
    "tr = ecsn_tabular.get_rates()\n",
    "tr"
   ]
  },
  {
   "cell_type": "markdown",
   "metadata": {},
   "source": [
    "These tables are in terms of $T$ and $\\rho Y_e$.  We can easily plot the tabulated electron capture rates just like ReacLib rates:"
   ]
  },
  {
   "cell_type": "code",
   "execution_count": 7,
   "metadata": {
    "execution": {
     "iopub.execute_input": "2024-10-10T09:53:24.979261Z",
     "iopub.status.busy": "2024-10-10T09:53:24.978977Z",
     "iopub.status.idle": "2024-10-10T09:53:24.990395Z",
     "shell.execute_reply": "2024-10-10T09:53:24.989825Z"
    }
   },
   "outputs": [
    {
     "ename": "NameError",
     "evalue": "name 'tr' is not defined",
     "output_type": "error",
     "traceback": [
      "\u001b[0;31m---------------------------------------------------------------------------\u001b[0m",
      "\u001b[0;31mNameError\u001b[0m                                 Traceback (most recent call last)",
      "Cell \u001b[0;32mIn[7], line 1\u001b[0m\n\u001b[0;32m----> 1\u001b[0m fig \u001b[38;5;241m=\u001b[39m \u001b[43mtr\u001b[49m[\u001b[38;5;241m0\u001b[39m]\u001b[38;5;241m.\u001b[39mplot(rhoYmin\u001b[38;5;241m=\u001b[39m\u001b[38;5;241m4.e8\u001b[39m, rhoYmax\u001b[38;5;241m=\u001b[39m\u001b[38;5;241m2.e9\u001b[39m, Tmin\u001b[38;5;241m=\u001b[39m\u001b[38;5;241m1.e8\u001b[39m, Tmax\u001b[38;5;241m=\u001b[39m\u001b[38;5;241m2.e9\u001b[39m,\n\u001b[1;32m      2\u001b[0m                  figsize\u001b[38;5;241m=\u001b[39m(\u001b[38;5;241m8\u001b[39m, \u001b[38;5;241m4\u001b[39m))\n",
      "\u001b[0;31mNameError\u001b[0m: name 'tr' is not defined"
     ]
    }
   ],
   "source": [
    "fig = tr[0].plot(rhoYmin=4.e8, rhoYmax=2.e9, Tmin=1.e8, Tmax=2.e9,\n",
    "                 figsize=(8, 4))"
   ]
  },
  {
   "cell_type": "markdown",
   "metadata": {},
   "source": [
    "Let's create a rate collection from just the ReacLib rates and look to see which are actually important"
   ]
  },
  {
   "cell_type": "code",
   "execution_count": 8,
   "metadata": {
    "execution": {
     "iopub.execute_input": "2024-10-10T09:53:24.992279Z",
     "iopub.status.busy": "2024-10-10T09:53:24.991938Z",
     "iopub.status.idle": "2024-10-10T09:53:25.003611Z",
     "shell.execute_reply": "2024-10-10T09:53:25.003138Z"
    }
   },
   "outputs": [
    {
     "ename": "NameError",
     "evalue": "name 'pyna' is not defined",
     "output_type": "error",
     "traceback": [
      "\u001b[0;31m---------------------------------------------------------------------------\u001b[0m",
      "\u001b[0;31mNameError\u001b[0m                                 Traceback (most recent call last)",
      "Cell \u001b[0;32mIn[8], line 1\u001b[0m\n\u001b[0;32m----> 1\u001b[0m rc \u001b[38;5;241m=\u001b[39m \u001b[43mpyna\u001b[49m\u001b[38;5;241m.\u001b[39mRateCollection(libraries\u001b[38;5;241m=\u001b[39m[ecsn_library])\n",
      "\u001b[0;31mNameError\u001b[0m: name 'pyna' is not defined"
     ]
    }
   ],
   "source": [
    "rc = pyna.RateCollection(libraries=[ecsn_library])"
   ]
  },
  {
   "cell_type": "markdown",
   "metadata": {},
   "source": [
    "Here we'll pick thermodynamic conditions appropriate to the oxygen burning shell in a white dwarf"
   ]
  },
  {
   "cell_type": "code",
   "execution_count": 9,
   "metadata": {
    "execution": {
     "iopub.execute_input": "2024-10-10T09:53:25.005436Z",
     "iopub.status.busy": "2024-10-10T09:53:25.005146Z",
     "iopub.status.idle": "2024-10-10T09:53:25.019762Z",
     "shell.execute_reply": "2024-10-10T09:53:25.019185Z"
    }
   },
   "outputs": [
    {
     "ename": "NameError",
     "evalue": "name 'pyna' is not defined",
     "output_type": "error",
     "traceback": [
      "\u001b[0;31m---------------------------------------------------------------------------\u001b[0m",
      "\u001b[0;31mNameError\u001b[0m                                 Traceback (most recent call last)",
      "Cell \u001b[0;32mIn[9], line 1\u001b[0m\n\u001b[0;32m----> 1\u001b[0m comp \u001b[38;5;241m=\u001b[39m \u001b[43mpyna\u001b[49m\u001b[38;5;241m.\u001b[39mComposition(rc\u001b[38;5;241m.\u001b[39mget_nuclei())\n\u001b[1;32m      2\u001b[0m comp\u001b[38;5;241m.\u001b[39mset_nuc(\u001b[38;5;124m\"\u001b[39m\u001b[38;5;124mo16\u001b[39m\u001b[38;5;124m\"\u001b[39m, \u001b[38;5;241m0.5\u001b[39m)\n\u001b[1;32m      3\u001b[0m comp\u001b[38;5;241m.\u001b[39mset_nuc(\u001b[38;5;124m\"\u001b[39m\u001b[38;5;124mne20\u001b[39m\u001b[38;5;124m\"\u001b[39m, \u001b[38;5;241m0.3\u001b[39m)\n",
      "\u001b[0;31mNameError\u001b[0m: name 'pyna' is not defined"
     ]
    }
   ],
   "source": [
    "comp = pyna.Composition(rc.get_nuclei())\n",
    "comp.set_nuc(\"o16\", 0.5)\n",
    "comp.set_nuc(\"ne20\", 0.3)\n",
    "comp.set_nuc(\"mg24\", 0.1)\n",
    "comp.set_nuc(\"o20\", 1.e-5)\n",
    "comp.set_nuc(\"f20\", 1.e-5)\n",
    "comp.set_nuc(\"p\", 1.e-5)\n",
    "comp.set_nuc(\"he4\", 1.e-2)\n",
    "comp.set_nuc(\"al27\", 1.e-2)\n",
    "comp.set_nuc(\"si28\", 1.e-2)\n",
    "comp.set_nuc(\"s32\", 1.e-2)\n",
    "comp.set_nuc(\"p31\", 1.e-2)\n",
    "comp.normalize()"
   ]
  },
  {
   "cell_type": "code",
   "execution_count": 10,
   "metadata": {
    "execution": {
     "iopub.execute_input": "2024-10-10T09:53:25.021672Z",
     "iopub.status.busy": "2024-10-10T09:53:25.021260Z",
     "iopub.status.idle": "2024-10-10T09:53:25.033085Z",
     "shell.execute_reply": "2024-10-10T09:53:25.032530Z"
    }
   },
   "outputs": [
    {
     "ename": "NameError",
     "evalue": "name 'rc' is not defined",
     "output_type": "error",
     "traceback": [
      "\u001b[0;31m---------------------------------------------------------------------------\u001b[0m",
      "\u001b[0;31mNameError\u001b[0m                                 Traceback (most recent call last)",
      "Cell \u001b[0;32mIn[10], line 1\u001b[0m\n\u001b[0;32m----> 1\u001b[0m fig \u001b[38;5;241m=\u001b[39m \u001b[43mrc\u001b[49m\u001b[38;5;241m.\u001b[39mplot(rho\u001b[38;5;241m=\u001b[39m\u001b[38;5;241m7.e9\u001b[39m, T\u001b[38;5;241m=\u001b[39m\u001b[38;5;241m1.e9\u001b[39m, comp\u001b[38;5;241m=\u001b[39mcomp, ydot_cutoff_value\u001b[38;5;241m=\u001b[39m\u001b[38;5;241m1.e-20\u001b[39m)\n",
      "\u001b[0;31mNameError\u001b[0m: name 'rc' is not defined"
     ]
    }
   ],
   "source": [
    "fig = rc.plot(rho=7.e9, T=1.e9, comp=comp, ydot_cutoff_value=1.e-20)"
   ]
  },
  {
   "cell_type": "markdown",
   "metadata": {},
   "source": [
    "Note, this rate collection already includes some weak rates from ReacLib -- we want to remove those.\n",
    "\n",
    "We'll also take the opportunity to remove any rates that are not important, by looking for a $|\\dot{Y}| > 10^{-20}~s^{-1}$."
   ]
  },
  {
   "cell_type": "code",
   "execution_count": 11,
   "metadata": {
    "execution": {
     "iopub.execute_input": "2024-10-10T09:53:25.034784Z",
     "iopub.status.busy": "2024-10-10T09:53:25.034476Z",
     "iopub.status.idle": "2024-10-10T09:53:25.046221Z",
     "shell.execute_reply": "2024-10-10T09:53:25.045754Z"
    }
   },
   "outputs": [
    {
     "ename": "NameError",
     "evalue": "name 'rc' is not defined",
     "output_type": "error",
     "traceback": [
      "\u001b[0;31m---------------------------------------------------------------------------\u001b[0m",
      "\u001b[0;31mNameError\u001b[0m                                 Traceback (most recent call last)",
      "Cell \u001b[0;32mIn[11], line 2\u001b[0m\n\u001b[1;32m      1\u001b[0m new_rate_list \u001b[38;5;241m=\u001b[39m []\n\u001b[0;32m----> 2\u001b[0m ydots \u001b[38;5;241m=\u001b[39m \u001b[43mrc\u001b[49m\u001b[38;5;241m.\u001b[39mevaluate_rates(rho\u001b[38;5;241m=\u001b[39m\u001b[38;5;241m7.e9\u001b[39m, T\u001b[38;5;241m=\u001b[39m\u001b[38;5;241m1.e9\u001b[39m, composition\u001b[38;5;241m=\u001b[39mcomp)\n\u001b[1;32m      3\u001b[0m \u001b[38;5;28;01mfor\u001b[39;00m rate \u001b[38;5;129;01min\u001b[39;00m rc\u001b[38;5;241m.\u001b[39mrates:\n\u001b[1;32m      4\u001b[0m     \u001b[38;5;28;01mif\u001b[39;00m \u001b[38;5;28mabs\u001b[39m(ydots[rate]) \u001b[38;5;241m>\u001b[39m\u001b[38;5;241m=\u001b[39m \u001b[38;5;241m1.e-20\u001b[39m \u001b[38;5;129;01mand\u001b[39;00m \u001b[38;5;129;01mnot\u001b[39;00m rate\u001b[38;5;241m.\u001b[39mweak:\n",
      "\u001b[0;31mNameError\u001b[0m: name 'rc' is not defined"
     ]
    }
   ],
   "source": [
    "new_rate_list = []\n",
    "ydots = rc.evaluate_rates(rho=7.e9, T=1.e9, composition=comp)\n",
    "for rate in rc.rates:\n",
    "    if abs(ydots[rate]) >= 1.e-20 and not rate.weak:\n",
    "        new_rate_list.append(rate)        "
   ]
  },
  {
   "cell_type": "markdown",
   "metadata": {},
   "source": [
    "Now let's add the tabular rates to this pruned down rate list"
   ]
  },
  {
   "cell_type": "code",
   "execution_count": 12,
   "metadata": {
    "execution": {
     "iopub.execute_input": "2024-10-10T09:53:25.047952Z",
     "iopub.status.busy": "2024-10-10T09:53:25.047606Z",
     "iopub.status.idle": "2024-10-10T09:53:25.057774Z",
     "shell.execute_reply": "2024-10-10T09:53:25.057341Z"
    }
   },
   "outputs": [
    {
     "ename": "NameError",
     "evalue": "name 'tr' is not defined",
     "output_type": "error",
     "traceback": [
      "\u001b[0;31m---------------------------------------------------------------------------\u001b[0m",
      "\u001b[0;31mNameError\u001b[0m                                 Traceback (most recent call last)",
      "Cell \u001b[0;32mIn[12], line 1\u001b[0m\n\u001b[0;32m----> 1\u001b[0m new_rate_list \u001b[38;5;241m+\u001b[39m\u001b[38;5;241m=\u001b[39m \u001b[43mtr\u001b[49m\n",
      "\u001b[0;31mNameError\u001b[0m: name 'tr' is not defined"
     ]
    }
   ],
   "source": [
    "new_rate_list += tr"
   ]
  },
  {
   "cell_type": "markdown",
   "metadata": {},
   "source": [
    "Finally, we'll create a new rate collection by combining this new list of rates with the list of tables:"
   ]
  },
  {
   "cell_type": "code",
   "execution_count": 13,
   "metadata": {
    "execution": {
     "iopub.execute_input": "2024-10-10T09:53:25.059313Z",
     "iopub.status.busy": "2024-10-10T09:53:25.059153Z",
     "iopub.status.idle": "2024-10-10T09:53:25.069465Z",
     "shell.execute_reply": "2024-10-10T09:53:25.069000Z"
    }
   },
   "outputs": [
    {
     "ename": "NameError",
     "evalue": "name 'pyna' is not defined",
     "output_type": "error",
     "traceback": [
      "\u001b[0;31m---------------------------------------------------------------------------\u001b[0m",
      "\u001b[0;31mNameError\u001b[0m                                 Traceback (most recent call last)",
      "Cell \u001b[0;32mIn[13], line 1\u001b[0m\n\u001b[0;32m----> 1\u001b[0m rc_new \u001b[38;5;241m=\u001b[39m \u001b[43mpyna\u001b[49m\u001b[38;5;241m.\u001b[39mRateCollection(rates\u001b[38;5;241m=\u001b[39mnew_rate_list)\n",
      "\u001b[0;31mNameError\u001b[0m: name 'pyna' is not defined"
     ]
    }
   ],
   "source": [
    "rc_new = pyna.RateCollection(rates=new_rate_list)"
   ]
  },
  {
   "cell_type": "code",
   "execution_count": 14,
   "metadata": {
    "execution": {
     "iopub.execute_input": "2024-10-10T09:53:25.071015Z",
     "iopub.status.busy": "2024-10-10T09:53:25.070851Z",
     "iopub.status.idle": "2024-10-10T09:53:25.081967Z",
     "shell.execute_reply": "2024-10-10T09:53:25.081407Z"
    }
   },
   "outputs": [
    {
     "ename": "NameError",
     "evalue": "name 'rc_new' is not defined",
     "output_type": "error",
     "traceback": [
      "\u001b[0;31m---------------------------------------------------------------------------\u001b[0m",
      "\u001b[0;31mNameError\u001b[0m                                 Traceback (most recent call last)",
      "Cell \u001b[0;32mIn[14], line 1\u001b[0m\n\u001b[0;32m----> 1\u001b[0m fig \u001b[38;5;241m=\u001b[39m \u001b[43mrc_new\u001b[49m\u001b[38;5;241m.\u001b[39mplot(rho\u001b[38;5;241m=\u001b[39m\u001b[38;5;241m7.e9\u001b[39m, T\u001b[38;5;241m=\u001b[39m\u001b[38;5;241m1.e9\u001b[39m, comp\u001b[38;5;241m=\u001b[39mcomp, curved_edges\u001b[38;5;241m=\u001b[39m\u001b[38;5;28;01mTrue\u001b[39;00m, rotated\u001b[38;5;241m=\u001b[39m\u001b[38;5;28;01mTrue\u001b[39;00m)\n",
      "\u001b[0;31mNameError\u001b[0m: name 'rc_new' is not defined"
     ]
    }
   ],
   "source": [
    "fig = rc_new.plot(rho=7.e9, T=1.e9, comp=comp, curved_edges=True, rotated=True)"
   ]
  },
  {
   "cell_type": "markdown",
   "metadata": {},
   "source": [
    "We can see the values of the rates at our thermodynamic conditions easily:"
   ]
  },
  {
   "cell_type": "code",
   "execution_count": 15,
   "metadata": {
    "execution": {
     "iopub.execute_input": "2024-10-10T09:53:25.083625Z",
     "iopub.status.busy": "2024-10-10T09:53:25.083340Z",
     "iopub.status.idle": "2024-10-10T09:53:25.094020Z",
     "shell.execute_reply": "2024-10-10T09:53:25.093566Z"
    }
   },
   "outputs": [
    {
     "ename": "NameError",
     "evalue": "name 'rc_new' is not defined",
     "output_type": "error",
     "traceback": [
      "\u001b[0;31m---------------------------------------------------------------------------\u001b[0m",
      "\u001b[0;31mNameError\u001b[0m                                 Traceback (most recent call last)",
      "Cell \u001b[0;32mIn[15], line 1\u001b[0m\n\u001b[0;32m----> 1\u001b[0m \u001b[43mrc_new\u001b[49m\u001b[38;5;241m.\u001b[39mevaluate_rates(rho\u001b[38;5;241m=\u001b[39m\u001b[38;5;241m7.e9\u001b[39m, T\u001b[38;5;241m=\u001b[39m\u001b[38;5;241m1.e9\u001b[39m, composition\u001b[38;5;241m=\u001b[39mcomp)\n",
      "\u001b[0;31mNameError\u001b[0m: name 'rc_new' is not defined"
     ]
    }
   ],
   "source": [
    "rc_new.evaluate_rates(rho=7.e9, T=1.e9, composition=comp)"
   ]
  },
  {
   "cell_type": "markdown",
   "metadata": {},
   "source": [
    "Additionally, we can see the specific energy generation rate for these conditions"
   ]
  },
  {
   "cell_type": "code",
   "execution_count": 16,
   "metadata": {
    "execution": {
     "iopub.execute_input": "2024-10-10T09:53:25.095555Z",
     "iopub.status.busy": "2024-10-10T09:53:25.095394Z",
     "iopub.status.idle": "2024-10-10T09:53:25.107043Z",
     "shell.execute_reply": "2024-10-10T09:53:25.106485Z"
    }
   },
   "outputs": [
    {
     "ename": "NameError",
     "evalue": "name 'rc_new' is not defined",
     "output_type": "error",
     "traceback": [
      "\u001b[0;31m---------------------------------------------------------------------------\u001b[0m",
      "\u001b[0;31mNameError\u001b[0m                                 Traceback (most recent call last)",
      "Cell \u001b[0;32mIn[16], line 1\u001b[0m\n\u001b[0;32m----> 1\u001b[0m \u001b[43mrc_new\u001b[49m\u001b[38;5;241m.\u001b[39mevaluate_energy_generation(rho\u001b[38;5;241m=\u001b[39m\u001b[38;5;241m7.e9\u001b[39m, T\u001b[38;5;241m=\u001b[39m\u001b[38;5;241m1.e9\u001b[39m, composition\u001b[38;5;241m=\u001b[39mcomp)\n",
      "\u001b[0;31mNameError\u001b[0m: name 'rc_new' is not defined"
     ]
    }
   ],
   "source": [
    "rc_new.evaluate_energy_generation(rho=7.e9, T=1.e9, composition=comp)"
   ]
  }
 ],
 "metadata": {
  "kernelspec": {
   "display_name": "Python 3 (ipykernel)",
   "language": "python",
   "name": "python3"
  },
  "language_info": {
   "codemirror_mode": {
    "name": "ipython",
    "version": 3
   },
   "file_extension": ".py",
   "mimetype": "text/x-python",
   "name": "python",
   "nbconvert_exporter": "python",
   "pygments_lexer": "ipython3",
   "version": "3.11.10"
  }
 },
 "nbformat": 4,
 "nbformat_minor": 4
}
