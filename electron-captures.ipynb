{
 "cells": [
  {
   "cell_type": "markdown",
   "metadata": {},
   "source": [
    "# Combining ReacLib Rates with Electron Capture Tables"
   ]
  },
  {
   "cell_type": "markdown",
   "metadata": {},
   "source": [
    "Here's an example of using tabulated weak rates from <cite data-cite-t=\"suzuki:2016\">Suzuki et al. (2016)</cite> together with rates from the ReacLib database.\n",
    "\n",
    "We'll build a network suitable for e-capture supernovae."
   ]
  },
  {
   "cell_type": "code",
   "execution_count": 1,
   "metadata": {
    "execution": {
     "iopub.execute_input": "2024-10-19T09:35:00.172062Z",
     "iopub.status.busy": "2024-10-19T09:35:00.171898Z",
     "iopub.status.idle": "2024-10-19T09:35:01.657847Z",
     "shell.execute_reply": "2024-10-19T09:35:01.657269Z"
    }
   },
   "outputs": [
    {
     "ename": "KeyError",
     "evalue": "'6an9CYBT'",
     "output_type": "error",
     "traceback": [
      "\u001b[0;31m---------------------------------------------------------------------------\u001b[0m",
      "\u001b[0;31mKeyError\u001b[0m                                  Traceback (most recent call last)",
      "Cell \u001b[0;32mIn[1], line 1\u001b[0m\n\u001b[0;32m----> 1\u001b[0m \u001b[38;5;28;01mimport\u001b[39;00m \u001b[38;5;21;01mpynucastro\u001b[39;00m \u001b[38;5;28;01mas\u001b[39;00m \u001b[38;5;21;01mpyna\u001b[39;00m\n",
      "File \u001b[0;32m/opt/hostedtoolcache/Python/3.11.10/x64/lib/python3.11/site-packages/pynucastro/__init__.py:131\u001b[0m\n\u001b[1;32m    126\u001b[0m \u001b[38;5;28;01mfrom\u001b[39;00m \u001b[38;5;21;01m.\u001b[39;00m\u001b[38;5;21;01m_version\u001b[39;00m \u001b[38;5;28;01mimport\u001b[39;00m version\n\u001b[1;32m    128\u001b[0m __version__ \u001b[38;5;241m=\u001b[39m version\n\u001b[0;32m--> 131\u001b[0m \u001b[38;5;28;01mimport\u001b[39;00m \u001b[38;5;21;01mpynucastro\u001b[39;00m\u001b[38;5;21;01m.\u001b[39;00m\u001b[38;5;21;01mscreening\u001b[39;00m\n\u001b[1;32m    132\u001b[0m \u001b[38;5;28;01mfrom\u001b[39;00m \u001b[38;5;21;01mpynucastro\u001b[39;00m\u001b[38;5;21;01m.\u001b[39;00m\u001b[38;5;21;01mnetworks\u001b[39;00m \u001b[38;5;28;01mimport\u001b[39;00m (AmrexAstroCxxNetwork, BaseCxxNetwork,\n\u001b[1;32m    133\u001b[0m                                  Composition, Explorer, NSENetwork,\n\u001b[1;32m    134\u001b[0m                                  NumpyNetwork, PythonNetwork, RateCollection,\n\u001b[1;32m    135\u001b[0m                                  SimpleCxxNetwork, StarKillerCxxNetwork,\n\u001b[1;32m    136\u001b[0m                                  SympyRates)\n\u001b[1;32m    137\u001b[0m \u001b[38;5;28;01mfrom\u001b[39;00m \u001b[38;5;21;01mpynucastro\u001b[39;00m\u001b[38;5;21;01m.\u001b[39;00m\u001b[38;5;21;01mnucdata\u001b[39;00m \u001b[38;5;28;01mimport\u001b[39;00m Nucleus, get_all_nuclei, get_nuclei_in_range\n",
      "File \u001b[0;32m/opt/hostedtoolcache/Python/3.11.10/x64/lib/python3.11/site-packages/pynucastro/screening/__init__.py:5\u001b[0m\n\u001b[1;32m      1\u001b[0m \u001b[38;5;124;03m\"\"\"Screening routines\"\"\"\u001b[39;00m\n\u001b[1;32m      3\u001b[0m __all__ \u001b[38;5;241m=\u001b[39m [\u001b[38;5;124m\"\u001b[39m\u001b[38;5;124mscreen\u001b[39m\u001b[38;5;124m\"\u001b[39m, \u001b[38;5;124m\"\u001b[39m\u001b[38;5;124mscreening_util\u001b[39m\u001b[38;5;124m\"\u001b[39m]\n\u001b[0;32m----> 5\u001b[0m \u001b[38;5;28;01mfrom\u001b[39;00m \u001b[38;5;21;01m.\u001b[39;00m\u001b[38;5;21;01mscreen\u001b[39;00m \u001b[38;5;28;01mimport\u001b[39;00m (NseState, PlasmaState, ScreenFactors, chugunov_2007,\n\u001b[1;32m      6\u001b[0m                      chugunov_2009, make_plasma_state, make_screen_factors,\n\u001b[1;32m      7\u001b[0m                      potekhin_1998, screen5)\n\u001b[1;32m      8\u001b[0m \u001b[38;5;28;01mfrom\u001b[39;00m \u001b[38;5;21;01m.\u001b[39;00m\u001b[38;5;21;01mscreening_util\u001b[39;00m \u001b[38;5;28;01mimport\u001b[39;00m ScreeningPair, get_screening_map\n",
      "File \u001b[0;32m/opt/hostedtoolcache/Python/3.11.10/x64/lib/python3.11/site-packages/pynucastro/screening/screen.py:9\u001b[0m\n\u001b[1;32m      7\u001b[0m \u001b[38;5;28;01mfrom\u001b[39;00m \u001b[38;5;21;01mpynucastro\u001b[39;00m\u001b[38;5;21;01m.\u001b[39;00m\u001b[38;5;21;01mnucdata\u001b[39;00m \u001b[38;5;28;01mimport\u001b[39;00m Nucleus\n\u001b[1;32m      8\u001b[0m \u001b[38;5;66;03m# use the jitclass placeholder from rate.py\u001b[39;00m\n\u001b[0;32m----> 9\u001b[0m \u001b[38;5;28;01mfrom\u001b[39;00m \u001b[38;5;21;01mpynucastro\u001b[39;00m\u001b[38;5;21;01m.\u001b[39;00m\u001b[38;5;21;01mrates\u001b[39;00m\u001b[38;5;21;01m.\u001b[39;00m\u001b[38;5;21;01mrate\u001b[39;00m \u001b[38;5;28;01mimport\u001b[39;00m jitclass, numba\n\u001b[1;32m     11\u001b[0m \u001b[38;5;28;01mif\u001b[39;00m numba \u001b[38;5;129;01mis\u001b[39;00m \u001b[38;5;129;01mnot\u001b[39;00m \u001b[38;5;28;01mNone\u001b[39;00m:\n\u001b[1;32m     12\u001b[0m     njit \u001b[38;5;241m=\u001b[39m numba\u001b[38;5;241m.\u001b[39mnjit\n",
      "File \u001b[0;32m/opt/hostedtoolcache/Python/3.11.10/x64/lib/python3.11/site-packages/pynucastro/rates/__init__.py:5\u001b[0m\n\u001b[1;32m      1\u001b[0m \u001b[38;5;124;03m\"\"\"The core routines needed to read and interpret nuclear reaction rates\"\"\"\u001b[39;00m\n\u001b[1;32m      3\u001b[0m __all__ \u001b[38;5;241m=\u001b[39m [\u001b[38;5;124m\"\u001b[39m\u001b[38;5;124mapproximate_rates\u001b[39m\u001b[38;5;124m\"\u001b[39m, \u001b[38;5;124m\"\u001b[39m\u001b[38;5;124mrate\u001b[39m\u001b[38;5;124m\"\u001b[39m, \u001b[38;5;124m\"\u001b[39m\u001b[38;5;124mlibrary\u001b[39m\u001b[38;5;124m\"\u001b[39m]\n\u001b[0;32m----> 5\u001b[0m \u001b[38;5;28;01mfrom\u001b[39;00m \u001b[38;5;21;01m.\u001b[39;00m\u001b[38;5;21;01mapproximate_rates\u001b[39;00m \u001b[38;5;28;01mimport\u001b[39;00m ApproximateRate\n\u001b[1;32m      6\u001b[0m \u001b[38;5;28;01mfrom\u001b[39;00m \u001b[38;5;21;01m.\u001b[39;00m\u001b[38;5;21;01mknown_duplicates\u001b[39;00m \u001b[38;5;28;01mimport\u001b[39;00m find_duplicate_rates, is_allowed_dupe\n\u001b[1;32m      7\u001b[0m \u001b[38;5;28;01mfrom\u001b[39;00m \u001b[38;5;21;01m.\u001b[39;00m\u001b[38;5;21;01mlibrary\u001b[39;00m \u001b[38;5;28;01mimport\u001b[39;00m (LangankeLibrary, Library, RateFilter, ReacLibLibrary,\n\u001b[1;32m      8\u001b[0m                       SuzukiLibrary, TabularLibrary, list_known_rates)\n",
      "File \u001b[0;32m/opt/hostedtoolcache/Python/3.11.10/x64/lib/python3.11/site-packages/pynucastro/rates/approximate_rates.py:2\u001b[0m\n\u001b[1;32m      1\u001b[0m \u001b[38;5;28;01mfrom\u001b[39;00m \u001b[38;5;21;01mpynucastro\u001b[39;00m\u001b[38;5;21;01m.\u001b[39;00m\u001b[38;5;21;01mnucdata\u001b[39;00m \u001b[38;5;28;01mimport\u001b[39;00m Nucleus\n\u001b[0;32m----> 2\u001b[0m \u001b[38;5;28;01mfrom\u001b[39;00m \u001b[38;5;21;01mpynucastro\u001b[39;00m\u001b[38;5;21;01m.\u001b[39;00m\u001b[38;5;21;01mrates\u001b[39;00m\u001b[38;5;21;01m.\u001b[39;00m\u001b[38;5;21;01mrate\u001b[39;00m \u001b[38;5;28;01mimport\u001b[39;00m Rate\n\u001b[1;32m      5\u001b[0m \u001b[38;5;28;01mclass\u001b[39;00m \u001b[38;5;21;01mApproximateRate\u001b[39;00m(Rate):\n\u001b[1;32m      7\u001b[0m     \u001b[38;5;28;01mdef\u001b[39;00m \u001b[38;5;21m__init__\u001b[39m(\u001b[38;5;28mself\u001b[39m, primary_rate, secondary_rates,\n\u001b[1;32m      8\u001b[0m                  primary_reverse, secondary_reverse, \u001b[38;5;241m*\u001b[39m,\n\u001b[1;32m      9\u001b[0m                  is_reverse\u001b[38;5;241m=\u001b[39m\u001b[38;5;28;01mFalse\u001b[39;00m, approx_type\u001b[38;5;241m=\u001b[39m\u001b[38;5;124m\"\u001b[39m\u001b[38;5;124map_pg\u001b[39m\u001b[38;5;124m\"\u001b[39m,\n\u001b[1;32m     10\u001b[0m                  use_identical_particle_factor\u001b[38;5;241m=\u001b[39m\u001b[38;5;28;01mTrue\u001b[39;00m):\n",
      "File \u001b[0;32m/opt/hostedtoolcache/Python/3.11.10/x64/lib/python3.11/site-packages/pynucastro/rates/rate.py:775\u001b[0m\n\u001b[1;32m    771\u001b[0m     NU \u001b[38;5;241m=\u001b[39m \u001b[38;5;241m6\u001b[39m\n\u001b[1;32m    772\u001b[0m     GAMMA \u001b[38;5;241m=\u001b[39m \u001b[38;5;241m7\u001b[39m\n\u001b[0;32m--> 775\u001b[0m \u001b[38;5;28;43;01mclass\u001b[39;49;00m\u001b[43m \u001b[49m\u001b[38;5;21;43;01mRateSource\u001b[39;49;00m\u001b[43m:\u001b[49m\n\u001b[1;32m    776\u001b[0m \u001b[38;5;250;43m    \u001b[39;49m\u001b[38;5;124;43;03m\"\"\"A class that stores the reference label information for various rates.\"\"\"\u001b[39;49;00m\n\u001b[1;32m    778\u001b[0m \u001b[43m    \u001b[49m\u001b[43mcsv_path\u001b[49m\u001b[43m \u001b[49m\u001b[38;5;241;43m=\u001b[39;49m\u001b[43m \u001b[49m\u001b[43m_find_rate_file\u001b[49m\u001b[43m(\u001b[49m\u001b[38;5;124;43m\"\u001b[39;49m\u001b[38;5;124;43mRate Sources.csv\u001b[39;49m\u001b[38;5;124;43m\"\u001b[39;49m\u001b[43m)\u001b[49m\n",
      "File \u001b[0;32m/opt/hostedtoolcache/Python/3.11.10/x64/lib/python3.11/site-packages/pynucastro/rates/rate.py:795\u001b[0m, in \u001b[0;36mRateSource\u001b[0;34m()\u001b[0m\n\u001b[1;32m    793\u001b[0m         label \u001b[38;5;241m=\u001b[39m cells[\u001b[38;5;241m0\u001b[39m]\n\u001b[1;32m    794\u001b[0m         label_data \u001b[38;5;241m=\u001b[39m labels[label\u001b[38;5;241m.\u001b[39mlower()] \u001b[38;5;241m=\u001b[39m \u001b[38;5;28mdict\u001b[39m(\u001b[38;5;28mzip\u001b[39m(column_titles, cells))\n\u001b[0;32m--> 795\u001b[0m         label_data[\u001b[38;5;124m\"\u001b[39m\u001b[38;5;124mURL\u001b[39m\u001b[38;5;124m\"\u001b[39m] \u001b[38;5;241m=\u001b[39m urls\u001b[38;5;241m.\u001b[39mget(label, \u001b[43murls\u001b[49m\u001b[43m[\u001b[49m\u001b[43mlabel\u001b[49m\u001b[43m]\u001b[49m \u001b[38;5;241m+\u001b[39m label\u001b[38;5;241m.\u001b[39mlower())\n\u001b[1;32m    797\u001b[0m \u001b[38;5;129m@classmethod\u001b[39m\n\u001b[1;32m    798\u001b[0m \u001b[38;5;28;01mdef\u001b[39;00m \u001b[38;5;21msource\u001b[39m(\u001b[38;5;28mcls\u001b[39m, label: \u001b[38;5;28mstr\u001b[39m) \u001b[38;5;241m-\u001b[39m\u001b[38;5;241m>\u001b[39m \u001b[38;5;28mdict\u001b[39m[\u001b[38;5;28mstr\u001b[39m, \u001b[38;5;28mstr\u001b[39m] \u001b[38;5;241m|\u001b[39m \u001b[38;5;28;01mNone\u001b[39;00m:\n\u001b[1;32m    799\u001b[0m \u001b[38;5;250m    \u001b[39m\u001b[38;5;124;03m\"\"\"Returns the source of a rate given its label, and None if not found.\"\"\"\u001b[39;00m\n",
      "\u001b[0;31mKeyError\u001b[0m: '6an9CYBT'"
     ]
    }
   ],
   "source": [
    "import pynucastro as pyna"
   ]
  },
  {
   "cell_type": "markdown",
   "metadata": {},
   "source": [
    "First create a library from ReacLib using a set of nuclei."
   ]
  },
  {
   "cell_type": "code",
   "execution_count": 2,
   "metadata": {
    "execution": {
     "iopub.execute_input": "2024-10-19T09:35:01.659611Z",
     "iopub.status.busy": "2024-10-19T09:35:01.659435Z",
     "iopub.status.idle": "2024-10-19T09:35:01.671937Z",
     "shell.execute_reply": "2024-10-19T09:35:01.671468Z"
    }
   },
   "outputs": [
    {
     "ename": "NameError",
     "evalue": "name 'pyna' is not defined",
     "output_type": "error",
     "traceback": [
      "\u001b[0;31m---------------------------------------------------------------------------\u001b[0m",
      "\u001b[0;31mNameError\u001b[0m                                 Traceback (most recent call last)",
      "Cell \u001b[0;32mIn[2], line 1\u001b[0m\n\u001b[0;32m----> 1\u001b[0m reaclib_library \u001b[38;5;241m=\u001b[39m \u001b[43mpyna\u001b[49m\u001b[38;5;241m.\u001b[39mReacLibLibrary()\n\u001b[1;32m      3\u001b[0m all_nuclei \u001b[38;5;241m=\u001b[39m [\u001b[38;5;124m\"\u001b[39m\u001b[38;5;124mp\u001b[39m\u001b[38;5;124m\"\u001b[39m, \u001b[38;5;124m\"\u001b[39m\u001b[38;5;124mhe4\u001b[39m\u001b[38;5;124m\"\u001b[39m,\n\u001b[1;32m      4\u001b[0m               \u001b[38;5;124m\"\u001b[39m\u001b[38;5;124mne20\u001b[39m\u001b[38;5;124m\"\u001b[39m, \u001b[38;5;124m\"\u001b[39m\u001b[38;5;124mo20\u001b[39m\u001b[38;5;124m\"\u001b[39m, \u001b[38;5;124m\"\u001b[39m\u001b[38;5;124mf20\u001b[39m\u001b[38;5;124m\"\u001b[39m,\n\u001b[1;32m      5\u001b[0m               \u001b[38;5;124m\"\u001b[39m\u001b[38;5;124mmg24\u001b[39m\u001b[38;5;124m\"\u001b[39m, \u001b[38;5;124m\"\u001b[39m\u001b[38;5;124mal27\u001b[39m\u001b[38;5;124m\"\u001b[39m, \u001b[38;5;124m\"\u001b[39m\u001b[38;5;124mo16\u001b[39m\u001b[38;5;124m\"\u001b[39m,\n\u001b[1;32m      6\u001b[0m               \u001b[38;5;124m\"\u001b[39m\u001b[38;5;124msi28\u001b[39m\u001b[38;5;124m\"\u001b[39m, \u001b[38;5;124m\"\u001b[39m\u001b[38;5;124ms32\u001b[39m\u001b[38;5;124m\"\u001b[39m, \u001b[38;5;124m\"\u001b[39m\u001b[38;5;124mp31\u001b[39m\u001b[38;5;124m\"\u001b[39m]\n\u001b[1;32m      7\u001b[0m ecsn_library \u001b[38;5;241m=\u001b[39m reaclib_library\u001b[38;5;241m.\u001b[39mlinking_nuclei(all_nuclei,with_reverse\u001b[38;5;241m=\u001b[39m\u001b[38;5;28;01mTrue\u001b[39;00m)\n",
      "\u001b[0;31mNameError\u001b[0m: name 'pyna' is not defined"
     ]
    }
   ],
   "source": [
    "reaclib_library = pyna.ReacLibLibrary()\n",
    "\n",
    "all_nuclei = [\"p\", \"he4\",\n",
    "              \"ne20\", \"o20\", \"f20\",\n",
    "              \"mg24\", \"al27\", \"o16\",\n",
    "              \"si28\", \"s32\", \"p31\"]\n",
    "ecsn_library = reaclib_library.linking_nuclei(all_nuclei,with_reverse=True)"
   ]
  },
  {
   "cell_type": "markdown",
   "metadata": {},
   "source": [
    "Here are the rates it chose"
   ]
  },
  {
   "cell_type": "code",
   "execution_count": 3,
   "metadata": {
    "execution": {
     "iopub.execute_input": "2024-10-19T09:35:01.673548Z",
     "iopub.status.busy": "2024-10-19T09:35:01.673225Z",
     "iopub.status.idle": "2024-10-19T09:35:01.683726Z",
     "shell.execute_reply": "2024-10-19T09:35:01.683160Z"
    }
   },
   "outputs": [
    {
     "ename": "NameError",
     "evalue": "name 'ecsn_library' is not defined",
     "output_type": "error",
     "traceback": [
      "\u001b[0;31m---------------------------------------------------------------------------\u001b[0m",
      "\u001b[0;31mNameError\u001b[0m                                 Traceback (most recent call last)",
      "Cell \u001b[0;32mIn[3], line 1\u001b[0m\n\u001b[0;32m----> 1\u001b[0m \u001b[38;5;28mprint\u001b[39m(\u001b[43mecsn_library\u001b[49m)\n",
      "\u001b[0;31mNameError\u001b[0m: name 'ecsn_library' is not defined"
     ]
    }
   ],
   "source": [
    "print(ecsn_library)"
   ]
  },
  {
   "cell_type": "markdown",
   "metadata": {},
   "source": [
    "Now let's specify the weak rates we want from <cite data-cite-t=\"suzuki:2016\">Suzuki et al.</cite> -- these tables are included with pynucastro:"
   ]
  },
  {
   "cell_type": "code",
   "execution_count": 4,
   "metadata": {
    "execution": {
     "iopub.execute_input": "2024-10-19T09:35:01.685488Z",
     "iopub.status.busy": "2024-10-19T09:35:01.685098Z",
     "iopub.status.idle": "2024-10-19T09:35:01.695593Z",
     "shell.execute_reply": "2024-10-19T09:35:01.695144Z"
    }
   },
   "outputs": [
    {
     "ename": "NameError",
     "evalue": "name 'pyna' is not defined",
     "output_type": "error",
     "traceback": [
      "\u001b[0;31m---------------------------------------------------------------------------\u001b[0m",
      "\u001b[0;31mNameError\u001b[0m                                 Traceback (most recent call last)",
      "Cell \u001b[0;32mIn[4], line 1\u001b[0m\n\u001b[0;32m----> 1\u001b[0m tabular_lib \u001b[38;5;241m=\u001b[39m \u001b[43mpyna\u001b[49m\u001b[38;5;241m.\u001b[39mTabularLibrary()\n",
      "\u001b[0;31mNameError\u001b[0m: name 'pyna' is not defined"
     ]
    }
   ],
   "source": [
    "tabular_lib = pyna.TabularLibrary()"
   ]
  },
  {
   "cell_type": "code",
   "execution_count": 5,
   "metadata": {
    "execution": {
     "iopub.execute_input": "2024-10-19T09:35:01.697311Z",
     "iopub.status.busy": "2024-10-19T09:35:01.696914Z",
     "iopub.status.idle": "2024-10-19T09:35:01.707889Z",
     "shell.execute_reply": "2024-10-19T09:35:01.707320Z"
    }
   },
   "outputs": [
    {
     "ename": "NameError",
     "evalue": "name 'tabular_lib' is not defined",
     "output_type": "error",
     "traceback": [
      "\u001b[0;31m---------------------------------------------------------------------------\u001b[0m",
      "\u001b[0;31mNameError\u001b[0m                                 Traceback (most recent call last)",
      "Cell \u001b[0;32mIn[5], line 1\u001b[0m\n\u001b[0;32m----> 1\u001b[0m ecsn_tabular \u001b[38;5;241m=\u001b[39m \u001b[43mtabular_lib\u001b[49m\u001b[38;5;241m.\u001b[39mlinking_nuclei([\u001b[38;5;124m\"\u001b[39m\u001b[38;5;124mf20\u001b[39m\u001b[38;5;124m\"\u001b[39m, \u001b[38;5;124m\"\u001b[39m\u001b[38;5;124mo20\u001b[39m\u001b[38;5;124m\"\u001b[39m, \u001b[38;5;124m\"\u001b[39m\u001b[38;5;124mne20\u001b[39m\u001b[38;5;124m\"\u001b[39m])\n",
      "\u001b[0;31mNameError\u001b[0m: name 'tabular_lib' is not defined"
     ]
    }
   ],
   "source": [
    "ecsn_tabular = tabular_lib.linking_nuclei([\"f20\", \"o20\", \"ne20\"])"
   ]
  },
  {
   "cell_type": "markdown",
   "metadata": {},
   "source": [
    "Let's look at the rates"
   ]
  },
  {
   "cell_type": "code",
   "execution_count": 6,
   "metadata": {
    "execution": {
     "iopub.execute_input": "2024-10-19T09:35:01.709602Z",
     "iopub.status.busy": "2024-10-19T09:35:01.709429Z",
     "iopub.status.idle": "2024-10-19T09:35:01.720129Z",
     "shell.execute_reply": "2024-10-19T09:35:01.719680Z"
    }
   },
   "outputs": [
    {
     "ename": "NameError",
     "evalue": "name 'ecsn_tabular' is not defined",
     "output_type": "error",
     "traceback": [
      "\u001b[0;31m---------------------------------------------------------------------------\u001b[0m",
      "\u001b[0;31mNameError\u001b[0m                                 Traceback (most recent call last)",
      "Cell \u001b[0;32mIn[6], line 1\u001b[0m\n\u001b[0;32m----> 1\u001b[0m tr \u001b[38;5;241m=\u001b[39m \u001b[43mecsn_tabular\u001b[49m\u001b[38;5;241m.\u001b[39mget_rates()\n\u001b[1;32m      2\u001b[0m tr\n",
      "\u001b[0;31mNameError\u001b[0m: name 'ecsn_tabular' is not defined"
     ]
    }
   ],
   "source": [
    "tr = ecsn_tabular.get_rates()\n",
    "tr"
   ]
  },
  {
   "cell_type": "markdown",
   "metadata": {},
   "source": [
    "These tables are in terms of $T$ and $\\rho Y_e$.  We can easily plot the tabulated electron capture rates just like ReacLib rates:"
   ]
  },
  {
   "cell_type": "code",
   "execution_count": 7,
   "metadata": {
    "execution": {
     "iopub.execute_input": "2024-10-19T09:35:01.721601Z",
     "iopub.status.busy": "2024-10-19T09:35:01.721440Z",
     "iopub.status.idle": "2024-10-19T09:35:01.733255Z",
     "shell.execute_reply": "2024-10-19T09:35:01.732801Z"
    }
   },
   "outputs": [
    {
     "ename": "NameError",
     "evalue": "name 'tr' is not defined",
     "output_type": "error",
     "traceback": [
      "\u001b[0;31m---------------------------------------------------------------------------\u001b[0m",
      "\u001b[0;31mNameError\u001b[0m                                 Traceback (most recent call last)",
      "Cell \u001b[0;32mIn[7], line 1\u001b[0m\n\u001b[0;32m----> 1\u001b[0m fig \u001b[38;5;241m=\u001b[39m \u001b[43mtr\u001b[49m[\u001b[38;5;241m0\u001b[39m]\u001b[38;5;241m.\u001b[39mplot(rhoYmin\u001b[38;5;241m=\u001b[39m\u001b[38;5;241m4.e8\u001b[39m, rhoYmax\u001b[38;5;241m=\u001b[39m\u001b[38;5;241m2.e9\u001b[39m, Tmin\u001b[38;5;241m=\u001b[39m\u001b[38;5;241m1.e8\u001b[39m, Tmax\u001b[38;5;241m=\u001b[39m\u001b[38;5;241m2.e9\u001b[39m,\n\u001b[1;32m      2\u001b[0m                  figsize\u001b[38;5;241m=\u001b[39m(\u001b[38;5;241m8\u001b[39m, \u001b[38;5;241m4\u001b[39m))\n",
      "\u001b[0;31mNameError\u001b[0m: name 'tr' is not defined"
     ]
    }
   ],
   "source": [
    "fig = tr[0].plot(rhoYmin=4.e8, rhoYmax=2.e9, Tmin=1.e8, Tmax=2.e9,\n",
    "                 figsize=(8, 4))"
   ]
  },
  {
   "cell_type": "markdown",
   "metadata": {},
   "source": [
    "Let's create a rate collection from just the ReacLib rates and look to see which are actually important"
   ]
  },
  {
   "cell_type": "code",
   "execution_count": 8,
   "metadata": {
    "execution": {
     "iopub.execute_input": "2024-10-19T09:35:01.734779Z",
     "iopub.status.busy": "2024-10-19T09:35:01.734605Z",
     "iopub.status.idle": "2024-10-19T09:35:01.745423Z",
     "shell.execute_reply": "2024-10-19T09:35:01.744884Z"
    }
   },
   "outputs": [
    {
     "ename": "NameError",
     "evalue": "name 'pyna' is not defined",
     "output_type": "error",
     "traceback": [
      "\u001b[0;31m---------------------------------------------------------------------------\u001b[0m",
      "\u001b[0;31mNameError\u001b[0m                                 Traceback (most recent call last)",
      "Cell \u001b[0;32mIn[8], line 1\u001b[0m\n\u001b[0;32m----> 1\u001b[0m rc \u001b[38;5;241m=\u001b[39m \u001b[43mpyna\u001b[49m\u001b[38;5;241m.\u001b[39mRateCollection(libraries\u001b[38;5;241m=\u001b[39m[ecsn_library])\n",
      "\u001b[0;31mNameError\u001b[0m: name 'pyna' is not defined"
     ]
    }
   ],
   "source": [
    "rc = pyna.RateCollection(libraries=[ecsn_library])"
   ]
  },
  {
   "cell_type": "markdown",
   "metadata": {},
   "source": [
    "Here we'll pick thermodynamic conditions appropriate to the oxygen burning shell in a white dwarf"
   ]
  },
  {
   "cell_type": "code",
   "execution_count": 9,
   "metadata": {
    "execution": {
     "iopub.execute_input": "2024-10-19T09:35:01.746947Z",
     "iopub.status.busy": "2024-10-19T09:35:01.746780Z",
     "iopub.status.idle": "2024-10-19T09:35:01.759835Z",
     "shell.execute_reply": "2024-10-19T09:35:01.759392Z"
    }
   },
   "outputs": [
    {
     "ename": "NameError",
     "evalue": "name 'pyna' is not defined",
     "output_type": "error",
     "traceback": [
      "\u001b[0;31m---------------------------------------------------------------------------\u001b[0m",
      "\u001b[0;31mNameError\u001b[0m                                 Traceback (most recent call last)",
      "Cell \u001b[0;32mIn[9], line 1\u001b[0m\n\u001b[0;32m----> 1\u001b[0m comp \u001b[38;5;241m=\u001b[39m \u001b[43mpyna\u001b[49m\u001b[38;5;241m.\u001b[39mComposition(rc\u001b[38;5;241m.\u001b[39mget_nuclei())\n\u001b[1;32m      2\u001b[0m comp\u001b[38;5;241m.\u001b[39mset_nuc(\u001b[38;5;124m\"\u001b[39m\u001b[38;5;124mo16\u001b[39m\u001b[38;5;124m\"\u001b[39m, \u001b[38;5;241m0.5\u001b[39m)\n\u001b[1;32m      3\u001b[0m comp\u001b[38;5;241m.\u001b[39mset_nuc(\u001b[38;5;124m\"\u001b[39m\u001b[38;5;124mne20\u001b[39m\u001b[38;5;124m\"\u001b[39m, \u001b[38;5;241m0.3\u001b[39m)\n",
      "\u001b[0;31mNameError\u001b[0m: name 'pyna' is not defined"
     ]
    }
   ],
   "source": [
    "comp = pyna.Composition(rc.get_nuclei())\n",
    "comp.set_nuc(\"o16\", 0.5)\n",
    "comp.set_nuc(\"ne20\", 0.3)\n",
    "comp.set_nuc(\"mg24\", 0.1)\n",
    "comp.set_nuc(\"o20\", 1.e-5)\n",
    "comp.set_nuc(\"f20\", 1.e-5)\n",
    "comp.set_nuc(\"p\", 1.e-5)\n",
    "comp.set_nuc(\"he4\", 1.e-2)\n",
    "comp.set_nuc(\"al27\", 1.e-2)\n",
    "comp.set_nuc(\"si28\", 1.e-2)\n",
    "comp.set_nuc(\"s32\", 1.e-2)\n",
    "comp.set_nuc(\"p31\", 1.e-2)\n",
    "comp.normalize()"
   ]
  },
  {
   "cell_type": "code",
   "execution_count": 10,
   "metadata": {
    "execution": {
     "iopub.execute_input": "2024-10-19T09:35:01.761274Z",
     "iopub.status.busy": "2024-10-19T09:35:01.761113Z",
     "iopub.status.idle": "2024-10-19T09:35:01.771982Z",
     "shell.execute_reply": "2024-10-19T09:35:01.771523Z"
    }
   },
   "outputs": [
    {
     "ename": "NameError",
     "evalue": "name 'rc' is not defined",
     "output_type": "error",
     "traceback": [
      "\u001b[0;31m---------------------------------------------------------------------------\u001b[0m",
      "\u001b[0;31mNameError\u001b[0m                                 Traceback (most recent call last)",
      "Cell \u001b[0;32mIn[10], line 1\u001b[0m\n\u001b[0;32m----> 1\u001b[0m fig \u001b[38;5;241m=\u001b[39m \u001b[43mrc\u001b[49m\u001b[38;5;241m.\u001b[39mplot(rho\u001b[38;5;241m=\u001b[39m\u001b[38;5;241m7.e9\u001b[39m, T\u001b[38;5;241m=\u001b[39m\u001b[38;5;241m1.e9\u001b[39m, comp\u001b[38;5;241m=\u001b[39mcomp, ydot_cutoff_value\u001b[38;5;241m=\u001b[39m\u001b[38;5;241m1.e-20\u001b[39m)\n",
      "\u001b[0;31mNameError\u001b[0m: name 'rc' is not defined"
     ]
    }
   ],
   "source": [
    "fig = rc.plot(rho=7.e9, T=1.e9, comp=comp, ydot_cutoff_value=1.e-20)"
   ]
  },
  {
   "cell_type": "markdown",
   "metadata": {},
   "source": [
    "Note, this rate collection already includes some weak rates from ReacLib -- we want to remove those.\n",
    "\n",
    "We'll also take the opportunity to remove any rates that are not important, by looking for a $|\\dot{Y}| > 10^{-20}~s^{-1}$."
   ]
  },
  {
   "cell_type": "code",
   "execution_count": 11,
   "metadata": {
    "execution": {
     "iopub.execute_input": "2024-10-19T09:35:01.773631Z",
     "iopub.status.busy": "2024-10-19T09:35:01.773314Z",
     "iopub.status.idle": "2024-10-19T09:35:01.785452Z",
     "shell.execute_reply": "2024-10-19T09:35:01.784913Z"
    }
   },
   "outputs": [
    {
     "ename": "NameError",
     "evalue": "name 'rc' is not defined",
     "output_type": "error",
     "traceback": [
      "\u001b[0;31m---------------------------------------------------------------------------\u001b[0m",
      "\u001b[0;31mNameError\u001b[0m                                 Traceback (most recent call last)",
      "Cell \u001b[0;32mIn[11], line 2\u001b[0m\n\u001b[1;32m      1\u001b[0m new_rate_list \u001b[38;5;241m=\u001b[39m []\n\u001b[0;32m----> 2\u001b[0m ydots \u001b[38;5;241m=\u001b[39m \u001b[43mrc\u001b[49m\u001b[38;5;241m.\u001b[39mevaluate_rates(rho\u001b[38;5;241m=\u001b[39m\u001b[38;5;241m7.e9\u001b[39m, T\u001b[38;5;241m=\u001b[39m\u001b[38;5;241m1.e9\u001b[39m, composition\u001b[38;5;241m=\u001b[39mcomp)\n\u001b[1;32m      3\u001b[0m \u001b[38;5;28;01mfor\u001b[39;00m rate \u001b[38;5;129;01min\u001b[39;00m rc\u001b[38;5;241m.\u001b[39mrates:\n\u001b[1;32m      4\u001b[0m     \u001b[38;5;28;01mif\u001b[39;00m \u001b[38;5;28mabs\u001b[39m(ydots[rate]) \u001b[38;5;241m>\u001b[39m\u001b[38;5;241m=\u001b[39m \u001b[38;5;241m1.e-20\u001b[39m \u001b[38;5;129;01mand\u001b[39;00m \u001b[38;5;129;01mnot\u001b[39;00m rate\u001b[38;5;241m.\u001b[39mweak:\n",
      "\u001b[0;31mNameError\u001b[0m: name 'rc' is not defined"
     ]
    }
   ],
   "source": [
    "new_rate_list = []\n",
    "ydots = rc.evaluate_rates(rho=7.e9, T=1.e9, composition=comp)\n",
    "for rate in rc.rates:\n",
    "    if abs(ydots[rate]) >= 1.e-20 and not rate.weak:\n",
    "        new_rate_list.append(rate)        "
   ]
  },
  {
   "cell_type": "markdown",
   "metadata": {},
   "source": [
    "Now let's add the tabular rates to this pruned down rate list"
   ]
  },
  {
   "cell_type": "code",
   "execution_count": 12,
   "metadata": {
    "execution": {
     "iopub.execute_input": "2024-10-19T09:35:01.787245Z",
     "iopub.status.busy": "2024-10-19T09:35:01.786953Z",
     "iopub.status.idle": "2024-10-19T09:35:01.797245Z",
     "shell.execute_reply": "2024-10-19T09:35:01.796817Z"
    }
   },
   "outputs": [
    {
     "ename": "NameError",
     "evalue": "name 'tr' is not defined",
     "output_type": "error",
     "traceback": [
      "\u001b[0;31m---------------------------------------------------------------------------\u001b[0m",
      "\u001b[0;31mNameError\u001b[0m                                 Traceback (most recent call last)",
      "Cell \u001b[0;32mIn[12], line 1\u001b[0m\n\u001b[0;32m----> 1\u001b[0m new_rate_list \u001b[38;5;241m+\u001b[39m\u001b[38;5;241m=\u001b[39m \u001b[43mtr\u001b[49m\n",
      "\u001b[0;31mNameError\u001b[0m: name 'tr' is not defined"
     ]
    }
   ],
   "source": [
    "new_rate_list += tr"
   ]
  },
  {
   "cell_type": "markdown",
   "metadata": {},
   "source": [
    "Finally, we'll create a new rate collection by combining this new list of rates with the list of tables:"
   ]
  },
  {
   "cell_type": "code",
   "execution_count": 13,
   "metadata": {
    "execution": {
     "iopub.execute_input": "2024-10-19T09:35:01.798740Z",
     "iopub.status.busy": "2024-10-19T09:35:01.798569Z",
     "iopub.status.idle": "2024-10-19T09:35:01.809131Z",
     "shell.execute_reply": "2024-10-19T09:35:01.808696Z"
    }
   },
   "outputs": [
    {
     "ename": "NameError",
     "evalue": "name 'pyna' is not defined",
     "output_type": "error",
     "traceback": [
      "\u001b[0;31m---------------------------------------------------------------------------\u001b[0m",
      "\u001b[0;31mNameError\u001b[0m                                 Traceback (most recent call last)",
      "Cell \u001b[0;32mIn[13], line 1\u001b[0m\n\u001b[0;32m----> 1\u001b[0m rc_new \u001b[38;5;241m=\u001b[39m \u001b[43mpyna\u001b[49m\u001b[38;5;241m.\u001b[39mRateCollection(rates\u001b[38;5;241m=\u001b[39mnew_rate_list)\n",
      "\u001b[0;31mNameError\u001b[0m: name 'pyna' is not defined"
     ]
    }
   ],
   "source": [
    "rc_new = pyna.RateCollection(rates=new_rate_list)"
   ]
  },
  {
   "cell_type": "code",
   "execution_count": 14,
   "metadata": {
    "execution": {
     "iopub.execute_input": "2024-10-19T09:35:01.810625Z",
     "iopub.status.busy": "2024-10-19T09:35:01.810464Z",
     "iopub.status.idle": "2024-10-19T09:35:01.822258Z",
     "shell.execute_reply": "2024-10-19T09:35:01.821683Z"
    }
   },
   "outputs": [
    {
     "ename": "NameError",
     "evalue": "name 'rc_new' is not defined",
     "output_type": "error",
     "traceback": [
      "\u001b[0;31m---------------------------------------------------------------------------\u001b[0m",
      "\u001b[0;31mNameError\u001b[0m                                 Traceback (most recent call last)",
      "Cell \u001b[0;32mIn[14], line 1\u001b[0m\n\u001b[0;32m----> 1\u001b[0m fig \u001b[38;5;241m=\u001b[39m \u001b[43mrc_new\u001b[49m\u001b[38;5;241m.\u001b[39mplot(rho\u001b[38;5;241m=\u001b[39m\u001b[38;5;241m7.e9\u001b[39m, T\u001b[38;5;241m=\u001b[39m\u001b[38;5;241m1.e9\u001b[39m, comp\u001b[38;5;241m=\u001b[39mcomp, curved_edges\u001b[38;5;241m=\u001b[39m\u001b[38;5;28;01mTrue\u001b[39;00m, rotated\u001b[38;5;241m=\u001b[39m\u001b[38;5;28;01mTrue\u001b[39;00m)\n",
      "\u001b[0;31mNameError\u001b[0m: name 'rc_new' is not defined"
     ]
    }
   ],
   "source": [
    "fig = rc_new.plot(rho=7.e9, T=1.e9, comp=comp, curved_edges=True, rotated=True)"
   ]
  },
  {
   "cell_type": "markdown",
   "metadata": {},
   "source": [
    "We can see the values of the rates at our thermodynamic conditions easily:"
   ]
  },
  {
   "cell_type": "code",
   "execution_count": 15,
   "metadata": {
    "execution": {
     "iopub.execute_input": "2024-10-19T09:35:01.824155Z",
     "iopub.status.busy": "2024-10-19T09:35:01.823763Z",
     "iopub.status.idle": "2024-10-19T09:35:01.834073Z",
     "shell.execute_reply": "2024-10-19T09:35:01.833661Z"
    }
   },
   "outputs": [
    {
     "ename": "NameError",
     "evalue": "name 'rc_new' is not defined",
     "output_type": "error",
     "traceback": [
      "\u001b[0;31m---------------------------------------------------------------------------\u001b[0m",
      "\u001b[0;31mNameError\u001b[0m                                 Traceback (most recent call last)",
      "Cell \u001b[0;32mIn[15], line 1\u001b[0m\n\u001b[0;32m----> 1\u001b[0m \u001b[43mrc_new\u001b[49m\u001b[38;5;241m.\u001b[39mevaluate_rates(rho\u001b[38;5;241m=\u001b[39m\u001b[38;5;241m7.e9\u001b[39m, T\u001b[38;5;241m=\u001b[39m\u001b[38;5;241m1.e9\u001b[39m, composition\u001b[38;5;241m=\u001b[39mcomp)\n",
      "\u001b[0;31mNameError\u001b[0m: name 'rc_new' is not defined"
     ]
    }
   ],
   "source": [
    "rc_new.evaluate_rates(rho=7.e9, T=1.e9, composition=comp)"
   ]
  },
  {
   "cell_type": "markdown",
   "metadata": {},
   "source": [
    "Additionally, we can see the specific energy generation rate for these conditions"
   ]
  },
  {
   "cell_type": "code",
   "execution_count": 16,
   "metadata": {
    "execution": {
     "iopub.execute_input": "2024-10-19T09:35:01.835727Z",
     "iopub.status.busy": "2024-10-19T09:35:01.835431Z",
     "iopub.status.idle": "2024-10-19T09:35:01.845878Z",
     "shell.execute_reply": "2024-10-19T09:35:01.845347Z"
    }
   },
   "outputs": [
    {
     "ename": "NameError",
     "evalue": "name 'rc_new' is not defined",
     "output_type": "error",
     "traceback": [
      "\u001b[0;31m---------------------------------------------------------------------------\u001b[0m",
      "\u001b[0;31mNameError\u001b[0m                                 Traceback (most recent call last)",
      "Cell \u001b[0;32mIn[16], line 1\u001b[0m\n\u001b[0;32m----> 1\u001b[0m \u001b[43mrc_new\u001b[49m\u001b[38;5;241m.\u001b[39mevaluate_energy_generation(rho\u001b[38;5;241m=\u001b[39m\u001b[38;5;241m7.e9\u001b[39m, T\u001b[38;5;241m=\u001b[39m\u001b[38;5;241m1.e9\u001b[39m, composition\u001b[38;5;241m=\u001b[39mcomp)\n",
      "\u001b[0;31mNameError\u001b[0m: name 'rc_new' is not defined"
     ]
    }
   ],
   "source": [
    "rc_new.evaluate_energy_generation(rho=7.e9, T=1.e9, composition=comp)"
   ]
  }
 ],
 "metadata": {
  "kernelspec": {
   "display_name": "Python 3 (ipykernel)",
   "language": "python",
   "name": "python3"
  },
  "language_info": {
   "codemirror_mode": {
    "name": "ipython",
    "version": 3
   },
   "file_extension": ".py",
   "mimetype": "text/x-python",
   "name": "python",
   "nbconvert_exporter": "python",
   "pygments_lexer": "ipython3",
   "version": "3.11.10"
  }
 },
 "nbformat": 4,
 "nbformat_minor": 4
}
