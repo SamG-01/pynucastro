{
 "cells": [
  {
   "cell_type": "markdown",
   "metadata": {},
   "source": [
    "# Combining ReacLib Rates with Electron Capture Tables"
   ]
  },
  {
   "cell_type": "markdown",
   "metadata": {},
   "source": [
    "Here's an example of using tabulated weak rates from <cite data-cite-t=\"suzuki:2016\">Suzuki et al. (2016)</cite> together with rates from the ReacLib database.\n",
    "\n",
    "We'll build a network suitable for e-capture supernovae."
   ]
  },
  {
   "cell_type": "code",
   "execution_count": 1,
   "metadata": {
    "execution": {
     "iopub.execute_input": "2024-10-17T08:23:58.082647Z",
     "iopub.status.busy": "2024-10-17T08:23:58.082442Z",
     "iopub.status.idle": "2024-10-17T08:23:59.812633Z",
     "shell.execute_reply": "2024-10-17T08:23:59.812059Z"
    }
   },
   "outputs": [],
   "source": [
    "import pynucastro as pyna"
   ]
  },
  {
   "cell_type": "markdown",
   "metadata": {},
   "source": [
    "First create a library from ReacLib using a set of nuclei."
   ]
  },
  {
   "cell_type": "code",
   "execution_count": 2,
   "metadata": {
    "execution": {
     "iopub.execute_input": "2024-10-17T08:23:59.815023Z",
     "iopub.status.busy": "2024-10-17T08:23:59.814587Z",
     "iopub.status.idle": "2024-10-17T08:24:00.303617Z",
     "shell.execute_reply": "2024-10-17T08:24:00.303002Z"
    }
   },
   "outputs": [
    {
     "ename": "TypeError",
     "evalue": "argument of type 'NoneType' is not iterable",
     "output_type": "error",
     "traceback": [
      "\u001b[0;31m---------------------------------------------------------------------------\u001b[0m",
      "\u001b[0;31mTypeError\u001b[0m                                 Traceback (most recent call last)",
      "Cell \u001b[0;32mIn[2], line 1\u001b[0m\n\u001b[0;32m----> 1\u001b[0m reaclib_library \u001b[38;5;241m=\u001b[39m \u001b[43mpyna\u001b[49m\u001b[38;5;241;43m.\u001b[39;49m\u001b[43mReacLibLibrary\u001b[49m\u001b[43m(\u001b[49m\u001b[43m)\u001b[49m\n\u001b[1;32m      3\u001b[0m all_nuclei \u001b[38;5;241m=\u001b[39m [\u001b[38;5;124m\"\u001b[39m\u001b[38;5;124mp\u001b[39m\u001b[38;5;124m\"\u001b[39m, \u001b[38;5;124m\"\u001b[39m\u001b[38;5;124mhe4\u001b[39m\u001b[38;5;124m\"\u001b[39m,\n\u001b[1;32m      4\u001b[0m               \u001b[38;5;124m\"\u001b[39m\u001b[38;5;124mne20\u001b[39m\u001b[38;5;124m\"\u001b[39m, \u001b[38;5;124m\"\u001b[39m\u001b[38;5;124mo20\u001b[39m\u001b[38;5;124m\"\u001b[39m, \u001b[38;5;124m\"\u001b[39m\u001b[38;5;124mf20\u001b[39m\u001b[38;5;124m\"\u001b[39m,\n\u001b[1;32m      5\u001b[0m               \u001b[38;5;124m\"\u001b[39m\u001b[38;5;124mmg24\u001b[39m\u001b[38;5;124m\"\u001b[39m, \u001b[38;5;124m\"\u001b[39m\u001b[38;5;124mal27\u001b[39m\u001b[38;5;124m\"\u001b[39m, \u001b[38;5;124m\"\u001b[39m\u001b[38;5;124mo16\u001b[39m\u001b[38;5;124m\"\u001b[39m,\n\u001b[1;32m      6\u001b[0m               \u001b[38;5;124m\"\u001b[39m\u001b[38;5;124msi28\u001b[39m\u001b[38;5;124m\"\u001b[39m, \u001b[38;5;124m\"\u001b[39m\u001b[38;5;124ms32\u001b[39m\u001b[38;5;124m\"\u001b[39m, \u001b[38;5;124m\"\u001b[39m\u001b[38;5;124mp31\u001b[39m\u001b[38;5;124m\"\u001b[39m]\n\u001b[1;32m      7\u001b[0m ecsn_library \u001b[38;5;241m=\u001b[39m reaclib_library\u001b[38;5;241m.\u001b[39mlinking_nuclei(all_nuclei,with_reverse\u001b[38;5;241m=\u001b[39m\u001b[38;5;28;01mTrue\u001b[39;00m)\n",
      "File \u001b[0;32m/opt/hostedtoolcache/Python/3.11.10/x64/lib/python3.11/site-packages/pynucastro/rates/library.py:700\u001b[0m, in \u001b[0;36mReacLibLibrary.__init__\u001b[0;34m(self)\u001b[0m\n\u001b[1;32m    698\u001b[0m \u001b[38;5;28;01mdef\u001b[39;00m \u001b[38;5;21m__init__\u001b[39m(\u001b[38;5;28mself\u001b[39m):\n\u001b[1;32m    699\u001b[0m     libfile \u001b[38;5;241m=\u001b[39m \u001b[38;5;124m'\u001b[39m\u001b[38;5;124mreaclib_default2_20220329\u001b[39m\u001b[38;5;124m'\u001b[39m\n\u001b[0;32m--> 700\u001b[0m     \u001b[43mLibrary\u001b[49m\u001b[38;5;241;43m.\u001b[39;49m\u001b[38;5;21;43m__init__\u001b[39;49m\u001b[43m(\u001b[49m\u001b[38;5;28;43mself\u001b[39;49m\u001b[43m,\u001b[49m\u001b[43m \u001b[49m\u001b[43mlibfile\u001b[49m\u001b[38;5;241;43m=\u001b[39;49m\u001b[43mlibfile\u001b[49m\u001b[43m)\u001b[49m\n",
      "File \u001b[0;32m/opt/hostedtoolcache/Python/3.11.10/x64/lib/python3.11/site-packages/pynucastro/rates/library.py:139\u001b[0m, in \u001b[0;36mLibrary.__init__\u001b[0;34m(self, libfile, rates)\u001b[0m\n\u001b[1;32m    137\u001b[0m \u001b[38;5;28;01mif\u001b[39;00m \u001b[38;5;28mself\u001b[39m\u001b[38;5;241m.\u001b[39m_library_file:\n\u001b[1;32m    138\u001b[0m     \u001b[38;5;28mself\u001b[39m\u001b[38;5;241m.\u001b[39m_library_file \u001b[38;5;241m=\u001b[39m _find_rate_file(\u001b[38;5;28mself\u001b[39m\u001b[38;5;241m.\u001b[39m_library_file)\n\u001b[0;32m--> 139\u001b[0m     \u001b[38;5;28;43mself\u001b[39;49m\u001b[38;5;241;43m.\u001b[39;49m\u001b[43m_read_library_file\u001b[49m\u001b[43m(\u001b[49m\u001b[43m)\u001b[49m\n",
      "File \u001b[0;32m/opt/hostedtoolcache/Python/3.11.10/x64/lib/python3.11/site-packages/pynucastro/rates/library.py:316\u001b[0m, in \u001b[0;36mLibrary._read_library_file\u001b[0;34m(self)\u001b[0m\n\u001b[1;32m    314\u001b[0m \u001b[38;5;28;01melse\u001b[39;00m:\n\u001b[1;32m    315\u001b[0m     rid \u001b[38;5;241m=\u001b[39m r\u001b[38;5;241m.\u001b[39mget_rate_id()\n\u001b[0;32m--> 316\u001b[0m     \u001b[38;5;28;01mif\u001b[39;00m \u001b[43mrid\u001b[49m\u001b[43m \u001b[49m\u001b[38;5;129;43;01min\u001b[39;49;00m\u001b[43m \u001b[49m\u001b[38;5;28;43mself\u001b[39;49m\u001b[38;5;241;43m.\u001b[39;49m\u001b[43m_rates\u001b[49m:\n\u001b[1;32m    317\u001b[0m         \u001b[38;5;28mself\u001b[39m\u001b[38;5;241m.\u001b[39m_rates[rid] \u001b[38;5;241m=\u001b[39m \u001b[38;5;28mself\u001b[39m\u001b[38;5;241m.\u001b[39m_rates[rid] \u001b[38;5;241m+\u001b[39m r\n\u001b[1;32m    318\u001b[0m     \u001b[38;5;28;01melse\u001b[39;00m:\n",
      "\u001b[0;31mTypeError\u001b[0m: argument of type 'NoneType' is not iterable"
     ]
    }
   ],
   "source": [
    "reaclib_library = pyna.ReacLibLibrary()\n",
    "\n",
    "all_nuclei = [\"p\", \"he4\",\n",
    "              \"ne20\", \"o20\", \"f20\",\n",
    "              \"mg24\", \"al27\", \"o16\",\n",
    "              \"si28\", \"s32\", \"p31\"]\n",
    "ecsn_library = reaclib_library.linking_nuclei(all_nuclei,with_reverse=True)"
   ]
  },
  {
   "cell_type": "markdown",
   "metadata": {},
   "source": [
    "Here are the rates it chose"
   ]
  },
  {
   "cell_type": "code",
   "execution_count": 3,
   "metadata": {
    "execution": {
     "iopub.execute_input": "2024-10-17T08:24:00.305559Z",
     "iopub.status.busy": "2024-10-17T08:24:00.305354Z",
     "iopub.status.idle": "2024-10-17T08:24:00.318989Z",
     "shell.execute_reply": "2024-10-17T08:24:00.318420Z"
    }
   },
   "outputs": [
    {
     "ename": "NameError",
     "evalue": "name 'ecsn_library' is not defined",
     "output_type": "error",
     "traceback": [
      "\u001b[0;31m---------------------------------------------------------------------------\u001b[0m",
      "\u001b[0;31mNameError\u001b[0m                                 Traceback (most recent call last)",
      "Cell \u001b[0;32mIn[3], line 1\u001b[0m\n\u001b[0;32m----> 1\u001b[0m \u001b[38;5;28mprint\u001b[39m(\u001b[43mecsn_library\u001b[49m)\n",
      "\u001b[0;31mNameError\u001b[0m: name 'ecsn_library' is not defined"
     ]
    }
   ],
   "source": [
    "print(ecsn_library)"
   ]
  },
  {
   "cell_type": "markdown",
   "metadata": {},
   "source": [
    "Now let's specify the weak rates we want from <cite data-cite-t=\"suzuki:2016\">Suzuki et al.</cite> -- these tables are included with pynucastro:"
   ]
  },
  {
   "cell_type": "code",
   "execution_count": 4,
   "metadata": {
    "execution": {
     "iopub.execute_input": "2024-10-17T08:24:00.320958Z",
     "iopub.status.busy": "2024-10-17T08:24:00.320613Z",
     "iopub.status.idle": "2024-10-17T08:24:02.304341Z",
     "shell.execute_reply": "2024-10-17T08:24:02.303632Z"
    }
   },
   "outputs": [
    {
     "ename": "AttributeError",
     "evalue": "'NoneType' object has no attribute 'values'",
     "output_type": "error",
     "traceback": [
      "\u001b[0;31m---------------------------------------------------------------------------\u001b[0m",
      "\u001b[0;31mAttributeError\u001b[0m                            Traceback (most recent call last)",
      "Cell \u001b[0;32mIn[4], line 1\u001b[0m\n\u001b[0;32m----> 1\u001b[0m tabular_lib \u001b[38;5;241m=\u001b[39m \u001b[43mpyna\u001b[49m\u001b[38;5;241;43m.\u001b[39;49m\u001b[43mTabularLibrary\u001b[49m\u001b[43m(\u001b[49m\u001b[43m)\u001b[49m\n",
      "File \u001b[0;32m/opt/hostedtoolcache/Python/3.11.10/x64/lib/python3.11/site-packages/pynucastro/rates/library.py:719\u001b[0m, in \u001b[0;36mTabularLibrary.__init__\u001b[0;34m(self)\u001b[0m\n\u001b[1;32m    716\u001b[0m         \u001b[38;5;28;01mif\u001b[39;00m f\u001b[38;5;241m.\u001b[39mendswith(\u001b[38;5;124m\"\u001b[39m\u001b[38;5;124m-toki\u001b[39m\u001b[38;5;124m\"\u001b[39m):\n\u001b[1;32m    717\u001b[0m             trates\u001b[38;5;241m.\u001b[39mappend(load_rate(f))\n\u001b[0;32m--> 719\u001b[0m \u001b[43mLibrary\u001b[49m\u001b[38;5;241;43m.\u001b[39;49m\u001b[38;5;21;43m__init__\u001b[39;49m\u001b[43m(\u001b[49m\u001b[38;5;28;43mself\u001b[39;49m\u001b[43m,\u001b[49m\u001b[43m \u001b[49m\u001b[43mrates\u001b[49m\u001b[38;5;241;43m=\u001b[39;49m\u001b[43mtrates\u001b[49m\u001b[43m)\u001b[49m\n",
      "File \u001b[0;32m/opt/hostedtoolcache/Python/3.11.10/x64/lib/python3.11/site-packages/pynucastro/rates/library.py:131\u001b[0m, in \u001b[0;36mLibrary.__init__\u001b[0;34m(self, libfile, rates)\u001b[0m\n\u001b[1;32m    129\u001b[0m     \u001b[38;5;28mself\u001b[39m\u001b[38;5;241m.\u001b[39m_rates \u001b[38;5;241m=\u001b[39m rates\n\u001b[1;32m    130\u001b[0m \u001b[38;5;28;01melif\u001b[39;00m \u001b[38;5;28misinstance\u001b[39m(rates, (\u001b[38;5;28mlist\u001b[39m, \u001b[38;5;28mset\u001b[39m)):\n\u001b[0;32m--> 131\u001b[0m     \u001b[38;5;28;43mself\u001b[39;49m\u001b[38;5;241;43m.\u001b[39;49m\u001b[43madd_rates\u001b[49m\u001b[43m(\u001b[49m\u001b[43mrates\u001b[49m\u001b[43m)\u001b[49m\n\u001b[1;32m    132\u001b[0m \u001b[38;5;28;01melse\u001b[39;00m:\n\u001b[1;32m    133\u001b[0m     \u001b[38;5;28;01mraise\u001b[39;00m \u001b[38;5;167;01mTypeError\u001b[39;00m(\u001b[38;5;124m\"\u001b[39m\u001b[38;5;124mrates in Library constructor must be a Rate object, list of Rate objects, or dictionary of Rate objects keyed by Rate.get_rate_id()\u001b[39m\u001b[38;5;124m\"\u001b[39m)\n",
      "File \u001b[0;32m/opt/hostedtoolcache/Python/3.11.10/x64/lib/python3.11/site-packages/pynucastro/rates/library.py:183\u001b[0m, in \u001b[0;36mLibrary.add_rates\u001b[0;34m(self, ratelist)\u001b[0m\n\u001b[1;32m    181\u001b[0m \u001b[38;5;250m\u001b[39m\u001b[38;5;124;03m\"\"\" Add to the rate dictionary from the supplied list of Rate objects.\"\"\"\u001b[39;00m\n\u001b[1;32m    182\u001b[0m \u001b[38;5;28;01mfor\u001b[39;00m rate \u001b[38;5;129;01min\u001b[39;00m ratelist:\n\u001b[0;32m--> 183\u001b[0m     \u001b[38;5;28;01mif\u001b[39;00m rate \u001b[38;5;129;01min\u001b[39;00m \u001b[38;5;28;43mself\u001b[39;49m\u001b[38;5;241;43m.\u001b[39;49m\u001b[43mrates\u001b[49m:\n\u001b[1;32m    184\u001b[0m         \u001b[38;5;28;01mraise\u001b[39;00m \u001b[38;5;167;01mValueError\u001b[39;00m(\u001b[38;5;124mf\u001b[39m\u001b[38;5;124m\"\u001b[39m\u001b[38;5;124msupplied a Rate object already in the Library: \u001b[39m\u001b[38;5;132;01m{\u001b[39;00mrate\u001b[38;5;241m.\u001b[39mid\u001b[38;5;132;01m}\u001b[39;00m\u001b[38;5;124m\"\u001b[39m)\n\u001b[1;32m    185\u001b[0m     \u001b[38;5;28mself\u001b[39m\u001b[38;5;241m.\u001b[39madd_rate(rate)\n",
      "File \u001b[0;32m/opt/hostedtoolcache/Python/3.11.10/x64/lib/python3.11/site-packages/pynucastro/rates/library.py:143\u001b[0m, in \u001b[0;36mLibrary.get_rates\u001b[0;34m(self)\u001b[0m\n\u001b[1;32m    141\u001b[0m \u001b[38;5;28;01mdef\u001b[39;00m \u001b[38;5;21mget_rates\u001b[39m(\u001b[38;5;28mself\u001b[39m) \u001b[38;5;241m-\u001b[39m\u001b[38;5;241m>\u001b[39m \u001b[38;5;28mlist\u001b[39m[Rate]:\n\u001b[1;32m    142\u001b[0m \u001b[38;5;250m    \u001b[39m\u001b[38;5;124;03m\"\"\" Return a list of the rates in this library.\"\"\"\u001b[39;00m\n\u001b[0;32m--> 143\u001b[0m     \u001b[38;5;28;01mreturn\u001b[39;00m \u001b[38;5;28mlist\u001b[39m(\u001b[38;5;28;43mself\u001b[39;49m\u001b[38;5;241;43m.\u001b[39;49m\u001b[43m_rates\u001b[49m\u001b[38;5;241;43m.\u001b[39;49m\u001b[43mvalues\u001b[49m())\n",
      "\u001b[0;31mAttributeError\u001b[0m: 'NoneType' object has no attribute 'values'"
     ]
    }
   ],
   "source": [
    "tabular_lib = pyna.TabularLibrary()"
   ]
  },
  {
   "cell_type": "code",
   "execution_count": 5,
   "metadata": {
    "execution": {
     "iopub.execute_input": "2024-10-17T08:24:02.306686Z",
     "iopub.status.busy": "2024-10-17T08:24:02.306441Z",
     "iopub.status.idle": "2024-10-17T08:24:02.321354Z",
     "shell.execute_reply": "2024-10-17T08:24:02.320885Z"
    }
   },
   "outputs": [
    {
     "ename": "NameError",
     "evalue": "name 'tabular_lib' is not defined",
     "output_type": "error",
     "traceback": [
      "\u001b[0;31m---------------------------------------------------------------------------\u001b[0m",
      "\u001b[0;31mNameError\u001b[0m                                 Traceback (most recent call last)",
      "Cell \u001b[0;32mIn[5], line 1\u001b[0m\n\u001b[0;32m----> 1\u001b[0m ecsn_tabular \u001b[38;5;241m=\u001b[39m \u001b[43mtabular_lib\u001b[49m\u001b[38;5;241m.\u001b[39mlinking_nuclei([\u001b[38;5;124m\"\u001b[39m\u001b[38;5;124mf20\u001b[39m\u001b[38;5;124m\"\u001b[39m, \u001b[38;5;124m\"\u001b[39m\u001b[38;5;124mo20\u001b[39m\u001b[38;5;124m\"\u001b[39m, \u001b[38;5;124m\"\u001b[39m\u001b[38;5;124mne20\u001b[39m\u001b[38;5;124m\"\u001b[39m])\n",
      "\u001b[0;31mNameError\u001b[0m: name 'tabular_lib' is not defined"
     ]
    }
   ],
   "source": [
    "ecsn_tabular = tabular_lib.linking_nuclei([\"f20\", \"o20\", \"ne20\"])"
   ]
  },
  {
   "cell_type": "markdown",
   "metadata": {},
   "source": [
    "Let's look at the rates"
   ]
  },
  {
   "cell_type": "code",
   "execution_count": 6,
   "metadata": {
    "execution": {
     "iopub.execute_input": "2024-10-17T08:24:02.323253Z",
     "iopub.status.busy": "2024-10-17T08:24:02.322899Z",
     "iopub.status.idle": "2024-10-17T08:24:02.335824Z",
     "shell.execute_reply": "2024-10-17T08:24:02.335362Z"
    }
   },
   "outputs": [
    {
     "ename": "NameError",
     "evalue": "name 'ecsn_tabular' is not defined",
     "output_type": "error",
     "traceback": [
      "\u001b[0;31m---------------------------------------------------------------------------\u001b[0m",
      "\u001b[0;31mNameError\u001b[0m                                 Traceback (most recent call last)",
      "Cell \u001b[0;32mIn[6], line 1\u001b[0m\n\u001b[0;32m----> 1\u001b[0m tr \u001b[38;5;241m=\u001b[39m \u001b[43mecsn_tabular\u001b[49m\u001b[38;5;241m.\u001b[39mget_rates()\n\u001b[1;32m      2\u001b[0m tr\n",
      "\u001b[0;31mNameError\u001b[0m: name 'ecsn_tabular' is not defined"
     ]
    }
   ],
   "source": [
    "tr = ecsn_tabular.get_rates()\n",
    "tr"
   ]
  },
  {
   "cell_type": "markdown",
   "metadata": {},
   "source": [
    "These tables are in terms of $T$ and $\\rho Y_e$.  We can easily plot the tabulated electron capture rates just like ReacLib rates:"
   ]
  },
  {
   "cell_type": "code",
   "execution_count": 7,
   "metadata": {
    "execution": {
     "iopub.execute_input": "2024-10-17T08:24:02.337684Z",
     "iopub.status.busy": "2024-10-17T08:24:02.337310Z",
     "iopub.status.idle": "2024-10-17T08:24:02.351350Z",
     "shell.execute_reply": "2024-10-17T08:24:02.350739Z"
    }
   },
   "outputs": [
    {
     "ename": "NameError",
     "evalue": "name 'tr' is not defined",
     "output_type": "error",
     "traceback": [
      "\u001b[0;31m---------------------------------------------------------------------------\u001b[0m",
      "\u001b[0;31mNameError\u001b[0m                                 Traceback (most recent call last)",
      "Cell \u001b[0;32mIn[7], line 1\u001b[0m\n\u001b[0;32m----> 1\u001b[0m fig \u001b[38;5;241m=\u001b[39m \u001b[43mtr\u001b[49m[\u001b[38;5;241m0\u001b[39m]\u001b[38;5;241m.\u001b[39mplot(rhoYmin\u001b[38;5;241m=\u001b[39m\u001b[38;5;241m4.e8\u001b[39m, rhoYmax\u001b[38;5;241m=\u001b[39m\u001b[38;5;241m2.e9\u001b[39m, Tmin\u001b[38;5;241m=\u001b[39m\u001b[38;5;241m1.e8\u001b[39m, Tmax\u001b[38;5;241m=\u001b[39m\u001b[38;5;241m2.e9\u001b[39m,\n\u001b[1;32m      2\u001b[0m                  figsize\u001b[38;5;241m=\u001b[39m(\u001b[38;5;241m8\u001b[39m, \u001b[38;5;241m4\u001b[39m))\n",
      "\u001b[0;31mNameError\u001b[0m: name 'tr' is not defined"
     ]
    }
   ],
   "source": [
    "fig = tr[0].plot(rhoYmin=4.e8, rhoYmax=2.e9, Tmin=1.e8, Tmax=2.e9,\n",
    "                 figsize=(8, 4))"
   ]
  },
  {
   "cell_type": "markdown",
   "metadata": {},
   "source": [
    "Let's create a rate collection from just the ReacLib rates and look to see which are actually important"
   ]
  },
  {
   "cell_type": "code",
   "execution_count": 8,
   "metadata": {
    "execution": {
     "iopub.execute_input": "2024-10-17T08:24:02.353491Z",
     "iopub.status.busy": "2024-10-17T08:24:02.353129Z",
     "iopub.status.idle": "2024-10-17T08:24:02.368068Z",
     "shell.execute_reply": "2024-10-17T08:24:02.367387Z"
    }
   },
   "outputs": [
    {
     "ename": "NameError",
     "evalue": "name 'ecsn_library' is not defined",
     "output_type": "error",
     "traceback": [
      "\u001b[0;31m---------------------------------------------------------------------------\u001b[0m",
      "\u001b[0;31mNameError\u001b[0m                                 Traceback (most recent call last)",
      "Cell \u001b[0;32mIn[8], line 1\u001b[0m\n\u001b[0;32m----> 1\u001b[0m rc \u001b[38;5;241m=\u001b[39m pyna\u001b[38;5;241m.\u001b[39mRateCollection(libraries\u001b[38;5;241m=\u001b[39m[\u001b[43mecsn_library\u001b[49m])\n",
      "\u001b[0;31mNameError\u001b[0m: name 'ecsn_library' is not defined"
     ]
    }
   ],
   "source": [
    "rc = pyna.RateCollection(libraries=[ecsn_library])"
   ]
  },
  {
   "cell_type": "markdown",
   "metadata": {},
   "source": [
    "Here we'll pick thermodynamic conditions appropriate to the oxygen burning shell in a white dwarf"
   ]
  },
  {
   "cell_type": "code",
   "execution_count": 9,
   "metadata": {
    "execution": {
     "iopub.execute_input": "2024-10-17T08:24:02.370347Z",
     "iopub.status.busy": "2024-10-17T08:24:02.369768Z",
     "iopub.status.idle": "2024-10-17T08:24:02.387197Z",
     "shell.execute_reply": "2024-10-17T08:24:02.386682Z"
    }
   },
   "outputs": [
    {
     "ename": "NameError",
     "evalue": "name 'rc' is not defined",
     "output_type": "error",
     "traceback": [
      "\u001b[0;31m---------------------------------------------------------------------------\u001b[0m",
      "\u001b[0;31mNameError\u001b[0m                                 Traceback (most recent call last)",
      "Cell \u001b[0;32mIn[9], line 1\u001b[0m\n\u001b[0;32m----> 1\u001b[0m comp \u001b[38;5;241m=\u001b[39m pyna\u001b[38;5;241m.\u001b[39mComposition(\u001b[43mrc\u001b[49m\u001b[38;5;241m.\u001b[39mget_nuclei())\n\u001b[1;32m      2\u001b[0m comp\u001b[38;5;241m.\u001b[39mset_nuc(\u001b[38;5;124m\"\u001b[39m\u001b[38;5;124mo16\u001b[39m\u001b[38;5;124m\"\u001b[39m, \u001b[38;5;241m0.5\u001b[39m)\n\u001b[1;32m      3\u001b[0m comp\u001b[38;5;241m.\u001b[39mset_nuc(\u001b[38;5;124m\"\u001b[39m\u001b[38;5;124mne20\u001b[39m\u001b[38;5;124m\"\u001b[39m, \u001b[38;5;241m0.3\u001b[39m)\n",
      "\u001b[0;31mNameError\u001b[0m: name 'rc' is not defined"
     ]
    }
   ],
   "source": [
    "comp = pyna.Composition(rc.get_nuclei())\n",
    "comp.set_nuc(\"o16\", 0.5)\n",
    "comp.set_nuc(\"ne20\", 0.3)\n",
    "comp.set_nuc(\"mg24\", 0.1)\n",
    "comp.set_nuc(\"o20\", 1.e-5)\n",
    "comp.set_nuc(\"f20\", 1.e-5)\n",
    "comp.set_nuc(\"p\", 1.e-5)\n",
    "comp.set_nuc(\"he4\", 1.e-2)\n",
    "comp.set_nuc(\"al27\", 1.e-2)\n",
    "comp.set_nuc(\"si28\", 1.e-2)\n",
    "comp.set_nuc(\"s32\", 1.e-2)\n",
    "comp.set_nuc(\"p31\", 1.e-2)\n",
    "comp.normalize()"
   ]
  },
  {
   "cell_type": "code",
   "execution_count": 10,
   "metadata": {
    "execution": {
     "iopub.execute_input": "2024-10-17T08:24:02.389269Z",
     "iopub.status.busy": "2024-10-17T08:24:02.388895Z",
     "iopub.status.idle": "2024-10-17T08:24:02.404606Z",
     "shell.execute_reply": "2024-10-17T08:24:02.404062Z"
    }
   },
   "outputs": [
    {
     "ename": "NameError",
     "evalue": "name 'rc' is not defined",
     "output_type": "error",
     "traceback": [
      "\u001b[0;31m---------------------------------------------------------------------------\u001b[0m",
      "\u001b[0;31mNameError\u001b[0m                                 Traceback (most recent call last)",
      "Cell \u001b[0;32mIn[10], line 1\u001b[0m\n\u001b[0;32m----> 1\u001b[0m fig \u001b[38;5;241m=\u001b[39m \u001b[43mrc\u001b[49m\u001b[38;5;241m.\u001b[39mplot(rho\u001b[38;5;241m=\u001b[39m\u001b[38;5;241m7.e9\u001b[39m, T\u001b[38;5;241m=\u001b[39m\u001b[38;5;241m1.e9\u001b[39m, comp\u001b[38;5;241m=\u001b[39mcomp, ydot_cutoff_value\u001b[38;5;241m=\u001b[39m\u001b[38;5;241m1.e-20\u001b[39m)\n",
      "\u001b[0;31mNameError\u001b[0m: name 'rc' is not defined"
     ]
    }
   ],
   "source": [
    "fig = rc.plot(rho=7.e9, T=1.e9, comp=comp, ydot_cutoff_value=1.e-20)"
   ]
  },
  {
   "cell_type": "markdown",
   "metadata": {},
   "source": [
    "Note, this rate collection already includes some weak rates from ReacLib -- we want to remove those.\n",
    "\n",
    "We'll also take the opportunity to remove any rates that are not important, by looking for a $|\\dot{Y}| > 10^{-20}~s^{-1}$."
   ]
  },
  {
   "cell_type": "code",
   "execution_count": 11,
   "metadata": {
    "execution": {
     "iopub.execute_input": "2024-10-17T08:24:02.406639Z",
     "iopub.status.busy": "2024-10-17T08:24:02.406429Z",
     "iopub.status.idle": "2024-10-17T08:24:02.424829Z",
     "shell.execute_reply": "2024-10-17T08:24:02.424312Z"
    }
   },
   "outputs": [
    {
     "ename": "NameError",
     "evalue": "name 'rc' is not defined",
     "output_type": "error",
     "traceback": [
      "\u001b[0;31m---------------------------------------------------------------------------\u001b[0m",
      "\u001b[0;31mNameError\u001b[0m                                 Traceback (most recent call last)",
      "Cell \u001b[0;32mIn[11], line 2\u001b[0m\n\u001b[1;32m      1\u001b[0m new_rate_list \u001b[38;5;241m=\u001b[39m []\n\u001b[0;32m----> 2\u001b[0m ydots \u001b[38;5;241m=\u001b[39m \u001b[43mrc\u001b[49m\u001b[38;5;241m.\u001b[39mevaluate_rates(rho\u001b[38;5;241m=\u001b[39m\u001b[38;5;241m7.e9\u001b[39m, T\u001b[38;5;241m=\u001b[39m\u001b[38;5;241m1.e9\u001b[39m, composition\u001b[38;5;241m=\u001b[39mcomp)\n\u001b[1;32m      3\u001b[0m \u001b[38;5;28;01mfor\u001b[39;00m rate \u001b[38;5;129;01min\u001b[39;00m rc\u001b[38;5;241m.\u001b[39mrates:\n\u001b[1;32m      4\u001b[0m     \u001b[38;5;28;01mif\u001b[39;00m \u001b[38;5;28mabs\u001b[39m(ydots[rate]) \u001b[38;5;241m>\u001b[39m\u001b[38;5;241m=\u001b[39m \u001b[38;5;241m1.e-20\u001b[39m \u001b[38;5;129;01mand\u001b[39;00m \u001b[38;5;129;01mnot\u001b[39;00m rate\u001b[38;5;241m.\u001b[39mweak:\n",
      "\u001b[0;31mNameError\u001b[0m: name 'rc' is not defined"
     ]
    }
   ],
   "source": [
    "new_rate_list = []\n",
    "ydots = rc.evaluate_rates(rho=7.e9, T=1.e9, composition=comp)\n",
    "for rate in rc.rates:\n",
    "    if abs(ydots[rate]) >= 1.e-20 and not rate.weak:\n",
    "        new_rate_list.append(rate)        "
   ]
  },
  {
   "cell_type": "markdown",
   "metadata": {},
   "source": [
    "Now let's add the tabular rates to this pruned down rate list"
   ]
  },
  {
   "cell_type": "code",
   "execution_count": 12,
   "metadata": {
    "execution": {
     "iopub.execute_input": "2024-10-17T08:24:02.426993Z",
     "iopub.status.busy": "2024-10-17T08:24:02.426612Z",
     "iopub.status.idle": "2024-10-17T08:24:02.442700Z",
     "shell.execute_reply": "2024-10-17T08:24:02.442144Z"
    }
   },
   "outputs": [
    {
     "ename": "NameError",
     "evalue": "name 'tr' is not defined",
     "output_type": "error",
     "traceback": [
      "\u001b[0;31m---------------------------------------------------------------------------\u001b[0m",
      "\u001b[0;31mNameError\u001b[0m                                 Traceback (most recent call last)",
      "Cell \u001b[0;32mIn[12], line 1\u001b[0m\n\u001b[0;32m----> 1\u001b[0m new_rate_list \u001b[38;5;241m+\u001b[39m\u001b[38;5;241m=\u001b[39m \u001b[43mtr\u001b[49m\n",
      "\u001b[0;31mNameError\u001b[0m: name 'tr' is not defined"
     ]
    }
   ],
   "source": [
    "new_rate_list += tr"
   ]
  },
  {
   "cell_type": "markdown",
   "metadata": {},
   "source": [
    "Finally, we'll create a new rate collection by combining this new list of rates with the list of tables:"
   ]
  },
  {
   "cell_type": "code",
   "execution_count": 13,
   "metadata": {
    "execution": {
     "iopub.execute_input": "2024-10-17T08:24:02.445474Z",
     "iopub.status.busy": "2024-10-17T08:24:02.444925Z",
     "iopub.status.idle": "2024-10-17T08:24:02.561087Z",
     "shell.execute_reply": "2024-10-17T08:24:02.560551Z"
    }
   },
   "outputs": [
    {
     "ename": "AttributeError",
     "evalue": "'NoneType' object has no attribute 'values'",
     "output_type": "error",
     "traceback": [
      "\u001b[0;31m---------------------------------------------------------------------------\u001b[0m",
      "\u001b[0;31mAttributeError\u001b[0m                            Traceback (most recent call last)",
      "Cell \u001b[0;32mIn[13], line 1\u001b[0m\n\u001b[0;32m----> 1\u001b[0m rc_new \u001b[38;5;241m=\u001b[39m \u001b[43mpyna\u001b[49m\u001b[38;5;241;43m.\u001b[39;49m\u001b[43mRateCollection\u001b[49m\u001b[43m(\u001b[49m\u001b[43mrates\u001b[49m\u001b[38;5;241;43m=\u001b[39;49m\u001b[43mnew_rate_list\u001b[49m\u001b[43m)\u001b[49m\n",
      "File \u001b[0;32m/opt/hostedtoolcache/Python/3.11.10/x64/lib/python3.11/site-packages/pynucastro/networks/rate_collection.py:477\u001b[0m, in \u001b[0;36mRateCollection.__init__\u001b[0;34m(self, rate_files, libraries, rates, inert_nuclei, symmetric_screening, do_screening)\u001b[0m\n\u001b[1;32m    474\u001b[0m     \u001b[38;5;28;01mfor\u001b[39;00m lib \u001b[38;5;129;01min\u001b[39;00m libraries:\n\u001b[1;32m    475\u001b[0m         combined_library \u001b[38;5;241m+\u001b[39m\u001b[38;5;241m=\u001b[39m lib\n\u001b[0;32m--> 477\u001b[0m \u001b[38;5;28mself\u001b[39m\u001b[38;5;241m.\u001b[39mrates \u001b[38;5;241m=\u001b[39m \u001b[38;5;28mself\u001b[39m\u001b[38;5;241m.\u001b[39mrates \u001b[38;5;241m+\u001b[39m \u001b[43mcombined_library\u001b[49m\u001b[38;5;241;43m.\u001b[39;49m\u001b[43mget_rates\u001b[49m\u001b[43m(\u001b[49m\u001b[43m)\u001b[49m\n\u001b[1;32m    479\u001b[0m \u001b[38;5;28mself\u001b[39m\u001b[38;5;241m.\u001b[39m_build_collection()\n",
      "File \u001b[0;32m/opt/hostedtoolcache/Python/3.11.10/x64/lib/python3.11/site-packages/pynucastro/rates/library.py:143\u001b[0m, in \u001b[0;36mLibrary.get_rates\u001b[0;34m(self)\u001b[0m\n\u001b[1;32m    141\u001b[0m \u001b[38;5;28;01mdef\u001b[39;00m \u001b[38;5;21mget_rates\u001b[39m(\u001b[38;5;28mself\u001b[39m) \u001b[38;5;241m-\u001b[39m\u001b[38;5;241m>\u001b[39m \u001b[38;5;28mlist\u001b[39m[Rate]:\n\u001b[1;32m    142\u001b[0m \u001b[38;5;250m    \u001b[39m\u001b[38;5;124;03m\"\"\" Return a list of the rates in this library.\"\"\"\u001b[39;00m\n\u001b[0;32m--> 143\u001b[0m     \u001b[38;5;28;01mreturn\u001b[39;00m \u001b[38;5;28mlist\u001b[39m(\u001b[38;5;28;43mself\u001b[39;49m\u001b[38;5;241;43m.\u001b[39;49m\u001b[43m_rates\u001b[49m\u001b[38;5;241;43m.\u001b[39;49m\u001b[43mvalues\u001b[49m())\n",
      "\u001b[0;31mAttributeError\u001b[0m: 'NoneType' object has no attribute 'values'"
     ]
    }
   ],
   "source": [
    "rc_new = pyna.RateCollection(rates=new_rate_list)"
   ]
  },
  {
   "cell_type": "code",
   "execution_count": 14,
   "metadata": {
    "execution": {
     "iopub.execute_input": "2024-10-17T08:24:02.563156Z",
     "iopub.status.busy": "2024-10-17T08:24:02.562718Z",
     "iopub.status.idle": "2024-10-17T08:24:02.581009Z",
     "shell.execute_reply": "2024-10-17T08:24:02.580387Z"
    }
   },
   "outputs": [
    {
     "ename": "NameError",
     "evalue": "name 'rc_new' is not defined",
     "output_type": "error",
     "traceback": [
      "\u001b[0;31m---------------------------------------------------------------------------\u001b[0m",
      "\u001b[0;31mNameError\u001b[0m                                 Traceback (most recent call last)",
      "Cell \u001b[0;32mIn[14], line 1\u001b[0m\n\u001b[0;32m----> 1\u001b[0m fig \u001b[38;5;241m=\u001b[39m \u001b[43mrc_new\u001b[49m\u001b[38;5;241m.\u001b[39mplot(rho\u001b[38;5;241m=\u001b[39m\u001b[38;5;241m7.e9\u001b[39m, T\u001b[38;5;241m=\u001b[39m\u001b[38;5;241m1.e9\u001b[39m, comp\u001b[38;5;241m=\u001b[39mcomp, curved_edges\u001b[38;5;241m=\u001b[39m\u001b[38;5;28;01mTrue\u001b[39;00m, rotated\u001b[38;5;241m=\u001b[39m\u001b[38;5;28;01mTrue\u001b[39;00m)\n",
      "\u001b[0;31mNameError\u001b[0m: name 'rc_new' is not defined"
     ]
    }
   ],
   "source": [
    "fig = rc_new.plot(rho=7.e9, T=1.e9, comp=comp, curved_edges=True, rotated=True)"
   ]
  },
  {
   "cell_type": "markdown",
   "metadata": {},
   "source": [
    "We can see the values of the rates at our thermodynamic conditions easily:"
   ]
  },
  {
   "cell_type": "code",
   "execution_count": 15,
   "metadata": {
    "execution": {
     "iopub.execute_input": "2024-10-17T08:24:02.583296Z",
     "iopub.status.busy": "2024-10-17T08:24:02.582798Z",
     "iopub.status.idle": "2024-10-17T08:24:02.602679Z",
     "shell.execute_reply": "2024-10-17T08:24:02.601869Z"
    }
   },
   "outputs": [
    {
     "ename": "NameError",
     "evalue": "name 'rc_new' is not defined",
     "output_type": "error",
     "traceback": [
      "\u001b[0;31m---------------------------------------------------------------------------\u001b[0m",
      "\u001b[0;31mNameError\u001b[0m                                 Traceback (most recent call last)",
      "Cell \u001b[0;32mIn[15], line 1\u001b[0m\n\u001b[0;32m----> 1\u001b[0m \u001b[43mrc_new\u001b[49m\u001b[38;5;241m.\u001b[39mevaluate_rates(rho\u001b[38;5;241m=\u001b[39m\u001b[38;5;241m7.e9\u001b[39m, T\u001b[38;5;241m=\u001b[39m\u001b[38;5;241m1.e9\u001b[39m, composition\u001b[38;5;241m=\u001b[39mcomp)\n",
      "\u001b[0;31mNameError\u001b[0m: name 'rc_new' is not defined"
     ]
    }
   ],
   "source": [
    "rc_new.evaluate_rates(rho=7.e9, T=1.e9, composition=comp)"
   ]
  },
  {
   "cell_type": "markdown",
   "metadata": {},
   "source": [
    "Additionally, we can see the specific energy generation rate for these conditions"
   ]
  },
  {
   "cell_type": "code",
   "execution_count": 16,
   "metadata": {
    "execution": {
     "iopub.execute_input": "2024-10-17T08:24:02.605154Z",
     "iopub.status.busy": "2024-10-17T08:24:02.604798Z",
     "iopub.status.idle": "2024-10-17T08:24:02.627909Z",
     "shell.execute_reply": "2024-10-17T08:24:02.624982Z"
    }
   },
   "outputs": [
    {
     "ename": "NameError",
     "evalue": "name 'rc_new' is not defined",
     "output_type": "error",
     "traceback": [
      "\u001b[0;31m---------------------------------------------------------------------------\u001b[0m",
      "\u001b[0;31mNameError\u001b[0m                                 Traceback (most recent call last)",
      "Cell \u001b[0;32mIn[16], line 1\u001b[0m\n\u001b[0;32m----> 1\u001b[0m \u001b[43mrc_new\u001b[49m\u001b[38;5;241m.\u001b[39mevaluate_energy_generation(rho\u001b[38;5;241m=\u001b[39m\u001b[38;5;241m7.e9\u001b[39m, T\u001b[38;5;241m=\u001b[39m\u001b[38;5;241m1.e9\u001b[39m, composition\u001b[38;5;241m=\u001b[39mcomp)\n",
      "\u001b[0;31mNameError\u001b[0m: name 'rc_new' is not defined"
     ]
    }
   ],
   "source": [
    "rc_new.evaluate_energy_generation(rho=7.e9, T=1.e9, composition=comp)"
   ]
  }
 ],
 "metadata": {
  "kernelspec": {
   "display_name": "Python 3 (ipykernel)",
   "language": "python",
   "name": "python3"
  },
  "language_info": {
   "codemirror_mode": {
    "name": "ipython",
    "version": 3
   },
   "file_extension": ".py",
   "mimetype": "text/x-python",
   "name": "python",
   "nbconvert_exporter": "python",
   "pygments_lexer": "ipython3",
   "version": "3.11.10"
  }
 },
 "nbformat": 4,
 "nbformat_minor": 4
}
