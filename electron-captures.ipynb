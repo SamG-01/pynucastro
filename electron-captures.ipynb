{
 "cells": [
  {
   "cell_type": "markdown",
   "metadata": {},
   "source": [
    "# Combining ReacLib Rates with Electron Capture Tables"
   ]
  },
  {
   "cell_type": "markdown",
   "metadata": {},
   "source": [
    "Here's an example of using tabulated weak rates from <cite data-cite-t=\"suzuki:2016\">Suzuki et al. (2016)</cite> together with rates from the ReacLib database.\n",
    "\n",
    "We'll build a network suitable for e-capture supernovae."
   ]
  },
  {
   "cell_type": "code",
   "execution_count": 1,
   "metadata": {
    "execution": {
     "iopub.execute_input": "2024-10-17T09:02:12.474302Z",
     "iopub.status.busy": "2024-10-17T09:02:12.474124Z",
     "iopub.status.idle": "2024-10-17T09:02:13.880043Z",
     "shell.execute_reply": "2024-10-17T09:02:13.879396Z"
    }
   },
   "outputs": [],
   "source": [
    "import pynucastro as pyna"
   ]
  },
  {
   "cell_type": "markdown",
   "metadata": {},
   "source": [
    "First create a library from ReacLib using a set of nuclei."
   ]
  },
  {
   "cell_type": "code",
   "execution_count": 2,
   "metadata": {
    "execution": {
     "iopub.execute_input": "2024-10-17T09:02:13.882307Z",
     "iopub.status.busy": "2024-10-17T09:02:13.882006Z",
     "iopub.status.idle": "2024-10-17T09:02:17.811473Z",
     "shell.execute_reply": "2024-10-17T09:02:17.810758Z"
    }
   },
   "outputs": [],
   "source": [
    "reaclib_library = pyna.ReacLibLibrary()\n",
    "\n",
    "all_nuclei = [\"p\", \"he4\",\n",
    "              \"ne20\", \"o20\", \"f20\",\n",
    "              \"mg24\", \"al27\", \"o16\",\n",
    "              \"si28\", \"s32\", \"p31\"]\n",
    "ecsn_library = reaclib_library.linking_nuclei(all_nuclei,with_reverse=True)"
   ]
  },
  {
   "cell_type": "markdown",
   "metadata": {},
   "source": [
    "Here are the rates it chose"
   ]
  },
  {
   "cell_type": "code",
   "execution_count": 3,
   "metadata": {
    "execution": {
     "iopub.execute_input": "2024-10-17T09:02:17.813539Z",
     "iopub.status.busy": "2024-10-17T09:02:17.813339Z",
     "iopub.status.idle": "2024-10-17T09:02:17.817241Z",
     "shell.execute_reply": "2024-10-17T09:02:17.816677Z"
    }
   },
   "outputs": [
    {
     "name": "stdout",
     "output_type": "stream",
     "text": [
      "O16 + He4 ⟶ Ne20 + 𝛾           [Q =   4.73 MeV] (O16 + He4 --> Ne20 <co10_reaclib__>)\n",
      "O16 + O16 ⟶ He4 + Si28         [Q =   9.59 MeV] (O16 + O16 --> He4 + Si28 <cf88_reaclib__>)\n",
      "O16 + O16 ⟶ p + P31            [Q =   7.68 MeV] (O16 + O16 --> p + P31 <cf88_reaclib__>)\n",
      "O20 ⟶ F20 + e⁻ + 𝜈             [Q =   3.81 MeV] (O20 --> F20 <wc12_reaclib_weak_>)\n",
      "F20 ⟶ Ne20 + e⁻ + 𝜈            [Q =   7.02 MeV] (F20 --> Ne20 <wc12_reaclib_weak_>)\n",
      "Ne20 + He4 ⟶ Mg24 + 𝛾          [Q =   9.32 MeV] (Ne20 + He4 --> Mg24 <il10_reaclib__>)\n",
      "Mg24 + He4 ⟶ Si28 + 𝛾          [Q =   9.98 MeV] (Mg24 + He4 --> Si28 <st08_reaclib__>)\n",
      "Al27 + p ⟶ He4 + Mg24          [Q =   1.60 MeV] (Al27 + p --> He4 + Mg24 <il10_reaclib__>)\n",
      "Al27 + p ⟶ Si28 + 𝛾            [Q =  11.59 MeV] (Al27 + p --> Si28 <il10_reaclib__>)\n",
      "Al27 + He4 ⟶ P31 + 𝛾           [Q =   9.67 MeV] (Al27 + He4 --> P31 <ths8_reaclib__>)\n",
      "Si28 + He4 ⟶ S32 + 𝛾           [Q =   6.95 MeV] (Si28 + He4 --> S32 <ths8_reaclib__>)\n",
      "P31 + p ⟶ He4 + Si28           [Q =   1.92 MeV] (P31 + p --> He4 + Si28 <il10_reaclib__>)\n",
      "P31 + p ⟶ S32 + 𝛾              [Q =   8.86 MeV] (P31 + p --> S32 <il10_reaclib__>)\n",
      "Ne20 ⟶ He4 + O16               [Q =  -4.73 MeV] (Ne20 --> He4 + O16 <co10_reaclib__reverse>)\n",
      "Mg24 + He4 ⟶ p + Al27          [Q =  -1.60 MeV] (Mg24 + He4 --> p + Al27 <il10_reaclib__reverse>)\n",
      "Mg24 ⟶ He4 + Ne20              [Q =  -9.32 MeV] (Mg24 --> He4 + Ne20 <il10_reaclib__reverse>)\n",
      "Si28 + He4 ⟶ O16 + O16         [Q =  -9.59 MeV] (Si28 + He4 --> O16 + O16 <cf88_reaclib__reverse>)\n",
      "Si28 + He4 ⟶ p + P31           [Q =  -1.92 MeV] (Si28 + He4 --> p + P31 <il10_reaclib__reverse>)\n",
      "Si28 ⟶ He4 + Mg24              [Q =  -9.98 MeV] (Si28 --> He4 + Mg24 <st08_reaclib__reverse>)\n",
      "Si28 ⟶ p + Al27                [Q = -11.59 MeV] (Si28 --> p + Al27 <il10_reaclib__reverse>)\n",
      "P31 + p ⟶ O16 + O16            [Q =  -7.68 MeV] (P31 + p --> O16 + O16 <cf88_reaclib__reverse>)\n",
      "P31 ⟶ He4 + Al27               [Q =  -9.67 MeV] (P31 --> He4 + Al27 <ths8_reaclib__reverse>)\n",
      "S32 ⟶ He4 + Si28               [Q =  -6.95 MeV] (S32 --> He4 + Si28 <ths8_reaclib__reverse>)\n",
      "S32 ⟶ p + P31                  [Q =  -8.86 MeV] (S32 --> p + P31 <il10_reaclib__reverse>)\n"
     ]
    }
   ],
   "source": [
    "print(ecsn_library)"
   ]
  },
  {
   "cell_type": "markdown",
   "metadata": {},
   "source": [
    "Now let's specify the weak rates we want from <cite data-cite-t=\"suzuki:2016\">Suzuki et al.</cite> -- these tables are included with pynucastro:"
   ]
  },
  {
   "cell_type": "code",
   "execution_count": 4,
   "metadata": {
    "execution": {
     "iopub.execute_input": "2024-10-17T09:02:17.819081Z",
     "iopub.status.busy": "2024-10-17T09:02:17.818730Z",
     "iopub.status.idle": "2024-10-17T09:02:18.306550Z",
     "shell.execute_reply": "2024-10-17T09:02:18.305891Z"
    }
   },
   "outputs": [
    {
     "ename": "AttributeError",
     "evalue": "'TabularLibrary' object has no attribute 'source'",
     "output_type": "error",
     "traceback": [
      "\u001b[0;31m---------------------------------------------------------------------------\u001b[0m",
      "\u001b[0;31mAttributeError\u001b[0m                            Traceback (most recent call last)",
      "Cell \u001b[0;32mIn[4], line 1\u001b[0m\n\u001b[0;32m----> 1\u001b[0m tabular_lib \u001b[38;5;241m=\u001b[39m \u001b[43mpyna\u001b[49m\u001b[38;5;241;43m.\u001b[39;49m\u001b[43mTabularLibrary\u001b[49m\u001b[43m(\u001b[49m\u001b[43m)\u001b[49m\n",
      "File \u001b[0;32m/opt/hostedtoolcache/Python/3.11.10/x64/lib/python3.11/site-packages/pynucastro/rates/library.py:724\u001b[0m, in \u001b[0;36mTabularLibrary.__init__\u001b[0;34m(self, source)\u001b[0m\n\u001b[1;32m    722\u001b[0m     \u001b[38;5;28;01mfor\u001b[39;00m f \u001b[38;5;129;01min\u001b[39;00m \u001b[38;5;28msorted\u001b[39m(filenames):\n\u001b[1;32m    723\u001b[0m         \u001b[38;5;28;01mif\u001b[39;00m f\u001b[38;5;241m.\u001b[39mendswith(\u001b[38;5;124m\"\u001b[39m\u001b[38;5;124m-toki\u001b[39m\u001b[38;5;124m\"\u001b[39m):\n\u001b[0;32m--> 724\u001b[0m             trates\u001b[38;5;241m.\u001b[39mappend(load_rate(f, source\u001b[38;5;241m=\u001b[39m\u001b[38;5;28;43mself\u001b[39;49m\u001b[38;5;241;43m.\u001b[39;49m\u001b[43msource\u001b[49m))\n\u001b[1;32m    726\u001b[0m Library\u001b[38;5;241m.\u001b[39m\u001b[38;5;21m__init__\u001b[39m(\u001b[38;5;28mself\u001b[39m, rates\u001b[38;5;241m=\u001b[39mtrates)\n",
      "\u001b[0;31mAttributeError\u001b[0m: 'TabularLibrary' object has no attribute 'source'"
     ]
    }
   ],
   "source": [
    "tabular_lib = pyna.TabularLibrary()"
   ]
  },
  {
   "cell_type": "code",
   "execution_count": 5,
   "metadata": {
    "execution": {
     "iopub.execute_input": "2024-10-17T09:02:18.308364Z",
     "iopub.status.busy": "2024-10-17T09:02:18.308170Z",
     "iopub.status.idle": "2024-10-17T09:02:18.321751Z",
     "shell.execute_reply": "2024-10-17T09:02:18.321289Z"
    }
   },
   "outputs": [
    {
     "ename": "NameError",
     "evalue": "name 'tabular_lib' is not defined",
     "output_type": "error",
     "traceback": [
      "\u001b[0;31m---------------------------------------------------------------------------\u001b[0m",
      "\u001b[0;31mNameError\u001b[0m                                 Traceback (most recent call last)",
      "Cell \u001b[0;32mIn[5], line 1\u001b[0m\n\u001b[0;32m----> 1\u001b[0m ecsn_tabular \u001b[38;5;241m=\u001b[39m \u001b[43mtabular_lib\u001b[49m\u001b[38;5;241m.\u001b[39mlinking_nuclei([\u001b[38;5;124m\"\u001b[39m\u001b[38;5;124mf20\u001b[39m\u001b[38;5;124m\"\u001b[39m, \u001b[38;5;124m\"\u001b[39m\u001b[38;5;124mo20\u001b[39m\u001b[38;5;124m\"\u001b[39m, \u001b[38;5;124m\"\u001b[39m\u001b[38;5;124mne20\u001b[39m\u001b[38;5;124m\"\u001b[39m])\n",
      "\u001b[0;31mNameError\u001b[0m: name 'tabular_lib' is not defined"
     ]
    }
   ],
   "source": [
    "ecsn_tabular = tabular_lib.linking_nuclei([\"f20\", \"o20\", \"ne20\"])"
   ]
  },
  {
   "cell_type": "markdown",
   "metadata": {},
   "source": [
    "Let's look at the rates"
   ]
  },
  {
   "cell_type": "code",
   "execution_count": 6,
   "metadata": {
    "execution": {
     "iopub.execute_input": "2024-10-17T09:02:18.323507Z",
     "iopub.status.busy": "2024-10-17T09:02:18.323198Z",
     "iopub.status.idle": "2024-10-17T09:02:18.335231Z",
     "shell.execute_reply": "2024-10-17T09:02:18.334658Z"
    }
   },
   "outputs": [
    {
     "ename": "NameError",
     "evalue": "name 'ecsn_tabular' is not defined",
     "output_type": "error",
     "traceback": [
      "\u001b[0;31m---------------------------------------------------------------------------\u001b[0m",
      "\u001b[0;31mNameError\u001b[0m                                 Traceback (most recent call last)",
      "Cell \u001b[0;32mIn[6], line 1\u001b[0m\n\u001b[0;32m----> 1\u001b[0m tr \u001b[38;5;241m=\u001b[39m \u001b[43mecsn_tabular\u001b[49m\u001b[38;5;241m.\u001b[39mget_rates()\n\u001b[1;32m      2\u001b[0m tr\n",
      "\u001b[0;31mNameError\u001b[0m: name 'ecsn_tabular' is not defined"
     ]
    }
   ],
   "source": [
    "tr = ecsn_tabular.get_rates()\n",
    "tr"
   ]
  },
  {
   "cell_type": "markdown",
   "metadata": {},
   "source": [
    "These tables are in terms of $T$ and $\\rho Y_e$.  We can easily plot the tabulated electron capture rates just like ReacLib rates:"
   ]
  },
  {
   "cell_type": "code",
   "execution_count": 7,
   "metadata": {
    "execution": {
     "iopub.execute_input": "2024-10-17T09:02:18.337059Z",
     "iopub.status.busy": "2024-10-17T09:02:18.336728Z",
     "iopub.status.idle": "2024-10-17T09:02:18.349383Z",
     "shell.execute_reply": "2024-10-17T09:02:18.348772Z"
    }
   },
   "outputs": [
    {
     "ename": "NameError",
     "evalue": "name 'tr' is not defined",
     "output_type": "error",
     "traceback": [
      "\u001b[0;31m---------------------------------------------------------------------------\u001b[0m",
      "\u001b[0;31mNameError\u001b[0m                                 Traceback (most recent call last)",
      "Cell \u001b[0;32mIn[7], line 1\u001b[0m\n\u001b[0;32m----> 1\u001b[0m fig \u001b[38;5;241m=\u001b[39m \u001b[43mtr\u001b[49m[\u001b[38;5;241m0\u001b[39m]\u001b[38;5;241m.\u001b[39mplot(rhoYmin\u001b[38;5;241m=\u001b[39m\u001b[38;5;241m4.e8\u001b[39m, rhoYmax\u001b[38;5;241m=\u001b[39m\u001b[38;5;241m2.e9\u001b[39m, Tmin\u001b[38;5;241m=\u001b[39m\u001b[38;5;241m1.e8\u001b[39m, Tmax\u001b[38;5;241m=\u001b[39m\u001b[38;5;241m2.e9\u001b[39m,\n\u001b[1;32m      2\u001b[0m                  figsize\u001b[38;5;241m=\u001b[39m(\u001b[38;5;241m8\u001b[39m, \u001b[38;5;241m4\u001b[39m))\n",
      "\u001b[0;31mNameError\u001b[0m: name 'tr' is not defined"
     ]
    }
   ],
   "source": [
    "fig = tr[0].plot(rhoYmin=4.e8, rhoYmax=2.e9, Tmin=1.e8, Tmax=2.e9,\n",
    "                 figsize=(8, 4))"
   ]
  },
  {
   "cell_type": "markdown",
   "metadata": {},
   "source": [
    "Let's create a rate collection from just the ReacLib rates and look to see which are actually important"
   ]
  },
  {
   "cell_type": "code",
   "execution_count": 8,
   "metadata": {
    "execution": {
     "iopub.execute_input": "2024-10-17T09:02:18.351431Z",
     "iopub.status.busy": "2024-10-17T09:02:18.351080Z",
     "iopub.status.idle": "2024-10-17T09:02:18.451563Z",
     "shell.execute_reply": "2024-10-17T09:02:18.450937Z"
    }
   },
   "outputs": [
    {
     "ename": "TypeError",
     "evalue": "argument of type 'NoneType' is not iterable",
     "output_type": "error",
     "traceback": [
      "\u001b[0;31m---------------------------------------------------------------------------\u001b[0m",
      "\u001b[0;31mTypeError\u001b[0m                                 Traceback (most recent call last)",
      "Cell \u001b[0;32mIn[8], line 1\u001b[0m\n\u001b[0;32m----> 1\u001b[0m rc \u001b[38;5;241m=\u001b[39m \u001b[43mpyna\u001b[49m\u001b[38;5;241;43m.\u001b[39;49m\u001b[43mRateCollection\u001b[49m\u001b[43m(\u001b[49m\u001b[43mlibraries\u001b[49m\u001b[38;5;241;43m=\u001b[39;49m\u001b[43m[\u001b[49m\u001b[43mecsn_library\u001b[49m\u001b[43m]\u001b[49m\u001b[43m)\u001b[49m\n",
      "File \u001b[0;32m/opt/hostedtoolcache/Python/3.11.10/x64/lib/python3.11/site-packages/pynucastro/networks/rate_collection.py:475\u001b[0m, in \u001b[0;36mRateCollection.__init__\u001b[0;34m(self, rate_files, libraries, rates, inert_nuclei, symmetric_screening, do_screening)\u001b[0m\n\u001b[1;32m    473\u001b[0m             \u001b[38;5;28;01mraise\u001b[39;00m \u001b[38;5;167;01mValueError\u001b[39;00m(\u001b[38;5;124m'\u001b[39m\u001b[38;5;124mExpected Library object or list of Library objects passed as the libraries argument.\u001b[39m\u001b[38;5;124m'\u001b[39m)\n\u001b[1;32m    474\u001b[0m     \u001b[38;5;28;01mfor\u001b[39;00m lib \u001b[38;5;129;01min\u001b[39;00m libraries:\n\u001b[0;32m--> 475\u001b[0m         \u001b[43mcombined_library\u001b[49m\u001b[43m \u001b[49m\u001b[38;5;241;43m+\u001b[39;49m\u001b[38;5;241;43m=\u001b[39;49m\u001b[43m \u001b[49m\u001b[43mlib\u001b[49m\n\u001b[1;32m    477\u001b[0m \u001b[38;5;28mself\u001b[39m\u001b[38;5;241m.\u001b[39mrates \u001b[38;5;241m=\u001b[39m \u001b[38;5;28mself\u001b[39m\u001b[38;5;241m.\u001b[39mrates \u001b[38;5;241m+\u001b[39m combined_library\u001b[38;5;241m.\u001b[39mget_rates()\n\u001b[1;32m    479\u001b[0m \u001b[38;5;28mself\u001b[39m\u001b[38;5;241m.\u001b[39m_build_collection()\n",
      "File \u001b[0;32m/opt/hostedtoolcache/Python/3.11.10/x64/lib/python3.11/site-packages/pynucastro/rates/library.py:360\u001b[0m, in \u001b[0;36mLibrary.__add__\u001b[0;34m(self, other)\u001b[0m\n\u001b[1;32m    358\u001b[0m new_rates \u001b[38;5;241m=\u001b[39m \u001b[38;5;28mself\u001b[39m\u001b[38;5;241m.\u001b[39m_rates\n\u001b[1;32m    359\u001b[0m \u001b[38;5;28;01mfor\u001b[39;00m rid, r \u001b[38;5;129;01min\u001b[39;00m other\u001b[38;5;241m.\u001b[39m_rates\u001b[38;5;241m.\u001b[39mitems():\n\u001b[0;32m--> 360\u001b[0m     \u001b[38;5;28;01mif\u001b[39;00m \u001b[43mrid\u001b[49m\u001b[43m \u001b[49m\u001b[38;5;129;43;01min\u001b[39;49;00m\u001b[43m \u001b[49m\u001b[43mnew_rates\u001b[49m:\n\u001b[1;32m    361\u001b[0m         \u001b[38;5;28;01mif\u001b[39;00m r \u001b[38;5;241m!=\u001b[39m new_rates[rid]:\n\u001b[1;32m    362\u001b[0m             \u001b[38;5;28;01mraise\u001b[39;00m \u001b[38;5;167;01mValueError\u001b[39;00m(\u001b[38;5;124mf\u001b[39m\u001b[38;5;124m'\u001b[39m\u001b[38;5;124mrate \u001b[39m\u001b[38;5;132;01m{\u001b[39;00mr\u001b[38;5;132;01m}\u001b[39;00m\u001b[38;5;124m defined differently in libraries \u001b[39m\u001b[38;5;132;01m{\u001b[39;00m\u001b[38;5;28mself\u001b[39m\u001b[38;5;241m.\u001b[39m_library_file\u001b[38;5;132;01m}\u001b[39;00m\u001b[38;5;124m and \u001b[39m\u001b[38;5;132;01m{\u001b[39;00mother\u001b[38;5;241m.\u001b[39m_library_file\u001b[38;5;132;01m}\u001b[39;00m\u001b[38;5;124m'\u001b[39m)\n",
      "\u001b[0;31mTypeError\u001b[0m: argument of type 'NoneType' is not iterable"
     ]
    }
   ],
   "source": [
    "rc = pyna.RateCollection(libraries=[ecsn_library])"
   ]
  },
  {
   "cell_type": "markdown",
   "metadata": {},
   "source": [
    "Here we'll pick thermodynamic conditions appropriate to the oxygen burning shell in a white dwarf"
   ]
  },
  {
   "cell_type": "code",
   "execution_count": 9,
   "metadata": {
    "execution": {
     "iopub.execute_input": "2024-10-17T09:02:18.453566Z",
     "iopub.status.busy": "2024-10-17T09:02:18.453176Z",
     "iopub.status.idle": "2024-10-17T09:02:18.468574Z",
     "shell.execute_reply": "2024-10-17T09:02:18.468037Z"
    }
   },
   "outputs": [
    {
     "ename": "NameError",
     "evalue": "name 'rc' is not defined",
     "output_type": "error",
     "traceback": [
      "\u001b[0;31m---------------------------------------------------------------------------\u001b[0m",
      "\u001b[0;31mNameError\u001b[0m                                 Traceback (most recent call last)",
      "Cell \u001b[0;32mIn[9], line 1\u001b[0m\n\u001b[0;32m----> 1\u001b[0m comp \u001b[38;5;241m=\u001b[39m pyna\u001b[38;5;241m.\u001b[39mComposition(\u001b[43mrc\u001b[49m\u001b[38;5;241m.\u001b[39mget_nuclei())\n\u001b[1;32m      2\u001b[0m comp\u001b[38;5;241m.\u001b[39mset_nuc(\u001b[38;5;124m\"\u001b[39m\u001b[38;5;124mo16\u001b[39m\u001b[38;5;124m\"\u001b[39m, \u001b[38;5;241m0.5\u001b[39m)\n\u001b[1;32m      3\u001b[0m comp\u001b[38;5;241m.\u001b[39mset_nuc(\u001b[38;5;124m\"\u001b[39m\u001b[38;5;124mne20\u001b[39m\u001b[38;5;124m\"\u001b[39m, \u001b[38;5;241m0.3\u001b[39m)\n",
      "\u001b[0;31mNameError\u001b[0m: name 'rc' is not defined"
     ]
    }
   ],
   "source": [
    "comp = pyna.Composition(rc.get_nuclei())\n",
    "comp.set_nuc(\"o16\", 0.5)\n",
    "comp.set_nuc(\"ne20\", 0.3)\n",
    "comp.set_nuc(\"mg24\", 0.1)\n",
    "comp.set_nuc(\"o20\", 1.e-5)\n",
    "comp.set_nuc(\"f20\", 1.e-5)\n",
    "comp.set_nuc(\"p\", 1.e-5)\n",
    "comp.set_nuc(\"he4\", 1.e-2)\n",
    "comp.set_nuc(\"al27\", 1.e-2)\n",
    "comp.set_nuc(\"si28\", 1.e-2)\n",
    "comp.set_nuc(\"s32\", 1.e-2)\n",
    "comp.set_nuc(\"p31\", 1.e-2)\n",
    "comp.normalize()"
   ]
  },
  {
   "cell_type": "code",
   "execution_count": 10,
   "metadata": {
    "execution": {
     "iopub.execute_input": "2024-10-17T09:02:18.470432Z",
     "iopub.status.busy": "2024-10-17T09:02:18.470132Z",
     "iopub.status.idle": "2024-10-17T09:02:18.484597Z",
     "shell.execute_reply": "2024-10-17T09:02:18.484030Z"
    }
   },
   "outputs": [
    {
     "ename": "NameError",
     "evalue": "name 'rc' is not defined",
     "output_type": "error",
     "traceback": [
      "\u001b[0;31m---------------------------------------------------------------------------\u001b[0m",
      "\u001b[0;31mNameError\u001b[0m                                 Traceback (most recent call last)",
      "Cell \u001b[0;32mIn[10], line 1\u001b[0m\n\u001b[0;32m----> 1\u001b[0m fig \u001b[38;5;241m=\u001b[39m \u001b[43mrc\u001b[49m\u001b[38;5;241m.\u001b[39mplot(rho\u001b[38;5;241m=\u001b[39m\u001b[38;5;241m7.e9\u001b[39m, T\u001b[38;5;241m=\u001b[39m\u001b[38;5;241m1.e9\u001b[39m, comp\u001b[38;5;241m=\u001b[39mcomp, ydot_cutoff_value\u001b[38;5;241m=\u001b[39m\u001b[38;5;241m1.e-20\u001b[39m)\n",
      "\u001b[0;31mNameError\u001b[0m: name 'rc' is not defined"
     ]
    }
   ],
   "source": [
    "fig = rc.plot(rho=7.e9, T=1.e9, comp=comp, ydot_cutoff_value=1.e-20)"
   ]
  },
  {
   "cell_type": "markdown",
   "metadata": {},
   "source": [
    "Note, this rate collection already includes some weak rates from ReacLib -- we want to remove those.\n",
    "\n",
    "We'll also take the opportunity to remove any rates that are not important, by looking for a $|\\dot{Y}| > 10^{-20}~s^{-1}$."
   ]
  },
  {
   "cell_type": "code",
   "execution_count": 11,
   "metadata": {
    "execution": {
     "iopub.execute_input": "2024-10-17T09:02:18.486623Z",
     "iopub.status.busy": "2024-10-17T09:02:18.486313Z",
     "iopub.status.idle": "2024-10-17T09:02:18.500908Z",
     "shell.execute_reply": "2024-10-17T09:02:18.500346Z"
    }
   },
   "outputs": [
    {
     "ename": "NameError",
     "evalue": "name 'rc' is not defined",
     "output_type": "error",
     "traceback": [
      "\u001b[0;31m---------------------------------------------------------------------------\u001b[0m",
      "\u001b[0;31mNameError\u001b[0m                                 Traceback (most recent call last)",
      "Cell \u001b[0;32mIn[11], line 2\u001b[0m\n\u001b[1;32m      1\u001b[0m new_rate_list \u001b[38;5;241m=\u001b[39m []\n\u001b[0;32m----> 2\u001b[0m ydots \u001b[38;5;241m=\u001b[39m \u001b[43mrc\u001b[49m\u001b[38;5;241m.\u001b[39mevaluate_rates(rho\u001b[38;5;241m=\u001b[39m\u001b[38;5;241m7.e9\u001b[39m, T\u001b[38;5;241m=\u001b[39m\u001b[38;5;241m1.e9\u001b[39m, composition\u001b[38;5;241m=\u001b[39mcomp)\n\u001b[1;32m      3\u001b[0m \u001b[38;5;28;01mfor\u001b[39;00m rate \u001b[38;5;129;01min\u001b[39;00m rc\u001b[38;5;241m.\u001b[39mrates:\n\u001b[1;32m      4\u001b[0m     \u001b[38;5;28;01mif\u001b[39;00m \u001b[38;5;28mabs\u001b[39m(ydots[rate]) \u001b[38;5;241m>\u001b[39m\u001b[38;5;241m=\u001b[39m \u001b[38;5;241m1.e-20\u001b[39m \u001b[38;5;129;01mand\u001b[39;00m \u001b[38;5;129;01mnot\u001b[39;00m rate\u001b[38;5;241m.\u001b[39mweak:\n",
      "\u001b[0;31mNameError\u001b[0m: name 'rc' is not defined"
     ]
    }
   ],
   "source": [
    "new_rate_list = []\n",
    "ydots = rc.evaluate_rates(rho=7.e9, T=1.e9, composition=comp)\n",
    "for rate in rc.rates:\n",
    "    if abs(ydots[rate]) >= 1.e-20 and not rate.weak:\n",
    "        new_rate_list.append(rate)        "
   ]
  },
  {
   "cell_type": "markdown",
   "metadata": {},
   "source": [
    "Now let's add the tabular rates to this pruned down rate list"
   ]
  },
  {
   "cell_type": "code",
   "execution_count": 12,
   "metadata": {
    "execution": {
     "iopub.execute_input": "2024-10-17T09:02:18.502861Z",
     "iopub.status.busy": "2024-10-17T09:02:18.502522Z",
     "iopub.status.idle": "2024-10-17T09:02:18.516294Z",
     "shell.execute_reply": "2024-10-17T09:02:18.515834Z"
    }
   },
   "outputs": [
    {
     "ename": "NameError",
     "evalue": "name 'tr' is not defined",
     "output_type": "error",
     "traceback": [
      "\u001b[0;31m---------------------------------------------------------------------------\u001b[0m",
      "\u001b[0;31mNameError\u001b[0m                                 Traceback (most recent call last)",
      "Cell \u001b[0;32mIn[12], line 1\u001b[0m\n\u001b[0;32m----> 1\u001b[0m new_rate_list \u001b[38;5;241m+\u001b[39m\u001b[38;5;241m=\u001b[39m \u001b[43mtr\u001b[49m\n",
      "\u001b[0;31mNameError\u001b[0m: name 'tr' is not defined"
     ]
    }
   ],
   "source": [
    "new_rate_list += tr"
   ]
  },
  {
   "cell_type": "markdown",
   "metadata": {},
   "source": [
    "Finally, we'll create a new rate collection by combining this new list of rates with the list of tables:"
   ]
  },
  {
   "cell_type": "code",
   "execution_count": 13,
   "metadata": {
    "execution": {
     "iopub.execute_input": "2024-10-17T09:02:18.518267Z",
     "iopub.status.busy": "2024-10-17T09:02:18.517928Z",
     "iopub.status.idle": "2024-10-17T09:02:18.542461Z",
     "shell.execute_reply": "2024-10-17T09:02:18.541958Z"
    }
   },
   "outputs": [
    {
     "ename": "AttributeError",
     "evalue": "'NoneType' object has no attribute 'values'",
     "output_type": "error",
     "traceback": [
      "\u001b[0;31m---------------------------------------------------------------------------\u001b[0m",
      "\u001b[0;31mAttributeError\u001b[0m                            Traceback (most recent call last)",
      "Cell \u001b[0;32mIn[13], line 1\u001b[0m\n\u001b[0;32m----> 1\u001b[0m rc_new \u001b[38;5;241m=\u001b[39m \u001b[43mpyna\u001b[49m\u001b[38;5;241;43m.\u001b[39;49m\u001b[43mRateCollection\u001b[49m\u001b[43m(\u001b[49m\u001b[43mrates\u001b[49m\u001b[38;5;241;43m=\u001b[39;49m\u001b[43mnew_rate_list\u001b[49m\u001b[43m)\u001b[49m\n",
      "File \u001b[0;32m/opt/hostedtoolcache/Python/3.11.10/x64/lib/python3.11/site-packages/pynucastro/networks/rate_collection.py:477\u001b[0m, in \u001b[0;36mRateCollection.__init__\u001b[0;34m(self, rate_files, libraries, rates, inert_nuclei, symmetric_screening, do_screening)\u001b[0m\n\u001b[1;32m    474\u001b[0m     \u001b[38;5;28;01mfor\u001b[39;00m lib \u001b[38;5;129;01min\u001b[39;00m libraries:\n\u001b[1;32m    475\u001b[0m         combined_library \u001b[38;5;241m+\u001b[39m\u001b[38;5;241m=\u001b[39m lib\n\u001b[0;32m--> 477\u001b[0m \u001b[38;5;28mself\u001b[39m\u001b[38;5;241m.\u001b[39mrates \u001b[38;5;241m=\u001b[39m \u001b[38;5;28mself\u001b[39m\u001b[38;5;241m.\u001b[39mrates \u001b[38;5;241m+\u001b[39m \u001b[43mcombined_library\u001b[49m\u001b[38;5;241;43m.\u001b[39;49m\u001b[43mget_rates\u001b[49m\u001b[43m(\u001b[49m\u001b[43m)\u001b[49m\n\u001b[1;32m    479\u001b[0m \u001b[38;5;28mself\u001b[39m\u001b[38;5;241m.\u001b[39m_build_collection()\n",
      "File \u001b[0;32m/opt/hostedtoolcache/Python/3.11.10/x64/lib/python3.11/site-packages/pynucastro/rates/library.py:144\u001b[0m, in \u001b[0;36mLibrary.get_rates\u001b[0;34m(self)\u001b[0m\n\u001b[1;32m    142\u001b[0m \u001b[38;5;28;01mdef\u001b[39;00m \u001b[38;5;21mget_rates\u001b[39m(\u001b[38;5;28mself\u001b[39m) \u001b[38;5;241m-\u001b[39m\u001b[38;5;241m>\u001b[39m \u001b[38;5;28mlist\u001b[39m[Rate]:\n\u001b[1;32m    143\u001b[0m \u001b[38;5;250m    \u001b[39m\u001b[38;5;124;03m\"\"\" Return a list of the rates in this library.\"\"\"\u001b[39;00m\n\u001b[0;32m--> 144\u001b[0m     \u001b[38;5;28;01mreturn\u001b[39;00m \u001b[38;5;28mlist\u001b[39m(\u001b[38;5;28;43mself\u001b[39;49m\u001b[38;5;241;43m.\u001b[39;49m\u001b[43m_rates\u001b[49m\u001b[38;5;241;43m.\u001b[39;49m\u001b[43mvalues\u001b[49m())\n",
      "\u001b[0;31mAttributeError\u001b[0m: 'NoneType' object has no attribute 'values'"
     ]
    }
   ],
   "source": [
    "rc_new = pyna.RateCollection(rates=new_rate_list)"
   ]
  },
  {
   "cell_type": "code",
   "execution_count": 14,
   "metadata": {
    "execution": {
     "iopub.execute_input": "2024-10-17T09:02:18.544344Z",
     "iopub.status.busy": "2024-10-17T09:02:18.543974Z",
     "iopub.status.idle": "2024-10-17T09:02:18.558085Z",
     "shell.execute_reply": "2024-10-17T09:02:18.557624Z"
    }
   },
   "outputs": [
    {
     "ename": "NameError",
     "evalue": "name 'rc_new' is not defined",
     "output_type": "error",
     "traceback": [
      "\u001b[0;31m---------------------------------------------------------------------------\u001b[0m",
      "\u001b[0;31mNameError\u001b[0m                                 Traceback (most recent call last)",
      "Cell \u001b[0;32mIn[14], line 1\u001b[0m\n\u001b[0;32m----> 1\u001b[0m fig \u001b[38;5;241m=\u001b[39m \u001b[43mrc_new\u001b[49m\u001b[38;5;241m.\u001b[39mplot(rho\u001b[38;5;241m=\u001b[39m\u001b[38;5;241m7.e9\u001b[39m, T\u001b[38;5;241m=\u001b[39m\u001b[38;5;241m1.e9\u001b[39m, comp\u001b[38;5;241m=\u001b[39mcomp, curved_edges\u001b[38;5;241m=\u001b[39m\u001b[38;5;28;01mTrue\u001b[39;00m, rotated\u001b[38;5;241m=\u001b[39m\u001b[38;5;28;01mTrue\u001b[39;00m)\n",
      "\u001b[0;31mNameError\u001b[0m: name 'rc_new' is not defined"
     ]
    }
   ],
   "source": [
    "fig = rc_new.plot(rho=7.e9, T=1.e9, comp=comp, curved_edges=True, rotated=True)"
   ]
  },
  {
   "cell_type": "markdown",
   "metadata": {},
   "source": [
    "We can see the values of the rates at our thermodynamic conditions easily:"
   ]
  },
  {
   "cell_type": "code",
   "execution_count": 15,
   "metadata": {
    "execution": {
     "iopub.execute_input": "2024-10-17T09:02:18.559872Z",
     "iopub.status.busy": "2024-10-17T09:02:18.559518Z",
     "iopub.status.idle": "2024-10-17T09:02:18.572188Z",
     "shell.execute_reply": "2024-10-17T09:02:18.571717Z"
    }
   },
   "outputs": [
    {
     "ename": "NameError",
     "evalue": "name 'rc_new' is not defined",
     "output_type": "error",
     "traceback": [
      "\u001b[0;31m---------------------------------------------------------------------------\u001b[0m",
      "\u001b[0;31mNameError\u001b[0m                                 Traceback (most recent call last)",
      "Cell \u001b[0;32mIn[15], line 1\u001b[0m\n\u001b[0;32m----> 1\u001b[0m \u001b[43mrc_new\u001b[49m\u001b[38;5;241m.\u001b[39mevaluate_rates(rho\u001b[38;5;241m=\u001b[39m\u001b[38;5;241m7.e9\u001b[39m, T\u001b[38;5;241m=\u001b[39m\u001b[38;5;241m1.e9\u001b[39m, composition\u001b[38;5;241m=\u001b[39mcomp)\n",
      "\u001b[0;31mNameError\u001b[0m: name 'rc_new' is not defined"
     ]
    }
   ],
   "source": [
    "rc_new.evaluate_rates(rho=7.e9, T=1.e9, composition=comp)"
   ]
  },
  {
   "cell_type": "markdown",
   "metadata": {},
   "source": [
    "Additionally, we can see the specific energy generation rate for these conditions"
   ]
  },
  {
   "cell_type": "code",
   "execution_count": 16,
   "metadata": {
    "execution": {
     "iopub.execute_input": "2024-10-17T09:02:18.573958Z",
     "iopub.status.busy": "2024-10-17T09:02:18.573619Z",
     "iopub.status.idle": "2024-10-17T09:02:18.587314Z",
     "shell.execute_reply": "2024-10-17T09:02:18.586805Z"
    }
   },
   "outputs": [
    {
     "ename": "NameError",
     "evalue": "name 'rc_new' is not defined",
     "output_type": "error",
     "traceback": [
      "\u001b[0;31m---------------------------------------------------------------------------\u001b[0m",
      "\u001b[0;31mNameError\u001b[0m                                 Traceback (most recent call last)",
      "Cell \u001b[0;32mIn[16], line 1\u001b[0m\n\u001b[0;32m----> 1\u001b[0m \u001b[43mrc_new\u001b[49m\u001b[38;5;241m.\u001b[39mevaluate_energy_generation(rho\u001b[38;5;241m=\u001b[39m\u001b[38;5;241m7.e9\u001b[39m, T\u001b[38;5;241m=\u001b[39m\u001b[38;5;241m1.e9\u001b[39m, composition\u001b[38;5;241m=\u001b[39mcomp)\n",
      "\u001b[0;31mNameError\u001b[0m: name 'rc_new' is not defined"
     ]
    }
   ],
   "source": [
    "rc_new.evaluate_energy_generation(rho=7.e9, T=1.e9, composition=comp)"
   ]
  }
 ],
 "metadata": {
  "kernelspec": {
   "display_name": "Python 3 (ipykernel)",
   "language": "python",
   "name": "python3"
  },
  "language_info": {
   "codemirror_mode": {
    "name": "ipython",
    "version": 3
   },
   "file_extension": ".py",
   "mimetype": "text/x-python",
   "name": "python",
   "nbconvert_exporter": "python",
   "pygments_lexer": "ipython3",
   "version": "3.11.10"
  }
 },
 "nbformat": 4,
 "nbformat_minor": 4
}
