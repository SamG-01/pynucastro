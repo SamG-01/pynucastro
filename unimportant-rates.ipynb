{
 "cells": [
  {
   "cell_type": "markdown",
   "id": "1e58a466-fdde-49df-925a-df4014b63c97",
   "metadata": {},
   "source": [
    "# Removing Unimportant Rates\n",
    "\n",
    "When you create a network given a list of nuclei, it will pull in all of the rates that connect those nuclei in the library, even if they are not important for the thermodynamic conditions under which the network will be used.\n",
    "\n",
    "Here we see how to feed a set of thermodynamic conditions to a `RateCollection` and remove the rates that are never important.\n",
    "\n",
    "Let's consider the case of wanting to model H burning in conditions close to the core of the Sun.  We start by generating a network with all of the pp and CNO nuclei"
   ]
  },
  {
   "cell_type": "code",
   "execution_count": 1,
   "id": "a5b1e843-df74-478e-b42c-ce3a760841bf",
   "metadata": {
    "execution": {
     "iopub.execute_input": "2024-10-17T07:16:49.326964Z",
     "iopub.status.busy": "2024-10-17T07:16:49.326565Z",
     "iopub.status.idle": "2024-10-17T07:16:50.839752Z",
     "shell.execute_reply": "2024-10-17T07:16:50.839178Z"
    }
   },
   "outputs": [
    {
     "ename": "AttributeError",
     "evalue": "module 'warnings' has no attribute 'LiteralString'",
     "output_type": "error",
     "traceback": [
      "\u001b[0;31m---------------------------------------------------------------------------\u001b[0m",
      "\u001b[0;31mAttributeError\u001b[0m                            Traceback (most recent call last)",
      "Cell \u001b[0;32mIn[1], line 1\u001b[0m\n\u001b[0;32m----> 1\u001b[0m \u001b[38;5;28;01mimport\u001b[39;00m \u001b[38;5;21;01mpynucastro\u001b[39;00m \u001b[38;5;28;01mas\u001b[39;00m \u001b[38;5;21;01mpyna\u001b[39;00m\n",
      "File \u001b[0;32m/opt/hostedtoolcache/Python/3.11.10/x64/lib/python3.11/site-packages/pynucastro/__init__.py:131\u001b[0m\n\u001b[1;32m    126\u001b[0m \u001b[38;5;28;01mfrom\u001b[39;00m \u001b[38;5;21;01m.\u001b[39;00m\u001b[38;5;21;01m_version\u001b[39;00m \u001b[38;5;28;01mimport\u001b[39;00m version\n\u001b[1;32m    128\u001b[0m __version__ \u001b[38;5;241m=\u001b[39m version\n\u001b[0;32m--> 131\u001b[0m \u001b[38;5;28;01mimport\u001b[39;00m \u001b[38;5;21;01mpynucastro\u001b[39;00m\u001b[38;5;21;01m.\u001b[39;00m\u001b[38;5;21;01mscreening\u001b[39;00m\n\u001b[1;32m    132\u001b[0m \u001b[38;5;28;01mfrom\u001b[39;00m \u001b[38;5;21;01mpynucastro\u001b[39;00m\u001b[38;5;21;01m.\u001b[39;00m\u001b[38;5;21;01mnetworks\u001b[39;00m \u001b[38;5;28;01mimport\u001b[39;00m (AmrexAstroCxxNetwork, BaseCxxNetwork,\n\u001b[1;32m    133\u001b[0m                                  Composition, Explorer, NSENetwork,\n\u001b[1;32m    134\u001b[0m                                  NumpyNetwork, PythonNetwork, RateCollection,\n\u001b[1;32m    135\u001b[0m                                  SimpleCxxNetwork, StarKillerCxxNetwork,\n\u001b[1;32m    136\u001b[0m                                  SympyRates)\n\u001b[1;32m    137\u001b[0m \u001b[38;5;28;01mfrom\u001b[39;00m \u001b[38;5;21;01mpynucastro\u001b[39;00m\u001b[38;5;21;01m.\u001b[39;00m\u001b[38;5;21;01mnucdata\u001b[39;00m \u001b[38;5;28;01mimport\u001b[39;00m Nucleus, get_all_nuclei, get_nuclei_in_range\n",
      "File \u001b[0;32m/opt/hostedtoolcache/Python/3.11.10/x64/lib/python3.11/site-packages/pynucastro/screening/__init__.py:5\u001b[0m\n\u001b[1;32m      1\u001b[0m \u001b[38;5;124;03m\"\"\"Screening routines\"\"\"\u001b[39;00m\n\u001b[1;32m      3\u001b[0m __all__ \u001b[38;5;241m=\u001b[39m [\u001b[38;5;124m\"\u001b[39m\u001b[38;5;124mscreen\u001b[39m\u001b[38;5;124m\"\u001b[39m, \u001b[38;5;124m\"\u001b[39m\u001b[38;5;124mscreening_util\u001b[39m\u001b[38;5;124m\"\u001b[39m]\n\u001b[0;32m----> 5\u001b[0m \u001b[38;5;28;01mfrom\u001b[39;00m \u001b[38;5;21;01m.\u001b[39;00m\u001b[38;5;21;01mscreen\u001b[39;00m \u001b[38;5;28;01mimport\u001b[39;00m (NseState, PlasmaState, ScreenFactors, chugunov_2007,\n\u001b[1;32m      6\u001b[0m                      chugunov_2009, make_plasma_state, make_screen_factors,\n\u001b[1;32m      7\u001b[0m                      potekhin_1998, screen5)\n\u001b[1;32m      8\u001b[0m \u001b[38;5;28;01mfrom\u001b[39;00m \u001b[38;5;21;01m.\u001b[39;00m\u001b[38;5;21;01mscreening_util\u001b[39;00m \u001b[38;5;28;01mimport\u001b[39;00m ScreeningPair, get_screening_map\n",
      "File \u001b[0;32m/opt/hostedtoolcache/Python/3.11.10/x64/lib/python3.11/site-packages/pynucastro/screening/screen.py:9\u001b[0m\n\u001b[1;32m      7\u001b[0m \u001b[38;5;28;01mfrom\u001b[39;00m \u001b[38;5;21;01mpynucastro\u001b[39;00m\u001b[38;5;21;01m.\u001b[39;00m\u001b[38;5;21;01mnucdata\u001b[39;00m \u001b[38;5;28;01mimport\u001b[39;00m Nucleus\n\u001b[1;32m      8\u001b[0m \u001b[38;5;66;03m# use the jitclass placeholder from rate.py\u001b[39;00m\n\u001b[0;32m----> 9\u001b[0m \u001b[38;5;28;01mfrom\u001b[39;00m \u001b[38;5;21;01mpynucastro\u001b[39;00m\u001b[38;5;21;01m.\u001b[39;00m\u001b[38;5;21;01mrates\u001b[39;00m\u001b[38;5;21;01m.\u001b[39;00m\u001b[38;5;21;01mrate\u001b[39;00m \u001b[38;5;28;01mimport\u001b[39;00m jitclass, numba\n\u001b[1;32m     11\u001b[0m \u001b[38;5;28;01mif\u001b[39;00m numba \u001b[38;5;129;01mis\u001b[39;00m \u001b[38;5;129;01mnot\u001b[39;00m \u001b[38;5;28;01mNone\u001b[39;00m:\n\u001b[1;32m     12\u001b[0m     njit \u001b[38;5;241m=\u001b[39m numba\u001b[38;5;241m.\u001b[39mnjit\n",
      "File \u001b[0;32m/opt/hostedtoolcache/Python/3.11.10/x64/lib/python3.11/site-packages/pynucastro/rates/__init__.py:5\u001b[0m\n\u001b[1;32m      1\u001b[0m \u001b[38;5;124;03m\"\"\"The core routines needed to read and interpret nuclear reaction rates\"\"\"\u001b[39;00m\n\u001b[1;32m      3\u001b[0m __all__ \u001b[38;5;241m=\u001b[39m [\u001b[38;5;124m\"\u001b[39m\u001b[38;5;124mapproximate_rates\u001b[39m\u001b[38;5;124m\"\u001b[39m, \u001b[38;5;124m\"\u001b[39m\u001b[38;5;124mrate\u001b[39m\u001b[38;5;124m\"\u001b[39m, \u001b[38;5;124m\"\u001b[39m\u001b[38;5;124mlibrary\u001b[39m\u001b[38;5;124m\"\u001b[39m]\n\u001b[0;32m----> 5\u001b[0m \u001b[38;5;28;01mfrom\u001b[39;00m \u001b[38;5;21;01m.\u001b[39;00m\u001b[38;5;21;01mapproximate_rates\u001b[39;00m \u001b[38;5;28;01mimport\u001b[39;00m ApproximateRate\n\u001b[1;32m      6\u001b[0m \u001b[38;5;28;01mfrom\u001b[39;00m \u001b[38;5;21;01m.\u001b[39;00m\u001b[38;5;21;01mknown_duplicates\u001b[39;00m \u001b[38;5;28;01mimport\u001b[39;00m find_duplicate_rates, is_allowed_dupe\n\u001b[1;32m      7\u001b[0m \u001b[38;5;28;01mfrom\u001b[39;00m \u001b[38;5;21;01m.\u001b[39;00m\u001b[38;5;21;01mlibrary\u001b[39;00m \u001b[38;5;28;01mimport\u001b[39;00m (LangankeLibrary, Library, RateFilter, ReacLibLibrary,\n\u001b[1;32m      8\u001b[0m                       SuzukiLibrary, TabularLibrary, list_known_rates)\n",
      "File \u001b[0;32m/opt/hostedtoolcache/Python/3.11.10/x64/lib/python3.11/site-packages/pynucastro/rates/approximate_rates.py:2\u001b[0m\n\u001b[1;32m      1\u001b[0m \u001b[38;5;28;01mfrom\u001b[39;00m \u001b[38;5;21;01mpynucastro\u001b[39;00m\u001b[38;5;21;01m.\u001b[39;00m\u001b[38;5;21;01mnucdata\u001b[39;00m \u001b[38;5;28;01mimport\u001b[39;00m Nucleus\n\u001b[0;32m----> 2\u001b[0m \u001b[38;5;28;01mfrom\u001b[39;00m \u001b[38;5;21;01mpynucastro\u001b[39;00m\u001b[38;5;21;01m.\u001b[39;00m\u001b[38;5;21;01mrates\u001b[39;00m\u001b[38;5;21;01m.\u001b[39;00m\u001b[38;5;21;01mrate\u001b[39;00m \u001b[38;5;28;01mimport\u001b[39;00m Rate\n\u001b[1;32m      5\u001b[0m \u001b[38;5;28;01mclass\u001b[39;00m \u001b[38;5;21;01mApproximateRate\u001b[39;00m(Rate):\n\u001b[1;32m      7\u001b[0m     \u001b[38;5;28;01mdef\u001b[39;00m \u001b[38;5;21m__init__\u001b[39m(\u001b[38;5;28mself\u001b[39m, primary_rate: Rate, secondary_rates: \u001b[38;5;28mlist\u001b[39m[Rate],\n\u001b[1;32m      8\u001b[0m                  primary_reverse: Rate, secondary_reverse: \u001b[38;5;28mlist\u001b[39m[Rate],\n\u001b[1;32m      9\u001b[0m                  is_reverse: \u001b[38;5;28mbool\u001b[39m \u001b[38;5;241m=\u001b[39m \u001b[38;5;28;01mFalse\u001b[39;00m, approx_type: \u001b[38;5;28mstr\u001b[39m\u001b[38;5;241m=\u001b[39m \u001b[38;5;124m\"\u001b[39m\u001b[38;5;124map_pg\u001b[39m\u001b[38;5;124m\"\u001b[39m) \u001b[38;5;241m-\u001b[39m\u001b[38;5;241m>\u001b[39m \u001b[38;5;28;01mNone\u001b[39;00m:\n",
      "File \u001b[0;32m/opt/hostedtoolcache/Python/3.11.10/x64/lib/python3.11/site-packages/pynucastro/rates/rate.py:313\u001b[0m\n\u001b[1;32m    309\u001b[0m         string \u001b[38;5;241m+\u001b[39m\u001b[38;5;241m=\u001b[39m \u001b[38;5;124m\"\u001b[39m\u001b[38;5;124m;\u001b[39m\u001b[38;5;124m\"\u001b[39m\n\u001b[1;32m    310\u001b[0m         \u001b[38;5;28;01mreturn\u001b[39;00m string\n\u001b[0;32m--> 313\u001b[0m \u001b[38;5;28;43;01mclass\u001b[39;49;00m\u001b[43m \u001b[49m\u001b[38;5;21;43;01mRate\u001b[39;49;00m\u001b[43m:\u001b[49m\n\u001b[1;32m    314\u001b[0m \u001b[38;5;250;43m    \u001b[39;49m\u001b[38;5;124;43;03m\"\"\"The base reaction rate class.  Most rate types will subclass\u001b[39;49;00m\n\u001b[1;32m    315\u001b[0m \u001b[38;5;124;43;03m    this and extend to their particular format.\u001b[39;49;00m\n\u001b[1;32m    316\u001b[0m \n\u001b[1;32m    317\u001b[0m \u001b[38;5;124;43;03m    \"\"\"\u001b[39;49;00m\n\u001b[1;32m    318\u001b[0m \u001b[43m    \u001b[49m\u001b[38;5;28;43;01mdef\u001b[39;49;00m\u001b[43m \u001b[49m\u001b[38;5;21;43m__init__\u001b[39;49m\u001b[43m(\u001b[49m\u001b[38;5;28;43mself\u001b[39;49m\u001b[43m,\u001b[49m\u001b[43m \u001b[49m\u001b[43mreactants\u001b[49m\u001b[43m:\u001b[49m\u001b[43m \u001b[49m\u001b[38;5;28;43mlist\u001b[39;49m\u001b[43m[\u001b[49m\u001b[38;5;28;43mstr\u001b[39;49m\u001b[43m]\u001b[49m\u001b[43m \u001b[49m\u001b[38;5;241;43m|\u001b[39;49m\u001b[43m \u001b[49m\u001b[38;5;28;43mlist\u001b[39;49m\u001b[43m[\u001b[49m\u001b[43mNucleus\u001b[49m\u001b[43m]\u001b[49m\u001b[43m \u001b[49m\u001b[38;5;241;43m=\u001b[39;49m\u001b[43m \u001b[49m\u001b[38;5;28;43;01mNone\u001b[39;49;00m\u001b[43m,\u001b[49m\n\u001b[1;32m    319\u001b[0m \u001b[43m                 \u001b[49m\u001b[43mproducts\u001b[49m\u001b[43m:\u001b[49m\u001b[43m \u001b[49m\u001b[38;5;28;43mlist\u001b[39;49m\u001b[43m[\u001b[49m\u001b[38;5;28;43mstr\u001b[39;49m\u001b[43m]\u001b[49m\u001b[43m \u001b[49m\u001b[38;5;241;43m|\u001b[39;49m\u001b[43m \u001b[49m\u001b[38;5;28;43mlist\u001b[39;49m\u001b[43m[\u001b[49m\u001b[43mNucleus\u001b[49m\u001b[43m]\u001b[49m\u001b[43m \u001b[49m\u001b[38;5;241;43m=\u001b[39;49m\u001b[43m \u001b[49m\u001b[38;5;28;43;01mNone\u001b[39;49;00m\u001b[43m,\u001b[49m\n\u001b[1;32m    320\u001b[0m \u001b[43m                 \u001b[49m\u001b[43mQ\u001b[49m\u001b[43m:\u001b[49m\u001b[43m \u001b[49m\u001b[38;5;28;43mfloat\u001b[39;49m\u001b[43m \u001b[49m\u001b[38;5;241;43m=\u001b[39;49m\u001b[43m \u001b[49m\u001b[38;5;28;43;01mNone\u001b[39;49;00m\u001b[43m,\u001b[49m\u001b[43m \u001b[49m\u001b[43mweak_type\u001b[49m\u001b[43m:\u001b[49m\u001b[43m \u001b[49m\u001b[38;5;28;43mstr\u001b[39;49m\u001b[43m \u001b[49m\u001b[38;5;241;43m=\u001b[39;49m\u001b[43m \u001b[49m\u001b[38;5;124;43m\"\u001b[39;49m\u001b[38;5;124;43m\"\u001b[39;49m\u001b[43m,\u001b[49m\n\u001b[1;32m    321\u001b[0m \u001b[43m                 \u001b[49m\u001b[43mlabel\u001b[49m\u001b[43m:\u001b[49m\u001b[43m \u001b[49m\u001b[38;5;28;43mstr\u001b[39;49m\u001b[43m \u001b[49m\u001b[38;5;241;43m=\u001b[39;49m\u001b[43m \u001b[49m\u001b[38;5;124;43m\"\u001b[39;49m\u001b[38;5;124;43mgeneric\u001b[39;49m\u001b[38;5;124;43m\"\u001b[39;49m\u001b[43m)\u001b[49m\u001b[43m \u001b[49m\u001b[38;5;241;43m-\u001b[39;49m\u001b[38;5;241;43m>\u001b[39;49m\u001b[43m \u001b[49m\u001b[38;5;28;43;01mNone\u001b[39;49;00m\u001b[43m:\u001b[49m\n",
      "File \u001b[0;32m/opt/hostedtoolcache/Python/3.11.10/x64/lib/python3.11/site-packages/pynucastro/rates/rate.py:620\u001b[0m, in \u001b[0;36mRate\u001b[0;34m()\u001b[0m\n\u001b[1;32m    617\u001b[0m             nuc \u001b[38;5;241m=\u001b[39m n\n\u001b[1;32m    618\u001b[0m     \u001b[38;5;28;01mreturn\u001b[39;00m nuc\n\u001b[0;32m--> 620\u001b[0m \u001b[38;5;28;01mdef\u001b[39;00m \u001b[38;5;21mydot_string_py\u001b[39m(\u001b[38;5;28mself\u001b[39m) \u001b[38;5;241m-\u001b[39m\u001b[38;5;241m>\u001b[39m \u001b[43mwarnings\u001b[49m\u001b[38;5;241;43m.\u001b[39;49m\u001b[43mLiteralString\u001b[49m:\n\u001b[1;32m    621\u001b[0m \u001b[38;5;250m    \u001b[39m\u001b[38;5;124;03m\"\"\"\u001b[39;00m\n\u001b[1;32m    622\u001b[0m \u001b[38;5;124;03m    Return a string containing the term in a dY/dt equation\u001b[39;00m\n\u001b[1;32m    623\u001b[0m \u001b[38;5;124;03m    in a reaction network corresponding to this rate.\u001b[39;00m\n\u001b[1;32m    624\u001b[0m \u001b[38;5;124;03m    \"\"\"\u001b[39;00m\n\u001b[1;32m    626\u001b[0m     ydot_string_components \u001b[38;5;241m=\u001b[39m []\n",
      "\u001b[0;31mAttributeError\u001b[0m: module 'warnings' has no attribute 'LiteralString'"
     ]
    }
   ],
   "source": [
    "import pynucastro as pyna"
   ]
  },
  {
   "cell_type": "code",
   "execution_count": 2,
   "id": "c40360a2-f64a-4ff8-8909-9e53338a5ec9",
   "metadata": {
    "execution": {
     "iopub.execute_input": "2024-10-17T07:16:50.841772Z",
     "iopub.status.busy": "2024-10-17T07:16:50.841398Z",
     "iopub.status.idle": "2024-10-17T07:16:50.852436Z",
     "shell.execute_reply": "2024-10-17T07:16:50.851980Z"
    }
   },
   "outputs": [
    {
     "ename": "NameError",
     "evalue": "name 'pyna' is not defined",
     "output_type": "error",
     "traceback": [
      "\u001b[0;31m---------------------------------------------------------------------------\u001b[0m",
      "\u001b[0;31mNameError\u001b[0m                                 Traceback (most recent call last)",
      "Cell \u001b[0;32mIn[2], line 1\u001b[0m\n\u001b[0;32m----> 1\u001b[0m reaclib_library \u001b[38;5;241m=\u001b[39m \u001b[43mpyna\u001b[49m\u001b[38;5;241m.\u001b[39mReacLibLibrary()\n",
      "\u001b[0;31mNameError\u001b[0m: name 'pyna' is not defined"
     ]
    }
   ],
   "source": [
    "reaclib_library = pyna.ReacLibLibrary()"
   ]
  },
  {
   "cell_type": "code",
   "execution_count": 3,
   "id": "968fdc22-a285-4183-8bb1-55db43460a32",
   "metadata": {
    "execution": {
     "iopub.execute_input": "2024-10-17T07:16:50.854074Z",
     "iopub.status.busy": "2024-10-17T07:16:50.853746Z",
     "iopub.status.idle": "2024-10-17T07:16:50.864509Z",
     "shell.execute_reply": "2024-10-17T07:16:50.864064Z"
    }
   },
   "outputs": [
    {
     "ename": "NameError",
     "evalue": "name 'reaclib_library' is not defined",
     "output_type": "error",
     "traceback": [
      "\u001b[0;31m---------------------------------------------------------------------------\u001b[0m",
      "\u001b[0;31mNameError\u001b[0m                                 Traceback (most recent call last)",
      "Cell \u001b[0;32mIn[3], line 1\u001b[0m\n\u001b[0;32m----> 1\u001b[0m h_burn \u001b[38;5;241m=\u001b[39m \u001b[43mreaclib_library\u001b[49m\u001b[38;5;241m.\u001b[39mlinking_nuclei([\u001b[38;5;124m\"\u001b[39m\u001b[38;5;124mh1\u001b[39m\u001b[38;5;124m\"\u001b[39m, \u001b[38;5;124m\"\u001b[39m\u001b[38;5;124mh2\u001b[39m\u001b[38;5;124m\"\u001b[39m, \u001b[38;5;124m\"\u001b[39m\u001b[38;5;124mhe3\u001b[39m\u001b[38;5;124m\"\u001b[39m, \u001b[38;5;124m\"\u001b[39m\u001b[38;5;124mhe4\u001b[39m\u001b[38;5;124m\"\u001b[39m,\n\u001b[1;32m      2\u001b[0m                                          \u001b[38;5;124m\"\u001b[39m\u001b[38;5;124mc12\u001b[39m\u001b[38;5;124m\"\u001b[39m, \u001b[38;5;124m\"\u001b[39m\u001b[38;5;124mc13\u001b[39m\u001b[38;5;124m\"\u001b[39m, \u001b[38;5;124m\"\u001b[39m\u001b[38;5;124mn13\u001b[39m\u001b[38;5;124m\"\u001b[39m, \u001b[38;5;124m\"\u001b[39m\u001b[38;5;124mn14\u001b[39m\u001b[38;5;124m\"\u001b[39m, \u001b[38;5;124m\"\u001b[39m\u001b[38;5;124mn15\u001b[39m\u001b[38;5;124m\"\u001b[39m, \u001b[38;5;124m\"\u001b[39m\u001b[38;5;124mo15\u001b[39m\u001b[38;5;124m\"\u001b[39m])\n",
      "\u001b[0;31mNameError\u001b[0m: name 'reaclib_library' is not defined"
     ]
    }
   ],
   "source": [
    "h_burn = reaclib_library.linking_nuclei([\"h1\", \"h2\", \"he3\", \"he4\",\n",
    "                                         \"c12\", \"c13\", \"n13\", \"n14\", \"n15\", \"o15\"])"
   ]
  },
  {
   "cell_type": "code",
   "execution_count": 4,
   "id": "990f533d-d595-4493-a744-33e72d385efa",
   "metadata": {
    "execution": {
     "iopub.execute_input": "2024-10-17T07:16:50.866249Z",
     "iopub.status.busy": "2024-10-17T07:16:50.865863Z",
     "iopub.status.idle": "2024-10-17T07:16:50.876252Z",
     "shell.execute_reply": "2024-10-17T07:16:50.875823Z"
    }
   },
   "outputs": [
    {
     "ename": "NameError",
     "evalue": "name 'pyna' is not defined",
     "output_type": "error",
     "traceback": [
      "\u001b[0;31m---------------------------------------------------------------------------\u001b[0m",
      "\u001b[0;31mNameError\u001b[0m                                 Traceback (most recent call last)",
      "Cell \u001b[0;32mIn[4], line 1\u001b[0m\n\u001b[0;32m----> 1\u001b[0m rc \u001b[38;5;241m=\u001b[39m \u001b[43mpyna\u001b[49m\u001b[38;5;241m.\u001b[39mRateCollection(libraries\u001b[38;5;241m=\u001b[39m[h_burn])\n",
      "\u001b[0;31mNameError\u001b[0m: name 'pyna' is not defined"
     ]
    }
   ],
   "source": [
    "rc = pyna.RateCollection(libraries=[h_burn])"
   ]
  },
  {
   "cell_type": "code",
   "execution_count": 5,
   "id": "48a679a4-f617-496b-8f5f-b284f5aaea3c",
   "metadata": {
    "execution": {
     "iopub.execute_input": "2024-10-17T07:16:50.878021Z",
     "iopub.status.busy": "2024-10-17T07:16:50.877575Z",
     "iopub.status.idle": "2024-10-17T07:16:50.887890Z",
     "shell.execute_reply": "2024-10-17T07:16:50.887470Z"
    }
   },
   "outputs": [
    {
     "ename": "NameError",
     "evalue": "name 'rc' is not defined",
     "output_type": "error",
     "traceback": [
      "\u001b[0;31m---------------------------------------------------------------------------\u001b[0m",
      "\u001b[0;31mNameError\u001b[0m                                 Traceback (most recent call last)",
      "Cell \u001b[0;32mIn[5], line 1\u001b[0m\n\u001b[0;32m----> 1\u001b[0m fig \u001b[38;5;241m=\u001b[39m \u001b[43mrc\u001b[49m\u001b[38;5;241m.\u001b[39mplot(hide_xp\u001b[38;5;241m=\u001b[39m\u001b[38;5;28;01mTrue\u001b[39;00m)\n",
      "\u001b[0;31mNameError\u001b[0m: name 'rc' is not defined"
     ]
    }
   ],
   "source": [
    "fig = rc.plot(hide_xp=True)"
   ]
  },
  {
   "cell_type": "markdown",
   "id": "9fc97052-5605-46ed-a973-be591542a57f",
   "metadata": {},
   "source": [
    "Notice a few things:\n",
    "    \n",
    "* The 3-alpha rate (and its reverse) are included\n",
    "* Lots of reverse rates are included between the CNO nuclei, but we only expect that the forward rates in the traditional CNO cycle matter"
   ]
  },
  {
   "cell_type": "markdown",
   "id": "62faae7c-b74f-461b-83c5-a36d8fe4b95e",
   "metadata": {},
   "source": [
    "To filter rates we need to pass in a set of thermodynamic conditions, including density and temperature (in CGS units) and a `Composition` object giving the mass fractions"
   ]
  },
  {
   "cell_type": "code",
   "execution_count": 6,
   "id": "f692df22-b9bd-4ccf-a07c-ca30d8eed006",
   "metadata": {
    "execution": {
     "iopub.execute_input": "2024-10-17T07:16:50.889560Z",
     "iopub.status.busy": "2024-10-17T07:16:50.889272Z",
     "iopub.status.idle": "2024-10-17T07:16:50.900521Z",
     "shell.execute_reply": "2024-10-17T07:16:50.900065Z"
    }
   },
   "outputs": [
    {
     "ename": "NameError",
     "evalue": "name 'pyna' is not defined",
     "output_type": "error",
     "traceback": [
      "\u001b[0;31m---------------------------------------------------------------------------\u001b[0m",
      "\u001b[0;31mNameError\u001b[0m                                 Traceback (most recent call last)",
      "Cell \u001b[0;32mIn[6], line 3\u001b[0m\n\u001b[1;32m      1\u001b[0m rho \u001b[38;5;241m=\u001b[39m \u001b[38;5;241m100\u001b[39m\n\u001b[1;32m      2\u001b[0m T \u001b[38;5;241m=\u001b[39m \u001b[38;5;241m1.5e7\u001b[39m\n\u001b[0;32m----> 3\u001b[0m comp \u001b[38;5;241m=\u001b[39m \u001b[43mpyna\u001b[49m\u001b[38;5;241m.\u001b[39mComposition(rc\u001b[38;5;241m.\u001b[39mget_nuclei())\n\u001b[1;32m      4\u001b[0m comp\u001b[38;5;241m.\u001b[39mset_solar_like()\n\u001b[1;32m      6\u001b[0m state \u001b[38;5;241m=\u001b[39m (rho, T, comp)\n",
      "\u001b[0;31mNameError\u001b[0m: name 'pyna' is not defined"
     ]
    }
   ],
   "source": [
    "rho = 100\n",
    "T = 1.5e7\n",
    "comp = pyna.Composition(rc.get_nuclei())\n",
    "comp.set_solar_like()\n",
    "\n",
    "state = (rho, T, comp)"
   ]
  },
  {
   "cell_type": "markdown",
   "id": "c5e22b5d-15aa-47a2-8427-f2e02820b360",
   "metadata": {},
   "source": [
    "Now we find the rates that are not important.  We pass in a cutoff, such that any rate that is smaller that cutoff $\\times$ fastest-rate will be returned"
   ]
  },
  {
   "cell_type": "code",
   "execution_count": 7,
   "id": "dc343340-3c6e-449f-aaf0-ea882103545c",
   "metadata": {
    "execution": {
     "iopub.execute_input": "2024-10-17T07:16:50.902364Z",
     "iopub.status.busy": "2024-10-17T07:16:50.901928Z",
     "iopub.status.idle": "2024-10-17T07:16:50.913201Z",
     "shell.execute_reply": "2024-10-17T07:16:50.912770Z"
    }
   },
   "outputs": [
    {
     "ename": "NameError",
     "evalue": "name 'rc' is not defined",
     "output_type": "error",
     "traceback": [
      "\u001b[0;31m---------------------------------------------------------------------------\u001b[0m",
      "\u001b[0;31mNameError\u001b[0m                                 Traceback (most recent call last)",
      "Cell \u001b[0;32mIn[7], line 2\u001b[0m\n\u001b[1;32m      1\u001b[0m cutoff_ratio \u001b[38;5;241m=\u001b[39m \u001b[38;5;241m1.e-20\u001b[39m\n\u001b[0;32m----> 2\u001b[0m unimportant_rates \u001b[38;5;241m=\u001b[39m \u001b[43mrc\u001b[49m\u001b[38;5;241m.\u001b[39mfind_unimportant_rates([state], cutoff_ratio)\n",
      "\u001b[0;31mNameError\u001b[0m: name 'rc' is not defined"
     ]
    }
   ],
   "source": [
    "cutoff_ratio = 1.e-20\n",
    "unimportant_rates = rc.find_unimportant_rates([state], cutoff_ratio)"
   ]
  },
  {
   "cell_type": "markdown",
   "id": "e4de08ea-9739-48da-a9ce-0d24d1c462b0",
   "metadata": {},
   "source": [
    "Here `unimportant_rates` is a dictionary with the rate as the key and the ratio of the rate compared to the fastest rate as the value."
   ]
  },
  {
   "cell_type": "code",
   "execution_count": 8,
   "id": "a773faae-519e-49df-abb2-464789acdcc5",
   "metadata": {
    "execution": {
     "iopub.execute_input": "2024-10-17T07:16:50.914911Z",
     "iopub.status.busy": "2024-10-17T07:16:50.914534Z",
     "iopub.status.idle": "2024-10-17T07:16:50.924551Z",
     "shell.execute_reply": "2024-10-17T07:16:50.924128Z"
    }
   },
   "outputs": [
    {
     "ename": "NameError",
     "evalue": "name 'unimportant_rates' is not defined",
     "output_type": "error",
     "traceback": [
      "\u001b[0;31m---------------------------------------------------------------------------\u001b[0m",
      "\u001b[0;31mNameError\u001b[0m                                 Traceback (most recent call last)",
      "Cell \u001b[0;32mIn[8], line 1\u001b[0m\n\u001b[0;32m----> 1\u001b[0m \u001b[43munimportant_rates\u001b[49m\n",
      "\u001b[0;31mNameError\u001b[0m: name 'unimportant_rates' is not defined"
     ]
    }
   ],
   "source": [
    "unimportant_rates"
   ]
  },
  {
   "cell_type": "markdown",
   "id": "c83b071b-d3a5-41c5-be7b-80b9ce44fd63",
   "metadata": {},
   "source": [
    "If we are happy with what it found, we can remove them from the `RateCollection`"
   ]
  },
  {
   "cell_type": "code",
   "execution_count": 9,
   "id": "53fe56db-8110-4ed9-a745-f042ac44c7fb",
   "metadata": {
    "execution": {
     "iopub.execute_input": "2024-10-17T07:16:50.926281Z",
     "iopub.status.busy": "2024-10-17T07:16:50.925964Z",
     "iopub.status.idle": "2024-10-17T07:16:50.936219Z",
     "shell.execute_reply": "2024-10-17T07:16:50.935763Z"
    }
   },
   "outputs": [
    {
     "ename": "NameError",
     "evalue": "name 'rc' is not defined",
     "output_type": "error",
     "traceback": [
      "\u001b[0;31m---------------------------------------------------------------------------\u001b[0m",
      "\u001b[0;31mNameError\u001b[0m                                 Traceback (most recent call last)",
      "Cell \u001b[0;32mIn[9], line 1\u001b[0m\n\u001b[0;32m----> 1\u001b[0m \u001b[43mrc\u001b[49m\u001b[38;5;241m.\u001b[39mremove_rates(unimportant_rates)\n",
      "\u001b[0;31mNameError\u001b[0m: name 'rc' is not defined"
     ]
    }
   ],
   "source": [
    "rc.remove_rates(unimportant_rates)"
   ]
  },
  {
   "cell_type": "markdown",
   "id": "7a7d68f4-ecf4-4898-a212-7dfd65bab06b",
   "metadata": {},
   "source": [
    "Now we can look at the updated rate collection.  Notice that the 3-alpha rate is gone as are a lot of the reverse rates"
   ]
  },
  {
   "cell_type": "code",
   "execution_count": 10,
   "id": "631d79b8-9acc-4e0c-80b3-1bee62f3cd02",
   "metadata": {
    "execution": {
     "iopub.execute_input": "2024-10-17T07:16:50.937884Z",
     "iopub.status.busy": "2024-10-17T07:16:50.937735Z",
     "iopub.status.idle": "2024-10-17T07:16:50.947814Z",
     "shell.execute_reply": "2024-10-17T07:16:50.947364Z"
    }
   },
   "outputs": [
    {
     "ename": "NameError",
     "evalue": "name 'rc' is not defined",
     "output_type": "error",
     "traceback": [
      "\u001b[0;31m---------------------------------------------------------------------------\u001b[0m",
      "\u001b[0;31mNameError\u001b[0m                                 Traceback (most recent call last)",
      "Cell \u001b[0;32mIn[10], line 1\u001b[0m\n\u001b[0;32m----> 1\u001b[0m \u001b[43mrc\u001b[49m\n",
      "\u001b[0;31mNameError\u001b[0m: name 'rc' is not defined"
     ]
    }
   ],
   "source": [
    "rc"
   ]
  },
  {
   "cell_type": "code",
   "execution_count": 11,
   "id": "1747b33c-f7ef-4388-82b1-ae46978b4bf5",
   "metadata": {
    "execution": {
     "iopub.execute_input": "2024-10-17T07:16:50.949273Z",
     "iopub.status.busy": "2024-10-17T07:16:50.949114Z",
     "iopub.status.idle": "2024-10-17T07:16:50.959930Z",
     "shell.execute_reply": "2024-10-17T07:16:50.959474Z"
    }
   },
   "outputs": [
    {
     "ename": "NameError",
     "evalue": "name 'rc' is not defined",
     "output_type": "error",
     "traceback": [
      "\u001b[0;31m---------------------------------------------------------------------------\u001b[0m",
      "\u001b[0;31mNameError\u001b[0m                                 Traceback (most recent call last)",
      "Cell \u001b[0;32mIn[11], line 1\u001b[0m\n\u001b[0;32m----> 1\u001b[0m fig \u001b[38;5;241m=\u001b[39m \u001b[43mrc\u001b[49m\u001b[38;5;241m.\u001b[39mplot(hide_xp\u001b[38;5;241m=\u001b[39m\u001b[38;5;28;01mTrue\u001b[39;00m, always_show_alpha\u001b[38;5;241m=\u001b[39m\u001b[38;5;28;01mTrue\u001b[39;00m)\n",
      "\u001b[0;31mNameError\u001b[0m: name 'rc' is not defined"
     ]
    }
   ],
   "source": [
    "fig = rc.plot(hide_xp=True, always_show_alpha=True)"
   ]
  }
 ],
 "metadata": {
  "kernelspec": {
   "display_name": "Python 3 (ipykernel)",
   "language": "python",
   "name": "python3"
  },
  "language_info": {
   "codemirror_mode": {
    "name": "ipython",
    "version": 3
   },
   "file_extension": ".py",
   "mimetype": "text/x-python",
   "name": "python",
   "nbconvert_exporter": "python",
   "pygments_lexer": "ipython3",
   "version": "3.11.10"
  }
 },
 "nbformat": 4,
 "nbformat_minor": 5
}
