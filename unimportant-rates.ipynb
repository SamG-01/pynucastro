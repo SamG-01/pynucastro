{
 "cells": [
  {
   "cell_type": "markdown",
   "id": "1e58a466-fdde-49df-925a-df4014b63c97",
   "metadata": {},
   "source": [
    "# Removing Unimportant Rates\n",
    "\n",
    "When you create a network given a list of nuclei, it will pull in all of the rates that connect those nuclei in the library, even if they are not important for the thermodynamic conditions under which the network will be used.\n",
    "\n",
    "Here we see how to feed a set of thermodynamic conditions to a `RateCollection` and remove the rates that are never important.\n",
    "\n",
    "Let's consider the case of wanting to model H burning in conditions close to the core of the Sun.  We start by generating a network with all of the pp and CNO nuclei"
   ]
  },
  {
   "cell_type": "code",
   "execution_count": 1,
   "id": "a5b1e843-df74-478e-b42c-ce3a760841bf",
   "metadata": {
    "execution": {
     "iopub.execute_input": "2024-10-10T10:09:42.078811Z",
     "iopub.status.busy": "2024-10-10T10:09:42.078619Z",
     "iopub.status.idle": "2024-10-10T10:09:43.476620Z",
     "shell.execute_reply": "2024-10-10T10:09:43.476053Z"
    }
   },
   "outputs": [],
   "source": [
    "import pynucastro as pyna"
   ]
  },
  {
   "cell_type": "code",
   "execution_count": 2,
   "id": "c40360a2-f64a-4ff8-8909-9e53338a5ec9",
   "metadata": {
    "execution": {
     "iopub.execute_input": "2024-10-10T10:09:43.478934Z",
     "iopub.status.busy": "2024-10-10T10:09:43.478404Z",
     "iopub.status.idle": "2024-10-10T10:09:43.903243Z",
     "shell.execute_reply": "2024-10-10T10:09:43.902547Z"
    }
   },
   "outputs": [
    {
     "ename": "RateFileError",
     "evalue": "File 'reaclib_default2_20220329' not found in the working directory, /opt/hostedtoolcache/Python/3.11.10/x64/lib/python3.11/site-packages/pynucastro/rates/library, or /opt/hostedtoolcache/Python/3.11.10/x64/lib/python3.11/site-packages/pynucastro/rates/tabular",
     "output_type": "error",
     "traceback": [
      "\u001b[0;31m---------------------------------------------------------------------------\u001b[0m",
      "\u001b[0;31mRateFileError\u001b[0m                             Traceback (most recent call last)",
      "Cell \u001b[0;32mIn[2], line 1\u001b[0m\n\u001b[0;32m----> 1\u001b[0m reaclib_library \u001b[38;5;241m=\u001b[39m \u001b[43mpyna\u001b[49m\u001b[38;5;241;43m.\u001b[39;49m\u001b[43mReacLibLibrary\u001b[49m\u001b[43m(\u001b[49m\u001b[43m)\u001b[49m\n",
      "File \u001b[0;32m/opt/hostedtoolcache/Python/3.11.10/x64/lib/python3.11/site-packages/pynucastro/rates/library.py:698\u001b[0m, in \u001b[0;36mReacLibLibrary.__init__\u001b[0;34m(self)\u001b[0m\n\u001b[1;32m    696\u001b[0m \u001b[38;5;28;01mdef\u001b[39;00m \u001b[38;5;21m__init__\u001b[39m(\u001b[38;5;28mself\u001b[39m):\n\u001b[1;32m    697\u001b[0m     libfile \u001b[38;5;241m=\u001b[39m \u001b[38;5;124m'\u001b[39m\u001b[38;5;124mreaclib_default2_20220329\u001b[39m\u001b[38;5;124m'\u001b[39m\n\u001b[0;32m--> 698\u001b[0m     \u001b[43mLibrary\u001b[49m\u001b[38;5;241;43m.\u001b[39;49m\u001b[38;5;21;43m__init__\u001b[39;49m\u001b[43m(\u001b[49m\u001b[38;5;28;43mself\u001b[39;49m\u001b[43m,\u001b[49m\u001b[43m \u001b[49m\u001b[43mlibfile\u001b[49m\u001b[38;5;241;43m=\u001b[39;49m\u001b[43mlibfile\u001b[49m\u001b[43m)\u001b[49m\n",
      "File \u001b[0;32m/opt/hostedtoolcache/Python/3.11.10/x64/lib/python3.11/site-packages/pynucastro/rates/library.py:141\u001b[0m, in \u001b[0;36mLibrary.__init__\u001b[0;34m(self, libfile, rates)\u001b[0m\n\u001b[1;32m    138\u001b[0m \u001b[38;5;28mself\u001b[39m\u001b[38;5;241m.\u001b[39m_library_source_lines \u001b[38;5;241m=\u001b[39m collections\u001b[38;5;241m.\u001b[39mdeque()\n\u001b[1;32m    140\u001b[0m \u001b[38;5;28;01mif\u001b[39;00m \u001b[38;5;28mself\u001b[39m\u001b[38;5;241m.\u001b[39m_library_file:\n\u001b[0;32m--> 141\u001b[0m     \u001b[38;5;28mself\u001b[39m\u001b[38;5;241m.\u001b[39m_library_file \u001b[38;5;241m=\u001b[39m \u001b[43m_find_rate_file\u001b[49m\u001b[43m(\u001b[49m\u001b[38;5;28;43mself\u001b[39;49m\u001b[38;5;241;43m.\u001b[39;49m\u001b[43m_library_file\u001b[49m\u001b[43m)\u001b[49m\n\u001b[1;32m    142\u001b[0m     \u001b[38;5;28mself\u001b[39m\u001b[38;5;241m.\u001b[39m_read_library_file()\n",
      "File \u001b[0;32m/opt/hostedtoolcache/Python/3.11.10/x64/lib/python3.11/site-packages/pynucastro/rates/rate.py:100\u001b[0m, in \u001b[0;36m_find_rate_file\u001b[0;34m(ratename)\u001b[0m\n\u001b[1;32m     97\u001b[0m         \u001b[38;5;28;01mreturn\u001b[39;00m x\u001b[38;5;241m.\u001b[39mresolve()\n\u001b[1;32m     99\u001b[0m \u001b[38;5;66;03m# notify user we can't find the file\u001b[39;00m\n\u001b[0;32m--> 100\u001b[0m \u001b[38;5;28;01mraise\u001b[39;00m RateFileError(\u001b[38;5;124mf\u001b[39m\u001b[38;5;124m'\u001b[39m\u001b[38;5;124mFile \u001b[39m\u001b[38;5;132;01m{\u001b[39;00mratename\u001b[38;5;132;01m!r}\u001b[39;00m\u001b[38;5;124m not found in the working directory, \u001b[39m\u001b[38;5;132;01m{\u001b[39;00m_pynucastro_rates_dir\u001b[38;5;132;01m}\u001b[39;00m\u001b[38;5;124m, or \u001b[39m\u001b[38;5;132;01m{\u001b[39;00m_pynucastro_tabular_dir\u001b[38;5;132;01m}\u001b[39;00m\u001b[38;5;124m'\u001b[39m)\n",
      "\u001b[0;31mRateFileError\u001b[0m: File 'reaclib_default2_20220329' not found in the working directory, /opt/hostedtoolcache/Python/3.11.10/x64/lib/python3.11/site-packages/pynucastro/rates/library, or /opt/hostedtoolcache/Python/3.11.10/x64/lib/python3.11/site-packages/pynucastro/rates/tabular"
     ]
    }
   ],
   "source": [
    "reaclib_library = pyna.ReacLibLibrary()"
   ]
  },
  {
   "cell_type": "code",
   "execution_count": 3,
   "id": "968fdc22-a285-4183-8bb1-55db43460a32",
   "metadata": {
    "execution": {
     "iopub.execute_input": "2024-10-10T10:09:43.905139Z",
     "iopub.status.busy": "2024-10-10T10:09:43.904957Z",
     "iopub.status.idle": "2024-10-10T10:09:43.919157Z",
     "shell.execute_reply": "2024-10-10T10:09:43.918539Z"
    }
   },
   "outputs": [
    {
     "ename": "NameError",
     "evalue": "name 'reaclib_library' is not defined",
     "output_type": "error",
     "traceback": [
      "\u001b[0;31m---------------------------------------------------------------------------\u001b[0m",
      "\u001b[0;31mNameError\u001b[0m                                 Traceback (most recent call last)",
      "Cell \u001b[0;32mIn[3], line 1\u001b[0m\n\u001b[0;32m----> 1\u001b[0m h_burn \u001b[38;5;241m=\u001b[39m \u001b[43mreaclib_library\u001b[49m\u001b[38;5;241m.\u001b[39mlinking_nuclei([\u001b[38;5;124m\"\u001b[39m\u001b[38;5;124mh1\u001b[39m\u001b[38;5;124m\"\u001b[39m, \u001b[38;5;124m\"\u001b[39m\u001b[38;5;124mh2\u001b[39m\u001b[38;5;124m\"\u001b[39m, \u001b[38;5;124m\"\u001b[39m\u001b[38;5;124mhe3\u001b[39m\u001b[38;5;124m\"\u001b[39m, \u001b[38;5;124m\"\u001b[39m\u001b[38;5;124mhe4\u001b[39m\u001b[38;5;124m\"\u001b[39m,\n\u001b[1;32m      2\u001b[0m                                          \u001b[38;5;124m\"\u001b[39m\u001b[38;5;124mc12\u001b[39m\u001b[38;5;124m\"\u001b[39m, \u001b[38;5;124m\"\u001b[39m\u001b[38;5;124mc13\u001b[39m\u001b[38;5;124m\"\u001b[39m, \u001b[38;5;124m\"\u001b[39m\u001b[38;5;124mn13\u001b[39m\u001b[38;5;124m\"\u001b[39m, \u001b[38;5;124m\"\u001b[39m\u001b[38;5;124mn14\u001b[39m\u001b[38;5;124m\"\u001b[39m, \u001b[38;5;124m\"\u001b[39m\u001b[38;5;124mn15\u001b[39m\u001b[38;5;124m\"\u001b[39m, \u001b[38;5;124m\"\u001b[39m\u001b[38;5;124mo15\u001b[39m\u001b[38;5;124m\"\u001b[39m])\n",
      "\u001b[0;31mNameError\u001b[0m: name 'reaclib_library' is not defined"
     ]
    }
   ],
   "source": [
    "h_burn = reaclib_library.linking_nuclei([\"h1\", \"h2\", \"he3\", \"he4\",\n",
    "                                         \"c12\", \"c13\", \"n13\", \"n14\", \"n15\", \"o15\"])"
   ]
  },
  {
   "cell_type": "code",
   "execution_count": 4,
   "id": "990f533d-d595-4493-a744-33e72d385efa",
   "metadata": {
    "execution": {
     "iopub.execute_input": "2024-10-10T10:09:43.921279Z",
     "iopub.status.busy": "2024-10-10T10:09:43.920933Z",
     "iopub.status.idle": "2024-10-10T10:09:43.935678Z",
     "shell.execute_reply": "2024-10-10T10:09:43.935105Z"
    }
   },
   "outputs": [
    {
     "ename": "NameError",
     "evalue": "name 'h_burn' is not defined",
     "output_type": "error",
     "traceback": [
      "\u001b[0;31m---------------------------------------------------------------------------\u001b[0m",
      "\u001b[0;31mNameError\u001b[0m                                 Traceback (most recent call last)",
      "Cell \u001b[0;32mIn[4], line 1\u001b[0m\n\u001b[0;32m----> 1\u001b[0m rc \u001b[38;5;241m=\u001b[39m pyna\u001b[38;5;241m.\u001b[39mRateCollection(libraries\u001b[38;5;241m=\u001b[39m[\u001b[43mh_burn\u001b[49m])\n",
      "\u001b[0;31mNameError\u001b[0m: name 'h_burn' is not defined"
     ]
    }
   ],
   "source": [
    "rc = pyna.RateCollection(libraries=[h_burn])"
   ]
  },
  {
   "cell_type": "code",
   "execution_count": 5,
   "id": "48a679a4-f617-496b-8f5f-b284f5aaea3c",
   "metadata": {
    "execution": {
     "iopub.execute_input": "2024-10-10T10:09:43.937935Z",
     "iopub.status.busy": "2024-10-10T10:09:43.937424Z",
     "iopub.status.idle": "2024-10-10T10:09:43.952614Z",
     "shell.execute_reply": "2024-10-10T10:09:43.952154Z"
    }
   },
   "outputs": [
    {
     "ename": "NameError",
     "evalue": "name 'rc' is not defined",
     "output_type": "error",
     "traceback": [
      "\u001b[0;31m---------------------------------------------------------------------------\u001b[0m",
      "\u001b[0;31mNameError\u001b[0m                                 Traceback (most recent call last)",
      "Cell \u001b[0;32mIn[5], line 1\u001b[0m\n\u001b[0;32m----> 1\u001b[0m fig \u001b[38;5;241m=\u001b[39m \u001b[43mrc\u001b[49m\u001b[38;5;241m.\u001b[39mplot(hide_xp\u001b[38;5;241m=\u001b[39m\u001b[38;5;28;01mTrue\u001b[39;00m)\n",
      "\u001b[0;31mNameError\u001b[0m: name 'rc' is not defined"
     ]
    }
   ],
   "source": [
    "fig = rc.plot(hide_xp=True)"
   ]
  },
  {
   "cell_type": "markdown",
   "id": "9fc97052-5605-46ed-a973-be591542a57f",
   "metadata": {},
   "source": [
    "Notice a few things:\n",
    "    \n",
    "* The 3-alpha rate (and its reverse) are included\n",
    "* Lots of reverse rates are included between the CNO nuclei, but we only expect that the forward rates in the traditional CNO cycle matter"
   ]
  },
  {
   "cell_type": "markdown",
   "id": "62faae7c-b74f-461b-83c5-a36d8fe4b95e",
   "metadata": {},
   "source": [
    "To filter rates we need to pass in a set of thermodynamic conditions, including density and temperature (in CGS units) and a `Composition` object giving the mass fractions"
   ]
  },
  {
   "cell_type": "code",
   "execution_count": 6,
   "id": "f692df22-b9bd-4ccf-a07c-ca30d8eed006",
   "metadata": {
    "execution": {
     "iopub.execute_input": "2024-10-10T10:09:43.954393Z",
     "iopub.status.busy": "2024-10-10T10:09:43.954070Z",
     "iopub.status.idle": "2024-10-10T10:09:43.967228Z",
     "shell.execute_reply": "2024-10-10T10:09:43.966762Z"
    }
   },
   "outputs": [
    {
     "ename": "NameError",
     "evalue": "name 'rc' is not defined",
     "output_type": "error",
     "traceback": [
      "\u001b[0;31m---------------------------------------------------------------------------\u001b[0m",
      "\u001b[0;31mNameError\u001b[0m                                 Traceback (most recent call last)",
      "Cell \u001b[0;32mIn[6], line 3\u001b[0m\n\u001b[1;32m      1\u001b[0m rho \u001b[38;5;241m=\u001b[39m \u001b[38;5;241m100\u001b[39m\n\u001b[1;32m      2\u001b[0m T \u001b[38;5;241m=\u001b[39m \u001b[38;5;241m1.5e7\u001b[39m\n\u001b[0;32m----> 3\u001b[0m comp \u001b[38;5;241m=\u001b[39m pyna\u001b[38;5;241m.\u001b[39mComposition(\u001b[43mrc\u001b[49m\u001b[38;5;241m.\u001b[39mget_nuclei())\n\u001b[1;32m      4\u001b[0m comp\u001b[38;5;241m.\u001b[39mset_solar_like()\n\u001b[1;32m      6\u001b[0m state \u001b[38;5;241m=\u001b[39m (rho, T, comp)\n",
      "\u001b[0;31mNameError\u001b[0m: name 'rc' is not defined"
     ]
    }
   ],
   "source": [
    "rho = 100\n",
    "T = 1.5e7\n",
    "comp = pyna.Composition(rc.get_nuclei())\n",
    "comp.set_solar_like()\n",
    "\n",
    "state = (rho, T, comp)"
   ]
  },
  {
   "cell_type": "markdown",
   "id": "c5e22b5d-15aa-47a2-8427-f2e02820b360",
   "metadata": {},
   "source": [
    "Now we find the rates that are not important.  We pass in a cutoff, such that any rate that is smaller that cutoff $\\times$ fastest-rate will be returned"
   ]
  },
  {
   "cell_type": "code",
   "execution_count": 7,
   "id": "dc343340-3c6e-449f-aaf0-ea882103545c",
   "metadata": {
    "execution": {
     "iopub.execute_input": "2024-10-10T10:09:43.969008Z",
     "iopub.status.busy": "2024-10-10T10:09:43.968681Z",
     "iopub.status.idle": "2024-10-10T10:09:43.981274Z",
     "shell.execute_reply": "2024-10-10T10:09:43.980629Z"
    }
   },
   "outputs": [
    {
     "ename": "NameError",
     "evalue": "name 'rc' is not defined",
     "output_type": "error",
     "traceback": [
      "\u001b[0;31m---------------------------------------------------------------------------\u001b[0m",
      "\u001b[0;31mNameError\u001b[0m                                 Traceback (most recent call last)",
      "Cell \u001b[0;32mIn[7], line 2\u001b[0m\n\u001b[1;32m      1\u001b[0m cutoff_ratio \u001b[38;5;241m=\u001b[39m \u001b[38;5;241m1.e-20\u001b[39m\n\u001b[0;32m----> 2\u001b[0m unimportant_rates \u001b[38;5;241m=\u001b[39m \u001b[43mrc\u001b[49m\u001b[38;5;241m.\u001b[39mfind_unimportant_rates([state], cutoff_ratio)\n",
      "\u001b[0;31mNameError\u001b[0m: name 'rc' is not defined"
     ]
    }
   ],
   "source": [
    "cutoff_ratio = 1.e-20\n",
    "unimportant_rates = rc.find_unimportant_rates([state], cutoff_ratio)"
   ]
  },
  {
   "cell_type": "markdown",
   "id": "e4de08ea-9739-48da-a9ce-0d24d1c462b0",
   "metadata": {},
   "source": [
    "Here `unimportant_rates` is a dictionary with the rate as the key and the ratio of the rate compared to the fastest rate as the value."
   ]
  },
  {
   "cell_type": "code",
   "execution_count": 8,
   "id": "a773faae-519e-49df-abb2-464789acdcc5",
   "metadata": {
    "execution": {
     "iopub.execute_input": "2024-10-10T10:09:43.983634Z",
     "iopub.status.busy": "2024-10-10T10:09:43.983147Z",
     "iopub.status.idle": "2024-10-10T10:09:43.996316Z",
     "shell.execute_reply": "2024-10-10T10:09:43.995745Z"
    }
   },
   "outputs": [
    {
     "ename": "NameError",
     "evalue": "name 'unimportant_rates' is not defined",
     "output_type": "error",
     "traceback": [
      "\u001b[0;31m---------------------------------------------------------------------------\u001b[0m",
      "\u001b[0;31mNameError\u001b[0m                                 Traceback (most recent call last)",
      "Cell \u001b[0;32mIn[8], line 1\u001b[0m\n\u001b[0;32m----> 1\u001b[0m \u001b[43munimportant_rates\u001b[49m\n",
      "\u001b[0;31mNameError\u001b[0m: name 'unimportant_rates' is not defined"
     ]
    }
   ],
   "source": [
    "unimportant_rates"
   ]
  },
  {
   "cell_type": "markdown",
   "id": "c83b071b-d3a5-41c5-be7b-80b9ce44fd63",
   "metadata": {},
   "source": [
    "If we are happy with what it found, we can remove them from the `RateCollection`"
   ]
  },
  {
   "cell_type": "code",
   "execution_count": 9,
   "id": "53fe56db-8110-4ed9-a745-f042ac44c7fb",
   "metadata": {
    "execution": {
     "iopub.execute_input": "2024-10-10T10:09:43.998265Z",
     "iopub.status.busy": "2024-10-10T10:09:43.997860Z",
     "iopub.status.idle": "2024-10-10T10:09:44.010498Z",
     "shell.execute_reply": "2024-10-10T10:09:44.010028Z"
    }
   },
   "outputs": [
    {
     "ename": "NameError",
     "evalue": "name 'rc' is not defined",
     "output_type": "error",
     "traceback": [
      "\u001b[0;31m---------------------------------------------------------------------------\u001b[0m",
      "\u001b[0;31mNameError\u001b[0m                                 Traceback (most recent call last)",
      "Cell \u001b[0;32mIn[9], line 1\u001b[0m\n\u001b[0;32m----> 1\u001b[0m \u001b[43mrc\u001b[49m\u001b[38;5;241m.\u001b[39mremove_rates(unimportant_rates)\n",
      "\u001b[0;31mNameError\u001b[0m: name 'rc' is not defined"
     ]
    }
   ],
   "source": [
    "rc.remove_rates(unimportant_rates)"
   ]
  },
  {
   "cell_type": "markdown",
   "id": "7a7d68f4-ecf4-4898-a212-7dfd65bab06b",
   "metadata": {},
   "source": [
    "Now we can look at the updated rate collection.  Notice that the 3-alpha rate is gone as are a lot of the reverse rates"
   ]
  },
  {
   "cell_type": "code",
   "execution_count": 10,
   "id": "631d79b8-9acc-4e0c-80b3-1bee62f3cd02",
   "metadata": {
    "execution": {
     "iopub.execute_input": "2024-10-10T10:09:44.012244Z",
     "iopub.status.busy": "2024-10-10T10:09:44.012072Z",
     "iopub.status.idle": "2024-10-10T10:09:44.024484Z",
     "shell.execute_reply": "2024-10-10T10:09:44.023895Z"
    }
   },
   "outputs": [
    {
     "ename": "NameError",
     "evalue": "name 'rc' is not defined",
     "output_type": "error",
     "traceback": [
      "\u001b[0;31m---------------------------------------------------------------------------\u001b[0m",
      "\u001b[0;31mNameError\u001b[0m                                 Traceback (most recent call last)",
      "Cell \u001b[0;32mIn[10], line 1\u001b[0m\n\u001b[0;32m----> 1\u001b[0m \u001b[43mrc\u001b[49m\n",
      "\u001b[0;31mNameError\u001b[0m: name 'rc' is not defined"
     ]
    }
   ],
   "source": [
    "rc"
   ]
  },
  {
   "cell_type": "code",
   "execution_count": 11,
   "id": "1747b33c-f7ef-4388-82b1-ae46978b4bf5",
   "metadata": {
    "execution": {
     "iopub.execute_input": "2024-10-10T10:09:44.026513Z",
     "iopub.status.busy": "2024-10-10T10:09:44.026112Z",
     "iopub.status.idle": "2024-10-10T10:09:44.040270Z",
     "shell.execute_reply": "2024-10-10T10:09:44.039697Z"
    }
   },
   "outputs": [
    {
     "ename": "NameError",
     "evalue": "name 'rc' is not defined",
     "output_type": "error",
     "traceback": [
      "\u001b[0;31m---------------------------------------------------------------------------\u001b[0m",
      "\u001b[0;31mNameError\u001b[0m                                 Traceback (most recent call last)",
      "Cell \u001b[0;32mIn[11], line 1\u001b[0m\n\u001b[0;32m----> 1\u001b[0m fig \u001b[38;5;241m=\u001b[39m \u001b[43mrc\u001b[49m\u001b[38;5;241m.\u001b[39mplot(hide_xp\u001b[38;5;241m=\u001b[39m\u001b[38;5;28;01mTrue\u001b[39;00m, always_show_alpha\u001b[38;5;241m=\u001b[39m\u001b[38;5;28;01mTrue\u001b[39;00m)\n",
      "\u001b[0;31mNameError\u001b[0m: name 'rc' is not defined"
     ]
    }
   ],
   "source": [
    "fig = rc.plot(hide_xp=True, always_show_alpha=True)"
   ]
  }
 ],
 "metadata": {
  "kernelspec": {
   "display_name": "Python 3 (ipykernel)",
   "language": "python",
   "name": "python3"
  },
  "language_info": {
   "codemirror_mode": {
    "name": "ipython",
    "version": 3
   },
   "file_extension": ".py",
   "mimetype": "text/x-python",
   "name": "python",
   "nbconvert_exporter": "python",
   "pygments_lexer": "ipython3",
   "version": "3.11.10"
  }
 },
 "nbformat": 4,
 "nbformat_minor": 5
}
