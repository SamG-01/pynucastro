{
 "cells": [
  {
   "cell_type": "markdown",
   "id": "1e58a466-fdde-49df-925a-df4014b63c97",
   "metadata": {},
   "source": [
    "# Removing Unimportant Rates\n",
    "\n",
    "When you create a network given a list of nuclei, it will pull in all of the rates that connect those nuclei in the library, even if they are not important for the thermodynamic conditions under which the network will be used.\n",
    "\n",
    "Here we see how to feed a set of thermodynamic conditions to a `RateCollection` and remove the rates that are never important.\n",
    "\n",
    "Let's consider the case of wanting to model H burning in conditions close to the core of the Sun.  We start by generating a network with all of the pp and CNO nuclei"
   ]
  },
  {
   "cell_type": "code",
   "execution_count": 1,
   "id": "a5b1e843-df74-478e-b42c-ce3a760841bf",
   "metadata": {
    "execution": {
     "iopub.execute_input": "2024-10-17T08:14:24.161023Z",
     "iopub.status.busy": "2024-10-17T08:14:24.160861Z",
     "iopub.status.idle": "2024-10-17T08:14:25.543642Z",
     "shell.execute_reply": "2024-10-17T08:14:25.543092Z"
    }
   },
   "outputs": [],
   "source": [
    "import pynucastro as pyna"
   ]
  },
  {
   "cell_type": "code",
   "execution_count": 2,
   "id": "c40360a2-f64a-4ff8-8909-9e53338a5ec9",
   "metadata": {
    "execution": {
     "iopub.execute_input": "2024-10-17T08:14:25.545823Z",
     "iopub.status.busy": "2024-10-17T08:14:25.545395Z",
     "iopub.status.idle": "2024-10-17T08:14:25.974663Z",
     "shell.execute_reply": "2024-10-17T08:14:25.974033Z"
    }
   },
   "outputs": [
    {
     "ename": "AttributeError",
     "evalue": "'ReacLibLibrary' object has no attribute '_rates'",
     "output_type": "error",
     "traceback": [
      "\u001b[0;31m---------------------------------------------------------------------------\u001b[0m",
      "\u001b[0;31mAttributeError\u001b[0m                            Traceback (most recent call last)",
      "Cell \u001b[0;32mIn[2], line 1\u001b[0m\n\u001b[0;32m----> 1\u001b[0m reaclib_library \u001b[38;5;241m=\u001b[39m \u001b[43mpyna\u001b[49m\u001b[38;5;241;43m.\u001b[39;49m\u001b[43mReacLibLibrary\u001b[49m\u001b[43m(\u001b[49m\u001b[43m)\u001b[49m\n",
      "File \u001b[0;32m/opt/hostedtoolcache/Python/3.11.10/x64/lib/python3.11/site-packages/pynucastro/rates/library.py:696\u001b[0m, in \u001b[0;36mReacLibLibrary.__init__\u001b[0;34m(self)\u001b[0m\n\u001b[1;32m    694\u001b[0m \u001b[38;5;28;01mdef\u001b[39;00m \u001b[38;5;21m__init__\u001b[39m(\u001b[38;5;28mself\u001b[39m):\n\u001b[1;32m    695\u001b[0m     libfile \u001b[38;5;241m=\u001b[39m \u001b[38;5;124m'\u001b[39m\u001b[38;5;124mreaclib_default2_20220329\u001b[39m\u001b[38;5;124m'\u001b[39m\n\u001b[0;32m--> 696\u001b[0m     \u001b[43mLibrary\u001b[49m\u001b[38;5;241;43m.\u001b[39;49m\u001b[38;5;21;43m__init__\u001b[39;49m\u001b[43m(\u001b[49m\u001b[38;5;28;43mself\u001b[39;49m\u001b[43m,\u001b[49m\u001b[43m \u001b[49m\u001b[43mlibfile\u001b[49m\u001b[38;5;241;43m=\u001b[39;49m\u001b[43mlibfile\u001b[49m\u001b[43m)\u001b[49m\n",
      "File \u001b[0;32m/opt/hostedtoolcache/Python/3.11.10/x64/lib/python3.11/site-packages/pynucastro/rates/library.py:138\u001b[0m, in \u001b[0;36mLibrary.__init__\u001b[0;34m(self, libfile, rates)\u001b[0m\n\u001b[1;32m    136\u001b[0m \u001b[38;5;28;01mif\u001b[39;00m \u001b[38;5;28mself\u001b[39m\u001b[38;5;241m.\u001b[39m_library_file:\n\u001b[1;32m    137\u001b[0m     \u001b[38;5;28mself\u001b[39m\u001b[38;5;241m.\u001b[39m_library_file \u001b[38;5;241m=\u001b[39m _find_rate_file(\u001b[38;5;28mself\u001b[39m\u001b[38;5;241m.\u001b[39m_library_file)\n\u001b[0;32m--> 138\u001b[0m     \u001b[38;5;28;43mself\u001b[39;49m\u001b[38;5;241;43m.\u001b[39;49m\u001b[43m_read_library_file\u001b[49m\u001b[43m(\u001b[49m\u001b[43m)\u001b[49m\n",
      "File \u001b[0;32m/opt/hostedtoolcache/Python/3.11.10/x64/lib/python3.11/site-packages/pynucastro/rates/library.py:312\u001b[0m, in \u001b[0;36mLibrary._read_library_file\u001b[0;34m(self)\u001b[0m\n\u001b[1;32m    310\u001b[0m \u001b[38;5;28;01melse\u001b[39;00m:\n\u001b[1;32m    311\u001b[0m     rid \u001b[38;5;241m=\u001b[39m r\u001b[38;5;241m.\u001b[39mget_rate_id()\n\u001b[0;32m--> 312\u001b[0m     \u001b[38;5;28;01mif\u001b[39;00m rid \u001b[38;5;129;01min\u001b[39;00m \u001b[38;5;28;43mself\u001b[39;49m\u001b[38;5;241;43m.\u001b[39;49m\u001b[43m_rates\u001b[49m:\n\u001b[1;32m    313\u001b[0m         \u001b[38;5;28mself\u001b[39m\u001b[38;5;241m.\u001b[39m_rates[rid] \u001b[38;5;241m=\u001b[39m \u001b[38;5;28mself\u001b[39m\u001b[38;5;241m.\u001b[39m_rates[rid] \u001b[38;5;241m+\u001b[39m r\n\u001b[1;32m    314\u001b[0m     \u001b[38;5;28;01melse\u001b[39;00m:\n",
      "\u001b[0;31mAttributeError\u001b[0m: 'ReacLibLibrary' object has no attribute '_rates'"
     ]
    }
   ],
   "source": [
    "reaclib_library = pyna.ReacLibLibrary()"
   ]
  },
  {
   "cell_type": "code",
   "execution_count": 3,
   "id": "968fdc22-a285-4183-8bb1-55db43460a32",
   "metadata": {
    "execution": {
     "iopub.execute_input": "2024-10-17T08:14:25.976482Z",
     "iopub.status.busy": "2024-10-17T08:14:25.976306Z",
     "iopub.status.idle": "2024-10-17T08:14:25.989188Z",
     "shell.execute_reply": "2024-10-17T08:14:25.988640Z"
    }
   },
   "outputs": [
    {
     "ename": "NameError",
     "evalue": "name 'reaclib_library' is not defined",
     "output_type": "error",
     "traceback": [
      "\u001b[0;31m---------------------------------------------------------------------------\u001b[0m",
      "\u001b[0;31mNameError\u001b[0m                                 Traceback (most recent call last)",
      "Cell \u001b[0;32mIn[3], line 1\u001b[0m\n\u001b[0;32m----> 1\u001b[0m h_burn \u001b[38;5;241m=\u001b[39m \u001b[43mreaclib_library\u001b[49m\u001b[38;5;241m.\u001b[39mlinking_nuclei([\u001b[38;5;124m\"\u001b[39m\u001b[38;5;124mh1\u001b[39m\u001b[38;5;124m\"\u001b[39m, \u001b[38;5;124m\"\u001b[39m\u001b[38;5;124mh2\u001b[39m\u001b[38;5;124m\"\u001b[39m, \u001b[38;5;124m\"\u001b[39m\u001b[38;5;124mhe3\u001b[39m\u001b[38;5;124m\"\u001b[39m, \u001b[38;5;124m\"\u001b[39m\u001b[38;5;124mhe4\u001b[39m\u001b[38;5;124m\"\u001b[39m,\n\u001b[1;32m      2\u001b[0m                                          \u001b[38;5;124m\"\u001b[39m\u001b[38;5;124mc12\u001b[39m\u001b[38;5;124m\"\u001b[39m, \u001b[38;5;124m\"\u001b[39m\u001b[38;5;124mc13\u001b[39m\u001b[38;5;124m\"\u001b[39m, \u001b[38;5;124m\"\u001b[39m\u001b[38;5;124mn13\u001b[39m\u001b[38;5;124m\"\u001b[39m, \u001b[38;5;124m\"\u001b[39m\u001b[38;5;124mn14\u001b[39m\u001b[38;5;124m\"\u001b[39m, \u001b[38;5;124m\"\u001b[39m\u001b[38;5;124mn15\u001b[39m\u001b[38;5;124m\"\u001b[39m, \u001b[38;5;124m\"\u001b[39m\u001b[38;5;124mo15\u001b[39m\u001b[38;5;124m\"\u001b[39m])\n",
      "\u001b[0;31mNameError\u001b[0m: name 'reaclib_library' is not defined"
     ]
    }
   ],
   "source": [
    "h_burn = reaclib_library.linking_nuclei([\"h1\", \"h2\", \"he3\", \"he4\",\n",
    "                                         \"c12\", \"c13\", \"n13\", \"n14\", \"n15\", \"o15\"])"
   ]
  },
  {
   "cell_type": "code",
   "execution_count": 4,
   "id": "990f533d-d595-4493-a744-33e72d385efa",
   "metadata": {
    "execution": {
     "iopub.execute_input": "2024-10-17T08:14:25.990937Z",
     "iopub.status.busy": "2024-10-17T08:14:25.990633Z",
     "iopub.status.idle": "2024-10-17T08:14:26.001950Z",
     "shell.execute_reply": "2024-10-17T08:14:26.001402Z"
    }
   },
   "outputs": [
    {
     "ename": "NameError",
     "evalue": "name 'h_burn' is not defined",
     "output_type": "error",
     "traceback": [
      "\u001b[0;31m---------------------------------------------------------------------------\u001b[0m",
      "\u001b[0;31mNameError\u001b[0m                                 Traceback (most recent call last)",
      "Cell \u001b[0;32mIn[4], line 1\u001b[0m\n\u001b[0;32m----> 1\u001b[0m rc \u001b[38;5;241m=\u001b[39m pyna\u001b[38;5;241m.\u001b[39mRateCollection(libraries\u001b[38;5;241m=\u001b[39m[\u001b[43mh_burn\u001b[49m])\n",
      "\u001b[0;31mNameError\u001b[0m: name 'h_burn' is not defined"
     ]
    }
   ],
   "source": [
    "rc = pyna.RateCollection(libraries=[h_burn])"
   ]
  },
  {
   "cell_type": "code",
   "execution_count": 5,
   "id": "48a679a4-f617-496b-8f5f-b284f5aaea3c",
   "metadata": {
    "execution": {
     "iopub.execute_input": "2024-10-17T08:14:26.003850Z",
     "iopub.status.busy": "2024-10-17T08:14:26.003440Z",
     "iopub.status.idle": "2024-10-17T08:14:26.014428Z",
     "shell.execute_reply": "2024-10-17T08:14:26.013995Z"
    }
   },
   "outputs": [
    {
     "ename": "NameError",
     "evalue": "name 'rc' is not defined",
     "output_type": "error",
     "traceback": [
      "\u001b[0;31m---------------------------------------------------------------------------\u001b[0m",
      "\u001b[0;31mNameError\u001b[0m                                 Traceback (most recent call last)",
      "Cell \u001b[0;32mIn[5], line 1\u001b[0m\n\u001b[0;32m----> 1\u001b[0m fig \u001b[38;5;241m=\u001b[39m \u001b[43mrc\u001b[49m\u001b[38;5;241m.\u001b[39mplot(hide_xp\u001b[38;5;241m=\u001b[39m\u001b[38;5;28;01mTrue\u001b[39;00m)\n",
      "\u001b[0;31mNameError\u001b[0m: name 'rc' is not defined"
     ]
    }
   ],
   "source": [
    "fig = rc.plot(hide_xp=True)"
   ]
  },
  {
   "cell_type": "markdown",
   "id": "9fc97052-5605-46ed-a973-be591542a57f",
   "metadata": {},
   "source": [
    "Notice a few things:\n",
    "    \n",
    "* The 3-alpha rate (and its reverse) are included\n",
    "* Lots of reverse rates are included between the CNO nuclei, but we only expect that the forward rates in the traditional CNO cycle matter"
   ]
  },
  {
   "cell_type": "markdown",
   "id": "62faae7c-b74f-461b-83c5-a36d8fe4b95e",
   "metadata": {},
   "source": [
    "To filter rates we need to pass in a set of thermodynamic conditions, including density and temperature (in CGS units) and a `Composition` object giving the mass fractions"
   ]
  },
  {
   "cell_type": "code",
   "execution_count": 6,
   "id": "f692df22-b9bd-4ccf-a07c-ca30d8eed006",
   "metadata": {
    "execution": {
     "iopub.execute_input": "2024-10-17T08:14:26.016236Z",
     "iopub.status.busy": "2024-10-17T08:14:26.015842Z",
     "iopub.status.idle": "2024-10-17T08:14:26.027960Z",
     "shell.execute_reply": "2024-10-17T08:14:26.027415Z"
    }
   },
   "outputs": [
    {
     "ename": "NameError",
     "evalue": "name 'rc' is not defined",
     "output_type": "error",
     "traceback": [
      "\u001b[0;31m---------------------------------------------------------------------------\u001b[0m",
      "\u001b[0;31mNameError\u001b[0m                                 Traceback (most recent call last)",
      "Cell \u001b[0;32mIn[6], line 3\u001b[0m\n\u001b[1;32m      1\u001b[0m rho \u001b[38;5;241m=\u001b[39m \u001b[38;5;241m100\u001b[39m\n\u001b[1;32m      2\u001b[0m T \u001b[38;5;241m=\u001b[39m \u001b[38;5;241m1.5e7\u001b[39m\n\u001b[0;32m----> 3\u001b[0m comp \u001b[38;5;241m=\u001b[39m pyna\u001b[38;5;241m.\u001b[39mComposition(\u001b[43mrc\u001b[49m\u001b[38;5;241m.\u001b[39mget_nuclei())\n\u001b[1;32m      4\u001b[0m comp\u001b[38;5;241m.\u001b[39mset_solar_like()\n\u001b[1;32m      6\u001b[0m state \u001b[38;5;241m=\u001b[39m (rho, T, comp)\n",
      "\u001b[0;31mNameError\u001b[0m: name 'rc' is not defined"
     ]
    }
   ],
   "source": [
    "rho = 100\n",
    "T = 1.5e7\n",
    "comp = pyna.Composition(rc.get_nuclei())\n",
    "comp.set_solar_like()\n",
    "\n",
    "state = (rho, T, comp)"
   ]
  },
  {
   "cell_type": "markdown",
   "id": "c5e22b5d-15aa-47a2-8427-f2e02820b360",
   "metadata": {},
   "source": [
    "Now we find the rates that are not important.  We pass in a cutoff, such that any rate that is smaller that cutoff $\\times$ fastest-rate will be returned"
   ]
  },
  {
   "cell_type": "code",
   "execution_count": 7,
   "id": "dc343340-3c6e-449f-aaf0-ea882103545c",
   "metadata": {
    "execution": {
     "iopub.execute_input": "2024-10-17T08:14:26.029660Z",
     "iopub.status.busy": "2024-10-17T08:14:26.029335Z",
     "iopub.status.idle": "2024-10-17T08:14:26.040755Z",
     "shell.execute_reply": "2024-10-17T08:14:26.040189Z"
    }
   },
   "outputs": [
    {
     "ename": "NameError",
     "evalue": "name 'rc' is not defined",
     "output_type": "error",
     "traceback": [
      "\u001b[0;31m---------------------------------------------------------------------------\u001b[0m",
      "\u001b[0;31mNameError\u001b[0m                                 Traceback (most recent call last)",
      "Cell \u001b[0;32mIn[7], line 2\u001b[0m\n\u001b[1;32m      1\u001b[0m cutoff_ratio \u001b[38;5;241m=\u001b[39m \u001b[38;5;241m1.e-20\u001b[39m\n\u001b[0;32m----> 2\u001b[0m unimportant_rates \u001b[38;5;241m=\u001b[39m \u001b[43mrc\u001b[49m\u001b[38;5;241m.\u001b[39mfind_unimportant_rates([state], cutoff_ratio)\n",
      "\u001b[0;31mNameError\u001b[0m: name 'rc' is not defined"
     ]
    }
   ],
   "source": [
    "cutoff_ratio = 1.e-20\n",
    "unimportant_rates = rc.find_unimportant_rates([state], cutoff_ratio)"
   ]
  },
  {
   "cell_type": "markdown",
   "id": "e4de08ea-9739-48da-a9ce-0d24d1c462b0",
   "metadata": {},
   "source": [
    "Here `unimportant_rates` is a dictionary with the rate as the key and the ratio of the rate compared to the fastest rate as the value."
   ]
  },
  {
   "cell_type": "code",
   "execution_count": 8,
   "id": "a773faae-519e-49df-abb2-464789acdcc5",
   "metadata": {
    "execution": {
     "iopub.execute_input": "2024-10-17T08:14:26.042683Z",
     "iopub.status.busy": "2024-10-17T08:14:26.042346Z",
     "iopub.status.idle": "2024-10-17T08:14:26.053481Z",
     "shell.execute_reply": "2024-10-17T08:14:26.053037Z"
    }
   },
   "outputs": [
    {
     "ename": "NameError",
     "evalue": "name 'unimportant_rates' is not defined",
     "output_type": "error",
     "traceback": [
      "\u001b[0;31m---------------------------------------------------------------------------\u001b[0m",
      "\u001b[0;31mNameError\u001b[0m                                 Traceback (most recent call last)",
      "Cell \u001b[0;32mIn[8], line 1\u001b[0m\n\u001b[0;32m----> 1\u001b[0m \u001b[43munimportant_rates\u001b[49m\n",
      "\u001b[0;31mNameError\u001b[0m: name 'unimportant_rates' is not defined"
     ]
    }
   ],
   "source": [
    "unimportant_rates"
   ]
  },
  {
   "cell_type": "markdown",
   "id": "c83b071b-d3a5-41c5-be7b-80b9ce44fd63",
   "metadata": {},
   "source": [
    "If we are happy with what it found, we can remove them from the `RateCollection`"
   ]
  },
  {
   "cell_type": "code",
   "execution_count": 9,
   "id": "53fe56db-8110-4ed9-a745-f042ac44c7fb",
   "metadata": {
    "execution": {
     "iopub.execute_input": "2024-10-17T08:14:26.055313Z",
     "iopub.status.busy": "2024-10-17T08:14:26.054799Z",
     "iopub.status.idle": "2024-10-17T08:14:26.065581Z",
     "shell.execute_reply": "2024-10-17T08:14:26.065145Z"
    }
   },
   "outputs": [
    {
     "ename": "NameError",
     "evalue": "name 'rc' is not defined",
     "output_type": "error",
     "traceback": [
      "\u001b[0;31m---------------------------------------------------------------------------\u001b[0m",
      "\u001b[0;31mNameError\u001b[0m                                 Traceback (most recent call last)",
      "Cell \u001b[0;32mIn[9], line 1\u001b[0m\n\u001b[0;32m----> 1\u001b[0m \u001b[43mrc\u001b[49m\u001b[38;5;241m.\u001b[39mremove_rates(unimportant_rates)\n",
      "\u001b[0;31mNameError\u001b[0m: name 'rc' is not defined"
     ]
    }
   ],
   "source": [
    "rc.remove_rates(unimportant_rates)"
   ]
  },
  {
   "cell_type": "markdown",
   "id": "7a7d68f4-ecf4-4898-a212-7dfd65bab06b",
   "metadata": {},
   "source": [
    "Now we can look at the updated rate collection.  Notice that the 3-alpha rate is gone as are a lot of the reverse rates"
   ]
  },
  {
   "cell_type": "code",
   "execution_count": 10,
   "id": "631d79b8-9acc-4e0c-80b3-1bee62f3cd02",
   "metadata": {
    "execution": {
     "iopub.execute_input": "2024-10-17T08:14:26.067250Z",
     "iopub.status.busy": "2024-10-17T08:14:26.066933Z",
     "iopub.status.idle": "2024-10-17T08:14:26.077362Z",
     "shell.execute_reply": "2024-10-17T08:14:26.076937Z"
    }
   },
   "outputs": [
    {
     "ename": "NameError",
     "evalue": "name 'rc' is not defined",
     "output_type": "error",
     "traceback": [
      "\u001b[0;31m---------------------------------------------------------------------------\u001b[0m",
      "\u001b[0;31mNameError\u001b[0m                                 Traceback (most recent call last)",
      "Cell \u001b[0;32mIn[10], line 1\u001b[0m\n\u001b[0;32m----> 1\u001b[0m \u001b[43mrc\u001b[49m\n",
      "\u001b[0;31mNameError\u001b[0m: name 'rc' is not defined"
     ]
    }
   ],
   "source": [
    "rc"
   ]
  },
  {
   "cell_type": "code",
   "execution_count": 11,
   "id": "1747b33c-f7ef-4388-82b1-ae46978b4bf5",
   "metadata": {
    "execution": {
     "iopub.execute_input": "2024-10-17T08:14:26.079024Z",
     "iopub.status.busy": "2024-10-17T08:14:26.078682Z",
     "iopub.status.idle": "2024-10-17T08:14:26.089767Z",
     "shell.execute_reply": "2024-10-17T08:14:26.089329Z"
    }
   },
   "outputs": [
    {
     "ename": "NameError",
     "evalue": "name 'rc' is not defined",
     "output_type": "error",
     "traceback": [
      "\u001b[0;31m---------------------------------------------------------------------------\u001b[0m",
      "\u001b[0;31mNameError\u001b[0m                                 Traceback (most recent call last)",
      "Cell \u001b[0;32mIn[11], line 1\u001b[0m\n\u001b[0;32m----> 1\u001b[0m fig \u001b[38;5;241m=\u001b[39m \u001b[43mrc\u001b[49m\u001b[38;5;241m.\u001b[39mplot(hide_xp\u001b[38;5;241m=\u001b[39m\u001b[38;5;28;01mTrue\u001b[39;00m, always_show_alpha\u001b[38;5;241m=\u001b[39m\u001b[38;5;28;01mTrue\u001b[39;00m)\n",
      "\u001b[0;31mNameError\u001b[0m: name 'rc' is not defined"
     ]
    }
   ],
   "source": [
    "fig = rc.plot(hide_xp=True, always_show_alpha=True)"
   ]
  }
 ],
 "metadata": {
  "kernelspec": {
   "display_name": "Python 3 (ipykernel)",
   "language": "python",
   "name": "python3"
  },
  "language_info": {
   "codemirror_mode": {
    "name": "ipython",
    "version": 3
   },
   "file_extension": ".py",
   "mimetype": "text/x-python",
   "name": "python",
   "nbconvert_exporter": "python",
   "pygments_lexer": "ipython3",
   "version": "3.11.10"
  }
 },
 "nbformat": 4,
 "nbformat_minor": 5
}
