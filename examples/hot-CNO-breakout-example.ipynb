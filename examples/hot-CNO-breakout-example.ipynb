{
 "cells": [
  {
   "cell_type": "markdown",
   "metadata": {},
   "source": [
    "# hot-CNO and breakout"
   ]
  },
  {
   "cell_type": "markdown",
   "metadata": {},
   "source": [
    "We want to explore how the CNO cycle changes as temperature increases and the proton capture rates start becoming much faster.  We'll see that eventually we are limited by $\\beta$-decays."
   ]
  },
  {
   "cell_type": "code",
   "execution_count": 1,
   "metadata": {
    "execution": {
     "iopub.execute_input": "2024-10-10T09:59:07.266625Z",
     "iopub.status.busy": "2024-10-10T09:59:07.266223Z",
     "iopub.status.idle": "2024-10-10T09:59:08.645802Z",
     "shell.execute_reply": "2024-10-10T09:59:08.645245Z"
    },
    "tags": []
   },
   "outputs": [],
   "source": [
    "import pynucastro as pyna"
   ]
  },
  {
   "cell_type": "markdown",
   "metadata": {},
   "source": [
    "This collection of rates has the main CNO rates plus a breakout rate into the hot CNO cycle(s)"
   ]
  },
  {
   "cell_type": "code",
   "execution_count": 2,
   "metadata": {
    "execution": {
     "iopub.execute_input": "2024-10-10T09:59:08.647821Z",
     "iopub.status.busy": "2024-10-10T09:59:08.647542Z",
     "iopub.status.idle": "2024-10-10T09:59:09.061648Z",
     "shell.execute_reply": "2024-10-10T09:59:09.061015Z"
    },
    "tags": []
   },
   "outputs": [
    {
     "ename": "RateFileError",
     "evalue": "File 'reaclib_default2_20220329' not found in the working directory, /opt/hostedtoolcache/Python/3.11.10/x64/lib/python3.11/site-packages/pynucastro/rates/library, or /opt/hostedtoolcache/Python/3.11.10/x64/lib/python3.11/site-packages/pynucastro/rates/tabular",
     "output_type": "error",
     "traceback": [
      "\u001b[0;31m---------------------------------------------------------------------------\u001b[0m",
      "\u001b[0;31mRateFileError\u001b[0m                             Traceback (most recent call last)",
      "Cell \u001b[0;32mIn[2], line 1\u001b[0m\n\u001b[0;32m----> 1\u001b[0m rl \u001b[38;5;241m=\u001b[39m \u001b[43mpyna\u001b[49m\u001b[38;5;241;43m.\u001b[39;49m\u001b[43mReacLibLibrary\u001b[49m\u001b[43m(\u001b[49m\u001b[43m)\u001b[49m\n",
      "File \u001b[0;32m/opt/hostedtoolcache/Python/3.11.10/x64/lib/python3.11/site-packages/pynucastro/rates/library.py:698\u001b[0m, in \u001b[0;36mReacLibLibrary.__init__\u001b[0;34m(self)\u001b[0m\n\u001b[1;32m    696\u001b[0m \u001b[38;5;28;01mdef\u001b[39;00m \u001b[38;5;21m__init__\u001b[39m(\u001b[38;5;28mself\u001b[39m):\n\u001b[1;32m    697\u001b[0m     libfile \u001b[38;5;241m=\u001b[39m \u001b[38;5;124m'\u001b[39m\u001b[38;5;124mreaclib_default2_20220329\u001b[39m\u001b[38;5;124m'\u001b[39m\n\u001b[0;32m--> 698\u001b[0m     \u001b[43mLibrary\u001b[49m\u001b[38;5;241;43m.\u001b[39;49m\u001b[38;5;21;43m__init__\u001b[39;49m\u001b[43m(\u001b[49m\u001b[38;5;28;43mself\u001b[39;49m\u001b[43m,\u001b[49m\u001b[43m \u001b[49m\u001b[43mlibfile\u001b[49m\u001b[38;5;241;43m=\u001b[39;49m\u001b[43mlibfile\u001b[49m\u001b[43m)\u001b[49m\n",
      "File \u001b[0;32m/opt/hostedtoolcache/Python/3.11.10/x64/lib/python3.11/site-packages/pynucastro/rates/library.py:141\u001b[0m, in \u001b[0;36mLibrary.__init__\u001b[0;34m(self, libfile, rates)\u001b[0m\n\u001b[1;32m    138\u001b[0m \u001b[38;5;28mself\u001b[39m\u001b[38;5;241m.\u001b[39m_library_source_lines \u001b[38;5;241m=\u001b[39m collections\u001b[38;5;241m.\u001b[39mdeque()\n\u001b[1;32m    140\u001b[0m \u001b[38;5;28;01mif\u001b[39;00m \u001b[38;5;28mself\u001b[39m\u001b[38;5;241m.\u001b[39m_library_file:\n\u001b[0;32m--> 141\u001b[0m     \u001b[38;5;28mself\u001b[39m\u001b[38;5;241m.\u001b[39m_library_file \u001b[38;5;241m=\u001b[39m \u001b[43m_find_rate_file\u001b[49m\u001b[43m(\u001b[49m\u001b[38;5;28;43mself\u001b[39;49m\u001b[38;5;241;43m.\u001b[39;49m\u001b[43m_library_file\u001b[49m\u001b[43m)\u001b[49m\n\u001b[1;32m    142\u001b[0m     \u001b[38;5;28mself\u001b[39m\u001b[38;5;241m.\u001b[39m_read_library_file()\n",
      "File \u001b[0;32m/opt/hostedtoolcache/Python/3.11.10/x64/lib/python3.11/site-packages/pynucastro/rates/rate.py:100\u001b[0m, in \u001b[0;36m_find_rate_file\u001b[0;34m(ratename)\u001b[0m\n\u001b[1;32m     97\u001b[0m         \u001b[38;5;28;01mreturn\u001b[39;00m x\u001b[38;5;241m.\u001b[39mresolve()\n\u001b[1;32m     99\u001b[0m \u001b[38;5;66;03m# notify user we can't find the file\u001b[39;00m\n\u001b[0;32m--> 100\u001b[0m \u001b[38;5;28;01mraise\u001b[39;00m RateFileError(\u001b[38;5;124mf\u001b[39m\u001b[38;5;124m'\u001b[39m\u001b[38;5;124mFile \u001b[39m\u001b[38;5;132;01m{\u001b[39;00mratename\u001b[38;5;132;01m!r}\u001b[39;00m\u001b[38;5;124m not found in the working directory, \u001b[39m\u001b[38;5;132;01m{\u001b[39;00m_pynucastro_rates_dir\u001b[38;5;132;01m}\u001b[39;00m\u001b[38;5;124m, or \u001b[39m\u001b[38;5;132;01m{\u001b[39;00m_pynucastro_tabular_dir\u001b[38;5;132;01m}\u001b[39;00m\u001b[38;5;124m'\u001b[39m)\n",
      "\u001b[0;31mRateFileError\u001b[0m: File 'reaclib_default2_20220329' not found in the working directory, /opt/hostedtoolcache/Python/3.11.10/x64/lib/python3.11/site-packages/pynucastro/rates/library, or /opt/hostedtoolcache/Python/3.11.10/x64/lib/python3.11/site-packages/pynucastro/rates/tabular"
     ]
    }
   ],
   "source": [
    "rl = pyna.ReacLibLibrary()"
   ]
  },
  {
   "cell_type": "markdown",
   "metadata": {},
   "source": [
    "We'll get all the rates linking the core nuclei in CNO and the various hot-CNO cycles, but we'll explicitly remove $3$-$\\alpha$, since it is not strong at the temperatures where CNO operates."
   ]
  },
  {
   "cell_type": "code",
   "execution_count": 3,
   "metadata": {
    "execution": {
     "iopub.execute_input": "2024-10-10T09:59:09.063545Z",
     "iopub.status.busy": "2024-10-10T09:59:09.063355Z",
     "iopub.status.idle": "2024-10-10T09:59:09.077834Z",
     "shell.execute_reply": "2024-10-10T09:59:09.077360Z"
    },
    "tags": []
   },
   "outputs": [
    {
     "ename": "NameError",
     "evalue": "name 'rl' is not defined",
     "output_type": "error",
     "traceback": [
      "\u001b[0;31m---------------------------------------------------------------------------\u001b[0m",
      "\u001b[0;31mNameError\u001b[0m                                 Traceback (most recent call last)",
      "Cell \u001b[0;32mIn[3], line 5\u001b[0m\n\u001b[1;32m      1\u001b[0m linking_nuclei \u001b[38;5;241m=\u001b[39m [\u001b[38;5;124m\"\u001b[39m\u001b[38;5;124mp\u001b[39m\u001b[38;5;124m\"\u001b[39m, \u001b[38;5;124m\"\u001b[39m\u001b[38;5;124mhe4\u001b[39m\u001b[38;5;124m\"\u001b[39m,\n\u001b[1;32m      2\u001b[0m                   \u001b[38;5;124m\"\u001b[39m\u001b[38;5;124mc12\u001b[39m\u001b[38;5;124m\"\u001b[39m, \u001b[38;5;124m\"\u001b[39m\u001b[38;5;124mc13\u001b[39m\u001b[38;5;124m\"\u001b[39m,\n\u001b[1;32m      3\u001b[0m                   \u001b[38;5;124m\"\u001b[39m\u001b[38;5;124mn13\u001b[39m\u001b[38;5;124m\"\u001b[39m, \u001b[38;5;124m\"\u001b[39m\u001b[38;5;124mn14\u001b[39m\u001b[38;5;124m\"\u001b[39m, \u001b[38;5;124m\"\u001b[39m\u001b[38;5;124mn15\u001b[39m\u001b[38;5;124m\"\u001b[39m,\n\u001b[1;32m      4\u001b[0m                   \u001b[38;5;124m\"\u001b[39m\u001b[38;5;124mo14\u001b[39m\u001b[38;5;124m\"\u001b[39m, \u001b[38;5;124m\"\u001b[39m\u001b[38;5;124mo15\u001b[39m\u001b[38;5;124m\"\u001b[39m,]\n\u001b[0;32m----> 5\u001b[0m lib \u001b[38;5;241m=\u001b[39m \u001b[43mrl\u001b[49m\u001b[38;5;241m.\u001b[39mlinking_nuclei(linking_nuclei, with_reverse\u001b[38;5;241m=\u001b[39m\u001b[38;5;28;01mFalse\u001b[39;00m)\n\u001b[1;32m      6\u001b[0m r3a \u001b[38;5;241m=\u001b[39m lib\u001b[38;5;241m.\u001b[39mget_rate_by_name(\u001b[38;5;124m\"\u001b[39m\u001b[38;5;124mhe4(aa,g)c12\u001b[39m\u001b[38;5;124m\"\u001b[39m)\n\u001b[1;32m      7\u001b[0m lib\u001b[38;5;241m.\u001b[39mremove_rate(r3a)\n",
      "\u001b[0;31mNameError\u001b[0m: name 'rl' is not defined"
     ]
    }
   ],
   "source": [
    "linking_nuclei = [\"p\", \"he4\",\n",
    "                  \"c12\", \"c13\",\n",
    "                  \"n13\", \"n14\", \"n15\",\n",
    "                  \"o14\", \"o15\",]\n",
    "lib = rl.linking_nuclei(linking_nuclei, with_reverse=False)\n",
    "r3a = lib.get_rate_by_name(\"he4(aa,g)c12\")\n",
    "lib.remove_rate(r3a)"
   ]
  },
  {
   "cell_type": "code",
   "execution_count": 4,
   "metadata": {
    "execution": {
     "iopub.execute_input": "2024-10-10T09:59:09.079689Z",
     "iopub.status.busy": "2024-10-10T09:59:09.079368Z",
     "iopub.status.idle": "2024-10-10T09:59:09.092237Z",
     "shell.execute_reply": "2024-10-10T09:59:09.091792Z"
    },
    "tags": []
   },
   "outputs": [
    {
     "ename": "NameError",
     "evalue": "name 'lib' is not defined",
     "output_type": "error",
     "traceback": [
      "\u001b[0;31m---------------------------------------------------------------------------\u001b[0m",
      "\u001b[0;31mNameError\u001b[0m                                 Traceback (most recent call last)",
      "Cell \u001b[0;32mIn[4], line 1\u001b[0m\n\u001b[0;32m----> 1\u001b[0m rc \u001b[38;5;241m=\u001b[39m pyna\u001b[38;5;241m.\u001b[39mRateCollection(libraries\u001b[38;5;241m=\u001b[39m\u001b[43mlib\u001b[49m)\n",
      "\u001b[0;31mNameError\u001b[0m: name 'lib' is not defined"
     ]
    }
   ],
   "source": [
    "rc = pyna.RateCollection(libraries=lib)"
   ]
  },
  {
   "cell_type": "markdown",
   "metadata": {},
   "source": [
    "To evaluate the rates, we need a composition.  This is defined using a list of `Nucleus` objects.\n",
    "Here we set H and He to approximate their solar values and distribute the remaining mass evenly\n",
    "across the other nuclei."
   ]
  },
  {
   "cell_type": "code",
   "execution_count": 5,
   "metadata": {
    "execution": {
     "iopub.execute_input": "2024-10-10T09:59:09.093976Z",
     "iopub.status.busy": "2024-10-10T09:59:09.093638Z",
     "iopub.status.idle": "2024-10-10T09:59:09.105469Z",
     "shell.execute_reply": "2024-10-10T09:59:09.105014Z"
    },
    "tags": []
   },
   "outputs": [
    {
     "ename": "NameError",
     "evalue": "name 'rc' is not defined",
     "output_type": "error",
     "traceback": [
      "\u001b[0;31m---------------------------------------------------------------------------\u001b[0m",
      "\u001b[0;31mNameError\u001b[0m                                 Traceback (most recent call last)",
      "Cell \u001b[0;32mIn[5], line 1\u001b[0m\n\u001b[0;32m----> 1\u001b[0m comp \u001b[38;5;241m=\u001b[39m pyna\u001b[38;5;241m.\u001b[39mComposition(\u001b[43mrc\u001b[49m\u001b[38;5;241m.\u001b[39mget_nuclei())\n\u001b[1;32m      2\u001b[0m comp\u001b[38;5;241m.\u001b[39mset_solar_like()\n\u001b[1;32m      3\u001b[0m fig \u001b[38;5;241m=\u001b[39m comp\u001b[38;5;241m.\u001b[39mplot()\n",
      "\u001b[0;31mNameError\u001b[0m: name 'rc' is not defined"
     ]
    }
   ],
   "source": [
    "comp = pyna.Composition(rc.get_nuclei())\n",
    "comp.set_solar_like()\n",
    "fig = comp.plot()"
   ]
  },
  {
   "cell_type": "markdown",
   "metadata": {},
   "source": [
    "## Transition from CNO to hot-CNO"
   ]
  },
  {
   "cell_type": "markdown",
   "metadata": {},
   "source": [
    "Let's look at the CNO cycle at a temperature and density just a bit hotter than the Sun's core"
   ]
  },
  {
   "cell_type": "code",
   "execution_count": 6,
   "metadata": {
    "execution": {
     "iopub.execute_input": "2024-10-10T09:59:09.107160Z",
     "iopub.status.busy": "2024-10-10T09:59:09.106840Z",
     "iopub.status.idle": "2024-10-10T09:59:09.109252Z",
     "shell.execute_reply": "2024-10-10T09:59:09.108825Z"
    },
    "tags": []
   },
   "outputs": [],
   "source": [
    "T = 2.e7\n",
    "rho = 200"
   ]
  },
  {
   "cell_type": "code",
   "execution_count": 7,
   "metadata": {
    "execution": {
     "iopub.execute_input": "2024-10-10T09:59:09.110920Z",
     "iopub.status.busy": "2024-10-10T09:59:09.110609Z",
     "iopub.status.idle": "2024-10-10T09:59:09.122468Z",
     "shell.execute_reply": "2024-10-10T09:59:09.122032Z"
    },
    "tags": []
   },
   "outputs": [
    {
     "ename": "NameError",
     "evalue": "name 'rc' is not defined",
     "output_type": "error",
     "traceback": [
      "\u001b[0;31m---------------------------------------------------------------------------\u001b[0m",
      "\u001b[0;31mNameError\u001b[0m                                 Traceback (most recent call last)",
      "Cell \u001b[0;32mIn[7], line 1\u001b[0m\n\u001b[0;32m----> 1\u001b[0m fig \u001b[38;5;241m=\u001b[39m \u001b[43mrc\u001b[49m\u001b[38;5;241m.\u001b[39mplot(rho\u001b[38;5;241m=\u001b[39mrho, T\u001b[38;5;241m=\u001b[39mT, comp\u001b[38;5;241m=\u001b[39mcomp, ydot_cutoff_value\u001b[38;5;241m=\u001b[39m\u001b[38;5;241m1.e-20\u001b[39m)\n",
      "\u001b[0;31mNameError\u001b[0m: name 'rc' is not defined"
     ]
    }
   ],
   "source": [
    "fig = rc.plot(rho=rho, T=T, comp=comp, ydot_cutoff_value=1.e-20)"
   ]
  },
  {
   "cell_type": "markdown",
   "metadata": {},
   "source": [
    "Starting at ${}^{12}\\mathrm{C}$, we see the following sequence dominate:\n",
    "\n",
    "* We capture a proton to make ${}^{13}\\mathrm{N}$\n",
    "* ${}^{13}\\mathrm{N}$ almost immediately beta decays to ${}^{13}\\mathrm{C}$, since the beta-decay rate is so much faster than a proton capture on ${}^{13}\\mathrm{N}$.\n",
    "* We continue with proton captures, making ${}^{14}\\mathrm{N}$ and then ${}^{15}\\mathrm{O}$\n",
    "* ${}^{15}\\mathrm{O}$ then beta-decays to get ${}^{15}\\mathrm{N}$\n",
    "* Finally, one last proton capture, doing ${}^{15}\\mathrm{N}(p,\\alpha){}^{12}\\mathrm{C}$, getting us back to where we started.\n",
    "\n",
    "This is the basic CNO cycle"
   ]
  },
  {
   "cell_type": "markdown",
   "metadata": {},
   "source": [
    "Now let's make it a bit hotter"
   ]
  },
  {
   "cell_type": "code",
   "execution_count": 8,
   "metadata": {
    "execution": {
     "iopub.execute_input": "2024-10-10T09:59:09.124146Z",
     "iopub.status.busy": "2024-10-10T09:59:09.123820Z",
     "iopub.status.idle": "2024-10-10T09:59:09.135427Z",
     "shell.execute_reply": "2024-10-10T09:59:09.134990Z"
    },
    "tags": []
   },
   "outputs": [
    {
     "ename": "NameError",
     "evalue": "name 'rc' is not defined",
     "output_type": "error",
     "traceback": [
      "\u001b[0;31m---------------------------------------------------------------------------\u001b[0m",
      "\u001b[0;31mNameError\u001b[0m                                 Traceback (most recent call last)",
      "Cell \u001b[0;32mIn[8], line 2\u001b[0m\n\u001b[1;32m      1\u001b[0m T \u001b[38;5;241m=\u001b[39m \u001b[38;5;241m3.e8\u001b[39m\n\u001b[0;32m----> 2\u001b[0m fig \u001b[38;5;241m=\u001b[39m \u001b[43mrc\u001b[49m\u001b[38;5;241m.\u001b[39mplot(rho\u001b[38;5;241m=\u001b[39mrho, T\u001b[38;5;241m=\u001b[39mT, comp\u001b[38;5;241m=\u001b[39mcomp, ydot_cutoff_value\u001b[38;5;241m=\u001b[39m\u001b[38;5;241m1.e-20\u001b[39m)\n",
      "\u001b[0;31mNameError\u001b[0m: name 'rc' is not defined"
     ]
    }
   ],
   "source": [
    "T = 3.e8\n",
    "fig = rc.plot(rho=rho, T=T, comp=comp, ydot_cutoff_value=1.e-20)"
   ]
  },
  {
   "cell_type": "markdown",
   "metadata": {},
   "source": [
    "Now we see that the proton capture on ${}^{13}\\mathrm{N}$ is faster than the beta-decay, and we make ${}^{14}\\mathrm{O}$.  Then the cycle continues as before."
   ]
  },
  {
   "cell_type": "markdown",
   "metadata": {
    "tags": []
   },
   "source": [
    "As we increase the temperature and density further, we see that the beta decays become the rate-limiting steps."
   ]
  },
  {
   "cell_type": "code",
   "execution_count": 9,
   "metadata": {
    "execution": {
     "iopub.execute_input": "2024-10-10T09:59:09.137163Z",
     "iopub.status.busy": "2024-10-10T09:59:09.136842Z",
     "iopub.status.idle": "2024-10-10T09:59:09.149152Z",
     "shell.execute_reply": "2024-10-10T09:59:09.148555Z"
    },
    "tags": []
   },
   "outputs": [
    {
     "ename": "NameError",
     "evalue": "name 'rc' is not defined",
     "output_type": "error",
     "traceback": [
      "\u001b[0;31m---------------------------------------------------------------------------\u001b[0m",
      "\u001b[0;31mNameError\u001b[0m                                 Traceback (most recent call last)",
      "Cell \u001b[0;32mIn[9], line 3\u001b[0m\n\u001b[1;32m      1\u001b[0m T \u001b[38;5;241m=\u001b[39m \u001b[38;5;241m5.e8\u001b[39m\n\u001b[1;32m      2\u001b[0m rho \u001b[38;5;241m=\u001b[39m \u001b[38;5;241m1.e4\u001b[39m\n\u001b[0;32m----> 3\u001b[0m fig \u001b[38;5;241m=\u001b[39m \u001b[43mrc\u001b[49m\u001b[38;5;241m.\u001b[39mplot(rho\u001b[38;5;241m=\u001b[39mrho, T\u001b[38;5;241m=\u001b[39mT, comp\u001b[38;5;241m=\u001b[39mcomp, ydot_cutoff_value\u001b[38;5;241m=\u001b[39m\u001b[38;5;241m1.e-20\u001b[39m)\n",
      "\u001b[0;31mNameError\u001b[0m: name 'rc' is not defined"
     ]
    }
   ],
   "source": [
    "T = 5.e8\n",
    "rho = 1.e4\n",
    "fig = rc.plot(rho=rho, T=T, comp=comp, ydot_cutoff_value=1.e-20)"
   ]
  },
  {
   "cell_type": "markdown",
   "metadata": {},
   "source": [
    "Since the beta-decays are temperature independent (you just have to wait for the nucleus to decay), the overall hot-CNO rate becomes insensitive to temperature."
   ]
  },
  {
   "cell_type": "markdown",
   "metadata": {},
   "source": [
    "## When does hot-CNO set in?\n",
    "\n",
    "We can look at the temperature where we cross from CNO to hot-CNO by looking at the rates involving ${}^{13}\\mathrm{N}$"
   ]
  },
  {
   "cell_type": "code",
   "execution_count": 10,
   "metadata": {
    "execution": {
     "iopub.execute_input": "2024-10-10T09:59:09.150993Z",
     "iopub.status.busy": "2024-10-10T09:59:09.150679Z",
     "iopub.status.idle": "2024-10-10T09:59:09.162214Z",
     "shell.execute_reply": "2024-10-10T09:59:09.161766Z"
    },
    "tags": []
   },
   "outputs": [
    {
     "ename": "NameError",
     "evalue": "name 'rl' is not defined",
     "output_type": "error",
     "traceback": [
      "\u001b[0;31m---------------------------------------------------------------------------\u001b[0m",
      "\u001b[0;31mNameError\u001b[0m                                 Traceback (most recent call last)",
      "Cell \u001b[0;32mIn[10], line 1\u001b[0m\n\u001b[0;32m----> 1\u001b[0m r1 \u001b[38;5;241m=\u001b[39m \u001b[43mrl\u001b[49m\u001b[38;5;241m.\u001b[39mget_rate_by_name(\u001b[38;5;124m\"\u001b[39m\u001b[38;5;124mn13(p,g)o14\u001b[39m\u001b[38;5;124m\"\u001b[39m)\n\u001b[1;32m      2\u001b[0m r2 \u001b[38;5;241m=\u001b[39m rl\u001b[38;5;241m.\u001b[39mget_rate_by_name(\u001b[38;5;124m\"\u001b[39m\u001b[38;5;124mn13(,)c13\u001b[39m\u001b[38;5;124m\"\u001b[39m)\n",
      "\u001b[0;31mNameError\u001b[0m: name 'rl' is not defined"
     ]
    }
   ],
   "source": [
    "r1 = rl.get_rate_by_name(\"n13(p,g)o14\")\n",
    "r2 = rl.get_rate_by_name(\"n13(,)c13\")"
   ]
  },
  {
   "cell_type": "code",
   "execution_count": 11,
   "metadata": {
    "execution": {
     "iopub.execute_input": "2024-10-10T09:59:09.163828Z",
     "iopub.status.busy": "2024-10-10T09:59:09.163498Z",
     "iopub.status.idle": "2024-10-10T09:59:09.166074Z",
     "shell.execute_reply": "2024-10-10T09:59:09.165619Z"
    },
    "tags": []
   },
   "outputs": [],
   "source": [
    "import numpy as np\n",
    "import matplotlib.pyplot as plt"
   ]
  },
  {
   "cell_type": "markdown",
   "metadata": {},
   "source": [
    "Sample the rates at a range of temperatures"
   ]
  },
  {
   "cell_type": "code",
   "execution_count": 12,
   "metadata": {
    "execution": {
     "iopub.execute_input": "2024-10-10T09:59:09.167536Z",
     "iopub.status.busy": "2024-10-10T09:59:09.167373Z",
     "iopub.status.idle": "2024-10-10T09:59:09.186129Z",
     "shell.execute_reply": "2024-10-10T09:59:09.185691Z"
    },
    "tags": []
   },
   "outputs": [
    {
     "ename": "NameError",
     "evalue": "name 'r1' is not defined",
     "output_type": "error",
     "traceback": [
      "\u001b[0;31m---------------------------------------------------------------------------\u001b[0m",
      "\u001b[0;31mNameError\u001b[0m                                 Traceback (most recent call last)",
      "Cell \u001b[0;32mIn[12], line 3\u001b[0m\n\u001b[1;32m      1\u001b[0m T \u001b[38;5;241m=\u001b[39m np\u001b[38;5;241m.\u001b[39mlogspace(\u001b[38;5;241m7.5\u001b[39m, \u001b[38;5;241m8.5\u001b[39m, \u001b[38;5;241m100\u001b[39m)\n\u001b[0;32m----> 3\u001b[0m rate_p_capture \u001b[38;5;241m=\u001b[39m \u001b[43m[\u001b[49m\u001b[43mr1\u001b[49m\u001b[38;5;241;43m.\u001b[39;49m\u001b[43meval\u001b[49m\u001b[43m(\u001b[49m\u001b[43mtemp\u001b[49m\u001b[43m)\u001b[49m\u001b[43m \u001b[49m\u001b[38;5;28;43;01mfor\u001b[39;49;00m\u001b[43m \u001b[49m\u001b[43mtemp\u001b[49m\u001b[43m \u001b[49m\u001b[38;5;129;43;01min\u001b[39;49;00m\u001b[43m \u001b[49m\u001b[43mT\u001b[49m\u001b[43m]\u001b[49m\n\u001b[1;32m      4\u001b[0m rate_beta_decay \u001b[38;5;241m=\u001b[39m [r2\u001b[38;5;241m.\u001b[39meval(temp) \u001b[38;5;28;01mfor\u001b[39;00m temp \u001b[38;5;129;01min\u001b[39;00m T]\n",
      "Cell \u001b[0;32mIn[12], line 3\u001b[0m, in \u001b[0;36m<listcomp>\u001b[0;34m(.0)\u001b[0m\n\u001b[1;32m      1\u001b[0m T \u001b[38;5;241m=\u001b[39m np\u001b[38;5;241m.\u001b[39mlogspace(\u001b[38;5;241m7.5\u001b[39m, \u001b[38;5;241m8.5\u001b[39m, \u001b[38;5;241m100\u001b[39m)\n\u001b[0;32m----> 3\u001b[0m rate_p_capture \u001b[38;5;241m=\u001b[39m [\u001b[43mr1\u001b[49m\u001b[38;5;241m.\u001b[39meval(temp) \u001b[38;5;28;01mfor\u001b[39;00m temp \u001b[38;5;129;01min\u001b[39;00m T]\n\u001b[1;32m      4\u001b[0m rate_beta_decay \u001b[38;5;241m=\u001b[39m [r2\u001b[38;5;241m.\u001b[39meval(temp) \u001b[38;5;28;01mfor\u001b[39;00m temp \u001b[38;5;129;01min\u001b[39;00m T]\n",
      "\u001b[0;31mNameError\u001b[0m: name 'r1' is not defined"
     ]
    }
   ],
   "source": [
    "T = np.logspace(7.5, 8.5, 100)\n",
    "\n",
    "rate_p_capture = [r1.eval(temp) for temp in T]\n",
    "rate_beta_decay = [r2.eval(temp) for temp in T]"
   ]
  },
  {
   "cell_type": "code",
   "execution_count": 13,
   "metadata": {
    "editable": true,
    "execution": {
     "iopub.execute_input": "2024-10-10T09:59:09.187586Z",
     "iopub.status.busy": "2024-10-10T09:59:09.187426Z",
     "iopub.status.idle": "2024-10-10T09:59:09.278145Z",
     "shell.execute_reply": "2024-10-10T09:59:09.277663Z"
    },
    "slideshow": {
     "slide_type": ""
    },
    "tags": [
     "nbval-ignore-output"
    ]
   },
   "outputs": [
    {
     "ename": "NameError",
     "evalue": "name 'rate_p_capture' is not defined",
     "output_type": "error",
     "traceback": [
      "\u001b[0;31m---------------------------------------------------------------------------\u001b[0m",
      "\u001b[0;31mNameError\u001b[0m                                 Traceback (most recent call last)",
      "Cell \u001b[0;32mIn[13], line 2\u001b[0m\n\u001b[1;32m      1\u001b[0m fig, ax \u001b[38;5;241m=\u001b[39m plt\u001b[38;5;241m.\u001b[39msubplots()\n\u001b[0;32m----> 2\u001b[0m ax\u001b[38;5;241m.\u001b[39mloglog(T, \u001b[43mrate_p_capture\u001b[49m, label\u001b[38;5;241m=\u001b[39m\u001b[38;5;124mf\u001b[39m\u001b[38;5;124m\"\u001b[39m\u001b[38;5;132;01m{\u001b[39;00mr1\u001b[38;5;241m.\u001b[39mpretty_string\u001b[38;5;132;01m}\u001b[39;00m\u001b[38;5;124m\"\u001b[39m)\n\u001b[1;32m      3\u001b[0m ax\u001b[38;5;241m.\u001b[39mloglog(T, rate_beta_decay, label\u001b[38;5;241m=\u001b[39m\u001b[38;5;124mf\u001b[39m\u001b[38;5;124m\"\u001b[39m\u001b[38;5;132;01m{\u001b[39;00mr2\u001b[38;5;241m.\u001b[39mpretty_string\u001b[38;5;132;01m}\u001b[39;00m\u001b[38;5;124m\"\u001b[39m)\n\u001b[1;32m      4\u001b[0m ax\u001b[38;5;241m.\u001b[39mlegend()\n",
      "\u001b[0;31mNameError\u001b[0m: name 'rate_p_capture' is not defined"
     ]
    },
    {
     "data": {
      "image/png": "[encoded data removed]",
      "text/plain": [
       "<Figure size 640x480 with 1 Axes>"
      ]
     },
     "metadata": {},
     "output_type": "display_data"
    }
   ],
   "source": [
    "fig, ax = plt.subplots()\n",
    "ax.loglog(T, rate_p_capture, label=f\"{r1.pretty_string}\")\n",
    "ax.loglog(T, rate_beta_decay, label=f\"{r2.pretty_string}\")\n",
    "ax.legend()\n",
    "ax.set_xlabel(\"T\")\n",
    "ax.set_ylabel(r\"$N_A \\langle\\sigma v\\rangle$\")"
   ]
  },
  {
   "cell_type": "markdown",
   "metadata": {
    "tags": []
   },
   "source": [
    "We see that above $T \\sim 2\\times 10^8~\\mathrm{K}$, the proton-capture proceeds faster than the beta-decay, and we transition to hot-CNO."
   ]
  }
 ],
 "metadata": {
  "kernelspec": {
   "display_name": "Python 3 (ipykernel)",
   "language": "python",
   "name": "python3"
  },
  "language_info": {
   "codemirror_mode": {
    "name": "ipython",
    "version": 3
   },
   "file_extension": ".py",
   "mimetype": "text/x-python",
   "name": "python",
   "nbconvert_exporter": "python",
   "pygments_lexer": "ipython3",
   "version": "3.11.10"
  },
  "widgets": {
   "application/vnd.jupyter.widget-state+json": {
    "state": {
     "2fe9d67c3cac4f6aac79faa6c9aa0c56": {
      "model_module": "jupyter-js-widgets",
      "model_module_version": "~2.1.4",
      "model_name": "LayoutModel",
      "state": {
       "_model_module_version": "~2.1.4",
       "_view_module_version": "~2.1.4"
      }
     },
     "43a477d5c79e4a91ae70627166d26191": {
      "model_module": "jupyter-js-widgets",
      "model_module_version": "~2.1.4",
      "model_name": "FloatSliderModel",
      "state": {
       "_model_module_version": "~2.1.4",
       "_view_module_version": "~2.1.4",
       "description": "logrho",
       "layout": "IPY_MODEL_c3f3493f0db8440a842e5c6b9e630953",
       "max": 6,
       "min": 2,
       "step": 0.1,
       "value": 4
      }
     },
     "4892dc3b91d940e1b09573fb23663c8a": {
      "model_module": "jupyter-js-widgets",
      "model_module_version": "~2.1.4",
      "model_name": "VBoxModel",
      "state": {
       "_dom_classes": [
        "widget-interact"
       ],
       "_model_module_version": "~2.1.4",
       "_view_module_version": "~2.1.4",
       "children": [
        "IPY_MODEL_43a477d5c79e4a91ae70627166d26191",
        "IPY_MODEL_a67854761e48472187dfbb4cfb254dcc",
        "IPY_MODEL_e08e0e2355ad440ca0b5e1ced2927b22"
       ],
       "layout": "IPY_MODEL_2fe9d67c3cac4f6aac79faa6c9aa0c56"
      }
     },
     "73ddffe7dcb5445bb74a7a0d0dee2daa": {
      "model_module": "jupyter-js-widgets",
      "model_module_version": "~2.1.4",
      "model_name": "LayoutModel",
      "state": {
       "_model_module_version": "~2.1.4",
       "_view_module_version": "~2.1.4"
      }
     },
     "a67854761e48472187dfbb4cfb254dcc": {
      "model_module": "jupyter-js-widgets",
      "model_module_version": "~2.1.4",
      "model_name": "FloatSliderModel",
      "state": {
       "_model_module_version": "~2.1.4",
       "_view_module_version": "~2.1.4",
       "description": "logT",
       "layout": "IPY_MODEL_73ddffe7dcb5445bb74a7a0d0dee2daa",
       "max": 9,
       "min": 7,
       "step": 0.1,
       "value": 8.2
      }
     },
     "c3f3493f0db8440a842e5c6b9e630953": {
      "model_module": "jupyter-js-widgets",
      "model_module_version": "~2.1.4",
      "model_name": "LayoutModel",
      "state": {
       "_model_module_version": "~2.1.4",
       "_view_module_version": "~2.1.4"
      }
     },
     "d49b507a255b46c29dcf284e532e0dd4": {
      "model_module": "jupyter-js-widgets",
      "model_module_version": "~2.1.4",
      "model_name": "LayoutModel",
      "state": {
       "_model_module_version": "~2.1.4",
       "_view_module_version": "~2.1.4"
      }
     },
     "e08e0e2355ad440ca0b5e1ced2927b22": {
      "model_module": "jupyter-js-widgets",
      "model_module_version": "~2.1.4",
      "model_name": "OutputModel",
      "state": {
       "_dom_classes": [],
       "_model_module": "jupyter-js-widgets",
       "_model_module_version": "~2.1.4",
       "_view_module": "jupyter-js-widgets",
       "_view_module_version": "~2.1.4",
       "layout": "IPY_MODEL_d49b507a255b46c29dcf284e532e0dd4",
       "msg_throttle": 1
      }
     }
    },
    "version_major": 1,
    "version_minor": 0
   }
  }
 },
 "nbformat": 4,
 "nbformat_minor": 4
}
