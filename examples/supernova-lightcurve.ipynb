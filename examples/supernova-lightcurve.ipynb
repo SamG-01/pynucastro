{
 "cells": [
  {
   "cell_type": "markdown",
   "id": "2545d1fd-2159-4d95-ac51-207533303588",
   "metadata": {},
   "source": [
    "# A Supernova Lightcurve"
   ]
  },
  {
   "cell_type": "markdown",
   "id": "cf33d43a-a504-4f6e-ab83-b4f5669afd79",
   "metadata": {},
   "source": [
    "ReacLib provides the beta-decay constants for radioactive nuclei, and these can be treated like any other rate.  So we can build a network with ${}^{56}\\mathrm{Ni}$ and compute its decay."
   ]
  },
  {
   "cell_type": "code",
   "execution_count": 1,
   "id": "0c486a89-37ce-4bd3-ae48-c1da4a160c6a",
   "metadata": {
    "execution": {
     "iopub.execute_input": "2024-10-19T09:34:00.873805Z",
     "iopub.status.busy": "2024-10-19T09:34:00.873628Z",
     "iopub.status.idle": "2024-10-19T09:34:02.457436Z",
     "shell.execute_reply": "2024-10-19T09:34:02.456775Z"
    }
   },
   "outputs": [
    {
     "ename": "KeyError",
     "evalue": "'URL'",
     "output_type": "error",
     "traceback": [
      "\u001b[0;31m---------------------------------------------------------------------------\u001b[0m",
      "\u001b[0;31mKeyError\u001b[0m                                  Traceback (most recent call last)",
      "Cell \u001b[0;32mIn[1], line 1\u001b[0m\n\u001b[0;32m----> 1\u001b[0m \u001b[38;5;28;01mimport\u001b[39;00m \u001b[38;5;21;01mpynucastro\u001b[39;00m \u001b[38;5;28;01mas\u001b[39;00m \u001b[38;5;21;01mpyna\u001b[39;00m\n\u001b[1;32m      3\u001b[0m \u001b[38;5;28;01mimport\u001b[39;00m \u001b[38;5;21;01mnumpy\u001b[39;00m \u001b[38;5;28;01mas\u001b[39;00m \u001b[38;5;21;01mnp\u001b[39;00m\n\u001b[1;32m      4\u001b[0m \u001b[38;5;28;01mimport\u001b[39;00m \u001b[38;5;21;01mmatplotlib\u001b[39;00m\u001b[38;5;21;01m.\u001b[39;00m\u001b[38;5;21;01mpyplot\u001b[39;00m \u001b[38;5;28;01mas\u001b[39;00m \u001b[38;5;21;01mplt\u001b[39;00m\n",
      "File \u001b[0;32m/opt/hostedtoolcache/Python/3.11.10/x64/lib/python3.11/site-packages/pynucastro/__init__.py:131\u001b[0m\n\u001b[1;32m    126\u001b[0m \u001b[38;5;28;01mfrom\u001b[39;00m \u001b[38;5;21;01m.\u001b[39;00m\u001b[38;5;21;01m_version\u001b[39;00m \u001b[38;5;28;01mimport\u001b[39;00m version\n\u001b[1;32m    128\u001b[0m __version__ \u001b[38;5;241m=\u001b[39m version\n\u001b[0;32m--> 131\u001b[0m \u001b[38;5;28;01mimport\u001b[39;00m \u001b[38;5;21;01mpynucastro\u001b[39;00m\u001b[38;5;21;01m.\u001b[39;00m\u001b[38;5;21;01mscreening\u001b[39;00m\n\u001b[1;32m    132\u001b[0m \u001b[38;5;28;01mfrom\u001b[39;00m \u001b[38;5;21;01mpynucastro\u001b[39;00m\u001b[38;5;21;01m.\u001b[39;00m\u001b[38;5;21;01mnetworks\u001b[39;00m \u001b[38;5;28;01mimport\u001b[39;00m (AmrexAstroCxxNetwork, BaseCxxNetwork,\n\u001b[1;32m    133\u001b[0m                                  Composition, Explorer, NSENetwork,\n\u001b[1;32m    134\u001b[0m                                  NumpyNetwork, PythonNetwork, RateCollection,\n\u001b[1;32m    135\u001b[0m                                  SimpleCxxNetwork, StarKillerCxxNetwork,\n\u001b[1;32m    136\u001b[0m                                  SympyRates)\n\u001b[1;32m    137\u001b[0m \u001b[38;5;28;01mfrom\u001b[39;00m \u001b[38;5;21;01mpynucastro\u001b[39;00m\u001b[38;5;21;01m.\u001b[39;00m\u001b[38;5;21;01mnucdata\u001b[39;00m \u001b[38;5;28;01mimport\u001b[39;00m Nucleus, get_all_nuclei, get_nuclei_in_range\n",
      "File \u001b[0;32m/opt/hostedtoolcache/Python/3.11.10/x64/lib/python3.11/site-packages/pynucastro/screening/__init__.py:5\u001b[0m\n\u001b[1;32m      1\u001b[0m \u001b[38;5;124;03m\"\"\"Screening routines\"\"\"\u001b[39;00m\n\u001b[1;32m      3\u001b[0m __all__ \u001b[38;5;241m=\u001b[39m [\u001b[38;5;124m\"\u001b[39m\u001b[38;5;124mscreen\u001b[39m\u001b[38;5;124m\"\u001b[39m, \u001b[38;5;124m\"\u001b[39m\u001b[38;5;124mscreening_util\u001b[39m\u001b[38;5;124m\"\u001b[39m]\n\u001b[0;32m----> 5\u001b[0m \u001b[38;5;28;01mfrom\u001b[39;00m \u001b[38;5;21;01m.\u001b[39;00m\u001b[38;5;21;01mscreen\u001b[39;00m \u001b[38;5;28;01mimport\u001b[39;00m (NseState, PlasmaState, ScreenFactors, chugunov_2007,\n\u001b[1;32m      6\u001b[0m                      chugunov_2009, make_plasma_state, make_screen_factors,\n\u001b[1;32m      7\u001b[0m                      potekhin_1998, screen5)\n\u001b[1;32m      8\u001b[0m \u001b[38;5;28;01mfrom\u001b[39;00m \u001b[38;5;21;01m.\u001b[39;00m\u001b[38;5;21;01mscreening_util\u001b[39;00m \u001b[38;5;28;01mimport\u001b[39;00m ScreeningPair, get_screening_map\n",
      "File \u001b[0;32m/opt/hostedtoolcache/Python/3.11.10/x64/lib/python3.11/site-packages/pynucastro/screening/screen.py:9\u001b[0m\n\u001b[1;32m      7\u001b[0m \u001b[38;5;28;01mfrom\u001b[39;00m \u001b[38;5;21;01mpynucastro\u001b[39;00m\u001b[38;5;21;01m.\u001b[39;00m\u001b[38;5;21;01mnucdata\u001b[39;00m \u001b[38;5;28;01mimport\u001b[39;00m Nucleus\n\u001b[1;32m      8\u001b[0m \u001b[38;5;66;03m# use the jitclass placeholder from rate.py\u001b[39;00m\n\u001b[0;32m----> 9\u001b[0m \u001b[38;5;28;01mfrom\u001b[39;00m \u001b[38;5;21;01mpynucastro\u001b[39;00m\u001b[38;5;21;01m.\u001b[39;00m\u001b[38;5;21;01mrates\u001b[39;00m\u001b[38;5;21;01m.\u001b[39;00m\u001b[38;5;21;01mrate\u001b[39;00m \u001b[38;5;28;01mimport\u001b[39;00m jitclass, numba\n\u001b[1;32m     11\u001b[0m \u001b[38;5;28;01mif\u001b[39;00m numba \u001b[38;5;129;01mis\u001b[39;00m \u001b[38;5;129;01mnot\u001b[39;00m \u001b[38;5;28;01mNone\u001b[39;00m:\n\u001b[1;32m     12\u001b[0m     njit \u001b[38;5;241m=\u001b[39m numba\u001b[38;5;241m.\u001b[39mnjit\n",
      "File \u001b[0;32m/opt/hostedtoolcache/Python/3.11.10/x64/lib/python3.11/site-packages/pynucastro/rates/__init__.py:5\u001b[0m\n\u001b[1;32m      1\u001b[0m \u001b[38;5;124;03m\"\"\"The core routines needed to read and interpret nuclear reaction rates\"\"\"\u001b[39;00m\n\u001b[1;32m      3\u001b[0m __all__ \u001b[38;5;241m=\u001b[39m [\u001b[38;5;124m\"\u001b[39m\u001b[38;5;124mapproximate_rates\u001b[39m\u001b[38;5;124m\"\u001b[39m, \u001b[38;5;124m\"\u001b[39m\u001b[38;5;124mrate\u001b[39m\u001b[38;5;124m\"\u001b[39m, \u001b[38;5;124m\"\u001b[39m\u001b[38;5;124mlibrary\u001b[39m\u001b[38;5;124m\"\u001b[39m]\n\u001b[0;32m----> 5\u001b[0m \u001b[38;5;28;01mfrom\u001b[39;00m \u001b[38;5;21;01m.\u001b[39;00m\u001b[38;5;21;01mapproximate_rates\u001b[39;00m \u001b[38;5;28;01mimport\u001b[39;00m ApproximateRate\n\u001b[1;32m      6\u001b[0m \u001b[38;5;28;01mfrom\u001b[39;00m \u001b[38;5;21;01m.\u001b[39;00m\u001b[38;5;21;01mknown_duplicates\u001b[39;00m \u001b[38;5;28;01mimport\u001b[39;00m find_duplicate_rates, is_allowed_dupe\n\u001b[1;32m      7\u001b[0m \u001b[38;5;28;01mfrom\u001b[39;00m \u001b[38;5;21;01m.\u001b[39;00m\u001b[38;5;21;01mlibrary\u001b[39;00m \u001b[38;5;28;01mimport\u001b[39;00m (LangankeLibrary, Library, RateFilter, ReacLibLibrary,\n\u001b[1;32m      8\u001b[0m                       SuzukiLibrary, TabularLibrary, list_known_rates)\n",
      "File \u001b[0;32m/opt/hostedtoolcache/Python/3.11.10/x64/lib/python3.11/site-packages/pynucastro/rates/approximate_rates.py:2\u001b[0m\n\u001b[1;32m      1\u001b[0m \u001b[38;5;28;01mfrom\u001b[39;00m \u001b[38;5;21;01mpynucastro\u001b[39;00m\u001b[38;5;21;01m.\u001b[39;00m\u001b[38;5;21;01mnucdata\u001b[39;00m \u001b[38;5;28;01mimport\u001b[39;00m Nucleus\n\u001b[0;32m----> 2\u001b[0m \u001b[38;5;28;01mfrom\u001b[39;00m \u001b[38;5;21;01mpynucastro\u001b[39;00m\u001b[38;5;21;01m.\u001b[39;00m\u001b[38;5;21;01mrates\u001b[39;00m\u001b[38;5;21;01m.\u001b[39;00m\u001b[38;5;21;01mrate\u001b[39;00m \u001b[38;5;28;01mimport\u001b[39;00m Rate\n\u001b[1;32m      5\u001b[0m \u001b[38;5;28;01mclass\u001b[39;00m \u001b[38;5;21;01mApproximateRate\u001b[39;00m(Rate):\n\u001b[1;32m      7\u001b[0m     \u001b[38;5;28;01mdef\u001b[39;00m \u001b[38;5;21m__init__\u001b[39m(\u001b[38;5;28mself\u001b[39m, primary_rate, secondary_rates,\n\u001b[1;32m      8\u001b[0m                  primary_reverse, secondary_reverse, \u001b[38;5;241m*\u001b[39m,\n\u001b[1;32m      9\u001b[0m                  is_reverse\u001b[38;5;241m=\u001b[39m\u001b[38;5;28;01mFalse\u001b[39;00m, approx_type\u001b[38;5;241m=\u001b[39m\u001b[38;5;124m\"\u001b[39m\u001b[38;5;124map_pg\u001b[39m\u001b[38;5;124m\"\u001b[39m,\n\u001b[1;32m     10\u001b[0m                  use_identical_particle_factor\u001b[38;5;241m=\u001b[39m\u001b[38;5;28;01mTrue\u001b[39;00m):\n",
      "File \u001b[0;32m/opt/hostedtoolcache/Python/3.11.10/x64/lib/python3.11/site-packages/pynucastro/rates/rate.py:775\u001b[0m\n\u001b[1;32m    771\u001b[0m     NU \u001b[38;5;241m=\u001b[39m \u001b[38;5;241m6\u001b[39m\n\u001b[1;32m    772\u001b[0m     GAMMA \u001b[38;5;241m=\u001b[39m \u001b[38;5;241m7\u001b[39m\n\u001b[0;32m--> 775\u001b[0m \u001b[38;5;28;43;01mclass\u001b[39;49;00m\u001b[43m \u001b[49m\u001b[38;5;21;43;01mRateSource\u001b[39;49;00m\u001b[43m:\u001b[49m\n\u001b[1;32m    776\u001b[0m \u001b[38;5;250;43m    \u001b[39;49m\u001b[38;5;124;43;03m\"\"\"A class that stores the reference label information for various rates.\"\"\"\u001b[39;49;00m\n\u001b[1;32m    778\u001b[0m \u001b[43m    \u001b[49m\u001b[43mcsv_path\u001b[49m\u001b[43m \u001b[49m\u001b[38;5;241;43m=\u001b[39;49m\u001b[43m \u001b[49m\u001b[43m_find_rate_file\u001b[49m\u001b[43m(\u001b[49m\u001b[38;5;124;43m\"\u001b[39;49m\u001b[38;5;124;43mRate Sources.csv\u001b[39;49m\u001b[38;5;124;43m\"\u001b[39;49m\u001b[43m)\u001b[49m\n",
      "File \u001b[0;32m/opt/hostedtoolcache/Python/3.11.10/x64/lib/python3.11/site-packages/pynucastro/rates/rate.py:795\u001b[0m, in \u001b[0;36mRateSource\u001b[0;34m()\u001b[0m\n\u001b[1;32m    793\u001b[0m         label \u001b[38;5;241m=\u001b[39m cells[\u001b[38;5;241m0\u001b[39m]\n\u001b[1;32m    794\u001b[0m         label_data \u001b[38;5;241m=\u001b[39m labels[label\u001b[38;5;241m.\u001b[39mlower()] \u001b[38;5;241m=\u001b[39m \u001b[38;5;28mdict\u001b[39m(\u001b[38;5;28mzip\u001b[39m(column_titles, cells))\n\u001b[0;32m--> 795\u001b[0m         \u001b[43mlabel_data\u001b[49m\u001b[43m[\u001b[49m\u001b[38;5;124;43m\"\u001b[39;49m\u001b[38;5;124;43mURL\u001b[39;49m\u001b[38;5;124;43m\"\u001b[39;49m\u001b[43m]\u001b[49m\u001b[38;5;241m.\u001b[39mget(label, urls[label] \u001b[38;5;241m+\u001b[39m label\u001b[38;5;241m.\u001b[39mlower())\n\u001b[1;32m    797\u001b[0m \u001b[38;5;129m@classmethod\u001b[39m\n\u001b[1;32m    798\u001b[0m \u001b[38;5;28;01mdef\u001b[39;00m \u001b[38;5;21msource\u001b[39m(\u001b[38;5;28mcls\u001b[39m, label: \u001b[38;5;28mstr\u001b[39m) \u001b[38;5;241m-\u001b[39m\u001b[38;5;241m>\u001b[39m \u001b[38;5;28mdict\u001b[39m[\u001b[38;5;28mstr\u001b[39m, \u001b[38;5;28mstr\u001b[39m] \u001b[38;5;241m|\u001b[39m \u001b[38;5;28;01mNone\u001b[39;00m:\n\u001b[1;32m    799\u001b[0m \u001b[38;5;250m    \u001b[39m\u001b[38;5;124;03m\"\"\"Returns the source of a rate given its label, and None if not found.\"\"\"\u001b[39;00m\n",
      "\u001b[0;31mKeyError\u001b[0m: 'URL'"
     ]
    }
   ],
   "source": [
    "import pynucastro as pyna\n",
    "\n",
    "import numpy as np\n",
    "import matplotlib.pyplot as plt\n",
    "from scipy.integrate import solve_ivp"
   ]
  },
  {
   "cell_type": "markdown",
   "id": "ac83d8e2-bfb6-467e-9250-d4f4f154c1a9",
   "metadata": {},
   "source": [
    "We'll look at ${}^{56}\\mathrm{Ni} \\rightarrow {}^{56}\\mathrm{Co} \\rightarrow {}^{56}\\mathrm{Fe}$"
   ]
  },
  {
   "cell_type": "code",
   "execution_count": 2,
   "id": "c2d140f9-e719-4fa9-817a-4ff435f7ae83",
   "metadata": {
    "execution": {
     "iopub.execute_input": "2024-10-19T09:34:02.459465Z",
     "iopub.status.busy": "2024-10-19T09:34:02.459105Z",
     "iopub.status.idle": "2024-10-19T09:34:02.462282Z",
     "shell.execute_reply": "2024-10-19T09:34:02.461703Z"
    }
   },
   "outputs": [],
   "source": [
    "nuclei = [\"ni56\", \"co56\", \"fe56\"]"
   ]
  },
  {
   "cell_type": "code",
   "execution_count": 3,
   "id": "4d2c4fc3-5075-4aae-a059-cd6725a1c157",
   "metadata": {
    "execution": {
     "iopub.execute_input": "2024-10-19T09:34:02.463974Z",
     "iopub.status.busy": "2024-10-19T09:34:02.463788Z",
     "iopub.status.idle": "2024-10-19T09:34:02.476136Z",
     "shell.execute_reply": "2024-10-19T09:34:02.475656Z"
    }
   },
   "outputs": [
    {
     "ename": "NameError",
     "evalue": "name 'pyna' is not defined",
     "output_type": "error",
     "traceback": [
      "\u001b[0;31m---------------------------------------------------------------------------\u001b[0m",
      "\u001b[0;31mNameError\u001b[0m                                 Traceback (most recent call last)",
      "Cell \u001b[0;32mIn[3], line 1\u001b[0m\n\u001b[0;32m----> 1\u001b[0m rl \u001b[38;5;241m=\u001b[39m \u001b[43mpyna\u001b[49m\u001b[38;5;241m.\u001b[39mReacLibLibrary()\n\u001b[1;32m      2\u001b[0m lib \u001b[38;5;241m=\u001b[39m rl\u001b[38;5;241m.\u001b[39mlinking_nuclei(nuclei)\n",
      "\u001b[0;31mNameError\u001b[0m: name 'pyna' is not defined"
     ]
    }
   ],
   "source": [
    "rl = pyna.ReacLibLibrary()\n",
    "lib = rl.linking_nuclei(nuclei)"
   ]
  },
  {
   "cell_type": "markdown",
   "id": "38950483-758a-4d56-a704-ce752fcd3529",
   "metadata": {},
   "source": [
    "We see that we pull in 2 rates, which are simple decays."
   ]
  },
  {
   "cell_type": "code",
   "execution_count": 4,
   "id": "d9b3dd21-eefc-4b06-9067-0397b0bf73d5",
   "metadata": {
    "execution": {
     "iopub.execute_input": "2024-10-19T09:34:02.477809Z",
     "iopub.status.busy": "2024-10-19T09:34:02.477637Z",
     "iopub.status.idle": "2024-10-19T09:34:02.489039Z",
     "shell.execute_reply": "2024-10-19T09:34:02.488527Z"
    }
   },
   "outputs": [
    {
     "ename": "NameError",
     "evalue": "name 'lib' is not defined",
     "output_type": "error",
     "traceback": [
      "\u001b[0;31m---------------------------------------------------------------------------\u001b[0m",
      "\u001b[0;31mNameError\u001b[0m                                 Traceback (most recent call last)",
      "Cell \u001b[0;32mIn[4], line 1\u001b[0m\n\u001b[0;32m----> 1\u001b[0m \u001b[43mlib\u001b[49m\n",
      "\u001b[0;31mNameError\u001b[0m: name 'lib' is not defined"
     ]
    }
   ],
   "source": [
    "lib"
   ]
  },
  {
   "cell_type": "code",
   "execution_count": 5,
   "id": "57613ff7-98c4-47cc-bfcd-335b1a42b211",
   "metadata": {
    "execution": {
     "iopub.execute_input": "2024-10-19T09:34:02.490902Z",
     "iopub.status.busy": "2024-10-19T09:34:02.490575Z",
     "iopub.status.idle": "2024-10-19T09:34:02.502403Z",
     "shell.execute_reply": "2024-10-19T09:34:02.501806Z"
    }
   },
   "outputs": [
    {
     "ename": "NameError",
     "evalue": "name 'pyna' is not defined",
     "output_type": "error",
     "traceback": [
      "\u001b[0;31m---------------------------------------------------------------------------\u001b[0m",
      "\u001b[0;31mNameError\u001b[0m                                 Traceback (most recent call last)",
      "Cell \u001b[0;32mIn[5], line 1\u001b[0m\n\u001b[0;32m----> 1\u001b[0m net \u001b[38;5;241m=\u001b[39m \u001b[43mpyna\u001b[49m\u001b[38;5;241m.\u001b[39mPythonNetwork(libraries\u001b[38;5;241m=\u001b[39m[lib])\n",
      "\u001b[0;31mNameError\u001b[0m: name 'pyna' is not defined"
     ]
    }
   ],
   "source": [
    "net = pyna.PythonNetwork(libraries=[lib])"
   ]
  },
  {
   "cell_type": "markdown",
   "id": "d87fe012-3aa1-4fed-9697-eabeb86a239e",
   "metadata": {},
   "source": [
    "We can write out the network to solve."
   ]
  },
  {
   "cell_type": "code",
   "execution_count": 6,
   "id": "62702cf8-ab40-4ac9-b849-9cb1c9f37b35",
   "metadata": {
    "execution": {
     "iopub.execute_input": "2024-10-19T09:34:02.504446Z",
     "iopub.status.busy": "2024-10-19T09:34:02.504066Z",
     "iopub.status.idle": "2024-10-19T09:34:02.515856Z",
     "shell.execute_reply": "2024-10-19T09:34:02.515284Z"
    }
   },
   "outputs": [
    {
     "ename": "NameError",
     "evalue": "name 'net' is not defined",
     "output_type": "error",
     "traceback": [
      "\u001b[0;31m---------------------------------------------------------------------------\u001b[0m",
      "\u001b[0;31mNameError\u001b[0m                                 Traceback (most recent call last)",
      "Cell \u001b[0;32mIn[6], line 1\u001b[0m\n\u001b[0;32m----> 1\u001b[0m \u001b[43mnet\u001b[49m\u001b[38;5;241m.\u001b[39mwrite_network(\u001b[38;5;124m\"\u001b[39m\u001b[38;5;124mdecay.py\u001b[39m\u001b[38;5;124m\"\u001b[39m)\n",
      "\u001b[0;31mNameError\u001b[0m: name 'net' is not defined"
     ]
    }
   ],
   "source": [
    "net.write_network(\"decay.py\")"
   ]
  },
  {
   "cell_type": "code",
   "execution_count": 7,
   "id": "538c0a13-00fa-49df-8914-d27a42ec93f6",
   "metadata": {
    "execution": {
     "iopub.execute_input": "2024-10-19T09:34:02.517865Z",
     "iopub.status.busy": "2024-10-19T09:34:02.517438Z",
     "iopub.status.idle": "2024-10-19T09:34:02.519922Z",
     "shell.execute_reply": "2024-10-19T09:34:02.519500Z"
    }
   },
   "outputs": [],
   "source": [
    "#%pycat decay.py"
   ]
  },
  {
   "cell_type": "code",
   "execution_count": 8,
   "id": "62253ee8-ef54-492b-b700-0289761770d8",
   "metadata": {
    "execution": {
     "iopub.execute_input": "2024-10-19T09:34:02.521633Z",
     "iopub.status.busy": "2024-10-19T09:34:02.521301Z",
     "iopub.status.idle": "2024-10-19T09:34:02.532811Z",
     "shell.execute_reply": "2024-10-19T09:34:02.532277Z"
    }
   },
   "outputs": [
    {
     "ename": "ModuleNotFoundError",
     "evalue": "No module named 'decay'",
     "output_type": "error",
     "traceback": [
      "\u001b[0;31m---------------------------------------------------------------------------\u001b[0m",
      "\u001b[0;31mModuleNotFoundError\u001b[0m                       Traceback (most recent call last)",
      "Cell \u001b[0;32mIn[8], line 1\u001b[0m\n\u001b[0;32m----> 1\u001b[0m \u001b[38;5;28;01mimport\u001b[39;00m \u001b[38;5;21;01mdecay\u001b[39;00m\n",
      "\u001b[0;31mModuleNotFoundError\u001b[0m: No module named 'decay'"
     ]
    }
   ],
   "source": [
    "import decay"
   ]
  },
  {
   "cell_type": "markdown",
   "id": "6122d3dc-0f62-49a3-8a76-de8db28d57d1",
   "metadata": {},
   "source": [
    "We'll start out with pure ${}^{56}\\mathrm{Ni}$ and convert to molar fractions, since that's what we integrate."
   ]
  },
  {
   "cell_type": "code",
   "execution_count": 9,
   "id": "9ee87499-47b8-4db2-afe2-c5ed3c557434",
   "metadata": {
    "execution": {
     "iopub.execute_input": "2024-10-19T09:34:02.534595Z",
     "iopub.status.busy": "2024-10-19T09:34:02.534247Z",
     "iopub.status.idle": "2024-10-19T09:34:02.547616Z",
     "shell.execute_reply": "2024-10-19T09:34:02.547134Z"
    }
   },
   "outputs": [
    {
     "ename": "NameError",
     "evalue": "name 'np' is not defined",
     "output_type": "error",
     "traceback": [
      "\u001b[0;31m---------------------------------------------------------------------------\u001b[0m",
      "\u001b[0;31mNameError\u001b[0m                                 Traceback (most recent call last)",
      "Cell \u001b[0;32mIn[9], line 1\u001b[0m\n\u001b[0;32m----> 1\u001b[0m X \u001b[38;5;241m=\u001b[39m \u001b[43mnp\u001b[49m\u001b[38;5;241m.\u001b[39mzeros(\u001b[38;5;28mlen\u001b[39m(net\u001b[38;5;241m.\u001b[39munique_nuclei))\n\u001b[1;32m      2\u001b[0m X[decay\u001b[38;5;241m.\u001b[39mjni56] \u001b[38;5;241m=\u001b[39m \u001b[38;5;241m1.0\u001b[39m\n\u001b[1;32m      3\u001b[0m Y0 \u001b[38;5;241m=\u001b[39m X \u001b[38;5;241m/\u001b[39m decay\u001b[38;5;241m.\u001b[39mA\n",
      "\u001b[0;31mNameError\u001b[0m: name 'np' is not defined"
     ]
    }
   ],
   "source": [
    "X = np.zeros(len(net.unique_nuclei))\n",
    "X[decay.jni56] = 1.0\n",
    "Y0 = X / decay.A"
   ]
  },
  {
   "cell_type": "markdown",
   "id": "6590846c-2142-42ee-b226-023294427dcb",
   "metadata": {},
   "source": [
    "Even though the rates have no density or temperature dependence, we still need to pass in a $(\\rho, T)$, so we'll just set them to arbitrary values."
   ]
  },
  {
   "cell_type": "code",
   "execution_count": 10,
   "id": "6ee4021e-3611-4aae-aff6-8de88530a6e3",
   "metadata": {
    "execution": {
     "iopub.execute_input": "2024-10-19T09:34:02.549516Z",
     "iopub.status.busy": "2024-10-19T09:34:02.549164Z",
     "iopub.status.idle": "2024-10-19T09:34:02.551918Z",
     "shell.execute_reply": "2024-10-19T09:34:02.551465Z"
    }
   },
   "outputs": [],
   "source": [
    "rho0 = 1.0\n",
    "T0 = 1.0"
   ]
  },
  {
   "cell_type": "markdown",
   "id": "aa63dc52-40b5-46e6-851f-7728173c635f",
   "metadata": {},
   "source": [
    "We'll integrate for 400 days"
   ]
  },
  {
   "cell_type": "code",
   "execution_count": 11,
   "id": "7faf09c1-6b2b-497c-9a48-f5506872274c",
   "metadata": {
    "execution": {
     "iopub.execute_input": "2024-10-19T09:34:02.553619Z",
     "iopub.status.busy": "2024-10-19T09:34:02.553307Z",
     "iopub.status.idle": "2024-10-19T09:34:02.555934Z",
     "shell.execute_reply": "2024-10-19T09:34:02.555415Z"
    }
   },
   "outputs": [],
   "source": [
    "seconds_per_day = 24 * 3600\n",
    "tmax = 400 * seconds_per_day"
   ]
  },
  {
   "cell_type": "markdown",
   "id": "df25c61a-2d9f-4c65-a4ab-d19a43c56b86",
   "metadata": {},
   "source": [
    "We can use the default integrator in `solve_ivp()` since this system is not stiff."
   ]
  },
  {
   "cell_type": "code",
   "execution_count": 12,
   "id": "ce56b6ea-e4f8-461a-b2af-9d9f18c0a81d",
   "metadata": {
    "execution": {
     "iopub.execute_input": "2024-10-19T09:34:02.557587Z",
     "iopub.status.busy": "2024-10-19T09:34:02.557280Z",
     "iopub.status.idle": "2024-10-19T09:34:02.569877Z",
     "shell.execute_reply": "2024-10-19T09:34:02.569276Z"
    }
   },
   "outputs": [
    {
     "ename": "NameError",
     "evalue": "name 'solve_ivp' is not defined",
     "output_type": "error",
     "traceback": [
      "\u001b[0;31m---------------------------------------------------------------------------\u001b[0m",
      "\u001b[0;31mNameError\u001b[0m                                 Traceback (most recent call last)",
      "Cell \u001b[0;32mIn[12], line 1\u001b[0m\n\u001b[0;32m----> 1\u001b[0m sol \u001b[38;5;241m=\u001b[39m \u001b[43msolve_ivp\u001b[49m(decay\u001b[38;5;241m.\u001b[39mrhs, [\u001b[38;5;241m0\u001b[39m, tmax], Y0,\n\u001b[1;32m      2\u001b[0m                 dense_output\u001b[38;5;241m=\u001b[39m\u001b[38;5;28;01mTrue\u001b[39;00m, args\u001b[38;5;241m=\u001b[39m(rho0, T0), rtol\u001b[38;5;241m=\u001b[39m\u001b[38;5;241m1.e-8\u001b[39m, atol\u001b[38;5;241m=\u001b[39m\u001b[38;5;241m1.e-10\u001b[39m)\n",
      "\u001b[0;31mNameError\u001b[0m: name 'solve_ivp' is not defined"
     ]
    }
   ],
   "source": [
    "sol = solve_ivp(decay.rhs, [0, tmax], Y0,\n",
    "                dense_output=True, args=(rho0, T0), rtol=1.e-8, atol=1.e-10)"
   ]
  },
  {
   "cell_type": "markdown",
   "id": "f425e0b5-551f-4156-8f5a-289b76a95a23",
   "metadata": {},
   "source": [
    "Now we can look at the evolution of the composition"
   ]
  },
  {
   "cell_type": "code",
   "execution_count": 13,
   "id": "28ecfc09-bc68-4db8-a415-1e5955e5d466",
   "metadata": {
    "execution": {
     "iopub.execute_input": "2024-10-19T09:34:02.571703Z",
     "iopub.status.busy": "2024-10-19T09:34:02.571365Z",
     "iopub.status.idle": "2024-10-19T09:34:02.585550Z",
     "shell.execute_reply": "2024-10-19T09:34:02.585060Z"
    }
   },
   "outputs": [
    {
     "ename": "NameError",
     "evalue": "name 'plt' is not defined",
     "output_type": "error",
     "traceback": [
      "\u001b[0;31m---------------------------------------------------------------------------\u001b[0m",
      "\u001b[0;31mNameError\u001b[0m                                 Traceback (most recent call last)",
      "Cell \u001b[0;32mIn[13], line 1\u001b[0m\n\u001b[0;32m----> 1\u001b[0m fig, ax \u001b[38;5;241m=\u001b[39m \u001b[43mplt\u001b[49m\u001b[38;5;241m.\u001b[39msubplots()\n\u001b[1;32m      2\u001b[0m \u001b[38;5;28;01mfor\u001b[39;00m n \u001b[38;5;129;01min\u001b[39;00m \u001b[38;5;28mrange\u001b[39m(\u001b[38;5;28mlen\u001b[39m(net\u001b[38;5;241m.\u001b[39munique_nuclei)):\n\u001b[1;32m      3\u001b[0m     ax\u001b[38;5;241m.\u001b[39msemilogy(sol\u001b[38;5;241m.\u001b[39mt \u001b[38;5;241m/\u001b[39m seconds_per_day, decay\u001b[38;5;241m.\u001b[39mA[n] \u001b[38;5;241m*\u001b[39m sol\u001b[38;5;241m.\u001b[39my[n, :], label\u001b[38;5;241m=\u001b[39m\u001b[38;5;124mf\u001b[39m\u001b[38;5;124m\"\u001b[39m\u001b[38;5;124mX(\u001b[39m\u001b[38;5;132;01m{\u001b[39;00mdecay\u001b[38;5;241m.\u001b[39mnames[n]\u001b[38;5;241m.\u001b[39mcapitalize()\u001b[38;5;132;01m}\u001b[39;00m\u001b[38;5;124m)\u001b[39m\u001b[38;5;124m\"\u001b[39m)\n",
      "\u001b[0;31mNameError\u001b[0m: name 'plt' is not defined"
     ]
    }
   ],
   "source": [
    "fig, ax = plt.subplots()\n",
    "for n in range(len(net.unique_nuclei)):\n",
    "    ax.semilogy(sol.t / seconds_per_day, decay.A[n] * sol.y[n, :], label=f\"X({decay.names[n].capitalize()})\")\n",
    "ax.set_ylim(1.e-6, 2)\n",
    "ax.legend()\n",
    "ax.set_xlabel(\"time (days)\")\n",
    "ax.set_ylabel(\"X\")"
   ]
  },
  {
   "cell_type": "markdown",
   "id": "2de6619b-e351-41af-9843-13b35bd4386f",
   "metadata": {},
   "source": [
    "If we want the luminosity, we can compute that as the instantaneous energy release.  Note: this assumes that all of the energy release is given to photons.  For this, we need the rates, which we can get these by iterating over the solution"
   ]
  },
  {
   "cell_type": "code",
   "execution_count": 14,
   "id": "23d84031-0be6-46a6-8e7e-687e68acfb49",
   "metadata": {
    "execution": {
     "iopub.execute_input": "2024-10-19T09:34:02.587468Z",
     "iopub.status.busy": "2024-10-19T09:34:02.587053Z",
     "iopub.status.idle": "2024-10-19T09:34:02.600815Z",
     "shell.execute_reply": "2024-10-19T09:34:02.600208Z"
    }
   },
   "outputs": [
    {
     "ename": "NameError",
     "evalue": "name 'sol' is not defined",
     "output_type": "error",
     "traceback": [
      "\u001b[0;31m---------------------------------------------------------------------------\u001b[0m",
      "\u001b[0;31mNameError\u001b[0m                                 Traceback (most recent call last)",
      "Cell \u001b[0;32mIn[14], line 2\u001b[0m\n\u001b[1;32m      1\u001b[0m L \u001b[38;5;241m=\u001b[39m []\n\u001b[0;32m----> 2\u001b[0m \u001b[38;5;28;01mfor\u001b[39;00m n \u001b[38;5;129;01min\u001b[39;00m \u001b[38;5;28mrange\u001b[39m(\u001b[43msol\u001b[49m\u001b[38;5;241m.\u001b[39my\u001b[38;5;241m.\u001b[39mshape[\u001b[38;5;241m-\u001b[39m\u001b[38;5;241m1\u001b[39m]):\n\u001b[1;32m      3\u001b[0m     Y \u001b[38;5;241m=\u001b[39m sol\u001b[38;5;241m.\u001b[39my[:, n]\n\u001b[1;32m      4\u001b[0m     dYdt \u001b[38;5;241m=\u001b[39m decay\u001b[38;5;241m.\u001b[39mrhs(sol\u001b[38;5;241m.\u001b[39mt[n], Y, rho0, T0)\n",
      "\u001b[0;31mNameError\u001b[0m: name 'sol' is not defined"
     ]
    }
   ],
   "source": [
    "L = []\n",
    "for n in range(sol.y.shape[-1]):\n",
    "    Y = sol.y[:, n]\n",
    "    dYdt = decay.rhs(sol.t[n], Y, rho0, T0)\n",
    "    L.append(decay.energy_release(dYdt))"
   ]
  },
  {
   "cell_type": "markdown",
   "id": "48ce45c2-8446-4e98-8934-fc1ea94504a9",
   "metadata": {},
   "source": [
    "L is now in erg/g/s, so we should multiply by the initial ${}^{56}\\mathrm{Ni}$ mass."
   ]
  },
  {
   "cell_type": "code",
   "execution_count": 15,
   "id": "609dd2b8-cc45-48b2-ab55-54f9e54af773",
   "metadata": {
    "execution": {
     "iopub.execute_input": "2024-10-19T09:34:02.602718Z",
     "iopub.status.busy": "2024-10-19T09:34:02.602306Z",
     "iopub.status.idle": "2024-10-19T09:34:02.605209Z",
     "shell.execute_reply": "2024-10-19T09:34:02.604662Z"
    }
   },
   "outputs": [],
   "source": [
    "M_sun = 2.e33\n",
    "L_sun = 4.e33\n",
    "\n",
    "# initial mass\n",
    "M_Ni56 = 1.0 * M_sun"
   ]
  },
  {
   "cell_type": "code",
   "execution_count": 16,
   "id": "575314b6-42c8-447a-baf4-56c7f414d76c",
   "metadata": {
    "execution": {
     "iopub.execute_input": "2024-10-19T09:34:02.607089Z",
     "iopub.status.busy": "2024-10-19T09:34:02.606690Z",
     "iopub.status.idle": "2024-10-19T09:34:02.618914Z",
     "shell.execute_reply": "2024-10-19T09:34:02.618347Z"
    }
   },
   "outputs": [
    {
     "ename": "NameError",
     "evalue": "name 'np' is not defined",
     "output_type": "error",
     "traceback": [
      "\u001b[0;31m---------------------------------------------------------------------------\u001b[0m",
      "\u001b[0;31mNameError\u001b[0m                                 Traceback (most recent call last)",
      "Cell \u001b[0;32mIn[16], line 1\u001b[0m\n\u001b[0;32m----> 1\u001b[0m L \u001b[38;5;241m=\u001b[39m \u001b[43mnp\u001b[49m\u001b[38;5;241m.\u001b[39marray(L) \u001b[38;5;241m*\u001b[39m M_sun\n",
      "\u001b[0;31mNameError\u001b[0m: name 'np' is not defined"
     ]
    }
   ],
   "source": [
    "L = np.array(L) * M_sun"
   ]
  },
  {
   "cell_type": "markdown",
   "id": "a526aa58-f8f7-49c8-b790-b6ace119f546",
   "metadata": {},
   "source": [
    "Now we can plot the lightcurve."
   ]
  },
  {
   "cell_type": "code",
   "execution_count": 17,
   "id": "8aaa0cf9-4bec-40d4-8ccd-54da686b827b",
   "metadata": {
    "execution": {
     "iopub.execute_input": "2024-10-19T09:34:02.620891Z",
     "iopub.status.busy": "2024-10-19T09:34:02.620525Z",
     "iopub.status.idle": "2024-10-19T09:34:02.633268Z",
     "shell.execute_reply": "2024-10-19T09:34:02.632714Z"
    }
   },
   "outputs": [
    {
     "ename": "NameError",
     "evalue": "name 'plt' is not defined",
     "output_type": "error",
     "traceback": [
      "\u001b[0;31m---------------------------------------------------------------------------\u001b[0m",
      "\u001b[0;31mNameError\u001b[0m                                 Traceback (most recent call last)",
      "Cell \u001b[0;32mIn[17], line 1\u001b[0m\n\u001b[0;32m----> 1\u001b[0m fig, ax \u001b[38;5;241m=\u001b[39m \u001b[43mplt\u001b[49m\u001b[38;5;241m.\u001b[39msubplots()\n\u001b[1;32m      2\u001b[0m ax\u001b[38;5;241m.\u001b[39msemilogy(sol\u001b[38;5;241m.\u001b[39mt \u001b[38;5;241m/\u001b[39m seconds_per_day, L \u001b[38;5;241m/\u001b[39m L_sun)\n\u001b[1;32m      3\u001b[0m ax\u001b[38;5;241m.\u001b[39mset_xlabel(\u001b[38;5;124m\"\u001b[39m\u001b[38;5;124mtime (days)\u001b[39m\u001b[38;5;124m\"\u001b[39m)\n",
      "\u001b[0;31mNameError\u001b[0m: name 'plt' is not defined"
     ]
    }
   ],
   "source": [
    "fig, ax = plt.subplots()\n",
    "ax.semilogy(sol.t / seconds_per_day, L / L_sun)\n",
    "ax.set_xlabel(\"time (days)\")\n",
    "ax.set_ylabel(\"luminosity (solar)\")"
   ]
  }
 ],
 "metadata": {
  "kernelspec": {
   "display_name": "Python 3 (ipykernel)",
   "language": "python",
   "name": "python3"
  },
  "language_info": {
   "codemirror_mode": {
    "name": "ipython",
    "version": 3
   },
   "file_extension": ".py",
   "mimetype": "text/x-python",
   "name": "python",
   "nbconvert_exporter": "python",
   "pygments_lexer": "ipython3",
   "version": "3.11.10"
  }
 },
 "nbformat": 4,
 "nbformat_minor": 5
}
