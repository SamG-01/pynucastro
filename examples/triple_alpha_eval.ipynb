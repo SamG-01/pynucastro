{
 "cells": [
  {
   "cell_type": "markdown",
   "id": "585c3ffc-ac49-426d-a9f8-b65afe96f61a",
   "metadata": {},
   "source": [
    "# Computing the Screened Triple-alpha rate"
   ]
  },
  {
   "cell_type": "markdown",
   "id": "3693f1fd-ebfe-408d-99e3-8b6435a0cc97",
   "metadata": {},
   "source": [
    "We want to evaluate the 3-$\\alpha$ rate with screening to understand how temperature sensitive it is.\n",
    "We'll do this 2 different ways (but both will get the same answer)."
   ]
  },
  {
   "cell_type": "code",
   "execution_count": 1,
   "id": "08aac297-34b7-4a88-9a9b-d900db6c0391",
   "metadata": {
    "execution": {
     "iopub.execute_input": "2024-10-10T09:53:37.265806Z",
     "iopub.status.busy": "2024-10-10T09:53:37.265353Z",
     "iopub.status.idle": "2024-10-10T09:53:37.822193Z",
     "shell.execute_reply": "2024-10-10T09:53:37.821641Z"
    }
   },
   "outputs": [
    {
     "ename": "ValueError",
     "evalue": "not enough values to unpack (expected 5, got 4)",
     "output_type": "error",
     "traceback": [
      "\u001b[0;31m---------------------------------------------------------------------------\u001b[0m",
      "\u001b[0;31mValueError\u001b[0m                                Traceback (most recent call last)",
      "Cell \u001b[0;32mIn[1], line 1\u001b[0m\n\u001b[0;32m----> 1\u001b[0m \u001b[38;5;28;01mimport\u001b[39;00m \u001b[38;5;21;01mpynucastro\u001b[39;00m \u001b[38;5;28;01mas\u001b[39;00m \u001b[38;5;21;01mpyna\u001b[39;00m\n",
      "File \u001b[0;32m/opt/hostedtoolcache/Python/3.11.10/x64/lib/python3.11/site-packages/pynucastro/__init__.py:131\u001b[0m\n\u001b[1;32m    126\u001b[0m \u001b[38;5;28;01mfrom\u001b[39;00m \u001b[38;5;21;01m.\u001b[39;00m\u001b[38;5;21;01m_version\u001b[39;00m \u001b[38;5;28;01mimport\u001b[39;00m version\n\u001b[1;32m    128\u001b[0m __version__ \u001b[38;5;241m=\u001b[39m version\n\u001b[0;32m--> 131\u001b[0m \u001b[38;5;28;01mimport\u001b[39;00m \u001b[38;5;21;01mpynucastro\u001b[39;00m\u001b[38;5;21;01m.\u001b[39;00m\u001b[38;5;21;01mscreening\u001b[39;00m\n\u001b[1;32m    132\u001b[0m \u001b[38;5;28;01mfrom\u001b[39;00m \u001b[38;5;21;01mpynucastro\u001b[39;00m\u001b[38;5;21;01m.\u001b[39;00m\u001b[38;5;21;01mnetworks\u001b[39;00m \u001b[38;5;28;01mimport\u001b[39;00m (AmrexAstroCxxNetwork, BaseCxxNetwork,\n\u001b[1;32m    133\u001b[0m                                  Composition, Explorer, NSENetwork,\n\u001b[1;32m    134\u001b[0m                                  NumpyNetwork, PythonNetwork, RateCollection,\n\u001b[1;32m    135\u001b[0m                                  SimpleCxxNetwork, StarKillerCxxNetwork,\n\u001b[1;32m    136\u001b[0m                                  SympyRates)\n\u001b[1;32m    137\u001b[0m \u001b[38;5;28;01mfrom\u001b[39;00m \u001b[38;5;21;01mpynucastro\u001b[39;00m\u001b[38;5;21;01m.\u001b[39;00m\u001b[38;5;21;01mnucdata\u001b[39;00m \u001b[38;5;28;01mimport\u001b[39;00m Nucleus, get_all_nuclei, get_nuclei_in_range\n",
      "File \u001b[0;32m/opt/hostedtoolcache/Python/3.11.10/x64/lib/python3.11/site-packages/pynucastro/screening/__init__.py:5\u001b[0m\n\u001b[1;32m      1\u001b[0m \u001b[38;5;124;03m\"\"\"Screening routines\"\"\"\u001b[39;00m\n\u001b[1;32m      3\u001b[0m __all__ \u001b[38;5;241m=\u001b[39m [\u001b[38;5;124m\"\u001b[39m\u001b[38;5;124mscreen\u001b[39m\u001b[38;5;124m\"\u001b[39m, \u001b[38;5;124m\"\u001b[39m\u001b[38;5;124mscreening_util\u001b[39m\u001b[38;5;124m\"\u001b[39m]\n\u001b[0;32m----> 5\u001b[0m \u001b[38;5;28;01mfrom\u001b[39;00m \u001b[38;5;21;01m.\u001b[39;00m\u001b[38;5;21;01mscreen\u001b[39;00m \u001b[38;5;28;01mimport\u001b[39;00m (NseState, PlasmaState, ScreenFactors, chugunov_2007,\n\u001b[1;32m      6\u001b[0m                      chugunov_2009, make_plasma_state, make_screen_factors,\n\u001b[1;32m      7\u001b[0m                      potekhin_1998, screen5)\n\u001b[1;32m      8\u001b[0m \u001b[38;5;28;01mfrom\u001b[39;00m \u001b[38;5;21;01m.\u001b[39;00m\u001b[38;5;21;01mscreening_util\u001b[39;00m \u001b[38;5;28;01mimport\u001b[39;00m ScreeningPair, get_screening_map\n",
      "File \u001b[0;32m/opt/hostedtoolcache/Python/3.11.10/x64/lib/python3.11/site-packages/pynucastro/screening/screen.py:7\u001b[0m\n\u001b[1;32m      4\u001b[0m \u001b[38;5;28;01mimport\u001b[39;00m \u001b[38;5;21;01mnumpy\u001b[39;00m \u001b[38;5;28;01mas\u001b[39;00m \u001b[38;5;21;01mnp\u001b[39;00m\n\u001b[1;32m      6\u001b[0m \u001b[38;5;28;01mfrom\u001b[39;00m \u001b[38;5;21;01mpynucastro\u001b[39;00m\u001b[38;5;21;01m.\u001b[39;00m\u001b[38;5;21;01mconstants\u001b[39;00m \u001b[38;5;28;01mimport\u001b[39;00m constants\n\u001b[0;32m----> 7\u001b[0m \u001b[38;5;28;01mfrom\u001b[39;00m \u001b[38;5;21;01mpynucastro\u001b[39;00m\u001b[38;5;21;01m.\u001b[39;00m\u001b[38;5;21;01mnucdata\u001b[39;00m \u001b[38;5;28;01mimport\u001b[39;00m Nucleus\n\u001b[1;32m      8\u001b[0m \u001b[38;5;66;03m# use the jitclass placeholder from rate.py\u001b[39;00m\n\u001b[1;32m      9\u001b[0m \u001b[38;5;28;01mfrom\u001b[39;00m \u001b[38;5;21;01mpynucastro\u001b[39;00m\u001b[38;5;21;01m.\u001b[39;00m\u001b[38;5;21;01mrates\u001b[39;00m\u001b[38;5;21;01m.\u001b[39;00m\u001b[38;5;21;01mrate\u001b[39;00m \u001b[38;5;28;01mimport\u001b[39;00m jitclass, numba\n",
      "File \u001b[0;32m/opt/hostedtoolcache/Python/3.11.10/x64/lib/python3.11/site-packages/pynucastro/nucdata/__init__.py:10\u001b[0m\n\u001b[1;32m      8\u001b[0m \u001b[38;5;28;01mfrom\u001b[39;00m \u001b[38;5;21;01m.\u001b[39;00m\u001b[38;5;21;01melements\u001b[39;00m \u001b[38;5;28;01mimport\u001b[39;00m Element, PeriodicTable, UnidentifiedElement\n\u001b[1;32m      9\u001b[0m \u001b[38;5;28;01mfrom\u001b[39;00m \u001b[38;5;21;01m.\u001b[39;00m\u001b[38;5;21;01mmass_table\u001b[39;00m \u001b[38;5;28;01mimport\u001b[39;00m MassTable\n\u001b[0;32m---> 10\u001b[0m \u001b[38;5;28;01mfrom\u001b[39;00m \u001b[38;5;21;01m.\u001b[39;00m\u001b[38;5;21;01mnucleus\u001b[39;00m \u001b[38;5;28;01mimport\u001b[39;00m (Nucleus, UnsupportedNucleus, get_all_nuclei,\n\u001b[1;32m     11\u001b[0m                       get_nuclei_in_range)\n\u001b[1;32m     12\u001b[0m \u001b[38;5;28;01mfrom\u001b[39;00m \u001b[38;5;21;01m.\u001b[39;00m\u001b[38;5;21;01mpartition_function\u001b[39;00m \u001b[38;5;28;01mimport\u001b[39;00m (PartitionFunction,\n\u001b[1;32m     13\u001b[0m                                  PartitionFunctionCollection,\n\u001b[1;32m     14\u001b[0m                                  PartitionFunctionTable)\n\u001b[1;32m     15\u001b[0m \u001b[38;5;28;01mfrom\u001b[39;00m \u001b[38;5;21;01m.\u001b[39;00m\u001b[38;5;21;01mspin_table\u001b[39;00m \u001b[38;5;28;01mimport\u001b[39;00m SpinTable\n",
      "File \u001b[0;32m/opt/hostedtoolcache/Python/3.11.10/x64/lib/python3.11/site-packages/pynucastro/nucdata/nucleus.py:22\u001b[0m\n\u001b[1;32m     20\u001b[0m _mass_table \u001b[38;5;241m=\u001b[39m MassTable()\n\u001b[1;32m     21\u001b[0m _halflife_table \u001b[38;5;241m=\u001b[39m HalfLifeTable()\n\u001b[0;32m---> 22\u001b[0m _spin_table \u001b[38;5;241m=\u001b[39m \u001b[43mSpinTable\u001b[49m\u001b[43m(\u001b[49m\u001b[43mreliable\u001b[49m\u001b[38;5;241;43m=\u001b[39;49m\u001b[38;5;28;43;01mTrue\u001b[39;49;00m\u001b[43m)\u001b[49m\n\u001b[1;32m     24\u001b[0m \u001b[38;5;66;03m# read the partition function table once and store it at the module-level\u001b[39;00m\n\u001b[1;32m     25\u001b[0m _pcollection \u001b[38;5;241m=\u001b[39m PartitionFunctionCollection(use_high_temperatures\u001b[38;5;241m=\u001b[39m\u001b[38;5;28;01mTrue\u001b[39;00m, use_set\u001b[38;5;241m=\u001b[39m\u001b[38;5;124m'\u001b[39m\u001b[38;5;124mfrdm\u001b[39m\u001b[38;5;124m'\u001b[39m)\n",
      "File \u001b[0;32m/opt/hostedtoolcache/Python/3.11.10/x64/lib/python3.11/site-packages/pynucastro/nucdata/spin_table.py:27\u001b[0m, in \u001b[0;36mSpinTable.__init__\u001b[0;34m(self, datafile, reliable)\u001b[0m\n\u001b[1;32m     24\u001b[0m     datafile_name \u001b[38;5;241m=\u001b[39m \u001b[38;5;124m'\u001b[39m\u001b[38;5;124mnubase2020_1.txt\u001b[39m\u001b[38;5;124m'\u001b[39m\n\u001b[1;32m     25\u001b[0m     \u001b[38;5;28mself\u001b[39m\u001b[38;5;241m.\u001b[39mdatafile \u001b[38;5;241m=\u001b[39m nucdata_dir\u001b[38;5;241m/\u001b[39m\u001b[38;5;124m'\u001b[39m\u001b[38;5;124mAtomicMassEvaluation\u001b[39m\u001b[38;5;124m'\u001b[39m\u001b[38;5;241m/\u001b[39mdatafile_name\n\u001b[0;32m---> 27\u001b[0m \u001b[38;5;28;43mself\u001b[39;49m\u001b[38;5;241;43m.\u001b[39;49m\u001b[43m_read_table\u001b[49m\u001b[43m(\u001b[49m\u001b[43m)\u001b[49m\n",
      "File \u001b[0;32m/opt/hostedtoolcache/Python/3.11.10/x64/lib/python3.11/site-packages/pynucastro/nucdata/spin_table.py:35\u001b[0m, in \u001b[0;36mSpinTable._read_table\u001b[0;34m(self)\u001b[0m\n\u001b[1;32m     31\u001b[0m \u001b[38;5;28;01mwith\u001b[39;00m \u001b[38;5;28mself\u001b[39m\u001b[38;5;241m.\u001b[39mdatafile\u001b[38;5;241m.\u001b[39mopen(\u001b[38;5;124m\"\u001b[39m\u001b[38;5;124mr\u001b[39m\u001b[38;5;124m\"\u001b[39m) \u001b[38;5;28;01mas\u001b[39;00m f:\n\u001b[1;32m     33\u001b[0m     \u001b[38;5;28;01mfor\u001b[39;00m line \u001b[38;5;129;01min\u001b[39;00m f\u001b[38;5;241m.\u001b[39mreadlines()[\u001b[38;5;241m4\u001b[39m:]:\n\u001b[0;32m---> 35\u001b[0m         A, Z, _, spin_states, experimental \u001b[38;5;241m=\u001b[39m line\u001b[38;5;241m.\u001b[39mstrip()\u001b[38;5;241m.\u001b[39msplit()[:\u001b[38;5;241m4\u001b[39m]\n\u001b[1;32m     36\u001b[0m         A, Z, spin_states \u001b[38;5;241m=\u001b[39m \u001b[38;5;28mint\u001b[39m(A), \u001b[38;5;28mint\u001b[39m(Z), \u001b[38;5;28mint\u001b[39m(spin_states)\n\u001b[1;32m     38\u001b[0m         \u001b[38;5;28;01mif\u001b[39;00m \u001b[38;5;28mself\u001b[39m\u001b[38;5;241m.\u001b[39mreliable:\n",
      "\u001b[0;31mValueError\u001b[0m: not enough values to unpack (expected 5, got 4)"
     ]
    }
   ],
   "source": [
    "import pynucastro as pyna"
   ]
  },
  {
   "cell_type": "markdown",
   "id": "bbf6e66b-66cb-45ce-8c47-54368989fa66",
   "metadata": {},
   "source": [
    "We'll define the thermodynamics first -- a composition of just He and C"
   ]
  },
  {
   "cell_type": "code",
   "execution_count": 2,
   "id": "4066e343-77ab-4977-8ca4-58071c54ef9b",
   "metadata": {
    "execution": {
     "iopub.execute_input": "2024-10-10T09:53:37.824057Z",
     "iopub.status.busy": "2024-10-10T09:53:37.823881Z",
     "iopub.status.idle": "2024-10-10T09:53:37.826549Z",
     "shell.execute_reply": "2024-10-10T09:53:37.825960Z"
    }
   },
   "outputs": [],
   "source": [
    "temp = 1.e8\n",
    "dens = 1.e6"
   ]
  },
  {
   "cell_type": "code",
   "execution_count": 3,
   "id": "0db143f2-4a9e-473a-a687-4c5cfb21bfb1",
   "metadata": {
    "execution": {
     "iopub.execute_input": "2024-10-10T09:53:37.828450Z",
     "iopub.status.busy": "2024-10-10T09:53:37.827999Z",
     "iopub.status.idle": "2024-10-10T09:53:37.841329Z",
     "shell.execute_reply": "2024-10-10T09:53:37.840880Z"
    }
   },
   "outputs": [
    {
     "ename": "NameError",
     "evalue": "name 'pyna' is not defined",
     "output_type": "error",
     "traceback": [
      "\u001b[0;31m---------------------------------------------------------------------------\u001b[0m",
      "\u001b[0;31mNameError\u001b[0m                                 Traceback (most recent call last)",
      "Cell \u001b[0;32mIn[3], line 1\u001b[0m\n\u001b[0;32m----> 1\u001b[0m he4 \u001b[38;5;241m=\u001b[39m \u001b[43mpyna\u001b[49m\u001b[38;5;241m.\u001b[39mNucleus(\u001b[38;5;124m\"\u001b[39m\u001b[38;5;124mhe4\u001b[39m\u001b[38;5;124m\"\u001b[39m)\n\u001b[1;32m      2\u001b[0m c12 \u001b[38;5;241m=\u001b[39m pyna\u001b[38;5;241m.\u001b[39mNucleus(\u001b[38;5;124m\"\u001b[39m\u001b[38;5;124mc12\u001b[39m\u001b[38;5;124m\"\u001b[39m)\n\u001b[1;32m      4\u001b[0m nuclei \u001b[38;5;241m=\u001b[39m [he4, c12]\n",
      "\u001b[0;31mNameError\u001b[0m: name 'pyna' is not defined"
     ]
    }
   ],
   "source": [
    "he4 = pyna.Nucleus(\"he4\")\n",
    "c12 = pyna.Nucleus(\"c12\")\n",
    "\n",
    "nuclei = [he4, c12]\n",
    "comp = pyna.Composition(nuclei)\n",
    "comp.X[he4] = 0.9\n",
    "comp.X[c12] = 0.1\n",
    "\n",
    "fig = comp.plot()"
   ]
  },
  {
   "cell_type": "markdown",
   "id": "59260153-adc7-4d9a-ac6a-a9bb3df5d927",
   "metadata": {},
   "source": [
    "## Manual method\n",
    "\n",
    "Here well read in this rate and compute the screening factors ourselves and then build up the full form of the rate"
   ]
  },
  {
   "cell_type": "code",
   "execution_count": 4,
   "id": "1c78882c-acef-4264-8e55-543969697a9a",
   "metadata": {
    "execution": {
     "iopub.execute_input": "2024-10-10T09:53:37.842960Z",
     "iopub.status.busy": "2024-10-10T09:53:37.842639Z",
     "iopub.status.idle": "2024-10-10T09:53:37.853983Z",
     "shell.execute_reply": "2024-10-10T09:53:37.853428Z"
    }
   },
   "outputs": [
    {
     "ename": "NameError",
     "evalue": "name 'pyna' is not defined",
     "output_type": "error",
     "traceback": [
      "\u001b[0;31m---------------------------------------------------------------------------\u001b[0m",
      "\u001b[0;31mNameError\u001b[0m                                 Traceback (most recent call last)",
      "Cell \u001b[0;32mIn[4], line 1\u001b[0m\n\u001b[0;32m----> 1\u001b[0m rl \u001b[38;5;241m=\u001b[39m \u001b[43mpyna\u001b[49m\u001b[38;5;241m.\u001b[39mReacLibLibrary()\n",
      "\u001b[0;31mNameError\u001b[0m: name 'pyna' is not defined"
     ]
    }
   ],
   "source": [
    "rl = pyna.ReacLibLibrary()"
   ]
  },
  {
   "cell_type": "code",
   "execution_count": 5,
   "id": "f3e9a9fc-100f-41e8-ab01-fae7d6d65e57",
   "metadata": {
    "execution": {
     "iopub.execute_input": "2024-10-10T09:53:37.855825Z",
     "iopub.status.busy": "2024-10-10T09:53:37.855623Z",
     "iopub.status.idle": "2024-10-10T09:53:37.866763Z",
     "shell.execute_reply": "2024-10-10T09:53:37.866179Z"
    }
   },
   "outputs": [
    {
     "ename": "NameError",
     "evalue": "name 'rl' is not defined",
     "output_type": "error",
     "traceback": [
      "\u001b[0;31m---------------------------------------------------------------------------\u001b[0m",
      "\u001b[0;31mNameError\u001b[0m                                 Traceback (most recent call last)",
      "Cell \u001b[0;32mIn[5], line 1\u001b[0m\n\u001b[0;32m----> 1\u001b[0m triple_alpha \u001b[38;5;241m=\u001b[39m \u001b[43mrl\u001b[49m\u001b[38;5;241m.\u001b[39mget_rate_by_name(\u001b[38;5;124m\"\u001b[39m\u001b[38;5;124ma(aa,)c12\u001b[39m\u001b[38;5;124m\"\u001b[39m)\n",
      "\u001b[0;31mNameError\u001b[0m: name 'rl' is not defined"
     ]
    }
   ],
   "source": [
    "triple_alpha = rl.get_rate_by_name(\"a(aa,)c12\")"
   ]
  },
  {
   "cell_type": "markdown",
   "id": "9b4aaae6-293a-4013-b9b1-b60b81693b7c",
   "metadata": {},
   "source": [
    "Here's the temperature sensitivity of just the 3-$\\alpha$ rate"
   ]
  },
  {
   "cell_type": "code",
   "execution_count": 6,
   "id": "1b5051d3-c2f3-4ba2-877e-b1840c2f9ef5",
   "metadata": {
    "execution": {
     "iopub.execute_input": "2024-10-10T09:53:37.868716Z",
     "iopub.status.busy": "2024-10-10T09:53:37.868332Z",
     "iopub.status.idle": "2024-10-10T09:53:37.878647Z",
     "shell.execute_reply": "2024-10-10T09:53:37.878205Z"
    }
   },
   "outputs": [
    {
     "ename": "NameError",
     "evalue": "name 'triple_alpha' is not defined",
     "output_type": "error",
     "traceback": [
      "\u001b[0;31m---------------------------------------------------------------------------\u001b[0m",
      "\u001b[0;31mNameError\u001b[0m                                 Traceback (most recent call last)",
      "Cell \u001b[0;32mIn[6], line 1\u001b[0m\n\u001b[0;32m----> 1\u001b[0m fig \u001b[38;5;241m=\u001b[39m \u001b[43mtriple_alpha\u001b[49m\u001b[38;5;241m.\u001b[39mplot(Tmin\u001b[38;5;241m=\u001b[39m\u001b[38;5;241m5.e7\u001b[39m)\n",
      "\u001b[0;31mNameError\u001b[0m: name 'triple_alpha' is not defined"
     ]
    }
   ],
   "source": [
    "fig = triple_alpha.plot(Tmin=5.e7)"
   ]
  },
  {
   "cell_type": "markdown",
   "id": "04d72766-b1bc-4992-aa4b-7ba447a17f84",
   "metadata": {},
   "source": [
    "To compute the screening, we first need to get the plasma state"
   ]
  },
  {
   "cell_type": "code",
   "execution_count": 7,
   "id": "2bd3b245-8890-429c-9279-2220f0f0fe01",
   "metadata": {
    "execution": {
     "iopub.execute_input": "2024-10-10T09:53:37.880408Z",
     "iopub.status.busy": "2024-10-10T09:53:37.880095Z",
     "iopub.status.idle": "2024-10-10T09:53:37.890748Z",
     "shell.execute_reply": "2024-10-10T09:53:37.890293Z"
    }
   },
   "outputs": [
    {
     "ename": "NameError",
     "evalue": "name 'pyna' is not defined",
     "output_type": "error",
     "traceback": [
      "\u001b[0;31m---------------------------------------------------------------------------\u001b[0m",
      "\u001b[0;31mNameError\u001b[0m                                 Traceback (most recent call last)",
      "Cell \u001b[0;32mIn[7], line 1\u001b[0m\n\u001b[0;32m----> 1\u001b[0m plasma \u001b[38;5;241m=\u001b[39m \u001b[43mpyna\u001b[49m\u001b[38;5;241m.\u001b[39mmake_plasma_state(temp, dens, comp\u001b[38;5;241m.\u001b[39mget_molar())\n",
      "\u001b[0;31mNameError\u001b[0m: name 'pyna' is not defined"
     ]
    }
   ],
   "source": [
    "plasma = pyna.make_plasma_state(temp, dens, comp.get_molar())"
   ]
  },
  {
   "cell_type": "markdown",
   "id": "d0426a3e-f676-44c7-b8ef-f6e863be547b",
   "metadata": {},
   "source": [
    "Now, the 3-$\\alpha$ rate requires 2 separate screening terms, first $\\alpha + \\alpha$ and then\n",
    "$\\alpha + {}^8\\mathrm{Be}$"
   ]
  },
  {
   "cell_type": "code",
   "execution_count": 8,
   "id": "cda4c8aa-1ebe-442e-b659-eca3a45c3d2f",
   "metadata": {
    "execution": {
     "iopub.execute_input": "2024-10-10T09:53:37.892494Z",
     "iopub.status.busy": "2024-10-10T09:53:37.892113Z",
     "iopub.status.idle": "2024-10-10T09:53:37.903846Z",
     "shell.execute_reply": "2024-10-10T09:53:37.903291Z"
    }
   },
   "outputs": [
    {
     "ename": "NameError",
     "evalue": "name 'pyna' is not defined",
     "output_type": "error",
     "traceback": [
      "\u001b[0;31m---------------------------------------------------------------------------\u001b[0m",
      "\u001b[0;31mNameError\u001b[0m                                 Traceback (most recent call last)",
      "Cell \u001b[0;32mIn[8], line 1\u001b[0m\n\u001b[0;32m----> 1\u001b[0m scn_fac1 \u001b[38;5;241m=\u001b[39m \u001b[43mpyna\u001b[49m\u001b[38;5;241m.\u001b[39mmake_screen_factors(he4, he4)\n\u001b[1;32m      2\u001b[0m scn1 \u001b[38;5;241m=\u001b[39m pyna\u001b[38;5;241m.\u001b[39mscreening\u001b[38;5;241m.\u001b[39mscreen5(plasma, scn_fac1)\n\u001b[1;32m      4\u001b[0m scn_fac2 \u001b[38;5;241m=\u001b[39m pyna\u001b[38;5;241m.\u001b[39mmake_screen_factors(he4, pyna\u001b[38;5;241m.\u001b[39mNucleus(\u001b[38;5;124m\"\u001b[39m\u001b[38;5;124mbe8\u001b[39m\u001b[38;5;124m\"\u001b[39m))\n",
      "\u001b[0;31mNameError\u001b[0m: name 'pyna' is not defined"
     ]
    }
   ],
   "source": [
    "scn_fac1 = pyna.make_screen_factors(he4, he4)\n",
    "scn1 = pyna.screening.screen5(plasma, scn_fac1)\n",
    "\n",
    "scn_fac2 = pyna.make_screen_factors(he4, pyna.Nucleus(\"be8\"))\n",
    "scn2 = pyna.screening.screen5(plasma, scn_fac2)\n",
    "\n",
    "scn = scn1 * scn2\n",
    "scn"
   ]
  },
  {
   "cell_type": "markdown",
   "id": "360fafdc-a30d-4884-aedc-a20ecdd9e508",
   "metadata": {},
   "source": [
    "This shows that our our thermodynamic conditions, screening speeds up the rate by almost $6\\times$."
   ]
  },
  {
   "cell_type": "markdown",
   "id": "3e7d9edb-72be-4fb2-a06c-e6f70e8a2d28",
   "metadata": {},
   "source": [
    "Now, the total rate is:\n",
    "\n",
    "$$r = f \\rho^2 [Y({}^4\\mathrm{He}]^3 \\frac{N_A^2 \\langle \\sigma v \\rangle}{3!}$$\n",
    "\n",
    "where $f$ is the screening factor and the $3!$ is because there are 3 identical particles appearing in the reation.\n",
    "\n",
    "We get $N_A^2 \\langle \\sigma v \\rangle$ by evaluating the temperature sensitivity of the rate from ReacLib."
   ]
  },
  {
   "cell_type": "code",
   "execution_count": 9,
   "id": "c8470432-a490-4768-bcd6-81a8f28cc22e",
   "metadata": {
    "execution": {
     "iopub.execute_input": "2024-10-10T09:53:37.905660Z",
     "iopub.status.busy": "2024-10-10T09:53:37.905377Z",
     "iopub.status.idle": "2024-10-10T09:53:37.917010Z",
     "shell.execute_reply": "2024-10-10T09:53:37.916448Z"
    }
   },
   "outputs": [
    {
     "ename": "NameError",
     "evalue": "name 'scn' is not defined",
     "output_type": "error",
     "traceback": [
      "\u001b[0;31m---------------------------------------------------------------------------\u001b[0m",
      "\u001b[0;31mNameError\u001b[0m                                 Traceback (most recent call last)",
      "Cell \u001b[0;32mIn[9], line 1\u001b[0m\n\u001b[0;32m----> 1\u001b[0m r \u001b[38;5;241m=\u001b[39m \u001b[43mscn\u001b[49m \u001b[38;5;241m*\u001b[39m dens\u001b[38;5;241m*\u001b[39m\u001b[38;5;241m*\u001b[39m\u001b[38;5;241m2\u001b[39m \u001b[38;5;241m/\u001b[39m \u001b[38;5;241m6.0\u001b[39m \u001b[38;5;241m*\u001b[39m comp\u001b[38;5;241m.\u001b[39mget_molar()[he4]\u001b[38;5;241m*\u001b[39m\u001b[38;5;241m*\u001b[39m\u001b[38;5;241m3\u001b[39m \u001b[38;5;241m*\u001b[39m triple_alpha\u001b[38;5;241m.\u001b[39meval(temp)\n\u001b[1;32m      2\u001b[0m r\n",
      "\u001b[0;31mNameError\u001b[0m: name 'scn' is not defined"
     ]
    }
   ],
   "source": [
    "r = scn * dens**2 / 6.0 * comp.get_molar()[he4]**3 * triple_alpha.eval(temp)\n",
    "r"
   ]
  },
  {
   "cell_type": "markdown",
   "id": "ce2e13ad-35ba-4336-baaf-dc5fbd22094a",
   "metadata": {},
   "source": [
    "This is the rate in units of $\\mathrm{cm}^{-3}~\\mathrm{s}^{-1}$"
   ]
  },
  {
   "cell_type": "markdown",
   "id": "360facc9-0ee2-48d0-91df-0ea8af797067",
   "metadata": {},
   "source": [
    "## Computing it via a RateCollection"
   ]
  },
  {
   "cell_type": "markdown",
   "id": "0cad9c7e-4fae-48ab-b51c-0870edae56d8",
   "metadata": {},
   "source": [
    "We can build a simple `RateCollection` containing only this rate"
   ]
  },
  {
   "cell_type": "code",
   "execution_count": 10,
   "id": "d56d3057-33a6-484f-a9f0-2a26e0db43f0",
   "metadata": {
    "execution": {
     "iopub.execute_input": "2024-10-10T09:53:37.918705Z",
     "iopub.status.busy": "2024-10-10T09:53:37.918387Z",
     "iopub.status.idle": "2024-10-10T09:53:37.929022Z",
     "shell.execute_reply": "2024-10-10T09:53:37.928463Z"
    }
   },
   "outputs": [
    {
     "ename": "NameError",
     "evalue": "name 'pyna' is not defined",
     "output_type": "error",
     "traceback": [
      "\u001b[0;31m---------------------------------------------------------------------------\u001b[0m",
      "\u001b[0;31mNameError\u001b[0m                                 Traceback (most recent call last)",
      "Cell \u001b[0;32mIn[10], line 1\u001b[0m\n\u001b[0;32m----> 1\u001b[0m rc \u001b[38;5;241m=\u001b[39m \u001b[43mpyna\u001b[49m\u001b[38;5;241m.\u001b[39mRateCollection(rates\u001b[38;5;241m=\u001b[39m[triple_alpha])\n\u001b[1;32m      2\u001b[0m fig \u001b[38;5;241m=\u001b[39m rc\u001b[38;5;241m.\u001b[39mplot()\n",
      "\u001b[0;31mNameError\u001b[0m: name 'pyna' is not defined"
     ]
    }
   ],
   "source": [
    "rc = pyna.RateCollection(rates=[triple_alpha])\n",
    "fig = rc.plot()"
   ]
  },
  {
   "cell_type": "markdown",
   "id": "318ed75f-2070-4ddc-9b79-b08950f187af",
   "metadata": {},
   "source": [
    "The `evaluate_rates()` method will take the thermodynamic state and screening function (optionally) and compute the value of each of the rates in the network."
   ]
  },
  {
   "cell_type": "code",
   "execution_count": 11,
   "id": "14df6783-655b-4e9c-b140-6deccb3b018f",
   "metadata": {
    "execution": {
     "iopub.execute_input": "2024-10-10T09:53:37.930722Z",
     "iopub.status.busy": "2024-10-10T09:53:37.930561Z",
     "iopub.status.idle": "2024-10-10T09:53:37.941330Z",
     "shell.execute_reply": "2024-10-10T09:53:37.940883Z"
    }
   },
   "outputs": [
    {
     "ename": "NameError",
     "evalue": "name 'rc' is not defined",
     "output_type": "error",
     "traceback": [
      "\u001b[0;31m---------------------------------------------------------------------------\u001b[0m",
      "\u001b[0;31mNameError\u001b[0m                                 Traceback (most recent call last)",
      "Cell \u001b[0;32mIn[11], line 1\u001b[0m\n\u001b[0;32m----> 1\u001b[0m \u001b[43mrc\u001b[49m\u001b[38;5;241m.\u001b[39mevaluate_rates(dens, temp, comp, screen_func\u001b[38;5;241m=\u001b[39mpyna\u001b[38;5;241m.\u001b[39mscreening\u001b[38;5;241m.\u001b[39mscreen5)\n",
      "\u001b[0;31mNameError\u001b[0m: name 'rc' is not defined"
     ]
    }
   ],
   "source": [
    "rc.evaluate_rates(dens, temp, comp, screen_func=pyna.screening.screen5)"
   ]
  },
  {
   "cell_type": "markdown",
   "id": "a66d10d4-023c-4a13-8fa3-88c35e3a0f45",
   "metadata": {},
   "source": [
    "We see that we get the same value as computing it manually."
   ]
  }
 ],
 "metadata": {
  "kernelspec": {
   "display_name": "Python 3 (ipykernel)",
   "language": "python",
   "name": "python3"
  },
  "language_info": {
   "codemirror_mode": {
    "name": "ipython",
    "version": 3
   },
   "file_extension": ".py",
   "mimetype": "text/x-python",
   "name": "python",
   "nbconvert_exporter": "python",
   "pygments_lexer": "ipython3",
   "version": "3.11.10"
  }
 },
 "nbformat": 4,
 "nbformat_minor": 5
}
