{
 "cells": [
  {
   "cell_type": "markdown",
   "id": "585c3ffc-ac49-426d-a9f8-b65afe96f61a",
   "metadata": {},
   "source": [
    "# Computing the Screened Triple-alpha rate"
   ]
  },
  {
   "cell_type": "markdown",
   "id": "3693f1fd-ebfe-408d-99e3-8b6435a0cc97",
   "metadata": {},
   "source": [
    "We want to evaluate the 3-$\\alpha$ rate with screening to understand how temperature sensitive it is.\n",
    "We'll do this 2 different ways (but both will get the same answer)."
   ]
  },
  {
   "cell_type": "code",
   "execution_count": 1,
   "id": "08aac297-34b7-4a88-9a9b-d900db6c0391",
   "metadata": {
    "execution": {
     "iopub.execute_input": "2024-10-17T09:02:52.732054Z",
     "iopub.status.busy": "2024-10-17T09:02:52.731881Z",
     "iopub.status.idle": "2024-10-17T09:02:54.201257Z",
     "shell.execute_reply": "2024-10-17T09:02:54.200693Z"
    }
   },
   "outputs": [],
   "source": [
    "import pynucastro as pyna"
   ]
  },
  {
   "cell_type": "markdown",
   "id": "bbf6e66b-66cb-45ce-8c47-54368989fa66",
   "metadata": {},
   "source": [
    "We'll define the thermodynamics first -- a composition of just He and C"
   ]
  },
  {
   "cell_type": "code",
   "execution_count": 2,
   "id": "4066e343-77ab-4977-8ca4-58071c54ef9b",
   "metadata": {
    "execution": {
     "iopub.execute_input": "2024-10-17T09:02:54.203472Z",
     "iopub.status.busy": "2024-10-17T09:02:54.202960Z",
     "iopub.status.idle": "2024-10-17T09:02:54.205765Z",
     "shell.execute_reply": "2024-10-17T09:02:54.205326Z"
    }
   },
   "outputs": [],
   "source": [
    "temp = 1.e8\n",
    "dens = 1.e6"
   ]
  },
  {
   "cell_type": "code",
   "execution_count": 3,
   "id": "0db143f2-4a9e-473a-a687-4c5cfb21bfb1",
   "metadata": {
    "execution": {
     "iopub.execute_input": "2024-10-17T09:02:54.207442Z",
     "iopub.status.busy": "2024-10-17T09:02:54.207110Z",
     "iopub.status.idle": "2024-10-17T09:02:54.259722Z",
     "shell.execute_reply": "2024-10-17T09:02:54.259206Z"
    }
   },
   "outputs": [
    {
     "data": {
      "image/png": "[encoded data removed]",
      "text/plain": [
       "<Figure size 900x500 with 1 Axes>"
      ]
     },
     "metadata": {},
     "output_type": "display_data"
    }
   ],
   "source": [
    "he4 = pyna.Nucleus(\"he4\")\n",
    "c12 = pyna.Nucleus(\"c12\")\n",
    "\n",
    "nuclei = [he4, c12]\n",
    "comp = pyna.Composition(nuclei)\n",
    "comp.X[he4] = 0.9\n",
    "comp.X[c12] = 0.1\n",
    "\n",
    "fig = comp.plot()"
   ]
  },
  {
   "cell_type": "markdown",
   "id": "59260153-adc7-4d9a-ac6a-a9bb3df5d927",
   "metadata": {},
   "source": [
    "## Manual method\n",
    "\n",
    "Here well read in this rate and compute the screening factors ourselves and then build up the full form of the rate"
   ]
  },
  {
   "cell_type": "code",
   "execution_count": 4,
   "id": "1c78882c-acef-4264-8e55-543969697a9a",
   "metadata": {
    "execution": {
     "iopub.execute_input": "2024-10-17T09:02:54.261449Z",
     "iopub.status.busy": "2024-10-17T09:02:54.261256Z",
     "iopub.status.idle": "2024-10-17T09:02:58.152342Z",
     "shell.execute_reply": "2024-10-17T09:02:58.151779Z"
    }
   },
   "outputs": [],
   "source": [
    "rl = pyna.ReacLibLibrary()"
   ]
  },
  {
   "cell_type": "code",
   "execution_count": 5,
   "id": "f3e9a9fc-100f-41e8-ab01-fae7d6d65e57",
   "metadata": {
    "execution": {
     "iopub.execute_input": "2024-10-17T09:02:58.154340Z",
     "iopub.status.busy": "2024-10-17T09:02:58.154147Z",
     "iopub.status.idle": "2024-10-17T09:02:58.704032Z",
     "shell.execute_reply": "2024-10-17T09:02:58.703367Z"
    }
   },
   "outputs": [
    {
     "ename": "ValueError",
     "evalue": "invalid literal for int() with base 10: ''",
     "output_type": "error",
     "traceback": [
      "\u001b[0;31m---------------------------------------------------------------------------\u001b[0m",
      "\u001b[0;31mValueError\u001b[0m                                Traceback (most recent call last)",
      "Cell \u001b[0;32mIn[5], line 1\u001b[0m\n\u001b[0;32m----> 1\u001b[0m triple_alpha \u001b[38;5;241m=\u001b[39m \u001b[43mrl\u001b[49m\u001b[38;5;241;43m.\u001b[39;49m\u001b[43mget_rate_by_name\u001b[49m\u001b[43m(\u001b[49m\u001b[38;5;124;43m\"\u001b[39;49m\u001b[38;5;124;43ma(aa,)c12\u001b[39;49m\u001b[38;5;124;43m\"\u001b[39;49m\u001b[43m)\u001b[49m\n",
      "File \u001b[0;32m/opt/hostedtoolcache/Python/3.11.10/x64/lib/python3.11/site-packages/pynucastro/rates/library.py:203\u001b[0m, in \u001b[0;36mLibrary.get_rate_by_name\u001b[0;34m(self, name)\u001b[0m\n\u001b[1;32m    200\u001b[0m rates_out \u001b[38;5;241m=\u001b[39m []\n\u001b[1;32m    202\u001b[0m \u001b[38;5;28;01mfor\u001b[39;00m rname \u001b[38;5;129;01min\u001b[39;00m rate_name_list:\n\u001b[0;32m--> 203\u001b[0m     reactants, products \u001b[38;5;241m=\u001b[39m \u001b[43m_rate_name_to_nuc\u001b[49m\u001b[43m(\u001b[49m\u001b[43mrname\u001b[49m\u001b[43m)\u001b[49m\n\u001b[1;32m    205\u001b[0m     rf \u001b[38;5;241m=\u001b[39m RateFilter(reactants\u001b[38;5;241m=\u001b[39mreactants, products\u001b[38;5;241m=\u001b[39mproducts)\n\u001b[1;32m    206\u001b[0m     _lib \u001b[38;5;241m=\u001b[39m \u001b[38;5;28mself\u001b[39m\u001b[38;5;241m.\u001b[39mfilter(rf)\n",
      "File \u001b[0;32m/opt/hostedtoolcache/Python/3.11.10/x64/lib/python3.11/site-packages/pynucastro/rates/library.py:66\u001b[0m, in \u001b[0;36m_rate_name_to_nuc\u001b[0;34m(name)\u001b[0m\n\u001b[1;32m     64\u001b[0m         \u001b[38;5;28mprint\u001b[39m(\u001b[38;5;124mf\u001b[39m\u001b[38;5;124m\"\u001b[39m\u001b[38;5;124mcouldn\u001b[39m\u001b[38;5;124m'\u001b[39m\u001b[38;5;124mt deal with \u001b[39m\u001b[38;5;132;01m{\u001b[39;00mnuc\u001b[38;5;132;01m}\u001b[39;00m\u001b[38;5;124m\"\u001b[39m)\n\u001b[1;32m     65\u001b[0m         \u001b[38;5;28;01mraise\u001b[39;00m\n\u001b[0;32m---> 66\u001b[0m reactants \u001b[38;5;241m=\u001b[39m \u001b[43mNucleus\u001b[49m\u001b[38;5;241;43m.\u001b[39;49m\u001b[43mcast_list\u001b[49m\u001b[43m(\u001b[49m\u001b[43mreactants\u001b[49m\u001b[43m)\u001b[49m\n\u001b[1;32m     68\u001b[0m products \u001b[38;5;241m=\u001b[39m []\n\u001b[1;32m     69\u001b[0m \u001b[38;5;28;01mfor\u001b[39;00m nuc \u001b[38;5;129;01min\u001b[39;00m _p:\n",
      "File \u001b[0;32m/opt/hostedtoolcache/Python/3.11.10/x64/lib/python3.11/site-packages/pynucastro/nucdata/nucleus.py:211\u001b[0m, in \u001b[0;36mNucleus.cast_list\u001b[0;34m(cls, lst, allow_None, allow_single)\u001b[0m\n\u001b[1;32m    209\u001b[0m         \u001b[38;5;28;01mreturn\u001b[39;00m [\u001b[38;5;28mcls\u001b[39m\u001b[38;5;241m.\u001b[39mcast(lst)]\n\u001b[1;32m    210\u001b[0m     \u001b[38;5;28;01mraise\u001b[39;00m \u001b[38;5;167;01mValueError\u001b[39;00m(\u001b[38;5;124m\"\u001b[39m\u001b[38;5;124mSingle object passed to Nucleus.cast_list() instead of list\u001b[39m\u001b[38;5;124m\"\u001b[39m)\n\u001b[0;32m--> 211\u001b[0m \u001b[38;5;28;01mreturn\u001b[39;00m \u001b[43m[\u001b[49m\u001b[38;5;28;43mcls\u001b[39;49m\u001b[38;5;241;43m.\u001b[39;49m\u001b[43mcast\u001b[49m\u001b[43m(\u001b[49m\u001b[43mobj\u001b[49m\u001b[43m)\u001b[49m\u001b[43m \u001b[49m\u001b[38;5;28;43;01mfor\u001b[39;49;00m\u001b[43m \u001b[49m\u001b[43mobj\u001b[49m\u001b[43m \u001b[49m\u001b[38;5;129;43;01min\u001b[39;49;00m\u001b[43m \u001b[49m\u001b[43mlst\u001b[49m\u001b[43m]\u001b[49m\n",
      "File \u001b[0;32m/opt/hostedtoolcache/Python/3.11.10/x64/lib/python3.11/site-packages/pynucastro/nucdata/nucleus.py:211\u001b[0m, in \u001b[0;36m<listcomp>\u001b[0;34m(.0)\u001b[0m\n\u001b[1;32m    209\u001b[0m         \u001b[38;5;28;01mreturn\u001b[39;00m [\u001b[38;5;28mcls\u001b[39m\u001b[38;5;241m.\u001b[39mcast(lst)]\n\u001b[1;32m    210\u001b[0m     \u001b[38;5;28;01mraise\u001b[39;00m \u001b[38;5;167;01mValueError\u001b[39;00m(\u001b[38;5;124m\"\u001b[39m\u001b[38;5;124mSingle object passed to Nucleus.cast_list() instead of list\u001b[39m\u001b[38;5;124m\"\u001b[39m)\n\u001b[0;32m--> 211\u001b[0m \u001b[38;5;28;01mreturn\u001b[39;00m [\u001b[38;5;28;43mcls\u001b[39;49m\u001b[38;5;241;43m.\u001b[39;49m\u001b[43mcast\u001b[49m\u001b[43m(\u001b[49m\u001b[43mobj\u001b[49m\u001b[43m)\u001b[49m \u001b[38;5;28;01mfor\u001b[39;00m obj \u001b[38;5;129;01min\u001b[39;00m lst]\n",
      "File \u001b[0;32m/opt/hostedtoolcache/Python/3.11.10/x64/lib/python3.11/site-packages/pynucastro/nucdata/nucleus.py:198\u001b[0m, in \u001b[0;36mNucleus.cast\u001b[0;34m(cls, obj)\u001b[0m\n\u001b[1;32m    196\u001b[0m     \u001b[38;5;28;01mreturn\u001b[39;00m obj\n\u001b[1;32m    197\u001b[0m \u001b[38;5;28;01mif\u001b[39;00m \u001b[38;5;28misinstance\u001b[39m(obj, \u001b[38;5;28mstr\u001b[39m):\n\u001b[0;32m--> 198\u001b[0m     \u001b[38;5;28;01mreturn\u001b[39;00m \u001b[38;5;28;43mcls\u001b[39;49m\u001b[38;5;241;43m.\u001b[39;49m\u001b[43mfrom_cache\u001b[49m\u001b[43m(\u001b[49m\u001b[43mobj\u001b[49m\u001b[43m)\u001b[49m\n\u001b[1;32m    199\u001b[0m \u001b[38;5;28;01mraise\u001b[39;00m \u001b[38;5;167;01mTypeError\u001b[39;00m(\u001b[38;5;124m\"\u001b[39m\u001b[38;5;124mInvalid type passed to Nucleus.cast() (expected str or Nucleus)\u001b[39m\u001b[38;5;124m\"\u001b[39m)\n",
      "File \u001b[0;32m/opt/hostedtoolcache/Python/3.11.10/x64/lib/python3.11/site-packages/pynucastro/nucdata/nucleus.py:161\u001b[0m, in \u001b[0;36mNucleus.from_cache\u001b[0;34m(cls, name, dummy)\u001b[0m\n\u001b[1;32m    159\u001b[0m key \u001b[38;5;241m=\u001b[39m (name\u001b[38;5;241m.\u001b[39mlower(), dummy)\n\u001b[1;32m    160\u001b[0m \u001b[38;5;28;01mif\u001b[39;00m key \u001b[38;5;129;01mnot\u001b[39;00m \u001b[38;5;129;01min\u001b[39;00m \u001b[38;5;28mcls\u001b[39m\u001b[38;5;241m.\u001b[39m_cache:\n\u001b[0;32m--> 161\u001b[0m     \u001b[38;5;28mcls\u001b[39m\u001b[38;5;241m.\u001b[39m_cache[key] \u001b[38;5;241m=\u001b[39m \u001b[43mNucleus\u001b[49m\u001b[43m(\u001b[49m\u001b[43mname\u001b[49m\u001b[43m,\u001b[49m\u001b[43m \u001b[49m\u001b[43mdummy\u001b[49m\u001b[43m)\u001b[49m\n\u001b[1;32m    162\u001b[0m \u001b[38;5;28;01mreturn\u001b[39;00m \u001b[38;5;28mcls\u001b[39m\u001b[38;5;241m.\u001b[39m_cache[key]\n",
      "File \u001b[0;32m/opt/hostedtoolcache/Python/3.11.10/x64/lib/python3.11/site-packages/pynucastro/nucdata/nucleus.py:100\u001b[0m, in \u001b[0;36mNucleus.__init__\u001b[0;34m(self, name, dummy)\u001b[0m\n\u001b[1;32m     98\u001b[0m \u001b[38;5;28mself\u001b[39m\u001b[38;5;241m.\u001b[39mel \u001b[38;5;241m=\u001b[39m e\u001b[38;5;241m.\u001b[39mgroup(\u001b[38;5;241m1\u001b[39m)\u001b[38;5;241m.\u001b[39mtitle()  \u001b[38;5;66;03m# chemical symbol\u001b[39;00m\n\u001b[1;32m     99\u001b[0m \u001b[38;5;28;01massert\u001b[39;00m \u001b[38;5;28mself\u001b[39m\u001b[38;5;241m.\u001b[39mel\n\u001b[0;32m--> 100\u001b[0m \u001b[38;5;28mself\u001b[39m\u001b[38;5;241m.\u001b[39mA \u001b[38;5;241m=\u001b[39m \u001b[38;5;28;43mint\u001b[39;49m\u001b[43m(\u001b[49m\u001b[43me\u001b[49m\u001b[38;5;241;43m.\u001b[39;49m\u001b[43mgroup\u001b[49m\u001b[43m(\u001b[49m\u001b[38;5;241;43m2\u001b[39;49m\u001b[43m)\u001b[49m\u001b[43m)\u001b[49m\n\u001b[1;32m    101\u001b[0m \u001b[38;5;28;01massert\u001b[39;00m \u001b[38;5;28mself\u001b[39m\u001b[38;5;241m.\u001b[39mA \u001b[38;5;241m>\u001b[39m\u001b[38;5;241m=\u001b[39m \u001b[38;5;241m0\u001b[39m\n\u001b[1;32m    102\u001b[0m \u001b[38;5;28mself\u001b[39m\u001b[38;5;241m.\u001b[39mshort_spec_name \u001b[38;5;241m=\u001b[39m name\n",
      "\u001b[0;31mValueError\u001b[0m: invalid literal for int() with base 10: ''"
     ]
    }
   ],
   "source": [
    "triple_alpha = rl.get_rate_by_name(\"a(aa,)c12\")"
   ]
  },
  {
   "cell_type": "markdown",
   "id": "9b4aaae6-293a-4013-b9b1-b60b81693b7c",
   "metadata": {},
   "source": [
    "Here's the temperature sensitivity of just the 3-$\\alpha$ rate"
   ]
  },
  {
   "cell_type": "code",
   "execution_count": 6,
   "id": "1b5051d3-c2f3-4ba2-877e-b1840c2f9ef5",
   "metadata": {
    "execution": {
     "iopub.execute_input": "2024-10-17T09:02:58.706020Z",
     "iopub.status.busy": "2024-10-17T09:02:58.705832Z",
     "iopub.status.idle": "2024-10-17T09:02:58.719319Z",
     "shell.execute_reply": "2024-10-17T09:02:58.718808Z"
    }
   },
   "outputs": [
    {
     "ename": "NameError",
     "evalue": "name 'triple_alpha' is not defined",
     "output_type": "error",
     "traceback": [
      "\u001b[0;31m---------------------------------------------------------------------------\u001b[0m",
      "\u001b[0;31mNameError\u001b[0m                                 Traceback (most recent call last)",
      "Cell \u001b[0;32mIn[6], line 1\u001b[0m\n\u001b[0;32m----> 1\u001b[0m fig \u001b[38;5;241m=\u001b[39m \u001b[43mtriple_alpha\u001b[49m\u001b[38;5;241m.\u001b[39mplot(Tmin\u001b[38;5;241m=\u001b[39m\u001b[38;5;241m5.e7\u001b[39m)\n",
      "\u001b[0;31mNameError\u001b[0m: name 'triple_alpha' is not defined"
     ]
    }
   ],
   "source": [
    "fig = triple_alpha.plot(Tmin=5.e7)"
   ]
  },
  {
   "cell_type": "markdown",
   "id": "04d72766-b1bc-4992-aa4b-7ba447a17f84",
   "metadata": {},
   "source": [
    "To compute the screening, we first need to get the plasma state"
   ]
  },
  {
   "cell_type": "code",
   "execution_count": 7,
   "id": "2bd3b245-8890-429c-9279-2220f0f0fe01",
   "metadata": {
    "execution": {
     "iopub.execute_input": "2024-10-17T09:02:58.721112Z",
     "iopub.status.busy": "2024-10-17T09:02:58.720760Z",
     "iopub.status.idle": "2024-10-17T09:03:01.192058Z",
     "shell.execute_reply": "2024-10-17T09:03:01.191487Z"
    }
   },
   "outputs": [],
   "source": [
    "plasma = pyna.make_plasma_state(temp, dens, comp.get_molar())"
   ]
  },
  {
   "cell_type": "markdown",
   "id": "d0426a3e-f676-44c7-b8ef-f6e863be547b",
   "metadata": {},
   "source": [
    "Now, the 3-$\\alpha$ rate requires 2 separate screening terms, first $\\alpha + \\alpha$ and then\n",
    "$\\alpha + {}^8\\mathrm{Be}$"
   ]
  },
  {
   "cell_type": "code",
   "execution_count": 8,
   "id": "cda4c8aa-1ebe-442e-b659-eca3a45c3d2f",
   "metadata": {
    "execution": {
     "iopub.execute_input": "2024-10-17T09:03:01.194207Z",
     "iopub.status.busy": "2024-10-17T09:03:01.193841Z",
     "iopub.status.idle": "2024-10-17T09:03:02.405870Z",
     "shell.execute_reply": "2024-10-17T09:03:02.405272Z"
    }
   },
   "outputs": [
    {
     "data": {
      "text/plain": [
       "5.802207275136419"
      ]
     },
     "execution_count": 8,
     "metadata": {},
     "output_type": "execute_result"
    }
   ],
   "source": [
    "scn_fac1 = pyna.make_screen_factors(he4, he4)\n",
    "scn1 = pyna.screening.screen5(plasma, scn_fac1)\n",
    "\n",
    "scn_fac2 = pyna.make_screen_factors(he4, pyna.Nucleus(\"be8\"))\n",
    "scn2 = pyna.screening.screen5(plasma, scn_fac2)\n",
    "\n",
    "scn = scn1 * scn2\n",
    "scn"
   ]
  },
  {
   "cell_type": "markdown",
   "id": "360fafdc-a30d-4884-aedc-a20ecdd9e508",
   "metadata": {},
   "source": [
    "This shows that our our thermodynamic conditions, screening speeds up the rate by almost $6\\times$."
   ]
  },
  {
   "cell_type": "markdown",
   "id": "3e7d9edb-72be-4fb2-a06c-e6f70e8a2d28",
   "metadata": {},
   "source": [
    "Now, the total rate is:\n",
    "\n",
    "$$r = f \\rho^2 [Y({}^4\\mathrm{He}]^3 \\frac{N_A^2 \\langle \\sigma v \\rangle}{3!}$$\n",
    "\n",
    "where $f$ is the screening factor and the $3!$ is because there are 3 identical particles appearing in the reation.\n",
    "\n",
    "We get $N_A^2 \\langle \\sigma v \\rangle$ by evaluating the temperature sensitivity of the rate from ReacLib."
   ]
  },
  {
   "cell_type": "code",
   "execution_count": 9,
   "id": "c8470432-a490-4768-bcd6-81a8f28cc22e",
   "metadata": {
    "execution": {
     "iopub.execute_input": "2024-10-17T09:03:02.407734Z",
     "iopub.status.busy": "2024-10-17T09:03:02.407445Z",
     "iopub.status.idle": "2024-10-17T09:03:02.426125Z",
     "shell.execute_reply": "2024-10-17T09:03:02.425649Z"
    }
   },
   "outputs": [
    {
     "ename": "NameError",
     "evalue": "name 'triple_alpha' is not defined",
     "output_type": "error",
     "traceback": [
      "\u001b[0;31m---------------------------------------------------------------------------\u001b[0m",
      "\u001b[0;31mNameError\u001b[0m                                 Traceback (most recent call last)",
      "Cell \u001b[0;32mIn[9], line 1\u001b[0m\n\u001b[0;32m----> 1\u001b[0m r \u001b[38;5;241m=\u001b[39m scn \u001b[38;5;241m*\u001b[39m dens\u001b[38;5;241m*\u001b[39m\u001b[38;5;241m*\u001b[39m\u001b[38;5;241m2\u001b[39m \u001b[38;5;241m/\u001b[39m \u001b[38;5;241m6.0\u001b[39m \u001b[38;5;241m*\u001b[39m comp\u001b[38;5;241m.\u001b[39mget_molar()[he4]\u001b[38;5;241m*\u001b[39m\u001b[38;5;241m*\u001b[39m\u001b[38;5;241m3\u001b[39m \u001b[38;5;241m*\u001b[39m \u001b[43mtriple_alpha\u001b[49m\u001b[38;5;241m.\u001b[39meval(temp)\n\u001b[1;32m      2\u001b[0m r\n",
      "\u001b[0;31mNameError\u001b[0m: name 'triple_alpha' is not defined"
     ]
    }
   ],
   "source": [
    "r = scn * dens**2 / 6.0 * comp.get_molar()[he4]**3 * triple_alpha.eval(temp)\n",
    "r"
   ]
  },
  {
   "cell_type": "markdown",
   "id": "ce2e13ad-35ba-4336-baaf-dc5fbd22094a",
   "metadata": {},
   "source": [
    "This is the rate in units of $\\mathrm{cm}^{-3}~\\mathrm{s}^{-1}$"
   ]
  },
  {
   "cell_type": "markdown",
   "id": "360facc9-0ee2-48d0-91df-0ea8af797067",
   "metadata": {},
   "source": [
    "## Computing it via a RateCollection"
   ]
  },
  {
   "cell_type": "markdown",
   "id": "0cad9c7e-4fae-48ab-b51c-0870edae56d8",
   "metadata": {},
   "source": [
    "We can build a simple `RateCollection` containing only this rate"
   ]
  },
  {
   "cell_type": "code",
   "execution_count": 10,
   "id": "d56d3057-33a6-484f-a9f0-2a26e0db43f0",
   "metadata": {
    "execution": {
     "iopub.execute_input": "2024-10-17T09:03:02.428123Z",
     "iopub.status.busy": "2024-10-17T09:03:02.427779Z",
     "iopub.status.idle": "2024-10-17T09:03:02.440958Z",
     "shell.execute_reply": "2024-10-17T09:03:02.440373Z"
    }
   },
   "outputs": [
    {
     "ename": "NameError",
     "evalue": "name 'triple_alpha' is not defined",
     "output_type": "error",
     "traceback": [
      "\u001b[0;31m---------------------------------------------------------------------------\u001b[0m",
      "\u001b[0;31mNameError\u001b[0m                                 Traceback (most recent call last)",
      "Cell \u001b[0;32mIn[10], line 1\u001b[0m\n\u001b[0;32m----> 1\u001b[0m rc \u001b[38;5;241m=\u001b[39m pyna\u001b[38;5;241m.\u001b[39mRateCollection(rates\u001b[38;5;241m=\u001b[39m[\u001b[43mtriple_alpha\u001b[49m])\n\u001b[1;32m      2\u001b[0m fig \u001b[38;5;241m=\u001b[39m rc\u001b[38;5;241m.\u001b[39mplot()\n",
      "\u001b[0;31mNameError\u001b[0m: name 'triple_alpha' is not defined"
     ]
    }
   ],
   "source": [
    "rc = pyna.RateCollection(rates=[triple_alpha])\n",
    "fig = rc.plot()"
   ]
  },
  {
   "cell_type": "markdown",
   "id": "318ed75f-2070-4ddc-9b79-b08950f187af",
   "metadata": {},
   "source": [
    "The `evaluate_rates()` method will take the thermodynamic state and screening function (optionally) and compute the value of each of the rates in the network."
   ]
  },
  {
   "cell_type": "code",
   "execution_count": 11,
   "id": "14df6783-655b-4e9c-b140-6deccb3b018f",
   "metadata": {
    "execution": {
     "iopub.execute_input": "2024-10-17T09:03:02.442909Z",
     "iopub.status.busy": "2024-10-17T09:03:02.442586Z",
     "iopub.status.idle": "2024-10-17T09:03:02.456008Z",
     "shell.execute_reply": "2024-10-17T09:03:02.455422Z"
    }
   },
   "outputs": [
    {
     "ename": "NameError",
     "evalue": "name 'rc' is not defined",
     "output_type": "error",
     "traceback": [
      "\u001b[0;31m---------------------------------------------------------------------------\u001b[0m",
      "\u001b[0;31mNameError\u001b[0m                                 Traceback (most recent call last)",
      "Cell \u001b[0;32mIn[11], line 1\u001b[0m\n\u001b[0;32m----> 1\u001b[0m \u001b[43mrc\u001b[49m\u001b[38;5;241m.\u001b[39mevaluate_rates(dens, temp, comp, screen_func\u001b[38;5;241m=\u001b[39mpyna\u001b[38;5;241m.\u001b[39mscreening\u001b[38;5;241m.\u001b[39mscreen5)\n",
      "\u001b[0;31mNameError\u001b[0m: name 'rc' is not defined"
     ]
    }
   ],
   "source": [
    "rc.evaluate_rates(dens, temp, comp, screen_func=pyna.screening.screen5)"
   ]
  },
  {
   "cell_type": "markdown",
   "id": "a66d10d4-023c-4a13-8fa3-88c35e3a0f45",
   "metadata": {},
   "source": [
    "We see that we get the same value as computing it manually."
   ]
  }
 ],
 "metadata": {
  "kernelspec": {
   "display_name": "Python 3 (ipykernel)",
   "language": "python",
   "name": "python3"
  },
  "language_info": {
   "codemirror_mode": {
    "name": "ipython",
    "version": 3
   },
   "file_extension": ".py",
   "mimetype": "text/x-python",
   "name": "python",
   "nbconvert_exporter": "python",
   "pygments_lexer": "ipython3",
   "version": "3.11.10"
  }
 },
 "nbformat": 4,
 "nbformat_minor": 5
}
