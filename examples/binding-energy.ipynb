{
 "cells": [
  {
   "cell_type": "markdown",
   "id": "64ac1baf-1d9d-4d0f-b212-84bfdac66662",
   "metadata": {},
   "source": [
    "# Binding Energy per Nucleon"
   ]
  },
  {
   "cell_type": "markdown",
   "id": "d8fd58bf-c920-429f-b9bd-ad6dfbe20de9",
   "metadata": {},
   "source": [
    "We can explore and plot the binding energy per nucleon to understand when fusion and fission operate."
   ]
  },
  {
   "cell_type": "code",
   "execution_count": 1,
   "id": "708b119d-6d35-4170-9550-c5d31bcaa3f3",
   "metadata": {
    "execution": {
     "iopub.execute_input": "2024-10-17T07:15:58.343940Z",
     "iopub.status.busy": "2024-10-17T07:15:58.343769Z",
     "iopub.status.idle": "2024-10-17T07:15:59.864449Z",
     "shell.execute_reply": "2024-10-17T07:15:59.863869Z"
    }
   },
   "outputs": [
    {
     "ename": "AttributeError",
     "evalue": "module 'warnings' has no attribute 'LiteralString'",
     "output_type": "error",
     "traceback": [
      "\u001b[0;31m---------------------------------------------------------------------------\u001b[0m",
      "\u001b[0;31mAttributeError\u001b[0m                            Traceback (most recent call last)",
      "Cell \u001b[0;32mIn[1], line 1\u001b[0m\n\u001b[0;32m----> 1\u001b[0m \u001b[38;5;28;01mimport\u001b[39;00m \u001b[38;5;21;01mpynucastro\u001b[39;00m \u001b[38;5;28;01mas\u001b[39;00m \u001b[38;5;21;01mpyna\u001b[39;00m\n",
      "File \u001b[0;32m/opt/hostedtoolcache/Python/3.11.10/x64/lib/python3.11/site-packages/pynucastro/__init__.py:131\u001b[0m\n\u001b[1;32m    126\u001b[0m \u001b[38;5;28;01mfrom\u001b[39;00m \u001b[38;5;21;01m.\u001b[39;00m\u001b[38;5;21;01m_version\u001b[39;00m \u001b[38;5;28;01mimport\u001b[39;00m version\n\u001b[1;32m    128\u001b[0m __version__ \u001b[38;5;241m=\u001b[39m version\n\u001b[0;32m--> 131\u001b[0m \u001b[38;5;28;01mimport\u001b[39;00m \u001b[38;5;21;01mpynucastro\u001b[39;00m\u001b[38;5;21;01m.\u001b[39;00m\u001b[38;5;21;01mscreening\u001b[39;00m\n\u001b[1;32m    132\u001b[0m \u001b[38;5;28;01mfrom\u001b[39;00m \u001b[38;5;21;01mpynucastro\u001b[39;00m\u001b[38;5;21;01m.\u001b[39;00m\u001b[38;5;21;01mnetworks\u001b[39;00m \u001b[38;5;28;01mimport\u001b[39;00m (AmrexAstroCxxNetwork, BaseCxxNetwork,\n\u001b[1;32m    133\u001b[0m                                  Composition, Explorer, NSENetwork,\n\u001b[1;32m    134\u001b[0m                                  NumpyNetwork, PythonNetwork, RateCollection,\n\u001b[1;32m    135\u001b[0m                                  SimpleCxxNetwork, StarKillerCxxNetwork,\n\u001b[1;32m    136\u001b[0m                                  SympyRates)\n\u001b[1;32m    137\u001b[0m \u001b[38;5;28;01mfrom\u001b[39;00m \u001b[38;5;21;01mpynucastro\u001b[39;00m\u001b[38;5;21;01m.\u001b[39;00m\u001b[38;5;21;01mnucdata\u001b[39;00m \u001b[38;5;28;01mimport\u001b[39;00m Nucleus, get_all_nuclei, get_nuclei_in_range\n",
      "File \u001b[0;32m/opt/hostedtoolcache/Python/3.11.10/x64/lib/python3.11/site-packages/pynucastro/screening/__init__.py:5\u001b[0m\n\u001b[1;32m      1\u001b[0m \u001b[38;5;124;03m\"\"\"Screening routines\"\"\"\u001b[39;00m\n\u001b[1;32m      3\u001b[0m __all__ \u001b[38;5;241m=\u001b[39m [\u001b[38;5;124m\"\u001b[39m\u001b[38;5;124mscreen\u001b[39m\u001b[38;5;124m\"\u001b[39m, \u001b[38;5;124m\"\u001b[39m\u001b[38;5;124mscreening_util\u001b[39m\u001b[38;5;124m\"\u001b[39m]\n\u001b[0;32m----> 5\u001b[0m \u001b[38;5;28;01mfrom\u001b[39;00m \u001b[38;5;21;01m.\u001b[39;00m\u001b[38;5;21;01mscreen\u001b[39;00m \u001b[38;5;28;01mimport\u001b[39;00m (NseState, PlasmaState, ScreenFactors, chugunov_2007,\n\u001b[1;32m      6\u001b[0m                      chugunov_2009, make_plasma_state, make_screen_factors,\n\u001b[1;32m      7\u001b[0m                      potekhin_1998, screen5)\n\u001b[1;32m      8\u001b[0m \u001b[38;5;28;01mfrom\u001b[39;00m \u001b[38;5;21;01m.\u001b[39;00m\u001b[38;5;21;01mscreening_util\u001b[39;00m \u001b[38;5;28;01mimport\u001b[39;00m ScreeningPair, get_screening_map\n",
      "File \u001b[0;32m/opt/hostedtoolcache/Python/3.11.10/x64/lib/python3.11/site-packages/pynucastro/screening/screen.py:9\u001b[0m\n\u001b[1;32m      7\u001b[0m \u001b[38;5;28;01mfrom\u001b[39;00m \u001b[38;5;21;01mpynucastro\u001b[39;00m\u001b[38;5;21;01m.\u001b[39;00m\u001b[38;5;21;01mnucdata\u001b[39;00m \u001b[38;5;28;01mimport\u001b[39;00m Nucleus\n\u001b[1;32m      8\u001b[0m \u001b[38;5;66;03m# use the jitclass placeholder from rate.py\u001b[39;00m\n\u001b[0;32m----> 9\u001b[0m \u001b[38;5;28;01mfrom\u001b[39;00m \u001b[38;5;21;01mpynucastro\u001b[39;00m\u001b[38;5;21;01m.\u001b[39;00m\u001b[38;5;21;01mrates\u001b[39;00m\u001b[38;5;21;01m.\u001b[39;00m\u001b[38;5;21;01mrate\u001b[39;00m \u001b[38;5;28;01mimport\u001b[39;00m jitclass, numba\n\u001b[1;32m     11\u001b[0m \u001b[38;5;28;01mif\u001b[39;00m numba \u001b[38;5;129;01mis\u001b[39;00m \u001b[38;5;129;01mnot\u001b[39;00m \u001b[38;5;28;01mNone\u001b[39;00m:\n\u001b[1;32m     12\u001b[0m     njit \u001b[38;5;241m=\u001b[39m numba\u001b[38;5;241m.\u001b[39mnjit\n",
      "File \u001b[0;32m/opt/hostedtoolcache/Python/3.11.10/x64/lib/python3.11/site-packages/pynucastro/rates/__init__.py:5\u001b[0m\n\u001b[1;32m      1\u001b[0m \u001b[38;5;124;03m\"\"\"The core routines needed to read and interpret nuclear reaction rates\"\"\"\u001b[39;00m\n\u001b[1;32m      3\u001b[0m __all__ \u001b[38;5;241m=\u001b[39m [\u001b[38;5;124m\"\u001b[39m\u001b[38;5;124mapproximate_rates\u001b[39m\u001b[38;5;124m\"\u001b[39m, \u001b[38;5;124m\"\u001b[39m\u001b[38;5;124mrate\u001b[39m\u001b[38;5;124m\"\u001b[39m, \u001b[38;5;124m\"\u001b[39m\u001b[38;5;124mlibrary\u001b[39m\u001b[38;5;124m\"\u001b[39m]\n\u001b[0;32m----> 5\u001b[0m \u001b[38;5;28;01mfrom\u001b[39;00m \u001b[38;5;21;01m.\u001b[39;00m\u001b[38;5;21;01mapproximate_rates\u001b[39;00m \u001b[38;5;28;01mimport\u001b[39;00m ApproximateRate\n\u001b[1;32m      6\u001b[0m \u001b[38;5;28;01mfrom\u001b[39;00m \u001b[38;5;21;01m.\u001b[39;00m\u001b[38;5;21;01mknown_duplicates\u001b[39;00m \u001b[38;5;28;01mimport\u001b[39;00m find_duplicate_rates, is_allowed_dupe\n\u001b[1;32m      7\u001b[0m \u001b[38;5;28;01mfrom\u001b[39;00m \u001b[38;5;21;01m.\u001b[39;00m\u001b[38;5;21;01mlibrary\u001b[39;00m \u001b[38;5;28;01mimport\u001b[39;00m (LangankeLibrary, Library, RateFilter, ReacLibLibrary,\n\u001b[1;32m      8\u001b[0m                       SuzukiLibrary, TabularLibrary, list_known_rates)\n",
      "File \u001b[0;32m/opt/hostedtoolcache/Python/3.11.10/x64/lib/python3.11/site-packages/pynucastro/rates/approximate_rates.py:2\u001b[0m\n\u001b[1;32m      1\u001b[0m \u001b[38;5;28;01mfrom\u001b[39;00m \u001b[38;5;21;01mpynucastro\u001b[39;00m\u001b[38;5;21;01m.\u001b[39;00m\u001b[38;5;21;01mnucdata\u001b[39;00m \u001b[38;5;28;01mimport\u001b[39;00m Nucleus\n\u001b[0;32m----> 2\u001b[0m \u001b[38;5;28;01mfrom\u001b[39;00m \u001b[38;5;21;01mpynucastro\u001b[39;00m\u001b[38;5;21;01m.\u001b[39;00m\u001b[38;5;21;01mrates\u001b[39;00m\u001b[38;5;21;01m.\u001b[39;00m\u001b[38;5;21;01mrate\u001b[39;00m \u001b[38;5;28;01mimport\u001b[39;00m Rate\n\u001b[1;32m      5\u001b[0m \u001b[38;5;28;01mclass\u001b[39;00m \u001b[38;5;21;01mApproximateRate\u001b[39;00m(Rate):\n\u001b[1;32m      7\u001b[0m     \u001b[38;5;28;01mdef\u001b[39;00m \u001b[38;5;21m__init__\u001b[39m(\u001b[38;5;28mself\u001b[39m, primary_rate: Rate, secondary_rates: \u001b[38;5;28mlist\u001b[39m[Rate],\n\u001b[1;32m      8\u001b[0m                  primary_reverse: Rate, secondary_reverse: \u001b[38;5;28mlist\u001b[39m[Rate],\n\u001b[1;32m      9\u001b[0m                  is_reverse: \u001b[38;5;28mbool\u001b[39m \u001b[38;5;241m=\u001b[39m \u001b[38;5;28;01mFalse\u001b[39;00m, approx_type: \u001b[38;5;28mstr\u001b[39m\u001b[38;5;241m=\u001b[39m \u001b[38;5;124m\"\u001b[39m\u001b[38;5;124map_pg\u001b[39m\u001b[38;5;124m\"\u001b[39m) \u001b[38;5;241m-\u001b[39m\u001b[38;5;241m>\u001b[39m \u001b[38;5;28;01mNone\u001b[39;00m:\n",
      "File \u001b[0;32m/opt/hostedtoolcache/Python/3.11.10/x64/lib/python3.11/site-packages/pynucastro/rates/rate.py:313\u001b[0m\n\u001b[1;32m    309\u001b[0m         string \u001b[38;5;241m+\u001b[39m\u001b[38;5;241m=\u001b[39m \u001b[38;5;124m\"\u001b[39m\u001b[38;5;124m;\u001b[39m\u001b[38;5;124m\"\u001b[39m\n\u001b[1;32m    310\u001b[0m         \u001b[38;5;28;01mreturn\u001b[39;00m string\n\u001b[0;32m--> 313\u001b[0m \u001b[38;5;28;43;01mclass\u001b[39;49;00m\u001b[43m \u001b[49m\u001b[38;5;21;43;01mRate\u001b[39;49;00m\u001b[43m:\u001b[49m\n\u001b[1;32m    314\u001b[0m \u001b[38;5;250;43m    \u001b[39;49m\u001b[38;5;124;43;03m\"\"\"The base reaction rate class.  Most rate types will subclass\u001b[39;49;00m\n\u001b[1;32m    315\u001b[0m \u001b[38;5;124;43;03m    this and extend to their particular format.\u001b[39;49;00m\n\u001b[1;32m    316\u001b[0m \n\u001b[1;32m    317\u001b[0m \u001b[38;5;124;43;03m    \"\"\"\u001b[39;49;00m\n\u001b[1;32m    318\u001b[0m \u001b[43m    \u001b[49m\u001b[38;5;28;43;01mdef\u001b[39;49;00m\u001b[43m \u001b[49m\u001b[38;5;21;43m__init__\u001b[39;49m\u001b[43m(\u001b[49m\u001b[38;5;28;43mself\u001b[39;49m\u001b[43m,\u001b[49m\u001b[43m \u001b[49m\u001b[43mreactants\u001b[49m\u001b[43m:\u001b[49m\u001b[43m \u001b[49m\u001b[38;5;28;43mlist\u001b[39;49m\u001b[43m[\u001b[49m\u001b[38;5;28;43mstr\u001b[39;49m\u001b[43m]\u001b[49m\u001b[43m \u001b[49m\u001b[38;5;241;43m|\u001b[39;49m\u001b[43m \u001b[49m\u001b[38;5;28;43mlist\u001b[39;49m\u001b[43m[\u001b[49m\u001b[43mNucleus\u001b[49m\u001b[43m]\u001b[49m\u001b[43m \u001b[49m\u001b[38;5;241;43m=\u001b[39;49m\u001b[43m \u001b[49m\u001b[38;5;28;43;01mNone\u001b[39;49;00m\u001b[43m,\u001b[49m\n\u001b[1;32m    319\u001b[0m \u001b[43m                 \u001b[49m\u001b[43mproducts\u001b[49m\u001b[43m:\u001b[49m\u001b[43m \u001b[49m\u001b[38;5;28;43mlist\u001b[39;49m\u001b[43m[\u001b[49m\u001b[38;5;28;43mstr\u001b[39;49m\u001b[43m]\u001b[49m\u001b[43m \u001b[49m\u001b[38;5;241;43m|\u001b[39;49m\u001b[43m \u001b[49m\u001b[38;5;28;43mlist\u001b[39;49m\u001b[43m[\u001b[49m\u001b[43mNucleus\u001b[49m\u001b[43m]\u001b[49m\u001b[43m \u001b[49m\u001b[38;5;241;43m=\u001b[39;49m\u001b[43m \u001b[49m\u001b[38;5;28;43;01mNone\u001b[39;49;00m\u001b[43m,\u001b[49m\n\u001b[1;32m    320\u001b[0m \u001b[43m                 \u001b[49m\u001b[43mQ\u001b[49m\u001b[43m:\u001b[49m\u001b[43m \u001b[49m\u001b[38;5;28;43mfloat\u001b[39;49m\u001b[43m \u001b[49m\u001b[38;5;241;43m=\u001b[39;49m\u001b[43m \u001b[49m\u001b[38;5;28;43;01mNone\u001b[39;49;00m\u001b[43m,\u001b[49m\u001b[43m \u001b[49m\u001b[43mweak_type\u001b[49m\u001b[43m:\u001b[49m\u001b[43m \u001b[49m\u001b[38;5;28;43mstr\u001b[39;49m\u001b[43m \u001b[49m\u001b[38;5;241;43m=\u001b[39;49m\u001b[43m \u001b[49m\u001b[38;5;124;43m\"\u001b[39;49m\u001b[38;5;124;43m\"\u001b[39;49m\u001b[43m,\u001b[49m\n\u001b[1;32m    321\u001b[0m \u001b[43m                 \u001b[49m\u001b[43mlabel\u001b[49m\u001b[43m:\u001b[49m\u001b[43m \u001b[49m\u001b[38;5;28;43mstr\u001b[39;49m\u001b[43m \u001b[49m\u001b[38;5;241;43m=\u001b[39;49m\u001b[43m \u001b[49m\u001b[38;5;124;43m\"\u001b[39;49m\u001b[38;5;124;43mgeneric\u001b[39;49m\u001b[38;5;124;43m\"\u001b[39;49m\u001b[43m)\u001b[49m\u001b[43m \u001b[49m\u001b[38;5;241;43m-\u001b[39;49m\u001b[38;5;241;43m>\u001b[39;49m\u001b[43m \u001b[49m\u001b[38;5;28;43;01mNone\u001b[39;49;00m\u001b[43m:\u001b[49m\n",
      "File \u001b[0;32m/opt/hostedtoolcache/Python/3.11.10/x64/lib/python3.11/site-packages/pynucastro/rates/rate.py:620\u001b[0m, in \u001b[0;36mRate\u001b[0;34m()\u001b[0m\n\u001b[1;32m    617\u001b[0m             nuc \u001b[38;5;241m=\u001b[39m n\n\u001b[1;32m    618\u001b[0m     \u001b[38;5;28;01mreturn\u001b[39;00m nuc\n\u001b[0;32m--> 620\u001b[0m \u001b[38;5;28;01mdef\u001b[39;00m \u001b[38;5;21mydot_string_py\u001b[39m(\u001b[38;5;28mself\u001b[39m) \u001b[38;5;241m-\u001b[39m\u001b[38;5;241m>\u001b[39m \u001b[43mwarnings\u001b[49m\u001b[38;5;241;43m.\u001b[39;49m\u001b[43mLiteralString\u001b[49m:\n\u001b[1;32m    621\u001b[0m \u001b[38;5;250m    \u001b[39m\u001b[38;5;124;03m\"\"\"\u001b[39;00m\n\u001b[1;32m    622\u001b[0m \u001b[38;5;124;03m    Return a string containing the term in a dY/dt equation\u001b[39;00m\n\u001b[1;32m    623\u001b[0m \u001b[38;5;124;03m    in a reaction network corresponding to this rate.\u001b[39;00m\n\u001b[1;32m    624\u001b[0m \u001b[38;5;124;03m    \"\"\"\u001b[39;00m\n\u001b[1;32m    626\u001b[0m     ydot_string_components \u001b[38;5;241m=\u001b[39m []\n",
      "\u001b[0;31mAttributeError\u001b[0m: module 'warnings' has no attribute 'LiteralString'"
     ]
    }
   ],
   "source": [
    "import pynucastro as pyna"
   ]
  },
  {
   "cell_type": "markdown",
   "id": "7609816e-a92f-48da-9d40-e4c697222e52",
   "metadata": {},
   "source": [
    "First we'll get all nuclei with known masses and look at the binding energy"
   ]
  },
  {
   "cell_type": "code",
   "execution_count": 2,
   "id": "22ae2f77-3fd4-4e52-a13f-835a46ee4a29",
   "metadata": {
    "execution": {
     "iopub.execute_input": "2024-10-17T07:15:59.866534Z",
     "iopub.status.busy": "2024-10-17T07:15:59.866184Z",
     "iopub.status.idle": "2024-10-17T07:15:59.877141Z",
     "shell.execute_reply": "2024-10-17T07:15:59.876574Z"
    }
   },
   "outputs": [
    {
     "ename": "NameError",
     "evalue": "name 'pyna' is not defined",
     "output_type": "error",
     "traceback": [
      "\u001b[0;31m---------------------------------------------------------------------------\u001b[0m",
      "\u001b[0;31mNameError\u001b[0m                                 Traceback (most recent call last)",
      "Cell \u001b[0;32mIn[2], line 1\u001b[0m\n\u001b[0;32m----> 1\u001b[0m nuclei \u001b[38;5;241m=\u001b[39m \u001b[43mpyna\u001b[49m\u001b[38;5;241m.\u001b[39mget_all_nuclei()\n",
      "\u001b[0;31mNameError\u001b[0m: name 'pyna' is not defined"
     ]
    }
   ],
   "source": [
    "nuclei = pyna.get_all_nuclei()"
   ]
  },
  {
   "cell_type": "code",
   "execution_count": 3,
   "id": "917a082d-8d5b-4d66-9796-5e7909536207",
   "metadata": {
    "execution": {
     "iopub.execute_input": "2024-10-17T07:15:59.878616Z",
     "iopub.status.busy": "2024-10-17T07:15:59.878452Z",
     "iopub.status.idle": "2024-10-17T07:15:59.888413Z",
     "shell.execute_reply": "2024-10-17T07:15:59.887982Z"
    }
   },
   "outputs": [
    {
     "ename": "NameError",
     "evalue": "name 'nuclei' is not defined",
     "output_type": "error",
     "traceback": [
      "\u001b[0;31m---------------------------------------------------------------------------\u001b[0m",
      "\u001b[0;31mNameError\u001b[0m                                 Traceback (most recent call last)",
      "Cell \u001b[0;32mIn[3], line 1\u001b[0m\n\u001b[0;32m----> 1\u001b[0m \u001b[38;5;28mlen\u001b[39m(\u001b[43mnuclei\u001b[49m)\n",
      "\u001b[0;31mNameError\u001b[0m: name 'nuclei' is not defined"
     ]
    }
   ],
   "source": [
    "len(nuclei)"
   ]
  },
  {
   "cell_type": "markdown",
   "id": "450c370d-18f1-4b93-ba0a-408d52e49b15",
   "metadata": {},
   "source": [
    "We see there are > 3500 nuclei with measured masses"
   ]
  },
  {
   "cell_type": "markdown",
   "id": "15815897-cc06-4ad3-be3a-bae6471ba0da",
   "metadata": {},
   "source": [
    "## Most tightly bound nucleus\n",
    "\n",
    "We can easily find the nucleus that is most tightly bound"
   ]
  },
  {
   "cell_type": "code",
   "execution_count": 4,
   "id": "dfba6c31-6fec-4e21-89e6-3ab2d116b337",
   "metadata": {
    "execution": {
     "iopub.execute_input": "2024-10-17T07:15:59.890013Z",
     "iopub.status.busy": "2024-10-17T07:15:59.889850Z",
     "iopub.status.idle": "2024-10-17T07:15:59.900812Z",
     "shell.execute_reply": "2024-10-17T07:15:59.900357Z"
    }
   },
   "outputs": [
    {
     "ename": "NameError",
     "evalue": "name 'nuclei' is not defined",
     "output_type": "error",
     "traceback": [
      "\u001b[0;31m---------------------------------------------------------------------------\u001b[0m",
      "\u001b[0;31mNameError\u001b[0m                                 Traceback (most recent call last)",
      "Cell \u001b[0;32mIn[4], line 1\u001b[0m\n\u001b[0;32m----> 1\u001b[0m nuc_bound \u001b[38;5;241m=\u001b[39m \u001b[38;5;28mmax\u001b[39m(\u001b[43mnuclei\u001b[49m, key\u001b[38;5;241m=\u001b[39m\u001b[38;5;28;01mlambda\u001b[39;00m n : n\u001b[38;5;241m.\u001b[39mnucbind)\n\u001b[1;32m      2\u001b[0m nuc_bound\n",
      "\u001b[0;31mNameError\u001b[0m: name 'nuclei' is not defined"
     ]
    }
   ],
   "source": [
    "nuc_bound = max(nuclei, key=lambda n : n.nucbind)\n",
    "nuc_bound"
   ]
  },
  {
   "cell_type": "markdown",
   "id": "73eaf8d1-7db0-432b-a567-4df525db8419",
   "metadata": {},
   "source": [
    "## Binding energy plot\n",
    "\n",
    "Now we can make a plot of binding energy per nucleon for all nuclei"
   ]
  },
  {
   "cell_type": "code",
   "execution_count": 5,
   "id": "d560e809-91c8-4217-b40e-f26cd672bd38",
   "metadata": {
    "execution": {
     "iopub.execute_input": "2024-10-17T07:15:59.902340Z",
     "iopub.status.busy": "2024-10-17T07:15:59.902175Z",
     "iopub.status.idle": "2024-10-17T07:15:59.913141Z",
     "shell.execute_reply": "2024-10-17T07:15:59.912570Z"
    }
   },
   "outputs": [
    {
     "ename": "NameError",
     "evalue": "name 'nuclei' is not defined",
     "output_type": "error",
     "traceback": [
      "\u001b[0;31m---------------------------------------------------------------------------\u001b[0m",
      "\u001b[0;31mNameError\u001b[0m                                 Traceback (most recent call last)",
      "Cell \u001b[0;32mIn[5], line 1\u001b[0m\n\u001b[0;32m----> 1\u001b[0m As \u001b[38;5;241m=\u001b[39m [n\u001b[38;5;241m.\u001b[39mA \u001b[38;5;28;01mfor\u001b[39;00m n \u001b[38;5;129;01min\u001b[39;00m \u001b[43mnuclei\u001b[49m]\n\u001b[1;32m      2\u001b[0m BEs \u001b[38;5;241m=\u001b[39m [n\u001b[38;5;241m.\u001b[39mnucbind \u001b[38;5;28;01mfor\u001b[39;00m n \u001b[38;5;129;01min\u001b[39;00m nuclei]\n",
      "\u001b[0;31mNameError\u001b[0m: name 'nuclei' is not defined"
     ]
    }
   ],
   "source": [
    "As = [n.A for n in nuclei]\n",
    "BEs = [n.nucbind for n in nuclei]"
   ]
  },
  {
   "cell_type": "code",
   "execution_count": 6,
   "id": "30f5bacd-6790-4b5b-8e6f-c1dc6d253306",
   "metadata": {
    "execution": {
     "iopub.execute_input": "2024-10-17T07:15:59.915020Z",
     "iopub.status.busy": "2024-10-17T07:15:59.914621Z",
     "iopub.status.idle": "2024-10-17T07:15:59.917352Z",
     "shell.execute_reply": "2024-10-17T07:15:59.916791Z"
    }
   },
   "outputs": [],
   "source": [
    "import matplotlib.pyplot as plt"
   ]
  },
  {
   "cell_type": "code",
   "execution_count": 7,
   "id": "934593ae-7973-4f89-923d-2d5aa1c61798",
   "metadata": {
    "execution": {
     "iopub.execute_input": "2024-10-17T07:15:59.918900Z",
     "iopub.status.busy": "2024-10-17T07:15:59.918590Z",
     "iopub.status.idle": "2024-10-17T07:16:00.008971Z",
     "shell.execute_reply": "2024-10-17T07:16:00.008442Z"
    }
   },
   "outputs": [
    {
     "ename": "NameError",
     "evalue": "name 'As' is not defined",
     "output_type": "error",
     "traceback": [
      "\u001b[0;31m---------------------------------------------------------------------------\u001b[0m",
      "\u001b[0;31mNameError\u001b[0m                                 Traceback (most recent call last)",
      "Cell \u001b[0;32mIn[7], line 2\u001b[0m\n\u001b[1;32m      1\u001b[0m fig, ax \u001b[38;5;241m=\u001b[39m plt\u001b[38;5;241m.\u001b[39msubplots()\n\u001b[0;32m----> 2\u001b[0m ax\u001b[38;5;241m.\u001b[39mscatter(\u001b[43mAs\u001b[49m, BEs, s\u001b[38;5;241m=\u001b[39m\u001b[38;5;241m5\u001b[39m)\n\u001b[1;32m      3\u001b[0m ax\u001b[38;5;241m.\u001b[39mset_xlabel(\u001b[38;5;124m\"\u001b[39m\u001b[38;5;124mnumber of nucleons\u001b[39m\u001b[38;5;124m\"\u001b[39m)\n\u001b[1;32m      4\u001b[0m ax\u001b[38;5;241m.\u001b[39mset_ylabel(\u001b[38;5;124m\"\u001b[39m\u001b[38;5;124mbinding energy per nucleon\u001b[39m\u001b[38;5;124m\"\u001b[39m)\n",
      "\u001b[0;31mNameError\u001b[0m: name 'As' is not defined"
     ]
    },
    {
     "data": {
      "image/png": "[encoded data removed]",
      "text/plain": [
       "<Figure size 640x480 with 1 Axes>"
      ]
     },
     "metadata": {},
     "output_type": "display_data"
    }
   ],
   "source": [
    "fig, ax = plt.subplots()\n",
    "ax.scatter(As, BEs, s=5)\n",
    "ax.set_xlabel(\"number of nucleons\")\n",
    "ax.set_ylabel(\"binding energy per nucleon\")"
   ]
  },
  {
   "cell_type": "markdown",
   "id": "f9d15459-a230-47b4-966e-67c45e962b97",
   "metadata": {},
   "source": [
    "## Cleaner plot"
   ]
  },
  {
   "cell_type": "markdown",
   "id": "ec89c686-37b3-4712-8c63-c80778ee7280",
   "metadata": {},
   "source": [
    "We see that there is quite a spread in binding energy for each nucleon count.  If you look at the [version of the plot on Wikipedia](https://commons.wikimedia.org/wiki/File:Binding_energy_curve_-_common_isotopes.svg), it is much cleaner, because they only use a few nuclei."
   ]
  },
  {
   "cell_type": "markdown",
   "id": "0dff3ae8-739c-4c27-b6fe-131d16461928",
   "metadata": {},
   "source": [
    "We can recreate that by using the same nuclei"
   ]
  },
  {
   "cell_type": "code",
   "execution_count": 8,
   "id": "fda5d0fb-aaeb-44c0-bfdb-dc2b9987a9cc",
   "metadata": {
    "execution": {
     "iopub.execute_input": "2024-10-17T07:16:00.010922Z",
     "iopub.status.busy": "2024-10-17T07:16:00.010505Z",
     "iopub.status.idle": "2024-10-17T07:16:00.038783Z",
     "shell.execute_reply": "2024-10-17T07:16:00.038199Z"
    }
   },
   "outputs": [
    {
     "ename": "NameError",
     "evalue": "name 'pyna' is not defined",
     "output_type": "error",
     "traceback": [
      "\u001b[0;31m---------------------------------------------------------------------------\u001b[0m",
      "\u001b[0;31mNameError\u001b[0m                                 Traceback (most recent call last)",
      "Cell \u001b[0;32mIn[8], line 30\u001b[0m\n\u001b[1;32m      1\u001b[0m nuc \u001b[38;5;241m=\u001b[39m [\u001b[38;5;124m\"\u001b[39m\u001b[38;5;124mH1\u001b[39m\u001b[38;5;124m\"\u001b[39m, \u001b[38;5;124m\"\u001b[39m\u001b[38;5;124mH2\u001b[39m\u001b[38;5;124m\"\u001b[39m, \u001b[38;5;124m\"\u001b[39m\u001b[38;5;124mH3\u001b[39m\u001b[38;5;124m\"\u001b[39m, \u001b[38;5;124m\"\u001b[39m\u001b[38;5;124mHe3\u001b[39m\u001b[38;5;124m\"\u001b[39m, \u001b[38;5;124m\"\u001b[39m\u001b[38;5;124mHe4\u001b[39m\u001b[38;5;124m\"\u001b[39m,\n\u001b[1;32m      2\u001b[0m        \u001b[38;5;124m\"\u001b[39m\u001b[38;5;124mLi6\u001b[39m\u001b[38;5;124m\"\u001b[39m, \u001b[38;5;124m\"\u001b[39m\u001b[38;5;124mLi7\u001b[39m\u001b[38;5;124m\"\u001b[39m, \u001b[38;5;124m\"\u001b[39m\u001b[38;5;124mBe9\u001b[39m\u001b[38;5;124m\"\u001b[39m, \u001b[38;5;124m\"\u001b[39m\u001b[38;5;124mB10\u001b[39m\u001b[38;5;124m\"\u001b[39m, \u001b[38;5;124m\"\u001b[39m\u001b[38;5;124mB11\u001b[39m\u001b[38;5;124m\"\u001b[39m,\n\u001b[1;32m      3\u001b[0m        \u001b[38;5;124m\"\u001b[39m\u001b[38;5;124mC12\u001b[39m\u001b[38;5;124m\"\u001b[39m, \u001b[38;5;124m\"\u001b[39m\u001b[38;5;124mC13\u001b[39m\u001b[38;5;124m\"\u001b[39m, \u001b[38;5;124m\"\u001b[39m\u001b[38;5;124mN14\u001b[39m\u001b[38;5;124m\"\u001b[39m, \u001b[38;5;124m\"\u001b[39m\u001b[38;5;124mO16\u001b[39m\u001b[38;5;124m\"\u001b[39m, \u001b[38;5;124m\"\u001b[39m\u001b[38;5;124mF19\u001b[39m\u001b[38;5;124m\"\u001b[39m,\n\u001b[0;32m   (...)\u001b[0m\n\u001b[1;32m     27\u001b[0m        \u001b[38;5;124m\"\u001b[39m\u001b[38;5;124mFr223\u001b[39m\u001b[38;5;124m\"\u001b[39m, \u001b[38;5;124m\"\u001b[39m\u001b[38;5;124mRa226\u001b[39m\u001b[38;5;124m\"\u001b[39m, \u001b[38;5;124m\"\u001b[39m\u001b[38;5;124mAc227\u001b[39m\u001b[38;5;124m\"\u001b[39m, \u001b[38;5;124m\"\u001b[39m\u001b[38;5;124mPa231\u001b[39m\u001b[38;5;124m\"\u001b[39m, \u001b[38;5;124m\"\u001b[39m\u001b[38;5;124mTh232\u001b[39m\u001b[38;5;124m\"\u001b[39m,\n\u001b[1;32m     28\u001b[0m        \u001b[38;5;124m\"\u001b[39m\u001b[38;5;124mU235\u001b[39m\u001b[38;5;124m\"\u001b[39m, \u001b[38;5;124m\"\u001b[39m\u001b[38;5;124mU238\u001b[39m\u001b[38;5;124m\"\u001b[39m]\n\u001b[0;32m---> 30\u001b[0m new_nuc \u001b[38;5;241m=\u001b[39m \u001b[43m[\u001b[49m\u001b[43mpyna\u001b[49m\u001b[38;5;241;43m.\u001b[39;49m\u001b[43mNucleus\u001b[49m\u001b[43m(\u001b[49m\u001b[43mname\u001b[49m\u001b[43m)\u001b[49m\u001b[43m \u001b[49m\u001b[38;5;28;43;01mfor\u001b[39;49;00m\u001b[43m \u001b[49m\u001b[43mname\u001b[49m\u001b[43m \u001b[49m\u001b[38;5;129;43;01min\u001b[39;49;00m\u001b[43m \u001b[49m\u001b[43mnuc\u001b[49m\u001b[43m]\u001b[49m\n",
      "Cell \u001b[0;32mIn[8], line 30\u001b[0m, in \u001b[0;36m<listcomp>\u001b[0;34m(.0)\u001b[0m\n\u001b[1;32m      1\u001b[0m nuc \u001b[38;5;241m=\u001b[39m [\u001b[38;5;124m\"\u001b[39m\u001b[38;5;124mH1\u001b[39m\u001b[38;5;124m\"\u001b[39m, \u001b[38;5;124m\"\u001b[39m\u001b[38;5;124mH2\u001b[39m\u001b[38;5;124m\"\u001b[39m, \u001b[38;5;124m\"\u001b[39m\u001b[38;5;124mH3\u001b[39m\u001b[38;5;124m\"\u001b[39m, \u001b[38;5;124m\"\u001b[39m\u001b[38;5;124mHe3\u001b[39m\u001b[38;5;124m\"\u001b[39m, \u001b[38;5;124m\"\u001b[39m\u001b[38;5;124mHe4\u001b[39m\u001b[38;5;124m\"\u001b[39m,\n\u001b[1;32m      2\u001b[0m        \u001b[38;5;124m\"\u001b[39m\u001b[38;5;124mLi6\u001b[39m\u001b[38;5;124m\"\u001b[39m, \u001b[38;5;124m\"\u001b[39m\u001b[38;5;124mLi7\u001b[39m\u001b[38;5;124m\"\u001b[39m, \u001b[38;5;124m\"\u001b[39m\u001b[38;5;124mBe9\u001b[39m\u001b[38;5;124m\"\u001b[39m, \u001b[38;5;124m\"\u001b[39m\u001b[38;5;124mB10\u001b[39m\u001b[38;5;124m\"\u001b[39m, \u001b[38;5;124m\"\u001b[39m\u001b[38;5;124mB11\u001b[39m\u001b[38;5;124m\"\u001b[39m,\n\u001b[1;32m      3\u001b[0m        \u001b[38;5;124m\"\u001b[39m\u001b[38;5;124mC12\u001b[39m\u001b[38;5;124m\"\u001b[39m, \u001b[38;5;124m\"\u001b[39m\u001b[38;5;124mC13\u001b[39m\u001b[38;5;124m\"\u001b[39m, \u001b[38;5;124m\"\u001b[39m\u001b[38;5;124mN14\u001b[39m\u001b[38;5;124m\"\u001b[39m, \u001b[38;5;124m\"\u001b[39m\u001b[38;5;124mO16\u001b[39m\u001b[38;5;124m\"\u001b[39m, \u001b[38;5;124m\"\u001b[39m\u001b[38;5;124mF19\u001b[39m\u001b[38;5;124m\"\u001b[39m,\n\u001b[0;32m   (...)\u001b[0m\n\u001b[1;32m     27\u001b[0m        \u001b[38;5;124m\"\u001b[39m\u001b[38;5;124mFr223\u001b[39m\u001b[38;5;124m\"\u001b[39m, \u001b[38;5;124m\"\u001b[39m\u001b[38;5;124mRa226\u001b[39m\u001b[38;5;124m\"\u001b[39m, \u001b[38;5;124m\"\u001b[39m\u001b[38;5;124mAc227\u001b[39m\u001b[38;5;124m\"\u001b[39m, \u001b[38;5;124m\"\u001b[39m\u001b[38;5;124mPa231\u001b[39m\u001b[38;5;124m\"\u001b[39m, \u001b[38;5;124m\"\u001b[39m\u001b[38;5;124mTh232\u001b[39m\u001b[38;5;124m\"\u001b[39m,\n\u001b[1;32m     28\u001b[0m        \u001b[38;5;124m\"\u001b[39m\u001b[38;5;124mU235\u001b[39m\u001b[38;5;124m\"\u001b[39m, \u001b[38;5;124m\"\u001b[39m\u001b[38;5;124mU238\u001b[39m\u001b[38;5;124m\"\u001b[39m]\n\u001b[0;32m---> 30\u001b[0m new_nuc \u001b[38;5;241m=\u001b[39m [\u001b[43mpyna\u001b[49m\u001b[38;5;241m.\u001b[39mNucleus(name) \u001b[38;5;28;01mfor\u001b[39;00m name \u001b[38;5;129;01min\u001b[39;00m nuc]\n",
      "\u001b[0;31mNameError\u001b[0m: name 'pyna' is not defined"
     ]
    }
   ],
   "source": [
    "nuc = [\"H1\", \"H2\", \"H3\", \"He3\", \"He4\",\n",
    "       \"Li6\", \"Li7\", \"Be9\", \"B10\", \"B11\",\n",
    "       \"C12\", \"C13\", \"N14\", \"O16\", \"F19\",\n",
    "       \"Ne20\", \"Na23\", \"Mg24\", \"Al27\", \"Si28\",\n",
    "       \"P31\", \"S32\", \"Cl35\", \"Cl37\", \"K39\",\n",
    "       \"Ar40\", \"Ca40\", \"Sc45\", \"Ti48\", \"V51\",\n",
    "       \"Cr52\", \"Mn55\", \"Fe56\", \"Ni58\", \"Co59\",\n",
    "       \"Ni60\", \"Cu63\", \"Zn64\", \"Cu65\", \"Zn66\",\n",
    "       \"Zn68\", \"Ga68\", \"Ge70\", \"Ga71\", \"Ge72\",\n",
    "       \"Ge74\", \"As75\", \"Se78\", \"Br79\", \"Se80\",\n",
    "       \"Br81\", \"Kr84\", \"Rb85\", \"Sr88\", \"Zr90\",\n",
    "       \"Nb93\", \"Zr94\", \"Mo95\", \"Mo96\", \"Mo98\",\n",
    "       \"Tc98\", \"Ru102\", \"Rh103\", \"Pd105\", \"Pd106\",\n",
    "       \"Ag107\", \"Pd108\", \"Ag109\", \"Cd112\", \"Cd114\",\n",
    "       \"In115\", \"Sn118\", \"Sn120\", \"Sb121\", \"Sb123\",\n",
    "       \"I127\", \"Te128\", \"Xe129\", \"Te130\", \"Xe131\",\n",
    "       \"Xe132\", \"Cs133\", \"Ba138\", \"La139\", \"Ce140\",\n",
    "       \"Pr141\", \"Nd142\", \"Pm145\", \"Eu151\", \"Sm152\",\n",
    "       \"Eu153\", \"Sm154\", \"Gd156\", \"Gd158\", \"Dy162\",\n",
    "       \"Dy163\", \"Dy164\", \"Ho165\", \"Er166\", \"Er167\",\n",
    "       \"Er168\", \"Tm169\", \"Yb172\", \"Lu175\", \"Hf178\",\n",
    "       \"Hf180\", \"Ta181\", \"W182\", \"W184\", \"Re185\",\n",
    "       \"W186\", \"Re187\", \"Os190\", \"Ir191\", \"Os120\",\n",
    "       \"Ir193\", \"Pt194\", \"Pt195\", \"Pt196\", \"Au197\",\n",
    "       \"Hg200\", \"Hg202\", \"Tl203\", \"Tl205\", \"Pb206\",\n",
    "       \"Pb208\", \"Bi209\", \"Po209\", \"At210\", \"Rn222\",\n",
    "       \"Fr223\", \"Ra226\", \"Ac227\", \"Pa231\", \"Th232\",\n",
    "       \"U235\", \"U238\"]\n",
    "\n",
    "new_nuc = [pyna.Nucleus(name) for name in nuc]"
   ]
  },
  {
   "cell_type": "code",
   "execution_count": 9,
   "id": "9f929161-622e-4450-907f-8e0f791a7ee0",
   "metadata": {
    "execution": {
     "iopub.execute_input": "2024-10-17T07:16:00.040524Z",
     "iopub.status.busy": "2024-10-17T07:16:00.040211Z",
     "iopub.status.idle": "2024-10-17T07:16:00.051235Z",
     "shell.execute_reply": "2024-10-17T07:16:00.050685Z"
    }
   },
   "outputs": [
    {
     "ename": "NameError",
     "evalue": "name 'new_nuc' is not defined",
     "output_type": "error",
     "traceback": [
      "\u001b[0;31m---------------------------------------------------------------------------\u001b[0m",
      "\u001b[0;31mNameError\u001b[0m                                 Traceback (most recent call last)",
      "Cell \u001b[0;32mIn[9], line 1\u001b[0m\n\u001b[0;32m----> 1\u001b[0m As \u001b[38;5;241m=\u001b[39m [n\u001b[38;5;241m.\u001b[39mA \u001b[38;5;28;01mfor\u001b[39;00m n \u001b[38;5;129;01min\u001b[39;00m \u001b[43mnew_nuc\u001b[49m]\n\u001b[1;32m      2\u001b[0m BEs \u001b[38;5;241m=\u001b[39m [n\u001b[38;5;241m.\u001b[39mnucbind \u001b[38;5;28;01mfor\u001b[39;00m n \u001b[38;5;129;01min\u001b[39;00m new_nuc]\n",
      "\u001b[0;31mNameError\u001b[0m: name 'new_nuc' is not defined"
     ]
    }
   ],
   "source": [
    "As = [n.A for n in new_nuc]\n",
    "BEs = [n.nucbind for n in new_nuc]"
   ]
  },
  {
   "cell_type": "code",
   "execution_count": 10,
   "id": "733c858a-0244-4ed3-a439-5df9232b73b6",
   "metadata": {
    "execution": {
     "iopub.execute_input": "2024-10-17T07:16:00.053024Z",
     "iopub.status.busy": "2024-10-17T07:16:00.052721Z",
     "iopub.status.idle": "2024-10-17T07:16:00.132331Z",
     "shell.execute_reply": "2024-10-17T07:16:00.131860Z"
    }
   },
   "outputs": [
    {
     "ename": "NameError",
     "evalue": "name 'As' is not defined",
     "output_type": "error",
     "traceback": [
      "\u001b[0;31m---------------------------------------------------------------------------\u001b[0m",
      "\u001b[0;31mNameError\u001b[0m                                 Traceback (most recent call last)",
      "Cell \u001b[0;32mIn[10], line 2\u001b[0m\n\u001b[1;32m      1\u001b[0m fig, ax \u001b[38;5;241m=\u001b[39m plt\u001b[38;5;241m.\u001b[39msubplots()\n\u001b[0;32m----> 2\u001b[0m ax\u001b[38;5;241m.\u001b[39mplot(\u001b[43mAs\u001b[49m, BEs, marker\u001b[38;5;241m=\u001b[39m\u001b[38;5;124m\"\u001b[39m\u001b[38;5;124mo\u001b[39m\u001b[38;5;124m\"\u001b[39m, markersize\u001b[38;5;241m=\u001b[39m\u001b[38;5;124m\"\u001b[39m\u001b[38;5;124m3\u001b[39m\u001b[38;5;124m\"\u001b[39m)\n\u001b[1;32m      3\u001b[0m ax\u001b[38;5;241m.\u001b[39mset_xlabel(\u001b[38;5;124m\"\u001b[39m\u001b[38;5;124mnumber of nucleons\u001b[39m\u001b[38;5;124m\"\u001b[39m)\n\u001b[1;32m      4\u001b[0m ax\u001b[38;5;241m.\u001b[39mset_ylabel(\u001b[38;5;124m\"\u001b[39m\u001b[38;5;124mbinding energy per nucleon\u001b[39m\u001b[38;5;124m\"\u001b[39m)\n",
      "\u001b[0;31mNameError\u001b[0m: name 'As' is not defined"
     ]
    },
    {
     "data": {
      "image/png": "[encoded data removed]",
      "text/plain": [
       "<Figure size 640x480 with 1 Axes>"
      ]
     },
     "metadata": {},
     "output_type": "display_data"
    }
   ],
   "source": [
    "fig, ax = plt.subplots()\n",
    "ax.plot(As, BEs, marker=\"o\", markersize=\"3\")\n",
    "ax.set_xlabel(\"number of nucleons\")\n",
    "ax.set_ylabel(\"binding energy per nucleon\")\n",
    "fig.set_size_inches((7, 6))"
   ]
  },
  {
   "cell_type": "markdown",
   "id": "6df7a2fe-9901-49b4-bc70-7dd69c10967a",
   "metadata": {},
   "source": [
    "## Visualizing as function of (N, Z)"
   ]
  },
  {
   "cell_type": "markdown",
   "id": "a77202de-c74a-424b-bf76-8b6fdb8a49ac",
   "metadata": {},
   "source": [
    "We want to visualize the mass excess and binding energy in the $Z$-$N$ plane.\n",
    "First let's get the extent of $N$ and $Z$ in our nucleus list."
   ]
  },
  {
   "cell_type": "code",
   "execution_count": 11,
   "id": "ff6c4dc2-d17a-42ef-9e1d-ec927ad7b7b3",
   "metadata": {
    "execution": {
     "iopub.execute_input": "2024-10-17T07:16:00.134027Z",
     "iopub.status.busy": "2024-10-17T07:16:00.133703Z",
     "iopub.status.idle": "2024-10-17T07:16:00.145054Z",
     "shell.execute_reply": "2024-10-17T07:16:00.144506Z"
    }
   },
   "outputs": [
    {
     "ename": "NameError",
     "evalue": "name 'nuclei' is not defined",
     "output_type": "error",
     "traceback": [
      "\u001b[0;31m---------------------------------------------------------------------------\u001b[0m",
      "\u001b[0;31mNameError\u001b[0m                                 Traceback (most recent call last)",
      "Cell \u001b[0;32mIn[11], line 1\u001b[0m\n\u001b[0;32m----> 1\u001b[0m max_Z \u001b[38;5;241m=\u001b[39m \u001b[38;5;28mmax\u001b[39m(\u001b[43mnuclei\u001b[49m, key\u001b[38;5;241m=\u001b[39m\u001b[38;5;28;01mlambda\u001b[39;00m n : n\u001b[38;5;241m.\u001b[39mZ)\u001b[38;5;241m.\u001b[39mZ\n\u001b[1;32m      2\u001b[0m max_N \u001b[38;5;241m=\u001b[39m \u001b[38;5;28mmax\u001b[39m(nuclei, key\u001b[38;5;241m=\u001b[39m\u001b[38;5;28;01mlambda\u001b[39;00m n : n\u001b[38;5;241m.\u001b[39mN)\u001b[38;5;241m.\u001b[39mN\n",
      "\u001b[0;31mNameError\u001b[0m: name 'nuclei' is not defined"
     ]
    }
   ],
   "source": [
    "max_Z = max(nuclei, key=lambda n : n.Z).Z\n",
    "max_N = max(nuclei, key=lambda n : n.N).N"
   ]
  },
  {
   "cell_type": "markdown",
   "id": "72ef47e6-302f-41b1-bb29-1a6cfcb89f3c",
   "metadata": {},
   "source": [
    "and the maximum absolute value of the mass excess (in MeV)"
   ]
  },
  {
   "cell_type": "code",
   "execution_count": 12,
   "id": "4cce0a56-ce84-4989-b8f2-b0ba488c8e2f",
   "metadata": {
    "execution": {
     "iopub.execute_input": "2024-10-17T07:16:00.146784Z",
     "iopub.status.busy": "2024-10-17T07:16:00.146479Z",
     "iopub.status.idle": "2024-10-17T07:16:00.157322Z",
     "shell.execute_reply": "2024-10-17T07:16:00.156798Z"
    }
   },
   "outputs": [
    {
     "ename": "NameError",
     "evalue": "name 'nuclei' is not defined",
     "output_type": "error",
     "traceback": [
      "\u001b[0;31m---------------------------------------------------------------------------\u001b[0m",
      "\u001b[0;31mNameError\u001b[0m                                 Traceback (most recent call last)",
      "Cell \u001b[0;32mIn[12], line 1\u001b[0m\n\u001b[0;32m----> 1\u001b[0m dm_mag \u001b[38;5;241m=\u001b[39m \u001b[38;5;28mabs\u001b[39m(\u001b[38;5;28mmax\u001b[39m(\u001b[43mnuclei\u001b[49m, key\u001b[38;5;241m=\u001b[39m\u001b[38;5;28;01mlambda\u001b[39;00m n: \u001b[38;5;28mabs\u001b[39m(n\u001b[38;5;241m.\u001b[39mdm))\u001b[38;5;241m.\u001b[39mdm)\n\u001b[1;32m      2\u001b[0m dm_mag\n",
      "\u001b[0;31mNameError\u001b[0m: name 'nuclei' is not defined"
     ]
    }
   ],
   "source": [
    "dm_mag = abs(max(nuclei, key=lambda n: abs(n.dm)).dm)\n",
    "dm_mag"
   ]
  },
  {
   "cell_type": "markdown",
   "id": "4b8037ed-e101-407e-bd7e-49664df1a3b1",
   "metadata": {},
   "source": [
    "Now we'll create an array to store dm(Z, N) and be(Z, N) and loop over all the nuclei and store each mass excess and binding energy / nucleon."
   ]
  },
  {
   "cell_type": "code",
   "execution_count": 13,
   "id": "31dbc919-2921-41d6-9fe5-15061b5b732d",
   "metadata": {
    "execution": {
     "iopub.execute_input": "2024-10-17T07:16:00.159041Z",
     "iopub.status.busy": "2024-10-17T07:16:00.158723Z",
     "iopub.status.idle": "2024-10-17T07:16:00.169848Z",
     "shell.execute_reply": "2024-10-17T07:16:00.169382Z"
    }
   },
   "outputs": [
    {
     "ename": "NameError",
     "evalue": "name 'max_Z' is not defined",
     "output_type": "error",
     "traceback": [
      "\u001b[0;31m---------------------------------------------------------------------------\u001b[0m",
      "\u001b[0;31mNameError\u001b[0m                                 Traceback (most recent call last)",
      "Cell \u001b[0;32mIn[13], line 2\u001b[0m\n\u001b[1;32m      1\u001b[0m \u001b[38;5;28;01mimport\u001b[39;00m \u001b[38;5;21;01mnumpy\u001b[39;00m \u001b[38;5;28;01mas\u001b[39;00m \u001b[38;5;21;01mnp\u001b[39;00m\n\u001b[0;32m----> 2\u001b[0m dm \u001b[38;5;241m=\u001b[39m np\u001b[38;5;241m.\u001b[39mzeros((\u001b[43mmax_Z\u001b[49m\u001b[38;5;241m+\u001b[39m\u001b[38;5;241m1\u001b[39m, max_N\u001b[38;5;241m+\u001b[39m\u001b[38;5;241m1\u001b[39m))\n\u001b[1;32m      3\u001b[0m be \u001b[38;5;241m=\u001b[39m np\u001b[38;5;241m.\u001b[39mzeros((max_Z\u001b[38;5;241m+\u001b[39m\u001b[38;5;241m1\u001b[39m, max_N\u001b[38;5;241m+\u001b[39m\u001b[38;5;241m1\u001b[39m))\n",
      "\u001b[0;31mNameError\u001b[0m: name 'max_Z' is not defined"
     ]
    }
   ],
   "source": [
    "import numpy as np\n",
    "dm = np.zeros((max_Z+1, max_N+1))\n",
    "be = np.zeros((max_Z+1, max_N+1))"
   ]
  },
  {
   "cell_type": "markdown",
   "id": "fe5af835-ddef-4d59-9171-4203ae866e9c",
   "metadata": {},
   "source": [
    "We'll initialize these to NaN so we can mask out the regions where there are no nuclei"
   ]
  },
  {
   "cell_type": "code",
   "execution_count": 14,
   "id": "6ea401d9-2b28-46b4-96f5-9396c88a85ce",
   "metadata": {
    "execution": {
     "iopub.execute_input": "2024-10-17T07:16:00.171506Z",
     "iopub.status.busy": "2024-10-17T07:16:00.171194Z",
     "iopub.status.idle": "2024-10-17T07:16:00.181780Z",
     "shell.execute_reply": "2024-10-17T07:16:00.181340Z"
    }
   },
   "outputs": [
    {
     "ename": "NameError",
     "evalue": "name 'dm' is not defined",
     "output_type": "error",
     "traceback": [
      "\u001b[0;31m---------------------------------------------------------------------------\u001b[0m",
      "\u001b[0;31mNameError\u001b[0m                                 Traceback (most recent call last)",
      "Cell \u001b[0;32mIn[14], line 1\u001b[0m\n\u001b[0;32m----> 1\u001b[0m \u001b[43mdm\u001b[49m[:,:] \u001b[38;5;241m=\u001b[39m np\u001b[38;5;241m.\u001b[39mnan\n\u001b[1;32m      2\u001b[0m be[:,:] \u001b[38;5;241m=\u001b[39m np\u001b[38;5;241m.\u001b[39mnan\n",
      "\u001b[0;31mNameError\u001b[0m: name 'dm' is not defined"
     ]
    }
   ],
   "source": [
    "dm[:,:] = np.nan\n",
    "be[:,:] = np.nan"
   ]
  },
  {
   "cell_type": "code",
   "execution_count": 15,
   "id": "8e2a3dc2-9835-4f69-b86a-71b2d8232226",
   "metadata": {
    "execution": {
     "iopub.execute_input": "2024-10-17T07:16:00.183309Z",
     "iopub.status.busy": "2024-10-17T07:16:00.183027Z",
     "iopub.status.idle": "2024-10-17T07:16:00.194005Z",
     "shell.execute_reply": "2024-10-17T07:16:00.193482Z"
    }
   },
   "outputs": [
    {
     "ename": "NameError",
     "evalue": "name 'nuclei' is not defined",
     "output_type": "error",
     "traceback": [
      "\u001b[0;31m---------------------------------------------------------------------------\u001b[0m",
      "\u001b[0;31mNameError\u001b[0m                                 Traceback (most recent call last)",
      "Cell \u001b[0;32mIn[15], line 1\u001b[0m\n\u001b[0;32m----> 1\u001b[0m \u001b[38;5;28;01mfor\u001b[39;00m n \u001b[38;5;129;01min\u001b[39;00m \u001b[43mnuclei\u001b[49m:\n\u001b[1;32m      2\u001b[0m     dm[n\u001b[38;5;241m.\u001b[39mZ, n\u001b[38;5;241m.\u001b[39mN] \u001b[38;5;241m=\u001b[39m n\u001b[38;5;241m.\u001b[39mdm\n\u001b[1;32m      3\u001b[0m     be[n\u001b[38;5;241m.\u001b[39mZ, n\u001b[38;5;241m.\u001b[39mN] \u001b[38;5;241m=\u001b[39m n\u001b[38;5;241m.\u001b[39mnucbind\n",
      "\u001b[0;31mNameError\u001b[0m: name 'nuclei' is not defined"
     ]
    }
   ],
   "source": [
    "for n in nuclei:\n",
    "    dm[n.Z, n.N] = n.dm\n",
    "    be[n.Z, n.N] = n.nucbind"
   ]
  },
  {
   "cell_type": "markdown",
   "id": "7210f393-dae9-4225-87f2-c190bf6b018c",
   "metadata": {},
   "source": [
    "Finally, we can plot"
   ]
  },
  {
   "cell_type": "code",
   "execution_count": 16,
   "id": "b12af81d-70c2-4e09-90b9-8a33bcd75cea",
   "metadata": {
    "execution": {
     "iopub.execute_input": "2024-10-17T07:16:00.195798Z",
     "iopub.status.busy": "2024-10-17T07:16:00.195332Z",
     "iopub.status.idle": "2024-10-17T07:16:00.197966Z",
     "shell.execute_reply": "2024-10-17T07:16:00.197421Z"
    }
   },
   "outputs": [],
   "source": [
    "import matplotlib as mpl"
   ]
  },
  {
   "cell_type": "code",
   "execution_count": 17,
   "id": "26e87855-37e1-489b-9f36-4e6973daec34",
   "metadata": {
    "editable": true,
    "execution": {
     "iopub.execute_input": "2024-10-17T07:16:00.199534Z",
     "iopub.status.busy": "2024-10-17T07:16:00.199311Z",
     "iopub.status.idle": "2024-10-17T07:16:00.278366Z",
     "shell.execute_reply": "2024-10-17T07:16:00.277926Z"
    },
    "slideshow": {
     "slide_type": ""
    },
    "tags": [
     "nbval-ignore-output"
    ]
   },
   "outputs": [
    {
     "ename": "NameError",
     "evalue": "name 'dm' is not defined",
     "output_type": "error",
     "traceback": [
      "\u001b[0;31m---------------------------------------------------------------------------\u001b[0m",
      "\u001b[0;31mNameError\u001b[0m                                 Traceback (most recent call last)",
      "Cell \u001b[0;32mIn[17], line 6\u001b[0m\n\u001b[1;32m      3\u001b[0m cmap\u001b[38;5;241m.\u001b[39mset_bad(color\u001b[38;5;241m=\u001b[39m\u001b[38;5;124m'\u001b[39m\u001b[38;5;124mwhite\u001b[39m\u001b[38;5;124m'\u001b[39m)\n\u001b[1;32m      5\u001b[0m fig, ax \u001b[38;5;241m=\u001b[39m plt\u001b[38;5;241m.\u001b[39msubplots()\n\u001b[0;32m----> 6\u001b[0m im \u001b[38;5;241m=\u001b[39m ax\u001b[38;5;241m.\u001b[39mimshow(\u001b[43mdm\u001b[49m, origin\u001b[38;5;241m=\u001b[39m\u001b[38;5;124m\"\u001b[39m\u001b[38;5;124mlower\u001b[39m\u001b[38;5;124m\"\u001b[39m, cmap\u001b[38;5;241m=\u001b[39m\u001b[38;5;124m\"\u001b[39m\u001b[38;5;124mRdYlBu\u001b[39m\u001b[38;5;124m\"\u001b[39m,\n\u001b[1;32m      7\u001b[0m                vmin\u001b[38;5;241m=\u001b[39m\u001b[38;5;241m-\u001b[39m\u001b[38;5;241m100\u001b[39m, vmax\u001b[38;5;241m=\u001b[39m\u001b[38;5;241m100\u001b[39m)\n\u001b[1;32m      8\u001b[0m ax\u001b[38;5;241m.\u001b[39mset_xlabel(\u001b[38;5;124m\"\u001b[39m\u001b[38;5;124mN\u001b[39m\u001b[38;5;124m\"\u001b[39m)\n\u001b[1;32m      9\u001b[0m ax\u001b[38;5;241m.\u001b[39mset_ylabel(\u001b[38;5;124m\"\u001b[39m\u001b[38;5;124mZ\u001b[39m\u001b[38;5;124m\"\u001b[39m)\n",
      "\u001b[0;31mNameError\u001b[0m: name 'dm' is not defined"
     ]
    },
    {
     "data": {
      "image/png": "[encoded data removed]",
      "text/plain": [
       "<Figure size 640x480 with 1 Axes>"
      ]
     },
     "metadata": {},
     "output_type": "display_data"
    }
   ],
   "source": [
    "# mask out the regions with no nuclei\n",
    "cmap = mpl.colormaps['RdYlBu']\n",
    "cmap.set_bad(color='white')\n",
    "\n",
    "fig, ax = plt.subplots()\n",
    "im = ax.imshow(dm, origin=\"lower\", cmap=\"RdYlBu\",\n",
    "               vmin=-100, vmax=100)\n",
    "ax.set_xlabel(\"N\")\n",
    "ax.set_ylabel(\"Z\")\n",
    "ax.set_title(\"mass excess\")\n",
    "fig.colorbar(im, ax=ax, location=\"bottom\", shrink=0.5)"
   ]
  },
  {
   "cell_type": "code",
   "execution_count": 18,
   "id": "ceb4bdbc-4c8c-4a10-a555-7d004b604cbe",
   "metadata": {
    "editable": true,
    "execution": {
     "iopub.execute_input": "2024-10-17T07:16:00.280043Z",
     "iopub.status.busy": "2024-10-17T07:16:00.279739Z",
     "iopub.status.idle": "2024-10-17T07:16:00.359356Z",
     "shell.execute_reply": "2024-10-17T07:16:00.358799Z"
    },
    "slideshow": {
     "slide_type": ""
    },
    "tags": [
     "nbval-ignore-output"
    ]
   },
   "outputs": [
    {
     "ename": "NameError",
     "evalue": "name 'be' is not defined",
     "output_type": "error",
     "traceback": [
      "\u001b[0;31m---------------------------------------------------------------------------\u001b[0m",
      "\u001b[0;31mNameError\u001b[0m                                 Traceback (most recent call last)",
      "Cell \u001b[0;32mIn[18], line 6\u001b[0m\n\u001b[1;32m      3\u001b[0m cmap\u001b[38;5;241m.\u001b[39mset_bad(color\u001b[38;5;241m=\u001b[39m\u001b[38;5;124m'\u001b[39m\u001b[38;5;124mwhite\u001b[39m\u001b[38;5;124m'\u001b[39m)\n\u001b[1;32m      5\u001b[0m fig, ax \u001b[38;5;241m=\u001b[39m plt\u001b[38;5;241m.\u001b[39msubplots()\n\u001b[0;32m----> 6\u001b[0m im \u001b[38;5;241m=\u001b[39m ax\u001b[38;5;241m.\u001b[39mimshow(\u001b[43mbe\u001b[49m, origin\u001b[38;5;241m=\u001b[39m\u001b[38;5;124m\"\u001b[39m\u001b[38;5;124mlower\u001b[39m\u001b[38;5;124m\"\u001b[39m, cmap\u001b[38;5;241m=\u001b[39mcmap)\n\u001b[1;32m      7\u001b[0m ax\u001b[38;5;241m.\u001b[39mset_xlabel(\u001b[38;5;124m\"\u001b[39m\u001b[38;5;124mN\u001b[39m\u001b[38;5;124m\"\u001b[39m)\n\u001b[1;32m      8\u001b[0m ax\u001b[38;5;241m.\u001b[39mset_ylabel(\u001b[38;5;124m\"\u001b[39m\u001b[38;5;124mZ\u001b[39m\u001b[38;5;124m\"\u001b[39m)\n",
      "\u001b[0;31mNameError\u001b[0m: name 'be' is not defined"
     ]
    },
    {
     "data": {
      "image/png": "[encoded data removed]",
      "text/plain": [
       "<Figure size 640x480 with 1 Axes>"
      ]
     },
     "metadata": {},
     "output_type": "display_data"
    }
   ],
   "source": [
    "# mask out the regions with no nuclei\n",
    "cmap = mpl.colormaps['viridis']\n",
    "cmap.set_bad(color='white')\n",
    "\n",
    "fig, ax = plt.subplots()\n",
    "im = ax.imshow(be, origin=\"lower\", cmap=cmap)\n",
    "ax.set_xlabel(\"N\")\n",
    "ax.set_ylabel(\"Z\")\n",
    "ax.set_title(\"binding energy / nucleon\")\n",
    "fig.colorbar(im, ax=ax, location=\"bottom\", shrink=0.5)"
   ]
  }
 ],
 "metadata": {
  "kernelspec": {
   "display_name": "Python 3 (ipykernel)",
   "language": "python",
   "name": "python3"
  },
  "language_info": {
   "codemirror_mode": {
    "name": "ipython",
    "version": 3
   },
   "file_extension": ".py",
   "mimetype": "text/x-python",
   "name": "python",
   "nbconvert_exporter": "python",
   "pygments_lexer": "ipython3",
   "version": "3.11.10"
  }
 },
 "nbformat": 4,
 "nbformat_minor": 5
}
