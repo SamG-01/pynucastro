{
 "cells": [
  {
   "cell_type": "markdown",
   "id": "8a7173c4-3f14-4a16-adfb-c51ff0cf7ac9",
   "metadata": {
    "editable": true,
    "slideshow": {
     "slide_type": ""
    },
    "tags": []
   },
   "source": [
    "# p-p chain vs. CNO"
   ]
  },
  {
   "cell_type": "markdown",
   "id": "7a32658b-7f4c-47ce-84d2-1ec81887df6d",
   "metadata": {
    "editable": true,
    "slideshow": {
     "slide_type": ""
    },
    "tags": []
   },
   "source": [
    "We will explore the p-p chain and the CNO cycle to learn which rates are the slowest in each and when each dominates inside of stars."
   ]
  },
  {
   "cell_type": "code",
   "execution_count": 1,
   "id": "d5a2a8f1-7d98-43c1-a5a9-252aaf4f42f8",
   "metadata": {
    "editable": true,
    "execution": {
     "iopub.execute_input": "2024-10-10T10:03:21.980645Z",
     "iopub.status.busy": "2024-10-10T10:03:21.980472Z",
     "iopub.status.idle": "2024-10-10T10:03:23.397596Z",
     "shell.execute_reply": "2024-10-10T10:03:23.397024Z"
    },
    "slideshow": {
     "slide_type": ""
    },
    "tags": []
   },
   "outputs": [],
   "source": [
    "import pynucastro as pyna"
   ]
  },
  {
   "cell_type": "markdown",
   "id": "76ec60a9-85a9-4ad0-a74c-5cd6617900f4",
   "metadata": {
    "editable": true,
    "slideshow": {
     "slide_type": ""
    },
    "tags": []
   },
   "source": [
    "We start by getting the rates from the [JINA ReacLib database](https://reaclib.jinaweb.org/index.php).  This has 80,000+ reaction rates in a standardized format."
   ]
  },
  {
   "cell_type": "code",
   "execution_count": 2,
   "id": "24ef9754-2c09-4e2e-8b9c-0c1cd0a7ccdc",
   "metadata": {
    "editable": true,
    "execution": {
     "iopub.execute_input": "2024-10-10T10:03:23.399962Z",
     "iopub.status.busy": "2024-10-10T10:03:23.399516Z",
     "iopub.status.idle": "2024-10-10T10:03:23.827365Z",
     "shell.execute_reply": "2024-10-10T10:03:23.826753Z"
    },
    "slideshow": {
     "slide_type": ""
    },
    "tags": []
   },
   "outputs": [
    {
     "ename": "RateFileError",
     "evalue": "File 'reaclib_default2_20220329' not found in the working directory, /opt/hostedtoolcache/Python/3.11.10/x64/lib/python3.11/site-packages/pynucastro/rates/library, or /opt/hostedtoolcache/Python/3.11.10/x64/lib/python3.11/site-packages/pynucastro/rates/tabular",
     "output_type": "error",
     "traceback": [
      "\u001b[0;31m---------------------------------------------------------------------------\u001b[0m",
      "\u001b[0;31mRateFileError\u001b[0m                             Traceback (most recent call last)",
      "Cell \u001b[0;32mIn[2], line 1\u001b[0m\n\u001b[0;32m----> 1\u001b[0m rl \u001b[38;5;241m=\u001b[39m \u001b[43mpyna\u001b[49m\u001b[38;5;241;43m.\u001b[39;49m\u001b[43mReacLibLibrary\u001b[49m\u001b[43m(\u001b[49m\u001b[43m)\u001b[49m\n",
      "File \u001b[0;32m/opt/hostedtoolcache/Python/3.11.10/x64/lib/python3.11/site-packages/pynucastro/rates/library.py:698\u001b[0m, in \u001b[0;36mReacLibLibrary.__init__\u001b[0;34m(self)\u001b[0m\n\u001b[1;32m    696\u001b[0m \u001b[38;5;28;01mdef\u001b[39;00m \u001b[38;5;21m__init__\u001b[39m(\u001b[38;5;28mself\u001b[39m):\n\u001b[1;32m    697\u001b[0m     libfile \u001b[38;5;241m=\u001b[39m \u001b[38;5;124m'\u001b[39m\u001b[38;5;124mreaclib_default2_20220329\u001b[39m\u001b[38;5;124m'\u001b[39m\n\u001b[0;32m--> 698\u001b[0m     \u001b[43mLibrary\u001b[49m\u001b[38;5;241;43m.\u001b[39;49m\u001b[38;5;21;43m__init__\u001b[39;49m\u001b[43m(\u001b[49m\u001b[38;5;28;43mself\u001b[39;49m\u001b[43m,\u001b[49m\u001b[43m \u001b[49m\u001b[43mlibfile\u001b[49m\u001b[38;5;241;43m=\u001b[39;49m\u001b[43mlibfile\u001b[49m\u001b[43m)\u001b[49m\n",
      "File \u001b[0;32m/opt/hostedtoolcache/Python/3.11.10/x64/lib/python3.11/site-packages/pynucastro/rates/library.py:141\u001b[0m, in \u001b[0;36mLibrary.__init__\u001b[0;34m(self, libfile, rates)\u001b[0m\n\u001b[1;32m    138\u001b[0m \u001b[38;5;28mself\u001b[39m\u001b[38;5;241m.\u001b[39m_library_source_lines \u001b[38;5;241m=\u001b[39m collections\u001b[38;5;241m.\u001b[39mdeque()\n\u001b[1;32m    140\u001b[0m \u001b[38;5;28;01mif\u001b[39;00m \u001b[38;5;28mself\u001b[39m\u001b[38;5;241m.\u001b[39m_library_file:\n\u001b[0;32m--> 141\u001b[0m     \u001b[38;5;28mself\u001b[39m\u001b[38;5;241m.\u001b[39m_library_file \u001b[38;5;241m=\u001b[39m \u001b[43m_find_rate_file\u001b[49m\u001b[43m(\u001b[49m\u001b[38;5;28;43mself\u001b[39;49m\u001b[38;5;241;43m.\u001b[39;49m\u001b[43m_library_file\u001b[49m\u001b[43m)\u001b[49m\n\u001b[1;32m    142\u001b[0m     \u001b[38;5;28mself\u001b[39m\u001b[38;5;241m.\u001b[39m_read_library_file()\n",
      "File \u001b[0;32m/opt/hostedtoolcache/Python/3.11.10/x64/lib/python3.11/site-packages/pynucastro/rates/rate.py:100\u001b[0m, in \u001b[0;36m_find_rate_file\u001b[0;34m(ratename)\u001b[0m\n\u001b[1;32m     97\u001b[0m         \u001b[38;5;28;01mreturn\u001b[39;00m x\u001b[38;5;241m.\u001b[39mresolve()\n\u001b[1;32m     99\u001b[0m \u001b[38;5;66;03m# notify user we can't find the file\u001b[39;00m\n\u001b[0;32m--> 100\u001b[0m \u001b[38;5;28;01mraise\u001b[39;00m RateFileError(\u001b[38;5;124mf\u001b[39m\u001b[38;5;124m'\u001b[39m\u001b[38;5;124mFile \u001b[39m\u001b[38;5;132;01m{\u001b[39;00mratename\u001b[38;5;132;01m!r}\u001b[39;00m\u001b[38;5;124m not found in the working directory, \u001b[39m\u001b[38;5;132;01m{\u001b[39;00m_pynucastro_rates_dir\u001b[38;5;132;01m}\u001b[39;00m\u001b[38;5;124m, or \u001b[39m\u001b[38;5;132;01m{\u001b[39;00m_pynucastro_tabular_dir\u001b[38;5;132;01m}\u001b[39;00m\u001b[38;5;124m'\u001b[39m)\n",
      "\u001b[0;31mRateFileError\u001b[0m: File 'reaclib_default2_20220329' not found in the working directory, /opt/hostedtoolcache/Python/3.11.10/x64/lib/python3.11/site-packages/pynucastro/rates/library, or /opt/hostedtoolcache/Python/3.11.10/x64/lib/python3.11/site-packages/pynucastro/rates/tabular"
     ]
    }
   ],
   "source": [
    "rl = pyna.ReacLibLibrary()"
   ]
  },
  {
   "cell_type": "markdown",
   "id": "7c7ec974-6ca0-415f-9171-2a4dc2372e54",
   "metadata": {
    "editable": true,
    "slideshow": {
     "slide_type": ""
    },
    "tags": []
   },
   "source": [
    "## Simple p-p chain"
   ]
  },
  {
   "cell_type": "markdown",
   "id": "abc5b041-cddd-440a-8e30-06adbc1db3e6",
   "metadata": {
    "editable": true,
    "slideshow": {
     "slide_type": ""
    },
    "tags": []
   },
   "source": [
    "We'll focus on the main [p-p chain](https://en.wikipedia.org/wiki/Proton%E2%80%93proton_chain)  and get the 3 rates involved in that."
   ]
  },
  {
   "cell_type": "code",
   "execution_count": 3,
   "id": "44519778-cf24-4470-be19-03a5bfe23a46",
   "metadata": {
    "editable": true,
    "execution": {
     "iopub.execute_input": "2024-10-10T10:03:23.829528Z",
     "iopub.status.busy": "2024-10-10T10:03:23.829182Z",
     "iopub.status.idle": "2024-10-10T10:03:23.842511Z",
     "shell.execute_reply": "2024-10-10T10:03:23.841954Z"
    },
    "slideshow": {
     "slide_type": ""
    },
    "tags": []
   },
   "outputs": [
    {
     "ename": "NameError",
     "evalue": "name 'rl' is not defined",
     "output_type": "error",
     "traceback": [
      "\u001b[0;31m---------------------------------------------------------------------------\u001b[0m",
      "\u001b[0;31mNameError\u001b[0m                                 Traceback (most recent call last)",
      "Cell \u001b[0;32mIn[3], line 4\u001b[0m\n\u001b[1;32m      1\u001b[0m pp_rates \u001b[38;5;241m=\u001b[39m [\u001b[38;5;124m\"\u001b[39m\u001b[38;5;124mp(p,)d\u001b[39m\u001b[38;5;124m\"\u001b[39m,\n\u001b[1;32m      2\u001b[0m             \u001b[38;5;124m\"\u001b[39m\u001b[38;5;124md(p,g)he3\u001b[39m\u001b[38;5;124m\"\u001b[39m,\n\u001b[1;32m      3\u001b[0m             \u001b[38;5;124m\"\u001b[39m\u001b[38;5;124mhe3(he3,pp)he4\u001b[39m\u001b[38;5;124m\"\u001b[39m]\n\u001b[0;32m----> 4\u001b[0m rates \u001b[38;5;241m=\u001b[39m \u001b[43mrl\u001b[49m\u001b[38;5;241m.\u001b[39mget_rate_by_name(pp_rates)\n",
      "\u001b[0;31mNameError\u001b[0m: name 'rl' is not defined"
     ]
    }
   ],
   "source": [
    "pp_rates = [\"p(p,)d\",\n",
    "            \"d(p,g)he3\",\n",
    "            \"he3(he3,pp)he4\"]\n",
    "rates = rl.get_rate_by_name(pp_rates)"
   ]
  },
  {
   "cell_type": "markdown",
   "id": "6e1388f5-87c1-4340-83c3-101402ba10e2",
   "metadata": {
    "editable": true,
    "slideshow": {
     "slide_type": ""
    },
    "tags": []
   },
   "source": [
    "We can look at which rates it pulled in:"
   ]
  },
  {
   "cell_type": "code",
   "execution_count": 4,
   "id": "8472660f-65c8-4acb-babb-3b3ba08f80ed",
   "metadata": {
    "editable": true,
    "execution": {
     "iopub.execute_input": "2024-10-10T10:03:23.844449Z",
     "iopub.status.busy": "2024-10-10T10:03:23.843995Z",
     "iopub.status.idle": "2024-10-10T10:03:23.857979Z",
     "shell.execute_reply": "2024-10-10T10:03:23.857496Z"
    },
    "slideshow": {
     "slide_type": ""
    },
    "tags": []
   },
   "outputs": [
    {
     "ename": "NameError",
     "evalue": "name 'rates' is not defined",
     "output_type": "error",
     "traceback": [
      "\u001b[0;31m---------------------------------------------------------------------------\u001b[0m",
      "\u001b[0;31mNameError\u001b[0m                                 Traceback (most recent call last)",
      "Cell \u001b[0;32mIn[4], line 1\u001b[0m\n\u001b[0;32m----> 1\u001b[0m \u001b[38;5;28;01mfor\u001b[39;00m r \u001b[38;5;129;01min\u001b[39;00m \u001b[43mrates\u001b[49m:\n\u001b[1;32m      2\u001b[0m     \u001b[38;5;28mprint\u001b[39m(r)\n",
      "\u001b[0;31mNameError\u001b[0m: name 'rates' is not defined"
     ]
    }
   ],
   "source": [
    "for r in rates:\n",
    "    print(r)"
   ]
  },
  {
   "cell_type": "markdown",
   "id": "c4220310-4721-4db7-9a9a-720a34350555",
   "metadata": {
    "editable": true,
    "slideshow": {
     "slide_type": ""
    },
    "tags": []
   },
   "source": [
    "Note that ReacLib actually splits the p+p rate into two.  We will add them together."
   ]
  },
  {
   "cell_type": "markdown",
   "id": "89e37d27-9318-438b-9041-e2afeb90a477",
   "metadata": {
    "editable": true,
    "slideshow": {
     "slide_type": ""
    },
    "tags": []
   },
   "source": [
    "We can look at the temperature dependence of one of these rates"
   ]
  },
  {
   "cell_type": "code",
   "execution_count": 5,
   "id": "a2b252bc-0ee6-4e54-9411-fd1d7622d338",
   "metadata": {
    "editable": true,
    "execution": {
     "iopub.execute_input": "2024-10-10T10:03:23.859853Z",
     "iopub.status.busy": "2024-10-10T10:03:23.859538Z",
     "iopub.status.idle": "2024-10-10T10:03:23.872744Z",
     "shell.execute_reply": "2024-10-10T10:03:23.872177Z"
    },
    "slideshow": {
     "slide_type": ""
    },
    "tags": []
   },
   "outputs": [
    {
     "ename": "NameError",
     "evalue": "name 'rates' is not defined",
     "output_type": "error",
     "traceback": [
      "\u001b[0;31m---------------------------------------------------------------------------\u001b[0m",
      "\u001b[0;31mNameError\u001b[0m                                 Traceback (most recent call last)",
      "Cell \u001b[0;32mIn[5], line 1\u001b[0m\n\u001b[0;32m----> 1\u001b[0m r \u001b[38;5;241m=\u001b[39m \u001b[43mrates\u001b[49m[\u001b[38;5;241m0\u001b[39m]\n\u001b[1;32m      2\u001b[0m fig \u001b[38;5;241m=\u001b[39m r\u001b[38;5;241m.\u001b[39mplot(Tmin\u001b[38;5;241m=\u001b[39m\u001b[38;5;241m1.e7\u001b[39m, Tmax\u001b[38;5;241m=\u001b[39m\u001b[38;5;241m1.e8\u001b[39m)\n",
      "\u001b[0;31mNameError\u001b[0m: name 'rates' is not defined"
     ]
    }
   ],
   "source": [
    "r = rates[0]\n",
    "fig = r.plot(Tmin=1.e7, Tmax=1.e8)"
   ]
  },
  {
   "cell_type": "markdown",
   "id": "66dc264d-6ed8-409e-8811-233a3c2fb871",
   "metadata": {
    "editable": true,
    "slideshow": {
     "slide_type": ""
    },
    "tags": []
   },
   "source": [
    "We see that it is very temperature dependent"
   ]
  },
  {
   "cell_type": "markdown",
   "id": "c3a9e2aa-e5c1-495a-87a0-b001cb9fd2d6",
   "metadata": {
    "editable": true,
    "slideshow": {
     "slide_type": ""
    },
    "tags": []
   },
   "source": [
    "Next we build our network (we'll use a `RateCollection`) with these rates"
   ]
  },
  {
   "cell_type": "code",
   "execution_count": 6,
   "id": "bd17d757-4d6d-4dbc-90bb-d8753c62c427",
   "metadata": {
    "editable": true,
    "execution": {
     "iopub.execute_input": "2024-10-10T10:03:23.874787Z",
     "iopub.status.busy": "2024-10-10T10:03:23.874385Z",
     "iopub.status.idle": "2024-10-10T10:03:23.886990Z",
     "shell.execute_reply": "2024-10-10T10:03:23.886530Z"
    },
    "slideshow": {
     "slide_type": ""
    },
    "tags": []
   },
   "outputs": [
    {
     "ename": "NameError",
     "evalue": "name 'rates' is not defined",
     "output_type": "error",
     "traceback": [
      "\u001b[0;31m---------------------------------------------------------------------------\u001b[0m",
      "\u001b[0;31mNameError\u001b[0m                                 Traceback (most recent call last)",
      "Cell \u001b[0;32mIn[6], line 1\u001b[0m\n\u001b[0;32m----> 1\u001b[0m net_pp \u001b[38;5;241m=\u001b[39m pyna\u001b[38;5;241m.\u001b[39mRateCollection(rates\u001b[38;5;241m=\u001b[39m\u001b[43mrates\u001b[49m)\n",
      "\u001b[0;31mNameError\u001b[0m: name 'rates' is not defined"
     ]
    }
   ],
   "source": [
    "net_pp = pyna.RateCollection(rates=rates)"
   ]
  },
  {
   "cell_type": "markdown",
   "id": "1f72a781-81cb-4964-b7f3-8e79d57492e6",
   "metadata": {
    "editable": true,
    "slideshow": {
     "slide_type": ""
    },
    "tags": []
   },
   "source": [
    "We can create a thermodynamic state approximating the center of the Sun and evaluate the rates"
   ]
  },
  {
   "cell_type": "code",
   "execution_count": 7,
   "id": "aa9d0b67-d834-41fc-befb-78e19b9b4ed8",
   "metadata": {
    "editable": true,
    "execution": {
     "iopub.execute_input": "2024-10-10T10:03:23.888999Z",
     "iopub.status.busy": "2024-10-10T10:03:23.888539Z",
     "iopub.status.idle": "2024-10-10T10:03:23.901797Z",
     "shell.execute_reply": "2024-10-10T10:03:23.901341Z"
    },
    "slideshow": {
     "slide_type": ""
    },
    "tags": []
   },
   "outputs": [
    {
     "ename": "NameError",
     "evalue": "name 'net_pp' is not defined",
     "output_type": "error",
     "traceback": [
      "\u001b[0;31m---------------------------------------------------------------------------\u001b[0m",
      "\u001b[0;31mNameError\u001b[0m                                 Traceback (most recent call last)",
      "Cell \u001b[0;32mIn[7], line 3\u001b[0m\n\u001b[1;32m      1\u001b[0m T \u001b[38;5;241m=\u001b[39m \u001b[38;5;241m1.5e7\u001b[39m\n\u001b[1;32m      2\u001b[0m rho \u001b[38;5;241m=\u001b[39m \u001b[38;5;241m150\u001b[39m\n\u001b[0;32m----> 3\u001b[0m comp \u001b[38;5;241m=\u001b[39m pyna\u001b[38;5;241m.\u001b[39mComposition(\u001b[43mnet_pp\u001b[49m\u001b[38;5;241m.\u001b[39munique_nuclei)\n\u001b[1;32m      4\u001b[0m comp\u001b[38;5;241m.\u001b[39mset_solar_like()\n",
      "\u001b[0;31mNameError\u001b[0m: name 'net_pp' is not defined"
     ]
    }
   ],
   "source": [
    "T = 1.5e7\n",
    "rho = 150\n",
    "comp = pyna.Composition(net_pp.unique_nuclei)\n",
    "comp.set_solar_like()"
   ]
  },
  {
   "cell_type": "code",
   "execution_count": 8,
   "id": "1203ecc6-7ede-420e-828f-dbcfa09194f4",
   "metadata": {
    "editable": true,
    "execution": {
     "iopub.execute_input": "2024-10-10T10:03:23.903558Z",
     "iopub.status.busy": "2024-10-10T10:03:23.903222Z",
     "iopub.status.idle": "2024-10-10T10:03:23.915716Z",
     "shell.execute_reply": "2024-10-10T10:03:23.915140Z"
    },
    "slideshow": {
     "slide_type": ""
    },
    "tags": []
   },
   "outputs": [
    {
     "ename": "NameError",
     "evalue": "name 'net_pp' is not defined",
     "output_type": "error",
     "traceback": [
      "\u001b[0;31m---------------------------------------------------------------------------\u001b[0m",
      "\u001b[0;31mNameError\u001b[0m                                 Traceback (most recent call last)",
      "Cell \u001b[0;32mIn[8], line 1\u001b[0m\n\u001b[0;32m----> 1\u001b[0m \u001b[43mnet_pp\u001b[49m\u001b[38;5;241m.\u001b[39mevaluate_rates(rho, T, comp)\n",
      "\u001b[0;31mNameError\u001b[0m: name 'net_pp' is not defined"
     ]
    }
   ],
   "source": [
    "net_pp.evaluate_rates(rho, T, comp)"
   ]
  },
  {
   "cell_type": "markdown",
   "id": "0cc7109e-469b-4969-ad7c-36eb1d15a844",
   "metadata": {
    "editable": true,
    "slideshow": {
     "slide_type": ""
    },
    "tags": []
   },
   "source": [
    "We see from this that the first reaction, p + p, is by far the slowest."
   ]
  },
  {
   "cell_type": "code",
   "execution_count": 9,
   "id": "574849fc-e582-4692-ae1f-c209ac266a6c",
   "metadata": {
    "editable": true,
    "execution": {
     "iopub.execute_input": "2024-10-10T10:03:23.917581Z",
     "iopub.status.busy": "2024-10-10T10:03:23.917169Z",
     "iopub.status.idle": "2024-10-10T10:03:23.929739Z",
     "shell.execute_reply": "2024-10-10T10:03:23.929280Z"
    },
    "slideshow": {
     "slide_type": ""
    },
    "tags": []
   },
   "outputs": [
    {
     "ename": "NameError",
     "evalue": "name 'net_pp' is not defined",
     "output_type": "error",
     "traceback": [
      "\u001b[0;31m---------------------------------------------------------------------------\u001b[0m",
      "\u001b[0;31mNameError\u001b[0m                                 Traceback (most recent call last)",
      "Cell \u001b[0;32mIn[9], line 1\u001b[0m\n\u001b[0;32m----> 1\u001b[0m fig \u001b[38;5;241m=\u001b[39m \u001b[43mnet_pp\u001b[49m\u001b[38;5;241m.\u001b[39mplot(rho\u001b[38;5;241m=\u001b[39mrho, T\u001b[38;5;241m=\u001b[39mT, comp\u001b[38;5;241m=\u001b[39mcomp, hide_xp\u001b[38;5;241m=\u001b[39m\u001b[38;5;28;01mTrue\u001b[39;00m, always_show_alpha\u001b[38;5;241m=\u001b[39m\u001b[38;5;28;01mTrue\u001b[39;00m)\n",
      "\u001b[0;31mNameError\u001b[0m: name 'net_pp' is not defined"
     ]
    }
   ],
   "source": [
    "fig = net_pp.plot(rho=rho, T=T, comp=comp, hide_xp=True, always_show_alpha=True)"
   ]
  },
  {
   "cell_type": "markdown",
   "id": "27c0137f-09ad-4b27-9f40-2e16acdcfeb1",
   "metadata": {
    "editable": true,
    "slideshow": {
     "slide_type": ""
    },
    "tags": []
   },
   "source": [
    "We can therefore approximate the p-p chain based on the slowest rate.  If we express the rate as:\n",
    "\n",
    "$$r = r_0 \\left (\\frac{T}{T_0}\\right )^\\nu$$\n",
    "\n",
    "then we can find the exponent $\\nu$ about some temperature $T_0$"
   ]
  },
  {
   "cell_type": "code",
   "execution_count": 10,
   "id": "468ca687-0142-4675-bc5c-0e657124cb5b",
   "metadata": {
    "editable": true,
    "execution": {
     "iopub.execute_input": "2024-10-10T10:03:23.931548Z",
     "iopub.status.busy": "2024-10-10T10:03:23.931180Z",
     "iopub.status.idle": "2024-10-10T10:03:23.943679Z",
     "shell.execute_reply": "2024-10-10T10:03:23.943203Z"
    },
    "slideshow": {
     "slide_type": ""
    },
    "tags": []
   },
   "outputs": [
    {
     "ename": "NameError",
     "evalue": "name 'net_pp' is not defined",
     "output_type": "error",
     "traceback": [
      "\u001b[0;31m---------------------------------------------------------------------------\u001b[0m",
      "\u001b[0;31mNameError\u001b[0m                                 Traceback (most recent call last)",
      "Cell \u001b[0;32mIn[10], line 1\u001b[0m\n\u001b[0;32m----> 1\u001b[0m r_pp \u001b[38;5;241m=\u001b[39m \u001b[43mnet_pp\u001b[49m\u001b[38;5;241m.\u001b[39mget_rate_by_name(\u001b[38;5;124m\"\u001b[39m\u001b[38;5;124mp(p,)d\u001b[39m\u001b[38;5;124m\"\u001b[39m)[\u001b[38;5;241m0\u001b[39m]\n\u001b[1;32m      2\u001b[0m T0 \u001b[38;5;241m=\u001b[39m \u001b[38;5;241m1.5e7\u001b[39m\n\u001b[1;32m      3\u001b[0m r_pp\u001b[38;5;241m.\u001b[39mget_rate_exponent(T0)\n",
      "\u001b[0;31mNameError\u001b[0m: name 'net_pp' is not defined"
     ]
    }
   ],
   "source": [
    "r_pp = net_pp.get_rate_by_name(\"p(p,)d\")[0]\n",
    "T0 = 1.5e7\n",
    "r_pp.get_rate_exponent(T0)"
   ]
  },
  {
   "cell_type": "markdown",
   "id": "83c1c5d4-4ef6-4266-8ba3-fac743e3ecf8",
   "metadata": {
    "editable": true,
    "slideshow": {
     "slide_type": ""
    },
    "tags": []
   },
   "source": [
    "Around the conditions in the Sun, the p-p chain has a temperature dependence of $\\sim T^4$"
   ]
  },
  {
   "cell_type": "markdown",
   "id": "8ef97388-64a1-451c-8fe2-887e0e252a91",
   "metadata": {
    "editable": true,
    "slideshow": {
     "slide_type": ""
    },
    "tags": []
   },
   "source": [
    "## CNO"
   ]
  },
  {
   "cell_type": "markdown",
   "id": "f6274f49-a625-4c50-90ab-2fec48243583",
   "metadata": {
    "editable": true,
    "slideshow": {
     "slide_type": ""
    },
    "tags": []
   },
   "source": [
    "Now we consider the main CNO cycle.  This involves 6 rates"
   ]
  },
  {
   "cell_type": "code",
   "execution_count": 11,
   "id": "fa39157e-5bb4-40a6-85ce-e97bb280d902",
   "metadata": {
    "editable": true,
    "execution": {
     "iopub.execute_input": "2024-10-10T10:03:23.945467Z",
     "iopub.status.busy": "2024-10-10T10:03:23.945148Z",
     "iopub.status.idle": "2024-10-10T10:03:23.958859Z",
     "shell.execute_reply": "2024-10-10T10:03:23.958387Z"
    },
    "slideshow": {
     "slide_type": ""
    },
    "tags": []
   },
   "outputs": [
    {
     "ename": "NameError",
     "evalue": "name 'rl' is not defined",
     "output_type": "error",
     "traceback": [
      "\u001b[0;31m---------------------------------------------------------------------------\u001b[0m",
      "\u001b[0;31mNameError\u001b[0m                                 Traceback (most recent call last)",
      "Cell \u001b[0;32mIn[11], line 7\u001b[0m\n\u001b[1;32m      1\u001b[0m cno_rates \u001b[38;5;241m=\u001b[39m [\u001b[38;5;124m\"\u001b[39m\u001b[38;5;124mc12(p,g)n13\u001b[39m\u001b[38;5;124m\"\u001b[39m,\n\u001b[1;32m      2\u001b[0m              \u001b[38;5;124m\"\u001b[39m\u001b[38;5;124mc13(p,g)n14\u001b[39m\u001b[38;5;124m\"\u001b[39m,\n\u001b[1;32m      3\u001b[0m              \u001b[38;5;124m\"\u001b[39m\u001b[38;5;124mn13(,)c13\u001b[39m\u001b[38;5;124m\"\u001b[39m,\n\u001b[1;32m      4\u001b[0m              \u001b[38;5;124m\"\u001b[39m\u001b[38;5;124mn14(p,g)o15\u001b[39m\u001b[38;5;124m\"\u001b[39m,\n\u001b[1;32m      5\u001b[0m              \u001b[38;5;124m\"\u001b[39m\u001b[38;5;124mn15(p,a)c12\u001b[39m\u001b[38;5;124m\"\u001b[39m,\n\u001b[1;32m      6\u001b[0m              \u001b[38;5;124m\"\u001b[39m\u001b[38;5;124mo15(,)n15\u001b[39m\u001b[38;5;124m\"\u001b[39m]\n\u001b[0;32m----> 7\u001b[0m rates \u001b[38;5;241m=\u001b[39m \u001b[43mrl\u001b[49m\u001b[38;5;241m.\u001b[39mget_rate_by_name(cno_rates)\n",
      "\u001b[0;31mNameError\u001b[0m: name 'rl' is not defined"
     ]
    }
   ],
   "source": [
    "cno_rates = [\"c12(p,g)n13\",\n",
    "             \"c13(p,g)n14\",\n",
    "             \"n13(,)c13\",\n",
    "             \"n14(p,g)o15\",\n",
    "             \"n15(p,a)c12\",\n",
    "             \"o15(,)n15\"]\n",
    "rates = rl.get_rate_by_name(cno_rates)"
   ]
  },
  {
   "cell_type": "code",
   "execution_count": 12,
   "id": "5be5af1a-0691-47c5-b56a-cb06ec9a1e72",
   "metadata": {
    "editable": true,
    "execution": {
     "iopub.execute_input": "2024-10-10T10:03:23.960412Z",
     "iopub.status.busy": "2024-10-10T10:03:23.960246Z",
     "iopub.status.idle": "2024-10-10T10:03:23.972170Z",
     "shell.execute_reply": "2024-10-10T10:03:23.971594Z"
    },
    "slideshow": {
     "slide_type": ""
    },
    "tags": []
   },
   "outputs": [
    {
     "ename": "NameError",
     "evalue": "name 'rates' is not defined",
     "output_type": "error",
     "traceback": [
      "\u001b[0;31m---------------------------------------------------------------------------\u001b[0m",
      "\u001b[0;31mNameError\u001b[0m                                 Traceback (most recent call last)",
      "Cell \u001b[0;32mIn[12], line 1\u001b[0m\n\u001b[0;32m----> 1\u001b[0m \u001b[38;5;28;01mfor\u001b[39;00m r \u001b[38;5;129;01min\u001b[39;00m \u001b[43mrates\u001b[49m:\n\u001b[1;32m      2\u001b[0m     \u001b[38;5;28mprint\u001b[39m(r)\n",
      "\u001b[0;31mNameError\u001b[0m: name 'rates' is not defined"
     ]
    }
   ],
   "source": [
    "for r in rates:\n",
    "    print(r)"
   ]
  },
  {
   "cell_type": "code",
   "execution_count": 13,
   "id": "306cf8b5-9f91-4044-b4fe-50c414058be3",
   "metadata": {
    "editable": true,
    "execution": {
     "iopub.execute_input": "2024-10-10T10:03:23.973955Z",
     "iopub.status.busy": "2024-10-10T10:03:23.973624Z",
     "iopub.status.idle": "2024-10-10T10:03:23.986287Z",
     "shell.execute_reply": "2024-10-10T10:03:23.985706Z"
    },
    "slideshow": {
     "slide_type": ""
    },
    "tags": []
   },
   "outputs": [
    {
     "ename": "NameError",
     "evalue": "name 'rates' is not defined",
     "output_type": "error",
     "traceback": [
      "\u001b[0;31m---------------------------------------------------------------------------\u001b[0m",
      "\u001b[0;31mNameError\u001b[0m                                 Traceback (most recent call last)",
      "Cell \u001b[0;32mIn[13], line 1\u001b[0m\n\u001b[0;32m----> 1\u001b[0m net_cno \u001b[38;5;241m=\u001b[39m pyna\u001b[38;5;241m.\u001b[39mRateCollection(rates\u001b[38;5;241m=\u001b[39m\u001b[43mrates\u001b[49m)\n",
      "\u001b[0;31mNameError\u001b[0m: name 'rates' is not defined"
     ]
    }
   ],
   "source": [
    "net_cno = pyna.RateCollection(rates=rates)"
   ]
  },
  {
   "cell_type": "code",
   "execution_count": 14,
   "id": "f4ea2504-67ce-4d3a-be86-d8631b113c21",
   "metadata": {
    "editable": true,
    "execution": {
     "iopub.execute_input": "2024-10-10T10:03:23.988038Z",
     "iopub.status.busy": "2024-10-10T10:03:23.987767Z",
     "iopub.status.idle": "2024-10-10T10:03:24.000252Z",
     "shell.execute_reply": "2024-10-10T10:03:23.999699Z"
    },
    "slideshow": {
     "slide_type": ""
    },
    "tags": []
   },
   "outputs": [
    {
     "ename": "NameError",
     "evalue": "name 'net_cno' is not defined",
     "output_type": "error",
     "traceback": [
      "\u001b[0;31m---------------------------------------------------------------------------\u001b[0m",
      "\u001b[0;31mNameError\u001b[0m                                 Traceback (most recent call last)",
      "Cell \u001b[0;32mIn[14], line 1\u001b[0m\n\u001b[0;32m----> 1\u001b[0m comp \u001b[38;5;241m=\u001b[39m pyna\u001b[38;5;241m.\u001b[39mComposition(\u001b[43mnet_cno\u001b[49m\u001b[38;5;241m.\u001b[39munique_nuclei)\n\u001b[1;32m      2\u001b[0m comp\u001b[38;5;241m.\u001b[39mset_solar_like()\n",
      "\u001b[0;31mNameError\u001b[0m: name 'net_cno' is not defined"
     ]
    }
   ],
   "source": [
    "comp = pyna.Composition(net_cno.unique_nuclei)\n",
    "comp.set_solar_like()"
   ]
  },
  {
   "cell_type": "markdown",
   "id": "0be3ed01-bd5e-4699-8b77-6a5ece4726f5",
   "metadata": {
    "editable": true,
    "slideshow": {
     "slide_type": ""
    },
    "tags": []
   },
   "source": [
    "Again we can look evaluate each of the rates:"
   ]
  },
  {
   "cell_type": "code",
   "execution_count": 15,
   "id": "5913fed9-8ff3-4226-a573-2a67d808061a",
   "metadata": {
    "editable": true,
    "execution": {
     "iopub.execute_input": "2024-10-10T10:03:24.002014Z",
     "iopub.status.busy": "2024-10-10T10:03:24.001710Z",
     "iopub.status.idle": "2024-10-10T10:03:24.014343Z",
     "shell.execute_reply": "2024-10-10T10:03:24.013894Z"
    },
    "slideshow": {
     "slide_type": ""
    },
    "tags": []
   },
   "outputs": [
    {
     "ename": "NameError",
     "evalue": "name 'net_cno' is not defined",
     "output_type": "error",
     "traceback": [
      "\u001b[0;31m---------------------------------------------------------------------------\u001b[0m",
      "\u001b[0;31mNameError\u001b[0m                                 Traceback (most recent call last)",
      "Cell \u001b[0;32mIn[15], line 1\u001b[0m\n\u001b[0;32m----> 1\u001b[0m \u001b[43mnet_cno\u001b[49m\u001b[38;5;241m.\u001b[39mevaluate_rates(rho, T, comp)\n",
      "\u001b[0;31mNameError\u001b[0m: name 'net_cno' is not defined"
     ]
    }
   ],
   "source": [
    "net_cno.evaluate_rates(rho, T, comp)"
   ]
  },
  {
   "cell_type": "markdown",
   "id": "560d2d37-ad59-41b3-b046-cb70136f2a10",
   "metadata": {
    "editable": true,
    "slideshow": {
     "slide_type": ""
    },
    "tags": []
   },
   "source": [
    "Now we see that the ${}^{14}\\mathrm{N}(p,\\gamma){}^{15}\\mathrm{O}$ rate is the slowest."
   ]
  },
  {
   "cell_type": "code",
   "execution_count": 16,
   "id": "6dca6b1d-886b-47ac-83aa-1d3690f9a858",
   "metadata": {
    "editable": true,
    "execution": {
     "iopub.execute_input": "2024-10-10T10:03:24.016113Z",
     "iopub.status.busy": "2024-10-10T10:03:24.015780Z",
     "iopub.status.idle": "2024-10-10T10:03:24.027968Z",
     "shell.execute_reply": "2024-10-10T10:03:24.027497Z"
    },
    "slideshow": {
     "slide_type": ""
    },
    "tags": []
   },
   "outputs": [
    {
     "ename": "NameError",
     "evalue": "name 'net_cno' is not defined",
     "output_type": "error",
     "traceback": [
      "\u001b[0;31m---------------------------------------------------------------------------\u001b[0m",
      "\u001b[0;31mNameError\u001b[0m                                 Traceback (most recent call last)",
      "Cell \u001b[0;32mIn[16], line 1\u001b[0m\n\u001b[0;32m----> 1\u001b[0m r_cno \u001b[38;5;241m=\u001b[39m \u001b[43mnet_cno\u001b[49m\u001b[38;5;241m.\u001b[39mget_rate_by_name(\u001b[38;5;124m\"\u001b[39m\u001b[38;5;124mn14(p,g)o15\u001b[39m\u001b[38;5;124m\"\u001b[39m)\n",
      "\u001b[0;31mNameError\u001b[0m: name 'net_cno' is not defined"
     ]
    }
   ],
   "source": [
    "r_cno = net_cno.get_rate_by_name(\"n14(p,g)o15\")"
   ]
  },
  {
   "cell_type": "markdown",
   "id": "73d926fc-d9ff-4f5f-afa4-5f15cb879128",
   "metadata": {
    "editable": true,
    "slideshow": {
     "slide_type": ""
    },
    "tags": []
   },
   "source": [
    "This is a much steeper function of temperature.  Let's explore the temperature dependence around a few points"
   ]
  },
  {
   "cell_type": "code",
   "execution_count": 17,
   "id": "b29279a6-84ae-45d1-b9dc-dd0aebf3af76",
   "metadata": {
    "editable": true,
    "execution": {
     "iopub.execute_input": "2024-10-10T10:03:24.029737Z",
     "iopub.status.busy": "2024-10-10T10:03:24.029442Z",
     "iopub.status.idle": "2024-10-10T10:03:24.042614Z",
     "shell.execute_reply": "2024-10-10T10:03:24.042066Z"
    },
    "slideshow": {
     "slide_type": ""
    },
    "tags": []
   },
   "outputs": [
    {
     "ename": "NameError",
     "evalue": "name 'r_cno' is not defined",
     "output_type": "error",
     "traceback": [
      "\u001b[0;31m---------------------------------------------------------------------------\u001b[0m",
      "\u001b[0;31mNameError\u001b[0m                                 Traceback (most recent call last)",
      "Cell \u001b[0;32mIn[17], line 2\u001b[0m\n\u001b[1;32m      1\u001b[0m \u001b[38;5;28;01mfor\u001b[39;00m T \u001b[38;5;129;01min\u001b[39;00m [\u001b[38;5;241m1.e7\u001b[39m, \u001b[38;5;241m2.e7\u001b[39m, \u001b[38;5;241m3.e7\u001b[39m, \u001b[38;5;241m4.e7\u001b[39m]:\n\u001b[0;32m----> 2\u001b[0m     \u001b[38;5;28mprint\u001b[39m(\u001b[38;5;124mf\u001b[39m\u001b[38;5;124m\"\u001b[39m\u001b[38;5;124mT = \u001b[39m\u001b[38;5;132;01m{\u001b[39;00mT\u001b[38;5;132;01m}\u001b[39;00m\u001b[38;5;124m, nu = \u001b[39m\u001b[38;5;132;01m{\u001b[39;00m\u001b[43mr_cno\u001b[49m\u001b[38;5;241m.\u001b[39mget_rate_exponent(T)\u001b[38;5;132;01m:\u001b[39;00m\u001b[38;5;124m8.5f\u001b[39m\u001b[38;5;132;01m}\u001b[39;00m\u001b[38;5;124m\"\u001b[39m)\n",
      "\u001b[0;31mNameError\u001b[0m: name 'r_cno' is not defined"
     ]
    }
   ],
   "source": [
    "for T in [1.e7, 2.e7, 3.e7, 4.e7]:\n",
    "    print(f\"T = {T}, nu = {r_cno.get_rate_exponent(T):8.5f}\")"
   ]
  },
  {
   "cell_type": "markdown",
   "id": "76a326bc-e55a-42d6-ad07-e68f48129b7f",
   "metadata": {
    "editable": true,
    "slideshow": {
     "slide_type": ""
    },
    "tags": []
   },
   "source": [
    "So it varies from $T^{23}$ to $T^{14}$ in a temperature range that includes the Sun's core."
   ]
  },
  {
   "cell_type": "markdown",
   "id": "1a5ae341-bbb1-4eb1-ad62-3806f560cea6",
   "metadata": {
    "editable": true,
    "slideshow": {
     "slide_type": ""
    },
    "tags": []
   },
   "source": [
    "Here's what the CNO cycle looks like"
   ]
  },
  {
   "cell_type": "code",
   "execution_count": 18,
   "id": "ddb4a829-5906-42c6-8445-2b00393dc68d",
   "metadata": {
    "editable": true,
    "execution": {
     "iopub.execute_input": "2024-10-10T10:03:24.044414Z",
     "iopub.status.busy": "2024-10-10T10:03:24.044122Z",
     "iopub.status.idle": "2024-10-10T10:03:24.057691Z",
     "shell.execute_reply": "2024-10-10T10:03:24.057153Z"
    },
    "slideshow": {
     "slide_type": ""
    },
    "tags": []
   },
   "outputs": [
    {
     "ename": "NameError",
     "evalue": "name 'net_cno' is not defined",
     "output_type": "error",
     "traceback": [
      "\u001b[0;31m---------------------------------------------------------------------------\u001b[0m",
      "\u001b[0;31mNameError\u001b[0m                                 Traceback (most recent call last)",
      "Cell \u001b[0;32mIn[18], line 1\u001b[0m\n\u001b[0;32m----> 1\u001b[0m fig \u001b[38;5;241m=\u001b[39m \u001b[43mnet_cno\u001b[49m\u001b[38;5;241m.\u001b[39mplot(rho\u001b[38;5;241m=\u001b[39mrho, T\u001b[38;5;241m=\u001b[39mT, comp\u001b[38;5;241m=\u001b[39mcomp, hide_xp\u001b[38;5;241m=\u001b[39m\u001b[38;5;28;01mTrue\u001b[39;00m)\n",
      "\u001b[0;31mNameError\u001b[0m: name 'net_cno' is not defined"
     ]
    }
   ],
   "source": [
    "fig = net_cno.plot(rho=rho, T=T, comp=comp, hide_xp=True)"
   ]
  },
  {
   "cell_type": "markdown",
   "id": "29ad187a-66c9-469c-b7ac-786c7716f314",
   "metadata": {
    "editable": true,
    "slideshow": {
     "slide_type": ""
    },
    "tags": []
   },
   "source": [
    "## Comparing p-p vs. CNO"
   ]
  },
  {
   "cell_type": "markdown",
   "id": "6852f9f1-f2c9-4279-8610-7e323c3e498e",
   "metadata": {
    "editable": true,
    "slideshow": {
     "slide_type": ""
    },
    "tags": []
   },
   "source": [
    "The temperature dependence suggests that if the temperature were a little higher, then CNO would go faster then p-p.  We can plot the two rate-limiting rates on the same axes"
   ]
  },
  {
   "cell_type": "code",
   "execution_count": 19,
   "id": "824f8eab-c6c0-4ead-aa93-3415e031eb92",
   "metadata": {
    "editable": true,
    "execution": {
     "iopub.execute_input": "2024-10-10T10:03:24.059629Z",
     "iopub.status.busy": "2024-10-10T10:03:24.059313Z",
     "iopub.status.idle": "2024-10-10T10:03:24.061971Z",
     "shell.execute_reply": "2024-10-10T10:03:24.061449Z"
    },
    "slideshow": {
     "slide_type": ""
    },
    "tags": []
   },
   "outputs": [],
   "source": [
    "import numpy as np\n",
    "import matplotlib.pyplot as plt"
   ]
  },
  {
   "cell_type": "code",
   "execution_count": 20,
   "id": "77090117-7298-4b08-a756-2b16d51c580d",
   "metadata": {
    "editable": true,
    "execution": {
     "iopub.execute_input": "2024-10-10T10:03:24.063565Z",
     "iopub.status.busy": "2024-10-10T10:03:24.063256Z",
     "iopub.status.idle": "2024-10-10T10:03:24.066057Z",
     "shell.execute_reply": "2024-10-10T10:03:24.065524Z"
    },
    "slideshow": {
     "slide_type": ""
    },
    "tags": []
   },
   "outputs": [],
   "source": [
    "Ts = np.logspace(6.8, 8, 50)"
   ]
  },
  {
   "cell_type": "code",
   "execution_count": 21,
   "id": "fe304915-db95-485f-983c-114f4f7af2a8",
   "metadata": {
    "editable": true,
    "execution": {
     "iopub.execute_input": "2024-10-10T10:03:24.067910Z",
     "iopub.status.busy": "2024-10-10T10:03:24.067513Z",
     "iopub.status.idle": "2024-10-10T10:03:24.169781Z",
     "shell.execute_reply": "2024-10-10T10:03:24.169302Z"
    },
    "slideshow": {
     "slide_type": ""
    },
    "tags": [
     "nbval-ignore-output"
    ]
   },
   "outputs": [
    {
     "ename": "NameError",
     "evalue": "name 'r_pp' is not defined",
     "output_type": "error",
     "traceback": [
      "\u001b[0;31m---------------------------------------------------------------------------\u001b[0m",
      "\u001b[0;31mNameError\u001b[0m                                 Traceback (most recent call last)",
      "Cell \u001b[0;32mIn[21], line 3\u001b[0m\n\u001b[1;32m      1\u001b[0m fig, ax \u001b[38;5;241m=\u001b[39m plt\u001b[38;5;241m.\u001b[39msubplots()\n\u001b[0;32m----> 3\u001b[0m ax\u001b[38;5;241m.\u001b[39mloglog(Ts, \u001b[43m[\u001b[49m\u001b[43mr_pp\u001b[49m\u001b[38;5;241;43m.\u001b[39;49m\u001b[43meval\u001b[49m\u001b[43m(\u001b[49m\u001b[43mq\u001b[49m\u001b[43m)\u001b[49m\u001b[43m \u001b[49m\u001b[38;5;28;43;01mfor\u001b[39;49;00m\u001b[43m \u001b[49m\u001b[43mq\u001b[49m\u001b[43m \u001b[49m\u001b[38;5;129;43;01min\u001b[39;49;00m\u001b[43m \u001b[49m\u001b[43mTs\u001b[49m\u001b[43m]\u001b[49m, label\u001b[38;5;241m=\u001b[39m\u001b[38;5;124m\"\u001b[39m\u001b[38;5;124mp-p\u001b[39m\u001b[38;5;124m\"\u001b[39m)\n\u001b[1;32m      4\u001b[0m ax\u001b[38;5;241m.\u001b[39mloglog(Ts, [r_cno\u001b[38;5;241m.\u001b[39meval(q) \u001b[38;5;28;01mfor\u001b[39;00m q \u001b[38;5;129;01min\u001b[39;00m Ts], label\u001b[38;5;241m=\u001b[39m\u001b[38;5;124m\"\u001b[39m\u001b[38;5;124mCNO\u001b[39m\u001b[38;5;124m\"\u001b[39m)\n\u001b[1;32m      5\u001b[0m ax\u001b[38;5;241m.\u001b[39mset_xlabel(\u001b[38;5;124m\"\u001b[39m\u001b[38;5;124mT\u001b[39m\u001b[38;5;124m\"\u001b[39m)\n",
      "Cell \u001b[0;32mIn[21], line 3\u001b[0m, in \u001b[0;36m<listcomp>\u001b[0;34m(.0)\u001b[0m\n\u001b[1;32m      1\u001b[0m fig, ax \u001b[38;5;241m=\u001b[39m plt\u001b[38;5;241m.\u001b[39msubplots()\n\u001b[0;32m----> 3\u001b[0m ax\u001b[38;5;241m.\u001b[39mloglog(Ts, [\u001b[43mr_pp\u001b[49m\u001b[38;5;241m.\u001b[39meval(q) \u001b[38;5;28;01mfor\u001b[39;00m q \u001b[38;5;129;01min\u001b[39;00m Ts], label\u001b[38;5;241m=\u001b[39m\u001b[38;5;124m\"\u001b[39m\u001b[38;5;124mp-p\u001b[39m\u001b[38;5;124m\"\u001b[39m)\n\u001b[1;32m      4\u001b[0m ax\u001b[38;5;241m.\u001b[39mloglog(Ts, [r_cno\u001b[38;5;241m.\u001b[39meval(q) \u001b[38;5;28;01mfor\u001b[39;00m q \u001b[38;5;129;01min\u001b[39;00m Ts], label\u001b[38;5;241m=\u001b[39m\u001b[38;5;124m\"\u001b[39m\u001b[38;5;124mCNO\u001b[39m\u001b[38;5;124m\"\u001b[39m)\n\u001b[1;32m      5\u001b[0m ax\u001b[38;5;241m.\u001b[39mset_xlabel(\u001b[38;5;124m\"\u001b[39m\u001b[38;5;124mT\u001b[39m\u001b[38;5;124m\"\u001b[39m)\n",
      "\u001b[0;31mNameError\u001b[0m: name 'r_pp' is not defined"
     ]
    },
    {
     "data": {
      "image/png": "[encoded data removed]",
      "text/plain": [
       "<Figure size 640x480 with 1 Axes>"
      ]
     },
     "metadata": {},
     "output_type": "display_data"
    }
   ],
   "source": [
    "fig, ax = plt.subplots()\n",
    "\n",
    "ax.loglog(Ts, [r_pp.eval(q) for q in Ts], label=\"p-p\")\n",
    "ax.loglog(Ts, [r_cno.eval(q) for q in Ts], label=\"CNO\")\n",
    "ax.set_xlabel(\"T\")\n",
    "ax.set_ylabel(r\"$N_A\\langle \\sigma v \\rangle$\")\n",
    "ax.grid(linestyle=\":\", which=\"both\")\n",
    "leg = ax.legend()"
   ]
  },
  {
   "cell_type": "markdown",
   "id": "64b50189-0300-4256-9425-bd345643a483",
   "metadata": {
    "editable": true,
    "slideshow": {
     "slide_type": ""
    },
    "tags": []
   },
   "source": [
    "Notice that they cross over at a temperature just hotter than the Sun's core.  This means that stars more massive than the Sun (actually, about $1.5~M_\\odot$) are powered by CNO and less massive stars are powered by p-p.  The strong $T$ dependence of CNO will play a role in determining the structure of those more massive stars."
   ]
  }
 ],
 "metadata": {
  "kernelspec": {
   "display_name": "Python 3 (ipykernel)",
   "language": "python",
   "name": "python3"
  },
  "language_info": {
   "codemirror_mode": {
    "name": "ipython",
    "version": 3
   },
   "file_extension": ".py",
   "mimetype": "text/x-python",
   "name": "python",
   "nbconvert_exporter": "python",
   "pygments_lexer": "ipython3",
   "version": "3.11.10"
  }
 },
 "nbformat": 4,
 "nbformat_minor": 5
}
