{
 "cells": [
  {
   "cell_type": "markdown",
   "id": "078d11ef-fe17-47af-9544-004785432c7d",
   "metadata": {},
   "source": [
    "# Creating a Custom Rate"
   ]
  },
  {
   "cell_type": "markdown",
   "id": "abc24300-113c-47c5-b6e5-a28a1329d217",
   "metadata": {},
   "source": [
    "Let's imagine wanting to add a rate that has a temperature form not known to pynucastro.  We can accomplish this by creating a new class derived from `Rate`.\n",
    "\n",
    "We'll consider a rate of the form:\n",
    "\n",
    "$$r = r_0 \\left (\\frac{T}{T_0} \\right )^\\nu$$\n",
    "\n",
    "representing a reaction of the form\n",
    "\n",
    "$$A + B \\rightarrow C + D$$\n",
    "\n",
    "then we expect the $\\dot{Y}$ evolution equation for this rate to have the form:\n",
    "\n",
    "$$\\frac{dY(A)}{dt} = -\\rho Y(A) Y(B) r_0 \\left ( \\frac{T}{T_0} \\right )^\\nu$$\n",
    "\n",
    "and likewise for the other nuclei.\n"
   ]
  },
  {
   "cell_type": "code",
   "execution_count": 1,
   "id": "2b596dec-5eaf-4f94-8abd-7da0feb855c2",
   "metadata": {
    "execution": {
     "iopub.execute_input": "2024-10-10T09:58:46.604141Z",
     "iopub.status.busy": "2024-10-10T09:58:46.603964Z",
     "iopub.status.idle": "2024-10-10T09:58:47.975881Z",
     "shell.execute_reply": "2024-10-10T09:58:47.975374Z"
    }
   },
   "outputs": [],
   "source": [
    "import pynucastro as pyna"
   ]
  },
  {
   "cell_type": "markdown",
   "id": "ac72467e-c7fd-48be-b3ba-a39a3b6f5b10",
   "metadata": {},
   "source": [
    "We'll use this to approximate the rate ${}^{14}\\mathrm{N}(p, \\gamma){}^{15}\\mathrm{O}$ around a temperature of\n",
    "$T = 3\\times 10^7~\\mathrm{K}$"
   ]
  },
  {
   "cell_type": "code",
   "execution_count": 2,
   "id": "fea19dd4-b503-45a6-93fc-62dd3ed28bae",
   "metadata": {
    "execution": {
     "iopub.execute_input": "2024-10-10T09:58:47.977982Z",
     "iopub.status.busy": "2024-10-10T09:58:47.977699Z",
     "iopub.status.idle": "2024-10-10T09:58:48.379933Z",
     "shell.execute_reply": "2024-10-10T09:58:48.379412Z"
    }
   },
   "outputs": [
    {
     "ename": "RateFileError",
     "evalue": "File 'reaclib_default2_20220329' not found in the working directory, /opt/hostedtoolcache/Python/3.11.10/x64/lib/python3.11/site-packages/pynucastro/rates/library, or /opt/hostedtoolcache/Python/3.11.10/x64/lib/python3.11/site-packages/pynucastro/rates/tabular",
     "output_type": "error",
     "traceback": [
      "\u001b[0;31m---------------------------------------------------------------------------\u001b[0m",
      "\u001b[0;31mRateFileError\u001b[0m                             Traceback (most recent call last)",
      "Cell \u001b[0;32mIn[2], line 1\u001b[0m\n\u001b[0;32m----> 1\u001b[0m rl \u001b[38;5;241m=\u001b[39m \u001b[43mpyna\u001b[49m\u001b[38;5;241;43m.\u001b[39;49m\u001b[43mReacLibLibrary\u001b[49m\u001b[43m(\u001b[49m\u001b[43m)\u001b[49m\n\u001b[1;32m      2\u001b[0m r \u001b[38;5;241m=\u001b[39m rl\u001b[38;5;241m.\u001b[39mget_rate_by_name(\u001b[38;5;124m\"\u001b[39m\u001b[38;5;124mn14(p,g)o15\u001b[39m\u001b[38;5;124m\"\u001b[39m)\n",
      "File \u001b[0;32m/opt/hostedtoolcache/Python/3.11.10/x64/lib/python3.11/site-packages/pynucastro/rates/library.py:698\u001b[0m, in \u001b[0;36mReacLibLibrary.__init__\u001b[0;34m(self)\u001b[0m\n\u001b[1;32m    696\u001b[0m \u001b[38;5;28;01mdef\u001b[39;00m \u001b[38;5;21m__init__\u001b[39m(\u001b[38;5;28mself\u001b[39m):\n\u001b[1;32m    697\u001b[0m     libfile \u001b[38;5;241m=\u001b[39m \u001b[38;5;124m'\u001b[39m\u001b[38;5;124mreaclib_default2_20220329\u001b[39m\u001b[38;5;124m'\u001b[39m\n\u001b[0;32m--> 698\u001b[0m     \u001b[43mLibrary\u001b[49m\u001b[38;5;241;43m.\u001b[39;49m\u001b[38;5;21;43m__init__\u001b[39;49m\u001b[43m(\u001b[49m\u001b[38;5;28;43mself\u001b[39;49m\u001b[43m,\u001b[49m\u001b[43m \u001b[49m\u001b[43mlibfile\u001b[49m\u001b[38;5;241;43m=\u001b[39;49m\u001b[43mlibfile\u001b[49m\u001b[43m)\u001b[49m\n",
      "File \u001b[0;32m/opt/hostedtoolcache/Python/3.11.10/x64/lib/python3.11/site-packages/pynucastro/rates/library.py:141\u001b[0m, in \u001b[0;36mLibrary.__init__\u001b[0;34m(self, libfile, rates)\u001b[0m\n\u001b[1;32m    138\u001b[0m \u001b[38;5;28mself\u001b[39m\u001b[38;5;241m.\u001b[39m_library_source_lines \u001b[38;5;241m=\u001b[39m collections\u001b[38;5;241m.\u001b[39mdeque()\n\u001b[1;32m    140\u001b[0m \u001b[38;5;28;01mif\u001b[39;00m \u001b[38;5;28mself\u001b[39m\u001b[38;5;241m.\u001b[39m_library_file:\n\u001b[0;32m--> 141\u001b[0m     \u001b[38;5;28mself\u001b[39m\u001b[38;5;241m.\u001b[39m_library_file \u001b[38;5;241m=\u001b[39m \u001b[43m_find_rate_file\u001b[49m\u001b[43m(\u001b[49m\u001b[38;5;28;43mself\u001b[39;49m\u001b[38;5;241;43m.\u001b[39;49m\u001b[43m_library_file\u001b[49m\u001b[43m)\u001b[49m\n\u001b[1;32m    142\u001b[0m     \u001b[38;5;28mself\u001b[39m\u001b[38;5;241m.\u001b[39m_read_library_file()\n",
      "File \u001b[0;32m/opt/hostedtoolcache/Python/3.11.10/x64/lib/python3.11/site-packages/pynucastro/rates/rate.py:100\u001b[0m, in \u001b[0;36m_find_rate_file\u001b[0;34m(ratename)\u001b[0m\n\u001b[1;32m     97\u001b[0m         \u001b[38;5;28;01mreturn\u001b[39;00m x\u001b[38;5;241m.\u001b[39mresolve()\n\u001b[1;32m     99\u001b[0m \u001b[38;5;66;03m# notify user we can't find the file\u001b[39;00m\n\u001b[0;32m--> 100\u001b[0m \u001b[38;5;28;01mraise\u001b[39;00m RateFileError(\u001b[38;5;124mf\u001b[39m\u001b[38;5;124m'\u001b[39m\u001b[38;5;124mFile \u001b[39m\u001b[38;5;132;01m{\u001b[39;00mratename\u001b[38;5;132;01m!r}\u001b[39;00m\u001b[38;5;124m not found in the working directory, \u001b[39m\u001b[38;5;132;01m{\u001b[39;00m_pynucastro_rates_dir\u001b[38;5;132;01m}\u001b[39;00m\u001b[38;5;124m, or \u001b[39m\u001b[38;5;132;01m{\u001b[39;00m_pynucastro_tabular_dir\u001b[38;5;132;01m}\u001b[39;00m\u001b[38;5;124m'\u001b[39m)\n",
      "\u001b[0;31mRateFileError\u001b[0m: File 'reaclib_default2_20220329' not found in the working directory, /opt/hostedtoolcache/Python/3.11.10/x64/lib/python3.11/site-packages/pynucastro/rates/library, or /opt/hostedtoolcache/Python/3.11.10/x64/lib/python3.11/site-packages/pynucastro/rates/tabular"
     ]
    }
   ],
   "source": [
    "rl = pyna.ReacLibLibrary()\n",
    "r = rl.get_rate_by_name(\"n14(p,g)o15\")"
   ]
  },
  {
   "cell_type": "markdown",
   "id": "08234150-4bf5-455f-9af9-ed34b1dc37c8",
   "metadata": {},
   "source": [
    "We can get the values of $r_0$ and $\\nu$ about this temperature from the rate"
   ]
  },
  {
   "cell_type": "code",
   "execution_count": 3,
   "id": "678d9fb5-2894-4c9c-b55c-8b9405f8bd59",
   "metadata": {
    "execution": {
     "iopub.execute_input": "2024-10-10T09:58:48.381734Z",
     "iopub.status.busy": "2024-10-10T09:58:48.381559Z",
     "iopub.status.idle": "2024-10-10T09:58:48.394878Z",
     "shell.execute_reply": "2024-10-10T09:58:48.394427Z"
    }
   },
   "outputs": [
    {
     "ename": "NameError",
     "evalue": "name 'r' is not defined",
     "output_type": "error",
     "traceback": [
      "\u001b[0;31m---------------------------------------------------------------------------\u001b[0m",
      "\u001b[0;31mNameError\u001b[0m                                 Traceback (most recent call last)",
      "Cell \u001b[0;32mIn[3], line 2\u001b[0m\n\u001b[1;32m      1\u001b[0m T0 \u001b[38;5;241m=\u001b[39m \u001b[38;5;241m3.e7\u001b[39m\n\u001b[0;32m----> 2\u001b[0m nu \u001b[38;5;241m=\u001b[39m \u001b[43mr\u001b[49m\u001b[38;5;241m.\u001b[39mget_rate_exponent(T0)\n\u001b[1;32m      3\u001b[0m r0 \u001b[38;5;241m=\u001b[39m r\u001b[38;5;241m.\u001b[39meval(T0)\n\u001b[1;32m      4\u001b[0m \u001b[38;5;28mprint\u001b[39m(r0, nu)\n",
      "\u001b[0;31mNameError\u001b[0m: name 'r' is not defined"
     ]
    }
   ],
   "source": [
    "T0 = 3.e7\n",
    "nu = r.get_rate_exponent(T0)\n",
    "r0 = r.eval(T0)\n",
    "print(r0, nu)"
   ]
  },
  {
   "cell_type": "markdown",
   "id": "5e2142e0-edb1-42a4-a3d1-6bc3c9b95f5f",
   "metadata": {},
   "source": [
    "Now we can write our custom rate.  A few bits are needed in the initialization:\n",
    "\n",
    "* We need to set the \"chapter\" to \"custom\" -- this will be used by `PythonNetwork` to know how to group this rate with the others\n",
    "* We call the parent `Rate` class's `__init__()` to do all the remaining initialization.\n",
    "\n",
    "We only write 2 additional methods here:\n",
    "\n",
    "* `function_string_py()` is used when outputting a `PythonNetwork` to a `.py` file that can be imported and used for integration\n",
    "* `eval()` is used when evaluating the rate interactively (including when making plots)"
   ]
  },
  {
   "cell_type": "code",
   "execution_count": 4,
   "id": "ab193b2d-5aa9-4660-9d6d-1f96d0858207",
   "metadata": {
    "execution": {
     "iopub.execute_input": "2024-10-10T09:58:48.396521Z",
     "iopub.status.busy": "2024-10-10T09:58:48.396349Z",
     "iopub.status.idle": "2024-10-10T09:58:48.400876Z",
     "shell.execute_reply": "2024-10-10T09:58:48.400416Z"
    }
   },
   "outputs": [],
   "source": [
    "class MyRate(pyna.Rate):\n",
    "    def __init__(self, reactants=None, products=None,\n",
    "                 r0=1.0, T0=1.0, nu=0):\n",
    "\n",
    "        # we set the chapter to custom so the network knows how to deal with it\n",
    "        self.chapter = \"custom\"\n",
    "    \n",
    "        # call the Rate init to do the remaining initialization\n",
    "        super().__init__(reactants=reactants, products=products)\n",
    "\n",
    "        self.r0 = r0\n",
    "        self.T0 = T0\n",
    "        self.nu = nu\n",
    "\n",
    "    def function_string_py(self):\n",
    "        \"\"\"return a string containing a python function that computes\n",
    "        the rate\"\"\"\n",
    "        fstring = \"\"\n",
    "        fstring += \"@numba.njit()\\n\"\n",
    "        fstring += f\"def {self.fname}(rate_eval, tf):\\n\"\n",
    "        fstring += f\"    rate_eval.{self.fname} = {self.r0} * (tf.T9 * 1.e9 / {self.T0} )**({self.nu})\\n\\n\"\n",
    "        return fstring\n",
    "\n",
    "    def eval(self, T, rhoY=None):\n",
    "        return self.r0 * (T / self.T0)**self.nu"
   ]
  },
  {
   "cell_type": "markdown",
   "id": "3d1b511f-f87d-424a-ae56-6ccf488f8d52",
   "metadata": {},
   "source": [
    "Now we can create our custom rate"
   ]
  },
  {
   "cell_type": "code",
   "execution_count": 5,
   "id": "e0f99ccb-7801-4ee0-b07b-12e316b727b7",
   "metadata": {
    "execution": {
     "iopub.execute_input": "2024-10-10T09:58:48.402413Z",
     "iopub.status.busy": "2024-10-10T09:58:48.402246Z",
     "iopub.status.idle": "2024-10-10T09:58:48.416335Z",
     "shell.execute_reply": "2024-10-10T09:58:48.415900Z"
    }
   },
   "outputs": [
    {
     "ename": "NameError",
     "evalue": "name 'r0' is not defined",
     "output_type": "error",
     "traceback": [
      "\u001b[0;31m---------------------------------------------------------------------------\u001b[0m",
      "\u001b[0;31mNameError\u001b[0m                                 Traceback (most recent call last)",
      "Cell \u001b[0;32mIn[5], line 3\u001b[0m\n\u001b[1;32m      1\u001b[0m r_custom \u001b[38;5;241m=\u001b[39m MyRate(reactants\u001b[38;5;241m=\u001b[39m[pyna\u001b[38;5;241m.\u001b[39mNucleus(\u001b[38;5;124m\"\u001b[39m\u001b[38;5;124mn14\u001b[39m\u001b[38;5;124m\"\u001b[39m), pyna\u001b[38;5;241m.\u001b[39mNucleus(\u001b[38;5;124m\"\u001b[39m\u001b[38;5;124mp\u001b[39m\u001b[38;5;124m\"\u001b[39m)],\n\u001b[1;32m      2\u001b[0m                   products\u001b[38;5;241m=\u001b[39m[pyna\u001b[38;5;241m.\u001b[39mNucleus(\u001b[38;5;124m\"\u001b[39m\u001b[38;5;124mo15\u001b[39m\u001b[38;5;124m\"\u001b[39m)],\n\u001b[0;32m----> 3\u001b[0m                   r0\u001b[38;5;241m=\u001b[39m\u001b[43mr0\u001b[49m, T0\u001b[38;5;241m=\u001b[39mT0, nu\u001b[38;5;241m=\u001b[39mnu)\n",
      "\u001b[0;31mNameError\u001b[0m: name 'r0' is not defined"
     ]
    }
   ],
   "source": [
    "r_custom = MyRate(reactants=[pyna.Nucleus(\"n14\"), pyna.Nucleus(\"p\")],\n",
    "                  products=[pyna.Nucleus(\"o15\")],\n",
    "                  r0=r0, T0=T0, nu=nu)"
   ]
  },
  {
   "cell_type": "code",
   "execution_count": 6,
   "id": "cfc73a78-8d69-465f-9c81-483732017cb2",
   "metadata": {
    "execution": {
     "iopub.execute_input": "2024-10-10T09:58:48.418018Z",
     "iopub.status.busy": "2024-10-10T09:58:48.417677Z",
     "iopub.status.idle": "2024-10-10T09:58:48.428817Z",
     "shell.execute_reply": "2024-10-10T09:58:48.428206Z"
    }
   },
   "outputs": [
    {
     "ename": "NameError",
     "evalue": "name 'r_custom' is not defined",
     "output_type": "error",
     "traceback": [
      "\u001b[0;31m---------------------------------------------------------------------------\u001b[0m",
      "\u001b[0;31mNameError\u001b[0m                                 Traceback (most recent call last)",
      "Cell \u001b[0;32mIn[6], line 1\u001b[0m\n\u001b[0;32m----> 1\u001b[0m \u001b[43mr_custom\u001b[49m\u001b[38;5;241m.\u001b[39mfname\n",
      "\u001b[0;31mNameError\u001b[0m: name 'r_custom' is not defined"
     ]
    }
   ],
   "source": [
    "r_custom.fname"
   ]
  },
  {
   "cell_type": "markdown",
   "id": "a2f35ac7-434b-4e4f-852f-d6cc97812b83",
   "metadata": {},
   "source": [
    "Notice that it can write out the function needed to evaluate this rate in a python module"
   ]
  },
  {
   "cell_type": "code",
   "execution_count": 7,
   "id": "4e758623-4194-4bc4-8e86-f370174ae339",
   "metadata": {
    "execution": {
     "iopub.execute_input": "2024-10-10T09:58:48.430620Z",
     "iopub.status.busy": "2024-10-10T09:58:48.430289Z",
     "iopub.status.idle": "2024-10-10T09:58:48.441523Z",
     "shell.execute_reply": "2024-10-10T09:58:48.440993Z"
    }
   },
   "outputs": [
    {
     "ename": "NameError",
     "evalue": "name 'r_custom' is not defined",
     "output_type": "error",
     "traceback": [
      "\u001b[0;31m---------------------------------------------------------------------------\u001b[0m",
      "\u001b[0;31mNameError\u001b[0m                                 Traceback (most recent call last)",
      "Cell \u001b[0;32mIn[7], line 1\u001b[0m\n\u001b[0;32m----> 1\u001b[0m \u001b[38;5;28mprint\u001b[39m(\u001b[43mr_custom\u001b[49m\u001b[38;5;241m.\u001b[39mfunction_string_py())\n",
      "\u001b[0;31mNameError\u001b[0m: name 'r_custom' is not defined"
     ]
    }
   ],
   "source": [
    "print(r_custom.function_string_py())"
   ]
  },
  {
   "cell_type": "markdown",
   "id": "0064cdfc-510f-4cce-9946-751ea2576d0f",
   "metadata": {},
   "source": [
    "## Creating a network with our rate"
   ]
  },
  {
   "cell_type": "markdown",
   "id": "45e9c226-6ad6-4e6f-ac0c-1d7523383442",
   "metadata": {},
   "source": [
    "Now let's create a network that includes this rate.  We'll base it off of the CNO net, but we'll leave out the rate that we are approximating."
   ]
  },
  {
   "cell_type": "code",
   "execution_count": 8,
   "id": "4e123666-0a00-4a4a-ba71-2ce61c73c591",
   "metadata": {
    "execution": {
     "iopub.execute_input": "2024-10-10T09:58:48.443397Z",
     "iopub.status.busy": "2024-10-10T09:58:48.442994Z",
     "iopub.status.idle": "2024-10-10T09:58:48.454999Z",
     "shell.execute_reply": "2024-10-10T09:58:48.454559Z"
    }
   },
   "outputs": [
    {
     "ename": "NameError",
     "evalue": "name 'rl' is not defined",
     "output_type": "error",
     "traceback": [
      "\u001b[0;31m---------------------------------------------------------------------------\u001b[0m",
      "\u001b[0;31mNameError\u001b[0m                                 Traceback (most recent call last)",
      "Cell \u001b[0;32mIn[8], line 8\u001b[0m\n\u001b[1;32m      1\u001b[0m rate_names \u001b[38;5;241m=\u001b[39m [\u001b[38;5;124m\"\u001b[39m\u001b[38;5;124mc12(p,g)n13\u001b[39m\u001b[38;5;124m\"\u001b[39m,\n\u001b[1;32m      2\u001b[0m               \u001b[38;5;124m\"\u001b[39m\u001b[38;5;124mc13(p,g)n14\u001b[39m\u001b[38;5;124m\"\u001b[39m,\n\u001b[1;32m      3\u001b[0m               \u001b[38;5;124m\"\u001b[39m\u001b[38;5;124mn13(,)c13\u001b[39m\u001b[38;5;124m\"\u001b[39m,\n\u001b[0;32m   (...)\u001b[0m\n\u001b[1;32m      6\u001b[0m               \u001b[38;5;124m\"\u001b[39m\u001b[38;5;124mo14(,)n14\u001b[39m\u001b[38;5;124m\"\u001b[39m,\n\u001b[1;32m      7\u001b[0m               \u001b[38;5;124m\"\u001b[39m\u001b[38;5;124mo15(,)n15\u001b[39m\u001b[38;5;124m\"\u001b[39m]\n\u001b[0;32m----> 8\u001b[0m rates \u001b[38;5;241m=\u001b[39m \u001b[43mrl\u001b[49m\u001b[38;5;241m.\u001b[39mget_rate_by_name(rate_names)\n",
      "\u001b[0;31mNameError\u001b[0m: name 'rl' is not defined"
     ]
    }
   ],
   "source": [
    "rate_names = [\"c12(p,g)n13\",\n",
    "              \"c13(p,g)n14\",\n",
    "              \"n13(,)c13\",\n",
    "              \"n13(p,g)o14\",\n",
    "              \"n15(p,a)c12\",\n",
    "              \"o14(,)n14\",\n",
    "              \"o15(,)n15\"]\n",
    "rates = rl.get_rate_by_name(rate_names)"
   ]
  },
  {
   "cell_type": "markdown",
   "id": "707db3d0-a7f2-44ee-bcd6-8d9ecb53256a",
   "metadata": {},
   "source": [
    "Here we'll add our custom rate to the remaining rates we pulled from ReacLib"
   ]
  },
  {
   "cell_type": "code",
   "execution_count": 9,
   "id": "3f058974-e1a4-424d-a69b-23a1e2be17ed",
   "metadata": {
    "execution": {
     "iopub.execute_input": "2024-10-10T09:58:48.456524Z",
     "iopub.status.busy": "2024-10-10T09:58:48.456362Z",
     "iopub.status.idle": "2024-10-10T09:58:48.467668Z",
     "shell.execute_reply": "2024-10-10T09:58:48.467232Z"
    }
   },
   "outputs": [
    {
     "ename": "NameError",
     "evalue": "name 'rates' is not defined",
     "output_type": "error",
     "traceback": [
      "\u001b[0;31m---------------------------------------------------------------------------\u001b[0m",
      "\u001b[0;31mNameError\u001b[0m                                 Traceback (most recent call last)",
      "Cell \u001b[0;32mIn[9], line 1\u001b[0m\n\u001b[0;32m----> 1\u001b[0m pynet \u001b[38;5;241m=\u001b[39m pyna\u001b[38;5;241m.\u001b[39mPythonNetwork(rates\u001b[38;5;241m=\u001b[39m\u001b[43mrates\u001b[49m\u001b[38;5;241m+\u001b[39m[r_custom])\n",
      "\u001b[0;31mNameError\u001b[0m: name 'rates' is not defined"
     ]
    }
   ],
   "source": [
    "pynet = pyna.PythonNetwork(rates=rates+[r_custom])"
   ]
  },
  {
   "cell_type": "markdown",
   "id": "bb0cda74-3b7a-421d-9dca-88e3e84e9d45",
   "metadata": {},
   "source": [
    "We can plot this to see how it behaves.  First a low temperature"
   ]
  },
  {
   "cell_type": "code",
   "execution_count": 10,
   "id": "f77cef01-21b3-4325-913a-57bcfe3109b4",
   "metadata": {
    "execution": {
     "iopub.execute_input": "2024-10-10T09:58:48.469354Z",
     "iopub.status.busy": "2024-10-10T09:58:48.469188Z",
     "iopub.status.idle": "2024-10-10T09:58:48.482149Z",
     "shell.execute_reply": "2024-10-10T09:58:48.481694Z"
    }
   },
   "outputs": [
    {
     "ename": "NameError",
     "evalue": "name 'pynet' is not defined",
     "output_type": "error",
     "traceback": [
      "\u001b[0;31m---------------------------------------------------------------------------\u001b[0m",
      "\u001b[0;31mNameError\u001b[0m                                 Traceback (most recent call last)",
      "Cell \u001b[0;32mIn[10], line 3\u001b[0m\n\u001b[1;32m      1\u001b[0m T \u001b[38;5;241m=\u001b[39m \u001b[38;5;241m3.e7\u001b[39m\n\u001b[1;32m      2\u001b[0m rho \u001b[38;5;241m=\u001b[39m \u001b[38;5;241m200\u001b[39m\n\u001b[0;32m----> 3\u001b[0m comp \u001b[38;5;241m=\u001b[39m pyna\u001b[38;5;241m.\u001b[39mComposition(\u001b[43mpynet\u001b[49m\u001b[38;5;241m.\u001b[39munique_nuclei)\n\u001b[1;32m      4\u001b[0m comp\u001b[38;5;241m.\u001b[39mset_solar_like()\n",
      "\u001b[0;31mNameError\u001b[0m: name 'pynet' is not defined"
     ]
    }
   ],
   "source": [
    "T = 3.e7\n",
    "rho = 200\n",
    "comp = pyna.Composition(pynet.unique_nuclei)\n",
    "comp.set_solar_like()"
   ]
  },
  {
   "cell_type": "code",
   "execution_count": 11,
   "id": "058a719f-59ec-4ae3-b7a7-d132059f0a05",
   "metadata": {
    "execution": {
     "iopub.execute_input": "2024-10-10T09:58:48.483821Z",
     "iopub.status.busy": "2024-10-10T09:58:48.483655Z",
     "iopub.status.idle": "2024-10-10T09:58:48.495728Z",
     "shell.execute_reply": "2024-10-10T09:58:48.495269Z"
    }
   },
   "outputs": [
    {
     "ename": "NameError",
     "evalue": "name 'pynet' is not defined",
     "output_type": "error",
     "traceback": [
      "\u001b[0;31m---------------------------------------------------------------------------\u001b[0m",
      "\u001b[0;31mNameError\u001b[0m                                 Traceback (most recent call last)",
      "Cell \u001b[0;32mIn[11], line 1\u001b[0m\n\u001b[0;32m----> 1\u001b[0m fig \u001b[38;5;241m=\u001b[39m \u001b[43mpynet\u001b[49m\u001b[38;5;241m.\u001b[39mplot(rho\u001b[38;5;241m=\u001b[39mrho, T\u001b[38;5;241m=\u001b[39mT, comp\u001b[38;5;241m=\u001b[39mcomp)\n",
      "\u001b[0;31mNameError\u001b[0m: name 'pynet' is not defined"
     ]
    }
   ],
   "source": [
    "fig = pynet.plot(rho=rho, T=T, comp=comp)"
   ]
  },
  {
   "cell_type": "markdown",
   "id": "04159d37-8e1f-47df-8494-8490519d8410",
   "metadata": {},
   "source": [
    "Now a higher temperature"
   ]
  },
  {
   "cell_type": "code",
   "execution_count": 12,
   "id": "c379d880-dcd7-4b4f-a39a-044c16641f08",
   "metadata": {
    "execution": {
     "iopub.execute_input": "2024-10-10T09:58:48.497300Z",
     "iopub.status.busy": "2024-10-10T09:58:48.497136Z",
     "iopub.status.idle": "2024-10-10T09:58:48.499713Z",
     "shell.execute_reply": "2024-10-10T09:58:48.499165Z"
    }
   },
   "outputs": [],
   "source": [
    "T = 3.e8"
   ]
  },
  {
   "cell_type": "code",
   "execution_count": 13,
   "id": "b34a89e1-379c-4afe-a9de-6294a6a8dd37",
   "metadata": {
    "execution": {
     "iopub.execute_input": "2024-10-10T09:58:48.501327Z",
     "iopub.status.busy": "2024-10-10T09:58:48.501009Z",
     "iopub.status.idle": "2024-10-10T09:58:48.512747Z",
     "shell.execute_reply": "2024-10-10T09:58:48.512277Z"
    }
   },
   "outputs": [
    {
     "ename": "NameError",
     "evalue": "name 'pynet' is not defined",
     "output_type": "error",
     "traceback": [
      "\u001b[0;31m---------------------------------------------------------------------------\u001b[0m",
      "\u001b[0;31mNameError\u001b[0m                                 Traceback (most recent call last)",
      "Cell \u001b[0;32mIn[13], line 1\u001b[0m\n\u001b[0;32m----> 1\u001b[0m fig \u001b[38;5;241m=\u001b[39m \u001b[43mpynet\u001b[49m\u001b[38;5;241m.\u001b[39mplot(rho\u001b[38;5;241m=\u001b[39mrho, T\u001b[38;5;241m=\u001b[39mT, comp\u001b[38;5;241m=\u001b[39mcomp)\n",
      "\u001b[0;31mNameError\u001b[0m: name 'pynet' is not defined"
     ]
    }
   ],
   "source": [
    "fig = pynet.plot(rho=rho, T=T, comp=comp)"
   ]
  },
  {
   "cell_type": "markdown",
   "id": "57f2b4e7-c5ab-47f7-a9b2-671e8bca1a7d",
   "metadata": {},
   "source": [
    "Notice that at the higher temperature, this rate becomes higher than the beta decay to ${}^{13}\\mathrm{C}$."
   ]
  },
  {
   "cell_type": "markdown",
   "id": "8b325dc0-0960-4d5c-9ff6-cf3003dbd4b0",
   "metadata": {},
   "source": [
    "We can also see the values of the ydot terms in the network"
   ]
  },
  {
   "cell_type": "code",
   "execution_count": 14,
   "id": "f8a5f337-f061-49e1-a710-6cfbe5d46496",
   "metadata": {
    "execution": {
     "iopub.execute_input": "2024-10-10T09:58:48.514395Z",
     "iopub.status.busy": "2024-10-10T09:58:48.514073Z",
     "iopub.status.idle": "2024-10-10T09:58:48.525074Z",
     "shell.execute_reply": "2024-10-10T09:58:48.524508Z"
    }
   },
   "outputs": [
    {
     "ename": "NameError",
     "evalue": "name 'pynet' is not defined",
     "output_type": "error",
     "traceback": [
      "\u001b[0;31m---------------------------------------------------------------------------\u001b[0m",
      "\u001b[0;31mNameError\u001b[0m                                 Traceback (most recent call last)",
      "Cell \u001b[0;32mIn[14], line 1\u001b[0m\n\u001b[0;32m----> 1\u001b[0m \u001b[43mpynet\u001b[49m\u001b[38;5;241m.\u001b[39mevaluate_ydots(rho, T, comp)\n",
      "\u001b[0;31mNameError\u001b[0m: name 'pynet' is not defined"
     ]
    }
   ],
   "source": [
    "pynet.evaluate_ydots(rho, T, comp)"
   ]
  },
  {
   "cell_type": "markdown",
   "id": "c695612e-6a7f-4888-8b12-1bd2ea1a1912",
   "metadata": {},
   "source": [
    "Finally, we can see that when the network constructs the `dYdt` term,\n",
    "when writing out the network (via `pynet.write_network()`), our rate\n",
    "is included.  For example, for the protons:"
   ]
  },
  {
   "cell_type": "code",
   "execution_count": 15,
   "id": "e4f8c8c6-9229-486e-b04a-cf68a58aabb0",
   "metadata": {
    "execution": {
     "iopub.execute_input": "2024-10-10T09:58:48.526787Z",
     "iopub.status.busy": "2024-10-10T09:58:48.526481Z",
     "iopub.status.idle": "2024-10-10T09:58:48.537504Z",
     "shell.execute_reply": "2024-10-10T09:58:48.536946Z"
    }
   },
   "outputs": [
    {
     "ename": "NameError",
     "evalue": "name 'pynet' is not defined",
     "output_type": "error",
     "traceback": [
      "\u001b[0;31m---------------------------------------------------------------------------\u001b[0m",
      "\u001b[0;31mNameError\u001b[0m                                 Traceback (most recent call last)",
      "Cell \u001b[0;32mIn[15], line 1\u001b[0m\n\u001b[0;32m----> 1\u001b[0m \u001b[38;5;28mprint\u001b[39m(\u001b[43mpynet\u001b[49m\u001b[38;5;241m.\u001b[39mfull_ydot_string(pyna\u001b[38;5;241m.\u001b[39mNucleus(\u001b[38;5;124m\"\u001b[39m\u001b[38;5;124mp\u001b[39m\u001b[38;5;124m\"\u001b[39m)))\n",
      "\u001b[0;31mNameError\u001b[0m: name 'pynet' is not defined"
     ]
    }
   ],
   "source": [
    "print(pynet.full_ydot_string(pyna.Nucleus(\"p\")))"
   ]
  }
 ],
 "metadata": {
  "kernelspec": {
   "display_name": "Python 3 (ipykernel)",
   "language": "python",
   "name": "python3"
  },
  "language_info": {
   "codemirror_mode": {
    "name": "ipython",
    "version": 3
   },
   "file_extension": ".py",
   "mimetype": "text/x-python",
   "name": "python",
   "nbconvert_exporter": "python",
   "pygments_lexer": "ipython3",
   "version": "3.11.10"
  }
 },
 "nbformat": 4,
 "nbformat_minor": 5
}
