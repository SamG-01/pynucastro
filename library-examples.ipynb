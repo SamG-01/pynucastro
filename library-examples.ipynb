{
 "cells": [
  {
   "cell_type": "markdown",
   "metadata": {},
   "source": [
    "# Selecting Rates from a Library"
   ]
  },
  {
   "cell_type": "markdown",
   "metadata": {},
   "source": [
    "The `Library` class in `pynucastro` provides a high level interface for reading files containing one or more Reaclib rates and then filtering these rates based on user-specified criteria for the nuclei involved in the reactions. We can then use the resulting rates to build a network.\n",
    "\n",
    "This example uses a Reaclib snapshot (`20180319default2`) downloaded from:\n",
    "\n",
    "https://reaclib.jinaweb.org/library.php?action=viewsnapshots\n",
    "\n",
    "That snapshot is found in the library search path."
   ]
  },
  {
   "cell_type": "markdown",
   "metadata": {},
   "source": [
    "## Reading a rate snapshot\n",
    "\n",
    "The `Library` class will look for the library file in the working directory or in the `pynucastro/library` subdirectory of the `pynucastro` package.\n",
    "\n",
    "When the constructor is supplied a file name, `pynucastro` will read the contents of this file and interpret them as Reaclib rates in either the Reaclib 1 or 2 formats. The `Library` then stores the rates from the file as `Rate` objects."
   ]
  },
  {
   "cell_type": "code",
   "execution_count": 1,
   "metadata": {
    "execution": {
     "iopub.execute_input": "2024-10-17T07:31:38.568462Z",
     "iopub.status.busy": "2024-10-17T07:31:38.568301Z",
     "iopub.status.idle": "2024-10-17T07:31:40.514330Z",
     "shell.execute_reply": "2024-10-17T07:31:40.513814Z"
    }
   },
   "outputs": [
    {
     "ename": "ModuleNotFoundError",
     "evalue": "No module named 'microphysics'",
     "output_type": "error",
     "traceback": [
      "\u001b[0;31m---------------------------------------------------------------------------\u001b[0m",
      "\u001b[0;31mModuleNotFoundError\u001b[0m                       Traceback (most recent call last)",
      "Cell \u001b[0;32mIn[1], line 1\u001b[0m\n\u001b[0;32m----> 1\u001b[0m \u001b[38;5;28;01mimport\u001b[39;00m \u001b[38;5;21;01mpynucastro\u001b[39;00m \u001b[38;5;28;01mas\u001b[39;00m \u001b[38;5;21;01mpyna\u001b[39;00m\n",
      "File \u001b[0;32m/opt/hostedtoolcache/Python/3.11.10/x64/lib/python3.11/site-packages/pynucastro/__init__.py:132\u001b[0m\n\u001b[1;32m    128\u001b[0m __version__ \u001b[38;5;241m=\u001b[39m version\n\u001b[1;32m    131\u001b[0m \u001b[38;5;28;01mimport\u001b[39;00m \u001b[38;5;21;01mpynucastro\u001b[39;00m\u001b[38;5;21;01m.\u001b[39;00m\u001b[38;5;21;01mscreening\u001b[39;00m\n\u001b[0;32m--> 132\u001b[0m \u001b[38;5;28;01mfrom\u001b[39;00m \u001b[38;5;21;01mpynucastro\u001b[39;00m\u001b[38;5;21;01m.\u001b[39;00m\u001b[38;5;21;01mnetworks\u001b[39;00m \u001b[38;5;28;01mimport\u001b[39;00m (AmrexAstroCxxNetwork, BaseCxxNetwork,\n\u001b[1;32m    133\u001b[0m                                  Composition, Explorer, NSENetwork,\n\u001b[1;32m    134\u001b[0m                                  NumpyNetwork, PythonNetwork, RateCollection,\n\u001b[1;32m    135\u001b[0m                                  SimpleCxxNetwork, StarKillerCxxNetwork,\n\u001b[1;32m    136\u001b[0m                                  SympyRates)\n\u001b[1;32m    137\u001b[0m \u001b[38;5;28;01mfrom\u001b[39;00m \u001b[38;5;21;01mpynucastro\u001b[39;00m\u001b[38;5;21;01m.\u001b[39;00m\u001b[38;5;21;01mnucdata\u001b[39;00m \u001b[38;5;28;01mimport\u001b[39;00m Nucleus, get_all_nuclei, get_nuclei_in_range\n\u001b[1;32m    138\u001b[0m \u001b[38;5;28;01mfrom\u001b[39;00m \u001b[38;5;21;01mpynucastro\u001b[39;00m\u001b[38;5;21;01m.\u001b[39;00m\u001b[38;5;21;01mrates\u001b[39;00m \u001b[38;5;28;01mimport\u001b[39;00m (ApproximateRate, DerivedRate, LangankeLibrary,\n\u001b[1;32m    139\u001b[0m                               Library, Rate, RateFilter, ReacLibLibrary,\n\u001b[1;32m    140\u001b[0m                               SuzukiLibrary, TabularLibrary, Tfactors,\n\u001b[1;32m    141\u001b[0m                               list_known_rates, load_rate)\n",
      "File \u001b[0;32m/opt/hostedtoolcache/Python/3.11.10/x64/lib/python3.11/site-packages/pynucastro/networks/__init__.py:29\u001b[0m\n\u001b[1;32m      1\u001b[0m \u001b[38;5;124;03m\"\"\"The pynucastro modules that support the creation of networks.\u001b[39;00m\n\u001b[1;32m      2\u001b[0m \u001b[38;5;124;03mThere are several main submodules here:\u001b[39;00m\n\u001b[1;32m      3\u001b[0m \n\u001b[0;32m   (...)\u001b[0m\n\u001b[1;32m     24\u001b[0m \n\u001b[1;32m     25\u001b[0m \u001b[38;5;124;03m\"\"\"\u001b[39;00m\n\u001b[1;32m     27\u001b[0m \u001b[38;5;66;03m#__all__ = [\"python_network\", \"rate_collection\", \"sympy_network_support\"]\u001b[39;00m\n\u001b[0;32m---> 29\u001b[0m \u001b[38;5;28;01mfrom\u001b[39;00m \u001b[38;5;21;01m.\u001b[39;00m\u001b[38;5;21;01mamrexastro_cxx_network\u001b[39;00m \u001b[38;5;28;01mimport\u001b[39;00m AmrexAstroCxxNetwork\n\u001b[1;32m     30\u001b[0m \u001b[38;5;28;01mfrom\u001b[39;00m \u001b[38;5;21;01m.\u001b[39;00m\u001b[38;5;21;01mbase_cxx_network\u001b[39;00m \u001b[38;5;28;01mimport\u001b[39;00m BaseCxxNetwork\n\u001b[1;32m     31\u001b[0m \u001b[38;5;28;01mfrom\u001b[39;00m \u001b[38;5;21;01m.\u001b[39;00m\u001b[38;5;21;01mnse_network\u001b[39;00m \u001b[38;5;28;01mimport\u001b[39;00m NSENetwork\n",
      "File \u001b[0;32m/opt/hostedtoolcache/Python/3.11.10/x64/lib/python3.11/site-packages/pynucastro/networks/amrexastro_cxx_network.py:9\u001b[0m\n\u001b[1;32m      6\u001b[0m \u001b[38;5;28;01mimport\u001b[39;00m \u001b[38;5;21;01mre\u001b[39;00m\n\u001b[1;32m      7\u001b[0m \u001b[38;5;28;01mfrom\u001b[39;00m \u001b[38;5;21;01mpathlib\u001b[39;00m \u001b[38;5;28;01mimport\u001b[39;00m Path\n\u001b[0;32m----> 9\u001b[0m \u001b[38;5;28;01mfrom\u001b[39;00m \u001b[38;5;21;01mpynucastro\u001b[39;00m\u001b[38;5;21;01m.\u001b[39;00m\u001b[38;5;21;01mnetworks\u001b[39;00m\u001b[38;5;21;01m.\u001b[39;00m\u001b[38;5;21;01mbase_cxx_network\u001b[39;00m \u001b[38;5;28;01mimport\u001b[39;00m BaseCxxNetwork\n\u001b[1;32m     10\u001b[0m \u001b[38;5;28;01mfrom\u001b[39;00m \u001b[38;5;21;01mpynucastro\u001b[39;00m\u001b[38;5;21;01m.\u001b[39;00m\u001b[38;5;21;01mnucdata\u001b[39;00m \u001b[38;5;28;01mimport\u001b[39;00m Nucleus\n\u001b[1;32m     11\u001b[0m \u001b[38;5;28;01mfrom\u001b[39;00m \u001b[38;5;21;01mpynucastro\u001b[39;00m\u001b[38;5;21;01m.\u001b[39;00m\u001b[38;5;21;01mrates\u001b[39;00m \u001b[38;5;28;01mimport\u001b[39;00m ReacLibRate\n",
      "File \u001b[0;32m/opt/hostedtoolcache/Python/3.11.10/x64/lib/python3.11/site-packages/pynucastro/networks/base_cxx_network.py:19\u001b[0m\n\u001b[1;32m     16\u001b[0m \u001b[38;5;28;01mimport\u001b[39;00m \u001b[38;5;21;01mnumpy\u001b[39;00m \u001b[38;5;28;01mas\u001b[39;00m \u001b[38;5;21;01mnp\u001b[39;00m\n\u001b[1;32m     17\u001b[0m \u001b[38;5;28;01mimport\u001b[39;00m \u001b[38;5;21;01msympy\u001b[39;00m\n\u001b[0;32m---> 19\u001b[0m \u001b[38;5;28;01mfrom\u001b[39;00m \u001b[38;5;21;01mpynucastro\u001b[39;00m\u001b[38;5;21;01m.\u001b[39;00m\u001b[38;5;21;01mnetworks\u001b[39;00m\u001b[38;5;21;01m.\u001b[39;00m\u001b[38;5;21;01mrate_collection\u001b[39;00m \u001b[38;5;28;01mimport\u001b[39;00m RateCollection\n\u001b[1;32m     20\u001b[0m \u001b[38;5;28;01mfrom\u001b[39;00m \u001b[38;5;21;01mpynucastro\u001b[39;00m\u001b[38;5;21;01m.\u001b[39;00m\u001b[38;5;21;01mnetworks\u001b[39;00m\u001b[38;5;21;01m.\u001b[39;00m\u001b[38;5;21;01msympy_network_support\u001b[39;00m \u001b[38;5;28;01mimport\u001b[39;00m SympyRates\n\u001b[1;32m     21\u001b[0m \u001b[38;5;28;01mfrom\u001b[39;00m \u001b[38;5;21;01mpynucastro\u001b[39;00m\u001b[38;5;21;01m.\u001b[39;00m\u001b[38;5;21;01mrates\u001b[39;00m \u001b[38;5;28;01mimport\u001b[39;00m DerivedRate\n",
      "File \u001b[0;32m/opt/hostedtoolcache/Python/3.11.10/x64/lib/python3.11/site-packages/pynucastro/networks/rate_collection.py:32\u001b[0m\n\u001b[1;32m     28\u001b[0m \u001b[38;5;28;01mfrom\u001b[39;00m \u001b[38;5;21;01mpynucastro\u001b[39;00m\u001b[38;5;21;01m.\u001b[39;00m\u001b[38;5;21;01mrates\u001b[39;00m\u001b[38;5;21;01m.\u001b[39;00m\u001b[38;5;21;01mlibrary\u001b[39;00m \u001b[38;5;28;01mimport\u001b[39;00m _rate_name_to_nuc, capitalize_rid\n\u001b[1;32m     29\u001b[0m \u001b[38;5;28;01mfrom\u001b[39;00m \u001b[38;5;21;01mpynucastro\u001b[39;00m\u001b[38;5;21;01m.\u001b[39;00m\u001b[38;5;21;01mscreening\u001b[39;00m \u001b[38;5;28;01mimport\u001b[39;00m (get_screening_map, make_plasma_state,\n\u001b[1;32m     30\u001b[0m                                   make_screen_factors)\n\u001b[0;32m---> 32\u001b[0m \u001b[38;5;28;01mfrom\u001b[39;00m \u001b[38;5;21;01mmicrophysics\u001b[39;00m\u001b[38;5;21;01m.\u001b[39;00m\u001b[38;5;21;01mpynucastro\u001b[39;00m\u001b[38;5;21;01m.\u001b[39;00m\u001b[38;5;21;01mpynucastro\u001b[39;00m\u001b[38;5;21;01m.\u001b[39;00m\u001b[38;5;21;01mnucdata\u001b[39;00m \u001b[38;5;28;01mimport\u001b[39;00m nucleus\n\u001b[1;32m     34\u001b[0m mpl\u001b[38;5;241m.\u001b[39mrcParams[\u001b[38;5;124m'\u001b[39m\u001b[38;5;124mfigure.dpi\u001b[39m\u001b[38;5;124m'\u001b[39m] \u001b[38;5;241m=\u001b[39m \u001b[38;5;241m100\u001b[39m\n\u001b[1;32m     37\u001b[0m \u001b[38;5;28;01mclass\u001b[39;00m \u001b[38;5;21;01mRateDuplicationError\u001b[39;00m(\u001b[38;5;167;01mException\u001b[39;00m):\n",
      "\u001b[0;31mModuleNotFoundError\u001b[0m: No module named 'microphysics'"
     ]
    }
   ],
   "source": [
    "import pynucastro as pyna"
   ]
  },
  {
   "cell_type": "code",
   "execution_count": 2,
   "metadata": {
    "execution": {
     "iopub.execute_input": "2024-10-17T07:31:40.516284Z",
     "iopub.status.busy": "2024-10-17T07:31:40.515908Z",
     "iopub.status.idle": "2024-10-17T07:31:40.528085Z",
     "shell.execute_reply": "2024-10-17T07:31:40.527641Z"
    }
   },
   "outputs": [
    {
     "ename": "NameError",
     "evalue": "name 'pyna' is not defined",
     "output_type": "error",
     "traceback": [
      "\u001b[0;31m---------------------------------------------------------------------------\u001b[0m",
      "\u001b[0;31mNameError\u001b[0m                                 Traceback (most recent call last)",
      "Cell \u001b[0;32mIn[2], line 1\u001b[0m\n\u001b[0;32m----> 1\u001b[0m mylibrary \u001b[38;5;241m=\u001b[39m \u001b[43mpyna\u001b[49m\u001b[38;5;241m.\u001b[39mReacLibLibrary()\n",
      "\u001b[0;31mNameError\u001b[0m: name 'pyna' is not defined"
     ]
    }
   ],
   "source": [
    "mylibrary = pyna.ReacLibLibrary()"
   ]
  },
  {
   "cell_type": "markdown",
   "metadata": {},
   "source": [
    "## Specifying Desired Nuclei\n",
    "\n",
    "This example constructs a CNO network like the one constructed from a set of Reaclib rate files in the \"pynucastro usage examples\" section of this documentation.\n",
    "\n",
    "This time, however, we will specify the nuclei we want in the network and allow the `Library` class to find all the rates linking only nuclei in the set we specified.\n",
    "\n",
    "We can specify these nuclei by their abbreviations in the form, e.g. \"he4\":"
   ]
  },
  {
   "cell_type": "code",
   "execution_count": 3,
   "metadata": {
    "execution": {
     "iopub.execute_input": "2024-10-17T07:31:40.529774Z",
     "iopub.status.busy": "2024-10-17T07:31:40.529445Z",
     "iopub.status.idle": "2024-10-17T07:31:40.532021Z",
     "shell.execute_reply": "2024-10-17T07:31:40.531594Z"
    }
   },
   "outputs": [],
   "source": [
    "all_nuclei = [\"p\", \"he4\", \"c12\", \"n13\", \"c13\", \"o14\", \"n14\", \"o15\", \"n15\"]"
   ]
  },
  {
   "cell_type": "markdown",
   "metadata": {},
   "source": [
    "Now we use the `Library.linking_nuclei()` function to return a smaller `Library` object containing only the rates that link these nuclei.\n",
    "\n",
    "We can pass `with_reverse=False` to restrict `linking_nuclei` to only include forward rates from the Reaclib library, as pynucastro does not yet implement partition functions for reverse rates."
   ]
  },
  {
   "cell_type": "code",
   "execution_count": 4,
   "metadata": {
    "execution": {
     "iopub.execute_input": "2024-10-17T07:31:40.533648Z",
     "iopub.status.busy": "2024-10-17T07:31:40.533326Z",
     "iopub.status.idle": "2024-10-17T07:31:40.544452Z",
     "shell.execute_reply": "2024-10-17T07:31:40.543901Z"
    }
   },
   "outputs": [
    {
     "ename": "NameError",
     "evalue": "name 'mylibrary' is not defined",
     "output_type": "error",
     "traceback": [
      "\u001b[0;31m---------------------------------------------------------------------------\u001b[0m",
      "\u001b[0;31mNameError\u001b[0m                                 Traceback (most recent call last)",
      "Cell \u001b[0;32mIn[4], line 1\u001b[0m\n\u001b[0;32m----> 1\u001b[0m cno_library \u001b[38;5;241m=\u001b[39m \u001b[43mmylibrary\u001b[49m\u001b[38;5;241m.\u001b[39mlinking_nuclei(all_nuclei, with_reverse\u001b[38;5;241m=\u001b[39m\u001b[38;5;28;01mFalse\u001b[39;00m)\n",
      "\u001b[0;31mNameError\u001b[0m: name 'mylibrary' is not defined"
     ]
    }
   ],
   "source": [
    "cno_library = mylibrary.linking_nuclei(all_nuclei, with_reverse=False)"
   ]
  },
  {
   "cell_type": "markdown",
   "metadata": {},
   "source": [
    "Now we can create a network (`PythonNetwork` or `StarKillerNetwork`) as:"
   ]
  },
  {
   "cell_type": "code",
   "execution_count": 5,
   "metadata": {
    "execution": {
     "iopub.execute_input": "2024-10-17T07:31:40.546131Z",
     "iopub.status.busy": "2024-10-17T07:31:40.545815Z",
     "iopub.status.idle": "2024-10-17T07:31:40.556929Z",
     "shell.execute_reply": "2024-10-17T07:31:40.556377Z"
    }
   },
   "outputs": [
    {
     "ename": "NameError",
     "evalue": "name 'pyna' is not defined",
     "output_type": "error",
     "traceback": [
      "\u001b[0;31m---------------------------------------------------------------------------\u001b[0m",
      "\u001b[0;31mNameError\u001b[0m                                 Traceback (most recent call last)",
      "Cell \u001b[0;32mIn[5], line 1\u001b[0m\n\u001b[0;32m----> 1\u001b[0m cno_network \u001b[38;5;241m=\u001b[39m \u001b[43mpyna\u001b[49m\u001b[38;5;241m.\u001b[39mnetworks\u001b[38;5;241m.\u001b[39mPythonNetwork(libraries\u001b[38;5;241m=\u001b[39mcno_library)\n",
      "\u001b[0;31mNameError\u001b[0m: name 'pyna' is not defined"
     ]
    }
   ],
   "source": [
    "cno_network = pyna.networks.PythonNetwork(libraries=cno_library)"
   ]
  },
  {
   "cell_type": "markdown",
   "metadata": {},
   "source": [
    "In the above, we construct a network from a `Library` object by passing the `Library` object to the `libraries` argument of the network constructor. To construct a network from multiple libraries, the `libraries` argument can also take a list of `Library` objects.\n",
    "\n",
    "We can show the structure of the network by plotting a network diagram."
   ]
  },
  {
   "cell_type": "code",
   "execution_count": 6,
   "metadata": {
    "execution": {
     "iopub.execute_input": "2024-10-17T07:31:40.558699Z",
     "iopub.status.busy": "2024-10-17T07:31:40.558379Z",
     "iopub.status.idle": "2024-10-17T07:31:40.569428Z",
     "shell.execute_reply": "2024-10-17T07:31:40.568878Z"
    }
   },
   "outputs": [
    {
     "ename": "NameError",
     "evalue": "name 'cno_network' is not defined",
     "output_type": "error",
     "traceback": [
      "\u001b[0;31m---------------------------------------------------------------------------\u001b[0m",
      "\u001b[0;31mNameError\u001b[0m                                 Traceback (most recent call last)",
      "Cell \u001b[0;32mIn[6], line 1\u001b[0m\n\u001b[0;32m----> 1\u001b[0m fig \u001b[38;5;241m=\u001b[39m \u001b[43mcno_network\u001b[49m\u001b[38;5;241m.\u001b[39mplot()\n",
      "\u001b[0;31mNameError\u001b[0m: name 'cno_network' is not defined"
     ]
    }
   ],
   "source": [
    "fig = cno_network.plot()"
   ]
  },
  {
   "cell_type": "markdown",
   "metadata": {},
   "source": [
    "Note that the above network also includes the triple-alpha rate from Reaclib."
   ]
  },
  {
   "cell_type": "markdown",
   "metadata": {},
   "source": [
    "If we wanted to generate the python code to calculate the right-hand side we could next do:"
   ]
  },
  {
   "cell_type": "code",
   "execution_count": 7,
   "metadata": {
    "execution": {
     "iopub.execute_input": "2024-10-17T07:31:40.571129Z",
     "iopub.status.busy": "2024-10-17T07:31:40.570818Z",
     "iopub.status.idle": "2024-10-17T07:31:40.581771Z",
     "shell.execute_reply": "2024-10-17T07:31:40.581236Z"
    },
    "tags": [
     "nbval-skip"
    ]
   },
   "outputs": [
    {
     "ename": "NameError",
     "evalue": "name 'cno_network' is not defined",
     "output_type": "error",
     "traceback": [
      "\u001b[0;31m---------------------------------------------------------------------------\u001b[0m",
      "\u001b[0;31mNameError\u001b[0m                                 Traceback (most recent call last)",
      "Cell \u001b[0;32mIn[7], line 1\u001b[0m\n\u001b[0;32m----> 1\u001b[0m \u001b[43mcno_network\u001b[49m\u001b[38;5;241m.\u001b[39mwrite_network(\u001b[38;5;124m'\u001b[39m\u001b[38;5;124mnetwork_module.py\u001b[39m\u001b[38;5;124m'\u001b[39m)\n",
      "\u001b[0;31mNameError\u001b[0m: name 'cno_network' is not defined"
     ]
    }
   ],
   "source": [
    "cno_network.write_network('network_module.py')"
   ]
  },
  {
   "cell_type": "markdown",
   "metadata": {},
   "source": [
    "And we could run this together with the burn driver program in `examples/burn.py`"
   ]
  },
  {
   "cell_type": "markdown",
   "metadata": {},
   "source": [
    "## Filtering the Library\n",
    "\n",
    "This example introduces the `RateFilter` class which allows us to define a set of reactants and products to search for in a `Library` object.\n",
    "\n",
    "### Inexact Filtering\n",
    "\n",
    "Inexact filtering is like using wildcards: in the following example, the rate filter we define will match any rates in which $\\mathrm{^{12}C}$ is a reactant."
   ]
  },
  {
   "cell_type": "code",
   "execution_count": 8,
   "metadata": {
    "execution": {
     "iopub.execute_input": "2024-10-17T07:31:40.583449Z",
     "iopub.status.busy": "2024-10-17T07:31:40.583123Z",
     "iopub.status.idle": "2024-10-17T07:31:40.595221Z",
     "shell.execute_reply": "2024-10-17T07:31:40.594780Z"
    }
   },
   "outputs": [
    {
     "ename": "NameError",
     "evalue": "name 'pyna' is not defined",
     "output_type": "error",
     "traceback": [
      "\u001b[0;31m---------------------------------------------------------------------------\u001b[0m",
      "\u001b[0;31mNameError\u001b[0m                                 Traceback (most recent call last)",
      "Cell \u001b[0;32mIn[8], line 1\u001b[0m\n\u001b[0;32m----> 1\u001b[0m c12_inexact_filter \u001b[38;5;241m=\u001b[39m \u001b[43mpyna\u001b[49m\u001b[38;5;241m.\u001b[39mRateFilter(reactants\u001b[38;5;241m=\u001b[39m[\u001b[38;5;124m'\u001b[39m\u001b[38;5;124mc12\u001b[39m\u001b[38;5;124m'\u001b[39m], exact\u001b[38;5;241m=\u001b[39m\u001b[38;5;28;01mFalse\u001b[39;00m)\n",
      "\u001b[0;31mNameError\u001b[0m: name 'pyna' is not defined"
     ]
    }
   ],
   "source": [
    "c12_inexact_filter = pyna.RateFilter(reactants=['c12'], exact=False)"
   ]
  },
  {
   "cell_type": "markdown",
   "metadata": {},
   "source": [
    "Once we construct a `RateFilter` object, we can apply it to our `Library` by passing it to the `Library.filter` function.\n",
    "\n",
    "`Library.filter` returns a new `Library` object containing the rates that match our `RateFilter`.\n",
    "\n",
    "We can print a `Library` to see the rates it contains. In parentheses the rate identifier is printed, showing the Reaclib rate label as well as whether the rate is forward or reverse."
   ]
  },
  {
   "cell_type": "code",
   "execution_count": 9,
   "metadata": {
    "execution": {
     "iopub.execute_input": "2024-10-17T07:31:40.596890Z",
     "iopub.status.busy": "2024-10-17T07:31:40.596544Z",
     "iopub.status.idle": "2024-10-17T07:31:40.607660Z",
     "shell.execute_reply": "2024-10-17T07:31:40.607228Z"
    }
   },
   "outputs": [
    {
     "ename": "NameError",
     "evalue": "name 'mylibrary' is not defined",
     "output_type": "error",
     "traceback": [
      "\u001b[0;31m---------------------------------------------------------------------------\u001b[0m",
      "\u001b[0;31mNameError\u001b[0m                                 Traceback (most recent call last)",
      "Cell \u001b[0;32mIn[9], line 1\u001b[0m\n\u001b[0;32m----> 1\u001b[0m c12_inexact_library \u001b[38;5;241m=\u001b[39m \u001b[43mmylibrary\u001b[49m\u001b[38;5;241m.\u001b[39mfilter(c12_inexact_filter)\n\u001b[1;32m      2\u001b[0m \u001b[38;5;28mprint\u001b[39m(c12_inexact_library)\n",
      "\u001b[0;31mNameError\u001b[0m: name 'mylibrary' is not defined"
     ]
    }
   ],
   "source": [
    "c12_inexact_library = mylibrary.filter(c12_inexact_filter)\n",
    "print(c12_inexact_library)"
   ]
  },
  {
   "cell_type": "markdown",
   "metadata": {},
   "source": [
    "The rate identifiers above can be used to access individual `Rate` objects within a `Library` as follows:"
   ]
  },
  {
   "cell_type": "code",
   "execution_count": 10,
   "metadata": {
    "execution": {
     "iopub.execute_input": "2024-10-17T07:31:40.609221Z",
     "iopub.status.busy": "2024-10-17T07:31:40.608941Z",
     "iopub.status.idle": "2024-10-17T07:31:40.619695Z",
     "shell.execute_reply": "2024-10-17T07:31:40.619162Z"
    }
   },
   "outputs": [
    {
     "ename": "NameError",
     "evalue": "name 'c12_inexact_library' is not defined",
     "output_type": "error",
     "traceback": [
      "\u001b[0;31m---------------------------------------------------------------------------\u001b[0m",
      "\u001b[0;31mNameError\u001b[0m                                 Traceback (most recent call last)",
      "Cell \u001b[0;32mIn[10], line 1\u001b[0m\n\u001b[0;32m----> 1\u001b[0m cago \u001b[38;5;241m=\u001b[39m \u001b[43mc12_inexact_library\u001b[49m\u001b[38;5;241m.\u001b[39mget_rate(\u001b[38;5;124m'\u001b[39m\u001b[38;5;124mc12 + he4 --> o16 <nac2_reaclib__>\u001b[39m\u001b[38;5;124m'\u001b[39m)\n",
      "\u001b[0;31mNameError\u001b[0m: name 'c12_inexact_library' is not defined"
     ]
    }
   ],
   "source": [
    "cago = c12_inexact_library.get_rate('c12 + he4 --> o16 <nac2_reaclib__>')"
   ]
  },
  {
   "cell_type": "code",
   "execution_count": 11,
   "metadata": {
    "execution": {
     "iopub.execute_input": "2024-10-17T07:31:40.621253Z",
     "iopub.status.busy": "2024-10-17T07:31:40.620974Z",
     "iopub.status.idle": "2024-10-17T07:31:40.631667Z",
     "shell.execute_reply": "2024-10-17T07:31:40.631154Z"
    }
   },
   "outputs": [
    {
     "ename": "NameError",
     "evalue": "name 'cago' is not defined",
     "output_type": "error",
     "traceback": [
      "\u001b[0;31m---------------------------------------------------------------------------\u001b[0m",
      "\u001b[0;31mNameError\u001b[0m                                 Traceback (most recent call last)",
      "Cell \u001b[0;32mIn[11], line 1\u001b[0m\n\u001b[0;32m----> 1\u001b[0m fig \u001b[38;5;241m=\u001b[39m \u001b[43mcago\u001b[49m\u001b[38;5;241m.\u001b[39mplot()\n",
      "\u001b[0;31mNameError\u001b[0m: name 'cago' is not defined"
     ]
    }
   ],
   "source": [
    "fig = cago.plot()"
   ]
  },
  {
   "cell_type": "markdown",
   "metadata": {},
   "source": [
    "### Exact Filtering\n",
    "\n",
    "Exact filtering is useful when you have a specific rate in mind or a specific combination of reactants or products. In the following example, we look for all rates of the form $\\mathrm{^{12}C + ^{12}C \\rightarrow \\ldots}$\n",
    "\n",
    "To use exact filtering, omit the `exact` keyword to the `RateFilter` constructor, as it is turned on by default.\n",
    "\n",
    "Exact filtering does not mean all the nuclei involved in the rate must be specified, it means that all filtering options passed to the `RateFilter` constructor are strictly applied. In this case, the filter will return rates with exactly two reactants, both of which are $\\mathrm{^{12}C}$. However, the filter places no constraint on the products or number of products in the rate."
   ]
  },
  {
   "cell_type": "code",
   "execution_count": 12,
   "metadata": {
    "execution": {
     "iopub.execute_input": "2024-10-17T07:31:40.633402Z",
     "iopub.status.busy": "2024-10-17T07:31:40.633147Z",
     "iopub.status.idle": "2024-10-17T07:31:40.644677Z",
     "shell.execute_reply": "2024-10-17T07:31:40.644265Z"
    }
   },
   "outputs": [
    {
     "ename": "NameError",
     "evalue": "name 'pyna' is not defined",
     "output_type": "error",
     "traceback": [
      "\u001b[0;31m---------------------------------------------------------------------------\u001b[0m",
      "\u001b[0;31mNameError\u001b[0m                                 Traceback (most recent call last)",
      "Cell \u001b[0;32mIn[12], line 1\u001b[0m\n\u001b[0;32m----> 1\u001b[0m c12_exact_filter \u001b[38;5;241m=\u001b[39m \u001b[43mpyna\u001b[49m\u001b[38;5;241m.\u001b[39mrates\u001b[38;5;241m.\u001b[39mRateFilter(reactants\u001b[38;5;241m=\u001b[39m[\u001b[38;5;124m'\u001b[39m\u001b[38;5;124mc12\u001b[39m\u001b[38;5;124m'\u001b[39m, \u001b[38;5;124m'\u001b[39m\u001b[38;5;124mc12\u001b[39m\u001b[38;5;124m'\u001b[39m])\n\u001b[1;32m      2\u001b[0m c12_exact_library \u001b[38;5;241m=\u001b[39m mylibrary\u001b[38;5;241m.\u001b[39mfilter(c12_exact_filter)\n\u001b[1;32m      3\u001b[0m \u001b[38;5;28mprint\u001b[39m(c12_exact_library)\n",
      "\u001b[0;31mNameError\u001b[0m: name 'pyna' is not defined"
     ]
    }
   ],
   "source": [
    "c12_exact_filter = pyna.rates.RateFilter(reactants=['c12', 'c12'])\n",
    "c12_exact_library = mylibrary.filter(c12_exact_filter)\n",
    "print(c12_exact_library)"
   ]
  },
  {
   "cell_type": "markdown",
   "metadata": {},
   "source": [
    "## Example: Building an Alpha Capture Network\n",
    "\n",
    "In the next example, we use rate filtering to iteratively construct a `Library` containing the alpha capture rates linking $\\mathrm{^{12}C}$ to $\\mathrm{^{56}Ni}$.\n",
    "\n",
    "After finding each successive link in the alpha capture chain, we call `Library.heaviest()` to find the heaviest nucleus in the filtered rates. This corresponds to the nucleus with the largest mass number, and in case of a tie between isobars, this returns the isobar with the smallest atomic number. We use this feature to find the reverse rate for each alpha capture reaction.\n",
    "\n",
    "In the example below, we add each filtered library to our alpha capture library `alpha_library`, initialized as an empty `Library`. The `Library` class supports the addition operator by returning a new library containing the rates in the two libraries we added together.\n",
    "\n",
    "This example also introduces the `max_products` keyword, which specifies we are looking for reactions producing at most `max_products` product nuclei.\n",
    "\n",
    "Similarly, the `RateFilter` constructor supports the following keywords constraining the number of reactants and products:\n",
    "\n",
    "- `min_reactants`\n",
    "- `max_reactants`\n",
    "- `min_products`\n",
    "- `max_products`\n",
    "\n",
    "Because we have omitted the argument `exact=False`, the filter constraints we apply are exact."
   ]
  },
  {
   "cell_type": "code",
   "execution_count": 13,
   "metadata": {
    "execution": {
     "iopub.execute_input": "2024-10-17T07:31:40.646265Z",
     "iopub.status.busy": "2024-10-17T07:31:40.646010Z",
     "iopub.status.idle": "2024-10-17T07:31:40.660408Z",
     "shell.execute_reply": "2024-10-17T07:31:40.659986Z"
    }
   },
   "outputs": [
    {
     "ename": "NameError",
     "evalue": "name 'pyna' is not defined",
     "output_type": "error",
     "traceback": [
      "\u001b[0;31m---------------------------------------------------------------------------\u001b[0m",
      "\u001b[0;31mNameError\u001b[0m                                 Traceback (most recent call last)",
      "Cell \u001b[0;32mIn[13], line 1\u001b[0m\n\u001b[0;32m----> 1\u001b[0m alpha_library \u001b[38;5;241m=\u001b[39m \u001b[43mpyna\u001b[49m\u001b[38;5;241m.\u001b[39mLibrary()\n\u001b[1;32m      3\u001b[0m capture \u001b[38;5;241m=\u001b[39m pyna\u001b[38;5;241m.\u001b[39mNucleus(\u001b[38;5;124m'\u001b[39m\u001b[38;5;124mhe4\u001b[39m\u001b[38;5;124m'\u001b[39m)\n\u001b[1;32m      4\u001b[0m seed \u001b[38;5;241m=\u001b[39m pyna\u001b[38;5;241m.\u001b[39mNucleus(\u001b[38;5;124m'\u001b[39m\u001b[38;5;124mc12\u001b[39m\u001b[38;5;124m'\u001b[39m)\n",
      "\u001b[0;31mNameError\u001b[0m: name 'pyna' is not defined"
     ]
    }
   ],
   "source": [
    "alpha_library = pyna.Library()\n",
    "\n",
    "capture = pyna.Nucleus('he4')\n",
    "seed = pyna.Nucleus('c12')\n",
    "\n",
    "while True:\n",
    "    ac_filter = pyna.RateFilter(reactants=[capture, seed], max_products=1)\n",
    "    ac_library = mylibrary.filter(ac_filter)\n",
    "    alpha_library = alpha_library + ac_library\n",
    "\n",
    "    heavy = ac_library.heaviest()\n",
    "    ac_filter_inv = pyna.RateFilter(reactants=[heavy], products=[capture, seed])\n",
    "    ac_inv_library = mylibrary.filter(ac_filter_inv)\n",
    "    alpha_library = alpha_library + ac_inv_library\n",
    "\n",
    "    print(heavy)\n",
    "    if heavy.A == 56:\n",
    "        break\n",
    "    else:\n",
    "        seed = heavy"
   ]
  },
  {
   "cell_type": "markdown",
   "metadata": {},
   "source": [
    "We will next print out the library we constructed, seeing that we have both forward and reverse rates for the alpha chain.\n",
    "\n",
    "Note that at this time `pynucastro` has not yet implemented nuclear partition functions, so these reverse rates are calculated only from detailed balance in the Reaclib library."
   ]
  },
  {
   "cell_type": "code",
   "execution_count": 14,
   "metadata": {
    "execution": {
     "iopub.execute_input": "2024-10-17T07:31:40.662168Z",
     "iopub.status.busy": "2024-10-17T07:31:40.661741Z",
     "iopub.status.idle": "2024-10-17T07:31:40.672700Z",
     "shell.execute_reply": "2024-10-17T07:31:40.672167Z"
    }
   },
   "outputs": [
    {
     "ename": "NameError",
     "evalue": "name 'alpha_library' is not defined",
     "output_type": "error",
     "traceback": [
      "\u001b[0;31m---------------------------------------------------------------------------\u001b[0m",
      "\u001b[0;31mNameError\u001b[0m                                 Traceback (most recent call last)",
      "Cell \u001b[0;32mIn[14], line 1\u001b[0m\n\u001b[0;32m----> 1\u001b[0m \u001b[38;5;28mprint\u001b[39m(\u001b[43malpha_library\u001b[49m)\n",
      "\u001b[0;31mNameError\u001b[0m: name 'alpha_library' is not defined"
     ]
    }
   ],
   "source": [
    "print(alpha_library)"
   ]
  },
  {
   "cell_type": "markdown",
   "metadata": {},
   "source": [
    "Next we can create a reaction network from our filtered alpha capture library by passing our library to a network constructor using the `libraries` keyword."
   ]
  },
  {
   "cell_type": "code",
   "execution_count": 15,
   "metadata": {
    "execution": {
     "iopub.execute_input": "2024-10-17T07:31:40.674456Z",
     "iopub.status.busy": "2024-10-17T07:31:40.674028Z",
     "iopub.status.idle": "2024-10-17T07:31:40.685631Z",
     "shell.execute_reply": "2024-10-17T07:31:40.685087Z"
    }
   },
   "outputs": [
    {
     "ename": "NameError",
     "evalue": "name 'pyna' is not defined",
     "output_type": "error",
     "traceback": [
      "\u001b[0;31m---------------------------------------------------------------------------\u001b[0m",
      "\u001b[0;31mNameError\u001b[0m                                 Traceback (most recent call last)",
      "Cell \u001b[0;32mIn[15], line 1\u001b[0m\n\u001b[0;32m----> 1\u001b[0m alpha_network \u001b[38;5;241m=\u001b[39m \u001b[43mpyna\u001b[49m\u001b[38;5;241m.\u001b[39mPythonNetwork(libraries\u001b[38;5;241m=\u001b[39malpha_library)\n",
      "\u001b[0;31mNameError\u001b[0m: name 'pyna' is not defined"
     ]
    }
   ],
   "source": [
    "alpha_network = pyna.PythonNetwork(libraries=alpha_library)"
   ]
  },
  {
   "cell_type": "markdown",
   "metadata": {},
   "source": [
    "And finally we can make Z-N plot of the nuclei linked via the reactions we selected."
   ]
  },
  {
   "cell_type": "code",
   "execution_count": 16,
   "metadata": {
    "execution": {
     "iopub.execute_input": "2024-10-17T07:31:40.687221Z",
     "iopub.status.busy": "2024-10-17T07:31:40.686923Z",
     "iopub.status.idle": "2024-10-17T07:31:40.697656Z",
     "shell.execute_reply": "2024-10-17T07:31:40.697113Z"
    }
   },
   "outputs": [
    {
     "ename": "NameError",
     "evalue": "name 'alpha_network' is not defined",
     "output_type": "error",
     "traceback": [
      "\u001b[0;31m---------------------------------------------------------------------------\u001b[0m",
      "\u001b[0;31mNameError\u001b[0m                                 Traceback (most recent call last)",
      "Cell \u001b[0;32mIn[16], line 1\u001b[0m\n\u001b[0;32m----> 1\u001b[0m fig \u001b[38;5;241m=\u001b[39m \u001b[43malpha_network\u001b[49m\u001b[38;5;241m.\u001b[39mplot()\n",
      "\u001b[0;31mNameError\u001b[0m: name 'alpha_network' is not defined"
     ]
    }
   ],
   "source": [
    "fig = alpha_network.plot()"
   ]
  }
 ],
 "metadata": {
  "celltoolbar": "Tags",
  "kernelspec": {
   "display_name": "Python 3 (ipykernel)",
   "language": "python",
   "name": "python3"
  },
  "language_info": {
   "codemirror_mode": {
    "name": "ipython",
    "version": 3
   },
   "file_extension": ".py",
   "mimetype": "text/x-python",
   "name": "python",
   "nbconvert_exporter": "python",
   "pygments_lexer": "ipython3",
   "version": "3.11.10"
  }
 },
 "nbformat": 4,
 "nbformat_minor": 4
}
