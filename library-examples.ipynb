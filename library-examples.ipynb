{
 "cells": [
  {
   "cell_type": "markdown",
   "metadata": {},
   "source": [
    "# Selecting Rates from a Library"
   ]
  },
  {
   "cell_type": "markdown",
   "metadata": {},
   "source": [
    "The `Library` class in `pynucastro` provides a high level interface for reading files containing one or more Reaclib rates and then filtering these rates based on user-specified criteria for the nuclei involved in the reactions. We can then use the resulting rates to build a network.\n",
    "\n",
    "This example uses a Reaclib snapshot (`20180319default2`) downloaded from:\n",
    "\n",
    "https://reaclib.jinaweb.org/library.php?action=viewsnapshots\n",
    "\n",
    "That snapshot is found in the library search path."
   ]
  },
  {
   "cell_type": "markdown",
   "metadata": {},
   "source": [
    "## Reading a rate snapshot\n",
    "\n",
    "The `Library` class will look for the library file in the working directory or in the `pynucastro/library` subdirectory of the `pynucastro` package.\n",
    "\n",
    "When the constructor is supplied a file name, `pynucastro` will read the contents of this file and interpret them as Reaclib rates in either the Reaclib 1 or 2 formats. The `Library` then stores the rates from the file as `Rate` objects."
   ]
  },
  {
   "cell_type": "code",
   "execution_count": 1,
   "metadata": {
    "execution": {
     "iopub.execute_input": "2024-10-10T10:08:59.160469Z",
     "iopub.status.busy": "2024-10-10T10:08:59.160295Z",
     "iopub.status.idle": "2024-10-10T10:09:00.565990Z",
     "shell.execute_reply": "2024-10-10T10:09:00.565436Z"
    }
   },
   "outputs": [],
   "source": [
    "import pynucastro as pyna"
   ]
  },
  {
   "cell_type": "code",
   "execution_count": 2,
   "metadata": {
    "execution": {
     "iopub.execute_input": "2024-10-10T10:09:00.568199Z",
     "iopub.status.busy": "2024-10-10T10:09:00.567737Z",
     "iopub.status.idle": "2024-10-10T10:09:00.968248Z",
     "shell.execute_reply": "2024-10-10T10:09:00.967699Z"
    }
   },
   "outputs": [
    {
     "ename": "RateFileError",
     "evalue": "File 'reaclib_default2_20220329' not found in the working directory, /opt/hostedtoolcache/Python/3.11.10/x64/lib/python3.11/site-packages/pynucastro/rates/library, or /opt/hostedtoolcache/Python/3.11.10/x64/lib/python3.11/site-packages/pynucastro/rates/tabular",
     "output_type": "error",
     "traceback": [
      "\u001b[0;31m---------------------------------------------------------------------------\u001b[0m",
      "\u001b[0;31mRateFileError\u001b[0m                             Traceback (most recent call last)",
      "Cell \u001b[0;32mIn[2], line 1\u001b[0m\n\u001b[0;32m----> 1\u001b[0m mylibrary \u001b[38;5;241m=\u001b[39m \u001b[43mpyna\u001b[49m\u001b[38;5;241;43m.\u001b[39;49m\u001b[43mReacLibLibrary\u001b[49m\u001b[43m(\u001b[49m\u001b[43m)\u001b[49m\n",
      "File \u001b[0;32m/opt/hostedtoolcache/Python/3.11.10/x64/lib/python3.11/site-packages/pynucastro/rates/library.py:698\u001b[0m, in \u001b[0;36mReacLibLibrary.__init__\u001b[0;34m(self)\u001b[0m\n\u001b[1;32m    696\u001b[0m \u001b[38;5;28;01mdef\u001b[39;00m \u001b[38;5;21m__init__\u001b[39m(\u001b[38;5;28mself\u001b[39m):\n\u001b[1;32m    697\u001b[0m     libfile \u001b[38;5;241m=\u001b[39m \u001b[38;5;124m'\u001b[39m\u001b[38;5;124mreaclib_default2_20220329\u001b[39m\u001b[38;5;124m'\u001b[39m\n\u001b[0;32m--> 698\u001b[0m     \u001b[43mLibrary\u001b[49m\u001b[38;5;241;43m.\u001b[39;49m\u001b[38;5;21;43m__init__\u001b[39;49m\u001b[43m(\u001b[49m\u001b[38;5;28;43mself\u001b[39;49m\u001b[43m,\u001b[49m\u001b[43m \u001b[49m\u001b[43mlibfile\u001b[49m\u001b[38;5;241;43m=\u001b[39;49m\u001b[43mlibfile\u001b[49m\u001b[43m)\u001b[49m\n",
      "File \u001b[0;32m/opt/hostedtoolcache/Python/3.11.10/x64/lib/python3.11/site-packages/pynucastro/rates/library.py:141\u001b[0m, in \u001b[0;36mLibrary.__init__\u001b[0;34m(self, libfile, rates)\u001b[0m\n\u001b[1;32m    138\u001b[0m \u001b[38;5;28mself\u001b[39m\u001b[38;5;241m.\u001b[39m_library_source_lines \u001b[38;5;241m=\u001b[39m collections\u001b[38;5;241m.\u001b[39mdeque()\n\u001b[1;32m    140\u001b[0m \u001b[38;5;28;01mif\u001b[39;00m \u001b[38;5;28mself\u001b[39m\u001b[38;5;241m.\u001b[39m_library_file:\n\u001b[0;32m--> 141\u001b[0m     \u001b[38;5;28mself\u001b[39m\u001b[38;5;241m.\u001b[39m_library_file \u001b[38;5;241m=\u001b[39m \u001b[43m_find_rate_file\u001b[49m\u001b[43m(\u001b[49m\u001b[38;5;28;43mself\u001b[39;49m\u001b[38;5;241;43m.\u001b[39;49m\u001b[43m_library_file\u001b[49m\u001b[43m)\u001b[49m\n\u001b[1;32m    142\u001b[0m     \u001b[38;5;28mself\u001b[39m\u001b[38;5;241m.\u001b[39m_read_library_file()\n",
      "File \u001b[0;32m/opt/hostedtoolcache/Python/3.11.10/x64/lib/python3.11/site-packages/pynucastro/rates/rate.py:100\u001b[0m, in \u001b[0;36m_find_rate_file\u001b[0;34m(ratename)\u001b[0m\n\u001b[1;32m     97\u001b[0m         \u001b[38;5;28;01mreturn\u001b[39;00m x\u001b[38;5;241m.\u001b[39mresolve()\n\u001b[1;32m     99\u001b[0m \u001b[38;5;66;03m# notify user we can't find the file\u001b[39;00m\n\u001b[0;32m--> 100\u001b[0m \u001b[38;5;28;01mraise\u001b[39;00m RateFileError(\u001b[38;5;124mf\u001b[39m\u001b[38;5;124m'\u001b[39m\u001b[38;5;124mFile \u001b[39m\u001b[38;5;132;01m{\u001b[39;00mratename\u001b[38;5;132;01m!r}\u001b[39;00m\u001b[38;5;124m not found in the working directory, \u001b[39m\u001b[38;5;132;01m{\u001b[39;00m_pynucastro_rates_dir\u001b[38;5;132;01m}\u001b[39;00m\u001b[38;5;124m, or \u001b[39m\u001b[38;5;132;01m{\u001b[39;00m_pynucastro_tabular_dir\u001b[38;5;132;01m}\u001b[39;00m\u001b[38;5;124m'\u001b[39m)\n",
      "\u001b[0;31mRateFileError\u001b[0m: File 'reaclib_default2_20220329' not found in the working directory, /opt/hostedtoolcache/Python/3.11.10/x64/lib/python3.11/site-packages/pynucastro/rates/library, or /opt/hostedtoolcache/Python/3.11.10/x64/lib/python3.11/site-packages/pynucastro/rates/tabular"
     ]
    }
   ],
   "source": [
    "mylibrary = pyna.ReacLibLibrary()"
   ]
  },
  {
   "cell_type": "markdown",
   "metadata": {},
   "source": [
    "## Specifying Desired Nuclei\n",
    "\n",
    "This example constructs a CNO network like the one constructed from a set of Reaclib rate files in the \"pynucastro usage examples\" section of this documentation.\n",
    "\n",
    "This time, however, we will specify the nuclei we want in the network and allow the `Library` class to find all the rates linking only nuclei in the set we specified.\n",
    "\n",
    "We can specify these nuclei by their abbreviations in the form, e.g. \"he4\":"
   ]
  },
  {
   "cell_type": "code",
   "execution_count": 3,
   "metadata": {
    "execution": {
     "iopub.execute_input": "2024-10-10T10:09:00.970131Z",
     "iopub.status.busy": "2024-10-10T10:09:00.969777Z",
     "iopub.status.idle": "2024-10-10T10:09:00.972749Z",
     "shell.execute_reply": "2024-10-10T10:09:00.972197Z"
    }
   },
   "outputs": [],
   "source": [
    "all_nuclei = [\"p\", \"he4\", \"c12\", \"n13\", \"c13\", \"o14\", \"n14\", \"o15\", \"n15\"]"
   ]
  },
  {
   "cell_type": "markdown",
   "metadata": {},
   "source": [
    "Now we use the `Library.linking_nuclei()` function to return a smaller `Library` object containing only the rates that link these nuclei.\n",
    "\n",
    "We can pass `with_reverse=False` to restrict `linking_nuclei` to only include forward rates from the Reaclib library, as pynucastro does not yet implement partition functions for reverse rates."
   ]
  },
  {
   "cell_type": "code",
   "execution_count": 4,
   "metadata": {
    "execution": {
     "iopub.execute_input": "2024-10-10T10:09:00.974394Z",
     "iopub.status.busy": "2024-10-10T10:09:00.974087Z",
     "iopub.status.idle": "2024-10-10T10:09:00.986496Z",
     "shell.execute_reply": "2024-10-10T10:09:00.985953Z"
    }
   },
   "outputs": [
    {
     "ename": "NameError",
     "evalue": "name 'mylibrary' is not defined",
     "output_type": "error",
     "traceback": [
      "\u001b[0;31m---------------------------------------------------------------------------\u001b[0m",
      "\u001b[0;31mNameError\u001b[0m                                 Traceback (most recent call last)",
      "Cell \u001b[0;32mIn[4], line 1\u001b[0m\n\u001b[0;32m----> 1\u001b[0m cno_library \u001b[38;5;241m=\u001b[39m \u001b[43mmylibrary\u001b[49m\u001b[38;5;241m.\u001b[39mlinking_nuclei(all_nuclei, with_reverse\u001b[38;5;241m=\u001b[39m\u001b[38;5;28;01mFalse\u001b[39;00m)\n",
      "\u001b[0;31mNameError\u001b[0m: name 'mylibrary' is not defined"
     ]
    }
   ],
   "source": [
    "cno_library = mylibrary.linking_nuclei(all_nuclei, with_reverse=False)"
   ]
  },
  {
   "cell_type": "markdown",
   "metadata": {},
   "source": [
    "Now we can create a network (`PythonNetwork` or `StarKillerNetwork`) as:"
   ]
  },
  {
   "cell_type": "code",
   "execution_count": 5,
   "metadata": {
    "execution": {
     "iopub.execute_input": "2024-10-10T10:09:00.988439Z",
     "iopub.status.busy": "2024-10-10T10:09:00.988107Z",
     "iopub.status.idle": "2024-10-10T10:09:01.003173Z",
     "shell.execute_reply": "2024-10-10T10:09:01.002619Z"
    }
   },
   "outputs": [
    {
     "ename": "NameError",
     "evalue": "name 'cno_library' is not defined",
     "output_type": "error",
     "traceback": [
      "\u001b[0;31m---------------------------------------------------------------------------\u001b[0m",
      "\u001b[0;31mNameError\u001b[0m                                 Traceback (most recent call last)",
      "Cell \u001b[0;32mIn[5], line 1\u001b[0m\n\u001b[0;32m----> 1\u001b[0m cno_network \u001b[38;5;241m=\u001b[39m pyna\u001b[38;5;241m.\u001b[39mnetworks\u001b[38;5;241m.\u001b[39mPythonNetwork(libraries\u001b[38;5;241m=\u001b[39m\u001b[43mcno_library\u001b[49m)\n",
      "\u001b[0;31mNameError\u001b[0m: name 'cno_library' is not defined"
     ]
    }
   ],
   "source": [
    "cno_network = pyna.networks.PythonNetwork(libraries=cno_library)"
   ]
  },
  {
   "cell_type": "markdown",
   "metadata": {},
   "source": [
    "In the above, we construct a network from a `Library` object by passing the `Library` object to the `libraries` argument of the network constructor. To construct a network from multiple libraries, the `libraries` argument can also take a list of `Library` objects.\n",
    "\n",
    "We can show the structure of the network by plotting a network diagram."
   ]
  },
  {
   "cell_type": "code",
   "execution_count": 6,
   "metadata": {
    "execution": {
     "iopub.execute_input": "2024-10-10T10:09:01.005024Z",
     "iopub.status.busy": "2024-10-10T10:09:01.004612Z",
     "iopub.status.idle": "2024-10-10T10:09:01.017086Z",
     "shell.execute_reply": "2024-10-10T10:09:01.016620Z"
    }
   },
   "outputs": [
    {
     "ename": "NameError",
     "evalue": "name 'cno_network' is not defined",
     "output_type": "error",
     "traceback": [
      "\u001b[0;31m---------------------------------------------------------------------------\u001b[0m",
      "\u001b[0;31mNameError\u001b[0m                                 Traceback (most recent call last)",
      "Cell \u001b[0;32mIn[6], line 1\u001b[0m\n\u001b[0;32m----> 1\u001b[0m fig \u001b[38;5;241m=\u001b[39m \u001b[43mcno_network\u001b[49m\u001b[38;5;241m.\u001b[39mplot()\n",
      "\u001b[0;31mNameError\u001b[0m: name 'cno_network' is not defined"
     ]
    }
   ],
   "source": [
    "fig = cno_network.plot()"
   ]
  },
  {
   "cell_type": "markdown",
   "metadata": {},
   "source": [
    "Note that the above network also includes the triple-alpha rate from Reaclib."
   ]
  },
  {
   "cell_type": "markdown",
   "metadata": {},
   "source": [
    "If we wanted to generate the python code to calculate the right-hand side we could next do:"
   ]
  },
  {
   "cell_type": "code",
   "execution_count": 7,
   "metadata": {
    "execution": {
     "iopub.execute_input": "2024-10-10T10:09:01.018998Z",
     "iopub.status.busy": "2024-10-10T10:09:01.018430Z",
     "iopub.status.idle": "2024-10-10T10:09:01.030158Z",
     "shell.execute_reply": "2024-10-10T10:09:01.029725Z"
    },
    "tags": [
     "nbval-skip"
    ]
   },
   "outputs": [
    {
     "ename": "NameError",
     "evalue": "name 'cno_network' is not defined",
     "output_type": "error",
     "traceback": [
      "\u001b[0;31m---------------------------------------------------------------------------\u001b[0m",
      "\u001b[0;31mNameError\u001b[0m                                 Traceback (most recent call last)",
      "Cell \u001b[0;32mIn[7], line 1\u001b[0m\n\u001b[0;32m----> 1\u001b[0m \u001b[43mcno_network\u001b[49m\u001b[38;5;241m.\u001b[39mwrite_network(\u001b[38;5;124m'\u001b[39m\u001b[38;5;124mnetwork_module.py\u001b[39m\u001b[38;5;124m'\u001b[39m)\n",
      "\u001b[0;31mNameError\u001b[0m: name 'cno_network' is not defined"
     ]
    }
   ],
   "source": [
    "cno_network.write_network('network_module.py')"
   ]
  },
  {
   "cell_type": "markdown",
   "metadata": {},
   "source": [
    "And we could run this together with the burn driver program in `examples/burn.py`"
   ]
  },
  {
   "cell_type": "markdown",
   "metadata": {},
   "source": [
    "## Filtering the Library\n",
    "\n",
    "This example introduces the `RateFilter` class which allows us to define a set of reactants and products to search for in a `Library` object.\n",
    "\n",
    "### Inexact Filtering\n",
    "\n",
    "Inexact filtering is like using wildcards: in the following example, the rate filter we define will match any rates in which $\\mathrm{^{12}C}$ is a reactant."
   ]
  },
  {
   "cell_type": "code",
   "execution_count": 8,
   "metadata": {
    "execution": {
     "iopub.execute_input": "2024-10-10T10:09:01.031938Z",
     "iopub.status.busy": "2024-10-10T10:09:01.031612Z",
     "iopub.status.idle": "2024-10-10T10:09:01.034382Z",
     "shell.execute_reply": "2024-10-10T10:09:01.033957Z"
    }
   },
   "outputs": [],
   "source": [
    "c12_inexact_filter = pyna.RateFilter(reactants=['c12'], exact=False)"
   ]
  },
  {
   "cell_type": "markdown",
   "metadata": {},
   "source": [
    "Once we construct a `RateFilter` object, we can apply it to our `Library` by passing it to the `Library.filter` function.\n",
    "\n",
    "`Library.filter` returns a new `Library` object containing the rates that match our `RateFilter`.\n",
    "\n",
    "We can print a `Library` to see the rates it contains. In parentheses the rate identifier is printed, showing the Reaclib rate label as well as whether the rate is forward or reverse."
   ]
  },
  {
   "cell_type": "code",
   "execution_count": 9,
   "metadata": {
    "execution": {
     "iopub.execute_input": "2024-10-10T10:09:01.036034Z",
     "iopub.status.busy": "2024-10-10T10:09:01.035711Z",
     "iopub.status.idle": "2024-10-10T10:09:01.046913Z",
     "shell.execute_reply": "2024-10-10T10:09:01.046335Z"
    }
   },
   "outputs": [
    {
     "ename": "NameError",
     "evalue": "name 'mylibrary' is not defined",
     "output_type": "error",
     "traceback": [
      "\u001b[0;31m---------------------------------------------------------------------------\u001b[0m",
      "\u001b[0;31mNameError\u001b[0m                                 Traceback (most recent call last)",
      "Cell \u001b[0;32mIn[9], line 1\u001b[0m\n\u001b[0;32m----> 1\u001b[0m c12_inexact_library \u001b[38;5;241m=\u001b[39m \u001b[43mmylibrary\u001b[49m\u001b[38;5;241m.\u001b[39mfilter(c12_inexact_filter)\n\u001b[1;32m      2\u001b[0m \u001b[38;5;28mprint\u001b[39m(c12_inexact_library)\n",
      "\u001b[0;31mNameError\u001b[0m: name 'mylibrary' is not defined"
     ]
    }
   ],
   "source": [
    "c12_inexact_library = mylibrary.filter(c12_inexact_filter)\n",
    "print(c12_inexact_library)"
   ]
  },
  {
   "cell_type": "markdown",
   "metadata": {},
   "source": [
    "The rate identifiers above can be used to access individual `Rate` objects within a `Library` as follows:"
   ]
  },
  {
   "cell_type": "code",
   "execution_count": 10,
   "metadata": {
    "execution": {
     "iopub.execute_input": "2024-10-10T10:09:01.048667Z",
     "iopub.status.busy": "2024-10-10T10:09:01.048261Z",
     "iopub.status.idle": "2024-10-10T10:09:01.059357Z",
     "shell.execute_reply": "2024-10-10T10:09:01.058794Z"
    }
   },
   "outputs": [
    {
     "ename": "NameError",
     "evalue": "name 'c12_inexact_library' is not defined",
     "output_type": "error",
     "traceback": [
      "\u001b[0;31m---------------------------------------------------------------------------\u001b[0m",
      "\u001b[0;31mNameError\u001b[0m                                 Traceback (most recent call last)",
      "Cell \u001b[0;32mIn[10], line 1\u001b[0m\n\u001b[0;32m----> 1\u001b[0m cago \u001b[38;5;241m=\u001b[39m \u001b[43mc12_inexact_library\u001b[49m\u001b[38;5;241m.\u001b[39mget_rate(\u001b[38;5;124m'\u001b[39m\u001b[38;5;124mc12 + he4 --> o16 <nac2_reaclib__>\u001b[39m\u001b[38;5;124m'\u001b[39m)\n",
      "\u001b[0;31mNameError\u001b[0m: name 'c12_inexact_library' is not defined"
     ]
    }
   ],
   "source": [
    "cago = c12_inexact_library.get_rate('c12 + he4 --> o16 <nac2_reaclib__>')"
   ]
  },
  {
   "cell_type": "code",
   "execution_count": 11,
   "metadata": {
    "execution": {
     "iopub.execute_input": "2024-10-10T10:09:01.061044Z",
     "iopub.status.busy": "2024-10-10T10:09:01.060653Z",
     "iopub.status.idle": "2024-10-10T10:09:01.071622Z",
     "shell.execute_reply": "2024-10-10T10:09:01.071074Z"
    }
   },
   "outputs": [
    {
     "ename": "NameError",
     "evalue": "name 'cago' is not defined",
     "output_type": "error",
     "traceback": [
      "\u001b[0;31m---------------------------------------------------------------------------\u001b[0m",
      "\u001b[0;31mNameError\u001b[0m                                 Traceback (most recent call last)",
      "Cell \u001b[0;32mIn[11], line 1\u001b[0m\n\u001b[0;32m----> 1\u001b[0m fig \u001b[38;5;241m=\u001b[39m \u001b[43mcago\u001b[49m\u001b[38;5;241m.\u001b[39mplot()\n",
      "\u001b[0;31mNameError\u001b[0m: name 'cago' is not defined"
     ]
    }
   ],
   "source": [
    "fig = cago.plot()"
   ]
  },
  {
   "cell_type": "markdown",
   "metadata": {},
   "source": [
    "### Exact Filtering\n",
    "\n",
    "Exact filtering is useful when you have a specific rate in mind or a specific combination of reactants or products. In the following example, we look for all rates of the form $\\mathrm{^{12}C + ^{12}C \\rightarrow \\ldots}$\n",
    "\n",
    "To use exact filtering, omit the `exact` keyword to the `RateFilter` constructor, as it is turned on by default.\n",
    "\n",
    "Exact filtering does not mean all the nuclei involved in the rate must be specified, it means that all filtering options passed to the `RateFilter` constructor are strictly applied. In this case, the filter will return rates with exactly two reactants, both of which are $\\mathrm{^{12}C}$. However, the filter places no constraint on the products or number of products in the rate."
   ]
  },
  {
   "cell_type": "code",
   "execution_count": 12,
   "metadata": {
    "execution": {
     "iopub.execute_input": "2024-10-10T10:09:01.073499Z",
     "iopub.status.busy": "2024-10-10T10:09:01.073187Z",
     "iopub.status.idle": "2024-10-10T10:09:01.084810Z",
     "shell.execute_reply": "2024-10-10T10:09:01.084279Z"
    }
   },
   "outputs": [
    {
     "ename": "NameError",
     "evalue": "name 'mylibrary' is not defined",
     "output_type": "error",
     "traceback": [
      "\u001b[0;31m---------------------------------------------------------------------------\u001b[0m",
      "\u001b[0;31mNameError\u001b[0m                                 Traceback (most recent call last)",
      "Cell \u001b[0;32mIn[12], line 2\u001b[0m\n\u001b[1;32m      1\u001b[0m c12_exact_filter \u001b[38;5;241m=\u001b[39m pyna\u001b[38;5;241m.\u001b[39mrates\u001b[38;5;241m.\u001b[39mRateFilter(reactants\u001b[38;5;241m=\u001b[39m[\u001b[38;5;124m'\u001b[39m\u001b[38;5;124mc12\u001b[39m\u001b[38;5;124m'\u001b[39m, \u001b[38;5;124m'\u001b[39m\u001b[38;5;124mc12\u001b[39m\u001b[38;5;124m'\u001b[39m])\n\u001b[0;32m----> 2\u001b[0m c12_exact_library \u001b[38;5;241m=\u001b[39m \u001b[43mmylibrary\u001b[49m\u001b[38;5;241m.\u001b[39mfilter(c12_exact_filter)\n\u001b[1;32m      3\u001b[0m \u001b[38;5;28mprint\u001b[39m(c12_exact_library)\n",
      "\u001b[0;31mNameError\u001b[0m: name 'mylibrary' is not defined"
     ]
    }
   ],
   "source": [
    "c12_exact_filter = pyna.rates.RateFilter(reactants=['c12', 'c12'])\n",
    "c12_exact_library = mylibrary.filter(c12_exact_filter)\n",
    "print(c12_exact_library)"
   ]
  },
  {
   "cell_type": "markdown",
   "metadata": {},
   "source": [
    "## Example: Building an Alpha Capture Network\n",
    "\n",
    "In the next example, we use rate filtering to iteratively construct a `Library` containing the alpha capture rates linking $\\mathrm{^{12}C}$ to $\\mathrm{^{56}Ni}$.\n",
    "\n",
    "After finding each successive link in the alpha capture chain, we call `Library.heaviest()` to find the heaviest nucleus in the filtered rates. This corresponds to the nucleus with the largest mass number, and in case of a tie between isobars, this returns the isobar with the smallest atomic number. We use this feature to find the reverse rate for each alpha capture reaction.\n",
    "\n",
    "In the example below, we add each filtered library to our alpha capture library `alpha_library`, initialized as an empty `Library`. The `Library` class supports the addition operator by returning a new library containing the rates in the two libraries we added together.\n",
    "\n",
    "This example also introduces the `max_products` keyword, which specifies we are looking for reactions producing at most `max_products` product nuclei.\n",
    "\n",
    "Similarly, the `RateFilter` constructor supports the following keywords constraining the number of reactants and products:\n",
    "\n",
    "- `min_reactants`\n",
    "- `max_reactants`\n",
    "- `min_products`\n",
    "- `max_products`\n",
    "\n",
    "Because we have omitted the argument `exact=False`, the filter constraints we apply are exact."
   ]
  },
  {
   "cell_type": "code",
   "execution_count": 13,
   "metadata": {
    "execution": {
     "iopub.execute_input": "2024-10-10T10:09:01.086399Z",
     "iopub.status.busy": "2024-10-10T10:09:01.086100Z",
     "iopub.status.idle": "2024-10-10T10:09:01.101493Z",
     "shell.execute_reply": "2024-10-10T10:09:01.100941Z"
    }
   },
   "outputs": [
    {
     "ename": "NameError",
     "evalue": "name 'mylibrary' is not defined",
     "output_type": "error",
     "traceback": [
      "\u001b[0;31m---------------------------------------------------------------------------\u001b[0m",
      "\u001b[0;31mNameError\u001b[0m                                 Traceback (most recent call last)",
      "Cell \u001b[0;32mIn[13], line 8\u001b[0m\n\u001b[1;32m      6\u001b[0m \u001b[38;5;28;01mwhile\u001b[39;00m \u001b[38;5;28;01mTrue\u001b[39;00m:\n\u001b[1;32m      7\u001b[0m     ac_filter \u001b[38;5;241m=\u001b[39m pyna\u001b[38;5;241m.\u001b[39mRateFilter(reactants\u001b[38;5;241m=\u001b[39m[capture, seed], max_products\u001b[38;5;241m=\u001b[39m\u001b[38;5;241m1\u001b[39m)\n\u001b[0;32m----> 8\u001b[0m     ac_library \u001b[38;5;241m=\u001b[39m \u001b[43mmylibrary\u001b[49m\u001b[38;5;241m.\u001b[39mfilter(ac_filter)\n\u001b[1;32m      9\u001b[0m     alpha_library \u001b[38;5;241m=\u001b[39m alpha_library \u001b[38;5;241m+\u001b[39m ac_library\n\u001b[1;32m     11\u001b[0m     heavy \u001b[38;5;241m=\u001b[39m ac_library\u001b[38;5;241m.\u001b[39mheaviest()\n",
      "\u001b[0;31mNameError\u001b[0m: name 'mylibrary' is not defined"
     ]
    }
   ],
   "source": [
    "alpha_library = pyna.Library()\n",
    "\n",
    "capture = pyna.Nucleus('he4')\n",
    "seed = pyna.Nucleus('c12')\n",
    "\n",
    "while True:\n",
    "    ac_filter = pyna.RateFilter(reactants=[capture, seed], max_products=1)\n",
    "    ac_library = mylibrary.filter(ac_filter)\n",
    "    alpha_library = alpha_library + ac_library\n",
    "\n",
    "    heavy = ac_library.heaviest()\n",
    "    ac_filter_inv = pyna.RateFilter(reactants=[heavy], products=[capture, seed])\n",
    "    ac_inv_library = mylibrary.filter(ac_filter_inv)\n",
    "    alpha_library = alpha_library + ac_inv_library\n",
    "\n",
    "    print(heavy)\n",
    "    if heavy.A == 56:\n",
    "        break\n",
    "    else:\n",
    "        seed = heavy"
   ]
  },
  {
   "cell_type": "markdown",
   "metadata": {},
   "source": [
    "We will next print out the library we constructed, seeing that we have both forward and reverse rates for the alpha chain.\n",
    "\n",
    "Note that at this time `pynucastro` has not yet implemented nuclear partition functions, so these reverse rates are calculated only from detailed balance in the Reaclib library."
   ]
  },
  {
   "cell_type": "code",
   "execution_count": 14,
   "metadata": {
    "execution": {
     "iopub.execute_input": "2024-10-10T10:09:01.103294Z",
     "iopub.status.busy": "2024-10-10T10:09:01.102980Z",
     "iopub.status.idle": "2024-10-10T10:09:01.106076Z",
     "shell.execute_reply": "2024-10-10T10:09:01.105557Z"
    }
   },
   "outputs": [
    {
     "name": "stdout",
     "output_type": "stream",
     "text": [
      "\n"
     ]
    }
   ],
   "source": [
    "print(alpha_library)"
   ]
  },
  {
   "cell_type": "markdown",
   "metadata": {},
   "source": [
    "Next we can create a reaction network from our filtered alpha capture library by passing our library to a network constructor using the `libraries` keyword."
   ]
  },
  {
   "cell_type": "code",
   "execution_count": 15,
   "metadata": {
    "execution": {
     "iopub.execute_input": "2024-10-10T10:09:01.108499Z",
     "iopub.status.busy": "2024-10-10T10:09:01.108139Z",
     "iopub.status.idle": "2024-10-10T10:09:01.110953Z",
     "shell.execute_reply": "2024-10-10T10:09:01.110475Z"
    }
   },
   "outputs": [],
   "source": [
    "alpha_network = pyna.PythonNetwork(libraries=alpha_library)"
   ]
  },
  {
   "cell_type": "markdown",
   "metadata": {},
   "source": [
    "And finally we can make Z-N plot of the nuclei linked via the reactions we selected."
   ]
  },
  {
   "cell_type": "code",
   "execution_count": 16,
   "metadata": {
    "execution": {
     "iopub.execute_input": "2024-10-10T10:09:01.112674Z",
     "iopub.status.busy": "2024-10-10T10:09:01.112348Z",
     "iopub.status.idle": "2024-10-10T10:09:01.312057Z",
     "shell.execute_reply": "2024-10-10T10:09:01.311566Z"
    }
   },
   "outputs": [
    {
     "ename": "ValueError",
     "evalue": "zero-size array to reduction operation minimum which has no identity",
     "output_type": "error",
     "traceback": [
      "\u001b[0;31m---------------------------------------------------------------------------\u001b[0m",
      "\u001b[0;31mValueError\u001b[0m                                Traceback (most recent call last)",
      "Cell \u001b[0;32mIn[16], line 1\u001b[0m\n\u001b[0;32m----> 1\u001b[0m fig \u001b[38;5;241m=\u001b[39m \u001b[43malpha_network\u001b[49m\u001b[38;5;241;43m.\u001b[39;49m\u001b[43mplot\u001b[49m\u001b[43m(\u001b[49m\u001b[43m)\u001b[49m\n",
      "File \u001b[0;32m/opt/hostedtoolcache/Python/3.11.10/x64/lib/python3.11/site-packages/pynucastro/networks/rate_collection.py:1564\u001b[0m, in \u001b[0;36mRateCollection.plot\u001b[0;34m(self, rho, T, comp, outfile, size, dpi, title, ydot_cutoff_value, show_small_ydot, node_size, node_font_size, node_color, node_shape, curved_edges, N_range, Z_range, rotated, always_show_p, always_show_alpha, hide_xp, hide_xalpha, highlight_filter_function, nucleus_filter_function, rate_filter_function)\u001b[0m\n\u001b[1;32m   1562\u001b[0m edge_color \u001b[38;5;241m=\u001b[39m real_weights\n\u001b[1;32m   1563\u001b[0m ww \u001b[38;5;241m=\u001b[39m np\u001b[38;5;241m.\u001b[39marray(real_weights)\n\u001b[0;32m-> 1564\u001b[0m min_weight \u001b[38;5;241m=\u001b[39m \u001b[43mww\u001b[49m\u001b[38;5;241;43m.\u001b[39;49m\u001b[43mmin\u001b[49m\u001b[43m(\u001b[49m\u001b[43m)\u001b[49m\n\u001b[1;32m   1565\u001b[0m max_weight \u001b[38;5;241m=\u001b[39m ww\u001b[38;5;241m.\u001b[39mmax()\n\u001b[1;32m   1566\u001b[0m dw \u001b[38;5;241m=\u001b[39m (max_weight \u001b[38;5;241m-\u001b[39m min_weight)\u001b[38;5;241m/\u001b[39m\u001b[38;5;241m4\u001b[39m\n",
      "File \u001b[0;32m/opt/hostedtoolcache/Python/3.11.10/x64/lib/python3.11/site-packages/numpy/_core/_methods.py:48\u001b[0m, in \u001b[0;36m_amin\u001b[0;34m(a, axis, out, keepdims, initial, where)\u001b[0m\n\u001b[1;32m     46\u001b[0m \u001b[38;5;28;01mdef\u001b[39;00m \u001b[38;5;21m_amin\u001b[39m(a, axis\u001b[38;5;241m=\u001b[39m\u001b[38;5;28;01mNone\u001b[39;00m, out\u001b[38;5;241m=\u001b[39m\u001b[38;5;28;01mNone\u001b[39;00m, keepdims\u001b[38;5;241m=\u001b[39m\u001b[38;5;28;01mFalse\u001b[39;00m,\n\u001b[1;32m     47\u001b[0m           initial\u001b[38;5;241m=\u001b[39m_NoValue, where\u001b[38;5;241m=\u001b[39m\u001b[38;5;28;01mTrue\u001b[39;00m):\n\u001b[0;32m---> 48\u001b[0m     \u001b[38;5;28;01mreturn\u001b[39;00m \u001b[43mumr_minimum\u001b[49m\u001b[43m(\u001b[49m\u001b[43ma\u001b[49m\u001b[43m,\u001b[49m\u001b[43m \u001b[49m\u001b[43maxis\u001b[49m\u001b[43m,\u001b[49m\u001b[43m \u001b[49m\u001b[38;5;28;43;01mNone\u001b[39;49;00m\u001b[43m,\u001b[49m\u001b[43m \u001b[49m\u001b[43mout\u001b[49m\u001b[43m,\u001b[49m\u001b[43m \u001b[49m\u001b[43mkeepdims\u001b[49m\u001b[43m,\u001b[49m\u001b[43m \u001b[49m\u001b[43minitial\u001b[49m\u001b[43m,\u001b[49m\u001b[43m \u001b[49m\u001b[43mwhere\u001b[49m\u001b[43m)\u001b[49m\n",
      "\u001b[0;31mValueError\u001b[0m: zero-size array to reduction operation minimum which has no identity"
     ]
    },
    {
     "data": {
      "image/png": "[encoded data removed]",
      "text/plain": [
       "<Figure size 640x480 with 1 Axes>"
      ]
     },
     "metadata": {},
     "output_type": "display_data"
    }
   ],
   "source": [
    "fig = alpha_network.plot()"
   ]
  }
 ],
 "metadata": {
  "celltoolbar": "Tags",
  "kernelspec": {
   "display_name": "Python 3 (ipykernel)",
   "language": "python",
   "name": "python3"
  },
  "language_info": {
   "codemirror_mode": {
    "name": "ipython",
    "version": 3
   },
   "file_extension": ".py",
   "mimetype": "text/x-python",
   "name": "python",
   "nbconvert_exporter": "python",
   "pygments_lexer": "ipython3",
   "version": "3.11.10"
  }
 },
 "nbformat": 4,
 "nbformat_minor": 4
}
