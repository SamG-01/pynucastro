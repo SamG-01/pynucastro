{
 "cells": [
  {
   "cell_type": "markdown",
   "metadata": {},
   "source": [
    "# Selecting Rates from a Library"
   ]
  },
  {
   "cell_type": "markdown",
   "metadata": {},
   "source": [
    "The `Library` class in `pynucastro` provides a high level interface for reading files containing one or more Reaclib rates and then filtering these rates based on user-specified criteria for the nuclei involved in the reactions. We can then use the resulting rates to build a network.\n",
    "\n",
    "This example uses a Reaclib snapshot (`20180319default2`) downloaded from:\n",
    "\n",
    "https://reaclib.jinaweb.org/library.php?action=viewsnapshots\n",
    "\n",
    "That snapshot is found in the library search path."
   ]
  },
  {
   "cell_type": "markdown",
   "metadata": {},
   "source": [
    "## Reading a rate snapshot\n",
    "\n",
    "The `Library` class will look for the library file in the working directory or in the `pynucastro/library` subdirectory of the `pynucastro` package.\n",
    "\n",
    "When the constructor is supplied a file name, `pynucastro` will read the contents of this file and interpret them as Reaclib rates in either the Reaclib 1 or 2 formats. The `Library` then stores the rates from the file as `Rate` objects."
   ]
  },
  {
   "cell_type": "code",
   "execution_count": 1,
   "metadata": {
    "execution": {
     "iopub.execute_input": "2024-10-17T08:13:39.373518Z",
     "iopub.status.busy": "2024-10-17T08:13:39.373114Z",
     "iopub.status.idle": "2024-10-17T08:13:40.720627Z",
     "shell.execute_reply": "2024-10-17T08:13:40.720086Z"
    }
   },
   "outputs": [],
   "source": [
    "import pynucastro as pyna"
   ]
  },
  {
   "cell_type": "code",
   "execution_count": 2,
   "metadata": {
    "execution": {
     "iopub.execute_input": "2024-10-17T08:13:40.722673Z",
     "iopub.status.busy": "2024-10-17T08:13:40.722215Z",
     "iopub.status.idle": "2024-10-17T08:13:41.133851Z",
     "shell.execute_reply": "2024-10-17T08:13:41.133321Z"
    }
   },
   "outputs": [
    {
     "ename": "AttributeError",
     "evalue": "'ReacLibLibrary' object has no attribute '_rates'",
     "output_type": "error",
     "traceback": [
      "\u001b[0;31m---------------------------------------------------------------------------\u001b[0m",
      "\u001b[0;31mAttributeError\u001b[0m                            Traceback (most recent call last)",
      "Cell \u001b[0;32mIn[2], line 1\u001b[0m\n\u001b[0;32m----> 1\u001b[0m mylibrary \u001b[38;5;241m=\u001b[39m \u001b[43mpyna\u001b[49m\u001b[38;5;241;43m.\u001b[39;49m\u001b[43mReacLibLibrary\u001b[49m\u001b[43m(\u001b[49m\u001b[43m)\u001b[49m\n",
      "File \u001b[0;32m/opt/hostedtoolcache/Python/3.11.10/x64/lib/python3.11/site-packages/pynucastro/rates/library.py:696\u001b[0m, in \u001b[0;36mReacLibLibrary.__init__\u001b[0;34m(self)\u001b[0m\n\u001b[1;32m    694\u001b[0m \u001b[38;5;28;01mdef\u001b[39;00m \u001b[38;5;21m__init__\u001b[39m(\u001b[38;5;28mself\u001b[39m):\n\u001b[1;32m    695\u001b[0m     libfile \u001b[38;5;241m=\u001b[39m \u001b[38;5;124m'\u001b[39m\u001b[38;5;124mreaclib_default2_20220329\u001b[39m\u001b[38;5;124m'\u001b[39m\n\u001b[0;32m--> 696\u001b[0m     \u001b[43mLibrary\u001b[49m\u001b[38;5;241;43m.\u001b[39;49m\u001b[38;5;21;43m__init__\u001b[39;49m\u001b[43m(\u001b[49m\u001b[38;5;28;43mself\u001b[39;49m\u001b[43m,\u001b[49m\u001b[43m \u001b[49m\u001b[43mlibfile\u001b[49m\u001b[38;5;241;43m=\u001b[39;49m\u001b[43mlibfile\u001b[49m\u001b[43m)\u001b[49m\n",
      "File \u001b[0;32m/opt/hostedtoolcache/Python/3.11.10/x64/lib/python3.11/site-packages/pynucastro/rates/library.py:138\u001b[0m, in \u001b[0;36mLibrary.__init__\u001b[0;34m(self, libfile, rates)\u001b[0m\n\u001b[1;32m    136\u001b[0m \u001b[38;5;28;01mif\u001b[39;00m \u001b[38;5;28mself\u001b[39m\u001b[38;5;241m.\u001b[39m_library_file:\n\u001b[1;32m    137\u001b[0m     \u001b[38;5;28mself\u001b[39m\u001b[38;5;241m.\u001b[39m_library_file \u001b[38;5;241m=\u001b[39m _find_rate_file(\u001b[38;5;28mself\u001b[39m\u001b[38;5;241m.\u001b[39m_library_file)\n\u001b[0;32m--> 138\u001b[0m     \u001b[38;5;28;43mself\u001b[39;49m\u001b[38;5;241;43m.\u001b[39;49m\u001b[43m_read_library_file\u001b[49m\u001b[43m(\u001b[49m\u001b[43m)\u001b[49m\n",
      "File \u001b[0;32m/opt/hostedtoolcache/Python/3.11.10/x64/lib/python3.11/site-packages/pynucastro/rates/library.py:312\u001b[0m, in \u001b[0;36mLibrary._read_library_file\u001b[0;34m(self)\u001b[0m\n\u001b[1;32m    310\u001b[0m \u001b[38;5;28;01melse\u001b[39;00m:\n\u001b[1;32m    311\u001b[0m     rid \u001b[38;5;241m=\u001b[39m r\u001b[38;5;241m.\u001b[39mget_rate_id()\n\u001b[0;32m--> 312\u001b[0m     \u001b[38;5;28;01mif\u001b[39;00m rid \u001b[38;5;129;01min\u001b[39;00m \u001b[38;5;28;43mself\u001b[39;49m\u001b[38;5;241;43m.\u001b[39;49m\u001b[43m_rates\u001b[49m:\n\u001b[1;32m    313\u001b[0m         \u001b[38;5;28mself\u001b[39m\u001b[38;5;241m.\u001b[39m_rates[rid] \u001b[38;5;241m=\u001b[39m \u001b[38;5;28mself\u001b[39m\u001b[38;5;241m.\u001b[39m_rates[rid] \u001b[38;5;241m+\u001b[39m r\n\u001b[1;32m    314\u001b[0m     \u001b[38;5;28;01melse\u001b[39;00m:\n",
      "\u001b[0;31mAttributeError\u001b[0m: 'ReacLibLibrary' object has no attribute '_rates'"
     ]
    }
   ],
   "source": [
    "mylibrary = pyna.ReacLibLibrary()"
   ]
  },
  {
   "cell_type": "markdown",
   "metadata": {},
   "source": [
    "## Specifying Desired Nuclei\n",
    "\n",
    "This example constructs a CNO network like the one constructed from a set of Reaclib rate files in the \"pynucastro usage examples\" section of this documentation.\n",
    "\n",
    "This time, however, we will specify the nuclei we want in the network and allow the `Library` class to find all the rates linking only nuclei in the set we specified.\n",
    "\n",
    "We can specify these nuclei by their abbreviations in the form, e.g. \"he4\":"
   ]
  },
  {
   "cell_type": "code",
   "execution_count": 3,
   "metadata": {
    "execution": {
     "iopub.execute_input": "2024-10-17T08:13:41.135774Z",
     "iopub.status.busy": "2024-10-17T08:13:41.135422Z",
     "iopub.status.idle": "2024-10-17T08:13:41.138059Z",
     "shell.execute_reply": "2024-10-17T08:13:41.137606Z"
    }
   },
   "outputs": [],
   "source": [
    "all_nuclei = [\"p\", \"he4\", \"c12\", \"n13\", \"c13\", \"o14\", \"n14\", \"o15\", \"n15\"]"
   ]
  },
  {
   "cell_type": "markdown",
   "metadata": {},
   "source": [
    "Now we use the `Library.linking_nuclei()` function to return a smaller `Library` object containing only the rates that link these nuclei.\n",
    "\n",
    "We can pass `with_reverse=False` to restrict `linking_nuclei` to only include forward rates from the Reaclib library, as pynucastro does not yet implement partition functions for reverse rates."
   ]
  },
  {
   "cell_type": "code",
   "execution_count": 4,
   "metadata": {
    "execution": {
     "iopub.execute_input": "2024-10-17T08:13:41.139680Z",
     "iopub.status.busy": "2024-10-17T08:13:41.139350Z",
     "iopub.status.idle": "2024-10-17T08:13:41.151512Z",
     "shell.execute_reply": "2024-10-17T08:13:41.151058Z"
    }
   },
   "outputs": [
    {
     "ename": "NameError",
     "evalue": "name 'mylibrary' is not defined",
     "output_type": "error",
     "traceback": [
      "\u001b[0;31m---------------------------------------------------------------------------\u001b[0m",
      "\u001b[0;31mNameError\u001b[0m                                 Traceback (most recent call last)",
      "Cell \u001b[0;32mIn[4], line 1\u001b[0m\n\u001b[0;32m----> 1\u001b[0m cno_library \u001b[38;5;241m=\u001b[39m \u001b[43mmylibrary\u001b[49m\u001b[38;5;241m.\u001b[39mlinking_nuclei(all_nuclei, with_reverse\u001b[38;5;241m=\u001b[39m\u001b[38;5;28;01mFalse\u001b[39;00m)\n",
      "\u001b[0;31mNameError\u001b[0m: name 'mylibrary' is not defined"
     ]
    }
   ],
   "source": [
    "cno_library = mylibrary.linking_nuclei(all_nuclei, with_reverse=False)"
   ]
  },
  {
   "cell_type": "markdown",
   "metadata": {},
   "source": [
    "Now we can create a network (`PythonNetwork` or `StarKillerNetwork`) as:"
   ]
  },
  {
   "cell_type": "code",
   "execution_count": 5,
   "metadata": {
    "execution": {
     "iopub.execute_input": "2024-10-17T08:13:41.153252Z",
     "iopub.status.busy": "2024-10-17T08:13:41.152929Z",
     "iopub.status.idle": "2024-10-17T08:13:41.164384Z",
     "shell.execute_reply": "2024-10-17T08:13:41.163959Z"
    }
   },
   "outputs": [
    {
     "ename": "NameError",
     "evalue": "name 'cno_library' is not defined",
     "output_type": "error",
     "traceback": [
      "\u001b[0;31m---------------------------------------------------------------------------\u001b[0m",
      "\u001b[0;31mNameError\u001b[0m                                 Traceback (most recent call last)",
      "Cell \u001b[0;32mIn[5], line 1\u001b[0m\n\u001b[0;32m----> 1\u001b[0m cno_network \u001b[38;5;241m=\u001b[39m pyna\u001b[38;5;241m.\u001b[39mnetworks\u001b[38;5;241m.\u001b[39mPythonNetwork(libraries\u001b[38;5;241m=\u001b[39m\u001b[43mcno_library\u001b[49m)\n",
      "\u001b[0;31mNameError\u001b[0m: name 'cno_library' is not defined"
     ]
    }
   ],
   "source": [
    "cno_network = pyna.networks.PythonNetwork(libraries=cno_library)"
   ]
  },
  {
   "cell_type": "markdown",
   "metadata": {},
   "source": [
    "In the above, we construct a network from a `Library` object by passing the `Library` object to the `libraries` argument of the network constructor. To construct a network from multiple libraries, the `libraries` argument can also take a list of `Library` objects.\n",
    "\n",
    "We can show the structure of the network by plotting a network diagram."
   ]
  },
  {
   "cell_type": "code",
   "execution_count": 6,
   "metadata": {
    "execution": {
     "iopub.execute_input": "2024-10-17T08:13:41.166093Z",
     "iopub.status.busy": "2024-10-17T08:13:41.165685Z",
     "iopub.status.idle": "2024-10-17T08:13:41.176605Z",
     "shell.execute_reply": "2024-10-17T08:13:41.176155Z"
    }
   },
   "outputs": [
    {
     "ename": "NameError",
     "evalue": "name 'cno_network' is not defined",
     "output_type": "error",
     "traceback": [
      "\u001b[0;31m---------------------------------------------------------------------------\u001b[0m",
      "\u001b[0;31mNameError\u001b[0m                                 Traceback (most recent call last)",
      "Cell \u001b[0;32mIn[6], line 1\u001b[0m\n\u001b[0;32m----> 1\u001b[0m fig \u001b[38;5;241m=\u001b[39m \u001b[43mcno_network\u001b[49m\u001b[38;5;241m.\u001b[39mplot()\n",
      "\u001b[0;31mNameError\u001b[0m: name 'cno_network' is not defined"
     ]
    }
   ],
   "source": [
    "fig = cno_network.plot()"
   ]
  },
  {
   "cell_type": "markdown",
   "metadata": {},
   "source": [
    "Note that the above network also includes the triple-alpha rate from Reaclib."
   ]
  },
  {
   "cell_type": "markdown",
   "metadata": {},
   "source": [
    "If we wanted to generate the python code to calculate the right-hand side we could next do:"
   ]
  },
  {
   "cell_type": "code",
   "execution_count": 7,
   "metadata": {
    "execution": {
     "iopub.execute_input": "2024-10-17T08:13:41.178282Z",
     "iopub.status.busy": "2024-10-17T08:13:41.177979Z",
     "iopub.status.idle": "2024-10-17T08:13:41.188885Z",
     "shell.execute_reply": "2024-10-17T08:13:41.188448Z"
    },
    "tags": [
     "nbval-skip"
    ]
   },
   "outputs": [
    {
     "ename": "NameError",
     "evalue": "name 'cno_network' is not defined",
     "output_type": "error",
     "traceback": [
      "\u001b[0;31m---------------------------------------------------------------------------\u001b[0m",
      "\u001b[0;31mNameError\u001b[0m                                 Traceback (most recent call last)",
      "Cell \u001b[0;32mIn[7], line 1\u001b[0m\n\u001b[0;32m----> 1\u001b[0m \u001b[43mcno_network\u001b[49m\u001b[38;5;241m.\u001b[39mwrite_network(\u001b[38;5;124m'\u001b[39m\u001b[38;5;124mnetwork_module.py\u001b[39m\u001b[38;5;124m'\u001b[39m)\n",
      "\u001b[0;31mNameError\u001b[0m: name 'cno_network' is not defined"
     ]
    }
   ],
   "source": [
    "cno_network.write_network('network_module.py')"
   ]
  },
  {
   "cell_type": "markdown",
   "metadata": {},
   "source": [
    "And we could run this together with the burn driver program in `examples/burn.py`"
   ]
  },
  {
   "cell_type": "markdown",
   "metadata": {},
   "source": [
    "## Filtering the Library\n",
    "\n",
    "This example introduces the `RateFilter` class which allows us to define a set of reactants and products to search for in a `Library` object.\n",
    "\n",
    "### Inexact Filtering\n",
    "\n",
    "Inexact filtering is like using wildcards: in the following example, the rate filter we define will match any rates in which $\\mathrm{^{12}C}$ is a reactant."
   ]
  },
  {
   "cell_type": "code",
   "execution_count": 8,
   "metadata": {
    "execution": {
     "iopub.execute_input": "2024-10-17T08:13:41.190646Z",
     "iopub.status.busy": "2024-10-17T08:13:41.190245Z",
     "iopub.status.idle": "2024-10-17T08:13:41.193093Z",
     "shell.execute_reply": "2024-10-17T08:13:41.192666Z"
    }
   },
   "outputs": [],
   "source": [
    "c12_inexact_filter = pyna.RateFilter(reactants=['c12'], exact=False)"
   ]
  },
  {
   "cell_type": "markdown",
   "metadata": {},
   "source": [
    "Once we construct a `RateFilter` object, we can apply it to our `Library` by passing it to the `Library.filter` function.\n",
    "\n",
    "`Library.filter` returns a new `Library` object containing the rates that match our `RateFilter`.\n",
    "\n",
    "We can print a `Library` to see the rates it contains. In parentheses the rate identifier is printed, showing the Reaclib rate label as well as whether the rate is forward or reverse."
   ]
  },
  {
   "cell_type": "code",
   "execution_count": 9,
   "metadata": {
    "execution": {
     "iopub.execute_input": "2024-10-17T08:13:41.194549Z",
     "iopub.status.busy": "2024-10-17T08:13:41.194388Z",
     "iopub.status.idle": "2024-10-17T08:13:41.205811Z",
     "shell.execute_reply": "2024-10-17T08:13:41.205259Z"
    }
   },
   "outputs": [
    {
     "ename": "NameError",
     "evalue": "name 'mylibrary' is not defined",
     "output_type": "error",
     "traceback": [
      "\u001b[0;31m---------------------------------------------------------------------------\u001b[0m",
      "\u001b[0;31mNameError\u001b[0m                                 Traceback (most recent call last)",
      "Cell \u001b[0;32mIn[9], line 1\u001b[0m\n\u001b[0;32m----> 1\u001b[0m c12_inexact_library \u001b[38;5;241m=\u001b[39m \u001b[43mmylibrary\u001b[49m\u001b[38;5;241m.\u001b[39mfilter(c12_inexact_filter)\n\u001b[1;32m      2\u001b[0m \u001b[38;5;28mprint\u001b[39m(c12_inexact_library)\n",
      "\u001b[0;31mNameError\u001b[0m: name 'mylibrary' is not defined"
     ]
    }
   ],
   "source": [
    "c12_inexact_library = mylibrary.filter(c12_inexact_filter)\n",
    "print(c12_inexact_library)"
   ]
  },
  {
   "cell_type": "markdown",
   "metadata": {},
   "source": [
    "The rate identifiers above can be used to access individual `Rate` objects within a `Library` as follows:"
   ]
  },
  {
   "cell_type": "code",
   "execution_count": 10,
   "metadata": {
    "execution": {
     "iopub.execute_input": "2024-10-17T08:13:41.207505Z",
     "iopub.status.busy": "2024-10-17T08:13:41.207188Z",
     "iopub.status.idle": "2024-10-17T08:13:41.218809Z",
     "shell.execute_reply": "2024-10-17T08:13:41.218336Z"
    }
   },
   "outputs": [
    {
     "ename": "NameError",
     "evalue": "name 'c12_inexact_library' is not defined",
     "output_type": "error",
     "traceback": [
      "\u001b[0;31m---------------------------------------------------------------------------\u001b[0m",
      "\u001b[0;31mNameError\u001b[0m                                 Traceback (most recent call last)",
      "Cell \u001b[0;32mIn[10], line 1\u001b[0m\n\u001b[0;32m----> 1\u001b[0m cago \u001b[38;5;241m=\u001b[39m \u001b[43mc12_inexact_library\u001b[49m\u001b[38;5;241m.\u001b[39mget_rate(\u001b[38;5;124m'\u001b[39m\u001b[38;5;124mc12 + he4 --> o16 <nac2_reaclib__>\u001b[39m\u001b[38;5;124m'\u001b[39m)\n",
      "\u001b[0;31mNameError\u001b[0m: name 'c12_inexact_library' is not defined"
     ]
    }
   ],
   "source": [
    "cago = c12_inexact_library.get_rate('c12 + he4 --> o16 <nac2_reaclib__>')"
   ]
  },
  {
   "cell_type": "code",
   "execution_count": 11,
   "metadata": {
    "execution": {
     "iopub.execute_input": "2024-10-17T08:13:41.220324Z",
     "iopub.status.busy": "2024-10-17T08:13:41.220039Z",
     "iopub.status.idle": "2024-10-17T08:13:41.230796Z",
     "shell.execute_reply": "2024-10-17T08:13:41.230244Z"
    }
   },
   "outputs": [
    {
     "ename": "NameError",
     "evalue": "name 'cago' is not defined",
     "output_type": "error",
     "traceback": [
      "\u001b[0;31m---------------------------------------------------------------------------\u001b[0m",
      "\u001b[0;31mNameError\u001b[0m                                 Traceback (most recent call last)",
      "Cell \u001b[0;32mIn[11], line 1\u001b[0m\n\u001b[0;32m----> 1\u001b[0m fig \u001b[38;5;241m=\u001b[39m \u001b[43mcago\u001b[49m\u001b[38;5;241m.\u001b[39mplot()\n",
      "\u001b[0;31mNameError\u001b[0m: name 'cago' is not defined"
     ]
    }
   ],
   "source": [
    "fig = cago.plot()"
   ]
  },
  {
   "cell_type": "markdown",
   "metadata": {},
   "source": [
    "### Exact Filtering\n",
    "\n",
    "Exact filtering is useful when you have a specific rate in mind or a specific combination of reactants or products. In the following example, we look for all rates of the form $\\mathrm{^{12}C + ^{12}C \\rightarrow \\ldots}$\n",
    "\n",
    "To use exact filtering, omit the `exact` keyword to the `RateFilter` constructor, as it is turned on by default.\n",
    "\n",
    "Exact filtering does not mean all the nuclei involved in the rate must be specified, it means that all filtering options passed to the `RateFilter` constructor are strictly applied. In this case, the filter will return rates with exactly two reactants, both of which are $\\mathrm{^{12}C}$. However, the filter places no constraint on the products or number of products in the rate."
   ]
  },
  {
   "cell_type": "code",
   "execution_count": 12,
   "metadata": {
    "execution": {
     "iopub.execute_input": "2024-10-17T08:13:41.232584Z",
     "iopub.status.busy": "2024-10-17T08:13:41.232150Z",
     "iopub.status.idle": "2024-10-17T08:13:41.243846Z",
     "shell.execute_reply": "2024-10-17T08:13:41.243321Z"
    }
   },
   "outputs": [
    {
     "ename": "NameError",
     "evalue": "name 'mylibrary' is not defined",
     "output_type": "error",
     "traceback": [
      "\u001b[0;31m---------------------------------------------------------------------------\u001b[0m",
      "\u001b[0;31mNameError\u001b[0m                                 Traceback (most recent call last)",
      "Cell \u001b[0;32mIn[12], line 2\u001b[0m\n\u001b[1;32m      1\u001b[0m c12_exact_filter \u001b[38;5;241m=\u001b[39m pyna\u001b[38;5;241m.\u001b[39mrates\u001b[38;5;241m.\u001b[39mRateFilter(reactants\u001b[38;5;241m=\u001b[39m[\u001b[38;5;124m'\u001b[39m\u001b[38;5;124mc12\u001b[39m\u001b[38;5;124m'\u001b[39m, \u001b[38;5;124m'\u001b[39m\u001b[38;5;124mc12\u001b[39m\u001b[38;5;124m'\u001b[39m])\n\u001b[0;32m----> 2\u001b[0m c12_exact_library \u001b[38;5;241m=\u001b[39m \u001b[43mmylibrary\u001b[49m\u001b[38;5;241m.\u001b[39mfilter(c12_exact_filter)\n\u001b[1;32m      3\u001b[0m \u001b[38;5;28mprint\u001b[39m(c12_exact_library)\n",
      "\u001b[0;31mNameError\u001b[0m: name 'mylibrary' is not defined"
     ]
    }
   ],
   "source": [
    "c12_exact_filter = pyna.rates.RateFilter(reactants=['c12', 'c12'])\n",
    "c12_exact_library = mylibrary.filter(c12_exact_filter)\n",
    "print(c12_exact_library)"
   ]
  },
  {
   "cell_type": "markdown",
   "metadata": {},
   "source": [
    "## Example: Building an Alpha Capture Network\n",
    "\n",
    "In the next example, we use rate filtering to iteratively construct a `Library` containing the alpha capture rates linking $\\mathrm{^{12}C}$ to $\\mathrm{^{56}Ni}$.\n",
    "\n",
    "After finding each successive link in the alpha capture chain, we call `Library.heaviest()` to find the heaviest nucleus in the filtered rates. This corresponds to the nucleus with the largest mass number, and in case of a tie between isobars, this returns the isobar with the smallest atomic number. We use this feature to find the reverse rate for each alpha capture reaction.\n",
    "\n",
    "In the example below, we add each filtered library to our alpha capture library `alpha_library`, initialized as an empty `Library`. The `Library` class supports the addition operator by returning a new library containing the rates in the two libraries we added together.\n",
    "\n",
    "This example also introduces the `max_products` keyword, which specifies we are looking for reactions producing at most `max_products` product nuclei.\n",
    "\n",
    "Similarly, the `RateFilter` constructor supports the following keywords constraining the number of reactants and products:\n",
    "\n",
    "- `min_reactants`\n",
    "- `max_reactants`\n",
    "- `min_products`\n",
    "- `max_products`\n",
    "\n",
    "Because we have omitted the argument `exact=False`, the filter constraints we apply are exact."
   ]
  },
  {
   "cell_type": "code",
   "execution_count": 13,
   "metadata": {
    "execution": {
     "iopub.execute_input": "2024-10-17T08:13:41.245621Z",
     "iopub.status.busy": "2024-10-17T08:13:41.245224Z",
     "iopub.status.idle": "2024-10-17T08:13:41.259967Z",
     "shell.execute_reply": "2024-10-17T08:13:41.259536Z"
    }
   },
   "outputs": [
    {
     "ename": "NameError",
     "evalue": "name 'mylibrary' is not defined",
     "output_type": "error",
     "traceback": [
      "\u001b[0;31m---------------------------------------------------------------------------\u001b[0m",
      "\u001b[0;31mNameError\u001b[0m                                 Traceback (most recent call last)",
      "Cell \u001b[0;32mIn[13], line 8\u001b[0m\n\u001b[1;32m      6\u001b[0m \u001b[38;5;28;01mwhile\u001b[39;00m \u001b[38;5;28;01mTrue\u001b[39;00m:\n\u001b[1;32m      7\u001b[0m     ac_filter \u001b[38;5;241m=\u001b[39m pyna\u001b[38;5;241m.\u001b[39mRateFilter(reactants\u001b[38;5;241m=\u001b[39m[capture, seed], max_products\u001b[38;5;241m=\u001b[39m\u001b[38;5;241m1\u001b[39m)\n\u001b[0;32m----> 8\u001b[0m     ac_library \u001b[38;5;241m=\u001b[39m \u001b[43mmylibrary\u001b[49m\u001b[38;5;241m.\u001b[39mfilter(ac_filter)\n\u001b[1;32m      9\u001b[0m     alpha_library \u001b[38;5;241m=\u001b[39m alpha_library \u001b[38;5;241m+\u001b[39m ac_library\n\u001b[1;32m     11\u001b[0m     heavy \u001b[38;5;241m=\u001b[39m ac_library\u001b[38;5;241m.\u001b[39mheaviest()\n",
      "\u001b[0;31mNameError\u001b[0m: name 'mylibrary' is not defined"
     ]
    }
   ],
   "source": [
    "alpha_library = pyna.Library()\n",
    "\n",
    "capture = pyna.Nucleus('he4')\n",
    "seed = pyna.Nucleus('c12')\n",
    "\n",
    "while True:\n",
    "    ac_filter = pyna.RateFilter(reactants=[capture, seed], max_products=1)\n",
    "    ac_library = mylibrary.filter(ac_filter)\n",
    "    alpha_library = alpha_library + ac_library\n",
    "\n",
    "    heavy = ac_library.heaviest()\n",
    "    ac_filter_inv = pyna.RateFilter(reactants=[heavy], products=[capture, seed])\n",
    "    ac_inv_library = mylibrary.filter(ac_filter_inv)\n",
    "    alpha_library = alpha_library + ac_inv_library\n",
    "\n",
    "    print(heavy)\n",
    "    if heavy.A == 56:\n",
    "        break\n",
    "    else:\n",
    "        seed = heavy"
   ]
  },
  {
   "cell_type": "markdown",
   "metadata": {},
   "source": [
    "We will next print out the library we constructed, seeing that we have both forward and reverse rates for the alpha chain.\n",
    "\n",
    "Note that at this time `pynucastro` has not yet implemented nuclear partition functions, so these reverse rates are calculated only from detailed balance in the Reaclib library."
   ]
  },
  {
   "cell_type": "code",
   "execution_count": 14,
   "metadata": {
    "execution": {
     "iopub.execute_input": "2024-10-17T08:13:41.261675Z",
     "iopub.status.busy": "2024-10-17T08:13:41.261274Z",
     "iopub.status.idle": "2024-10-17T08:13:41.278382Z",
     "shell.execute_reply": "2024-10-17T08:13:41.277812Z"
    }
   },
   "outputs": [
    {
     "ename": "AttributeError",
     "evalue": "'Library' object has no attribute '_rates'",
     "output_type": "error",
     "traceback": [
      "\u001b[0;31m---------------------------------------------------------------------------\u001b[0m",
      "\u001b[0;31mAttributeError\u001b[0m                            Traceback (most recent call last)",
      "Cell \u001b[0;32mIn[14], line 1\u001b[0m\n\u001b[0;32m----> 1\u001b[0m \u001b[38;5;28;43mprint\u001b[39;49m\u001b[43m(\u001b[49m\u001b[43malpha_library\u001b[49m\u001b[43m)\u001b[49m\n",
      "File \u001b[0;32m/opt/hostedtoolcache/Python/3.11.10/x64/lib/python3.11/site-packages/pynucastro/rates/library.py:334\u001b[0m, in \u001b[0;36mLibrary.__repr__\u001b[0;34m(self)\u001b[0m\n\u001b[1;32m    332\u001b[0m \u001b[38;5;250m\u001b[39m\u001b[38;5;124;03m\"\"\" Return a string containing the rates IDs in this library. \"\"\"\u001b[39;00m\n\u001b[1;32m    333\u001b[0m rstrings \u001b[38;5;241m=\u001b[39m []\n\u001b[0;32m--> 334\u001b[0m tmp_rates \u001b[38;5;241m=\u001b[39m [v \u001b[38;5;28;01mfor\u001b[39;00m k, v \u001b[38;5;129;01min\u001b[39;00m \u001b[38;5;28;43mself\u001b[39;49m\u001b[38;5;241;43m.\u001b[39;49m\u001b[43m_rates\u001b[49m\u001b[38;5;241m.\u001b[39mitems()]\n\u001b[1;32m    335\u001b[0m \u001b[38;5;28;01mfor\u001b[39;00m r \u001b[38;5;129;01min\u001b[39;00m \u001b[38;5;28msorted\u001b[39m(tmp_rates):\n\u001b[1;32m    336\u001b[0m     \u001b[38;5;28;01mif\u001b[39;00m r\u001b[38;5;241m.\u001b[39mQ \u001b[38;5;129;01mis\u001b[39;00m \u001b[38;5;129;01mnot\u001b[39;00m \u001b[38;5;28;01mNone\u001b[39;00m \u001b[38;5;129;01mand\u001b[39;00m r\u001b[38;5;241m.\u001b[39mQ \u001b[38;5;241m>\u001b[39m\u001b[38;5;241m=\u001b[39m \u001b[38;5;241m0\u001b[39m:\n",
      "\u001b[0;31mAttributeError\u001b[0m: 'Library' object has no attribute '_rates'"
     ]
    }
   ],
   "source": [
    "print(alpha_library)"
   ]
  },
  {
   "cell_type": "markdown",
   "metadata": {},
   "source": [
    "Next we can create a reaction network from our filtered alpha capture library by passing our library to a network constructor using the `libraries` keyword."
   ]
  },
  {
   "cell_type": "code",
   "execution_count": 15,
   "metadata": {
    "execution": {
     "iopub.execute_input": "2024-10-17T08:13:41.280194Z",
     "iopub.status.busy": "2024-10-17T08:13:41.279855Z",
     "iopub.status.idle": "2024-10-17T08:13:41.374972Z",
     "shell.execute_reply": "2024-10-17T08:13:41.374459Z"
    }
   },
   "outputs": [
    {
     "ename": "AttributeError",
     "evalue": "'Library' object has no attribute '_rates'",
     "output_type": "error",
     "traceback": [
      "\u001b[0;31m---------------------------------------------------------------------------\u001b[0m",
      "\u001b[0;31mAttributeError\u001b[0m                            Traceback (most recent call last)",
      "Cell \u001b[0;32mIn[15], line 1\u001b[0m\n\u001b[0;32m----> 1\u001b[0m alpha_network \u001b[38;5;241m=\u001b[39m \u001b[43mpyna\u001b[49m\u001b[38;5;241;43m.\u001b[39;49m\u001b[43mPythonNetwork\u001b[49m\u001b[43m(\u001b[49m\u001b[43mlibraries\u001b[49m\u001b[38;5;241;43m=\u001b[39;49m\u001b[43malpha_library\u001b[49m\u001b[43m)\u001b[49m\n",
      "File \u001b[0;32m/opt/hostedtoolcache/Python/3.11.10/x64/lib/python3.11/site-packages/pynucastro/networks/rate_collection.py:475\u001b[0m, in \u001b[0;36mRateCollection.__init__\u001b[0;34m(self, rate_files, libraries, rates, inert_nuclei, symmetric_screening, do_screening)\u001b[0m\n\u001b[1;32m    473\u001b[0m             \u001b[38;5;28;01mraise\u001b[39;00m \u001b[38;5;167;01mValueError\u001b[39;00m(\u001b[38;5;124m'\u001b[39m\u001b[38;5;124mExpected Library object or list of Library objects passed as the libraries argument.\u001b[39m\u001b[38;5;124m'\u001b[39m)\n\u001b[1;32m    474\u001b[0m     \u001b[38;5;28;01mfor\u001b[39;00m lib \u001b[38;5;129;01min\u001b[39;00m libraries:\n\u001b[0;32m--> 475\u001b[0m         \u001b[43mcombined_library\u001b[49m\u001b[43m \u001b[49m\u001b[38;5;241;43m+\u001b[39;49m\u001b[38;5;241;43m=\u001b[39;49m\u001b[43m \u001b[49m\u001b[43mlib\u001b[49m\n\u001b[1;32m    477\u001b[0m \u001b[38;5;28mself\u001b[39m\u001b[38;5;241m.\u001b[39mrates \u001b[38;5;241m=\u001b[39m \u001b[38;5;28mself\u001b[39m\u001b[38;5;241m.\u001b[39mrates \u001b[38;5;241m+\u001b[39m combined_library\u001b[38;5;241m.\u001b[39mget_rates()\n\u001b[1;32m    479\u001b[0m \u001b[38;5;28mself\u001b[39m\u001b[38;5;241m.\u001b[39m_build_collection()\n",
      "File \u001b[0;32m/opt/hostedtoolcache/Python/3.11.10/x64/lib/python3.11/site-packages/pynucastro/rates/library.py:350\u001b[0m, in \u001b[0;36mLibrary.__add__\u001b[0;34m(self, other)\u001b[0m\n\u001b[1;32m    348\u001b[0m \u001b[38;5;28;01mdef\u001b[39;00m \u001b[38;5;21m__add__\u001b[39m(\u001b[38;5;28mself\u001b[39m, other):\n\u001b[1;32m    349\u001b[0m \u001b[38;5;250m    \u001b[39m\u001b[38;5;124;03m\"\"\" Add two libraries to get a library containing rates from both. \"\"\"\u001b[39;00m\n\u001b[0;32m--> 350\u001b[0m     new_rates \u001b[38;5;241m=\u001b[39m \u001b[38;5;28;43mself\u001b[39;49m\u001b[38;5;241;43m.\u001b[39;49m\u001b[43m_rates\u001b[49m\n\u001b[1;32m    351\u001b[0m     \u001b[38;5;28;01mfor\u001b[39;00m rid, r \u001b[38;5;129;01min\u001b[39;00m other\u001b[38;5;241m.\u001b[39m_rates\u001b[38;5;241m.\u001b[39mitems():\n\u001b[1;32m    352\u001b[0m         \u001b[38;5;28;01mif\u001b[39;00m rid \u001b[38;5;129;01min\u001b[39;00m new_rates:\n",
      "\u001b[0;31mAttributeError\u001b[0m: 'Library' object has no attribute '_rates'"
     ]
    }
   ],
   "source": [
    "alpha_network = pyna.PythonNetwork(libraries=alpha_library)"
   ]
  },
  {
   "cell_type": "markdown",
   "metadata": {},
   "source": [
    "And finally we can make Z-N plot of the nuclei linked via the reactions we selected."
   ]
  },
  {
   "cell_type": "code",
   "execution_count": 16,
   "metadata": {
    "execution": {
     "iopub.execute_input": "2024-10-17T08:13:41.376840Z",
     "iopub.status.busy": "2024-10-17T08:13:41.376515Z",
     "iopub.status.idle": "2024-10-17T08:13:41.388167Z",
     "shell.execute_reply": "2024-10-17T08:13:41.387640Z"
    }
   },
   "outputs": [
    {
     "ename": "NameError",
     "evalue": "name 'alpha_network' is not defined",
     "output_type": "error",
     "traceback": [
      "\u001b[0;31m---------------------------------------------------------------------------\u001b[0m",
      "\u001b[0;31mNameError\u001b[0m                                 Traceback (most recent call last)",
      "Cell \u001b[0;32mIn[16], line 1\u001b[0m\n\u001b[0;32m----> 1\u001b[0m fig \u001b[38;5;241m=\u001b[39m \u001b[43malpha_network\u001b[49m\u001b[38;5;241m.\u001b[39mplot()\n",
      "\u001b[0;31mNameError\u001b[0m: name 'alpha_network' is not defined"
     ]
    }
   ],
   "source": [
    "fig = alpha_network.plot()"
   ]
  }
 ],
 "metadata": {
  "celltoolbar": "Tags",
  "kernelspec": {
   "display_name": "Python 3 (ipykernel)",
   "language": "python",
   "name": "python3"
  },
  "language_info": {
   "codemirror_mode": {
    "name": "ipython",
    "version": 3
   },
   "file_extension": ".py",
   "mimetype": "text/x-python",
   "name": "python",
   "nbconvert_exporter": "python",
   "pygments_lexer": "ipython3",
   "version": "3.11.10"
  }
 },
 "nbformat": 4,
 "nbformat_minor": 4
}
