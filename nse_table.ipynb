{
 "cells": [
  {
   "cell_type": "markdown",
   "id": "130650ea-9964-4deb-a848-450479948173",
   "metadata": {},
   "source": [
    "# Creating an NSE table\n",
    "\n",
    "We can tabulate the NSE state on a grid $(\\rho, T, Y_e)$, giving:\n",
    "\n",
    "* $\\bar{A}$ : the mean molecular weight\n",
    "* $\\langle B/A \\rangle$ : the average binding energy per nucleon of the NSE state [MeV]\n",
    "* $dY_e/dt$ : the time-evolution of $Y_e$ due to weak reactions [1/s]\n",
    "* $d\\bar{A}/dt$ : the time-evolution of $\\bar{A}$ due to weak reactions [1/s]\n",
    "* $d\\langle B/A\\rangle/dt$ : the time-evolution of the binding energy per nucleon due to weak reactions [MeV/s]\n",
    "* $\\epsilon_\\nu$ : the energy loss due to neutrinos [erg / g / s] "
   ]
  },
  {
   "cell_type": "code",
   "execution_count": 1,
   "id": "d8cba849-e50b-4ec2-b9d0-e7c2c9cb6d35",
   "metadata": {
    "execution": {
     "iopub.execute_input": "2024-10-17T07:31:50.550341Z",
     "iopub.status.busy": "2024-10-17T07:31:50.549943Z",
     "iopub.status.idle": "2024-10-17T07:31:52.493192Z",
     "shell.execute_reply": "2024-10-17T07:31:52.492596Z"
    }
   },
   "outputs": [
    {
     "ename": "ModuleNotFoundError",
     "evalue": "No module named 'microphysics'",
     "output_type": "error",
     "traceback": [
      "\u001b[0;31m---------------------------------------------------------------------------\u001b[0m",
      "\u001b[0;31mModuleNotFoundError\u001b[0m                       Traceback (most recent call last)",
      "Cell \u001b[0;32mIn[1], line 1\u001b[0m\n\u001b[0;32m----> 1\u001b[0m \u001b[38;5;28;01mimport\u001b[39;00m \u001b[38;5;21;01mpynucastro\u001b[39;00m \u001b[38;5;28;01mas\u001b[39;00m \u001b[38;5;21;01mpyna\u001b[39;00m\n\u001b[1;32m      2\u001b[0m \u001b[38;5;28;01mfrom\u001b[39;00m \u001b[38;5;21;01mpynucastro\u001b[39;00m \u001b[38;5;28;01mimport\u001b[39;00m Nucleus\n",
      "File \u001b[0;32m/opt/hostedtoolcache/Python/3.11.10/x64/lib/python3.11/site-packages/pynucastro/__init__.py:132\u001b[0m\n\u001b[1;32m    128\u001b[0m __version__ \u001b[38;5;241m=\u001b[39m version\n\u001b[1;32m    131\u001b[0m \u001b[38;5;28;01mimport\u001b[39;00m \u001b[38;5;21;01mpynucastro\u001b[39;00m\u001b[38;5;21;01m.\u001b[39;00m\u001b[38;5;21;01mscreening\u001b[39;00m\n\u001b[0;32m--> 132\u001b[0m \u001b[38;5;28;01mfrom\u001b[39;00m \u001b[38;5;21;01mpynucastro\u001b[39;00m\u001b[38;5;21;01m.\u001b[39;00m\u001b[38;5;21;01mnetworks\u001b[39;00m \u001b[38;5;28;01mimport\u001b[39;00m (AmrexAstroCxxNetwork, BaseCxxNetwork,\n\u001b[1;32m    133\u001b[0m                                  Composition, Explorer, NSENetwork,\n\u001b[1;32m    134\u001b[0m                                  NumpyNetwork, PythonNetwork, RateCollection,\n\u001b[1;32m    135\u001b[0m                                  SimpleCxxNetwork, StarKillerCxxNetwork,\n\u001b[1;32m    136\u001b[0m                                  SympyRates)\n\u001b[1;32m    137\u001b[0m \u001b[38;5;28;01mfrom\u001b[39;00m \u001b[38;5;21;01mpynucastro\u001b[39;00m\u001b[38;5;21;01m.\u001b[39;00m\u001b[38;5;21;01mnucdata\u001b[39;00m \u001b[38;5;28;01mimport\u001b[39;00m Nucleus, get_all_nuclei, get_nuclei_in_range\n\u001b[1;32m    138\u001b[0m \u001b[38;5;28;01mfrom\u001b[39;00m \u001b[38;5;21;01mpynucastro\u001b[39;00m\u001b[38;5;21;01m.\u001b[39;00m\u001b[38;5;21;01mrates\u001b[39;00m \u001b[38;5;28;01mimport\u001b[39;00m (ApproximateRate, DerivedRate, LangankeLibrary,\n\u001b[1;32m    139\u001b[0m                               Library, Rate, RateFilter, ReacLibLibrary,\n\u001b[1;32m    140\u001b[0m                               SuzukiLibrary, TabularLibrary, Tfactors,\n\u001b[1;32m    141\u001b[0m                               list_known_rates, load_rate)\n",
      "File \u001b[0;32m/opt/hostedtoolcache/Python/3.11.10/x64/lib/python3.11/site-packages/pynucastro/networks/__init__.py:29\u001b[0m\n\u001b[1;32m      1\u001b[0m \u001b[38;5;124;03m\"\"\"The pynucastro modules that support the creation of networks.\u001b[39;00m\n\u001b[1;32m      2\u001b[0m \u001b[38;5;124;03mThere are several main submodules here:\u001b[39;00m\n\u001b[1;32m      3\u001b[0m \n\u001b[0;32m   (...)\u001b[0m\n\u001b[1;32m     24\u001b[0m \n\u001b[1;32m     25\u001b[0m \u001b[38;5;124;03m\"\"\"\u001b[39;00m\n\u001b[1;32m     27\u001b[0m \u001b[38;5;66;03m#__all__ = [\"python_network\", \"rate_collection\", \"sympy_network_support\"]\u001b[39;00m\n\u001b[0;32m---> 29\u001b[0m \u001b[38;5;28;01mfrom\u001b[39;00m \u001b[38;5;21;01m.\u001b[39;00m\u001b[38;5;21;01mamrexastro_cxx_network\u001b[39;00m \u001b[38;5;28;01mimport\u001b[39;00m AmrexAstroCxxNetwork\n\u001b[1;32m     30\u001b[0m \u001b[38;5;28;01mfrom\u001b[39;00m \u001b[38;5;21;01m.\u001b[39;00m\u001b[38;5;21;01mbase_cxx_network\u001b[39;00m \u001b[38;5;28;01mimport\u001b[39;00m BaseCxxNetwork\n\u001b[1;32m     31\u001b[0m \u001b[38;5;28;01mfrom\u001b[39;00m \u001b[38;5;21;01m.\u001b[39;00m\u001b[38;5;21;01mnse_network\u001b[39;00m \u001b[38;5;28;01mimport\u001b[39;00m NSENetwork\n",
      "File \u001b[0;32m/opt/hostedtoolcache/Python/3.11.10/x64/lib/python3.11/site-packages/pynucastro/networks/amrexastro_cxx_network.py:9\u001b[0m\n\u001b[1;32m      6\u001b[0m \u001b[38;5;28;01mimport\u001b[39;00m \u001b[38;5;21;01mre\u001b[39;00m\n\u001b[1;32m      7\u001b[0m \u001b[38;5;28;01mfrom\u001b[39;00m \u001b[38;5;21;01mpathlib\u001b[39;00m \u001b[38;5;28;01mimport\u001b[39;00m Path\n\u001b[0;32m----> 9\u001b[0m \u001b[38;5;28;01mfrom\u001b[39;00m \u001b[38;5;21;01mpynucastro\u001b[39;00m\u001b[38;5;21;01m.\u001b[39;00m\u001b[38;5;21;01mnetworks\u001b[39;00m\u001b[38;5;21;01m.\u001b[39;00m\u001b[38;5;21;01mbase_cxx_network\u001b[39;00m \u001b[38;5;28;01mimport\u001b[39;00m BaseCxxNetwork\n\u001b[1;32m     10\u001b[0m \u001b[38;5;28;01mfrom\u001b[39;00m \u001b[38;5;21;01mpynucastro\u001b[39;00m\u001b[38;5;21;01m.\u001b[39;00m\u001b[38;5;21;01mnucdata\u001b[39;00m \u001b[38;5;28;01mimport\u001b[39;00m Nucleus\n\u001b[1;32m     11\u001b[0m \u001b[38;5;28;01mfrom\u001b[39;00m \u001b[38;5;21;01mpynucastro\u001b[39;00m\u001b[38;5;21;01m.\u001b[39;00m\u001b[38;5;21;01mrates\u001b[39;00m \u001b[38;5;28;01mimport\u001b[39;00m ReacLibRate\n",
      "File \u001b[0;32m/opt/hostedtoolcache/Python/3.11.10/x64/lib/python3.11/site-packages/pynucastro/networks/base_cxx_network.py:19\u001b[0m\n\u001b[1;32m     16\u001b[0m \u001b[38;5;28;01mimport\u001b[39;00m \u001b[38;5;21;01mnumpy\u001b[39;00m \u001b[38;5;28;01mas\u001b[39;00m \u001b[38;5;21;01mnp\u001b[39;00m\n\u001b[1;32m     17\u001b[0m \u001b[38;5;28;01mimport\u001b[39;00m \u001b[38;5;21;01msympy\u001b[39;00m\n\u001b[0;32m---> 19\u001b[0m \u001b[38;5;28;01mfrom\u001b[39;00m \u001b[38;5;21;01mpynucastro\u001b[39;00m\u001b[38;5;21;01m.\u001b[39;00m\u001b[38;5;21;01mnetworks\u001b[39;00m\u001b[38;5;21;01m.\u001b[39;00m\u001b[38;5;21;01mrate_collection\u001b[39;00m \u001b[38;5;28;01mimport\u001b[39;00m RateCollection\n\u001b[1;32m     20\u001b[0m \u001b[38;5;28;01mfrom\u001b[39;00m \u001b[38;5;21;01mpynucastro\u001b[39;00m\u001b[38;5;21;01m.\u001b[39;00m\u001b[38;5;21;01mnetworks\u001b[39;00m\u001b[38;5;21;01m.\u001b[39;00m\u001b[38;5;21;01msympy_network_support\u001b[39;00m \u001b[38;5;28;01mimport\u001b[39;00m SympyRates\n\u001b[1;32m     21\u001b[0m \u001b[38;5;28;01mfrom\u001b[39;00m \u001b[38;5;21;01mpynucastro\u001b[39;00m\u001b[38;5;21;01m.\u001b[39;00m\u001b[38;5;21;01mrates\u001b[39;00m \u001b[38;5;28;01mimport\u001b[39;00m DerivedRate\n",
      "File \u001b[0;32m/opt/hostedtoolcache/Python/3.11.10/x64/lib/python3.11/site-packages/pynucastro/networks/rate_collection.py:32\u001b[0m\n\u001b[1;32m     28\u001b[0m \u001b[38;5;28;01mfrom\u001b[39;00m \u001b[38;5;21;01mpynucastro\u001b[39;00m\u001b[38;5;21;01m.\u001b[39;00m\u001b[38;5;21;01mrates\u001b[39;00m\u001b[38;5;21;01m.\u001b[39;00m\u001b[38;5;21;01mlibrary\u001b[39;00m \u001b[38;5;28;01mimport\u001b[39;00m _rate_name_to_nuc, capitalize_rid\n\u001b[1;32m     29\u001b[0m \u001b[38;5;28;01mfrom\u001b[39;00m \u001b[38;5;21;01mpynucastro\u001b[39;00m\u001b[38;5;21;01m.\u001b[39;00m\u001b[38;5;21;01mscreening\u001b[39;00m \u001b[38;5;28;01mimport\u001b[39;00m (get_screening_map, make_plasma_state,\n\u001b[1;32m     30\u001b[0m                                   make_screen_factors)\n\u001b[0;32m---> 32\u001b[0m \u001b[38;5;28;01mfrom\u001b[39;00m \u001b[38;5;21;01mmicrophysics\u001b[39;00m\u001b[38;5;21;01m.\u001b[39;00m\u001b[38;5;21;01mpynucastro\u001b[39;00m\u001b[38;5;21;01m.\u001b[39;00m\u001b[38;5;21;01mpynucastro\u001b[39;00m\u001b[38;5;21;01m.\u001b[39;00m\u001b[38;5;21;01mnucdata\u001b[39;00m \u001b[38;5;28;01mimport\u001b[39;00m nucleus\n\u001b[1;32m     34\u001b[0m mpl\u001b[38;5;241m.\u001b[39mrcParams[\u001b[38;5;124m'\u001b[39m\u001b[38;5;124mfigure.dpi\u001b[39m\u001b[38;5;124m'\u001b[39m] \u001b[38;5;241m=\u001b[39m \u001b[38;5;241m100\u001b[39m\n\u001b[1;32m     37\u001b[0m \u001b[38;5;28;01mclass\u001b[39;00m \u001b[38;5;21;01mRateDuplicationError\u001b[39;00m(\u001b[38;5;167;01mException\u001b[39;00m):\n",
      "\u001b[0;31mModuleNotFoundError\u001b[0m: No module named 'microphysics'"
     ]
    }
   ],
   "source": [
    "import pynucastro as pyna\n",
    "from pynucastro import Nucleus"
   ]
  },
  {
   "cell_type": "markdown",
   "id": "fae74a4b-a14e-4a7a-833a-c6e47e0b0ec2",
   "metadata": {},
   "source": [
    "First we'll create a simple NSE network with a few nuclei.  We'll include tabulated weak rates so we can compute the change in the state due to electron/positron captures and decays."
   ]
  },
  {
   "cell_type": "code",
   "execution_count": 2,
   "id": "1efd221d-8e96-4001-aa92-0b322f9eec79",
   "metadata": {
    "execution": {
     "iopub.execute_input": "2024-10-17T07:31:52.495053Z",
     "iopub.status.busy": "2024-10-17T07:31:52.494875Z",
     "iopub.status.idle": "2024-10-17T07:31:52.509012Z",
     "shell.execute_reply": "2024-10-17T07:31:52.508519Z"
    }
   },
   "outputs": [
    {
     "ename": "NameError",
     "evalue": "name 'Nucleus' is not defined",
     "output_type": "error",
     "traceback": [
      "\u001b[0;31m---------------------------------------------------------------------------\u001b[0m",
      "\u001b[0;31mNameError\u001b[0m                                 Traceback (most recent call last)",
      "Cell \u001b[0;32mIn[2], line 1\u001b[0m\n\u001b[0;32m----> 1\u001b[0m nucs \u001b[38;5;241m=\u001b[39m [\u001b[43mNucleus\u001b[49m(\u001b[38;5;124m\"\u001b[39m\u001b[38;5;124mp\u001b[39m\u001b[38;5;124m\"\u001b[39m), Nucleus(\u001b[38;5;124m\"\u001b[39m\u001b[38;5;124mn\u001b[39m\u001b[38;5;124m\"\u001b[39m), Nucleus(\u001b[38;5;124m\"\u001b[39m\u001b[38;5;124mhe4\u001b[39m\u001b[38;5;124m\"\u001b[39m),\n\u001b[1;32m      2\u001b[0m         Nucleus(\u001b[38;5;124m\"\u001b[39m\u001b[38;5;124mfe52\u001b[39m\u001b[38;5;124m\"\u001b[39m), Nucleus(\u001b[38;5;124m\"\u001b[39m\u001b[38;5;124mfe53\u001b[39m\u001b[38;5;124m\"\u001b[39m), Nucleus(\u001b[38;5;124m\"\u001b[39m\u001b[38;5;124mfe54\u001b[39m\u001b[38;5;124m\"\u001b[39m),\n\u001b[1;32m      3\u001b[0m         Nucleus(\u001b[38;5;124m\"\u001b[39m\u001b[38;5;124mfe55\u001b[39m\u001b[38;5;124m\"\u001b[39m), Nucleus(\u001b[38;5;124m\"\u001b[39m\u001b[38;5;124mfe56\u001b[39m\u001b[38;5;124m\"\u001b[39m),\n\u001b[1;32m      4\u001b[0m         Nucleus(\u001b[38;5;124m\"\u001b[39m\u001b[38;5;124mco54\u001b[39m\u001b[38;5;124m\"\u001b[39m), Nucleus(\u001b[38;5;124m\"\u001b[39m\u001b[38;5;124mco55\u001b[39m\u001b[38;5;124m\"\u001b[39m), Nucleus(\u001b[38;5;124m\"\u001b[39m\u001b[38;5;124mco56\u001b[39m\u001b[38;5;124m\"\u001b[39m),\n\u001b[1;32m      5\u001b[0m         Nucleus(\u001b[38;5;124m\"\u001b[39m\u001b[38;5;124mni56\u001b[39m\u001b[38;5;124m\"\u001b[39m), Nucleus(\u001b[38;5;124m\"\u001b[39m\u001b[38;5;124mni57\u001b[39m\u001b[38;5;124m\"\u001b[39m)]\n",
      "\u001b[0;31mNameError\u001b[0m: name 'Nucleus' is not defined"
     ]
    }
   ],
   "source": [
    "nucs = [Nucleus(\"p\"), Nucleus(\"n\"), Nucleus(\"he4\"),\n",
    "        Nucleus(\"fe52\"), Nucleus(\"fe53\"), Nucleus(\"fe54\"),\n",
    "        Nucleus(\"fe55\"), Nucleus(\"fe56\"),\n",
    "        Nucleus(\"co54\"), Nucleus(\"co55\"), Nucleus(\"co56\"),\n",
    "        Nucleus(\"ni56\"), Nucleus(\"ni57\")]"
   ]
  },
  {
   "cell_type": "code",
   "execution_count": 3,
   "id": "1f718159-5e68-40d6-ae8f-3f43c16a3da7",
   "metadata": {
    "execution": {
     "iopub.execute_input": "2024-10-17T07:31:52.510706Z",
     "iopub.status.busy": "2024-10-17T07:31:52.510380Z",
     "iopub.status.idle": "2024-10-17T07:31:52.521988Z",
     "shell.execute_reply": "2024-10-17T07:31:52.521529Z"
    }
   },
   "outputs": [
    {
     "ename": "NameError",
     "evalue": "name 'pyna' is not defined",
     "output_type": "error",
     "traceback": [
      "\u001b[0;31m---------------------------------------------------------------------------\u001b[0m",
      "\u001b[0;31mNameError\u001b[0m                                 Traceback (most recent call last)",
      "Cell \u001b[0;32mIn[3], line 1\u001b[0m\n\u001b[0;32m----> 1\u001b[0m tl \u001b[38;5;241m=\u001b[39m \u001b[43mpyna\u001b[49m\u001b[38;5;241m.\u001b[39mTabularLibrary()\u001b[38;5;241m.\u001b[39mlinking_nuclei(nucs)\n\u001b[1;32m      2\u001b[0m rl \u001b[38;5;241m=\u001b[39m pyna\u001b[38;5;241m.\u001b[39mReacLibLibrary()\u001b[38;5;241m.\u001b[39mlinking_nuclei(nucs)\n\u001b[1;32m      3\u001b[0m all_lib \u001b[38;5;241m=\u001b[39m tl \u001b[38;5;241m+\u001b[39m rl\n",
      "\u001b[0;31mNameError\u001b[0m: name 'pyna' is not defined"
     ]
    }
   ],
   "source": [
    "tl = pyna.TabularLibrary().linking_nuclei(nucs)\n",
    "rl = pyna.ReacLibLibrary().linking_nuclei(nucs)\n",
    "all_lib = tl + rl"
   ]
  },
  {
   "cell_type": "code",
   "execution_count": 4,
   "id": "a46d080f-fa3d-433d-8e3b-a91ef98996d2",
   "metadata": {
    "execution": {
     "iopub.execute_input": "2024-10-17T07:31:52.523628Z",
     "iopub.status.busy": "2024-10-17T07:31:52.523302Z",
     "iopub.status.idle": "2024-10-17T07:31:52.535473Z",
     "shell.execute_reply": "2024-10-17T07:31:52.535047Z"
    }
   },
   "outputs": [
    {
     "ename": "NameError",
     "evalue": "name 'all_lib' is not defined",
     "output_type": "error",
     "traceback": [
      "\u001b[0;31m---------------------------------------------------------------------------\u001b[0m",
      "\u001b[0;31mNameError\u001b[0m                                 Traceback (most recent call last)",
      "Cell \u001b[0;32mIn[4], line 1\u001b[0m\n\u001b[0;32m----> 1\u001b[0m dupes \u001b[38;5;241m=\u001b[39m \u001b[43mall_lib\u001b[49m\u001b[38;5;241m.\u001b[39mfind_duplicate_links()\n\u001b[1;32m      2\u001b[0m rates_to_remove \u001b[38;5;241m=\u001b[39m []\n\u001b[1;32m      3\u001b[0m \u001b[38;5;28;01mfor\u001b[39;00m d \u001b[38;5;129;01min\u001b[39;00m dupes:\n",
      "\u001b[0;31mNameError\u001b[0m: name 'all_lib' is not defined"
     ]
    }
   ],
   "source": [
    "dupes = all_lib.find_duplicate_links()\n",
    "rates_to_remove = []\n",
    "for d in dupes:\n",
    "    rates_to_remove += [r for r in d if isinstance(r, pyna.rates.ReacLibRate)]\n",
    "\n",
    "for r in rates_to_remove:\n",
    "    all_lib.remove_rate(r)"
   ]
  },
  {
   "cell_type": "code",
   "execution_count": 5,
   "id": "3f2cba9e-ad5d-487e-9e45-4c896fa43559",
   "metadata": {
    "execution": {
     "iopub.execute_input": "2024-10-17T07:31:52.536926Z",
     "iopub.status.busy": "2024-10-17T07:31:52.536731Z",
     "iopub.status.idle": "2024-10-17T07:31:52.547842Z",
     "shell.execute_reply": "2024-10-17T07:31:52.547284Z"
    }
   },
   "outputs": [
    {
     "ename": "NameError",
     "evalue": "name 'pyna' is not defined",
     "output_type": "error",
     "traceback": [
      "\u001b[0;31m---------------------------------------------------------------------------\u001b[0m",
      "\u001b[0;31mNameError\u001b[0m                                 Traceback (most recent call last)",
      "Cell \u001b[0;32mIn[5], line 1\u001b[0m\n\u001b[0;32m----> 1\u001b[0m nse \u001b[38;5;241m=\u001b[39m \u001b[43mpyna\u001b[49m\u001b[38;5;241m.\u001b[39mNSENetwork(libraries\u001b[38;5;241m=\u001b[39m[all_lib])\n",
      "\u001b[0;31mNameError\u001b[0m: name 'pyna' is not defined"
     ]
    }
   ],
   "source": [
    "nse = pyna.NSENetwork(libraries=[all_lib])"
   ]
  },
  {
   "cell_type": "markdown",
   "id": "c8368c1a-53d9-4f33-ba7c-d40d2963610f",
   "metadata": {},
   "source": [
    "Now we'll create a grid of temperature, density, and $Y_e$ where we want to compute the NSE state"
   ]
  },
  {
   "cell_type": "code",
   "execution_count": 6,
   "id": "d2a04dbe-a62b-4f90-bef9-4f6bde881509",
   "metadata": {
    "execution": {
     "iopub.execute_input": "2024-10-17T07:31:52.549876Z",
     "iopub.status.busy": "2024-10-17T07:31:52.549484Z",
     "iopub.status.idle": "2024-10-17T07:31:52.551976Z",
     "shell.execute_reply": "2024-10-17T07:31:52.551541Z"
    }
   },
   "outputs": [],
   "source": [
    "import numpy as np"
   ]
  },
  {
   "cell_type": "code",
   "execution_count": 7,
   "id": "223f5be5-32b8-429f-ae86-79ace7123d05",
   "metadata": {
    "execution": {
     "iopub.execute_input": "2024-10-17T07:31:52.553590Z",
     "iopub.status.busy": "2024-10-17T07:31:52.553269Z",
     "iopub.status.idle": "2024-10-17T07:31:52.556267Z",
     "shell.execute_reply": "2024-10-17T07:31:52.555834Z"
    }
   },
   "outputs": [],
   "source": [
    "Ts = np.logspace(9.6, 10.4, 3)\n",
    "rhos = np.logspace(7, 10, 4)\n",
    "yes = np.linspace(0.43, 0.5, 3)"
   ]
  },
  {
   "cell_type": "markdown",
   "id": "7172990e-4eca-4b9c-b1a4-f07ff2cc0f42",
   "metadata": {},
   "source": [
    "Finally we can generate the table.  This will compute the NSE state at each combination of $(\\rho, T, Y_e)$.  To help accelerate the convergence,\n",
    "it will start at the highest temperature and loop over $\\rho$ and $Y_e$ and cache the values of the proton and neutron chemical potentials for the\n",
    "next temperature."
   ]
  },
  {
   "cell_type": "code",
   "execution_count": 8,
   "id": "4dd1bd2f-8a7b-491d-b6ed-1b5ba2087d63",
   "metadata": {
    "execution": {
     "iopub.execute_input": "2024-10-17T07:31:52.558024Z",
     "iopub.status.busy": "2024-10-17T07:31:52.557636Z",
     "iopub.status.idle": "2024-10-17T07:31:52.569583Z",
     "shell.execute_reply": "2024-10-17T07:31:52.569051Z"
    }
   },
   "outputs": [
    {
     "ename": "NameError",
     "evalue": "name 'nse' is not defined",
     "output_type": "error",
     "traceback": [
      "\u001b[0;31m---------------------------------------------------------------------------\u001b[0m",
      "\u001b[0;31mNameError\u001b[0m                                 Traceback (most recent call last)",
      "Cell \u001b[0;32mIn[8], line 1\u001b[0m\n\u001b[0;32m----> 1\u001b[0m \u001b[43mnse\u001b[49m\u001b[38;5;241m.\u001b[39mgenerate_table(rho_values\u001b[38;5;241m=\u001b[39mrhos,\n\u001b[1;32m      2\u001b[0m                    T_values\u001b[38;5;241m=\u001b[39mTs,\n\u001b[1;32m      3\u001b[0m                    Ye_values\u001b[38;5;241m=\u001b[39myes)\n",
      "\u001b[0;31mNameError\u001b[0m: name 'nse' is not defined"
     ]
    }
   ],
   "source": [
    "nse.generate_table(rho_values=rhos,\n",
    "                   T_values=Ts,\n",
    "                   Ye_values=yes)"
   ]
  },
  {
   "cell_type": "markdown",
   "id": "50762e2d-a58b-4118-9542-ce566bbf00a6",
   "metadata": {},
   "source": [
    "The table is stored as `nse.tbl`"
   ]
  },
  {
   "cell_type": "code",
   "execution_count": 9,
   "id": "d0c5ac32-fc4c-4819-a9ee-98432c16b2ac",
   "metadata": {
    "execution": {
     "iopub.execute_input": "2024-10-17T07:31:52.571160Z",
     "iopub.status.busy": "2024-10-17T07:31:52.570868Z",
     "iopub.status.idle": "2024-10-17T07:31:52.726015Z",
     "shell.execute_reply": "2024-10-17T07:31:52.725493Z"
    },
    "tags": [
     "nbval-ignore-output"
    ]
   },
   "outputs": [
    {
     "name": "stdout",
     "output_type": "stream",
     "text": [
      "cat: nse.tbl: No such file or directory\r\n"
     ]
    }
   ],
   "source": [
    "%cat nse.tbl"
   ]
  },
  {
   "cell_type": "markdown",
   "id": "00b27893-a7ed-43e2-b608-b7f381b0fa6d",
   "metadata": {},
   "source": [
    "There are other options to the NSE table writing, including storing the mass fractions or a reduced composition constructed by binning the nuclei\n",
    "into the closest nuclei in a smaller set."
   ]
  }
 ],
 "metadata": {
  "kernelspec": {
   "display_name": "Python 3 (ipykernel)",
   "language": "python",
   "name": "python3"
  },
  "language_info": {
   "codemirror_mode": {
    "name": "ipython",
    "version": 3
   },
   "file_extension": ".py",
   "mimetype": "text/x-python",
   "name": "python",
   "nbconvert_exporter": "python",
   "pygments_lexer": "ipython3",
   "version": "3.11.10"
  }
 },
 "nbformat": 4,
 "nbformat_minor": 5
}
