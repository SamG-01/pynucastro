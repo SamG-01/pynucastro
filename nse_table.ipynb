{
 "cells": [
  {
   "cell_type": "markdown",
   "id": "130650ea-9964-4deb-a848-450479948173",
   "metadata": {},
   "source": [
    "# Creating an NSE table\n",
    "\n",
    "We can tabulate the NSE state on a grid $(\\rho, T, Y_e)$, giving:\n",
    "\n",
    "* $\\bar{A}$ : the mean molecular weight\n",
    "* $\\langle B/A \\rangle$ : the average binding energy per nucleon of the NSE state [MeV]\n",
    "* $dY_e/dt$ : the time-evolution of $Y_e$ due to weak reactions [1/s]\n",
    "* $d\\bar{A}/dt$ : the time-evolution of $\\bar{A}$ due to weak reactions [1/s]\n",
    "* $d\\langle B/A\\rangle/dt$ : the time-evolution of the binding energy per nucleon due to weak reactions [MeV/s]\n",
    "* $\\epsilon_\\nu$ : the energy loss due to neutrinos [erg / g / s] "
   ]
  },
  {
   "cell_type": "code",
   "execution_count": 1,
   "id": "d8cba849-e50b-4ec2-b9d0-e7c2c9cb6d35",
   "metadata": {
    "execution": {
     "iopub.execute_input": "2024-10-17T09:03:26.202321Z",
     "iopub.status.busy": "2024-10-17T09:03:26.202150Z",
     "iopub.status.idle": "2024-10-17T09:03:27.590948Z",
     "shell.execute_reply": "2024-10-17T09:03:27.590401Z"
    }
   },
   "outputs": [],
   "source": [
    "import pynucastro as pyna\n",
    "from pynucastro import Nucleus"
   ]
  },
  {
   "cell_type": "markdown",
   "id": "fae74a4b-a14e-4a7a-833a-c6e47e0b0ec2",
   "metadata": {},
   "source": [
    "First we'll create a simple NSE network with a few nuclei.  We'll include tabulated weak rates so we can compute the change in the state due to electron/positron captures and decays."
   ]
  },
  {
   "cell_type": "code",
   "execution_count": 2,
   "id": "1efd221d-8e96-4001-aa92-0b322f9eec79",
   "metadata": {
    "execution": {
     "iopub.execute_input": "2024-10-17T09:03:27.593126Z",
     "iopub.status.busy": "2024-10-17T09:03:27.592649Z",
     "iopub.status.idle": "2024-10-17T09:03:27.596640Z",
     "shell.execute_reply": "2024-10-17T09:03:27.596207Z"
    }
   },
   "outputs": [],
   "source": [
    "nucs = [Nucleus(\"p\"), Nucleus(\"n\"), Nucleus(\"he4\"),\n",
    "        Nucleus(\"fe52\"), Nucleus(\"fe53\"), Nucleus(\"fe54\"),\n",
    "        Nucleus(\"fe55\"), Nucleus(\"fe56\"),\n",
    "        Nucleus(\"co54\"), Nucleus(\"co55\"), Nucleus(\"co56\"),\n",
    "        Nucleus(\"ni56\"), Nucleus(\"ni57\")]"
   ]
  },
  {
   "cell_type": "code",
   "execution_count": 3,
   "id": "1f718159-5e68-40d6-ae8f-3f43c16a3da7",
   "metadata": {
    "execution": {
     "iopub.execute_input": "2024-10-17T09:03:27.598250Z",
     "iopub.status.busy": "2024-10-17T09:03:27.597916Z",
     "iopub.status.idle": "2024-10-17T09:03:27.916503Z",
     "shell.execute_reply": "2024-10-17T09:03:27.915939Z"
    }
   },
   "outputs": [
    {
     "ename": "AttributeError",
     "evalue": "'TabularLibrary' object has no attribute 'source'",
     "output_type": "error",
     "traceback": [
      "\u001b[0;31m---------------------------------------------------------------------------\u001b[0m",
      "\u001b[0;31mAttributeError\u001b[0m                            Traceback (most recent call last)",
      "Cell \u001b[0;32mIn[3], line 1\u001b[0m\n\u001b[0;32m----> 1\u001b[0m tl \u001b[38;5;241m=\u001b[39m \u001b[43mpyna\u001b[49m\u001b[38;5;241;43m.\u001b[39;49m\u001b[43mTabularLibrary\u001b[49m\u001b[43m(\u001b[49m\u001b[43m)\u001b[49m\u001b[38;5;241m.\u001b[39mlinking_nuclei(nucs)\n\u001b[1;32m      2\u001b[0m rl \u001b[38;5;241m=\u001b[39m pyna\u001b[38;5;241m.\u001b[39mReacLibLibrary()\u001b[38;5;241m.\u001b[39mlinking_nuclei(nucs)\n\u001b[1;32m      3\u001b[0m all_lib \u001b[38;5;241m=\u001b[39m tl \u001b[38;5;241m+\u001b[39m rl\n",
      "File \u001b[0;32m/opt/hostedtoolcache/Python/3.11.10/x64/lib/python3.11/site-packages/pynucastro/rates/library.py:724\u001b[0m, in \u001b[0;36mTabularLibrary.__init__\u001b[0;34m(self, source)\u001b[0m\n\u001b[1;32m    722\u001b[0m     \u001b[38;5;28;01mfor\u001b[39;00m f \u001b[38;5;129;01min\u001b[39;00m \u001b[38;5;28msorted\u001b[39m(filenames):\n\u001b[1;32m    723\u001b[0m         \u001b[38;5;28;01mif\u001b[39;00m f\u001b[38;5;241m.\u001b[39mendswith(\u001b[38;5;124m\"\u001b[39m\u001b[38;5;124m-toki\u001b[39m\u001b[38;5;124m\"\u001b[39m):\n\u001b[0;32m--> 724\u001b[0m             trates\u001b[38;5;241m.\u001b[39mappend(load_rate(f, source\u001b[38;5;241m=\u001b[39m\u001b[38;5;28;43mself\u001b[39;49m\u001b[38;5;241;43m.\u001b[39;49m\u001b[43msource\u001b[49m))\n\u001b[1;32m    726\u001b[0m Library\u001b[38;5;241m.\u001b[39m\u001b[38;5;21m__init__\u001b[39m(\u001b[38;5;28mself\u001b[39m, rates\u001b[38;5;241m=\u001b[39mtrates)\n",
      "\u001b[0;31mAttributeError\u001b[0m: 'TabularLibrary' object has no attribute 'source'"
     ]
    }
   ],
   "source": [
    "tl = pyna.TabularLibrary().linking_nuclei(nucs)\n",
    "rl = pyna.ReacLibLibrary().linking_nuclei(nucs)\n",
    "all_lib = tl + rl"
   ]
  },
  {
   "cell_type": "code",
   "execution_count": 4,
   "id": "a46d080f-fa3d-433d-8e3b-a91ef98996d2",
   "metadata": {
    "execution": {
     "iopub.execute_input": "2024-10-17T09:03:27.918438Z",
     "iopub.status.busy": "2024-10-17T09:03:27.918079Z",
     "iopub.status.idle": "2024-10-17T09:03:27.932743Z",
     "shell.execute_reply": "2024-10-17T09:03:27.932297Z"
    }
   },
   "outputs": [
    {
     "ename": "NameError",
     "evalue": "name 'all_lib' is not defined",
     "output_type": "error",
     "traceback": [
      "\u001b[0;31m---------------------------------------------------------------------------\u001b[0m",
      "\u001b[0;31mNameError\u001b[0m                                 Traceback (most recent call last)",
      "Cell \u001b[0;32mIn[4], line 1\u001b[0m\n\u001b[0;32m----> 1\u001b[0m dupes \u001b[38;5;241m=\u001b[39m \u001b[43mall_lib\u001b[49m\u001b[38;5;241m.\u001b[39mfind_duplicate_links()\n\u001b[1;32m      2\u001b[0m rates_to_remove \u001b[38;5;241m=\u001b[39m []\n\u001b[1;32m      3\u001b[0m \u001b[38;5;28;01mfor\u001b[39;00m d \u001b[38;5;129;01min\u001b[39;00m dupes:\n",
      "\u001b[0;31mNameError\u001b[0m: name 'all_lib' is not defined"
     ]
    }
   ],
   "source": [
    "dupes = all_lib.find_duplicate_links()\n",
    "rates_to_remove = []\n",
    "for d in dupes:\n",
    "    rates_to_remove += [r for r in d if isinstance(r, pyna.rates.ReacLibRate)]\n",
    "\n",
    "for r in rates_to_remove:\n",
    "    all_lib.remove_rate(r)"
   ]
  },
  {
   "cell_type": "code",
   "execution_count": 5,
   "id": "3f2cba9e-ad5d-487e-9e45-4c896fa43559",
   "metadata": {
    "execution": {
     "iopub.execute_input": "2024-10-17T09:03:27.934452Z",
     "iopub.status.busy": "2024-10-17T09:03:27.934123Z",
     "iopub.status.idle": "2024-10-17T09:03:27.946092Z",
     "shell.execute_reply": "2024-10-17T09:03:27.945525Z"
    }
   },
   "outputs": [
    {
     "ename": "NameError",
     "evalue": "name 'all_lib' is not defined",
     "output_type": "error",
     "traceback": [
      "\u001b[0;31m---------------------------------------------------------------------------\u001b[0m",
      "\u001b[0;31mNameError\u001b[0m                                 Traceback (most recent call last)",
      "Cell \u001b[0;32mIn[5], line 1\u001b[0m\n\u001b[0;32m----> 1\u001b[0m nse \u001b[38;5;241m=\u001b[39m pyna\u001b[38;5;241m.\u001b[39mNSENetwork(libraries\u001b[38;5;241m=\u001b[39m[\u001b[43mall_lib\u001b[49m])\n",
      "\u001b[0;31mNameError\u001b[0m: name 'all_lib' is not defined"
     ]
    }
   ],
   "source": [
    "nse = pyna.NSENetwork(libraries=[all_lib])"
   ]
  },
  {
   "cell_type": "markdown",
   "id": "c8368c1a-53d9-4f33-ba7c-d40d2963610f",
   "metadata": {},
   "source": [
    "Now we'll create a grid of temperature, density, and $Y_e$ where we want to compute the NSE state"
   ]
  },
  {
   "cell_type": "code",
   "execution_count": 6,
   "id": "d2a04dbe-a62b-4f90-bef9-4f6bde881509",
   "metadata": {
    "execution": {
     "iopub.execute_input": "2024-10-17T09:03:27.947812Z",
     "iopub.status.busy": "2024-10-17T09:03:27.947487Z",
     "iopub.status.idle": "2024-10-17T09:03:27.950191Z",
     "shell.execute_reply": "2024-10-17T09:03:27.949638Z"
    }
   },
   "outputs": [],
   "source": [
    "import numpy as np"
   ]
  },
  {
   "cell_type": "code",
   "execution_count": 7,
   "id": "223f5be5-32b8-429f-ae86-79ace7123d05",
   "metadata": {
    "execution": {
     "iopub.execute_input": "2024-10-17T09:03:27.951970Z",
     "iopub.status.busy": "2024-10-17T09:03:27.951653Z",
     "iopub.status.idle": "2024-10-17T09:03:27.954787Z",
     "shell.execute_reply": "2024-10-17T09:03:27.954238Z"
    }
   },
   "outputs": [],
   "source": [
    "Ts = np.logspace(9.6, 10.4, 3)\n",
    "rhos = np.logspace(7, 10, 4)\n",
    "yes = np.linspace(0.43, 0.5, 3)"
   ]
  },
  {
   "cell_type": "markdown",
   "id": "7172990e-4eca-4b9c-b1a4-f07ff2cc0f42",
   "metadata": {},
   "source": [
    "Finally we can generate the table.  This will compute the NSE state at each combination of $(\\rho, T, Y_e)$.  To help accelerate the convergence,\n",
    "it will start at the highest temperature and loop over $\\rho$ and $Y_e$ and cache the values of the proton and neutron chemical potentials for the\n",
    "next temperature."
   ]
  },
  {
   "cell_type": "code",
   "execution_count": 8,
   "id": "4dd1bd2f-8a7b-491d-b6ed-1b5ba2087d63",
   "metadata": {
    "execution": {
     "iopub.execute_input": "2024-10-17T09:03:27.956456Z",
     "iopub.status.busy": "2024-10-17T09:03:27.956086Z",
     "iopub.status.idle": "2024-10-17T09:03:27.967828Z",
     "shell.execute_reply": "2024-10-17T09:03:27.967399Z"
    }
   },
   "outputs": [
    {
     "ename": "NameError",
     "evalue": "name 'nse' is not defined",
     "output_type": "error",
     "traceback": [
      "\u001b[0;31m---------------------------------------------------------------------------\u001b[0m",
      "\u001b[0;31mNameError\u001b[0m                                 Traceback (most recent call last)",
      "Cell \u001b[0;32mIn[8], line 1\u001b[0m\n\u001b[0;32m----> 1\u001b[0m \u001b[43mnse\u001b[49m\u001b[38;5;241m.\u001b[39mgenerate_table(rho_values\u001b[38;5;241m=\u001b[39mrhos,\n\u001b[1;32m      2\u001b[0m                    T_values\u001b[38;5;241m=\u001b[39mTs,\n\u001b[1;32m      3\u001b[0m                    Ye_values\u001b[38;5;241m=\u001b[39myes)\n",
      "\u001b[0;31mNameError\u001b[0m: name 'nse' is not defined"
     ]
    }
   ],
   "source": [
    "nse.generate_table(rho_values=rhos,\n",
    "                   T_values=Ts,\n",
    "                   Ye_values=yes)"
   ]
  },
  {
   "cell_type": "markdown",
   "id": "50762e2d-a58b-4118-9542-ce566bbf00a6",
   "metadata": {},
   "source": [
    "The table is stored as `nse.tbl`"
   ]
  },
  {
   "cell_type": "code",
   "execution_count": 9,
   "id": "d0c5ac32-fc4c-4819-a9ee-98432c16b2ac",
   "metadata": {
    "execution": {
     "iopub.execute_input": "2024-10-17T09:03:27.969332Z",
     "iopub.status.busy": "2024-10-17T09:03:27.969171Z",
     "iopub.status.idle": "2024-10-17T09:03:28.098330Z",
     "shell.execute_reply": "2024-10-17T09:03:28.097766Z"
    },
    "tags": [
     "nbval-ignore-output"
    ]
   },
   "outputs": [
    {
     "name": "stdout",
     "output_type": "stream",
     "text": [
      "cat: nse.tbl: No such file or directory\r\n"
     ]
    }
   ],
   "source": [
    "%cat nse.tbl"
   ]
  },
  {
   "cell_type": "markdown",
   "id": "00b27893-a7ed-43e2-b608-b7f381b0fa6d",
   "metadata": {},
   "source": [
    "There are other options to the NSE table writing, including storing the mass fractions or a reduced composition constructed by binning the nuclei\n",
    "into the closest nuclei in a smaller set."
   ]
  }
 ],
 "metadata": {
  "kernelspec": {
   "display_name": "Python 3 (ipykernel)",
   "language": "python",
   "name": "python3"
  },
  "language_info": {
   "codemirror_mode": {
    "name": "ipython",
    "version": 3
   },
   "file_extension": ".py",
   "mimetype": "text/x-python",
   "name": "python",
   "nbconvert_exporter": "python",
   "pygments_lexer": "ipython3",
   "version": "3.11.10"
  }
 },
 "nbformat": 4,
 "nbformat_minor": 5
}
