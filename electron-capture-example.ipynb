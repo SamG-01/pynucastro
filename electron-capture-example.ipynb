{
 "cells": [
  {
   "cell_type": "markdown",
   "id": "f28396d9-c48a-456e-8d16-0e66c14e6b62",
   "metadata": {
    "tags": []
   },
   "source": [
    "# Tabulated Weak Rate Example"
   ]
  },
  {
   "cell_type": "markdown",
   "id": "0b7f15a2-d916-4586-9e63-ed927408b7d6",
   "metadata": {},
   "source": [
    "Here we walk through an example of a single network consisting of just 2 nuclei linked together by electron-capture and beta-decay.\n",
    "\n",
    "We'll consider ${}^{56}\\mathrm{Ni}$ and ${}^{56}\\mathrm{Co}$.  The evolution of this system is:\n",
    "\n",
    "\\begin{align*}\n",
    "\\frac{dY_\\mathrm{Ni}}{dt} &= -\\lambda_\\mathrm{e-cap} Y_\\mathrm{Ni} + \\lambda_\\mathrm{\\beta} Y_\\mathrm{Co} \\\\\n",
    "\\frac{dY_\\mathrm{Co}}{dt} &= +\\lambda_\\mathrm{e-cap} Y_\\mathrm{Ni} - \\lambda_\\mathrm{\\beta} Y_\\mathrm{Co}\n",
    "\\end{align*}\n",
    "\n",
    "where $Y_\\mathrm{Ni}$ and $Y_\\mathrm{Co}$ are the molar fractions of the nuclei.\n",
    "\n",
    "Let's create a network with these rates.\n",
    "\n",
    "pynucastro will use the tabulated rates from <cite data-cite-t=\"langanke:2001\">Langanke & Martinez-Pinedo (2001)</cite>."
   ]
  },
  {
   "cell_type": "code",
   "execution_count": 1,
   "id": "af19815c-7a33-4226-8698-8c17def432b8",
   "metadata": {
    "execution": {
     "iopub.execute_input": "2024-10-18T08:31:45.706426Z",
     "iopub.status.busy": "2024-10-18T08:31:45.706263Z",
     "iopub.status.idle": "2024-10-18T08:31:47.070095Z",
     "shell.execute_reply": "2024-10-18T08:31:47.069453Z"
    },
    "tags": []
   },
   "outputs": [],
   "source": [
    "import pynucastro as pyna"
   ]
  },
  {
   "cell_type": "code",
   "execution_count": 2,
   "id": "47cc1eb4-28ba-4559-b590-634265018f51",
   "metadata": {
    "execution": {
     "iopub.execute_input": "2024-10-18T08:31:47.072237Z",
     "iopub.status.busy": "2024-10-18T08:31:47.071945Z",
     "iopub.status.idle": "2024-10-18T08:31:48.956840Z",
     "shell.execute_reply": "2024-10-18T08:31:48.956318Z"
    },
    "tags": []
   },
   "outputs": [
    {
     "ename": "AttributeError",
     "evalue": "'Library' object has no attribute 'rates'",
     "output_type": "error",
     "traceback": [
      "\u001b[0;31m---------------------------------------------------------------------------\u001b[0m",
      "\u001b[0;31mAttributeError\u001b[0m                            Traceback (most recent call last)",
      "Cell \u001b[0;32mIn[2], line 2\u001b[0m\n\u001b[1;32m      1\u001b[0m tl \u001b[38;5;241m=\u001b[39m pyna\u001b[38;5;241m.\u001b[39mTabularLibrary()\n\u001b[0;32m----> 2\u001b[0m lib \u001b[38;5;241m=\u001b[39m \u001b[43mtl\u001b[49m\u001b[38;5;241;43m.\u001b[39;49m\u001b[43mlinking_nuclei\u001b[49m\u001b[43m(\u001b[49m\u001b[43m[\u001b[49m\u001b[38;5;124;43m\"\u001b[39;49m\u001b[38;5;124;43mni56\u001b[39;49m\u001b[38;5;124;43m\"\u001b[39;49m\u001b[43m,\u001b[49m\u001b[43m \u001b[49m\u001b[38;5;124;43m\"\u001b[39;49m\u001b[38;5;124;43mco56\u001b[39;49m\u001b[38;5;124;43m\"\u001b[39;49m\u001b[43m]\u001b[49m\u001b[43m)\u001b[49m\n\u001b[1;32m      3\u001b[0m lib\n",
      "File \u001b[0;32m/opt/hostedtoolcache/Python/3.11.10/x64/lib/python3.11/site-packages/pynucastro/rates/library.py:443\u001b[0m, in \u001b[0;36mLibrary.linking_nuclei\u001b[0;34m(self, nuclist, with_reverse, print_warning)\u001b[0m\n\u001b[1;32m    441\u001b[0m \u001b[38;5;66;03m# print out a warning if one of the input nuclei is not linked\u001b[39;00m\n\u001b[1;32m    442\u001b[0m \u001b[38;5;28;01mif\u001b[39;00m print_warning:\n\u001b[0;32m--> 443\u001b[0m     lib_nuclei \u001b[38;5;241m=\u001b[39m \u001b[43mnew_lib\u001b[49m\u001b[38;5;241;43m.\u001b[39;49m\u001b[43mget_nuclei\u001b[49m\u001b[43m(\u001b[49m\u001b[43m)\u001b[49m\n\u001b[1;32m    444\u001b[0m     \u001b[38;5;28;01mfor\u001b[39;00m nuc \u001b[38;5;129;01min\u001b[39;00m nucleus_set:\n\u001b[1;32m    445\u001b[0m         \u001b[38;5;28;01mif\u001b[39;00m nuc \u001b[38;5;129;01mnot\u001b[39;00m \u001b[38;5;129;01min\u001b[39;00m lib_nuclei:\n",
      "File \u001b[0;32m/opt/hostedtoolcache/Python/3.11.10/x64/lib/python3.11/site-packages/pynucastro/rates/library.py:231\u001b[0m, in \u001b[0;36mLibrary.get_nuclei\u001b[0;34m(self)\u001b[0m\n\u001b[1;32m    229\u001b[0m \u001b[38;5;28;01mdef\u001b[39;00m \u001b[38;5;21mget_nuclei\u001b[39m(\u001b[38;5;28mself\u001b[39m) \u001b[38;5;241m-\u001b[39m\u001b[38;5;241m>\u001b[39m \u001b[38;5;28mset\u001b[39m[Nucleus]:\n\u001b[1;32m    230\u001b[0m \u001b[38;5;250m    \u001b[39m\u001b[38;5;124;03m\"\"\"get the list of unique nuclei\"\"\"\u001b[39;00m\n\u001b[0;32m--> 231\u001b[0m     \u001b[38;5;28;01mreturn\u001b[39;00m {nuc \u001b[38;5;28;01mfor\u001b[39;00m r \u001b[38;5;129;01min\u001b[39;00m \u001b[38;5;28;43mself\u001b[39;49m\u001b[38;5;241;43m.\u001b[39;49m\u001b[43mrates\u001b[49m \u001b[38;5;28;01mfor\u001b[39;00m nuc \u001b[38;5;129;01min\u001b[39;00m r\u001b[38;5;241m.\u001b[39mreactants \u001b[38;5;241m+\u001b[39m r\u001b[38;5;241m.\u001b[39mproducts}\n",
      "\u001b[0;31mAttributeError\u001b[0m: 'Library' object has no attribute 'rates'"
     ]
    }
   ],
   "source": [
    "tl = pyna.TabularLibrary()\n",
    "lib = tl.linking_nuclei([\"ni56\", \"co56\"])\n",
    "lib"
   ]
  },
  {
   "cell_type": "markdown",
   "id": "44b704c8-74a6-42fc-a57b-ba321fa1be3e",
   "metadata": {},
   "source": [
    "We'll create a `RateCollection` so we can evaluate the rates easily"
   ]
  },
  {
   "cell_type": "code",
   "execution_count": 3,
   "id": "aceeda6b-72b8-4d25-849e-bb69feb31d9d",
   "metadata": {
    "execution": {
     "iopub.execute_input": "2024-10-18T08:31:48.958820Z",
     "iopub.status.busy": "2024-10-18T08:31:48.958430Z",
     "iopub.status.idle": "2024-10-18T08:31:48.970942Z",
     "shell.execute_reply": "2024-10-18T08:31:48.970418Z"
    },
    "tags": []
   },
   "outputs": [
    {
     "ename": "NameError",
     "evalue": "name 'lib' is not defined",
     "output_type": "error",
     "traceback": [
      "\u001b[0;31m---------------------------------------------------------------------------\u001b[0m",
      "\u001b[0;31mNameError\u001b[0m                                 Traceback (most recent call last)",
      "Cell \u001b[0;32mIn[3], line 1\u001b[0m\n\u001b[0;32m----> 1\u001b[0m rc \u001b[38;5;241m=\u001b[39m pyna\u001b[38;5;241m.\u001b[39mRateCollection(libraries\u001b[38;5;241m=\u001b[39m[\u001b[43mlib\u001b[49m])\n\u001b[1;32m      2\u001b[0m fig \u001b[38;5;241m=\u001b[39m rc\u001b[38;5;241m.\u001b[39mplot(curved_edges\u001b[38;5;241m=\u001b[39m\u001b[38;5;28;01mTrue\u001b[39;00m)\n",
      "\u001b[0;31mNameError\u001b[0m: name 'lib' is not defined"
     ]
    }
   ],
   "source": [
    "rc = pyna.RateCollection(libraries=[lib])\n",
    "fig = rc.plot(curved_edges=True)"
   ]
  },
  {
   "cell_type": "markdown",
   "id": "d0d445c3-2c6a-46fb-bb73-7d43a12f3ff0",
   "metadata": {},
   "source": [
    "Let's create a composition -- we'll make equal amounts of Ni and Co"
   ]
  },
  {
   "cell_type": "code",
   "execution_count": 4,
   "id": "7560f52b-f17e-4dc0-a751-1934f1cba318",
   "metadata": {
    "execution": {
     "iopub.execute_input": "2024-10-18T08:31:48.972807Z",
     "iopub.status.busy": "2024-10-18T08:31:48.972484Z",
     "iopub.status.idle": "2024-10-18T08:31:48.983719Z",
     "shell.execute_reply": "2024-10-18T08:31:48.983149Z"
    },
    "tags": []
   },
   "outputs": [
    {
     "ename": "NameError",
     "evalue": "name 'rc' is not defined",
     "output_type": "error",
     "traceback": [
      "\u001b[0;31m---------------------------------------------------------------------------\u001b[0m",
      "\u001b[0;31mNameError\u001b[0m                                 Traceback (most recent call last)",
      "Cell \u001b[0;32mIn[4], line 1\u001b[0m\n\u001b[0;32m----> 1\u001b[0m comp \u001b[38;5;241m=\u001b[39m pyna\u001b[38;5;241m.\u001b[39mComposition(\u001b[43mrc\u001b[49m\u001b[38;5;241m.\u001b[39munique_nuclei)\n\u001b[1;32m      2\u001b[0m comp\u001b[38;5;241m.\u001b[39mset_equal()\n",
      "\u001b[0;31mNameError\u001b[0m: name 'rc' is not defined"
     ]
    }
   ],
   "source": [
    "comp = pyna.Composition(rc.unique_nuclei)\n",
    "comp.set_equal()"
   ]
  },
  {
   "cell_type": "markdown",
   "id": "145bf129-cd28-4052-9adc-278ba94328af",
   "metadata": {},
   "source": [
    "We can see from the electron fraction that we are a little neutron-rich"
   ]
  },
  {
   "cell_type": "code",
   "execution_count": 5,
   "id": "6dc41850-a41c-42b4-a9a1-3aed5a87d9dc",
   "metadata": {
    "execution": {
     "iopub.execute_input": "2024-10-18T08:31:48.985504Z",
     "iopub.status.busy": "2024-10-18T08:31:48.985175Z",
     "iopub.status.idle": "2024-10-18T08:31:48.996154Z",
     "shell.execute_reply": "2024-10-18T08:31:48.995707Z"
    },
    "tags": []
   },
   "outputs": [
    {
     "ename": "NameError",
     "evalue": "name 'comp' is not defined",
     "output_type": "error",
     "traceback": [
      "\u001b[0;31m---------------------------------------------------------------------------\u001b[0m",
      "\u001b[0;31mNameError\u001b[0m                                 Traceback (most recent call last)",
      "Cell \u001b[0;32mIn[5], line 1\u001b[0m\n\u001b[0;32m----> 1\u001b[0m Ye \u001b[38;5;241m=\u001b[39m \u001b[43mcomp\u001b[49m\u001b[38;5;241m.\u001b[39mye\n\u001b[1;32m      2\u001b[0m Ye\n",
      "\u001b[0;31mNameError\u001b[0m: name 'comp' is not defined"
     ]
    }
   ],
   "source": [
    "Ye = comp.ye\n",
    "Ye"
   ]
  },
  {
   "cell_type": "markdown",
   "id": "d436cb8c-5c9e-48e6-956b-4e294fa76b20",
   "metadata": {},
   "source": [
    "Now let's compute the rates.  We'll pick a density (actually $\\rho Y_e$) and temperature\n",
    "right on one of the points tabulated in the original source so we can directly compare\n",
    "to what is in the table."
   ]
  },
  {
   "cell_type": "code",
   "execution_count": 6,
   "id": "44651eaf-6bb2-49a6-b9a4-6d4d494b84b8",
   "metadata": {
    "execution": {
     "iopub.execute_input": "2024-10-18T08:31:48.997726Z",
     "iopub.status.busy": "2024-10-18T08:31:48.997430Z",
     "iopub.status.idle": "2024-10-18T08:31:49.008424Z",
     "shell.execute_reply": "2024-10-18T08:31:49.007895Z"
    },
    "tags": []
   },
   "outputs": [
    {
     "ename": "NameError",
     "evalue": "name 'Ye' is not defined",
     "output_type": "error",
     "traceback": [
      "\u001b[0;31m---------------------------------------------------------------------------\u001b[0m",
      "\u001b[0;31mNameError\u001b[0m                                 Traceback (most recent call last)",
      "Cell \u001b[0;32mIn[6], line 1\u001b[0m\n\u001b[0;32m----> 1\u001b[0m rho \u001b[38;5;241m=\u001b[39m \u001b[38;5;241m1.e7\u001b[39m \u001b[38;5;241m/\u001b[39m \u001b[43mYe\u001b[49m\n\u001b[1;32m      2\u001b[0m T \u001b[38;5;241m=\u001b[39m \u001b[38;5;241m1.e9\u001b[39m\n",
      "\u001b[0;31mNameError\u001b[0m: name 'Ye' is not defined"
     ]
    }
   ],
   "source": [
    "rho = 1.e7 / Ye\n",
    "T = 1.e9"
   ]
  },
  {
   "cell_type": "markdown",
   "id": "5ea5fa02-3419-41e3-9cba-75bb91f95ea4",
   "metadata": {},
   "source": [
    "The rates are proportional to the molar fractions, so we can get those too:"
   ]
  },
  {
   "cell_type": "code",
   "execution_count": 7,
   "id": "4b569082-2819-44e7-adbb-a4e9f0a0aee1",
   "metadata": {
    "execution": {
     "iopub.execute_input": "2024-10-18T08:31:49.010207Z",
     "iopub.status.busy": "2024-10-18T08:31:49.009882Z",
     "iopub.status.idle": "2024-10-18T08:31:49.021676Z",
     "shell.execute_reply": "2024-10-18T08:31:49.021230Z"
    },
    "tags": []
   },
   "outputs": [
    {
     "ename": "NameError",
     "evalue": "name 'comp' is not defined",
     "output_type": "error",
     "traceback": [
      "\u001b[0;31m---------------------------------------------------------------------------\u001b[0m",
      "\u001b[0;31mNameError\u001b[0m                                 Traceback (most recent call last)",
      "Cell \u001b[0;32mIn[7], line 1\u001b[0m\n\u001b[0;32m----> 1\u001b[0m Y \u001b[38;5;241m=\u001b[39m \u001b[43mcomp\u001b[49m\u001b[38;5;241m.\u001b[39mget_molar()\n\u001b[1;32m      2\u001b[0m Y\n",
      "\u001b[0;31mNameError\u001b[0m: name 'comp' is not defined"
     ]
    }
   ],
   "source": [
    "Y = comp.get_molar()\n",
    "Y"
   ]
  },
  {
   "cell_type": "markdown",
   "id": "01763af2-02e0-4405-afb4-d36d9c3330fa",
   "metadata": {
    "tags": []
   },
   "source": [
    "Now we can evaluate the rates"
   ]
  },
  {
   "cell_type": "code",
   "execution_count": 8,
   "id": "e161821d-2cd7-4208-a03d-240d23d99713",
   "metadata": {
    "execution": {
     "iopub.execute_input": "2024-10-18T08:31:49.023339Z",
     "iopub.status.busy": "2024-10-18T08:31:49.023013Z",
     "iopub.status.idle": "2024-10-18T08:31:49.034113Z",
     "shell.execute_reply": "2024-10-18T08:31:49.033680Z"
    },
    "tags": []
   },
   "outputs": [
    {
     "ename": "NameError",
     "evalue": "name 'rc' is not defined",
     "output_type": "error",
     "traceback": [
      "\u001b[0;31m---------------------------------------------------------------------------\u001b[0m",
      "\u001b[0;31mNameError\u001b[0m                                 Traceback (most recent call last)",
      "Cell \u001b[0;32mIn[8], line 1\u001b[0m\n\u001b[0;32m----> 1\u001b[0m \u001b[43mrc\u001b[49m\u001b[38;5;241m.\u001b[39mevaluate_rates(rho, T, comp)\n",
      "\u001b[0;31mNameError\u001b[0m: name 'rc' is not defined"
     ]
    }
   ],
   "source": [
    "rc.evaluate_rates(rho, T, comp)"
   ]
  },
  {
   "cell_type": "code",
   "execution_count": 9,
   "id": "735f2750-6910-4c87-9d63-81f470ef0551",
   "metadata": {
    "execution": {
     "iopub.execute_input": "2024-10-18T08:31:49.035690Z",
     "iopub.status.busy": "2024-10-18T08:31:49.035361Z",
     "iopub.status.idle": "2024-10-18T08:31:49.046318Z",
     "shell.execute_reply": "2024-10-18T08:31:49.045784Z"
    },
    "tags": []
   },
   "outputs": [
    {
     "ename": "NameError",
     "evalue": "name 'rc' is not defined",
     "output_type": "error",
     "traceback": [
      "\u001b[0;31m---------------------------------------------------------------------------\u001b[0m",
      "\u001b[0;31mNameError\u001b[0m                                 Traceback (most recent call last)",
      "Cell \u001b[0;32mIn[9], line 1\u001b[0m\n\u001b[0;32m----> 1\u001b[0m ydots \u001b[38;5;241m=\u001b[39m \u001b[43mrc\u001b[49m\u001b[38;5;241m.\u001b[39mevaluate_ydots(rho, T, comp)\n\u001b[1;32m      2\u001b[0m ydots\n",
      "\u001b[0;31mNameError\u001b[0m: name 'rc' is not defined"
     ]
    }
   ],
   "source": [
    "ydots = rc.evaluate_ydots(rho, T, comp)\n",
    "ydots"
   ]
  },
  {
   "cell_type": "markdown",
   "id": "0652257d-79a5-43c8-8886-dca4f8343c61",
   "metadata": {},
   "source": [
    "If we look at the original tables from <cite data-cite-t=\"langanke:2001\">Langanke & Martinez-Pinedo (2001)</cite>, they tabulate (for the conditions we selected above):\n",
    "\n",
    "```\n",
    " neg. daughter Ni56 z=28 n=28 a=56 Q= -1.6240                                           \n",
    " pos. daughter Co56 z=27 n=29 a=56 Q=  1.6240                                           \n",
    "                      +++ Ni56 --> Co56 +++      --- Co56 --> Ni56 ---\n",
    "   t9   lrho    uf    lbeta+    leps-    lrnu    lbeta-    leps+  lrnubar\n",
    "...\n",
    "  1.00  7.0   0.689  -15.299   -3.091   -3.097  -20.521  -23.856  -20.878\n",
    "...\n",
    "```"
   ]
  },
  {
   "cell_type": "markdown",
   "id": "e6b3b7bd-0390-4544-bd52-f6d5f2684379",
   "metadata": {},
   "source": [
    "We see that there are 2 rates for ${}^{56}\\mathrm{Ni} \\rightarrow {}^{56}\\mathrm{Co}$: positron decay (`lbeta+`) and electron capture (`leps-`), and 2 rates for ${}^{56}\\mathrm{Co} \\rightarrow {}^{56}\\mathrm{Ni}$: beta-decay (`lbeta-`) and positron capture (`leps+`).  All of these are log base-10 in $\\mathrm{s}^{-1}$.\n",
    "\n",
    "In this case, the dominant rate is the electron capture.  Let's compute that rate manually"
   ]
  },
  {
   "cell_type": "code",
   "execution_count": 10,
   "id": "ac9ebeb9-b24a-4500-a390-ecbe91f21cd0",
   "metadata": {
    "execution": {
     "iopub.execute_input": "2024-10-18T08:31:49.048033Z",
     "iopub.status.busy": "2024-10-18T08:31:49.047734Z",
     "iopub.status.idle": "2024-10-18T08:31:49.059124Z",
     "shell.execute_reply": "2024-10-18T08:31:49.058597Z"
    },
    "tags": []
   },
   "outputs": [
    {
     "ename": "NameError",
     "evalue": "name 'Y' is not defined",
     "output_type": "error",
     "traceback": [
      "\u001b[0;31m---------------------------------------------------------------------------\u001b[0m",
      "\u001b[0;31mNameError\u001b[0m                                 Traceback (most recent call last)",
      "Cell \u001b[0;32mIn[10], line 2\u001b[0m\n\u001b[1;32m      1\u001b[0m lambda_ec \u001b[38;5;241m=\u001b[39m \u001b[38;5;241m10.0\u001b[39m\u001b[38;5;241m*\u001b[39m\u001b[38;5;241m*\u001b[39m\u001b[38;5;241m-\u001b[39m\u001b[38;5;241m3.091\u001b[39m\n\u001b[0;32m----> 2\u001b[0m r \u001b[38;5;241m=\u001b[39m \u001b[43mY\u001b[49m[pyna\u001b[38;5;241m.\u001b[39mNucleus(\u001b[38;5;124m\"\u001b[39m\u001b[38;5;124mni56\u001b[39m\u001b[38;5;124m\"\u001b[39m)] \u001b[38;5;241m*\u001b[39m lambda_ec\n\u001b[1;32m      3\u001b[0m r\n",
      "\u001b[0;31mNameError\u001b[0m: name 'Y' is not defined"
     ]
    }
   ],
   "source": [
    "lambda_ec = 10.0**-3.091\n",
    "r = Y[pyna.Nucleus(\"ni56\")] * lambda_ec\n",
    "r"
   ]
  },
  {
   "cell_type": "markdown",
   "id": "5b2d5401-cc0d-4b8e-aac4-a359e665d421",
   "metadata": {
    "tags": []
   },
   "source": [
    "We get the same result as `evaluate_rates()`!"
   ]
  },
  {
   "cell_type": "markdown",
   "id": "870f7d2a-c532-4aa5-b637-5e4752fc9edd",
   "metadata": {
    "tags": []
   },
   "source": [
    "Finally, we can compute the evolution of the electron fraction:\n",
    "    \n",
    "$$Y_e = \\sum_k Z_k Y_k \\ \\rightarrow \\ \\frac{dY_e}{dt} = \\sum_k Z_k \\frac{dY_k}{dt}$$"
   ]
  },
  {
   "cell_type": "code",
   "execution_count": 11,
   "id": "71668176-7af5-4262-ae59-6da22e3e4b7b",
   "metadata": {
    "execution": {
     "iopub.execute_input": "2024-10-18T08:31:49.060921Z",
     "iopub.status.busy": "2024-10-18T08:31:49.060602Z",
     "iopub.status.idle": "2024-10-18T08:31:49.071947Z",
     "shell.execute_reply": "2024-10-18T08:31:49.071415Z"
    },
    "tags": []
   },
   "outputs": [
    {
     "ename": "NameError",
     "evalue": "name 'rc' is not defined",
     "output_type": "error",
     "traceback": [
      "\u001b[0;31m---------------------------------------------------------------------------\u001b[0m",
      "\u001b[0;31mNameError\u001b[0m                                 Traceback (most recent call last)",
      "Cell \u001b[0;32mIn[11], line 1\u001b[0m\n\u001b[0;32m----> 1\u001b[0m dyedt \u001b[38;5;241m=\u001b[39m \u001b[38;5;28msum\u001b[39m(q\u001b[38;5;241m.\u001b[39mZ \u001b[38;5;241m*\u001b[39m ydots[q] \u001b[38;5;28;01mfor\u001b[39;00m q \u001b[38;5;129;01min\u001b[39;00m \u001b[43mrc\u001b[49m\u001b[38;5;241m.\u001b[39munique_nuclei)\n\u001b[1;32m      2\u001b[0m dyedt\n",
      "\u001b[0;31mNameError\u001b[0m: name 'rc' is not defined"
     ]
    }
   ],
   "source": [
    "dyedt = sum(q.Z * ydots[q] for q in rc.unique_nuclei)\n",
    "dyedt"
   ]
  }
 ],
 "metadata": {
  "kernelspec": {
   "display_name": "Python 3",
   "language": "python",
   "name": "python3"
  },
  "language_info": {
   "codemirror_mode": {
    "name": "ipython",
    "version": 3
   },
   "file_extension": ".py",
   "mimetype": "text/x-python",
   "name": "python",
   "nbconvert_exporter": "python",
   "pygments_lexer": "ipython3",
   "version": "3.11.10"
  }
 },
 "nbformat": 4,
 "nbformat_minor": 5
}
