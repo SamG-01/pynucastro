{
 "cells": [
  {
   "cell_type": "markdown",
   "id": "f28396d9-c48a-456e-8d16-0e66c14e6b62",
   "metadata": {
    "tags": []
   },
   "source": [
    "# Tabulated Weak Rate Example"
   ]
  },
  {
   "cell_type": "markdown",
   "id": "0b7f15a2-d916-4586-9e63-ed927408b7d6",
   "metadata": {},
   "source": [
    "Here we walk through an example of a single network consisting of just 2 nuclei linked together by electron-capture and beta-decay.\n",
    "\n",
    "We'll consider ${}^{56}\\mathrm{Ni}$ and ${}^{56}\\mathrm{Co}$.  The evolution of this system is:\n",
    "\n",
    "\\begin{align*}\n",
    "\\frac{dY_\\mathrm{Ni}}{dt} &= -\\lambda_\\mathrm{e-cap} Y_\\mathrm{Ni} + \\lambda_\\mathrm{\\beta} Y_\\mathrm{Co} \\\\\n",
    "\\frac{dY_\\mathrm{Co}}{dt} &= +\\lambda_\\mathrm{e-cap} Y_\\mathrm{Ni} - \\lambda_\\mathrm{\\beta} Y_\\mathrm{Co}\n",
    "\\end{align*}\n",
    "\n",
    "where $Y_\\mathrm{Ni}$ and $Y_\\mathrm{Co}$ are the molar fractions of the nuclei.\n",
    "\n",
    "Let's create a network with these rates.\n",
    "\n",
    "pynucastro will use the tabulated rates from <cite data-cite-t=\"langanke:2001\">Langanke & Martinez-Pinedo (2001)</cite>."
   ]
  },
  {
   "cell_type": "code",
   "execution_count": 1,
   "id": "af19815c-7a33-4226-8698-8c17def432b8",
   "metadata": {
    "execution": {
     "iopub.execute_input": "2024-10-19T09:34:56.597164Z",
     "iopub.status.busy": "2024-10-19T09:34:56.596995Z",
     "iopub.status.idle": "2024-10-19T09:34:58.098686Z",
     "shell.execute_reply": "2024-10-19T09:34:58.098101Z"
    },
    "tags": []
   },
   "outputs": [
    {
     "ename": "KeyError",
     "evalue": "'6an9CYBT'",
     "output_type": "error",
     "traceback": [
      "\u001b[0;31m---------------------------------------------------------------------------\u001b[0m",
      "\u001b[0;31mKeyError\u001b[0m                                  Traceback (most recent call last)",
      "Cell \u001b[0;32mIn[1], line 1\u001b[0m\n\u001b[0;32m----> 1\u001b[0m \u001b[38;5;28;01mimport\u001b[39;00m \u001b[38;5;21;01mpynucastro\u001b[39;00m \u001b[38;5;28;01mas\u001b[39;00m \u001b[38;5;21;01mpyna\u001b[39;00m\n",
      "File \u001b[0;32m/opt/hostedtoolcache/Python/3.11.10/x64/lib/python3.11/site-packages/pynucastro/__init__.py:131\u001b[0m\n\u001b[1;32m    126\u001b[0m \u001b[38;5;28;01mfrom\u001b[39;00m \u001b[38;5;21;01m.\u001b[39;00m\u001b[38;5;21;01m_version\u001b[39;00m \u001b[38;5;28;01mimport\u001b[39;00m version\n\u001b[1;32m    128\u001b[0m __version__ \u001b[38;5;241m=\u001b[39m version\n\u001b[0;32m--> 131\u001b[0m \u001b[38;5;28;01mimport\u001b[39;00m \u001b[38;5;21;01mpynucastro\u001b[39;00m\u001b[38;5;21;01m.\u001b[39;00m\u001b[38;5;21;01mscreening\u001b[39;00m\n\u001b[1;32m    132\u001b[0m \u001b[38;5;28;01mfrom\u001b[39;00m \u001b[38;5;21;01mpynucastro\u001b[39;00m\u001b[38;5;21;01m.\u001b[39;00m\u001b[38;5;21;01mnetworks\u001b[39;00m \u001b[38;5;28;01mimport\u001b[39;00m (AmrexAstroCxxNetwork, BaseCxxNetwork,\n\u001b[1;32m    133\u001b[0m                                  Composition, Explorer, NSENetwork,\n\u001b[1;32m    134\u001b[0m                                  NumpyNetwork, PythonNetwork, RateCollection,\n\u001b[1;32m    135\u001b[0m                                  SimpleCxxNetwork, StarKillerCxxNetwork,\n\u001b[1;32m    136\u001b[0m                                  SympyRates)\n\u001b[1;32m    137\u001b[0m \u001b[38;5;28;01mfrom\u001b[39;00m \u001b[38;5;21;01mpynucastro\u001b[39;00m\u001b[38;5;21;01m.\u001b[39;00m\u001b[38;5;21;01mnucdata\u001b[39;00m \u001b[38;5;28;01mimport\u001b[39;00m Nucleus, get_all_nuclei, get_nuclei_in_range\n",
      "File \u001b[0;32m/opt/hostedtoolcache/Python/3.11.10/x64/lib/python3.11/site-packages/pynucastro/screening/__init__.py:5\u001b[0m\n\u001b[1;32m      1\u001b[0m \u001b[38;5;124;03m\"\"\"Screening routines\"\"\"\u001b[39;00m\n\u001b[1;32m      3\u001b[0m __all__ \u001b[38;5;241m=\u001b[39m [\u001b[38;5;124m\"\u001b[39m\u001b[38;5;124mscreen\u001b[39m\u001b[38;5;124m\"\u001b[39m, \u001b[38;5;124m\"\u001b[39m\u001b[38;5;124mscreening_util\u001b[39m\u001b[38;5;124m\"\u001b[39m]\n\u001b[0;32m----> 5\u001b[0m \u001b[38;5;28;01mfrom\u001b[39;00m \u001b[38;5;21;01m.\u001b[39;00m\u001b[38;5;21;01mscreen\u001b[39;00m \u001b[38;5;28;01mimport\u001b[39;00m (NseState, PlasmaState, ScreenFactors, chugunov_2007,\n\u001b[1;32m      6\u001b[0m                      chugunov_2009, make_plasma_state, make_screen_factors,\n\u001b[1;32m      7\u001b[0m                      potekhin_1998, screen5)\n\u001b[1;32m      8\u001b[0m \u001b[38;5;28;01mfrom\u001b[39;00m \u001b[38;5;21;01m.\u001b[39;00m\u001b[38;5;21;01mscreening_util\u001b[39;00m \u001b[38;5;28;01mimport\u001b[39;00m ScreeningPair, get_screening_map\n",
      "File \u001b[0;32m/opt/hostedtoolcache/Python/3.11.10/x64/lib/python3.11/site-packages/pynucastro/screening/screen.py:9\u001b[0m\n\u001b[1;32m      7\u001b[0m \u001b[38;5;28;01mfrom\u001b[39;00m \u001b[38;5;21;01mpynucastro\u001b[39;00m\u001b[38;5;21;01m.\u001b[39;00m\u001b[38;5;21;01mnucdata\u001b[39;00m \u001b[38;5;28;01mimport\u001b[39;00m Nucleus\n\u001b[1;32m      8\u001b[0m \u001b[38;5;66;03m# use the jitclass placeholder from rate.py\u001b[39;00m\n\u001b[0;32m----> 9\u001b[0m \u001b[38;5;28;01mfrom\u001b[39;00m \u001b[38;5;21;01mpynucastro\u001b[39;00m\u001b[38;5;21;01m.\u001b[39;00m\u001b[38;5;21;01mrates\u001b[39;00m\u001b[38;5;21;01m.\u001b[39;00m\u001b[38;5;21;01mrate\u001b[39;00m \u001b[38;5;28;01mimport\u001b[39;00m jitclass, numba\n\u001b[1;32m     11\u001b[0m \u001b[38;5;28;01mif\u001b[39;00m numba \u001b[38;5;129;01mis\u001b[39;00m \u001b[38;5;129;01mnot\u001b[39;00m \u001b[38;5;28;01mNone\u001b[39;00m:\n\u001b[1;32m     12\u001b[0m     njit \u001b[38;5;241m=\u001b[39m numba\u001b[38;5;241m.\u001b[39mnjit\n",
      "File \u001b[0;32m/opt/hostedtoolcache/Python/3.11.10/x64/lib/python3.11/site-packages/pynucastro/rates/__init__.py:5\u001b[0m\n\u001b[1;32m      1\u001b[0m \u001b[38;5;124;03m\"\"\"The core routines needed to read and interpret nuclear reaction rates\"\"\"\u001b[39;00m\n\u001b[1;32m      3\u001b[0m __all__ \u001b[38;5;241m=\u001b[39m [\u001b[38;5;124m\"\u001b[39m\u001b[38;5;124mapproximate_rates\u001b[39m\u001b[38;5;124m\"\u001b[39m, \u001b[38;5;124m\"\u001b[39m\u001b[38;5;124mrate\u001b[39m\u001b[38;5;124m\"\u001b[39m, \u001b[38;5;124m\"\u001b[39m\u001b[38;5;124mlibrary\u001b[39m\u001b[38;5;124m\"\u001b[39m]\n\u001b[0;32m----> 5\u001b[0m \u001b[38;5;28;01mfrom\u001b[39;00m \u001b[38;5;21;01m.\u001b[39;00m\u001b[38;5;21;01mapproximate_rates\u001b[39;00m \u001b[38;5;28;01mimport\u001b[39;00m ApproximateRate\n\u001b[1;32m      6\u001b[0m \u001b[38;5;28;01mfrom\u001b[39;00m \u001b[38;5;21;01m.\u001b[39;00m\u001b[38;5;21;01mknown_duplicates\u001b[39;00m \u001b[38;5;28;01mimport\u001b[39;00m find_duplicate_rates, is_allowed_dupe\n\u001b[1;32m      7\u001b[0m \u001b[38;5;28;01mfrom\u001b[39;00m \u001b[38;5;21;01m.\u001b[39;00m\u001b[38;5;21;01mlibrary\u001b[39;00m \u001b[38;5;28;01mimport\u001b[39;00m (LangankeLibrary, Library, RateFilter, ReacLibLibrary,\n\u001b[1;32m      8\u001b[0m                       SuzukiLibrary, TabularLibrary, list_known_rates)\n",
      "File \u001b[0;32m/opt/hostedtoolcache/Python/3.11.10/x64/lib/python3.11/site-packages/pynucastro/rates/approximate_rates.py:2\u001b[0m\n\u001b[1;32m      1\u001b[0m \u001b[38;5;28;01mfrom\u001b[39;00m \u001b[38;5;21;01mpynucastro\u001b[39;00m\u001b[38;5;21;01m.\u001b[39;00m\u001b[38;5;21;01mnucdata\u001b[39;00m \u001b[38;5;28;01mimport\u001b[39;00m Nucleus\n\u001b[0;32m----> 2\u001b[0m \u001b[38;5;28;01mfrom\u001b[39;00m \u001b[38;5;21;01mpynucastro\u001b[39;00m\u001b[38;5;21;01m.\u001b[39;00m\u001b[38;5;21;01mrates\u001b[39;00m\u001b[38;5;21;01m.\u001b[39;00m\u001b[38;5;21;01mrate\u001b[39;00m \u001b[38;5;28;01mimport\u001b[39;00m Rate\n\u001b[1;32m      5\u001b[0m \u001b[38;5;28;01mclass\u001b[39;00m \u001b[38;5;21;01mApproximateRate\u001b[39;00m(Rate):\n\u001b[1;32m      7\u001b[0m     \u001b[38;5;28;01mdef\u001b[39;00m \u001b[38;5;21m__init__\u001b[39m(\u001b[38;5;28mself\u001b[39m, primary_rate, secondary_rates,\n\u001b[1;32m      8\u001b[0m                  primary_reverse, secondary_reverse, \u001b[38;5;241m*\u001b[39m,\n\u001b[1;32m      9\u001b[0m                  is_reverse\u001b[38;5;241m=\u001b[39m\u001b[38;5;28;01mFalse\u001b[39;00m, approx_type\u001b[38;5;241m=\u001b[39m\u001b[38;5;124m\"\u001b[39m\u001b[38;5;124map_pg\u001b[39m\u001b[38;5;124m\"\u001b[39m,\n\u001b[1;32m     10\u001b[0m                  use_identical_particle_factor\u001b[38;5;241m=\u001b[39m\u001b[38;5;28;01mTrue\u001b[39;00m):\n",
      "File \u001b[0;32m/opt/hostedtoolcache/Python/3.11.10/x64/lib/python3.11/site-packages/pynucastro/rates/rate.py:775\u001b[0m\n\u001b[1;32m    771\u001b[0m     NU \u001b[38;5;241m=\u001b[39m \u001b[38;5;241m6\u001b[39m\n\u001b[1;32m    772\u001b[0m     GAMMA \u001b[38;5;241m=\u001b[39m \u001b[38;5;241m7\u001b[39m\n\u001b[0;32m--> 775\u001b[0m \u001b[38;5;28;43;01mclass\u001b[39;49;00m\u001b[43m \u001b[49m\u001b[38;5;21;43;01mRateSource\u001b[39;49;00m\u001b[43m:\u001b[49m\n\u001b[1;32m    776\u001b[0m \u001b[38;5;250;43m    \u001b[39;49m\u001b[38;5;124;43;03m\"\"\"A class that stores the reference label information for various rates.\"\"\"\u001b[39;49;00m\n\u001b[1;32m    778\u001b[0m \u001b[43m    \u001b[49m\u001b[43mcsv_path\u001b[49m\u001b[43m \u001b[49m\u001b[38;5;241;43m=\u001b[39;49m\u001b[43m \u001b[49m\u001b[43m_find_rate_file\u001b[49m\u001b[43m(\u001b[49m\u001b[38;5;124;43m\"\u001b[39;49m\u001b[38;5;124;43mRate Sources.csv\u001b[39;49m\u001b[38;5;124;43m\"\u001b[39;49m\u001b[43m)\u001b[49m\n",
      "File \u001b[0;32m/opt/hostedtoolcache/Python/3.11.10/x64/lib/python3.11/site-packages/pynucastro/rates/rate.py:795\u001b[0m, in \u001b[0;36mRateSource\u001b[0;34m()\u001b[0m\n\u001b[1;32m    793\u001b[0m         label \u001b[38;5;241m=\u001b[39m cells[\u001b[38;5;241m0\u001b[39m]\n\u001b[1;32m    794\u001b[0m         label_data \u001b[38;5;241m=\u001b[39m labels[label\u001b[38;5;241m.\u001b[39mlower()] \u001b[38;5;241m=\u001b[39m \u001b[38;5;28mdict\u001b[39m(\u001b[38;5;28mzip\u001b[39m(column_titles, cells))\n\u001b[0;32m--> 795\u001b[0m         label_data[\u001b[38;5;124m\"\u001b[39m\u001b[38;5;124mURL\u001b[39m\u001b[38;5;124m\"\u001b[39m] \u001b[38;5;241m=\u001b[39m urls\u001b[38;5;241m.\u001b[39mget(label, \u001b[43murls\u001b[49m\u001b[43m[\u001b[49m\u001b[43mlabel\u001b[49m\u001b[43m]\u001b[49m \u001b[38;5;241m+\u001b[39m label\u001b[38;5;241m.\u001b[39mlower())\n\u001b[1;32m    797\u001b[0m \u001b[38;5;129m@classmethod\u001b[39m\n\u001b[1;32m    798\u001b[0m \u001b[38;5;28;01mdef\u001b[39;00m \u001b[38;5;21msource\u001b[39m(\u001b[38;5;28mcls\u001b[39m, label: \u001b[38;5;28mstr\u001b[39m) \u001b[38;5;241m-\u001b[39m\u001b[38;5;241m>\u001b[39m \u001b[38;5;28mdict\u001b[39m[\u001b[38;5;28mstr\u001b[39m, \u001b[38;5;28mstr\u001b[39m] \u001b[38;5;241m|\u001b[39m \u001b[38;5;28;01mNone\u001b[39;00m:\n\u001b[1;32m    799\u001b[0m \u001b[38;5;250m    \u001b[39m\u001b[38;5;124;03m\"\"\"Returns the source of a rate given its label, and None if not found.\"\"\"\u001b[39;00m\n",
      "\u001b[0;31mKeyError\u001b[0m: '6an9CYBT'"
     ]
    }
   ],
   "source": [
    "import pynucastro as pyna"
   ]
  },
  {
   "cell_type": "code",
   "execution_count": 2,
   "id": "47cc1eb4-28ba-4559-b590-634265018f51",
   "metadata": {
    "execution": {
     "iopub.execute_input": "2024-10-19T09:34:58.100417Z",
     "iopub.status.busy": "2024-10-19T09:34:58.100239Z",
     "iopub.status.idle": "2024-10-19T09:34:58.111982Z",
     "shell.execute_reply": "2024-10-19T09:34:58.111545Z"
    },
    "tags": []
   },
   "outputs": [
    {
     "ename": "NameError",
     "evalue": "name 'pyna' is not defined",
     "output_type": "error",
     "traceback": [
      "\u001b[0;31m---------------------------------------------------------------------------\u001b[0m",
      "\u001b[0;31mNameError\u001b[0m                                 Traceback (most recent call last)",
      "Cell \u001b[0;32mIn[2], line 1\u001b[0m\n\u001b[0;32m----> 1\u001b[0m tl \u001b[38;5;241m=\u001b[39m \u001b[43mpyna\u001b[49m\u001b[38;5;241m.\u001b[39mTabularLibrary()\n\u001b[1;32m      2\u001b[0m lib \u001b[38;5;241m=\u001b[39m tl\u001b[38;5;241m.\u001b[39mlinking_nuclei([\u001b[38;5;124m\"\u001b[39m\u001b[38;5;124mni56\u001b[39m\u001b[38;5;124m\"\u001b[39m, \u001b[38;5;124m\"\u001b[39m\u001b[38;5;124mco56\u001b[39m\u001b[38;5;124m\"\u001b[39m])\n\u001b[1;32m      3\u001b[0m lib\n",
      "\u001b[0;31mNameError\u001b[0m: name 'pyna' is not defined"
     ]
    }
   ],
   "source": [
    "tl = pyna.TabularLibrary()\n",
    "lib = tl.linking_nuclei([\"ni56\", \"co56\"])\n",
    "lib"
   ]
  },
  {
   "cell_type": "markdown",
   "id": "44b704c8-74a6-42fc-a57b-ba321fa1be3e",
   "metadata": {},
   "source": [
    "We'll create a `RateCollection` so we can evaluate the rates easily"
   ]
  },
  {
   "cell_type": "code",
   "execution_count": 3,
   "id": "aceeda6b-72b8-4d25-849e-bb69feb31d9d",
   "metadata": {
    "execution": {
     "iopub.execute_input": "2024-10-19T09:34:58.113562Z",
     "iopub.status.busy": "2024-10-19T09:34:58.113391Z",
     "iopub.status.idle": "2024-10-19T09:34:58.124227Z",
     "shell.execute_reply": "2024-10-19T09:34:58.123771Z"
    },
    "tags": []
   },
   "outputs": [
    {
     "ename": "NameError",
     "evalue": "name 'pyna' is not defined",
     "output_type": "error",
     "traceback": [
      "\u001b[0;31m---------------------------------------------------------------------------\u001b[0m",
      "\u001b[0;31mNameError\u001b[0m                                 Traceback (most recent call last)",
      "Cell \u001b[0;32mIn[3], line 1\u001b[0m\n\u001b[0;32m----> 1\u001b[0m rc \u001b[38;5;241m=\u001b[39m \u001b[43mpyna\u001b[49m\u001b[38;5;241m.\u001b[39mRateCollection(libraries\u001b[38;5;241m=\u001b[39m[lib])\n\u001b[1;32m      2\u001b[0m fig \u001b[38;5;241m=\u001b[39m rc\u001b[38;5;241m.\u001b[39mplot(curved_edges\u001b[38;5;241m=\u001b[39m\u001b[38;5;28;01mTrue\u001b[39;00m)\n",
      "\u001b[0;31mNameError\u001b[0m: name 'pyna' is not defined"
     ]
    }
   ],
   "source": [
    "rc = pyna.RateCollection(libraries=[lib])\n",
    "fig = rc.plot(curved_edges=True)"
   ]
  },
  {
   "cell_type": "markdown",
   "id": "d0d445c3-2c6a-46fb-bb73-7d43a12f3ff0",
   "metadata": {},
   "source": [
    "Let's create a composition -- we'll make equal amounts of Ni and Co"
   ]
  },
  {
   "cell_type": "code",
   "execution_count": 4,
   "id": "7560f52b-f17e-4dc0-a751-1934f1cba318",
   "metadata": {
    "execution": {
     "iopub.execute_input": "2024-10-19T09:34:58.125738Z",
     "iopub.status.busy": "2024-10-19T09:34:58.125570Z",
     "iopub.status.idle": "2024-10-19T09:34:58.136387Z",
     "shell.execute_reply": "2024-10-19T09:34:58.135941Z"
    },
    "tags": []
   },
   "outputs": [
    {
     "ename": "NameError",
     "evalue": "name 'pyna' is not defined",
     "output_type": "error",
     "traceback": [
      "\u001b[0;31m---------------------------------------------------------------------------\u001b[0m",
      "\u001b[0;31mNameError\u001b[0m                                 Traceback (most recent call last)",
      "Cell \u001b[0;32mIn[4], line 1\u001b[0m\n\u001b[0;32m----> 1\u001b[0m comp \u001b[38;5;241m=\u001b[39m \u001b[43mpyna\u001b[49m\u001b[38;5;241m.\u001b[39mComposition(rc\u001b[38;5;241m.\u001b[39munique_nuclei)\n\u001b[1;32m      2\u001b[0m comp\u001b[38;5;241m.\u001b[39mset_equal()\n",
      "\u001b[0;31mNameError\u001b[0m: name 'pyna' is not defined"
     ]
    }
   ],
   "source": [
    "comp = pyna.Composition(rc.unique_nuclei)\n",
    "comp.set_equal()"
   ]
  },
  {
   "cell_type": "markdown",
   "id": "145bf129-cd28-4052-9adc-278ba94328af",
   "metadata": {},
   "source": [
    "We can see from the electron fraction that we are a little neutron-rich"
   ]
  },
  {
   "cell_type": "code",
   "execution_count": 5,
   "id": "6dc41850-a41c-42b4-a9a1-3aed5a87d9dc",
   "metadata": {
    "execution": {
     "iopub.execute_input": "2024-10-19T09:34:58.137874Z",
     "iopub.status.busy": "2024-10-19T09:34:58.137709Z",
     "iopub.status.idle": "2024-10-19T09:34:58.148292Z",
     "shell.execute_reply": "2024-10-19T09:34:58.147730Z"
    },
    "tags": []
   },
   "outputs": [
    {
     "ename": "NameError",
     "evalue": "name 'comp' is not defined",
     "output_type": "error",
     "traceback": [
      "\u001b[0;31m---------------------------------------------------------------------------\u001b[0m",
      "\u001b[0;31mNameError\u001b[0m                                 Traceback (most recent call last)",
      "Cell \u001b[0;32mIn[5], line 1\u001b[0m\n\u001b[0;32m----> 1\u001b[0m Ye \u001b[38;5;241m=\u001b[39m \u001b[43mcomp\u001b[49m\u001b[38;5;241m.\u001b[39mye\n\u001b[1;32m      2\u001b[0m Ye\n",
      "\u001b[0;31mNameError\u001b[0m: name 'comp' is not defined"
     ]
    }
   ],
   "source": [
    "Ye = comp.ye\n",
    "Ye"
   ]
  },
  {
   "cell_type": "markdown",
   "id": "d436cb8c-5c9e-48e6-956b-4e294fa76b20",
   "metadata": {},
   "source": [
    "Now let's compute the rates.  We'll pick a density (actually $\\rho Y_e$) and temperature\n",
    "right on one of the points tabulated in the original source so we can directly compare\n",
    "to what is in the table."
   ]
  },
  {
   "cell_type": "code",
   "execution_count": 6,
   "id": "44651eaf-6bb2-49a6-b9a4-6d4d494b84b8",
   "metadata": {
    "execution": {
     "iopub.execute_input": "2024-10-19T09:34:58.150170Z",
     "iopub.status.busy": "2024-10-19T09:34:58.149962Z",
     "iopub.status.idle": "2024-10-19T09:34:58.160690Z",
     "shell.execute_reply": "2024-10-19T09:34:58.160120Z"
    },
    "tags": []
   },
   "outputs": [
    {
     "ename": "NameError",
     "evalue": "name 'Ye' is not defined",
     "output_type": "error",
     "traceback": [
      "\u001b[0;31m---------------------------------------------------------------------------\u001b[0m",
      "\u001b[0;31mNameError\u001b[0m                                 Traceback (most recent call last)",
      "Cell \u001b[0;32mIn[6], line 1\u001b[0m\n\u001b[0;32m----> 1\u001b[0m rho \u001b[38;5;241m=\u001b[39m \u001b[38;5;241m1.e7\u001b[39m \u001b[38;5;241m/\u001b[39m \u001b[43mYe\u001b[49m\n\u001b[1;32m      2\u001b[0m T \u001b[38;5;241m=\u001b[39m \u001b[38;5;241m1.e9\u001b[39m\n",
      "\u001b[0;31mNameError\u001b[0m: name 'Ye' is not defined"
     ]
    }
   ],
   "source": [
    "rho = 1.e7 / Ye\n",
    "T = 1.e9"
   ]
  },
  {
   "cell_type": "markdown",
   "id": "5ea5fa02-3419-41e3-9cba-75bb91f95ea4",
   "metadata": {},
   "source": [
    "The rates are proportional to the molar fractions, so we can get those too:"
   ]
  },
  {
   "cell_type": "code",
   "execution_count": 7,
   "id": "4b569082-2819-44e7-adbb-a4e9f0a0aee1",
   "metadata": {
    "execution": {
     "iopub.execute_input": "2024-10-19T09:34:58.162321Z",
     "iopub.status.busy": "2024-10-19T09:34:58.162164Z",
     "iopub.status.idle": "2024-10-19T09:34:58.173388Z",
     "shell.execute_reply": "2024-10-19T09:34:58.172810Z"
    },
    "tags": []
   },
   "outputs": [
    {
     "ename": "NameError",
     "evalue": "name 'comp' is not defined",
     "output_type": "error",
     "traceback": [
      "\u001b[0;31m---------------------------------------------------------------------------\u001b[0m",
      "\u001b[0;31mNameError\u001b[0m                                 Traceback (most recent call last)",
      "Cell \u001b[0;32mIn[7], line 1\u001b[0m\n\u001b[0;32m----> 1\u001b[0m Y \u001b[38;5;241m=\u001b[39m \u001b[43mcomp\u001b[49m\u001b[38;5;241m.\u001b[39mget_molar()\n\u001b[1;32m      2\u001b[0m Y\n",
      "\u001b[0;31mNameError\u001b[0m: name 'comp' is not defined"
     ]
    }
   ],
   "source": [
    "Y = comp.get_molar()\n",
    "Y"
   ]
  },
  {
   "cell_type": "markdown",
   "id": "01763af2-02e0-4405-afb4-d36d9c3330fa",
   "metadata": {
    "tags": []
   },
   "source": [
    "Now we can evaluate the rates"
   ]
  },
  {
   "cell_type": "code",
   "execution_count": 8,
   "id": "e161821d-2cd7-4208-a03d-240d23d99713",
   "metadata": {
    "execution": {
     "iopub.execute_input": "2024-10-19T09:34:58.175310Z",
     "iopub.status.busy": "2024-10-19T09:34:58.174986Z",
     "iopub.status.idle": "2024-10-19T09:34:58.185469Z",
     "shell.execute_reply": "2024-10-19T09:34:58.185015Z"
    },
    "tags": []
   },
   "outputs": [
    {
     "ename": "NameError",
     "evalue": "name 'rc' is not defined",
     "output_type": "error",
     "traceback": [
      "\u001b[0;31m---------------------------------------------------------------------------\u001b[0m",
      "\u001b[0;31mNameError\u001b[0m                                 Traceback (most recent call last)",
      "Cell \u001b[0;32mIn[8], line 1\u001b[0m\n\u001b[0;32m----> 1\u001b[0m \u001b[43mrc\u001b[49m\u001b[38;5;241m.\u001b[39mevaluate_rates(rho, T, comp)\n",
      "\u001b[0;31mNameError\u001b[0m: name 'rc' is not defined"
     ]
    }
   ],
   "source": [
    "rc.evaluate_rates(rho, T, comp)"
   ]
  },
  {
   "cell_type": "code",
   "execution_count": 9,
   "id": "735f2750-6910-4c87-9d63-81f470ef0551",
   "metadata": {
    "execution": {
     "iopub.execute_input": "2024-10-19T09:34:58.187079Z",
     "iopub.status.busy": "2024-10-19T09:34:58.186753Z",
     "iopub.status.idle": "2024-10-19T09:34:58.197210Z",
     "shell.execute_reply": "2024-10-19T09:34:58.196677Z"
    },
    "tags": []
   },
   "outputs": [
    {
     "ename": "NameError",
     "evalue": "name 'rc' is not defined",
     "output_type": "error",
     "traceback": [
      "\u001b[0;31m---------------------------------------------------------------------------\u001b[0m",
      "\u001b[0;31mNameError\u001b[0m                                 Traceback (most recent call last)",
      "Cell \u001b[0;32mIn[9], line 1\u001b[0m\n\u001b[0;32m----> 1\u001b[0m ydots \u001b[38;5;241m=\u001b[39m \u001b[43mrc\u001b[49m\u001b[38;5;241m.\u001b[39mevaluate_ydots(rho, T, comp)\n\u001b[1;32m      2\u001b[0m ydots\n",
      "\u001b[0;31mNameError\u001b[0m: name 'rc' is not defined"
     ]
    }
   ],
   "source": [
    "ydots = rc.evaluate_ydots(rho, T, comp)\n",
    "ydots"
   ]
  },
  {
   "cell_type": "markdown",
   "id": "0652257d-79a5-43c8-8886-dca4f8343c61",
   "metadata": {},
   "source": [
    "If we look at the original tables from <cite data-cite-t=\"langanke:2001\">Langanke & Martinez-Pinedo (2001)</cite>, they tabulate (for the conditions we selected above):\n",
    "\n",
    "```\n",
    " neg. daughter Ni56 z=28 n=28 a=56 Q= -1.6240                                           \n",
    " pos. daughter Co56 z=27 n=29 a=56 Q=  1.6240                                           \n",
    "                      +++ Ni56 --> Co56 +++      --- Co56 --> Ni56 ---\n",
    "   t9   lrho    uf    lbeta+    leps-    lrnu    lbeta-    leps+  lrnubar\n",
    "...\n",
    "  1.00  7.0   0.689  -15.299   -3.091   -3.097  -20.521  -23.856  -20.878\n",
    "...\n",
    "```"
   ]
  },
  {
   "cell_type": "markdown",
   "id": "e6b3b7bd-0390-4544-bd52-f6d5f2684379",
   "metadata": {},
   "source": [
    "We see that there are 2 rates for ${}^{56}\\mathrm{Ni} \\rightarrow {}^{56}\\mathrm{Co}$: positron decay (`lbeta+`) and electron capture (`leps-`), and 2 rates for ${}^{56}\\mathrm{Co} \\rightarrow {}^{56}\\mathrm{Ni}$: beta-decay (`lbeta-`) and positron capture (`leps+`).  All of these are log base-10 in $\\mathrm{s}^{-1}$.\n",
    "\n",
    "In this case, the dominant rate is the electron capture.  Let's compute that rate manually"
   ]
  },
  {
   "cell_type": "code",
   "execution_count": 10,
   "id": "ac9ebeb9-b24a-4500-a390-ecbe91f21cd0",
   "metadata": {
    "execution": {
     "iopub.execute_input": "2024-10-19T09:34:58.198930Z",
     "iopub.status.busy": "2024-10-19T09:34:58.198528Z",
     "iopub.status.idle": "2024-10-19T09:34:58.209510Z",
     "shell.execute_reply": "2024-10-19T09:34:58.209083Z"
    },
    "tags": []
   },
   "outputs": [
    {
     "ename": "NameError",
     "evalue": "name 'Y' is not defined",
     "output_type": "error",
     "traceback": [
      "\u001b[0;31m---------------------------------------------------------------------------\u001b[0m",
      "\u001b[0;31mNameError\u001b[0m                                 Traceback (most recent call last)",
      "Cell \u001b[0;32mIn[10], line 2\u001b[0m\n\u001b[1;32m      1\u001b[0m lambda_ec \u001b[38;5;241m=\u001b[39m \u001b[38;5;241m10.0\u001b[39m\u001b[38;5;241m*\u001b[39m\u001b[38;5;241m*\u001b[39m\u001b[38;5;241m-\u001b[39m\u001b[38;5;241m3.091\u001b[39m\n\u001b[0;32m----> 2\u001b[0m r \u001b[38;5;241m=\u001b[39m \u001b[43mY\u001b[49m[pyna\u001b[38;5;241m.\u001b[39mNucleus(\u001b[38;5;124m\"\u001b[39m\u001b[38;5;124mni56\u001b[39m\u001b[38;5;124m\"\u001b[39m)] \u001b[38;5;241m*\u001b[39m lambda_ec\n\u001b[1;32m      3\u001b[0m r\n",
      "\u001b[0;31mNameError\u001b[0m: name 'Y' is not defined"
     ]
    }
   ],
   "source": [
    "lambda_ec = 10.0**-3.091\n",
    "r = Y[pyna.Nucleus(\"ni56\")] * lambda_ec\n",
    "r"
   ]
  },
  {
   "cell_type": "markdown",
   "id": "5b2d5401-cc0d-4b8e-aac4-a359e665d421",
   "metadata": {
    "tags": []
   },
   "source": [
    "We get the same result as `evaluate_rates()`!"
   ]
  },
  {
   "cell_type": "markdown",
   "id": "870f7d2a-c532-4aa5-b637-5e4752fc9edd",
   "metadata": {
    "tags": []
   },
   "source": [
    "Finally, we can compute the evolution of the electron fraction:\n",
    "    \n",
    "$$Y_e = \\sum_k Z_k Y_k \\ \\rightarrow \\ \\frac{dY_e}{dt} = \\sum_k Z_k \\frac{dY_k}{dt}$$"
   ]
  },
  {
   "cell_type": "code",
   "execution_count": 11,
   "id": "71668176-7af5-4262-ae59-6da22e3e4b7b",
   "metadata": {
    "execution": {
     "iopub.execute_input": "2024-10-19T09:34:58.211187Z",
     "iopub.status.busy": "2024-10-19T09:34:58.211025Z",
     "iopub.status.idle": "2024-10-19T09:34:58.221913Z",
     "shell.execute_reply": "2024-10-19T09:34:58.221379Z"
    },
    "tags": []
   },
   "outputs": [
    {
     "ename": "NameError",
     "evalue": "name 'rc' is not defined",
     "output_type": "error",
     "traceback": [
      "\u001b[0;31m---------------------------------------------------------------------------\u001b[0m",
      "\u001b[0;31mNameError\u001b[0m                                 Traceback (most recent call last)",
      "Cell \u001b[0;32mIn[11], line 1\u001b[0m\n\u001b[0;32m----> 1\u001b[0m dyedt \u001b[38;5;241m=\u001b[39m \u001b[38;5;28msum\u001b[39m(q\u001b[38;5;241m.\u001b[39mZ \u001b[38;5;241m*\u001b[39m ydots[q] \u001b[38;5;28;01mfor\u001b[39;00m q \u001b[38;5;129;01min\u001b[39;00m \u001b[43mrc\u001b[49m\u001b[38;5;241m.\u001b[39munique_nuclei)\n\u001b[1;32m      2\u001b[0m dyedt\n",
      "\u001b[0;31mNameError\u001b[0m: name 'rc' is not defined"
     ]
    }
   ],
   "source": [
    "dyedt = sum(q.Z * ydots[q] for q in rc.unique_nuclei)\n",
    "dyedt"
   ]
  }
 ],
 "metadata": {
  "kernelspec": {
   "display_name": "Python 3",
   "language": "python",
   "name": "python3"
  },
  "language_info": {
   "codemirror_mode": {
    "name": "ipython",
    "version": 3
   },
   "file_extension": ".py",
   "mimetype": "text/x-python",
   "name": "python",
   "nbconvert_exporter": "python",
   "pygments_lexer": "ipython3",
   "version": "3.11.10"
  }
 },
 "nbformat": 4,
 "nbformat_minor": 5
}
