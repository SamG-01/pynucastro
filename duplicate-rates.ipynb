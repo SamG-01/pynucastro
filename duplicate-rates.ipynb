{
 "cells": [
  {
   "cell_type": "markdown",
   "id": "7d814a29-15e1-4c8b-bc51-6a3accae270c",
   "metadata": {},
   "source": [
    "# Dealing with Duplicate Rates"
   ]
  },
  {
   "cell_type": "markdown",
   "id": "4c9ce91a-629b-4b5c-bd87-8722da773384",
   "metadata": {},
   "source": [
    "Sometimes we combine multiple sources of rates into a `RateCollection` or network, and we run the risk of\n",
    "having the same rate sequence duplicated, even though the rate itself may be different (i.e., a different\n",
    "source or tabulated vs. ReacLib)."
   ]
  },
  {
   "cell_type": "code",
   "execution_count": 1,
   "id": "d6b290b7-87ba-4d77-86dc-b5370ce9ad6b",
   "metadata": {
    "execution": {
     "iopub.execute_input": "2024-10-17T08:12:58.381949Z",
     "iopub.status.busy": "2024-10-17T08:12:58.381786Z",
     "iopub.status.idle": "2024-10-17T08:12:59.771858Z",
     "shell.execute_reply": "2024-10-17T08:12:59.771245Z"
    }
   },
   "outputs": [],
   "source": [
    "import pynucastro as pyna"
   ]
  },
  {
   "cell_type": "code",
   "execution_count": 2,
   "id": "29b0958a-c666-47ec-b13c-e9eb190d2303",
   "metadata": {
    "execution": {
     "iopub.execute_input": "2024-10-17T08:12:59.774083Z",
     "iopub.status.busy": "2024-10-17T08:12:59.773702Z",
     "iopub.status.idle": "2024-10-17T08:13:00.207203Z",
     "shell.execute_reply": "2024-10-17T08:13:00.206620Z"
    }
   },
   "outputs": [
    {
     "ename": "AttributeError",
     "evalue": "'ReacLibLibrary' object has no attribute '_rates'",
     "output_type": "error",
     "traceback": [
      "\u001b[0;31m---------------------------------------------------------------------------\u001b[0m",
      "\u001b[0;31mAttributeError\u001b[0m                            Traceback (most recent call last)",
      "Cell \u001b[0;32mIn[2], line 1\u001b[0m\n\u001b[0;32m----> 1\u001b[0m rl \u001b[38;5;241m=\u001b[39m \u001b[43mpyna\u001b[49m\u001b[38;5;241;43m.\u001b[39;49m\u001b[43mReacLibLibrary\u001b[49m\u001b[43m(\u001b[49m\u001b[43m)\u001b[49m\n\u001b[1;32m      2\u001b[0m wl \u001b[38;5;241m=\u001b[39m pyna\u001b[38;5;241m.\u001b[39mTabularLibrary()\n",
      "File \u001b[0;32m/opt/hostedtoolcache/Python/3.11.10/x64/lib/python3.11/site-packages/pynucastro/rates/library.py:696\u001b[0m, in \u001b[0;36mReacLibLibrary.__init__\u001b[0;34m(self)\u001b[0m\n\u001b[1;32m    694\u001b[0m \u001b[38;5;28;01mdef\u001b[39;00m \u001b[38;5;21m__init__\u001b[39m(\u001b[38;5;28mself\u001b[39m):\n\u001b[1;32m    695\u001b[0m     libfile \u001b[38;5;241m=\u001b[39m \u001b[38;5;124m'\u001b[39m\u001b[38;5;124mreaclib_default2_20220329\u001b[39m\u001b[38;5;124m'\u001b[39m\n\u001b[0;32m--> 696\u001b[0m     \u001b[43mLibrary\u001b[49m\u001b[38;5;241;43m.\u001b[39;49m\u001b[38;5;21;43m__init__\u001b[39;49m\u001b[43m(\u001b[49m\u001b[38;5;28;43mself\u001b[39;49m\u001b[43m,\u001b[49m\u001b[43m \u001b[49m\u001b[43mlibfile\u001b[49m\u001b[38;5;241;43m=\u001b[39;49m\u001b[43mlibfile\u001b[49m\u001b[43m)\u001b[49m\n",
      "File \u001b[0;32m/opt/hostedtoolcache/Python/3.11.10/x64/lib/python3.11/site-packages/pynucastro/rates/library.py:138\u001b[0m, in \u001b[0;36mLibrary.__init__\u001b[0;34m(self, libfile, rates)\u001b[0m\n\u001b[1;32m    136\u001b[0m \u001b[38;5;28;01mif\u001b[39;00m \u001b[38;5;28mself\u001b[39m\u001b[38;5;241m.\u001b[39m_library_file:\n\u001b[1;32m    137\u001b[0m     \u001b[38;5;28mself\u001b[39m\u001b[38;5;241m.\u001b[39m_library_file \u001b[38;5;241m=\u001b[39m _find_rate_file(\u001b[38;5;28mself\u001b[39m\u001b[38;5;241m.\u001b[39m_library_file)\n\u001b[0;32m--> 138\u001b[0m     \u001b[38;5;28;43mself\u001b[39;49m\u001b[38;5;241;43m.\u001b[39;49m\u001b[43m_read_library_file\u001b[49m\u001b[43m(\u001b[49m\u001b[43m)\u001b[49m\n",
      "File \u001b[0;32m/opt/hostedtoolcache/Python/3.11.10/x64/lib/python3.11/site-packages/pynucastro/rates/library.py:312\u001b[0m, in \u001b[0;36mLibrary._read_library_file\u001b[0;34m(self)\u001b[0m\n\u001b[1;32m    310\u001b[0m \u001b[38;5;28;01melse\u001b[39;00m:\n\u001b[1;32m    311\u001b[0m     rid \u001b[38;5;241m=\u001b[39m r\u001b[38;5;241m.\u001b[39mget_rate_id()\n\u001b[0;32m--> 312\u001b[0m     \u001b[38;5;28;01mif\u001b[39;00m rid \u001b[38;5;129;01min\u001b[39;00m \u001b[38;5;28;43mself\u001b[39;49m\u001b[38;5;241;43m.\u001b[39;49m\u001b[43m_rates\u001b[49m:\n\u001b[1;32m    313\u001b[0m         \u001b[38;5;28mself\u001b[39m\u001b[38;5;241m.\u001b[39m_rates[rid] \u001b[38;5;241m=\u001b[39m \u001b[38;5;28mself\u001b[39m\u001b[38;5;241m.\u001b[39m_rates[rid] \u001b[38;5;241m+\u001b[39m r\n\u001b[1;32m    314\u001b[0m     \u001b[38;5;28;01melse\u001b[39;00m:\n",
      "\u001b[0;31mAttributeError\u001b[0m: 'ReacLibLibrary' object has no attribute '_rates'"
     ]
    }
   ],
   "source": [
    "rl = pyna.ReacLibLibrary()\n",
    "wl = pyna.TabularLibrary()"
   ]
  },
  {
   "cell_type": "markdown",
   "id": "2607f483-e220-433f-a6d3-e987859ff554",
   "metadata": {},
   "source": [
    "Let's create a set of nuclei that can describe basic C burning"
   ]
  },
  {
   "cell_type": "code",
   "execution_count": 3,
   "id": "23d22c1b-6d41-42ad-bc39-d0ec3440506a",
   "metadata": {
    "execution": {
     "iopub.execute_input": "2024-10-17T08:13:00.209293Z",
     "iopub.status.busy": "2024-10-17T08:13:00.208939Z",
     "iopub.status.idle": "2024-10-17T08:13:00.211561Z",
     "shell.execute_reply": "2024-10-17T08:13:00.211121Z"
    }
   },
   "outputs": [],
   "source": [
    "nuclei = [\"c12\", \"o16\", \"ne20\",\n",
    "          \"na23\", \"mg23\", \"mg24\",\n",
    "          \"p\", \"n\", \"a\"]"
   ]
  },
  {
   "cell_type": "markdown",
   "id": "5cd4eb13-c2a5-42fc-8764-89652cf0448d",
   "metadata": {},
   "source": [
    "We'll pull rates in both from the ReacLib library and from our tabulated weak rates"
   ]
  },
  {
   "cell_type": "code",
   "execution_count": 4,
   "id": "fdfbdc60-f2bc-4154-9a9f-46ec050b004d",
   "metadata": {
    "execution": {
     "iopub.execute_input": "2024-10-17T08:13:00.213212Z",
     "iopub.status.busy": "2024-10-17T08:13:00.212875Z",
     "iopub.status.idle": "2024-10-17T08:13:00.226006Z",
     "shell.execute_reply": "2024-10-17T08:13:00.225572Z"
    }
   },
   "outputs": [
    {
     "ename": "NameError",
     "evalue": "name 'rl' is not defined",
     "output_type": "error",
     "traceback": [
      "\u001b[0;31m---------------------------------------------------------------------------\u001b[0m",
      "\u001b[0;31mNameError\u001b[0m                                 Traceback (most recent call last)",
      "Cell \u001b[0;32mIn[4], line 1\u001b[0m\n\u001b[0;32m----> 1\u001b[0m lib \u001b[38;5;241m=\u001b[39m \u001b[43mrl\u001b[49m\u001b[38;5;241m.\u001b[39mlinking_nuclei(nuclei) \u001b[38;5;241m+\u001b[39m wl\u001b[38;5;241m.\u001b[39mlinking_nuclei(nuclei)\n",
      "\u001b[0;31mNameError\u001b[0m: name 'rl' is not defined"
     ]
    }
   ],
   "source": [
    "lib = rl.linking_nuclei(nuclei) + wl.linking_nuclei(nuclei)"
   ]
  },
  {
   "cell_type": "markdown",
   "id": "5a7d93f0-b038-4e68-9d0a-3d7debb98dc8",
   "metadata": {},
   "source": [
    "If we try to create a network or `RateCollection` now, it will fail:"
   ]
  },
  {
   "cell_type": "code",
   "execution_count": 5,
   "id": "57f39e10-d297-4cf9-be89-445946f7c40f",
   "metadata": {
    "execution": {
     "iopub.execute_input": "2024-10-17T08:13:00.227744Z",
     "iopub.status.busy": "2024-10-17T08:13:00.227479Z",
     "iopub.status.idle": "2024-10-17T08:13:00.239874Z",
     "shell.execute_reply": "2024-10-17T08:13:00.239431Z"
    }
   },
   "outputs": [
    {
     "ename": "NameError",
     "evalue": "name 'lib' is not defined",
     "output_type": "error",
     "traceback": [
      "\u001b[0;31m---------------------------------------------------------------------------\u001b[0m",
      "\u001b[0;31mNameError\u001b[0m                                 Traceback (most recent call last)",
      "Cell \u001b[0;32mIn[5], line 1\u001b[0m\n\u001b[0;32m----> 1\u001b[0m rc \u001b[38;5;241m=\u001b[39m pyna\u001b[38;5;241m.\u001b[39mRateCollection(libraries\u001b[38;5;241m=\u001b[39m[\u001b[43mlib\u001b[49m])\n",
      "\u001b[0;31mNameError\u001b[0m: name 'lib' is not defined"
     ]
    }
   ],
   "source": [
    "rc = pyna.RateCollection(libraries=[lib])"
   ]
  },
  {
   "cell_type": "markdown",
   "id": "c8895ae3-ca9b-4a67-a720-9e66a780da7d",
   "metadata": {},
   "source": [
    "We see that we get a `RateDuplicationError` because one or more rates has a duplicate."
   ]
  },
  {
   "cell_type": "markdown",
   "id": "3d89f7dd-cc6b-4f6e-80f9-5a0cdf6d6b98",
   "metadata": {},
   "source": [
    "We can find the duplicates using the `find_duplicate_links()` method.  This will return a list of tuples of rates that all provide the same link."
   ]
  },
  {
   "cell_type": "code",
   "execution_count": 6,
   "id": "6fe8b4ff-2bd4-45a7-ad27-18d2522042d5",
   "metadata": {
    "execution": {
     "iopub.execute_input": "2024-10-17T08:13:00.241560Z",
     "iopub.status.busy": "2024-10-17T08:13:00.241294Z",
     "iopub.status.idle": "2024-10-17T08:13:00.253815Z",
     "shell.execute_reply": "2024-10-17T08:13:00.253239Z"
    }
   },
   "outputs": [
    {
     "ename": "NameError",
     "evalue": "name 'lib' is not defined",
     "output_type": "error",
     "traceback": [
      "\u001b[0;31m---------------------------------------------------------------------------\u001b[0m",
      "\u001b[0;31mNameError\u001b[0m                                 Traceback (most recent call last)",
      "Cell \u001b[0;32mIn[6], line 1\u001b[0m\n\u001b[0;32m----> 1\u001b[0m \u001b[43mlib\u001b[49m\u001b[38;5;241m.\u001b[39mfind_duplicate_links()\n",
      "\u001b[0;31mNameError\u001b[0m: name 'lib' is not defined"
     ]
    }
   ],
   "source": [
    "lib.find_duplicate_links()"
   ]
  },
  {
   "cell_type": "markdown",
   "id": "c2f76fe5-caca-4a9c-9f46-7e213edbee47",
   "metadata": {},
   "source": [
    "We see that the neutron decay and the decay of ${}^{23}\\mathrm{Mg}$ are both duplicated.  Let's see if we can learn more:"
   ]
  },
  {
   "cell_type": "code",
   "execution_count": 7,
   "id": "d4d7f429-d4c7-4a4a-bef6-fc586390fc92",
   "metadata": {
    "execution": {
     "iopub.execute_input": "2024-10-17T08:13:00.255697Z",
     "iopub.status.busy": "2024-10-17T08:13:00.255363Z",
     "iopub.status.idle": "2024-10-17T08:13:00.268624Z",
     "shell.execute_reply": "2024-10-17T08:13:00.268167Z"
    }
   },
   "outputs": [
    {
     "ename": "NameError",
     "evalue": "name 'lib' is not defined",
     "output_type": "error",
     "traceback": [
      "\u001b[0;31m---------------------------------------------------------------------------\u001b[0m",
      "\u001b[0;31mNameError\u001b[0m                                 Traceback (most recent call last)",
      "Cell \u001b[0;32mIn[7], line 1\u001b[0m\n\u001b[0;32m----> 1\u001b[0m \u001b[38;5;28;01mfor\u001b[39;00m n, p \u001b[38;5;129;01min\u001b[39;00m \u001b[38;5;28menumerate\u001b[39m(\u001b[43mlib\u001b[49m\u001b[38;5;241m.\u001b[39mfind_duplicate_links()):\n\u001b[1;32m      2\u001b[0m     \u001b[38;5;28mprint\u001b[39m(\u001b[38;5;124mf\u001b[39m\u001b[38;5;124m\"\u001b[39m\u001b[38;5;124mdupe \u001b[39m\u001b[38;5;132;01m{\u001b[39;00mn\u001b[38;5;132;01m}\u001b[39;00m\u001b[38;5;124m:\u001b[39m\u001b[38;5;124m\"\u001b[39m)\n\u001b[1;32m      3\u001b[0m     \u001b[38;5;28mprint\u001b[39m(\u001b[38;5;124mf\u001b[39m\u001b[38;5;124m\"\u001b[39m\u001b[38;5;124m   rate 1: \u001b[39m\u001b[38;5;132;01m{\u001b[39;00mp[\u001b[38;5;241m0\u001b[39m]\u001b[38;5;132;01m}\u001b[39;00m\u001b[38;5;124m (\u001b[39m\u001b[38;5;132;01m{\u001b[39;00m\u001b[38;5;28mtype\u001b[39m(p[\u001b[38;5;241m0\u001b[39m])\u001b[38;5;132;01m}\u001b[39;00m\u001b[38;5;124m)\u001b[39m\u001b[38;5;124m\"\u001b[39m)\n",
      "\u001b[0;31mNameError\u001b[0m: name 'lib' is not defined"
     ]
    }
   ],
   "source": [
    "for n, p in enumerate(lib.find_duplicate_links()):\n",
    "    print(f\"dupe {n}:\")\n",
    "    print(f\"   rate 1: {p[0]} ({type(p[0])})\")\n",
    "    print(f\"   rate 2: {p[1]} ({type(p[1])})\")"
   ]
  },
  {
   "cell_type": "markdown",
   "id": "bb977544-d71a-481a-b6b8-bd56b7145eca",
   "metadata": {},
   "source": [
    "In this case, we see that one is a `ReacLibRate` and the other is a `TabularRate`.\n",
    "For the tabular rates, we take the approach that the sequences:\n",
    "\n",
    "The first duplicate is neutron decay.  ReacLib simply has the decay constant, with no density or temperature\n",
    "dependence.  The tabulated rate in this case comes from the Langanke paper and is accurate at high densities / temperatures when degeneracy effects are important."
   ]
  },
  {
   "cell_type": "markdown",
   "id": "d04b5003-a742-4874-bde8-2f96cb4c7419",
   "metadata": {},
   "source": [
    "For the second rate, note that in the `TabularRate` we combine the rates:\n",
    "\n",
    "$$(Z, A) \\rightarrow (Z -1, A) + e^+ + \\nu_e$$\n",
    "\n",
    "$$(Z, A) + e^- \\rightarrow (Z - 1, A) + \\bar{\\nu}_e$$\n",
    "\n",
    "into a single effective rate.  This means that our `TabularRate` version\n",
    "of the ${}^{23}\\mathrm{Mg}$ decay will contain both the $\\beta+$ decay and electron capture.  Furthermore, the tabular rates have both the density and temperature dependence, and thus should be preferred to the `ReacLibRates` when we have a duplicate."
   ]
  },
  {
   "cell_type": "markdown",
   "id": "deb9a8db-f9e0-47df-9d9b-9aedb0db3657",
   "metadata": {},
   "source": [
    "Here we loop over the duplicates and store the rates (the ReacLib versions) that we wish to *remove* in a list"
   ]
  },
  {
   "cell_type": "code",
   "execution_count": 8,
   "id": "f841fcc4-8598-4c2e-8ca4-bb4f7728fc87",
   "metadata": {
    "execution": {
     "iopub.execute_input": "2024-10-17T08:13:00.270502Z",
     "iopub.status.busy": "2024-10-17T08:13:00.270091Z",
     "iopub.status.idle": "2024-10-17T08:13:00.282917Z",
     "shell.execute_reply": "2024-10-17T08:13:00.282313Z"
    }
   },
   "outputs": [
    {
     "ename": "NameError",
     "evalue": "name 'lib' is not defined",
     "output_type": "error",
     "traceback": [
      "\u001b[0;31m---------------------------------------------------------------------------\u001b[0m",
      "\u001b[0;31mNameError\u001b[0m                                 Traceback (most recent call last)",
      "Cell \u001b[0;32mIn[8], line 2\u001b[0m\n\u001b[1;32m      1\u001b[0m rates_to_remove \u001b[38;5;241m=\u001b[39m []\n\u001b[0;32m----> 2\u001b[0m \u001b[38;5;28;01mfor\u001b[39;00m pair \u001b[38;5;129;01min\u001b[39;00m \u001b[43mlib\u001b[49m\u001b[38;5;241m.\u001b[39mfind_duplicate_links():\n\u001b[1;32m      3\u001b[0m     \u001b[38;5;28;01mfor\u001b[39;00m r \u001b[38;5;129;01min\u001b[39;00m pair:\n\u001b[1;32m      4\u001b[0m         \u001b[38;5;28;01mif\u001b[39;00m \u001b[38;5;28misinstance\u001b[39m(r, pyna\u001b[38;5;241m.\u001b[39mrates\u001b[38;5;241m.\u001b[39mReacLibRate):\n",
      "\u001b[0;31mNameError\u001b[0m: name 'lib' is not defined"
     ]
    }
   ],
   "source": [
    "rates_to_remove = []\n",
    "for pair in lib.find_duplicate_links():\n",
    "    for r in pair:\n",
    "        if isinstance(r, pyna.rates.ReacLibRate):\n",
    "            rates_to_remove.append(r)"
   ]
  },
  {
   "cell_type": "markdown",
   "id": "f0961450-77ea-4cd4-be68-fbaaf15aa70c",
   "metadata": {},
   "source": [
    "Now we remove the duplicates from the list"
   ]
  },
  {
   "cell_type": "code",
   "execution_count": 9,
   "id": "14cc5569-e671-4897-88d7-2392c2471c6f",
   "metadata": {
    "execution": {
     "iopub.execute_input": "2024-10-17T08:13:00.284676Z",
     "iopub.status.busy": "2024-10-17T08:13:00.284354Z",
     "iopub.status.idle": "2024-10-17T08:13:00.286873Z",
     "shell.execute_reply": "2024-10-17T08:13:00.286391Z"
    }
   },
   "outputs": [],
   "source": [
    "for r in rates_to_remove:\n",
    "    lib.remove_rate(r)"
   ]
  },
  {
   "cell_type": "markdown",
   "id": "536c6679-7b07-40de-805a-6c198485b475",
   "metadata": {},
   "source": [
    "Finally, we can make the `RateCollection` without error:"
   ]
  },
  {
   "cell_type": "code",
   "execution_count": 10,
   "id": "a9f51687-8e94-4327-97eb-c656e72b744a",
   "metadata": {
    "execution": {
     "iopub.execute_input": "2024-10-17T08:13:00.288401Z",
     "iopub.status.busy": "2024-10-17T08:13:00.288240Z",
     "iopub.status.idle": "2024-10-17T08:13:00.300184Z",
     "shell.execute_reply": "2024-10-17T08:13:00.299606Z"
    }
   },
   "outputs": [
    {
     "ename": "NameError",
     "evalue": "name 'lib' is not defined",
     "output_type": "error",
     "traceback": [
      "\u001b[0;31m---------------------------------------------------------------------------\u001b[0m",
      "\u001b[0;31mNameError\u001b[0m                                 Traceback (most recent call last)",
      "Cell \u001b[0;32mIn[10], line 1\u001b[0m\n\u001b[0;32m----> 1\u001b[0m rc \u001b[38;5;241m=\u001b[39m pyna\u001b[38;5;241m.\u001b[39mRateCollection(libraries\u001b[38;5;241m=\u001b[39m[\u001b[43mlib\u001b[49m])\n",
      "\u001b[0;31mNameError\u001b[0m: name 'lib' is not defined"
     ]
    }
   ],
   "source": [
    "rc = pyna.RateCollection(libraries=[lib])"
   ]
  },
  {
   "cell_type": "code",
   "execution_count": 11,
   "id": "01099329-638d-497b-8f8b-b0beb42a4add",
   "metadata": {
    "execution": {
     "iopub.execute_input": "2024-10-17T08:13:00.301985Z",
     "iopub.status.busy": "2024-10-17T08:13:00.301589Z",
     "iopub.status.idle": "2024-10-17T08:13:00.312829Z",
     "shell.execute_reply": "2024-10-17T08:13:00.312293Z"
    }
   },
   "outputs": [
    {
     "ename": "NameError",
     "evalue": "name 'rc' is not defined",
     "output_type": "error",
     "traceback": [
      "\u001b[0;31m---------------------------------------------------------------------------\u001b[0m",
      "\u001b[0;31mNameError\u001b[0m                                 Traceback (most recent call last)",
      "Cell \u001b[0;32mIn[11], line 1\u001b[0m\n\u001b[0;32m----> 1\u001b[0m fig \u001b[38;5;241m=\u001b[39m \u001b[43mrc\u001b[49m\u001b[38;5;241m.\u001b[39mplot(rotated\u001b[38;5;241m=\u001b[39m\u001b[38;5;28;01mTrue\u001b[39;00m)\n",
      "\u001b[0;31mNameError\u001b[0m: name 'rc' is not defined"
     ]
    }
   ],
   "source": [
    "fig = rc.plot(rotated=True)"
   ]
  }
 ],
 "metadata": {
  "kernelspec": {
   "display_name": "Python 3 (ipykernel)",
   "language": "python",
   "name": "python3"
  },
  "language_info": {
   "codemirror_mode": {
    "name": "ipython",
    "version": 3
   },
   "file_extension": ".py",
   "mimetype": "text/x-python",
   "name": "python",
   "nbconvert_exporter": "python",
   "pygments_lexer": "ipython3",
   "version": "3.11.10"
  }
 },
 "nbformat": 4,
 "nbformat_minor": 5
}
