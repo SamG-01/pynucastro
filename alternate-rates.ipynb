{
 "cells": [
  {
   "cell_type": "markdown",
   "id": "c8a1bdec-39c7-46ee-acd8-6bdba210f37d",
   "metadata": {},
   "source": [
    "# `alternate_rates`"
   ]
  },
  {
   "cell_type": "markdown",
   "id": "293a2437-f678-4523-87a9-4560a5677f4f",
   "metadata": {},
   "source": [
    "Sometimes papers provide new measurements of rates that may be better than the current ReacLib library.  An example of this is the \n",
    "[DeBoer et al. 2012](https://ui.adsabs.harvard.edu/abs/2017RvMP...89c5007D/abstract) ${}^{12}\\mathrm{C}(\\alpha, \\gamma){}^{16}\\mathrm{O}$ rate.\n",
    "\n",
    "These rates can be added individually to the `alternate_rates` module."
   ]
  },
  {
   "cell_type": "code",
   "execution_count": 1,
   "id": "a3d2faa1-8689-40d8-87e5-07f0eef4219a",
   "metadata": {
    "execution": {
     "iopub.execute_input": "2024-10-17T09:23:30.384383Z",
     "iopub.status.busy": "2024-10-17T09:23:30.383908Z",
     "iopub.status.idle": "2024-10-17T09:23:31.746686Z",
     "shell.execute_reply": "2024-10-17T09:23:31.746082Z"
    }
   },
   "outputs": [],
   "source": [
    "import pynucastro as pyna"
   ]
  },
  {
   "cell_type": "markdown",
   "id": "a7417e8c-9a5a-488d-a74c-b0b06668a2bd",
   "metadata": {},
   "source": [
    "## Comparison of ${}^{12}\\mathrm{C}(\\alpha, \\gamma){}^{16}\\mathrm{O}$"
   ]
  },
  {
   "cell_type": "markdown",
   "id": "ce350a97-7b40-46fb-a78b-8c81b304f882",
   "metadata": {
    "editable": true,
    "slideshow": {
     "slide_type": ""
    },
    "tags": []
   },
   "source": [
    "Here we compare the ReacLib and deBoer versions of ${}^{12}\\mathrm{C}(\\alpha, \\gamma){}^{16}\\mathrm{O}$."
   ]
  },
  {
   "cell_type": "markdown",
   "id": "3c70c775-3f51-4de1-a425-b00373e84791",
   "metadata": {},
   "source": [
    "First get the ReacLib version"
   ]
  },
  {
   "cell_type": "code",
   "execution_count": 2,
   "id": "478bebaf-3ece-47c0-9b45-e5ca74a7cedb",
   "metadata": {
    "execution": {
     "iopub.execute_input": "2024-10-17T09:23:31.748971Z",
     "iopub.status.busy": "2024-10-17T09:23:31.748480Z",
     "iopub.status.idle": "2024-10-17T09:23:36.024365Z",
     "shell.execute_reply": "2024-10-17T09:23:36.023714Z"
    }
   },
   "outputs": [
    {
     "ename": "ValueError",
     "evalue": "invalid literal for int() with base 10: ''",
     "output_type": "error",
     "traceback": [
      "\u001b[0;31m---------------------------------------------------------------------------\u001b[0m",
      "\u001b[0;31mValueError\u001b[0m                                Traceback (most recent call last)",
      "Cell \u001b[0;32mIn[2], line 2\u001b[0m\n\u001b[1;32m      1\u001b[0m rl \u001b[38;5;241m=\u001b[39m pyna\u001b[38;5;241m.\u001b[39mReacLibLibrary()\n\u001b[0;32m----> 2\u001b[0m c12_rl \u001b[38;5;241m=\u001b[39m \u001b[43mrl\u001b[49m\u001b[38;5;241;43m.\u001b[39;49m\u001b[43mget_rate_by_name\u001b[49m\u001b[43m(\u001b[49m\u001b[38;5;124;43m\"\u001b[39;49m\u001b[38;5;124;43mc12(a,g)o16\u001b[39;49m\u001b[38;5;124;43m\"\u001b[39;49m\u001b[43m)\u001b[49m\n",
      "File \u001b[0;32m/opt/hostedtoolcache/Python/3.11.10/x64/lib/python3.11/site-packages/pynucastro/rates/library.py:200\u001b[0m, in \u001b[0;36mLibrary.get_rate_by_name\u001b[0;34m(self, name)\u001b[0m\n\u001b[1;32m    197\u001b[0m rates_out \u001b[38;5;241m=\u001b[39m []\n\u001b[1;32m    199\u001b[0m \u001b[38;5;28;01mfor\u001b[39;00m rname \u001b[38;5;129;01min\u001b[39;00m rate_name_list:\n\u001b[0;32m--> 200\u001b[0m     reactants, products \u001b[38;5;241m=\u001b[39m \u001b[43m_rate_name_to_nuc\u001b[49m\u001b[43m(\u001b[49m\u001b[43mrname\u001b[49m\u001b[43m)\u001b[49m\n\u001b[1;32m    202\u001b[0m     rf \u001b[38;5;241m=\u001b[39m RateFilter(reactants\u001b[38;5;241m=\u001b[39mreactants, products\u001b[38;5;241m=\u001b[39mproducts)\n\u001b[1;32m    203\u001b[0m     _lib \u001b[38;5;241m=\u001b[39m \u001b[38;5;28mself\u001b[39m\u001b[38;5;241m.\u001b[39mfilter(rf)\n",
      "File \u001b[0;32m/opt/hostedtoolcache/Python/3.11.10/x64/lib/python3.11/site-packages/pynucastro/rates/library.py:87\u001b[0m, in \u001b[0;36m_rate_name_to_nuc\u001b[0;34m(name)\u001b[0m\n\u001b[1;32m     85\u001b[0m         \u001b[38;5;28mprint\u001b[39m(\u001b[38;5;124mf\u001b[39m\u001b[38;5;124m\"\u001b[39m\u001b[38;5;124mcouldn\u001b[39m\u001b[38;5;124m'\u001b[39m\u001b[38;5;124mt deal with \u001b[39m\u001b[38;5;132;01m{\u001b[39;00mnuc\u001b[38;5;132;01m}\u001b[39;00m\u001b[38;5;124m\"\u001b[39m)\n\u001b[1;32m     86\u001b[0m         \u001b[38;5;28;01mraise\u001b[39;00m\n\u001b[0;32m---> 87\u001b[0m products \u001b[38;5;241m=\u001b[39m \u001b[43mNucleus\u001b[49m\u001b[38;5;241;43m.\u001b[39;49m\u001b[43mcast_list\u001b[49m\u001b[43m(\u001b[49m\u001b[43mproducts\u001b[49m\u001b[43m)\u001b[49m\n\u001b[1;32m     89\u001b[0m \u001b[38;5;28;01mreturn\u001b[39;00m reactants, products\n",
      "File \u001b[0;32m/opt/hostedtoolcache/Python/3.11.10/x64/lib/python3.11/site-packages/pynucastro/nucdata/nucleus.py:211\u001b[0m, in \u001b[0;36mNucleus.cast_list\u001b[0;34m(cls, lst, allow_None, allow_single)\u001b[0m\n\u001b[1;32m    209\u001b[0m         \u001b[38;5;28;01mreturn\u001b[39;00m [\u001b[38;5;28mcls\u001b[39m\u001b[38;5;241m.\u001b[39mcast(lst)]\n\u001b[1;32m    210\u001b[0m     \u001b[38;5;28;01mraise\u001b[39;00m \u001b[38;5;167;01mValueError\u001b[39;00m(\u001b[38;5;124m\"\u001b[39m\u001b[38;5;124mSingle object passed to Nucleus.cast_list() instead of list\u001b[39m\u001b[38;5;124m\"\u001b[39m)\n\u001b[0;32m--> 211\u001b[0m \u001b[38;5;28;01mreturn\u001b[39;00m \u001b[43m[\u001b[49m\u001b[38;5;28;43mcls\u001b[39;49m\u001b[38;5;241;43m.\u001b[39;49m\u001b[43mcast\u001b[49m\u001b[43m(\u001b[49m\u001b[43mobj\u001b[49m\u001b[43m)\u001b[49m\u001b[43m \u001b[49m\u001b[38;5;28;43;01mfor\u001b[39;49;00m\u001b[43m \u001b[49m\u001b[43mobj\u001b[49m\u001b[43m \u001b[49m\u001b[38;5;129;43;01min\u001b[39;49;00m\u001b[43m \u001b[49m\u001b[43mlst\u001b[49m\u001b[43m]\u001b[49m\n",
      "File \u001b[0;32m/opt/hostedtoolcache/Python/3.11.10/x64/lib/python3.11/site-packages/pynucastro/nucdata/nucleus.py:211\u001b[0m, in \u001b[0;36m<listcomp>\u001b[0;34m(.0)\u001b[0m\n\u001b[1;32m    209\u001b[0m         \u001b[38;5;28;01mreturn\u001b[39;00m [\u001b[38;5;28mcls\u001b[39m\u001b[38;5;241m.\u001b[39mcast(lst)]\n\u001b[1;32m    210\u001b[0m     \u001b[38;5;28;01mraise\u001b[39;00m \u001b[38;5;167;01mValueError\u001b[39;00m(\u001b[38;5;124m\"\u001b[39m\u001b[38;5;124mSingle object passed to Nucleus.cast_list() instead of list\u001b[39m\u001b[38;5;124m\"\u001b[39m)\n\u001b[0;32m--> 211\u001b[0m \u001b[38;5;28;01mreturn\u001b[39;00m [\u001b[38;5;28;43mcls\u001b[39;49m\u001b[38;5;241;43m.\u001b[39;49m\u001b[43mcast\u001b[49m\u001b[43m(\u001b[49m\u001b[43mobj\u001b[49m\u001b[43m)\u001b[49m \u001b[38;5;28;01mfor\u001b[39;00m obj \u001b[38;5;129;01min\u001b[39;00m lst]\n",
      "File \u001b[0;32m/opt/hostedtoolcache/Python/3.11.10/x64/lib/python3.11/site-packages/pynucastro/nucdata/nucleus.py:198\u001b[0m, in \u001b[0;36mNucleus.cast\u001b[0;34m(cls, obj)\u001b[0m\n\u001b[1;32m    196\u001b[0m     \u001b[38;5;28;01mreturn\u001b[39;00m obj\n\u001b[1;32m    197\u001b[0m \u001b[38;5;28;01mif\u001b[39;00m \u001b[38;5;28misinstance\u001b[39m(obj, \u001b[38;5;28mstr\u001b[39m):\n\u001b[0;32m--> 198\u001b[0m     \u001b[38;5;28;01mreturn\u001b[39;00m \u001b[38;5;28;43mcls\u001b[39;49m\u001b[38;5;241;43m.\u001b[39;49m\u001b[43mfrom_cache\u001b[49m\u001b[43m(\u001b[49m\u001b[43mobj\u001b[49m\u001b[43m)\u001b[49m\n\u001b[1;32m    199\u001b[0m \u001b[38;5;28;01mraise\u001b[39;00m \u001b[38;5;167;01mTypeError\u001b[39;00m(\u001b[38;5;124m\"\u001b[39m\u001b[38;5;124mInvalid type passed to Nucleus.cast() (expected str or Nucleus)\u001b[39m\u001b[38;5;124m\"\u001b[39m)\n",
      "File \u001b[0;32m/opt/hostedtoolcache/Python/3.11.10/x64/lib/python3.11/site-packages/pynucastro/nucdata/nucleus.py:161\u001b[0m, in \u001b[0;36mNucleus.from_cache\u001b[0;34m(cls, name, dummy)\u001b[0m\n\u001b[1;32m    159\u001b[0m key \u001b[38;5;241m=\u001b[39m (name\u001b[38;5;241m.\u001b[39mlower(), dummy)\n\u001b[1;32m    160\u001b[0m \u001b[38;5;28;01mif\u001b[39;00m key \u001b[38;5;129;01mnot\u001b[39;00m \u001b[38;5;129;01min\u001b[39;00m \u001b[38;5;28mcls\u001b[39m\u001b[38;5;241m.\u001b[39m_cache:\n\u001b[0;32m--> 161\u001b[0m     \u001b[38;5;28mcls\u001b[39m\u001b[38;5;241m.\u001b[39m_cache[key] \u001b[38;5;241m=\u001b[39m \u001b[43mNucleus\u001b[49m\u001b[43m(\u001b[49m\u001b[43mname\u001b[49m\u001b[43m,\u001b[49m\u001b[43m \u001b[49m\u001b[43mdummy\u001b[49m\u001b[43m)\u001b[49m\n\u001b[1;32m    162\u001b[0m \u001b[38;5;28;01mreturn\u001b[39;00m \u001b[38;5;28mcls\u001b[39m\u001b[38;5;241m.\u001b[39m_cache[key]\n",
      "File \u001b[0;32m/opt/hostedtoolcache/Python/3.11.10/x64/lib/python3.11/site-packages/pynucastro/nucdata/nucleus.py:100\u001b[0m, in \u001b[0;36mNucleus.__init__\u001b[0;34m(self, name, dummy)\u001b[0m\n\u001b[1;32m     98\u001b[0m \u001b[38;5;28mself\u001b[39m\u001b[38;5;241m.\u001b[39mel \u001b[38;5;241m=\u001b[39m e\u001b[38;5;241m.\u001b[39mgroup(\u001b[38;5;241m1\u001b[39m)\u001b[38;5;241m.\u001b[39mtitle()  \u001b[38;5;66;03m# chemical symbol\u001b[39;00m\n\u001b[1;32m     99\u001b[0m \u001b[38;5;28;01massert\u001b[39;00m \u001b[38;5;28mself\u001b[39m\u001b[38;5;241m.\u001b[39mel\n\u001b[0;32m--> 100\u001b[0m \u001b[38;5;28mself\u001b[39m\u001b[38;5;241m.\u001b[39mA \u001b[38;5;241m=\u001b[39m \u001b[38;5;28;43mint\u001b[39;49m\u001b[43m(\u001b[49m\u001b[43me\u001b[49m\u001b[38;5;241;43m.\u001b[39;49m\u001b[43mgroup\u001b[49m\u001b[43m(\u001b[49m\u001b[38;5;241;43m2\u001b[39;49m\u001b[43m)\u001b[49m\u001b[43m)\u001b[49m\n\u001b[1;32m    101\u001b[0m \u001b[38;5;28;01massert\u001b[39;00m \u001b[38;5;28mself\u001b[39m\u001b[38;5;241m.\u001b[39mA \u001b[38;5;241m>\u001b[39m\u001b[38;5;241m=\u001b[39m \u001b[38;5;241m0\u001b[39m\n\u001b[1;32m    102\u001b[0m \u001b[38;5;28mself\u001b[39m\u001b[38;5;241m.\u001b[39mshort_spec_name \u001b[38;5;241m=\u001b[39m name\n",
      "\u001b[0;31mValueError\u001b[0m: invalid literal for int() with base 10: ''"
     ]
    }
   ],
   "source": [
    "rl = pyna.ReacLibLibrary()\n",
    "c12_rl = rl.get_rate_by_name(\"c12(a,g)o16\")"
   ]
  },
  {
   "cell_type": "markdown",
   "id": "cc323c16-fe44-476c-a9bb-64abe489ac57",
   "metadata": {},
   "source": [
    "Now the DeBoer version:"
   ]
  },
  {
   "cell_type": "code",
   "execution_count": 3,
   "id": "0c207679-c0c6-4afe-89e7-2b93d833a51b",
   "metadata": {
    "execution": {
     "iopub.execute_input": "2024-10-17T09:23:36.026448Z",
     "iopub.status.busy": "2024-10-17T09:23:36.026129Z",
     "iopub.status.idle": "2024-10-17T09:23:36.029491Z",
     "shell.execute_reply": "2024-10-17T09:23:36.028961Z"
    }
   },
   "outputs": [],
   "source": [
    "from pynucastro.rates.alternate_rates import DeBoerC12agO16\n",
    "c12_deboer = DeBoerC12agO16()"
   ]
  },
  {
   "cell_type": "markdown",
   "id": "ed9620bb-dcd2-44d0-addf-c11a8e6fb130",
   "metadata": {},
   "source": [
    "Note that since DeBoer et al. 2012 give the new rate as a parameterization in the ReacLib form, this new rate just subclasses\n",
    "`ReacLibRate`"
   ]
  },
  {
   "cell_type": "code",
   "execution_count": 4,
   "id": "a8e21563-9e67-47a6-946a-eb92c3d883ed",
   "metadata": {
    "execution": {
     "iopub.execute_input": "2024-10-17T09:23:36.031410Z",
     "iopub.status.busy": "2024-10-17T09:23:36.031084Z",
     "iopub.status.idle": "2024-10-17T09:23:36.036326Z",
     "shell.execute_reply": "2024-10-17T09:23:36.035882Z"
    }
   },
   "outputs": [
    {
     "data": {
      "text/plain": [
       "pynucastro.rates.rate.ReacLibRate"
      ]
     },
     "execution_count": 4,
     "metadata": {},
     "output_type": "execute_result"
    }
   ],
   "source": [
    "DeBoerC12agO16.__base__"
   ]
  },
  {
   "cell_type": "markdown",
   "id": "a15ccbe6-8c57-40a7-a025-0f835752feb6",
   "metadata": {},
   "source": [
    "Let's plot a comparison of the rates"
   ]
  },
  {
   "cell_type": "code",
   "execution_count": 5,
   "id": "df557ec7-a75e-4143-a1f1-c3e9938b528a",
   "metadata": {
    "execution": {
     "iopub.execute_input": "2024-10-17T09:23:36.038028Z",
     "iopub.status.busy": "2024-10-17T09:23:36.037694Z",
     "iopub.status.idle": "2024-10-17T09:23:36.040190Z",
     "shell.execute_reply": "2024-10-17T09:23:36.039764Z"
    }
   },
   "outputs": [],
   "source": [
    "import numpy as np\n",
    "import matplotlib.pyplot as plt"
   ]
  },
  {
   "cell_type": "code",
   "execution_count": 6,
   "id": "3bcefccb-e3f9-4d7a-a57c-15aa90c1d50e",
   "metadata": {
    "editable": true,
    "execution": {
     "iopub.execute_input": "2024-10-17T09:23:36.041835Z",
     "iopub.status.busy": "2024-10-17T09:23:36.041567Z",
     "iopub.status.idle": "2024-10-17T09:23:36.062619Z",
     "shell.execute_reply": "2024-10-17T09:23:36.061998Z"
    },
    "slideshow": {
     "slide_type": ""
    },
    "tags": []
   },
   "outputs": [
    {
     "ename": "NameError",
     "evalue": "name 'c12_rl' is not defined",
     "output_type": "error",
     "traceback": [
      "\u001b[0;31m---------------------------------------------------------------------------\u001b[0m",
      "\u001b[0;31mNameError\u001b[0m                                 Traceback (most recent call last)",
      "Cell \u001b[0;32mIn[6], line 3\u001b[0m\n\u001b[1;32m      1\u001b[0m Ts \u001b[38;5;241m=\u001b[39m np\u001b[38;5;241m.\u001b[39mlogspace(\u001b[38;5;241m7.5\u001b[39m, \u001b[38;5;241m9.5\u001b[39m, \u001b[38;5;241m100\u001b[39m)\n\u001b[0;32m----> 3\u001b[0m r_rl \u001b[38;5;241m=\u001b[39m np\u001b[38;5;241m.\u001b[39marray(\u001b[43m[\u001b[49m\u001b[43mc12_rl\u001b[49m\u001b[38;5;241;43m.\u001b[39;49m\u001b[43meval\u001b[49m\u001b[43m(\u001b[49m\u001b[43mT\u001b[49m\u001b[43m)\u001b[49m\u001b[43m \u001b[49m\u001b[38;5;28;43;01mfor\u001b[39;49;00m\u001b[43m \u001b[49m\u001b[43mT\u001b[49m\u001b[43m \u001b[49m\u001b[38;5;129;43;01min\u001b[39;49;00m\u001b[43m \u001b[49m\u001b[43mTs\u001b[49m\u001b[43m]\u001b[49m)\n\u001b[1;32m      4\u001b[0m r_deboer \u001b[38;5;241m=\u001b[39m np\u001b[38;5;241m.\u001b[39marray([c12_deboer\u001b[38;5;241m.\u001b[39meval(T) \u001b[38;5;28;01mfor\u001b[39;00m T \u001b[38;5;129;01min\u001b[39;00m Ts])\n",
      "Cell \u001b[0;32mIn[6], line 3\u001b[0m, in \u001b[0;36m<listcomp>\u001b[0;34m(.0)\u001b[0m\n\u001b[1;32m      1\u001b[0m Ts \u001b[38;5;241m=\u001b[39m np\u001b[38;5;241m.\u001b[39mlogspace(\u001b[38;5;241m7.5\u001b[39m, \u001b[38;5;241m9.5\u001b[39m, \u001b[38;5;241m100\u001b[39m)\n\u001b[0;32m----> 3\u001b[0m r_rl \u001b[38;5;241m=\u001b[39m np\u001b[38;5;241m.\u001b[39marray([\u001b[43mc12_rl\u001b[49m\u001b[38;5;241m.\u001b[39meval(T) \u001b[38;5;28;01mfor\u001b[39;00m T \u001b[38;5;129;01min\u001b[39;00m Ts])\n\u001b[1;32m      4\u001b[0m r_deboer \u001b[38;5;241m=\u001b[39m np\u001b[38;5;241m.\u001b[39marray([c12_deboer\u001b[38;5;241m.\u001b[39meval(T) \u001b[38;5;28;01mfor\u001b[39;00m T \u001b[38;5;129;01min\u001b[39;00m Ts])\n",
      "\u001b[0;31mNameError\u001b[0m: name 'c12_rl' is not defined"
     ]
    }
   ],
   "source": [
    "Ts = np.logspace(7.5, 9.5, 100)\n",
    "\n",
    "r_rl = np.array([c12_rl.eval(T) for T in Ts])\n",
    "r_deboer = np.array([c12_deboer.eval(T) for T in Ts])"
   ]
  },
  {
   "cell_type": "code",
   "execution_count": 7,
   "id": "2d7ba5bf-d5e0-46a8-9cb3-908db3f30e35",
   "metadata": {
    "editable": true,
    "execution": {
     "iopub.execute_input": "2024-10-17T09:23:36.064514Z",
     "iopub.status.busy": "2024-10-17T09:23:36.064135Z",
     "iopub.status.idle": "2024-10-17T09:23:36.155412Z",
     "shell.execute_reply": "2024-10-17T09:23:36.154791Z"
    },
    "slideshow": {
     "slide_type": ""
    },
    "tags": [
     "nbval-ignore-output"
    ]
   },
   "outputs": [
    {
     "ename": "NameError",
     "evalue": "name 'r_rl' is not defined",
     "output_type": "error",
     "traceback": [
      "\u001b[0;31m---------------------------------------------------------------------------\u001b[0m",
      "\u001b[0;31mNameError\u001b[0m                                 Traceback (most recent call last)",
      "Cell \u001b[0;32mIn[7], line 2\u001b[0m\n\u001b[1;32m      1\u001b[0m fig, ax \u001b[38;5;241m=\u001b[39m plt\u001b[38;5;241m.\u001b[39msubplots()\n\u001b[0;32m----> 2\u001b[0m ax\u001b[38;5;241m.\u001b[39mloglog(Ts, \u001b[43mr_rl\u001b[49m, label\u001b[38;5;241m=\u001b[39m\u001b[38;5;124m\"\u001b[39m\u001b[38;5;124mReacLib\u001b[39m\u001b[38;5;124m\"\u001b[39m)\n\u001b[1;32m      3\u001b[0m ax\u001b[38;5;241m.\u001b[39mloglog(Ts, r_deboer, label\u001b[38;5;241m=\u001b[39m\u001b[38;5;124m\"\u001b[39m\u001b[38;5;124mdeBoer\u001b[39m\u001b[38;5;124m\"\u001b[39m)\n\u001b[1;32m      4\u001b[0m ax\u001b[38;5;241m.\u001b[39mset_xlabel(\u001b[38;5;124m\"\u001b[39m\u001b[38;5;124mT\u001b[39m\u001b[38;5;124m\"\u001b[39m)\n",
      "\u001b[0;31mNameError\u001b[0m: name 'r_rl' is not defined"
     ]
    },
    {
     "data": {
      "image/png": "[encoded data removed]",
      "text/plain": [
       "<Figure size 640x480 with 1 Axes>"
      ]
     },
     "metadata": {},
     "output_type": "display_data"
    }
   ],
   "source": [
    "fig, ax = plt.subplots()\n",
    "ax.loglog(Ts, r_rl, label=\"ReacLib\")\n",
    "ax.loglog(Ts, r_deboer, label=\"deBoer\")\n",
    "ax.set_xlabel(\"T\")\n",
    "ax.set_ylabel(r\"$N_A\\langle \\sigma v\\rangle$\")\n",
    "ax.legend()"
   ]
  },
  {
   "cell_type": "markdown",
   "id": "3e9fe5b4-4e73-41db-8f0b-929400e3917a",
   "metadata": {
    "editable": true,
    "slideshow": {
     "slide_type": ""
    },
    "tags": []
   },
   "source": [
    "Here's the relative difference"
   ]
  },
  {
   "cell_type": "code",
   "execution_count": 8,
   "id": "82773ed1-43eb-45f6-9d0d-b571a0ae72b8",
   "metadata": {
    "editable": true,
    "execution": {
     "iopub.execute_input": "2024-10-17T09:23:36.157450Z",
     "iopub.status.busy": "2024-10-17T09:23:36.157078Z",
     "iopub.status.idle": "2024-10-17T09:23:36.240820Z",
     "shell.execute_reply": "2024-10-17T09:23:36.240321Z"
    },
    "slideshow": {
     "slide_type": ""
    },
    "tags": [
     "nbval-ignore-output"
    ]
   },
   "outputs": [
    {
     "ename": "NameError",
     "evalue": "name 'r_rl' is not defined",
     "output_type": "error",
     "traceback": [
      "\u001b[0;31m---------------------------------------------------------------------------\u001b[0m",
      "\u001b[0;31mNameError\u001b[0m                                 Traceback (most recent call last)",
      "Cell \u001b[0;32mIn[8], line 2\u001b[0m\n\u001b[1;32m      1\u001b[0m fig, ax \u001b[38;5;241m=\u001b[39m plt\u001b[38;5;241m.\u001b[39msubplots()\n\u001b[0;32m----> 2\u001b[0m ax\u001b[38;5;241m.\u001b[39mloglog(Ts, np\u001b[38;5;241m.\u001b[39mabs((\u001b[43mr_rl\u001b[49m \u001b[38;5;241m-\u001b[39m r_deboer) \u001b[38;5;241m/\u001b[39m r_rl))\n\u001b[1;32m      3\u001b[0m ax\u001b[38;5;241m.\u001b[39mset_xlabel(\u001b[38;5;124m\"\u001b[39m\u001b[38;5;124mT\u001b[39m\u001b[38;5;124m\"\u001b[39m)\n\u001b[1;32m      4\u001b[0m ax\u001b[38;5;241m.\u001b[39mset_ylabel(\u001b[38;5;124mr\u001b[39m\u001b[38;5;124m\"\u001b[39m\u001b[38;5;124mrelative difference\u001b[39m\u001b[38;5;124m\"\u001b[39m)\n",
      "\u001b[0;31mNameError\u001b[0m: name 'r_rl' is not defined"
     ]
    },
    {
     "data": {
      "image/png": "[encoded data removed]",
      "text/plain": [
       "<Figure size 640x480 with 1 Axes>"
      ]
     },
     "metadata": {},
     "output_type": "display_data"
    }
   ],
   "source": [
    "fig, ax = plt.subplots()\n",
    "ax.loglog(Ts, np.abs((r_rl - r_deboer) / r_rl))\n",
    "ax.set_xlabel(\"T\")\n",
    "ax.set_ylabel(r\"relative difference\")\n",
    "ax.grid(ls=\":\")"
   ]
  },
  {
   "cell_type": "markdown",
   "id": "67513457-6fe6-4527-aeea-4ecdf4313d02",
   "metadata": {
    "editable": true,
    "slideshow": {
     "slide_type": ""
    },
    "tags": []
   },
   "source": [
    "## Using alternate rates in a network"
   ]
  },
  {
   "cell_type": "markdown",
   "id": "7978a7c5-af12-4d83-b637-a218936c479f",
   "metadata": {
    "editable": true,
    "slideshow": {
     "slide_type": ""
    },
    "tags": []
   },
   "source": [
    "To create a network with this rate, we can swap it in for the ReacLib version when we create a library.\n",
    "Here's a simple He-burning network."
   ]
  },
  {
   "cell_type": "code",
   "execution_count": 9,
   "id": "b8c4fdf0-8652-43b3-a327-e414e857cbff",
   "metadata": {
    "editable": true,
    "execution": {
     "iopub.execute_input": "2024-10-17T09:23:36.242580Z",
     "iopub.status.busy": "2024-10-17T09:23:36.242404Z",
     "iopub.status.idle": "2024-10-17T09:23:36.245582Z",
     "shell.execute_reply": "2024-10-17T09:23:36.245129Z"
    },
    "slideshow": {
     "slide_type": ""
    },
    "tags": []
   },
   "outputs": [],
   "source": [
    "nuclei = [\"p\", \"he4\", \"c12\", \"o16\", \"ne20\", \"na23\", \"mg24\"]\n",
    "\n",
    "comp = pyna.Composition(nuclei)\n",
    "comp.set_equal()"
   ]
  },
  {
   "cell_type": "code",
   "execution_count": 10,
   "id": "5a422574-c92b-4ab9-85f1-87288590c1a7",
   "metadata": {
    "editable": true,
    "execution": {
     "iopub.execute_input": "2024-10-17T09:23:36.247208Z",
     "iopub.status.busy": "2024-10-17T09:23:36.247041Z",
     "iopub.status.idle": "2024-10-17T09:23:36.249555Z",
     "shell.execute_reply": "2024-10-17T09:23:36.249126Z"
    },
    "slideshow": {
     "slide_type": ""
    },
    "tags": []
   },
   "outputs": [],
   "source": [
    "rho = 1.e6\n",
    "T = 1.e9"
   ]
  },
  {
   "cell_type": "markdown",
   "id": "af7b3e8c-58ef-4370-b09a-de66c71fcdc9",
   "metadata": {
    "editable": true,
    "slideshow": {
     "slide_type": ""
    },
    "tags": []
   },
   "source": [
    "### Pure ReacLib\n",
    "\n",
    "First we'll create a `RateCollection` with just the ReacLib rates"
   ]
  },
  {
   "cell_type": "code",
   "execution_count": 11,
   "id": "1cf7570f-8152-4804-a5a0-001e4fabbb15",
   "metadata": {
    "editable": true,
    "execution": {
     "iopub.execute_input": "2024-10-17T09:23:36.251272Z",
     "iopub.status.busy": "2024-10-17T09:23:36.250954Z",
     "iopub.status.idle": "2024-10-17T09:23:37.049713Z",
     "shell.execute_reply": "2024-10-17T09:23:37.049234Z"
    },
    "slideshow": {
     "slide_type": ""
    },
    "tags": []
   },
   "outputs": [
    {
     "name": "stdout",
     "output_type": "stream",
     "text": [
      "C12 + He4 ⟶ O16 + 𝛾       : 2.7441793e-03\n",
      "O16 + He4 ⟶ Ne20 + 𝛾      : 1.1385847e+00\n",
      "Ne20 + He4 ⟶ Mg24 + 𝛾     : 4.1265513e-01\n",
      "Na23 + p ⟶ Mg24 + 𝛾       : 6.9202360e+05\n",
      "C12 + C12 ⟶ p + Na23      : 1.1970613e-09\n",
      "C12 + C12 ⟶ He4 + Ne20    : 1.4808559e-09\n",
      "O16 + C12 ⟶ He4 + Mg24    : 5.5470507e-15\n",
      "Na23 + p ⟶ He4 + Ne20     : 8.9374939e+06\n",
      "He4 + He4 + He4 ⟶ C12 + 𝛾 : 2.5845076e-03\n"
     ]
    }
   ],
   "source": [
    "lib = rl.linking_nuclei(nuclei, with_reverse=False)\n",
    "rc = pyna.RateCollection(libraries=[lib])\n",
    "rates = rc.evaluate_rates(rho, T, comp)\n",
    "for rr, val in rates.items():\n",
    "    print(f\"{str(rr):25} : {val:12.7e}\")"
   ]
  },
  {
   "cell_type": "markdown",
   "id": "1de7e1ce-31d1-4073-b8ed-897051136fed",
   "metadata": {
    "editable": true,
    "slideshow": {
     "slide_type": ""
    },
    "tags": []
   },
   "source": [
    "### Swapping in DeBoer rate\n",
    "\n",
    "Now we'll swap in the deBoer rate."
   ]
  },
  {
   "cell_type": "code",
   "execution_count": 12,
   "id": "10ab39a3-9657-4dc7-a818-c63efaafefc2",
   "metadata": {
    "editable": true,
    "execution": {
     "iopub.execute_input": "2024-10-17T09:23:37.051651Z",
     "iopub.status.busy": "2024-10-17T09:23:37.051285Z",
     "iopub.status.idle": "2024-10-17T09:23:37.070926Z",
     "shell.execute_reply": "2024-10-17T09:23:37.070362Z"
    },
    "slideshow": {
     "slide_type": ""
    },
    "tags": []
   },
   "outputs": [
    {
     "ename": "NameError",
     "evalue": "name 'c12_rl' is not defined",
     "output_type": "error",
     "traceback": [
      "\u001b[0;31m---------------------------------------------------------------------------\u001b[0m",
      "\u001b[0;31mNameError\u001b[0m                                 Traceback (most recent call last)",
      "Cell \u001b[0;32mIn[12], line 1\u001b[0m\n\u001b[0;32m----> 1\u001b[0m lib\u001b[38;5;241m.\u001b[39mremove_rate(\u001b[43mc12_rl\u001b[49m)\n\u001b[1;32m      2\u001b[0m lib\u001b[38;5;241m.\u001b[39madd_rate(c12_deboer)\n",
      "\u001b[0;31mNameError\u001b[0m: name 'c12_rl' is not defined"
     ]
    }
   ],
   "source": [
    "lib.remove_rate(c12_rl)\n",
    "lib.add_rate(c12_deboer)"
   ]
  },
  {
   "cell_type": "markdown",
   "id": "03ab0920-066f-467f-972a-b4b386e66c7b",
   "metadata": {
    "editable": true,
    "slideshow": {
     "slide_type": ""
    },
    "tags": []
   },
   "source": [
    "and recreate the new `RateCollection`"
   ]
  },
  {
   "cell_type": "code",
   "execution_count": 13,
   "id": "c7115c09-dec1-47bb-9a5e-e1544e812e8f",
   "metadata": {
    "editable": true,
    "execution": {
     "iopub.execute_input": "2024-10-17T09:23:37.072832Z",
     "iopub.status.busy": "2024-10-17T09:23:37.072422Z",
     "iopub.status.idle": "2024-10-17T09:23:37.076473Z",
     "shell.execute_reply": "2024-10-17T09:23:37.075933Z"
    },
    "slideshow": {
     "slide_type": ""
    },
    "tags": []
   },
   "outputs": [
    {
     "name": "stdout",
     "output_type": "stream",
     "text": [
      "C12 + He4 ⟶ O16 + 𝛾       : 2.7441793e-03\n",
      "O16 + He4 ⟶ Ne20 + 𝛾      : 1.1385847e+00\n",
      "Ne20 + He4 ⟶ Mg24 + 𝛾     : 4.1265513e-01\n",
      "Na23 + p ⟶ Mg24 + 𝛾       : 6.9202360e+05\n",
      "C12 + C12 ⟶ p + Na23      : 1.1970613e-09\n",
      "C12 + C12 ⟶ He4 + Ne20    : 1.4808559e-09\n",
      "O16 + C12 ⟶ He4 + Mg24    : 5.5470507e-15\n",
      "Na23 + p ⟶ He4 + Ne20     : 8.9374939e+06\n",
      "He4 + He4 + He4 ⟶ C12 + 𝛾 : 2.5845076e-03\n"
     ]
    }
   ],
   "source": [
    "rc2 = pyna.RateCollection(libraries=[lib])\n",
    "rates = rc2.evaluate_rates(rho, T, comp)\n",
    "for rr, val in rates.items():\n",
    "    print(f\"{str(rr):25} : {val:12.7e}\")"
   ]
  },
  {
   "cell_type": "markdown",
   "id": "ec1ef8d9-57c2-4e56-8df0-bce5fcbb2987",
   "metadata": {
    "editable": true,
    "slideshow": {
     "slide_type": ""
    },
    "tags": []
   },
   "source": [
    "Comparing to the pure ReacLib version, we see the only difference in the evaluation\n",
    "of the rates is in ${}^{12}\\mathrm{C}(\\alpha, \\gamma){}^{16}\\mathrm{O}$"
   ]
  }
 ],
 "metadata": {
  "kernelspec": {
   "display_name": "Python 3 (ipykernel)",
   "language": "python",
   "name": "python3"
  },
  "language_info": {
   "codemirror_mode": {
    "name": "ipython",
    "version": 3
   },
   "file_extension": ".py",
   "mimetype": "text/x-python",
   "name": "python",
   "nbconvert_exporter": "python",
   "pygments_lexer": "ipython3",
   "version": "3.11.10"
  }
 },
 "nbformat": 4,
 "nbformat_minor": 5
}
