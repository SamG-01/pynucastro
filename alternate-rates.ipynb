{
 "cells": [
  {
   "cell_type": "markdown",
   "id": "c8a1bdec-39c7-46ee-acd8-6bdba210f37d",
   "metadata": {},
   "source": [
    "# `alternate_rates`"
   ]
  },
  {
   "cell_type": "markdown",
   "id": "293a2437-f678-4523-87a9-4560a5677f4f",
   "metadata": {},
   "source": [
    "Sometimes papers provide new measurements of rates that may be better than the current ReacLib library.  An example of this is the \n",
    "[DeBoer et al. 2012](https://ui.adsabs.harvard.edu/abs/2017RvMP...89c5007D/abstract) ${}^{12}\\mathrm{C}(\\alpha, \\gamma){}^{16}\\mathrm{O}$ rate.\n",
    "\n",
    "These rates can be added individually to the `alternate_rates` module."
   ]
  },
  {
   "cell_type": "code",
   "execution_count": 1,
   "id": "a3d2faa1-8689-40d8-87e5-07f0eef4219a",
   "metadata": {
    "execution": {
     "iopub.execute_input": "2024-10-17T07:05:37.506485Z",
     "iopub.status.busy": "2024-10-17T07:05:37.506323Z",
     "iopub.status.idle": "2024-10-17T07:05:39.070879Z",
     "shell.execute_reply": "2024-10-17T07:05:39.070214Z"
    }
   },
   "outputs": [
    {
     "ename": "AttributeError",
     "evalue": "module 'warnings' has no attribute 'LiteralString'",
     "output_type": "error",
     "traceback": [
      "\u001b[0;31m---------------------------------------------------------------------------\u001b[0m",
      "\u001b[0;31mAttributeError\u001b[0m                            Traceback (most recent call last)",
      "Cell \u001b[0;32mIn[1], line 1\u001b[0m\n\u001b[0;32m----> 1\u001b[0m \u001b[38;5;28;01mimport\u001b[39;00m \u001b[38;5;21;01mpynucastro\u001b[39;00m \u001b[38;5;28;01mas\u001b[39;00m \u001b[38;5;21;01mpyna\u001b[39;00m\n",
      "File \u001b[0;32m/opt/hostedtoolcache/Python/3.11.10/x64/lib/python3.11/site-packages/pynucastro/__init__.py:131\u001b[0m\n\u001b[1;32m    126\u001b[0m \u001b[38;5;28;01mfrom\u001b[39;00m \u001b[38;5;21;01m.\u001b[39;00m\u001b[38;5;21;01m_version\u001b[39;00m \u001b[38;5;28;01mimport\u001b[39;00m version\n\u001b[1;32m    128\u001b[0m __version__ \u001b[38;5;241m=\u001b[39m version\n\u001b[0;32m--> 131\u001b[0m \u001b[38;5;28;01mimport\u001b[39;00m \u001b[38;5;21;01mpynucastro\u001b[39;00m\u001b[38;5;21;01m.\u001b[39;00m\u001b[38;5;21;01mscreening\u001b[39;00m\n\u001b[1;32m    132\u001b[0m \u001b[38;5;28;01mfrom\u001b[39;00m \u001b[38;5;21;01mpynucastro\u001b[39;00m\u001b[38;5;21;01m.\u001b[39;00m\u001b[38;5;21;01mnetworks\u001b[39;00m \u001b[38;5;28;01mimport\u001b[39;00m (AmrexAstroCxxNetwork, BaseCxxNetwork,\n\u001b[1;32m    133\u001b[0m                                  Composition, Explorer, NSENetwork,\n\u001b[1;32m    134\u001b[0m                                  NumpyNetwork, PythonNetwork, RateCollection,\n\u001b[1;32m    135\u001b[0m                                  SimpleCxxNetwork, StarKillerCxxNetwork,\n\u001b[1;32m    136\u001b[0m                                  SympyRates)\n\u001b[1;32m    137\u001b[0m \u001b[38;5;28;01mfrom\u001b[39;00m \u001b[38;5;21;01mpynucastro\u001b[39;00m\u001b[38;5;21;01m.\u001b[39;00m\u001b[38;5;21;01mnucdata\u001b[39;00m \u001b[38;5;28;01mimport\u001b[39;00m Nucleus, get_all_nuclei, get_nuclei_in_range\n",
      "File \u001b[0;32m/opt/hostedtoolcache/Python/3.11.10/x64/lib/python3.11/site-packages/pynucastro/screening/__init__.py:5\u001b[0m\n\u001b[1;32m      1\u001b[0m \u001b[38;5;124;03m\"\"\"Screening routines\"\"\"\u001b[39;00m\n\u001b[1;32m      3\u001b[0m __all__ \u001b[38;5;241m=\u001b[39m [\u001b[38;5;124m\"\u001b[39m\u001b[38;5;124mscreen\u001b[39m\u001b[38;5;124m\"\u001b[39m, \u001b[38;5;124m\"\u001b[39m\u001b[38;5;124mscreening_util\u001b[39m\u001b[38;5;124m\"\u001b[39m]\n\u001b[0;32m----> 5\u001b[0m \u001b[38;5;28;01mfrom\u001b[39;00m \u001b[38;5;21;01m.\u001b[39;00m\u001b[38;5;21;01mscreen\u001b[39;00m \u001b[38;5;28;01mimport\u001b[39;00m (NseState, PlasmaState, ScreenFactors, chugunov_2007,\n\u001b[1;32m      6\u001b[0m                      chugunov_2009, make_plasma_state, make_screen_factors,\n\u001b[1;32m      7\u001b[0m                      potekhin_1998, screen5)\n\u001b[1;32m      8\u001b[0m \u001b[38;5;28;01mfrom\u001b[39;00m \u001b[38;5;21;01m.\u001b[39;00m\u001b[38;5;21;01mscreening_util\u001b[39;00m \u001b[38;5;28;01mimport\u001b[39;00m ScreeningPair, get_screening_map\n",
      "File \u001b[0;32m/opt/hostedtoolcache/Python/3.11.10/x64/lib/python3.11/site-packages/pynucastro/screening/screen.py:9\u001b[0m\n\u001b[1;32m      7\u001b[0m \u001b[38;5;28;01mfrom\u001b[39;00m \u001b[38;5;21;01mpynucastro\u001b[39;00m\u001b[38;5;21;01m.\u001b[39;00m\u001b[38;5;21;01mnucdata\u001b[39;00m \u001b[38;5;28;01mimport\u001b[39;00m Nucleus\n\u001b[1;32m      8\u001b[0m \u001b[38;5;66;03m# use the jitclass placeholder from rate.py\u001b[39;00m\n\u001b[0;32m----> 9\u001b[0m \u001b[38;5;28;01mfrom\u001b[39;00m \u001b[38;5;21;01mpynucastro\u001b[39;00m\u001b[38;5;21;01m.\u001b[39;00m\u001b[38;5;21;01mrates\u001b[39;00m\u001b[38;5;21;01m.\u001b[39;00m\u001b[38;5;21;01mrate\u001b[39;00m \u001b[38;5;28;01mimport\u001b[39;00m jitclass, numba\n\u001b[1;32m     11\u001b[0m \u001b[38;5;28;01mif\u001b[39;00m numba \u001b[38;5;129;01mis\u001b[39;00m \u001b[38;5;129;01mnot\u001b[39;00m \u001b[38;5;28;01mNone\u001b[39;00m:\n\u001b[1;32m     12\u001b[0m     njit \u001b[38;5;241m=\u001b[39m numba\u001b[38;5;241m.\u001b[39mnjit\n",
      "File \u001b[0;32m/opt/hostedtoolcache/Python/3.11.10/x64/lib/python3.11/site-packages/pynucastro/rates/__init__.py:6\u001b[0m\n\u001b[1;32m      3\u001b[0m __all__ \u001b[38;5;241m=\u001b[39m [\u001b[38;5;124m\"\u001b[39m\u001b[38;5;124mrate\u001b[39m\u001b[38;5;124m\"\u001b[39m, \u001b[38;5;124m\"\u001b[39m\u001b[38;5;124mlibrary\u001b[39m\u001b[38;5;124m\"\u001b[39m]\n\u001b[1;32m      5\u001b[0m \u001b[38;5;28;01mfrom\u001b[39;00m \u001b[38;5;21;01m.\u001b[39;00m\u001b[38;5;21;01mknown_duplicates\u001b[39;00m \u001b[38;5;28;01mimport\u001b[39;00m find_duplicate_rates, is_allowed_dupe\n\u001b[0;32m----> 6\u001b[0m \u001b[38;5;28;01mfrom\u001b[39;00m \u001b[38;5;21;01m.\u001b[39;00m\u001b[38;5;21;01mlibrary\u001b[39;00m \u001b[38;5;28;01mimport\u001b[39;00m (LangankeLibrary, Library, RateFilter, ReacLibLibrary,\n\u001b[1;32m      7\u001b[0m                       SuzukiLibrary, TabularLibrary, list_known_rates)\n\u001b[1;32m      8\u001b[0m \u001b[38;5;28;01mfrom\u001b[39;00m \u001b[38;5;21;01m.\u001b[39;00m\u001b[38;5;21;01mrate\u001b[39;00m \u001b[38;5;28;01mimport\u001b[39;00m (ApproximateRate, DerivedRate, Rate, RateFileError, RatePair,\n\u001b[1;32m      9\u001b[0m                    ReacLibRate, SingleSet, TableIndex, TableInterpolator,\n\u001b[1;32m     10\u001b[0m                    TabularRate, Tfactors, _find_rate_file, load_rate)\n",
      "File \u001b[0;32m/opt/hostedtoolcache/Python/3.11.10/x64/lib/python3.11/site-packages/pynucastro/rates/library.py:10\u001b[0m\n\u001b[1;32m      7\u001b[0m \u001b[38;5;28;01mfrom\u001b[39;00m \u001b[38;5;21;01mpynucastro\u001b[39;00m\u001b[38;5;21;01m.\u001b[39;00m\u001b[38;5;21;01mnucdata\u001b[39;00m \u001b[38;5;28;01mimport\u001b[39;00m Nucleus, UnsupportedNucleus\n\u001b[1;32m      8\u001b[0m \u001b[38;5;28;01mfrom\u001b[39;00m \u001b[38;5;21;01mpynucastro\u001b[39;00m\u001b[38;5;21;01m.\u001b[39;00m\u001b[38;5;21;01mrates\u001b[39;00m\u001b[38;5;21;01m.\u001b[39;00m\u001b[38;5;21;01mknown_duplicates\u001b[39;00m \u001b[38;5;28;01mimport\u001b[39;00m (find_duplicate_rates,\n\u001b[1;32m      9\u001b[0m                                                is_allowed_dupe)\n\u001b[0;32m---> 10\u001b[0m \u001b[38;5;28;01mfrom\u001b[39;00m \u001b[38;5;21;01mpynucastro\u001b[39;00m\u001b[38;5;21;01m.\u001b[39;00m\u001b[38;5;21;01mrates\u001b[39;00m\u001b[38;5;21;01m.\u001b[39;00m\u001b[38;5;21;01mrate\u001b[39;00m \u001b[38;5;28;01mimport\u001b[39;00m (DerivedRate, Rate, RateFileError,\n\u001b[1;32m     11\u001b[0m                                    ReacLibRate, TabularRate, _find_rate_file,\n\u001b[1;32m     12\u001b[0m                                    get_rates_dir, load_rate)\n\u001b[1;32m     15\u001b[0m \u001b[38;5;28;01mdef\u001b[39;00m \u001b[38;5;21mlist_known_rates\u001b[39m() \u001b[38;5;241m-\u001b[39m\u001b[38;5;241m>\u001b[39m \u001b[38;5;28;01mNone\u001b[39;00m:\n\u001b[1;32m     16\u001b[0m \u001b[38;5;250m    \u001b[39m\u001b[38;5;124;03m\"\"\" list the rates found in the library \"\"\"\u001b[39;00m\n",
      "File \u001b[0;32m/opt/hostedtoolcache/Python/3.11.10/x64/lib/python3.11/site-packages/pynucastro/rates/rate.py:313\u001b[0m\n\u001b[1;32m    309\u001b[0m         string \u001b[38;5;241m+\u001b[39m\u001b[38;5;241m=\u001b[39m \u001b[38;5;124m\"\u001b[39m\u001b[38;5;124m;\u001b[39m\u001b[38;5;124m\"\u001b[39m\n\u001b[1;32m    310\u001b[0m         \u001b[38;5;28;01mreturn\u001b[39;00m string\n\u001b[0;32m--> 313\u001b[0m \u001b[38;5;28;43;01mclass\u001b[39;49;00m\u001b[43m \u001b[49m\u001b[38;5;21;43;01mRate\u001b[39;49;00m\u001b[43m:\u001b[49m\n\u001b[1;32m    314\u001b[0m \u001b[38;5;250;43m    \u001b[39;49m\u001b[38;5;124;43;03m\"\"\"The base reaction rate class.  Most rate types will subclass\u001b[39;49;00m\n\u001b[1;32m    315\u001b[0m \u001b[38;5;124;43;03m    this and extend to their particular format.\u001b[39;49;00m\n\u001b[1;32m    316\u001b[0m \n\u001b[1;32m    317\u001b[0m \u001b[38;5;124;43;03m    \"\"\"\u001b[39;49;00m\n\u001b[1;32m    318\u001b[0m \u001b[43m    \u001b[49m\u001b[38;5;28;43;01mdef\u001b[39;49;00m\u001b[43m \u001b[49m\u001b[38;5;21;43m__init__\u001b[39;49m\u001b[43m(\u001b[49m\u001b[38;5;28;43mself\u001b[39;49m\u001b[43m,\u001b[49m\u001b[43m \u001b[49m\u001b[43mreactants\u001b[49m\u001b[43m:\u001b[49m\u001b[43m \u001b[49m\u001b[38;5;28;43mlist\u001b[39;49m\u001b[43m[\u001b[49m\u001b[38;5;28;43mstr\u001b[39;49m\u001b[43m]\u001b[49m\u001b[43m \u001b[49m\u001b[38;5;241;43m|\u001b[39;49m\u001b[43m \u001b[49m\u001b[38;5;28;43mlist\u001b[39;49m\u001b[43m[\u001b[49m\u001b[43mNucleus\u001b[49m\u001b[43m]\u001b[49m\u001b[43m \u001b[49m\u001b[38;5;241;43m=\u001b[39;49m\u001b[43m \u001b[49m\u001b[38;5;28;43;01mNone\u001b[39;49;00m\u001b[43m,\u001b[49m\n\u001b[1;32m    319\u001b[0m \u001b[43m                 \u001b[49m\u001b[43mproducts\u001b[49m\u001b[43m:\u001b[49m\u001b[43m \u001b[49m\u001b[38;5;28;43mlist\u001b[39;49m\u001b[43m[\u001b[49m\u001b[38;5;28;43mstr\u001b[39;49m\u001b[43m]\u001b[49m\u001b[43m \u001b[49m\u001b[38;5;241;43m|\u001b[39;49m\u001b[43m \u001b[49m\u001b[38;5;28;43mlist\u001b[39;49m\u001b[43m[\u001b[49m\u001b[43mNucleus\u001b[49m\u001b[43m]\u001b[49m\u001b[43m \u001b[49m\u001b[38;5;241;43m=\u001b[39;49m\u001b[43m \u001b[49m\u001b[38;5;28;43;01mNone\u001b[39;49;00m\u001b[43m,\u001b[49m\n\u001b[1;32m    320\u001b[0m \u001b[43m                 \u001b[49m\u001b[43mQ\u001b[49m\u001b[43m:\u001b[49m\u001b[43m \u001b[49m\u001b[38;5;28;43mfloat\u001b[39;49m\u001b[43m \u001b[49m\u001b[38;5;241;43m=\u001b[39;49m\u001b[43m \u001b[49m\u001b[38;5;28;43;01mNone\u001b[39;49;00m\u001b[43m,\u001b[49m\u001b[43m \u001b[49m\u001b[43mweak_type\u001b[49m\u001b[43m:\u001b[49m\u001b[43m \u001b[49m\u001b[38;5;28;43mstr\u001b[39;49m\u001b[43m \u001b[49m\u001b[38;5;241;43m=\u001b[39;49m\u001b[43m \u001b[49m\u001b[38;5;124;43m\"\u001b[39;49m\u001b[38;5;124;43m\"\u001b[39;49m\u001b[43m,\u001b[49m\n\u001b[1;32m    321\u001b[0m \u001b[43m                 \u001b[49m\u001b[43mlabel\u001b[49m\u001b[43m:\u001b[49m\u001b[43m \u001b[49m\u001b[38;5;28;43mstr\u001b[39;49m\u001b[43m \u001b[49m\u001b[38;5;241;43m=\u001b[39;49m\u001b[43m \u001b[49m\u001b[38;5;124;43m\"\u001b[39;49m\u001b[38;5;124;43mgeneric\u001b[39;49m\u001b[38;5;124;43m\"\u001b[39;49m\u001b[43m)\u001b[49m\u001b[43m \u001b[49m\u001b[38;5;241;43m-\u001b[39;49m\u001b[38;5;241;43m>\u001b[39;49m\u001b[43m \u001b[49m\u001b[38;5;28;43;01mNone\u001b[39;49;00m\u001b[43m:\u001b[49m\n",
      "File \u001b[0;32m/opt/hostedtoolcache/Python/3.11.10/x64/lib/python3.11/site-packages/pynucastro/rates/rate.py:620\u001b[0m, in \u001b[0;36mRate\u001b[0;34m()\u001b[0m\n\u001b[1;32m    617\u001b[0m             nuc \u001b[38;5;241m=\u001b[39m n\n\u001b[1;32m    618\u001b[0m     \u001b[38;5;28;01mreturn\u001b[39;00m nuc\n\u001b[0;32m--> 620\u001b[0m \u001b[38;5;28;01mdef\u001b[39;00m \u001b[38;5;21mydot_string_py\u001b[39m(\u001b[38;5;28mself\u001b[39m) \u001b[38;5;241m-\u001b[39m\u001b[38;5;241m>\u001b[39m \u001b[43mwarnings\u001b[49m\u001b[38;5;241;43m.\u001b[39;49m\u001b[43mLiteralString\u001b[49m:\n\u001b[1;32m    621\u001b[0m \u001b[38;5;250m    \u001b[39m\u001b[38;5;124;03m\"\"\"\u001b[39;00m\n\u001b[1;32m    622\u001b[0m \u001b[38;5;124;03m    Return a string containing the term in a dY/dt equation\u001b[39;00m\n\u001b[1;32m    623\u001b[0m \u001b[38;5;124;03m    in a reaction network corresponding to this rate.\u001b[39;00m\n\u001b[1;32m    624\u001b[0m \u001b[38;5;124;03m    \"\"\"\u001b[39;00m\n\u001b[1;32m    626\u001b[0m     ydot_string_components \u001b[38;5;241m=\u001b[39m []\n",
      "\u001b[0;31mAttributeError\u001b[0m: module 'warnings' has no attribute 'LiteralString'"
     ]
    }
   ],
   "source": [
    "import pynucastro as pyna"
   ]
  },
  {
   "cell_type": "markdown",
   "id": "a7417e8c-9a5a-488d-a74c-b0b06668a2bd",
   "metadata": {},
   "source": [
    "## Comparison of ${}^{12}\\mathrm{C}(\\alpha, \\gamma){}^{16}\\mathrm{O}$"
   ]
  },
  {
   "cell_type": "markdown",
   "id": "ce350a97-7b40-46fb-a78b-8c81b304f882",
   "metadata": {
    "editable": true,
    "slideshow": {
     "slide_type": ""
    },
    "tags": []
   },
   "source": [
    "Here we compare the ReacLib and deBoer versions of ${}^{12}\\mathrm{C}(\\alpha, \\gamma){}^{16}\\mathrm{O}$."
   ]
  },
  {
   "cell_type": "markdown",
   "id": "3c70c775-3f51-4de1-a425-b00373e84791",
   "metadata": {},
   "source": [
    "First get the ReacLib version"
   ]
  },
  {
   "cell_type": "code",
   "execution_count": 2,
   "id": "478bebaf-3ece-47c0-9b45-e5ca74a7cedb",
   "metadata": {
    "execution": {
     "iopub.execute_input": "2024-10-17T07:05:39.073142Z",
     "iopub.status.busy": "2024-10-17T07:05:39.072668Z",
     "iopub.status.idle": "2024-10-17T07:05:39.085488Z",
     "shell.execute_reply": "2024-10-17T07:05:39.084913Z"
    }
   },
   "outputs": [
    {
     "ename": "NameError",
     "evalue": "name 'pyna' is not defined",
     "output_type": "error",
     "traceback": [
      "\u001b[0;31m---------------------------------------------------------------------------\u001b[0m",
      "\u001b[0;31mNameError\u001b[0m                                 Traceback (most recent call last)",
      "Cell \u001b[0;32mIn[2], line 1\u001b[0m\n\u001b[0;32m----> 1\u001b[0m rl \u001b[38;5;241m=\u001b[39m \u001b[43mpyna\u001b[49m\u001b[38;5;241m.\u001b[39mReacLibLibrary()\n\u001b[1;32m      2\u001b[0m c12_rl \u001b[38;5;241m=\u001b[39m rl\u001b[38;5;241m.\u001b[39mget_rate_by_name(\u001b[38;5;124m\"\u001b[39m\u001b[38;5;124mc12(a,g)o16\u001b[39m\u001b[38;5;124m\"\u001b[39m)\n",
      "\u001b[0;31mNameError\u001b[0m: name 'pyna' is not defined"
     ]
    }
   ],
   "source": [
    "rl = pyna.ReacLibLibrary()\n",
    "c12_rl = rl.get_rate_by_name(\"c12(a,g)o16\")"
   ]
  },
  {
   "cell_type": "markdown",
   "id": "cc323c16-fe44-476c-a9bb-64abe489ac57",
   "metadata": {},
   "source": [
    "Now the DeBoer version:"
   ]
  },
  {
   "cell_type": "code",
   "execution_count": 3,
   "id": "0c207679-c0c6-4afe-89e7-2b93d833a51b",
   "metadata": {
    "execution": {
     "iopub.execute_input": "2024-10-17T07:05:39.087133Z",
     "iopub.status.busy": "2024-10-17T07:05:39.086975Z",
     "iopub.status.idle": "2024-10-17T07:05:39.385081Z",
     "shell.execute_reply": "2024-10-17T07:05:39.384475Z"
    }
   },
   "outputs": [
    {
     "ename": "AttributeError",
     "evalue": "module 'warnings' has no attribute 'LiteralString'",
     "output_type": "error",
     "traceback": [
      "\u001b[0;31m---------------------------------------------------------------------------\u001b[0m",
      "\u001b[0;31mAttributeError\u001b[0m                            Traceback (most recent call last)",
      "Cell \u001b[0;32mIn[3], line 1\u001b[0m\n\u001b[0;32m----> 1\u001b[0m \u001b[38;5;28;01mfrom\u001b[39;00m \u001b[38;5;21;01mpynucastro\u001b[39;00m\u001b[38;5;21;01m.\u001b[39;00m\u001b[38;5;21;01mrates\u001b[39;00m\u001b[38;5;21;01m.\u001b[39;00m\u001b[38;5;21;01malternate_rates\u001b[39;00m \u001b[38;5;28;01mimport\u001b[39;00m DeBoerC12agO16\n\u001b[1;32m      2\u001b[0m c12_deboer \u001b[38;5;241m=\u001b[39m DeBoerC12agO16()\n",
      "File \u001b[0;32m/opt/hostedtoolcache/Python/3.11.10/x64/lib/python3.11/site-packages/pynucastro/__init__.py:131\u001b[0m\n\u001b[1;32m    126\u001b[0m \u001b[38;5;28;01mfrom\u001b[39;00m \u001b[38;5;21;01m.\u001b[39;00m\u001b[38;5;21;01m_version\u001b[39;00m \u001b[38;5;28;01mimport\u001b[39;00m version\n\u001b[1;32m    128\u001b[0m __version__ \u001b[38;5;241m=\u001b[39m version\n\u001b[0;32m--> 131\u001b[0m \u001b[38;5;28;01mimport\u001b[39;00m \u001b[38;5;21;01mpynucastro\u001b[39;00m\u001b[38;5;21;01m.\u001b[39;00m\u001b[38;5;21;01mscreening\u001b[39;00m\n\u001b[1;32m    132\u001b[0m \u001b[38;5;28;01mfrom\u001b[39;00m \u001b[38;5;21;01mpynucastro\u001b[39;00m\u001b[38;5;21;01m.\u001b[39;00m\u001b[38;5;21;01mnetworks\u001b[39;00m \u001b[38;5;28;01mimport\u001b[39;00m (AmrexAstroCxxNetwork, BaseCxxNetwork,\n\u001b[1;32m    133\u001b[0m                                  Composition, Explorer, NSENetwork,\n\u001b[1;32m    134\u001b[0m                                  NumpyNetwork, PythonNetwork, RateCollection,\n\u001b[1;32m    135\u001b[0m                                  SimpleCxxNetwork, StarKillerCxxNetwork,\n\u001b[1;32m    136\u001b[0m                                  SympyRates)\n\u001b[1;32m    137\u001b[0m \u001b[38;5;28;01mfrom\u001b[39;00m \u001b[38;5;21;01mpynucastro\u001b[39;00m\u001b[38;5;21;01m.\u001b[39;00m\u001b[38;5;21;01mnucdata\u001b[39;00m \u001b[38;5;28;01mimport\u001b[39;00m Nucleus, get_all_nuclei, get_nuclei_in_range\n",
      "File \u001b[0;32m/opt/hostedtoolcache/Python/3.11.10/x64/lib/python3.11/site-packages/pynucastro/screening/__init__.py:5\u001b[0m\n\u001b[1;32m      1\u001b[0m \u001b[38;5;124;03m\"\"\"Screening routines\"\"\"\u001b[39;00m\n\u001b[1;32m      3\u001b[0m __all__ \u001b[38;5;241m=\u001b[39m [\u001b[38;5;124m\"\u001b[39m\u001b[38;5;124mscreen\u001b[39m\u001b[38;5;124m\"\u001b[39m, \u001b[38;5;124m\"\u001b[39m\u001b[38;5;124mscreening_util\u001b[39m\u001b[38;5;124m\"\u001b[39m]\n\u001b[0;32m----> 5\u001b[0m \u001b[38;5;28;01mfrom\u001b[39;00m \u001b[38;5;21;01m.\u001b[39;00m\u001b[38;5;21;01mscreen\u001b[39;00m \u001b[38;5;28;01mimport\u001b[39;00m (NseState, PlasmaState, ScreenFactors, chugunov_2007,\n\u001b[1;32m      6\u001b[0m                      chugunov_2009, make_plasma_state, make_screen_factors,\n\u001b[1;32m      7\u001b[0m                      potekhin_1998, screen5)\n\u001b[1;32m      8\u001b[0m \u001b[38;5;28;01mfrom\u001b[39;00m \u001b[38;5;21;01m.\u001b[39;00m\u001b[38;5;21;01mscreening_util\u001b[39;00m \u001b[38;5;28;01mimport\u001b[39;00m ScreeningPair, get_screening_map\n",
      "File \u001b[0;32m/opt/hostedtoolcache/Python/3.11.10/x64/lib/python3.11/site-packages/pynucastro/screening/screen.py:9\u001b[0m\n\u001b[1;32m      7\u001b[0m \u001b[38;5;28;01mfrom\u001b[39;00m \u001b[38;5;21;01mpynucastro\u001b[39;00m\u001b[38;5;21;01m.\u001b[39;00m\u001b[38;5;21;01mnucdata\u001b[39;00m \u001b[38;5;28;01mimport\u001b[39;00m Nucleus\n\u001b[1;32m      8\u001b[0m \u001b[38;5;66;03m# use the jitclass placeholder from rate.py\u001b[39;00m\n\u001b[0;32m----> 9\u001b[0m \u001b[38;5;28;01mfrom\u001b[39;00m \u001b[38;5;21;01mpynucastro\u001b[39;00m\u001b[38;5;21;01m.\u001b[39;00m\u001b[38;5;21;01mrates\u001b[39;00m\u001b[38;5;21;01m.\u001b[39;00m\u001b[38;5;21;01mrate\u001b[39;00m \u001b[38;5;28;01mimport\u001b[39;00m jitclass, numba\n\u001b[1;32m     11\u001b[0m \u001b[38;5;28;01mif\u001b[39;00m numba \u001b[38;5;129;01mis\u001b[39;00m \u001b[38;5;129;01mnot\u001b[39;00m \u001b[38;5;28;01mNone\u001b[39;00m:\n\u001b[1;32m     12\u001b[0m     njit \u001b[38;5;241m=\u001b[39m numba\u001b[38;5;241m.\u001b[39mnjit\n",
      "File \u001b[0;32m/opt/hostedtoolcache/Python/3.11.10/x64/lib/python3.11/site-packages/pynucastro/rates/__init__.py:6\u001b[0m\n\u001b[1;32m      3\u001b[0m __all__ \u001b[38;5;241m=\u001b[39m [\u001b[38;5;124m\"\u001b[39m\u001b[38;5;124mrate\u001b[39m\u001b[38;5;124m\"\u001b[39m, \u001b[38;5;124m\"\u001b[39m\u001b[38;5;124mlibrary\u001b[39m\u001b[38;5;124m\"\u001b[39m]\n\u001b[1;32m      5\u001b[0m \u001b[38;5;28;01mfrom\u001b[39;00m \u001b[38;5;21;01m.\u001b[39;00m\u001b[38;5;21;01mknown_duplicates\u001b[39;00m \u001b[38;5;28;01mimport\u001b[39;00m find_duplicate_rates, is_allowed_dupe\n\u001b[0;32m----> 6\u001b[0m \u001b[38;5;28;01mfrom\u001b[39;00m \u001b[38;5;21;01m.\u001b[39;00m\u001b[38;5;21;01mlibrary\u001b[39;00m \u001b[38;5;28;01mimport\u001b[39;00m (LangankeLibrary, Library, RateFilter, ReacLibLibrary,\n\u001b[1;32m      7\u001b[0m                       SuzukiLibrary, TabularLibrary, list_known_rates)\n\u001b[1;32m      8\u001b[0m \u001b[38;5;28;01mfrom\u001b[39;00m \u001b[38;5;21;01m.\u001b[39;00m\u001b[38;5;21;01mrate\u001b[39;00m \u001b[38;5;28;01mimport\u001b[39;00m (ApproximateRate, DerivedRate, Rate, RateFileError, RatePair,\n\u001b[1;32m      9\u001b[0m                    ReacLibRate, SingleSet, TableIndex, TableInterpolator,\n\u001b[1;32m     10\u001b[0m                    TabularRate, Tfactors, _find_rate_file, load_rate)\n",
      "File \u001b[0;32m/opt/hostedtoolcache/Python/3.11.10/x64/lib/python3.11/site-packages/pynucastro/rates/library.py:10\u001b[0m\n\u001b[1;32m      7\u001b[0m \u001b[38;5;28;01mfrom\u001b[39;00m \u001b[38;5;21;01mpynucastro\u001b[39;00m\u001b[38;5;21;01m.\u001b[39;00m\u001b[38;5;21;01mnucdata\u001b[39;00m \u001b[38;5;28;01mimport\u001b[39;00m Nucleus, UnsupportedNucleus\n\u001b[1;32m      8\u001b[0m \u001b[38;5;28;01mfrom\u001b[39;00m \u001b[38;5;21;01mpynucastro\u001b[39;00m\u001b[38;5;21;01m.\u001b[39;00m\u001b[38;5;21;01mrates\u001b[39;00m\u001b[38;5;21;01m.\u001b[39;00m\u001b[38;5;21;01mknown_duplicates\u001b[39;00m \u001b[38;5;28;01mimport\u001b[39;00m (find_duplicate_rates,\n\u001b[1;32m      9\u001b[0m                                                is_allowed_dupe)\n\u001b[0;32m---> 10\u001b[0m \u001b[38;5;28;01mfrom\u001b[39;00m \u001b[38;5;21;01mpynucastro\u001b[39;00m\u001b[38;5;21;01m.\u001b[39;00m\u001b[38;5;21;01mrates\u001b[39;00m\u001b[38;5;21;01m.\u001b[39;00m\u001b[38;5;21;01mrate\u001b[39;00m \u001b[38;5;28;01mimport\u001b[39;00m (DerivedRate, Rate, RateFileError,\n\u001b[1;32m     11\u001b[0m                                    ReacLibRate, TabularRate, _find_rate_file,\n\u001b[1;32m     12\u001b[0m                                    get_rates_dir, load_rate)\n\u001b[1;32m     15\u001b[0m \u001b[38;5;28;01mdef\u001b[39;00m \u001b[38;5;21mlist_known_rates\u001b[39m() \u001b[38;5;241m-\u001b[39m\u001b[38;5;241m>\u001b[39m \u001b[38;5;28;01mNone\u001b[39;00m:\n\u001b[1;32m     16\u001b[0m \u001b[38;5;250m    \u001b[39m\u001b[38;5;124;03m\"\"\" list the rates found in the library \"\"\"\u001b[39;00m\n",
      "File \u001b[0;32m/opt/hostedtoolcache/Python/3.11.10/x64/lib/python3.11/site-packages/pynucastro/rates/rate.py:313\u001b[0m\n\u001b[1;32m    309\u001b[0m         string \u001b[38;5;241m+\u001b[39m\u001b[38;5;241m=\u001b[39m \u001b[38;5;124m\"\u001b[39m\u001b[38;5;124m;\u001b[39m\u001b[38;5;124m\"\u001b[39m\n\u001b[1;32m    310\u001b[0m         \u001b[38;5;28;01mreturn\u001b[39;00m string\n\u001b[0;32m--> 313\u001b[0m \u001b[38;5;28;43;01mclass\u001b[39;49;00m\u001b[43m \u001b[49m\u001b[38;5;21;43;01mRate\u001b[39;49;00m\u001b[43m:\u001b[49m\n\u001b[1;32m    314\u001b[0m \u001b[38;5;250;43m    \u001b[39;49m\u001b[38;5;124;43;03m\"\"\"The base reaction rate class.  Most rate types will subclass\u001b[39;49;00m\n\u001b[1;32m    315\u001b[0m \u001b[38;5;124;43;03m    this and extend to their particular format.\u001b[39;49;00m\n\u001b[1;32m    316\u001b[0m \n\u001b[1;32m    317\u001b[0m \u001b[38;5;124;43;03m    \"\"\"\u001b[39;49;00m\n\u001b[1;32m    318\u001b[0m \u001b[43m    \u001b[49m\u001b[38;5;28;43;01mdef\u001b[39;49;00m\u001b[43m \u001b[49m\u001b[38;5;21;43m__init__\u001b[39;49m\u001b[43m(\u001b[49m\u001b[38;5;28;43mself\u001b[39;49m\u001b[43m,\u001b[49m\u001b[43m \u001b[49m\u001b[43mreactants\u001b[49m\u001b[43m:\u001b[49m\u001b[43m \u001b[49m\u001b[38;5;28;43mlist\u001b[39;49m\u001b[43m[\u001b[49m\u001b[38;5;28;43mstr\u001b[39;49m\u001b[43m]\u001b[49m\u001b[43m \u001b[49m\u001b[38;5;241;43m|\u001b[39;49m\u001b[43m \u001b[49m\u001b[38;5;28;43mlist\u001b[39;49m\u001b[43m[\u001b[49m\u001b[43mNucleus\u001b[49m\u001b[43m]\u001b[49m\u001b[43m \u001b[49m\u001b[38;5;241;43m=\u001b[39;49m\u001b[43m \u001b[49m\u001b[38;5;28;43;01mNone\u001b[39;49;00m\u001b[43m,\u001b[49m\n\u001b[1;32m    319\u001b[0m \u001b[43m                 \u001b[49m\u001b[43mproducts\u001b[49m\u001b[43m:\u001b[49m\u001b[43m \u001b[49m\u001b[38;5;28;43mlist\u001b[39;49m\u001b[43m[\u001b[49m\u001b[38;5;28;43mstr\u001b[39;49m\u001b[43m]\u001b[49m\u001b[43m \u001b[49m\u001b[38;5;241;43m|\u001b[39;49m\u001b[43m \u001b[49m\u001b[38;5;28;43mlist\u001b[39;49m\u001b[43m[\u001b[49m\u001b[43mNucleus\u001b[49m\u001b[43m]\u001b[49m\u001b[43m \u001b[49m\u001b[38;5;241;43m=\u001b[39;49m\u001b[43m \u001b[49m\u001b[38;5;28;43;01mNone\u001b[39;49;00m\u001b[43m,\u001b[49m\n\u001b[1;32m    320\u001b[0m \u001b[43m                 \u001b[49m\u001b[43mQ\u001b[49m\u001b[43m:\u001b[49m\u001b[43m \u001b[49m\u001b[38;5;28;43mfloat\u001b[39;49m\u001b[43m \u001b[49m\u001b[38;5;241;43m=\u001b[39;49m\u001b[43m \u001b[49m\u001b[38;5;28;43;01mNone\u001b[39;49;00m\u001b[43m,\u001b[49m\u001b[43m \u001b[49m\u001b[43mweak_type\u001b[49m\u001b[43m:\u001b[49m\u001b[43m \u001b[49m\u001b[38;5;28;43mstr\u001b[39;49m\u001b[43m \u001b[49m\u001b[38;5;241;43m=\u001b[39;49m\u001b[43m \u001b[49m\u001b[38;5;124;43m\"\u001b[39;49m\u001b[38;5;124;43m\"\u001b[39;49m\u001b[43m,\u001b[49m\n\u001b[1;32m    321\u001b[0m \u001b[43m                 \u001b[49m\u001b[43mlabel\u001b[49m\u001b[43m:\u001b[49m\u001b[43m \u001b[49m\u001b[38;5;28;43mstr\u001b[39;49m\u001b[43m \u001b[49m\u001b[38;5;241;43m=\u001b[39;49m\u001b[43m \u001b[49m\u001b[38;5;124;43m\"\u001b[39;49m\u001b[38;5;124;43mgeneric\u001b[39;49m\u001b[38;5;124;43m\"\u001b[39;49m\u001b[43m)\u001b[49m\u001b[43m \u001b[49m\u001b[38;5;241;43m-\u001b[39;49m\u001b[38;5;241;43m>\u001b[39;49m\u001b[43m \u001b[49m\u001b[38;5;28;43;01mNone\u001b[39;49;00m\u001b[43m:\u001b[49m\n",
      "File \u001b[0;32m/opt/hostedtoolcache/Python/3.11.10/x64/lib/python3.11/site-packages/pynucastro/rates/rate.py:620\u001b[0m, in \u001b[0;36mRate\u001b[0;34m()\u001b[0m\n\u001b[1;32m    617\u001b[0m             nuc \u001b[38;5;241m=\u001b[39m n\n\u001b[1;32m    618\u001b[0m     \u001b[38;5;28;01mreturn\u001b[39;00m nuc\n\u001b[0;32m--> 620\u001b[0m \u001b[38;5;28;01mdef\u001b[39;00m \u001b[38;5;21mydot_string_py\u001b[39m(\u001b[38;5;28mself\u001b[39m) \u001b[38;5;241m-\u001b[39m\u001b[38;5;241m>\u001b[39m \u001b[43mwarnings\u001b[49m\u001b[38;5;241;43m.\u001b[39;49m\u001b[43mLiteralString\u001b[49m:\n\u001b[1;32m    621\u001b[0m \u001b[38;5;250m    \u001b[39m\u001b[38;5;124;03m\"\"\"\u001b[39;00m\n\u001b[1;32m    622\u001b[0m \u001b[38;5;124;03m    Return a string containing the term in a dY/dt equation\u001b[39;00m\n\u001b[1;32m    623\u001b[0m \u001b[38;5;124;03m    in a reaction network corresponding to this rate.\u001b[39;00m\n\u001b[1;32m    624\u001b[0m \u001b[38;5;124;03m    \"\"\"\u001b[39;00m\n\u001b[1;32m    626\u001b[0m     ydot_string_components \u001b[38;5;241m=\u001b[39m []\n",
      "\u001b[0;31mAttributeError\u001b[0m: module 'warnings' has no attribute 'LiteralString'"
     ]
    }
   ],
   "source": [
    "from pynucastro.rates.alternate_rates import DeBoerC12agO16\n",
    "c12_deboer = DeBoerC12agO16()"
   ]
  },
  {
   "cell_type": "markdown",
   "id": "ed9620bb-dcd2-44d0-addf-c11a8e6fb130",
   "metadata": {},
   "source": [
    "Note that since DeBoer et al. 2012 give the new rate as a parameterization in the ReacLib form, this new rate just subclasses\n",
    "`ReacLibRate`"
   ]
  },
  {
   "cell_type": "code",
   "execution_count": 4,
   "id": "a8e21563-9e67-47a6-946a-eb92c3d883ed",
   "metadata": {
    "execution": {
     "iopub.execute_input": "2024-10-17T07:05:39.386804Z",
     "iopub.status.busy": "2024-10-17T07:05:39.386474Z",
     "iopub.status.idle": "2024-10-17T07:05:39.397477Z",
     "shell.execute_reply": "2024-10-17T07:05:39.396946Z"
    }
   },
   "outputs": [
    {
     "ename": "NameError",
     "evalue": "name 'DeBoerC12agO16' is not defined",
     "output_type": "error",
     "traceback": [
      "\u001b[0;31m---------------------------------------------------------------------------\u001b[0m",
      "\u001b[0;31mNameError\u001b[0m                                 Traceback (most recent call last)",
      "Cell \u001b[0;32mIn[4], line 1\u001b[0m\n\u001b[0;32m----> 1\u001b[0m \u001b[43mDeBoerC12agO16\u001b[49m\u001b[38;5;241m.\u001b[39m__base__\n",
      "\u001b[0;31mNameError\u001b[0m: name 'DeBoerC12agO16' is not defined"
     ]
    }
   ],
   "source": [
    "DeBoerC12agO16.__base__"
   ]
  },
  {
   "cell_type": "markdown",
   "id": "a15ccbe6-8c57-40a7-a025-0f835752feb6",
   "metadata": {},
   "source": [
    "Let's plot a comparison of the rates"
   ]
  },
  {
   "cell_type": "code",
   "execution_count": 5,
   "id": "df557ec7-a75e-4143-a1f1-c3e9938b528a",
   "metadata": {
    "execution": {
     "iopub.execute_input": "2024-10-17T07:05:39.399166Z",
     "iopub.status.busy": "2024-10-17T07:05:39.398860Z",
     "iopub.status.idle": "2024-10-17T07:05:39.401257Z",
     "shell.execute_reply": "2024-10-17T07:05:39.400834Z"
    }
   },
   "outputs": [],
   "source": [
    "import numpy as np\n",
    "import matplotlib.pyplot as plt"
   ]
  },
  {
   "cell_type": "code",
   "execution_count": 6,
   "id": "3bcefccb-e3f9-4d7a-a57c-15aa90c1d50e",
   "metadata": {
    "editable": true,
    "execution": {
     "iopub.execute_input": "2024-10-17T07:05:39.402871Z",
     "iopub.status.busy": "2024-10-17T07:05:39.402540Z",
     "iopub.status.idle": "2024-10-17T07:05:39.419745Z",
     "shell.execute_reply": "2024-10-17T07:05:39.419292Z"
    },
    "slideshow": {
     "slide_type": ""
    },
    "tags": []
   },
   "outputs": [
    {
     "ename": "NameError",
     "evalue": "name 'c12_rl' is not defined",
     "output_type": "error",
     "traceback": [
      "\u001b[0;31m---------------------------------------------------------------------------\u001b[0m",
      "\u001b[0;31mNameError\u001b[0m                                 Traceback (most recent call last)",
      "Cell \u001b[0;32mIn[6], line 3\u001b[0m\n\u001b[1;32m      1\u001b[0m Ts \u001b[38;5;241m=\u001b[39m np\u001b[38;5;241m.\u001b[39mlogspace(\u001b[38;5;241m7.5\u001b[39m, \u001b[38;5;241m9.5\u001b[39m, \u001b[38;5;241m100\u001b[39m)\n\u001b[0;32m----> 3\u001b[0m r_rl \u001b[38;5;241m=\u001b[39m np\u001b[38;5;241m.\u001b[39marray(\u001b[43m[\u001b[49m\u001b[43mc12_rl\u001b[49m\u001b[38;5;241;43m.\u001b[39;49m\u001b[43meval\u001b[49m\u001b[43m(\u001b[49m\u001b[43mT\u001b[49m\u001b[43m)\u001b[49m\u001b[43m \u001b[49m\u001b[38;5;28;43;01mfor\u001b[39;49;00m\u001b[43m \u001b[49m\u001b[43mT\u001b[49m\u001b[43m \u001b[49m\u001b[38;5;129;43;01min\u001b[39;49;00m\u001b[43m \u001b[49m\u001b[43mTs\u001b[49m\u001b[43m]\u001b[49m)\n\u001b[1;32m      4\u001b[0m r_deboer \u001b[38;5;241m=\u001b[39m np\u001b[38;5;241m.\u001b[39marray([c12_deboer\u001b[38;5;241m.\u001b[39meval(T) \u001b[38;5;28;01mfor\u001b[39;00m T \u001b[38;5;129;01min\u001b[39;00m Ts])\n",
      "Cell \u001b[0;32mIn[6], line 3\u001b[0m, in \u001b[0;36m<listcomp>\u001b[0;34m(.0)\u001b[0m\n\u001b[1;32m      1\u001b[0m Ts \u001b[38;5;241m=\u001b[39m np\u001b[38;5;241m.\u001b[39mlogspace(\u001b[38;5;241m7.5\u001b[39m, \u001b[38;5;241m9.5\u001b[39m, \u001b[38;5;241m100\u001b[39m)\n\u001b[0;32m----> 3\u001b[0m r_rl \u001b[38;5;241m=\u001b[39m np\u001b[38;5;241m.\u001b[39marray([\u001b[43mc12_rl\u001b[49m\u001b[38;5;241m.\u001b[39meval(T) \u001b[38;5;28;01mfor\u001b[39;00m T \u001b[38;5;129;01min\u001b[39;00m Ts])\n\u001b[1;32m      4\u001b[0m r_deboer \u001b[38;5;241m=\u001b[39m np\u001b[38;5;241m.\u001b[39marray([c12_deboer\u001b[38;5;241m.\u001b[39meval(T) \u001b[38;5;28;01mfor\u001b[39;00m T \u001b[38;5;129;01min\u001b[39;00m Ts])\n",
      "\u001b[0;31mNameError\u001b[0m: name 'c12_rl' is not defined"
     ]
    }
   ],
   "source": [
    "Ts = np.logspace(7.5, 9.5, 100)\n",
    "\n",
    "r_rl = np.array([c12_rl.eval(T) for T in Ts])\n",
    "r_deboer = np.array([c12_deboer.eval(T) for T in Ts])"
   ]
  },
  {
   "cell_type": "code",
   "execution_count": 7,
   "id": "2d7ba5bf-d5e0-46a8-9cb3-908db3f30e35",
   "metadata": {
    "editable": true,
    "execution": {
     "iopub.execute_input": "2024-10-17T07:05:39.421389Z",
     "iopub.status.busy": "2024-10-17T07:05:39.421074Z",
     "iopub.status.idle": "2024-10-17T07:05:39.512302Z",
     "shell.execute_reply": "2024-10-17T07:05:39.511838Z"
    },
    "slideshow": {
     "slide_type": ""
    },
    "tags": [
     "nbval-ignore-output"
    ]
   },
   "outputs": [
    {
     "ename": "NameError",
     "evalue": "name 'r_rl' is not defined",
     "output_type": "error",
     "traceback": [
      "\u001b[0;31m---------------------------------------------------------------------------\u001b[0m",
      "\u001b[0;31mNameError\u001b[0m                                 Traceback (most recent call last)",
      "Cell \u001b[0;32mIn[7], line 2\u001b[0m\n\u001b[1;32m      1\u001b[0m fig, ax \u001b[38;5;241m=\u001b[39m plt\u001b[38;5;241m.\u001b[39msubplots()\n\u001b[0;32m----> 2\u001b[0m ax\u001b[38;5;241m.\u001b[39mloglog(Ts, \u001b[43mr_rl\u001b[49m, label\u001b[38;5;241m=\u001b[39m\u001b[38;5;124m\"\u001b[39m\u001b[38;5;124mReacLib\u001b[39m\u001b[38;5;124m\"\u001b[39m)\n\u001b[1;32m      3\u001b[0m ax\u001b[38;5;241m.\u001b[39mloglog(Ts, r_deboer, label\u001b[38;5;241m=\u001b[39m\u001b[38;5;124m\"\u001b[39m\u001b[38;5;124mdeBoer\u001b[39m\u001b[38;5;124m\"\u001b[39m)\n\u001b[1;32m      4\u001b[0m ax\u001b[38;5;241m.\u001b[39mset_xlabel(\u001b[38;5;124m\"\u001b[39m\u001b[38;5;124mT\u001b[39m\u001b[38;5;124m\"\u001b[39m)\n",
      "\u001b[0;31mNameError\u001b[0m: name 'r_rl' is not defined"
     ]
    },
    {
     "data": {
      "image/png": "[encoded data removed]",
      "text/plain": [
       "<Figure size 640x480 with 1 Axes>"
      ]
     },
     "metadata": {},
     "output_type": "display_data"
    }
   ],
   "source": [
    "fig, ax = plt.subplots()\n",
    "ax.loglog(Ts, r_rl, label=\"ReacLib\")\n",
    "ax.loglog(Ts, r_deboer, label=\"deBoer\")\n",
    "ax.set_xlabel(\"T\")\n",
    "ax.set_ylabel(r\"$N_A\\langle \\sigma v\\rangle$\")\n",
    "ax.legend()"
   ]
  },
  {
   "cell_type": "markdown",
   "id": "3e9fe5b4-4e73-41db-8f0b-929400e3917a",
   "metadata": {
    "editable": true,
    "slideshow": {
     "slide_type": ""
    },
    "tags": []
   },
   "source": [
    "Here's the relative difference"
   ]
  },
  {
   "cell_type": "code",
   "execution_count": 8,
   "id": "82773ed1-43eb-45f6-9d0d-b571a0ae72b8",
   "metadata": {
    "editable": true,
    "execution": {
     "iopub.execute_input": "2024-10-17T07:05:39.514002Z",
     "iopub.status.busy": "2024-10-17T07:05:39.513667Z",
     "iopub.status.idle": "2024-10-17T07:05:39.594481Z",
     "shell.execute_reply": "2024-10-17T07:05:39.593883Z"
    },
    "slideshow": {
     "slide_type": ""
    },
    "tags": [
     "nbval-ignore-output"
    ]
   },
   "outputs": [
    {
     "ename": "NameError",
     "evalue": "name 'r_rl' is not defined",
     "output_type": "error",
     "traceback": [
      "\u001b[0;31m---------------------------------------------------------------------------\u001b[0m",
      "\u001b[0;31mNameError\u001b[0m                                 Traceback (most recent call last)",
      "Cell \u001b[0;32mIn[8], line 2\u001b[0m\n\u001b[1;32m      1\u001b[0m fig, ax \u001b[38;5;241m=\u001b[39m plt\u001b[38;5;241m.\u001b[39msubplots()\n\u001b[0;32m----> 2\u001b[0m ax\u001b[38;5;241m.\u001b[39mloglog(Ts, np\u001b[38;5;241m.\u001b[39mabs((\u001b[43mr_rl\u001b[49m \u001b[38;5;241m-\u001b[39m r_deboer) \u001b[38;5;241m/\u001b[39m r_rl))\n\u001b[1;32m      3\u001b[0m ax\u001b[38;5;241m.\u001b[39mset_xlabel(\u001b[38;5;124m\"\u001b[39m\u001b[38;5;124mT\u001b[39m\u001b[38;5;124m\"\u001b[39m)\n\u001b[1;32m      4\u001b[0m ax\u001b[38;5;241m.\u001b[39mset_ylabel(\u001b[38;5;124mr\u001b[39m\u001b[38;5;124m\"\u001b[39m\u001b[38;5;124mrelative difference\u001b[39m\u001b[38;5;124m\"\u001b[39m)\n",
      "\u001b[0;31mNameError\u001b[0m: name 'r_rl' is not defined"
     ]
    },
    {
     "data": {
      "image/png": "[encoded data removed]",
      "text/plain": [
       "<Figure size 640x480 with 1 Axes>"
      ]
     },
     "metadata": {},
     "output_type": "display_data"
    }
   ],
   "source": [
    "fig, ax = plt.subplots()\n",
    "ax.loglog(Ts, np.abs((r_rl - r_deboer) / r_rl))\n",
    "ax.set_xlabel(\"T\")\n",
    "ax.set_ylabel(r\"relative difference\")\n",
    "ax.grid(ls=\":\")"
   ]
  },
  {
   "cell_type": "markdown",
   "id": "67513457-6fe6-4527-aeea-4ecdf4313d02",
   "metadata": {
    "editable": true,
    "slideshow": {
     "slide_type": ""
    },
    "tags": []
   },
   "source": [
    "## Using alternate rates in a network"
   ]
  },
  {
   "cell_type": "markdown",
   "id": "7978a7c5-af12-4d83-b637-a218936c479f",
   "metadata": {
    "editable": true,
    "slideshow": {
     "slide_type": ""
    },
    "tags": []
   },
   "source": [
    "To create a network with this rate, we can swap it in for the ReacLib version when we create a library.\n",
    "Here's a simple He-burning network."
   ]
  },
  {
   "cell_type": "code",
   "execution_count": 9,
   "id": "b8c4fdf0-8652-43b3-a327-e414e857cbff",
   "metadata": {
    "editable": true,
    "execution": {
     "iopub.execute_input": "2024-10-17T07:05:39.596275Z",
     "iopub.status.busy": "2024-10-17T07:05:39.596097Z",
     "iopub.status.idle": "2024-10-17T07:05:39.608123Z",
     "shell.execute_reply": "2024-10-17T07:05:39.607469Z"
    },
    "slideshow": {
     "slide_type": ""
    },
    "tags": []
   },
   "outputs": [
    {
     "ename": "NameError",
     "evalue": "name 'pyna' is not defined",
     "output_type": "error",
     "traceback": [
      "\u001b[0;31m---------------------------------------------------------------------------\u001b[0m",
      "\u001b[0;31mNameError\u001b[0m                                 Traceback (most recent call last)",
      "Cell \u001b[0;32mIn[9], line 3\u001b[0m\n\u001b[1;32m      1\u001b[0m nuclei \u001b[38;5;241m=\u001b[39m [\u001b[38;5;124m\"\u001b[39m\u001b[38;5;124mp\u001b[39m\u001b[38;5;124m\"\u001b[39m, \u001b[38;5;124m\"\u001b[39m\u001b[38;5;124mhe4\u001b[39m\u001b[38;5;124m\"\u001b[39m, \u001b[38;5;124m\"\u001b[39m\u001b[38;5;124mc12\u001b[39m\u001b[38;5;124m\"\u001b[39m, \u001b[38;5;124m\"\u001b[39m\u001b[38;5;124mo16\u001b[39m\u001b[38;5;124m\"\u001b[39m, \u001b[38;5;124m\"\u001b[39m\u001b[38;5;124mne20\u001b[39m\u001b[38;5;124m\"\u001b[39m, \u001b[38;5;124m\"\u001b[39m\u001b[38;5;124mna23\u001b[39m\u001b[38;5;124m\"\u001b[39m, \u001b[38;5;124m\"\u001b[39m\u001b[38;5;124mmg24\u001b[39m\u001b[38;5;124m\"\u001b[39m]\n\u001b[0;32m----> 3\u001b[0m comp \u001b[38;5;241m=\u001b[39m \u001b[43mpyna\u001b[49m\u001b[38;5;241m.\u001b[39mComposition(nuclei)\n\u001b[1;32m      4\u001b[0m comp\u001b[38;5;241m.\u001b[39mset_equal()\n",
      "\u001b[0;31mNameError\u001b[0m: name 'pyna' is not defined"
     ]
    }
   ],
   "source": [
    "nuclei = [\"p\", \"he4\", \"c12\", \"o16\", \"ne20\", \"na23\", \"mg24\"]\n",
    "\n",
    "comp = pyna.Composition(nuclei)\n",
    "comp.set_equal()"
   ]
  },
  {
   "cell_type": "code",
   "execution_count": 10,
   "id": "5a422574-c92b-4ab9-85f1-87288590c1a7",
   "metadata": {
    "editable": true,
    "execution": {
     "iopub.execute_input": "2024-10-17T07:05:39.609985Z",
     "iopub.status.busy": "2024-10-17T07:05:39.609659Z",
     "iopub.status.idle": "2024-10-17T07:05:39.612538Z",
     "shell.execute_reply": "2024-10-17T07:05:39.612007Z"
    },
    "slideshow": {
     "slide_type": ""
    },
    "tags": []
   },
   "outputs": [],
   "source": [
    "rho = 1.e6\n",
    "T = 1.e9"
   ]
  },
  {
   "cell_type": "markdown",
   "id": "af7b3e8c-58ef-4370-b09a-de66c71fcdc9",
   "metadata": {
    "editable": true,
    "slideshow": {
     "slide_type": ""
    },
    "tags": []
   },
   "source": [
    "### Pure ReacLib\n",
    "\n",
    "First we'll create a `RateCollection` with just the ReacLib rates"
   ]
  },
  {
   "cell_type": "code",
   "execution_count": 11,
   "id": "1cf7570f-8152-4804-a5a0-001e4fabbb15",
   "metadata": {
    "editable": true,
    "execution": {
     "iopub.execute_input": "2024-10-17T07:05:39.614661Z",
     "iopub.status.busy": "2024-10-17T07:05:39.614353Z",
     "iopub.status.idle": "2024-10-17T07:05:39.628665Z",
     "shell.execute_reply": "2024-10-17T07:05:39.628018Z"
    },
    "slideshow": {
     "slide_type": ""
    },
    "tags": []
   },
   "outputs": [
    {
     "ename": "NameError",
     "evalue": "name 'rl' is not defined",
     "output_type": "error",
     "traceback": [
      "\u001b[0;31m---------------------------------------------------------------------------\u001b[0m",
      "\u001b[0;31mNameError\u001b[0m                                 Traceback (most recent call last)",
      "Cell \u001b[0;32mIn[11], line 1\u001b[0m\n\u001b[0;32m----> 1\u001b[0m lib \u001b[38;5;241m=\u001b[39m \u001b[43mrl\u001b[49m\u001b[38;5;241m.\u001b[39mlinking_nuclei(nuclei, with_reverse\u001b[38;5;241m=\u001b[39m\u001b[38;5;28;01mFalse\u001b[39;00m)\n\u001b[1;32m      2\u001b[0m rc \u001b[38;5;241m=\u001b[39m pyna\u001b[38;5;241m.\u001b[39mRateCollection(libraries\u001b[38;5;241m=\u001b[39m[lib])\n\u001b[1;32m      3\u001b[0m rates \u001b[38;5;241m=\u001b[39m rc\u001b[38;5;241m.\u001b[39mevaluate_rates(rho, T, comp)\n",
      "\u001b[0;31mNameError\u001b[0m: name 'rl' is not defined"
     ]
    }
   ],
   "source": [
    "lib = rl.linking_nuclei(nuclei, with_reverse=False)\n",
    "rc = pyna.RateCollection(libraries=[lib])\n",
    "rates = rc.evaluate_rates(rho, T, comp)\n",
    "for rr, val in rates.items():\n",
    "    print(f\"{str(rr):25} : {val:12.7e}\")"
   ]
  },
  {
   "cell_type": "markdown",
   "id": "1de7e1ce-31d1-4073-b8ed-897051136fed",
   "metadata": {
    "editable": true,
    "slideshow": {
     "slide_type": ""
    },
    "tags": []
   },
   "source": [
    "### Swapping in DeBoer rate\n",
    "\n",
    "Now we'll swap in the deBoer rate."
   ]
  },
  {
   "cell_type": "code",
   "execution_count": 12,
   "id": "10ab39a3-9657-4dc7-a818-c63efaafefc2",
   "metadata": {
    "editable": true,
    "execution": {
     "iopub.execute_input": "2024-10-17T07:05:39.630772Z",
     "iopub.status.busy": "2024-10-17T07:05:39.630264Z",
     "iopub.status.idle": "2024-10-17T07:05:39.641624Z",
     "shell.execute_reply": "2024-10-17T07:05:39.641002Z"
    },
    "slideshow": {
     "slide_type": ""
    },
    "tags": []
   },
   "outputs": [
    {
     "ename": "NameError",
     "evalue": "name 'lib' is not defined",
     "output_type": "error",
     "traceback": [
      "\u001b[0;31m---------------------------------------------------------------------------\u001b[0m",
      "\u001b[0;31mNameError\u001b[0m                                 Traceback (most recent call last)",
      "Cell \u001b[0;32mIn[12], line 1\u001b[0m\n\u001b[0;32m----> 1\u001b[0m \u001b[43mlib\u001b[49m\u001b[38;5;241m.\u001b[39mremove_rate(c12_rl)\n\u001b[1;32m      2\u001b[0m lib\u001b[38;5;241m.\u001b[39madd_rate(c12_deboer)\n",
      "\u001b[0;31mNameError\u001b[0m: name 'lib' is not defined"
     ]
    }
   ],
   "source": [
    "lib.remove_rate(c12_rl)\n",
    "lib.add_rate(c12_deboer)"
   ]
  },
  {
   "cell_type": "markdown",
   "id": "03ab0920-066f-467f-972a-b4b386e66c7b",
   "metadata": {
    "editable": true,
    "slideshow": {
     "slide_type": ""
    },
    "tags": []
   },
   "source": [
    "and recreate the new `RateCollection`"
   ]
  },
  {
   "cell_type": "code",
   "execution_count": 13,
   "id": "c7115c09-dec1-47bb-9a5e-e1544e812e8f",
   "metadata": {
    "editable": true,
    "execution": {
     "iopub.execute_input": "2024-10-17T07:05:39.643535Z",
     "iopub.status.busy": "2024-10-17T07:05:39.643169Z",
     "iopub.status.idle": "2024-10-17T07:05:39.657650Z",
     "shell.execute_reply": "2024-10-17T07:05:39.657067Z"
    },
    "slideshow": {
     "slide_type": ""
    },
    "tags": []
   },
   "outputs": [
    {
     "ename": "NameError",
     "evalue": "name 'pyna' is not defined",
     "output_type": "error",
     "traceback": [
      "\u001b[0;31m---------------------------------------------------------------------------\u001b[0m",
      "\u001b[0;31mNameError\u001b[0m                                 Traceback (most recent call last)",
      "Cell \u001b[0;32mIn[13], line 1\u001b[0m\n\u001b[0;32m----> 1\u001b[0m rc2 \u001b[38;5;241m=\u001b[39m \u001b[43mpyna\u001b[49m\u001b[38;5;241m.\u001b[39mRateCollection(libraries\u001b[38;5;241m=\u001b[39m[lib])\n\u001b[1;32m      2\u001b[0m rates \u001b[38;5;241m=\u001b[39m rc2\u001b[38;5;241m.\u001b[39mevaluate_rates(rho, T, comp)\n\u001b[1;32m      3\u001b[0m \u001b[38;5;28;01mfor\u001b[39;00m rr, val \u001b[38;5;129;01min\u001b[39;00m rates\u001b[38;5;241m.\u001b[39mitems():\n",
      "\u001b[0;31mNameError\u001b[0m: name 'pyna' is not defined"
     ]
    }
   ],
   "source": [
    "rc2 = pyna.RateCollection(libraries=[lib])\n",
    "rates = rc2.evaluate_rates(rho, T, comp)\n",
    "for rr, val in rates.items():\n",
    "    print(f\"{str(rr):25} : {val:12.7e}\")"
   ]
  },
  {
   "cell_type": "markdown",
   "id": "ec1ef8d9-57c2-4e56-8df0-bce5fcbb2987",
   "metadata": {
    "editable": true,
    "slideshow": {
     "slide_type": ""
    },
    "tags": []
   },
   "source": [
    "Comparing to the pure ReacLib version, we see the only difference in the evaluation\n",
    "of the rates is in ${}^{12}\\mathrm{C}(\\alpha, \\gamma){}^{16}\\mathrm{O}$"
   ]
  }
 ],
 "metadata": {
  "kernelspec": {
   "display_name": "Python 3 (ipykernel)",
   "language": "python",
   "name": "python3"
  },
  "language_info": {
   "codemirror_mode": {
    "name": "ipython",
    "version": 3
   },
   "file_extension": ".py",
   "mimetype": "text/x-python",
   "name": "python",
   "nbconvert_exporter": "python",
   "pygments_lexer": "ipython3",
   "version": "3.11.10"
  }
 },
 "nbformat": 4,
 "nbformat_minor": 5
}
