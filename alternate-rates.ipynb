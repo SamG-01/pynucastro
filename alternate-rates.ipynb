{
 "cells": [
  {
   "cell_type": "markdown",
   "id": "c8a1bdec-39c7-46ee-acd8-6bdba210f37d",
   "metadata": {},
   "source": [
    "# `alternate_rates`"
   ]
  },
  {
   "cell_type": "markdown",
   "id": "293a2437-f678-4523-87a9-4560a5677f4f",
   "metadata": {},
   "source": [
    "Sometimes papers provide new measurements of rates that may be better than the current ReacLib library.  An example of this is the \n",
    "[DeBoer et al. 2012](https://ui.adsabs.harvard.edu/abs/2017RvMP...89c5007D/abstract) ${}^{12}\\mathrm{C}(\\alpha, \\gamma){}^{16}\\mathrm{O}$ rate.\n",
    "\n",
    "These rates can be added individually to the `alternate_rates` module."
   ]
  },
  {
   "cell_type": "code",
   "execution_count": 1,
   "id": "a3d2faa1-8689-40d8-87e5-07f0eef4219a",
   "metadata": {
    "execution": {
     "iopub.execute_input": "2024-10-19T08:33:04.085522Z",
     "iopub.status.busy": "2024-10-19T08:33:04.085358Z",
     "iopub.status.idle": "2024-10-19T08:33:05.428841Z",
     "shell.execute_reply": "2024-10-19T08:33:05.428219Z"
    }
   },
   "outputs": [],
   "source": [
    "import pynucastro as pyna"
   ]
  },
  {
   "cell_type": "markdown",
   "id": "a7417e8c-9a5a-488d-a74c-b0b06668a2bd",
   "metadata": {},
   "source": [
    "## Comparison of ${}^{12}\\mathrm{C}(\\alpha, \\gamma){}^{16}\\mathrm{O}$"
   ]
  },
  {
   "cell_type": "markdown",
   "id": "ce350a97-7b40-46fb-a78b-8c81b304f882",
   "metadata": {
    "editable": true,
    "slideshow": {
     "slide_type": ""
    },
    "tags": []
   },
   "source": [
    "Here we compare the ReacLib and deBoer versions of ${}^{12}\\mathrm{C}(\\alpha, \\gamma){}^{16}\\mathrm{O}$."
   ]
  },
  {
   "cell_type": "markdown",
   "id": "3c70c775-3f51-4de1-a425-b00373e84791",
   "metadata": {},
   "source": [
    "First get the ReacLib version"
   ]
  },
  {
   "cell_type": "code",
   "execution_count": 2,
   "id": "478bebaf-3ece-47c0-9b45-e5ca74a7cedb",
   "metadata": {
    "execution": {
     "iopub.execute_input": "2024-10-19T08:33:05.431140Z",
     "iopub.status.busy": "2024-10-19T08:33:05.430864Z",
     "iopub.status.idle": "2024-10-19T08:33:09.854625Z",
     "shell.execute_reply": "2024-10-19T08:33:09.854067Z"
    }
   },
   "outputs": [],
   "source": [
    "rl = pyna.ReacLibLibrary()\n",
    "c12_rl = rl.get_rate_by_name(\"c12(a,g)o16\")"
   ]
  },
  {
   "cell_type": "markdown",
   "id": "cc323c16-fe44-476c-a9bb-64abe489ac57",
   "metadata": {},
   "source": [
    "Now the DeBoer version:"
   ]
  },
  {
   "cell_type": "code",
   "execution_count": 3,
   "id": "0c207679-c0c6-4afe-89e7-2b93d833a51b",
   "metadata": {
    "execution": {
     "iopub.execute_input": "2024-10-19T08:33:09.856728Z",
     "iopub.status.busy": "2024-10-19T08:33:09.856377Z",
     "iopub.status.idle": "2024-10-19T08:33:10.174563Z",
     "shell.execute_reply": "2024-10-19T08:33:10.174013Z"
    }
   },
   "outputs": [
    {
     "ename": "KeyError",
     "evalue": "'debo'",
     "output_type": "error",
     "traceback": [
      "\u001b[0;31m---------------------------------------------------------------------------\u001b[0m",
      "\u001b[0;31mKeyError\u001b[0m                                  Traceback (most recent call last)",
      "Cell \u001b[0;32mIn[3], line 2\u001b[0m\n\u001b[1;32m      1\u001b[0m \u001b[38;5;28;01mfrom\u001b[39;00m \u001b[38;5;21;01mpynucastro\u001b[39;00m\u001b[38;5;21;01m.\u001b[39;00m\u001b[38;5;21;01mrates\u001b[39;00m\u001b[38;5;21;01m.\u001b[39;00m\u001b[38;5;21;01malternate_rates\u001b[39;00m \u001b[38;5;28;01mimport\u001b[39;00m DeBoerC12agO16\n\u001b[0;32m----> 2\u001b[0m c12_deboer \u001b[38;5;241m=\u001b[39m \u001b[43mDeBoerC12agO16\u001b[49m\u001b[43m(\u001b[49m\u001b[43m)\u001b[49m\n",
      "File \u001b[0;32m/opt/hostedtoolcache/Python/3.11.10/x64/lib/python3.11/site-packages/pynucastro/rates/alternate_rates.py:23\u001b[0m, in \u001b[0;36mDeBoerC12agO16.__init__\u001b[0;34m(self)\u001b[0m\n\u001b[1;32m     20\u001b[0m \u001b[38;5;66;03m# we'll use the same chapter notation as ReacLib\u001b[39;00m\n\u001b[1;32m     21\u001b[0m chapter \u001b[38;5;241m=\u001b[39m \u001b[38;5;241m4\u001b[39m\n\u001b[0;32m---> 23\u001b[0m \u001b[38;5;28;43msuper\u001b[39;49m\u001b[43m(\u001b[49m\u001b[43m)\u001b[49m\u001b[38;5;241;43m.\u001b[39;49m\u001b[38;5;21;43m__init__\u001b[39;49m\u001b[43m(\u001b[49m\u001b[43mreactants\u001b[49m\u001b[38;5;241;43m=\u001b[39;49m\u001b[43mreactants\u001b[49m\u001b[43m,\u001b[49m\u001b[43m \u001b[49m\u001b[43mproducts\u001b[49m\u001b[38;5;241;43m=\u001b[39;49m\u001b[43mproducts\u001b[49m\u001b[43m,\u001b[49m\n\u001b[1;32m     24\u001b[0m \u001b[43m                 \u001b[49m\u001b[43mchapter\u001b[49m\u001b[38;5;241;43m=\u001b[39;49m\u001b[43mchapter\u001b[49m\u001b[43m,\u001b[49m\u001b[43m \u001b[49m\u001b[43mQ\u001b[49m\u001b[38;5;241;43m=\u001b[39;49m\u001b[43mQ\u001b[49m\u001b[43m,\u001b[49m\n\u001b[1;32m     25\u001b[0m \u001b[43m                 \u001b[49m\u001b[43mlabelprops\u001b[49m\u001b[38;5;241;43m=\u001b[39;49m\u001b[43mlabelprops\u001b[49m\u001b[43m)\u001b[49m\n\u001b[1;32m     27\u001b[0m \u001b[38;5;66;03m# from DeBoer et al. 2017\u001b[39;00m\n\u001b[1;32m     28\u001b[0m \u001b[38;5;66;03m# https://arxiv.org/pdf/1709.03144\u001b[39;00m\n\u001b[1;32m     29\u001b[0m \u001b[38;5;66;03m# table XXVI\u001b[39;00m\n\u001b[1;32m     30\u001b[0m \n\u001b[1;32m     31\u001b[0m \u001b[38;5;66;03m# non-resonant\u001b[39;00m\n\u001b[1;32m     32\u001b[0m a \u001b[38;5;241m=\u001b[39m [\u001b[38;5;241m24.1\u001b[39m, \u001b[38;5;241m0.0\u001b[39m, \u001b[38;5;241m-\u001b[39m\u001b[38;5;241m32.0\u001b[39m, \u001b[38;5;241m-\u001b[39m\u001b[38;5;241m5.9\u001b[39m, \u001b[38;5;241m1.8\u001b[39m, \u001b[38;5;241m-\u001b[39m\u001b[38;5;241m0.17\u001b[39m, \u001b[38;5;241m-\u001b[39m\u001b[38;5;241m2.\u001b[39m\u001b[38;5;241m/\u001b[39m\u001b[38;5;241m3.\u001b[39m]\n",
      "File \u001b[0;32m/opt/hostedtoolcache/Python/3.11.10/x64/lib/python3.11/site-packages/pynucastro/rates/rate.py:875\u001b[0m, in \u001b[0;36mReacLibRate.__init__\u001b[0;34m(self, rfile, chapter, original_source, reactants, products, sets, labelprops, Q)\u001b[0m\n\u001b[1;32m    873\u001b[0m     f\u001b[38;5;241m.\u001b[39mclose()\n\u001b[1;32m    874\u001b[0m \u001b[38;5;28;01melse\u001b[39;00m:\n\u001b[0;32m--> 875\u001b[0m     \u001b[38;5;28;43mself\u001b[39;49m\u001b[38;5;241;43m.\u001b[39;49m\u001b[43m_set_label_properties\u001b[49m\u001b[43m(\u001b[49m\u001b[43m)\u001b[49m\n\u001b[1;32m    877\u001b[0m \u001b[38;5;28mself\u001b[39m\u001b[38;5;241m.\u001b[39m_set_rhs_properties()\n\u001b[1;32m    878\u001b[0m \u001b[38;5;28mself\u001b[39m\u001b[38;5;241m.\u001b[39m_set_screening()\n",
      "File \u001b[0;32m/opt/hostedtoolcache/Python/3.11.10/x64/lib/python3.11/site-packages/pynucastro/rates/rate.py:977\u001b[0m, in \u001b[0;36mReacLibRate._set_label_properties\u001b[0;34m(self, labelprops)\u001b[0m\n\u001b[1;32m    974\u001b[0m \u001b[38;5;66;03m# Update labelprops based on the Sets in this Rate\u001b[39;00m\n\u001b[1;32m    975\u001b[0m \u001b[38;5;66;03m# to set the resonance_combined flag properly\u001b[39;00m\n\u001b[1;32m    976\u001b[0m \u001b[38;5;28mself\u001b[39m\u001b[38;5;241m.\u001b[39m_update_resonance_combined()\n\u001b[0;32m--> 977\u001b[0m \u001b[38;5;28;43mself\u001b[39;49m\u001b[38;5;241;43m.\u001b[39;49m\u001b[43m_update_label_properties\u001b[49m\u001b[43m(\u001b[49m\u001b[43m)\u001b[49m\n",
      "File \u001b[0;32m/opt/hostedtoolcache/Python/3.11.10/x64/lib/python3.11/site-packages/pynucastro/rates/rate.py:1022\u001b[0m, in \u001b[0;36mReacLibRate._update_label_properties\u001b[0;34m(self)\u001b[0m\n\u001b[1;32m   1020\u001b[0m     \u001b[38;5;28mself\u001b[39m\u001b[38;5;241m.\u001b[39mweak_type \u001b[38;5;241m=\u001b[39m \u001b[38;5;28;01mNone\u001b[39;00m\n\u001b[1;32m   1021\u001b[0m \u001b[38;5;28mself\u001b[39m\u001b[38;5;241m.\u001b[39mreverse \u001b[38;5;241m=\u001b[39m \u001b[38;5;28mself\u001b[39m\u001b[38;5;241m.\u001b[39mlabelprops[\u001b[38;5;241m5\u001b[39m] \u001b[38;5;241m==\u001b[39m \u001b[38;5;124m'\u001b[39m\u001b[38;5;124mv\u001b[39m\u001b[38;5;124m'\u001b[39m\n\u001b[0;32m-> 1022\u001b[0m \u001b[38;5;28mself\u001b[39m\u001b[38;5;241m.\u001b[39msource \u001b[38;5;241m=\u001b[39m \u001b[43mReacLibRateSource\u001b[49m\u001b[38;5;241;43m.\u001b[39;49m\u001b[43msource\u001b[49m\u001b[43m(\u001b[49m\u001b[38;5;28;43mself\u001b[39;49m\u001b[38;5;241;43m.\u001b[39;49m\u001b[43mlabel\u001b[49m\u001b[43m)\u001b[49m\n",
      "File \u001b[0;32m/opt/hostedtoolcache/Python/3.11.10/x64/lib/python3.11/site-packages/pynucastro/rates/rate.py:796\u001b[0m, in \u001b[0;36mReacLibRateSource.source\u001b[0;34m(cls, label)\u001b[0m\n\u001b[1;32m    792\u001b[0m \u001b[38;5;129m@classmethod\u001b[39m\n\u001b[1;32m    793\u001b[0m \u001b[38;5;28;01mdef\u001b[39;00m \u001b[38;5;21msource\u001b[39m(\u001b[38;5;28mcls\u001b[39m, label: \u001b[38;5;28mstr\u001b[39m) \u001b[38;5;241m-\u001b[39m\u001b[38;5;241m>\u001b[39m \u001b[38;5;28mdict\u001b[39m[\u001b[38;5;28mstr\u001b[39m, \u001b[38;5;28mstr\u001b[39m]:\n\u001b[1;32m    794\u001b[0m \u001b[38;5;250m    \u001b[39m\u001b[38;5;124;03m\"\"\"Returns the source of a ReacLibRate given its label.\"\"\"\u001b[39;00m\n\u001b[0;32m--> 796\u001b[0m     \u001b[38;5;28;01mreturn\u001b[39;00m \u001b[38;5;28;43mcls\u001b[39;49m\u001b[38;5;241;43m.\u001b[39;49m\u001b[43mlabels\u001b[49m\u001b[43m[\u001b[49m\u001b[43mlabel\u001b[49m\u001b[38;5;241;43m.\u001b[39;49m\u001b[43mlower\u001b[49m\u001b[43m(\u001b[49m\u001b[43m)\u001b[49m\u001b[38;5;241;43m.\u001b[39;49m\u001b[43mstrip\u001b[49m\u001b[43m(\u001b[49m\u001b[43m)\u001b[49m\u001b[43m]\u001b[49m\n",
      "\u001b[0;31mKeyError\u001b[0m: 'debo'"
     ]
    }
   ],
   "source": [
    "from pynucastro.rates.alternate_rates import DeBoerC12agO16\n",
    "c12_deboer = DeBoerC12agO16()"
   ]
  },
  {
   "cell_type": "markdown",
   "id": "ed9620bb-dcd2-44d0-addf-c11a8e6fb130",
   "metadata": {},
   "source": [
    "Note that since DeBoer et al. 2012 give the new rate as a parameterization in the ReacLib form, this new rate just subclasses\n",
    "`ReacLibRate`"
   ]
  },
  {
   "cell_type": "code",
   "execution_count": 4,
   "id": "a8e21563-9e67-47a6-946a-eb92c3d883ed",
   "metadata": {
    "execution": {
     "iopub.execute_input": "2024-10-19T08:33:10.176561Z",
     "iopub.status.busy": "2024-10-19T08:33:10.176223Z",
     "iopub.status.idle": "2024-10-19T08:33:10.181691Z",
     "shell.execute_reply": "2024-10-19T08:33:10.181140Z"
    }
   },
   "outputs": [
    {
     "data": {
      "text/plain": [
       "pynucastro.rates.rate.ReacLibRate"
      ]
     },
     "execution_count": 4,
     "metadata": {},
     "output_type": "execute_result"
    }
   ],
   "source": [
    "DeBoerC12agO16.__base__"
   ]
  },
  {
   "cell_type": "markdown",
   "id": "a15ccbe6-8c57-40a7-a025-0f835752feb6",
   "metadata": {},
   "source": [
    "Let's plot a comparison of the rates"
   ]
  },
  {
   "cell_type": "code",
   "execution_count": 5,
   "id": "df557ec7-a75e-4143-a1f1-c3e9938b528a",
   "metadata": {
    "execution": {
     "iopub.execute_input": "2024-10-19T08:33:10.183396Z",
     "iopub.status.busy": "2024-10-19T08:33:10.183057Z",
     "iopub.status.idle": "2024-10-19T08:33:10.185653Z",
     "shell.execute_reply": "2024-10-19T08:33:10.185197Z"
    }
   },
   "outputs": [],
   "source": [
    "import numpy as np\n",
    "import matplotlib.pyplot as plt"
   ]
  },
  {
   "cell_type": "code",
   "execution_count": 6,
   "id": "3bcefccb-e3f9-4d7a-a57c-15aa90c1d50e",
   "metadata": {
    "editable": true,
    "execution": {
     "iopub.execute_input": "2024-10-19T08:33:10.187476Z",
     "iopub.status.busy": "2024-10-19T08:33:10.186931Z",
     "iopub.status.idle": "2024-10-19T08:33:10.915495Z",
     "shell.execute_reply": "2024-10-19T08:33:10.914903Z"
    },
    "slideshow": {
     "slide_type": ""
    },
    "tags": []
   },
   "outputs": [
    {
     "ename": "NameError",
     "evalue": "name 'c12_deboer' is not defined",
     "output_type": "error",
     "traceback": [
      "\u001b[0;31m---------------------------------------------------------------------------\u001b[0m",
      "\u001b[0;31mNameError\u001b[0m                                 Traceback (most recent call last)",
      "Cell \u001b[0;32mIn[6], line 4\u001b[0m\n\u001b[1;32m      1\u001b[0m Ts \u001b[38;5;241m=\u001b[39m np\u001b[38;5;241m.\u001b[39mlogspace(\u001b[38;5;241m7.5\u001b[39m, \u001b[38;5;241m9.5\u001b[39m, \u001b[38;5;241m100\u001b[39m)\n\u001b[1;32m      3\u001b[0m r_rl \u001b[38;5;241m=\u001b[39m np\u001b[38;5;241m.\u001b[39marray([c12_rl\u001b[38;5;241m.\u001b[39meval(T) \u001b[38;5;28;01mfor\u001b[39;00m T \u001b[38;5;129;01min\u001b[39;00m Ts])\n\u001b[0;32m----> 4\u001b[0m r_deboer \u001b[38;5;241m=\u001b[39m np\u001b[38;5;241m.\u001b[39marray(\u001b[43m[\u001b[49m\u001b[43mc12_deboer\u001b[49m\u001b[38;5;241;43m.\u001b[39;49m\u001b[43meval\u001b[49m\u001b[43m(\u001b[49m\u001b[43mT\u001b[49m\u001b[43m)\u001b[49m\u001b[43m \u001b[49m\u001b[38;5;28;43;01mfor\u001b[39;49;00m\u001b[43m \u001b[49m\u001b[43mT\u001b[49m\u001b[43m \u001b[49m\u001b[38;5;129;43;01min\u001b[39;49;00m\u001b[43m \u001b[49m\u001b[43mTs\u001b[49m\u001b[43m]\u001b[49m)\n",
      "Cell \u001b[0;32mIn[6], line 4\u001b[0m, in \u001b[0;36m<listcomp>\u001b[0;34m(.0)\u001b[0m\n\u001b[1;32m      1\u001b[0m Ts \u001b[38;5;241m=\u001b[39m np\u001b[38;5;241m.\u001b[39mlogspace(\u001b[38;5;241m7.5\u001b[39m, \u001b[38;5;241m9.5\u001b[39m, \u001b[38;5;241m100\u001b[39m)\n\u001b[1;32m      3\u001b[0m r_rl \u001b[38;5;241m=\u001b[39m np\u001b[38;5;241m.\u001b[39marray([c12_rl\u001b[38;5;241m.\u001b[39meval(T) \u001b[38;5;28;01mfor\u001b[39;00m T \u001b[38;5;129;01min\u001b[39;00m Ts])\n\u001b[0;32m----> 4\u001b[0m r_deboer \u001b[38;5;241m=\u001b[39m np\u001b[38;5;241m.\u001b[39marray([\u001b[43mc12_deboer\u001b[49m\u001b[38;5;241m.\u001b[39meval(T) \u001b[38;5;28;01mfor\u001b[39;00m T \u001b[38;5;129;01min\u001b[39;00m Ts])\n",
      "\u001b[0;31mNameError\u001b[0m: name 'c12_deboer' is not defined"
     ]
    }
   ],
   "source": [
    "Ts = np.logspace(7.5, 9.5, 100)\n",
    "\n",
    "r_rl = np.array([c12_rl.eval(T) for T in Ts])\n",
    "r_deboer = np.array([c12_deboer.eval(T) for T in Ts])"
   ]
  },
  {
   "cell_type": "code",
   "execution_count": 7,
   "id": "2d7ba5bf-d5e0-46a8-9cb3-908db3f30e35",
   "metadata": {
    "editable": true,
    "execution": {
     "iopub.execute_input": "2024-10-19T08:33:10.917226Z",
     "iopub.status.busy": "2024-10-19T08:33:10.916924Z",
     "iopub.status.idle": "2024-10-19T08:33:11.200867Z",
     "shell.execute_reply": "2024-10-19T08:33:11.200313Z"
    },
    "slideshow": {
     "slide_type": ""
    },
    "tags": [
     "nbval-ignore-output"
    ]
   },
   "outputs": [
    {
     "ename": "NameError",
     "evalue": "name 'r_deboer' is not defined",
     "output_type": "error",
     "traceback": [
      "\u001b[0;31m---------------------------------------------------------------------------\u001b[0m",
      "\u001b[0;31mNameError\u001b[0m                                 Traceback (most recent call last)",
      "Cell \u001b[0;32mIn[7], line 3\u001b[0m\n\u001b[1;32m      1\u001b[0m fig, ax \u001b[38;5;241m=\u001b[39m plt\u001b[38;5;241m.\u001b[39msubplots()\n\u001b[1;32m      2\u001b[0m ax\u001b[38;5;241m.\u001b[39mloglog(Ts, r_rl, label\u001b[38;5;241m=\u001b[39m\u001b[38;5;124m\"\u001b[39m\u001b[38;5;124mReacLib\u001b[39m\u001b[38;5;124m\"\u001b[39m)\n\u001b[0;32m----> 3\u001b[0m ax\u001b[38;5;241m.\u001b[39mloglog(Ts, \u001b[43mr_deboer\u001b[49m, label\u001b[38;5;241m=\u001b[39m\u001b[38;5;124m\"\u001b[39m\u001b[38;5;124mdeBoer\u001b[39m\u001b[38;5;124m\"\u001b[39m)\n\u001b[1;32m      4\u001b[0m ax\u001b[38;5;241m.\u001b[39mset_xlabel(\u001b[38;5;124m\"\u001b[39m\u001b[38;5;124mT\u001b[39m\u001b[38;5;124m\"\u001b[39m)\n\u001b[1;32m      5\u001b[0m ax\u001b[38;5;241m.\u001b[39mset_ylabel(\u001b[38;5;124mr\u001b[39m\u001b[38;5;124m\"\u001b[39m\u001b[38;5;124m$N_A\u001b[39m\u001b[38;5;124m\\\u001b[39m\u001b[38;5;124mlangle \u001b[39m\u001b[38;5;124m\\\u001b[39m\u001b[38;5;124msigma v\u001b[39m\u001b[38;5;124m\\\u001b[39m\u001b[38;5;124mrangle$\u001b[39m\u001b[38;5;124m\"\u001b[39m)\n",
      "\u001b[0;31mNameError\u001b[0m: name 'r_deboer' is not defined"
     ]
    },
    {
     "data": {
      "image/png": "[encoded data removed]",
      "text/plain": [
       "<Figure size 640x480 with 1 Axes>"
      ]
     },
     "metadata": {},
     "output_type": "display_data"
    }
   ],
   "source": [
    "fig, ax = plt.subplots()\n",
    "ax.loglog(Ts, r_rl, label=\"ReacLib\")\n",
    "ax.loglog(Ts, r_deboer, label=\"deBoer\")\n",
    "ax.set_xlabel(\"T\")\n",
    "ax.set_ylabel(r\"$N_A\\langle \\sigma v\\rangle$\")\n",
    "ax.legend()"
   ]
  },
  {
   "cell_type": "markdown",
   "id": "3e9fe5b4-4e73-41db-8f0b-929400e3917a",
   "metadata": {
    "editable": true,
    "slideshow": {
     "slide_type": ""
    },
    "tags": []
   },
   "source": [
    "Here's the relative difference"
   ]
  },
  {
   "cell_type": "code",
   "execution_count": 8,
   "id": "82773ed1-43eb-45f6-9d0d-b571a0ae72b8",
   "metadata": {
    "editable": true,
    "execution": {
     "iopub.execute_input": "2024-10-19T08:33:11.202745Z",
     "iopub.status.busy": "2024-10-19T08:33:11.202392Z",
     "iopub.status.idle": "2024-10-19T08:33:11.283728Z",
     "shell.execute_reply": "2024-10-19T08:33:11.283296Z"
    },
    "slideshow": {
     "slide_type": ""
    },
    "tags": [
     "nbval-ignore-output"
    ]
   },
   "outputs": [
    {
     "ename": "NameError",
     "evalue": "name 'r_deboer' is not defined",
     "output_type": "error",
     "traceback": [
      "\u001b[0;31m---------------------------------------------------------------------------\u001b[0m",
      "\u001b[0;31mNameError\u001b[0m                                 Traceback (most recent call last)",
      "Cell \u001b[0;32mIn[8], line 2\u001b[0m\n\u001b[1;32m      1\u001b[0m fig, ax \u001b[38;5;241m=\u001b[39m plt\u001b[38;5;241m.\u001b[39msubplots()\n\u001b[0;32m----> 2\u001b[0m ax\u001b[38;5;241m.\u001b[39mloglog(Ts, np\u001b[38;5;241m.\u001b[39mabs((r_rl \u001b[38;5;241m-\u001b[39m \u001b[43mr_deboer\u001b[49m) \u001b[38;5;241m/\u001b[39m r_rl))\n\u001b[1;32m      3\u001b[0m ax\u001b[38;5;241m.\u001b[39mset_xlabel(\u001b[38;5;124m\"\u001b[39m\u001b[38;5;124mT\u001b[39m\u001b[38;5;124m\"\u001b[39m)\n\u001b[1;32m      4\u001b[0m ax\u001b[38;5;241m.\u001b[39mset_ylabel(\u001b[38;5;124mr\u001b[39m\u001b[38;5;124m\"\u001b[39m\u001b[38;5;124mrelative difference\u001b[39m\u001b[38;5;124m\"\u001b[39m)\n",
      "\u001b[0;31mNameError\u001b[0m: name 'r_deboer' is not defined"
     ]
    },
    {
     "data": {
      "image/png": "[encoded data removed]",
      "text/plain": [
       "<Figure size 640x480 with 1 Axes>"
      ]
     },
     "metadata": {},
     "output_type": "display_data"
    }
   ],
   "source": [
    "fig, ax = plt.subplots()\n",
    "ax.loglog(Ts, np.abs((r_rl - r_deboer) / r_rl))\n",
    "ax.set_xlabel(\"T\")\n",
    "ax.set_ylabel(r\"relative difference\")\n",
    "ax.grid(ls=\":\")"
   ]
  },
  {
   "cell_type": "markdown",
   "id": "67513457-6fe6-4527-aeea-4ecdf4313d02",
   "metadata": {
    "editable": true,
    "slideshow": {
     "slide_type": ""
    },
    "tags": []
   },
   "source": [
    "## Using alternate rates in a network"
   ]
  },
  {
   "cell_type": "markdown",
   "id": "7978a7c5-af12-4d83-b637-a218936c479f",
   "metadata": {
    "editable": true,
    "slideshow": {
     "slide_type": ""
    },
    "tags": []
   },
   "source": [
    "To create a network with this rate, we can swap it in for the ReacLib version when we create a library.\n",
    "Here's a simple He-burning network."
   ]
  },
  {
   "cell_type": "code",
   "execution_count": 9,
   "id": "b8c4fdf0-8652-43b3-a327-e414e857cbff",
   "metadata": {
    "editable": true,
    "execution": {
     "iopub.execute_input": "2024-10-19T08:33:11.285409Z",
     "iopub.status.busy": "2024-10-19T08:33:11.285233Z",
     "iopub.status.idle": "2024-10-19T08:33:11.288084Z",
     "shell.execute_reply": "2024-10-19T08:33:11.287640Z"
    },
    "slideshow": {
     "slide_type": ""
    },
    "tags": []
   },
   "outputs": [],
   "source": [
    "nuclei = [\"p\", \"he4\", \"c12\", \"o16\", \"ne20\", \"na23\", \"mg24\"]\n",
    "\n",
    "comp = pyna.Composition(nuclei)\n",
    "comp.set_equal()"
   ]
  },
  {
   "cell_type": "code",
   "execution_count": 10,
   "id": "5a422574-c92b-4ab9-85f1-87288590c1a7",
   "metadata": {
    "editable": true,
    "execution": {
     "iopub.execute_input": "2024-10-19T08:33:11.289827Z",
     "iopub.status.busy": "2024-10-19T08:33:11.289363Z",
     "iopub.status.idle": "2024-10-19T08:33:11.292185Z",
     "shell.execute_reply": "2024-10-19T08:33:11.291598Z"
    },
    "slideshow": {
     "slide_type": ""
    },
    "tags": []
   },
   "outputs": [],
   "source": [
    "rho = 1.e6\n",
    "T = 1.e9"
   ]
  },
  {
   "cell_type": "markdown",
   "id": "af7b3e8c-58ef-4370-b09a-de66c71fcdc9",
   "metadata": {
    "editable": true,
    "slideshow": {
     "slide_type": ""
    },
    "tags": []
   },
   "source": [
    "### Pure ReacLib\n",
    "\n",
    "First we'll create a `RateCollection` with just the ReacLib rates"
   ]
  },
  {
   "cell_type": "code",
   "execution_count": 11,
   "id": "1cf7570f-8152-4804-a5a0-001e4fabbb15",
   "metadata": {
    "editable": true,
    "execution": {
     "iopub.execute_input": "2024-10-19T08:33:11.294051Z",
     "iopub.status.busy": "2024-10-19T08:33:11.293594Z",
     "iopub.status.idle": "2024-10-19T08:33:11.379959Z",
     "shell.execute_reply": "2024-10-19T08:33:11.379347Z"
    },
    "slideshow": {
     "slide_type": ""
    },
    "tags": []
   },
   "outputs": [
    {
     "name": "stdout",
     "output_type": "stream",
     "text": [
      "C12 + He4 ⟶ O16 + 𝛾       : 2.7441793e-03\n",
      "O16 + He4 ⟶ Ne20 + 𝛾      : 1.1385847e+00\n",
      "Ne20 + He4 ⟶ Mg24 + 𝛾     : 4.1265513e-01\n",
      "Na23 + p ⟶ Mg24 + 𝛾       : 6.9202360e+05\n",
      "C12 + C12 ⟶ p + Na23      : 1.1970613e-09\n",
      "C12 + C12 ⟶ He4 + Ne20    : 1.4808559e-09\n",
      "O16 + C12 ⟶ He4 + Mg24    : 5.5470507e-15\n",
      "Na23 + p ⟶ He4 + Ne20     : 8.9374939e+06\n",
      "He4 + He4 + He4 ⟶ C12 + 𝛾 : 2.5845076e-03\n"
     ]
    }
   ],
   "source": [
    "lib = rl.linking_nuclei(nuclei, with_reverse=False)\n",
    "rc = pyna.RateCollection(libraries=[lib])\n",
    "rates = rc.evaluate_rates(rho, T, comp)\n",
    "for rr, val in rates.items():\n",
    "    print(f\"{str(rr):25} : {val:12.7e}\")"
   ]
  },
  {
   "cell_type": "markdown",
   "id": "1de7e1ce-31d1-4073-b8ed-897051136fed",
   "metadata": {
    "editable": true,
    "slideshow": {
     "slide_type": ""
    },
    "tags": []
   },
   "source": [
    "### Swapping in DeBoer rate\n",
    "\n",
    "Now we'll swap in the deBoer rate."
   ]
  },
  {
   "cell_type": "code",
   "execution_count": 12,
   "id": "10ab39a3-9657-4dc7-a818-c63efaafefc2",
   "metadata": {
    "editable": true,
    "execution": {
     "iopub.execute_input": "2024-10-19T08:33:11.381996Z",
     "iopub.status.busy": "2024-10-19T08:33:11.381561Z",
     "iopub.status.idle": "2024-10-19T08:33:11.395039Z",
     "shell.execute_reply": "2024-10-19T08:33:11.394592Z"
    },
    "slideshow": {
     "slide_type": ""
    },
    "tags": []
   },
   "outputs": [
    {
     "ename": "NameError",
     "evalue": "name 'c12_deboer' is not defined",
     "output_type": "error",
     "traceback": [
      "\u001b[0;31m---------------------------------------------------------------------------\u001b[0m",
      "\u001b[0;31mNameError\u001b[0m                                 Traceback (most recent call last)",
      "Cell \u001b[0;32mIn[12], line 2\u001b[0m\n\u001b[1;32m      1\u001b[0m lib\u001b[38;5;241m.\u001b[39mremove_rate(c12_rl)\n\u001b[0;32m----> 2\u001b[0m lib\u001b[38;5;241m.\u001b[39madd_rate(\u001b[43mc12_deboer\u001b[49m)\n",
      "\u001b[0;31mNameError\u001b[0m: name 'c12_deboer' is not defined"
     ]
    }
   ],
   "source": [
    "lib.remove_rate(c12_rl)\n",
    "lib.add_rate(c12_deboer)"
   ]
  },
  {
   "cell_type": "markdown",
   "id": "03ab0920-066f-467f-972a-b4b386e66c7b",
   "metadata": {
    "editable": true,
    "slideshow": {
     "slide_type": ""
    },
    "tags": []
   },
   "source": [
    "and recreate the new `RateCollection`"
   ]
  },
  {
   "cell_type": "code",
   "execution_count": 13,
   "id": "c7115c09-dec1-47bb-9a5e-e1544e812e8f",
   "metadata": {
    "editable": true,
    "execution": {
     "iopub.execute_input": "2024-10-19T08:33:11.396590Z",
     "iopub.status.busy": "2024-10-19T08:33:11.396418Z",
     "iopub.status.idle": "2024-10-19T08:33:11.400299Z",
     "shell.execute_reply": "2024-10-19T08:33:11.399778Z"
    },
    "slideshow": {
     "slide_type": ""
    },
    "tags": []
   },
   "outputs": [
    {
     "name": "stdout",
     "output_type": "stream",
     "text": [
      "O16 + He4 ⟶ Ne20 + 𝛾      : 1.1385847e+00\n",
      "Ne20 + He4 ⟶ Mg24 + 𝛾     : 4.1265513e-01\n",
      "Na23 + p ⟶ Mg24 + 𝛾       : 6.9202360e+05\n",
      "C12 + C12 ⟶ p + Na23      : 1.1970613e-09\n",
      "C12 + C12 ⟶ He4 + Ne20    : 1.4808559e-09\n",
      "O16 + C12 ⟶ He4 + Mg24    : 5.5470507e-15\n",
      "Na23 + p ⟶ He4 + Ne20     : 8.9374939e+06\n",
      "He4 + He4 + He4 ⟶ C12 + 𝛾 : 2.5845076e-03\n"
     ]
    }
   ],
   "source": [
    "rc2 = pyna.RateCollection(libraries=[lib])\n",
    "rates = rc2.evaluate_rates(rho, T, comp)\n",
    "for rr, val in rates.items():\n",
    "    print(f\"{str(rr):25} : {val:12.7e}\")"
   ]
  },
  {
   "cell_type": "markdown",
   "id": "ec1ef8d9-57c2-4e56-8df0-bce5fcbb2987",
   "metadata": {
    "editable": true,
    "slideshow": {
     "slide_type": ""
    },
    "tags": []
   },
   "source": [
    "Comparing to the pure ReacLib version, we see the only difference in the evaluation\n",
    "of the rates is in ${}^{12}\\mathrm{C}(\\alpha, \\gamma){}^{16}\\mathrm{O}$"
   ]
  }
 ],
 "metadata": {
  "kernelspec": {
   "display_name": "Python 3 (ipykernel)",
   "language": "python",
   "name": "python3"
  },
  "language_info": {
   "codemirror_mode": {
    "name": "ipython",
    "version": 3
   },
   "file_extension": ".py",
   "mimetype": "text/x-python",
   "name": "python",
   "nbconvert_exporter": "python",
   "pygments_lexer": "ipython3",
   "version": "3.11.10"
  }
 },
 "nbformat": 4,
 "nbformat_minor": 5
}
