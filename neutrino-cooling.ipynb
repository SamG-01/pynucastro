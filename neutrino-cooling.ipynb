{
 "cells": [
  {
   "cell_type": "markdown",
   "id": "6fcf9c31-b0a2-4683-9d36-aff17ed65ddc",
   "metadata": {},
   "source": [
    "# Neutrino Cooling"
   ]
  },
  {
   "cell_type": "markdown",
   "id": "b961005f-ffa6-419c-ab18-61bf585e189d",
   "metadata": {},
   "source": [
    "At high temperatures, pair, plasma, Bremmstrahlung, and photo neutrinos become important. These are often treated as a source term to an energy equation when integrating the temperature evolution due to reactions.\n",
    "\n",
    "pynucastro implements the functions of <cite data-cite-t=\"itoh:1996\">Itoh et al. 1996</cite> to incorporate these effects.  In many codes, a routine called ``sneut5`` was used for this implementation.  pynucastro contains a port of that routine."
   ]
  },
  {
   "cell_type": "code",
   "execution_count": 1,
   "id": "e5d84d78-ae6a-4296-927e-00605cf380b4",
   "metadata": {
    "execution": {
     "iopub.execute_input": "2024-10-17T07:31:46.881764Z",
     "iopub.status.busy": "2024-10-17T07:31:46.881584Z",
     "iopub.status.idle": "2024-10-17T07:31:48.810370Z",
     "shell.execute_reply": "2024-10-17T07:31:48.809753Z"
    }
   },
   "outputs": [
    {
     "ename": "ModuleNotFoundError",
     "evalue": "No module named 'microphysics'",
     "output_type": "error",
     "traceback": [
      "\u001b[0;31m---------------------------------------------------------------------------\u001b[0m",
      "\u001b[0;31mModuleNotFoundError\u001b[0m                       Traceback (most recent call last)",
      "Cell \u001b[0;32mIn[1], line 1\u001b[0m\n\u001b[0;32m----> 1\u001b[0m \u001b[38;5;28;01mfrom\u001b[39;00m \u001b[38;5;21;01mpynucastro\u001b[39;00m\u001b[38;5;21;01m.\u001b[39;00m\u001b[38;5;21;01mneutrino_cooling\u001b[39;00m \u001b[38;5;28;01mimport\u001b[39;00m sneut5, NeutrinoCooling\n\u001b[1;32m      2\u001b[0m \u001b[38;5;28;01mfrom\u001b[39;00m \u001b[38;5;21;01mpynucastro\u001b[39;00m \u001b[38;5;28;01mimport\u001b[39;00m Composition, Nucleus\n",
      "File \u001b[0;32m/opt/hostedtoolcache/Python/3.11.10/x64/lib/python3.11/site-packages/pynucastro/__init__.py:132\u001b[0m\n\u001b[1;32m    128\u001b[0m __version__ \u001b[38;5;241m=\u001b[39m version\n\u001b[1;32m    131\u001b[0m \u001b[38;5;28;01mimport\u001b[39;00m \u001b[38;5;21;01mpynucastro\u001b[39;00m\u001b[38;5;21;01m.\u001b[39;00m\u001b[38;5;21;01mscreening\u001b[39;00m\n\u001b[0;32m--> 132\u001b[0m \u001b[38;5;28;01mfrom\u001b[39;00m \u001b[38;5;21;01mpynucastro\u001b[39;00m\u001b[38;5;21;01m.\u001b[39;00m\u001b[38;5;21;01mnetworks\u001b[39;00m \u001b[38;5;28;01mimport\u001b[39;00m (AmrexAstroCxxNetwork, BaseCxxNetwork,\n\u001b[1;32m    133\u001b[0m                                  Composition, Explorer, NSENetwork,\n\u001b[1;32m    134\u001b[0m                                  NumpyNetwork, PythonNetwork, RateCollection,\n\u001b[1;32m    135\u001b[0m                                  SimpleCxxNetwork, StarKillerCxxNetwork,\n\u001b[1;32m    136\u001b[0m                                  SympyRates)\n\u001b[1;32m    137\u001b[0m \u001b[38;5;28;01mfrom\u001b[39;00m \u001b[38;5;21;01mpynucastro\u001b[39;00m\u001b[38;5;21;01m.\u001b[39;00m\u001b[38;5;21;01mnucdata\u001b[39;00m \u001b[38;5;28;01mimport\u001b[39;00m Nucleus, get_all_nuclei, get_nuclei_in_range\n\u001b[1;32m    138\u001b[0m \u001b[38;5;28;01mfrom\u001b[39;00m \u001b[38;5;21;01mpynucastro\u001b[39;00m\u001b[38;5;21;01m.\u001b[39;00m\u001b[38;5;21;01mrates\u001b[39;00m \u001b[38;5;28;01mimport\u001b[39;00m (ApproximateRate, DerivedRate, LangankeLibrary,\n\u001b[1;32m    139\u001b[0m                               Library, Rate, RateFilter, ReacLibLibrary,\n\u001b[1;32m    140\u001b[0m                               SuzukiLibrary, TabularLibrary, Tfactors,\n\u001b[1;32m    141\u001b[0m                               list_known_rates, load_rate)\n",
      "File \u001b[0;32m/opt/hostedtoolcache/Python/3.11.10/x64/lib/python3.11/site-packages/pynucastro/networks/__init__.py:29\u001b[0m\n\u001b[1;32m      1\u001b[0m \u001b[38;5;124;03m\"\"\"The pynucastro modules that support the creation of networks.\u001b[39;00m\n\u001b[1;32m      2\u001b[0m \u001b[38;5;124;03mThere are several main submodules here:\u001b[39;00m\n\u001b[1;32m      3\u001b[0m \n\u001b[0;32m   (...)\u001b[0m\n\u001b[1;32m     24\u001b[0m \n\u001b[1;32m     25\u001b[0m \u001b[38;5;124;03m\"\"\"\u001b[39;00m\n\u001b[1;32m     27\u001b[0m \u001b[38;5;66;03m#__all__ = [\"python_network\", \"rate_collection\", \"sympy_network_support\"]\u001b[39;00m\n\u001b[0;32m---> 29\u001b[0m \u001b[38;5;28;01mfrom\u001b[39;00m \u001b[38;5;21;01m.\u001b[39;00m\u001b[38;5;21;01mamrexastro_cxx_network\u001b[39;00m \u001b[38;5;28;01mimport\u001b[39;00m AmrexAstroCxxNetwork\n\u001b[1;32m     30\u001b[0m \u001b[38;5;28;01mfrom\u001b[39;00m \u001b[38;5;21;01m.\u001b[39;00m\u001b[38;5;21;01mbase_cxx_network\u001b[39;00m \u001b[38;5;28;01mimport\u001b[39;00m BaseCxxNetwork\n\u001b[1;32m     31\u001b[0m \u001b[38;5;28;01mfrom\u001b[39;00m \u001b[38;5;21;01m.\u001b[39;00m\u001b[38;5;21;01mnse_network\u001b[39;00m \u001b[38;5;28;01mimport\u001b[39;00m NSENetwork\n",
      "File \u001b[0;32m/opt/hostedtoolcache/Python/3.11.10/x64/lib/python3.11/site-packages/pynucastro/networks/amrexastro_cxx_network.py:9\u001b[0m\n\u001b[1;32m      6\u001b[0m \u001b[38;5;28;01mimport\u001b[39;00m \u001b[38;5;21;01mre\u001b[39;00m\n\u001b[1;32m      7\u001b[0m \u001b[38;5;28;01mfrom\u001b[39;00m \u001b[38;5;21;01mpathlib\u001b[39;00m \u001b[38;5;28;01mimport\u001b[39;00m Path\n\u001b[0;32m----> 9\u001b[0m \u001b[38;5;28;01mfrom\u001b[39;00m \u001b[38;5;21;01mpynucastro\u001b[39;00m\u001b[38;5;21;01m.\u001b[39;00m\u001b[38;5;21;01mnetworks\u001b[39;00m\u001b[38;5;21;01m.\u001b[39;00m\u001b[38;5;21;01mbase_cxx_network\u001b[39;00m \u001b[38;5;28;01mimport\u001b[39;00m BaseCxxNetwork\n\u001b[1;32m     10\u001b[0m \u001b[38;5;28;01mfrom\u001b[39;00m \u001b[38;5;21;01mpynucastro\u001b[39;00m\u001b[38;5;21;01m.\u001b[39;00m\u001b[38;5;21;01mnucdata\u001b[39;00m \u001b[38;5;28;01mimport\u001b[39;00m Nucleus\n\u001b[1;32m     11\u001b[0m \u001b[38;5;28;01mfrom\u001b[39;00m \u001b[38;5;21;01mpynucastro\u001b[39;00m\u001b[38;5;21;01m.\u001b[39;00m\u001b[38;5;21;01mrates\u001b[39;00m \u001b[38;5;28;01mimport\u001b[39;00m ReacLibRate\n",
      "File \u001b[0;32m/opt/hostedtoolcache/Python/3.11.10/x64/lib/python3.11/site-packages/pynucastro/networks/base_cxx_network.py:19\u001b[0m\n\u001b[1;32m     16\u001b[0m \u001b[38;5;28;01mimport\u001b[39;00m \u001b[38;5;21;01mnumpy\u001b[39;00m \u001b[38;5;28;01mas\u001b[39;00m \u001b[38;5;21;01mnp\u001b[39;00m\n\u001b[1;32m     17\u001b[0m \u001b[38;5;28;01mimport\u001b[39;00m \u001b[38;5;21;01msympy\u001b[39;00m\n\u001b[0;32m---> 19\u001b[0m \u001b[38;5;28;01mfrom\u001b[39;00m \u001b[38;5;21;01mpynucastro\u001b[39;00m\u001b[38;5;21;01m.\u001b[39;00m\u001b[38;5;21;01mnetworks\u001b[39;00m\u001b[38;5;21;01m.\u001b[39;00m\u001b[38;5;21;01mrate_collection\u001b[39;00m \u001b[38;5;28;01mimport\u001b[39;00m RateCollection\n\u001b[1;32m     20\u001b[0m \u001b[38;5;28;01mfrom\u001b[39;00m \u001b[38;5;21;01mpynucastro\u001b[39;00m\u001b[38;5;21;01m.\u001b[39;00m\u001b[38;5;21;01mnetworks\u001b[39;00m\u001b[38;5;21;01m.\u001b[39;00m\u001b[38;5;21;01msympy_network_support\u001b[39;00m \u001b[38;5;28;01mimport\u001b[39;00m SympyRates\n\u001b[1;32m     21\u001b[0m \u001b[38;5;28;01mfrom\u001b[39;00m \u001b[38;5;21;01mpynucastro\u001b[39;00m\u001b[38;5;21;01m.\u001b[39;00m\u001b[38;5;21;01mrates\u001b[39;00m \u001b[38;5;28;01mimport\u001b[39;00m DerivedRate\n",
      "File \u001b[0;32m/opt/hostedtoolcache/Python/3.11.10/x64/lib/python3.11/site-packages/pynucastro/networks/rate_collection.py:32\u001b[0m\n\u001b[1;32m     28\u001b[0m \u001b[38;5;28;01mfrom\u001b[39;00m \u001b[38;5;21;01mpynucastro\u001b[39;00m\u001b[38;5;21;01m.\u001b[39;00m\u001b[38;5;21;01mrates\u001b[39;00m\u001b[38;5;21;01m.\u001b[39;00m\u001b[38;5;21;01mlibrary\u001b[39;00m \u001b[38;5;28;01mimport\u001b[39;00m _rate_name_to_nuc, capitalize_rid\n\u001b[1;32m     29\u001b[0m \u001b[38;5;28;01mfrom\u001b[39;00m \u001b[38;5;21;01mpynucastro\u001b[39;00m\u001b[38;5;21;01m.\u001b[39;00m\u001b[38;5;21;01mscreening\u001b[39;00m \u001b[38;5;28;01mimport\u001b[39;00m (get_screening_map, make_plasma_state,\n\u001b[1;32m     30\u001b[0m                                   make_screen_factors)\n\u001b[0;32m---> 32\u001b[0m \u001b[38;5;28;01mfrom\u001b[39;00m \u001b[38;5;21;01mmicrophysics\u001b[39;00m\u001b[38;5;21;01m.\u001b[39;00m\u001b[38;5;21;01mpynucastro\u001b[39;00m\u001b[38;5;21;01m.\u001b[39;00m\u001b[38;5;21;01mpynucastro\u001b[39;00m\u001b[38;5;21;01m.\u001b[39;00m\u001b[38;5;21;01mnucdata\u001b[39;00m \u001b[38;5;28;01mimport\u001b[39;00m nucleus\n\u001b[1;32m     34\u001b[0m mpl\u001b[38;5;241m.\u001b[39mrcParams[\u001b[38;5;124m'\u001b[39m\u001b[38;5;124mfigure.dpi\u001b[39m\u001b[38;5;124m'\u001b[39m] \u001b[38;5;241m=\u001b[39m \u001b[38;5;241m100\u001b[39m\n\u001b[1;32m     37\u001b[0m \u001b[38;5;28;01mclass\u001b[39;00m \u001b[38;5;21;01mRateDuplicationError\u001b[39;00m(\u001b[38;5;167;01mException\u001b[39;00m):\n",
      "\u001b[0;31mModuleNotFoundError\u001b[0m: No module named 'microphysics'"
     ]
    }
   ],
   "source": [
    "from pynucastro.neutrino_cooling import sneut5, NeutrinoCooling\n",
    "from pynucastro import Composition, Nucleus"
   ]
  },
  {
   "cell_type": "markdown",
   "id": "29cbbf75-54a2-42e4-a6d6-4422c0f1a33c",
   "metadata": {},
   "source": [
    "## Evaluating $\\epsilon_\\nu$ for a thermodynamic state"
   ]
  },
  {
   "cell_type": "markdown",
   "id": "47e21662-24c9-46d1-97ec-79544517a2c2",
   "metadata": {},
   "source": [
    "We can evaluate the cooling term given a density, temperature and composition."
   ]
  },
  {
   "cell_type": "code",
   "execution_count": 2,
   "id": "05eefddb-6459-454d-bd7f-87c454d4aa80",
   "metadata": {
    "execution": {
     "iopub.execute_input": "2024-10-17T07:31:48.812430Z",
     "iopub.status.busy": "2024-10-17T07:31:48.812243Z",
     "iopub.status.idle": "2024-10-17T07:31:48.825314Z",
     "shell.execute_reply": "2024-10-17T07:31:48.824766Z"
    }
   },
   "outputs": [
    {
     "ename": "NameError",
     "evalue": "name 'Composition' is not defined",
     "output_type": "error",
     "traceback": [
      "\u001b[0;31m---------------------------------------------------------------------------\u001b[0m",
      "\u001b[0;31mNameError\u001b[0m                                 Traceback (most recent call last)",
      "Cell \u001b[0;32mIn[2], line 3\u001b[0m\n\u001b[1;32m      1\u001b[0m rho \u001b[38;5;241m=\u001b[39m \u001b[38;5;241m1.e8\u001b[39m\n\u001b[1;32m      2\u001b[0m T \u001b[38;5;241m=\u001b[39m \u001b[38;5;241m2.e9\u001b[39m\n\u001b[0;32m----> 3\u001b[0m c \u001b[38;5;241m=\u001b[39m \u001b[43mComposition\u001b[49m([Nucleus(\u001b[38;5;124m\"\u001b[39m\u001b[38;5;124mp\u001b[39m\u001b[38;5;124m\"\u001b[39m), Nucleus(\u001b[38;5;124m\"\u001b[39m\u001b[38;5;124ma\u001b[39m\u001b[38;5;124m\"\u001b[39m), Nucleus(\u001b[38;5;124m\"\u001b[39m\u001b[38;5;124mfe56\u001b[39m\u001b[38;5;124m\"\u001b[39m)])\n\u001b[1;32m      4\u001b[0m c\u001b[38;5;241m.\u001b[39mset_equal()\n",
      "\u001b[0;31mNameError\u001b[0m: name 'Composition' is not defined"
     ]
    }
   ],
   "source": [
    "rho = 1.e8\n",
    "T = 2.e9\n",
    "c = Composition([Nucleus(\"p\"), Nucleus(\"a\"), Nucleus(\"fe56\")])\n",
    "c.set_equal()"
   ]
  },
  {
   "cell_type": "code",
   "execution_count": 3,
   "id": "3c49c80a-910e-4aa8-93d5-8c640db1c7e1",
   "metadata": {
    "execution": {
     "iopub.execute_input": "2024-10-17T07:31:48.827081Z",
     "iopub.status.busy": "2024-10-17T07:31:48.826792Z",
     "iopub.status.idle": "2024-10-17T07:31:48.837966Z",
     "shell.execute_reply": "2024-10-17T07:31:48.837426Z"
    }
   },
   "outputs": [
    {
     "ename": "NameError",
     "evalue": "name 'sneut5' is not defined",
     "output_type": "error",
     "traceback": [
      "\u001b[0;31m---------------------------------------------------------------------------\u001b[0m",
      "\u001b[0;31mNameError\u001b[0m                                 Traceback (most recent call last)",
      "Cell \u001b[0;32mIn[3], line 1\u001b[0m\n\u001b[0;32m----> 1\u001b[0m snu \u001b[38;5;241m=\u001b[39m \u001b[43msneut5\u001b[49m(rho, T, c)\n\u001b[1;32m      2\u001b[0m \u001b[38;5;28mprint\u001b[39m(snu)\n",
      "\u001b[0;31mNameError\u001b[0m: name 'sneut5' is not defined"
     ]
    }
   ],
   "source": [
    "snu = sneut5(rho, T, c)\n",
    "print(snu)"
   ]
  },
  {
   "cell_type": "markdown",
   "id": "98bcdda2-0d4a-4371-98bb-83e76c601484",
   "metadata": {},
   "source": [
    "This is the value in CGS units (erg/g/s)"
   ]
  },
  {
   "cell_type": "markdown",
   "id": "0c1e735b-1942-4f30-b2db-2de0f483d24a",
   "metadata": {},
   "source": [
    "If we want to see the breakdown of the different contributions, we pass ``full_output=True``"
   ]
  },
  {
   "cell_type": "code",
   "execution_count": 4,
   "id": "5f57d3b6-9ac7-4260-9f1f-5fa401e8c96d",
   "metadata": {
    "execution": {
     "iopub.execute_input": "2024-10-17T07:31:48.839896Z",
     "iopub.status.busy": "2024-10-17T07:31:48.839516Z",
     "iopub.status.idle": "2024-10-17T07:31:48.850949Z",
     "shell.execute_reply": "2024-10-17T07:31:48.850496Z"
    }
   },
   "outputs": [
    {
     "ename": "NameError",
     "evalue": "name 'sneut5' is not defined",
     "output_type": "error",
     "traceback": [
      "\u001b[0;31m---------------------------------------------------------------------------\u001b[0m",
      "\u001b[0;31mNameError\u001b[0m                                 Traceback (most recent call last)",
      "Cell \u001b[0;32mIn[4], line 1\u001b[0m\n\u001b[0;32m----> 1\u001b[0m snu, scomps \u001b[38;5;241m=\u001b[39m \u001b[43msneut5\u001b[49m(rho, T, c, full_output\u001b[38;5;241m=\u001b[39m\u001b[38;5;28;01mTrue\u001b[39;00m)\n\u001b[1;32m      2\u001b[0m \u001b[38;5;28mprint\u001b[39m(scomps)\n",
      "\u001b[0;31mNameError\u001b[0m: name 'sneut5' is not defined"
     ]
    }
   ],
   "source": [
    "snu, scomps = sneut5(rho, T, c, full_output=True)\n",
    "print(scomps)"
   ]
  },
  {
   "cell_type": "markdown",
   "id": "1be0d9a1-e979-4e10-afe8-9d0bae46e420",
   "metadata": {},
   "source": [
    "## Plotting $\\epsilon_\\nu$ in the $\\rho$-$T$ plane"
   ]
  },
  {
   "cell_type": "markdown",
   "id": "9ca8a15e-3c64-49b5-a3fb-7612421f616d",
   "metadata": {},
   "source": [
    "We can see the trend with thermodynamics state by using the ``NeutrinoCooling`` class"
   ]
  },
  {
   "cell_type": "code",
   "execution_count": 5,
   "id": "3496f621-0580-4480-81c7-4b73adb4c539",
   "metadata": {
    "execution": {
     "iopub.execute_input": "2024-10-17T07:31:48.852658Z",
     "iopub.status.busy": "2024-10-17T07:31:48.852345Z",
     "iopub.status.idle": "2024-10-17T07:31:48.864233Z",
     "shell.execute_reply": "2024-10-17T07:31:48.863680Z"
    }
   },
   "outputs": [
    {
     "ename": "NameError",
     "evalue": "name 'NeutrinoCooling' is not defined",
     "output_type": "error",
     "traceback": [
      "\u001b[0;31m---------------------------------------------------------------------------\u001b[0m",
      "\u001b[0;31mNameError\u001b[0m                                 Traceback (most recent call last)",
      "Cell \u001b[0;32mIn[5], line 1\u001b[0m\n\u001b[0;32m----> 1\u001b[0m nc \u001b[38;5;241m=\u001b[39m \u001b[43mNeutrinoCooling\u001b[49m()\n\u001b[1;32m      2\u001b[0m fig \u001b[38;5;241m=\u001b[39m nc\u001b[38;5;241m.\u001b[39mplot(Tmin\u001b[38;5;241m=\u001b[39m\u001b[38;5;241m1.e7\u001b[39m, Tmax\u001b[38;5;241m=\u001b[39m\u001b[38;5;241m1.e10\u001b[39m, rhomin\u001b[38;5;241m=\u001b[39m\u001b[38;5;241m1.e3\u001b[39m, rhomax\u001b[38;5;241m=\u001b[39m\u001b[38;5;241m1.e10\u001b[39m,\n\u001b[1;32m      3\u001b[0m               abar\u001b[38;5;241m=\u001b[39mc\u001b[38;5;241m.\u001b[39meval_abar(), zbar\u001b[38;5;241m=\u001b[39mc\u001b[38;5;241m.\u001b[39meval_zbar())\n",
      "\u001b[0;31mNameError\u001b[0m: name 'NeutrinoCooling' is not defined"
     ]
    }
   ],
   "source": [
    "nc = NeutrinoCooling()\n",
    "fig = nc.plot(Tmin=1.e7, Tmax=1.e10, rhomin=1.e3, rhomax=1.e10,\n",
    "              abar=c.eval_abar(), zbar=c.eval_zbar())"
   ]
  }
 ],
 "metadata": {
  "kernelspec": {
   "display_name": "Python 3 (ipykernel)",
   "language": "python",
   "name": "python3"
  },
  "language_info": {
   "codemirror_mode": {
    "name": "ipython",
    "version": 3
   },
   "file_extension": ".py",
   "mimetype": "text/x-python",
   "name": "python",
   "nbconvert_exporter": "python",
   "pygments_lexer": "ipython3",
   "version": "3.11.10"
  }
 },
 "nbformat": 4,
 "nbformat_minor": 5
}
