{
 "cells": [
  {
   "cell_type": "markdown",
   "id": "6fcf9c31-b0a2-4683-9d36-aff17ed65ddc",
   "metadata": {},
   "source": [
    "# Neutrino Cooling"
   ]
  },
  {
   "cell_type": "markdown",
   "id": "b961005f-ffa6-419c-ab18-61bf585e189d",
   "metadata": {},
   "source": [
    "At high temperatures, pair, plasma, Bremmstrahlung, and photo neutrinos become important. These are often treated as a source term to an energy equation when integrating the temperature evolution due to reactions.\n",
    "\n",
    "pynucastro implements the functions of <cite data-cite-t=\"itoh:1996\">Itoh et al. 1996</cite> to incorporate these effects.  In many codes, a routine called ``sneut5`` was used for this implementation.  pynucastro contains a port of that routine."
   ]
  },
  {
   "cell_type": "code",
   "execution_count": 1,
   "id": "e5d84d78-ae6a-4296-927e-00605cf380b4",
   "metadata": {
    "execution": {
     "iopub.execute_input": "2024-10-10T09:32:14.702056Z",
     "iopub.status.busy": "2024-10-10T09:32:14.701658Z",
     "iopub.status.idle": "2024-10-10T09:32:15.240635Z",
     "shell.execute_reply": "2024-10-10T09:32:15.240076Z"
    }
   },
   "outputs": [
    {
     "ename": "ValueError",
     "evalue": "too many values to unpack (expected 3)",
     "output_type": "error",
     "traceback": [
      "\u001b[0;31m---------------------------------------------------------------------------\u001b[0m",
      "\u001b[0;31mValueError\u001b[0m                                Traceback (most recent call last)",
      "Cell \u001b[0;32mIn[1], line 1\u001b[0m\n\u001b[0;32m----> 1\u001b[0m \u001b[38;5;28;01mfrom\u001b[39;00m \u001b[38;5;21;01mpynucastro\u001b[39;00m\u001b[38;5;21;01m.\u001b[39;00m\u001b[38;5;21;01mneutrino_cooling\u001b[39;00m \u001b[38;5;28;01mimport\u001b[39;00m sneut5, NeutrinoCooling\n\u001b[1;32m      2\u001b[0m \u001b[38;5;28;01mfrom\u001b[39;00m \u001b[38;5;21;01mpynucastro\u001b[39;00m \u001b[38;5;28;01mimport\u001b[39;00m Composition, Nucleus\n",
      "File \u001b[0;32m/opt/hostedtoolcache/Python/3.11.10/x64/lib/python3.11/site-packages/pynucastro/__init__.py:131\u001b[0m\n\u001b[1;32m    126\u001b[0m \u001b[38;5;28;01mfrom\u001b[39;00m \u001b[38;5;21;01m.\u001b[39;00m\u001b[38;5;21;01m_version\u001b[39;00m \u001b[38;5;28;01mimport\u001b[39;00m version\n\u001b[1;32m    128\u001b[0m __version__ \u001b[38;5;241m=\u001b[39m version\n\u001b[0;32m--> 131\u001b[0m \u001b[38;5;28;01mimport\u001b[39;00m \u001b[38;5;21;01mpynucastro\u001b[39;00m\u001b[38;5;21;01m.\u001b[39;00m\u001b[38;5;21;01mscreening\u001b[39;00m\n\u001b[1;32m    132\u001b[0m \u001b[38;5;28;01mfrom\u001b[39;00m \u001b[38;5;21;01mpynucastro\u001b[39;00m\u001b[38;5;21;01m.\u001b[39;00m\u001b[38;5;21;01mnetworks\u001b[39;00m \u001b[38;5;28;01mimport\u001b[39;00m (AmrexAstroCxxNetwork, BaseCxxNetwork,\n\u001b[1;32m    133\u001b[0m                                  Composition, Explorer, NSENetwork,\n\u001b[1;32m    134\u001b[0m                                  NumpyNetwork, PythonNetwork, RateCollection,\n\u001b[1;32m    135\u001b[0m                                  SimpleCxxNetwork, StarKillerCxxNetwork,\n\u001b[1;32m    136\u001b[0m                                  SympyRates)\n\u001b[1;32m    137\u001b[0m \u001b[38;5;28;01mfrom\u001b[39;00m \u001b[38;5;21;01mpynucastro\u001b[39;00m\u001b[38;5;21;01m.\u001b[39;00m\u001b[38;5;21;01mnucdata\u001b[39;00m \u001b[38;5;28;01mimport\u001b[39;00m Nucleus, get_all_nuclei, get_nuclei_in_range\n",
      "File \u001b[0;32m/opt/hostedtoolcache/Python/3.11.10/x64/lib/python3.11/site-packages/pynucastro/screening/__init__.py:5\u001b[0m\n\u001b[1;32m      1\u001b[0m \u001b[38;5;124;03m\"\"\"Screening routines\"\"\"\u001b[39;00m\n\u001b[1;32m      3\u001b[0m __all__ \u001b[38;5;241m=\u001b[39m [\u001b[38;5;124m\"\u001b[39m\u001b[38;5;124mscreen\u001b[39m\u001b[38;5;124m\"\u001b[39m, \u001b[38;5;124m\"\u001b[39m\u001b[38;5;124mscreening_util\u001b[39m\u001b[38;5;124m\"\u001b[39m]\n\u001b[0;32m----> 5\u001b[0m \u001b[38;5;28;01mfrom\u001b[39;00m \u001b[38;5;21;01m.\u001b[39;00m\u001b[38;5;21;01mscreen\u001b[39;00m \u001b[38;5;28;01mimport\u001b[39;00m (NseState, PlasmaState, ScreenFactors, chugunov_2007,\n\u001b[1;32m      6\u001b[0m                      chugunov_2009, make_plasma_state, make_screen_factors,\n\u001b[1;32m      7\u001b[0m                      potekhin_1998, screen5)\n\u001b[1;32m      8\u001b[0m \u001b[38;5;28;01mfrom\u001b[39;00m \u001b[38;5;21;01m.\u001b[39;00m\u001b[38;5;21;01mscreening_util\u001b[39;00m \u001b[38;5;28;01mimport\u001b[39;00m ScreeningPair, get_screening_map\n",
      "File \u001b[0;32m/opt/hostedtoolcache/Python/3.11.10/x64/lib/python3.11/site-packages/pynucastro/screening/screen.py:7\u001b[0m\n\u001b[1;32m      4\u001b[0m \u001b[38;5;28;01mimport\u001b[39;00m \u001b[38;5;21;01mnumpy\u001b[39;00m \u001b[38;5;28;01mas\u001b[39;00m \u001b[38;5;21;01mnp\u001b[39;00m\n\u001b[1;32m      6\u001b[0m \u001b[38;5;28;01mfrom\u001b[39;00m \u001b[38;5;21;01mpynucastro\u001b[39;00m\u001b[38;5;21;01m.\u001b[39;00m\u001b[38;5;21;01mconstants\u001b[39;00m \u001b[38;5;28;01mimport\u001b[39;00m constants\n\u001b[0;32m----> 7\u001b[0m \u001b[38;5;28;01mfrom\u001b[39;00m \u001b[38;5;21;01mpynucastro\u001b[39;00m\u001b[38;5;21;01m.\u001b[39;00m\u001b[38;5;21;01mnucdata\u001b[39;00m \u001b[38;5;28;01mimport\u001b[39;00m Nucleus\n\u001b[1;32m      8\u001b[0m \u001b[38;5;66;03m# use the jitclass placeholder from rate.py\u001b[39;00m\n\u001b[1;32m      9\u001b[0m \u001b[38;5;28;01mfrom\u001b[39;00m \u001b[38;5;21;01mpynucastro\u001b[39;00m\u001b[38;5;21;01m.\u001b[39;00m\u001b[38;5;21;01mrates\u001b[39;00m\u001b[38;5;21;01m.\u001b[39;00m\u001b[38;5;21;01mrate\u001b[39;00m \u001b[38;5;28;01mimport\u001b[39;00m jitclass, numba\n",
      "File \u001b[0;32m/opt/hostedtoolcache/Python/3.11.10/x64/lib/python3.11/site-packages/pynucastro/nucdata/__init__.py:10\u001b[0m\n\u001b[1;32m      8\u001b[0m \u001b[38;5;28;01mfrom\u001b[39;00m \u001b[38;5;21;01m.\u001b[39;00m\u001b[38;5;21;01melements\u001b[39;00m \u001b[38;5;28;01mimport\u001b[39;00m Element, PeriodicTable, UnidentifiedElement\n\u001b[1;32m      9\u001b[0m \u001b[38;5;28;01mfrom\u001b[39;00m \u001b[38;5;21;01m.\u001b[39;00m\u001b[38;5;21;01mmass_table\u001b[39;00m \u001b[38;5;28;01mimport\u001b[39;00m MassTable\n\u001b[0;32m---> 10\u001b[0m \u001b[38;5;28;01mfrom\u001b[39;00m \u001b[38;5;21;01m.\u001b[39;00m\u001b[38;5;21;01mnucleus\u001b[39;00m \u001b[38;5;28;01mimport\u001b[39;00m (Nucleus, UnsupportedNucleus, get_all_nuclei,\n\u001b[1;32m     11\u001b[0m                       get_nuclei_in_range)\n\u001b[1;32m     12\u001b[0m \u001b[38;5;28;01mfrom\u001b[39;00m \u001b[38;5;21;01m.\u001b[39;00m\u001b[38;5;21;01mpartition_function\u001b[39;00m \u001b[38;5;28;01mimport\u001b[39;00m (PartitionFunction,\n\u001b[1;32m     13\u001b[0m                                  PartitionFunctionCollection,\n\u001b[1;32m     14\u001b[0m                                  PartitionFunctionTable)\n\u001b[1;32m     15\u001b[0m \u001b[38;5;28;01mfrom\u001b[39;00m \u001b[38;5;21;01m.\u001b[39;00m\u001b[38;5;21;01mspin_table\u001b[39;00m \u001b[38;5;28;01mimport\u001b[39;00m SpinTable\n",
      "File \u001b[0;32m/opt/hostedtoolcache/Python/3.11.10/x64/lib/python3.11/site-packages/pynucastro/nucdata/nucleus.py:21\u001b[0m\n\u001b[1;32m     19\u001b[0m \u001b[38;5;66;03m# read the various tables with nuclear properties at the module-level\u001b[39;00m\n\u001b[1;32m     20\u001b[0m _mass_table \u001b[38;5;241m=\u001b[39m MassTable()\n\u001b[0;32m---> 21\u001b[0m _halflife_table \u001b[38;5;241m=\u001b[39m \u001b[43mHalfLifeTable\u001b[49m\u001b[43m(\u001b[49m\u001b[43m)\u001b[49m\n\u001b[1;32m     22\u001b[0m _spin_table \u001b[38;5;241m=\u001b[39m SpinTable(reliable\u001b[38;5;241m=\u001b[39m\u001b[38;5;28;01mTrue\u001b[39;00m)\n\u001b[1;32m     24\u001b[0m \u001b[38;5;66;03m# read the partition function table once and store it at the module-level\u001b[39;00m\n",
      "File \u001b[0;32m/opt/hostedtoolcache/Python/3.11.10/x64/lib/python3.11/site-packages/pynucastro/nucdata/halflife_table.py:20\u001b[0m, in \u001b[0;36mHalfLifeTable.__init__\u001b[0;34m(self, filename)\u001b[0m\n\u001b[1;32m     17\u001b[0m     datafile_name \u001b[38;5;241m=\u001b[39m \u001b[38;5;124m'\u001b[39m\u001b[38;5;124mhalflife2020.txt\u001b[39m\u001b[38;5;124m'\u001b[39m\n\u001b[1;32m     18\u001b[0m     \u001b[38;5;28mself\u001b[39m\u001b[38;5;241m.\u001b[39mfilename \u001b[38;5;241m=\u001b[39m nucdata_dir\u001b[38;5;241m/\u001b[39m\u001b[38;5;124m'\u001b[39m\u001b[38;5;124mAtomicMassEvaluation\u001b[39m\u001b[38;5;124m'\u001b[39m\u001b[38;5;241m/\u001b[39mdatafile_name\n\u001b[0;32m---> 20\u001b[0m \u001b[38;5;28;43mself\u001b[39;49m\u001b[38;5;241;43m.\u001b[39;49m\u001b[43m_read_table\u001b[49m\u001b[43m(\u001b[49m\u001b[43m)\u001b[49m\n",
      "File \u001b[0;32m/opt/hostedtoolcache/Python/3.11.10/x64/lib/python3.11/site-packages/pynucastro/nucdata/halflife_table.py:33\u001b[0m, in \u001b[0;36mHalfLifeTable._read_table\u001b[0;34m(self)\u001b[0m\n\u001b[1;32m     29\u001b[0m         f\u001b[38;5;241m.\u001b[39mreadline()\n\u001b[1;32m     31\u001b[0m \u001b[38;5;28;01mfor\u001b[39;00m line \u001b[38;5;129;01min\u001b[39;00m file:\n\u001b[0;32m---> 33\u001b[0m     A, Z, tau \u001b[38;5;241m=\u001b[39m line\u001b[38;5;241m.\u001b[39mstrip()\u001b[38;5;241m.\u001b[39msplit()\n\u001b[1;32m     34\u001b[0m     \u001b[38;5;66;03m#print(data_list)\u001b[39;00m\n\u001b[1;32m     36\u001b[0m     \u001b[38;5;28;01mif\u001b[39;00m tau \u001b[38;5;241m!=\u001b[39m \u001b[38;5;124m\"\u001b[39m\u001b[38;5;124mstable\u001b[39m\u001b[38;5;124m\"\u001b[39m:\n",
      "\u001b[0;31mValueError\u001b[0m: too many values to unpack (expected 3)"
     ]
    }
   ],
   "source": [
    "from pynucastro.neutrino_cooling import sneut5, NeutrinoCooling\n",
    "from pynucastro import Composition, Nucleus"
   ]
  },
  {
   "cell_type": "markdown",
   "id": "29cbbf75-54a2-42e4-a6d6-4422c0f1a33c",
   "metadata": {},
   "source": [
    "## Evaluating $\\epsilon_\\nu$ for a thermodynamic state"
   ]
  },
  {
   "cell_type": "markdown",
   "id": "47e21662-24c9-46d1-97ec-79544517a2c2",
   "metadata": {},
   "source": [
    "We can evaluate the cooling term given a density, temperature and composition."
   ]
  },
  {
   "cell_type": "code",
   "execution_count": 2,
   "id": "05eefddb-6459-454d-bd7f-87c454d4aa80",
   "metadata": {
    "execution": {
     "iopub.execute_input": "2024-10-10T09:32:15.242471Z",
     "iopub.status.busy": "2024-10-10T09:32:15.242292Z",
     "iopub.status.idle": "2024-10-10T09:32:15.254218Z",
     "shell.execute_reply": "2024-10-10T09:32:15.253765Z"
    }
   },
   "outputs": [
    {
     "ename": "NameError",
     "evalue": "name 'Composition' is not defined",
     "output_type": "error",
     "traceback": [
      "\u001b[0;31m---------------------------------------------------------------------------\u001b[0m",
      "\u001b[0;31mNameError\u001b[0m                                 Traceback (most recent call last)",
      "Cell \u001b[0;32mIn[2], line 3\u001b[0m\n\u001b[1;32m      1\u001b[0m rho \u001b[38;5;241m=\u001b[39m \u001b[38;5;241m1.e8\u001b[39m\n\u001b[1;32m      2\u001b[0m T \u001b[38;5;241m=\u001b[39m \u001b[38;5;241m2.e9\u001b[39m\n\u001b[0;32m----> 3\u001b[0m c \u001b[38;5;241m=\u001b[39m \u001b[43mComposition\u001b[49m([Nucleus(\u001b[38;5;124m\"\u001b[39m\u001b[38;5;124mp\u001b[39m\u001b[38;5;124m\"\u001b[39m), Nucleus(\u001b[38;5;124m\"\u001b[39m\u001b[38;5;124ma\u001b[39m\u001b[38;5;124m\"\u001b[39m), Nucleus(\u001b[38;5;124m\"\u001b[39m\u001b[38;5;124mfe56\u001b[39m\u001b[38;5;124m\"\u001b[39m)])\n\u001b[1;32m      4\u001b[0m c\u001b[38;5;241m.\u001b[39mset_equal()\n",
      "\u001b[0;31mNameError\u001b[0m: name 'Composition' is not defined"
     ]
    }
   ],
   "source": [
    "rho = 1.e8\n",
    "T = 2.e9\n",
    "c = Composition([Nucleus(\"p\"), Nucleus(\"a\"), Nucleus(\"fe56\")])\n",
    "c.set_equal()"
   ]
  },
  {
   "cell_type": "code",
   "execution_count": 3,
   "id": "3c49c80a-910e-4aa8-93d5-8c640db1c7e1",
   "metadata": {
    "execution": {
     "iopub.execute_input": "2024-10-10T09:32:15.255755Z",
     "iopub.status.busy": "2024-10-10T09:32:15.255589Z",
     "iopub.status.idle": "2024-10-10T09:32:15.266145Z",
     "shell.execute_reply": "2024-10-10T09:32:15.265697Z"
    }
   },
   "outputs": [
    {
     "ename": "NameError",
     "evalue": "name 'sneut5' is not defined",
     "output_type": "error",
     "traceback": [
      "\u001b[0;31m---------------------------------------------------------------------------\u001b[0m",
      "\u001b[0;31mNameError\u001b[0m                                 Traceback (most recent call last)",
      "Cell \u001b[0;32mIn[3], line 1\u001b[0m\n\u001b[0;32m----> 1\u001b[0m snu \u001b[38;5;241m=\u001b[39m \u001b[43msneut5\u001b[49m(rho, T, c)\n\u001b[1;32m      2\u001b[0m \u001b[38;5;28mprint\u001b[39m(snu)\n",
      "\u001b[0;31mNameError\u001b[0m: name 'sneut5' is not defined"
     ]
    }
   ],
   "source": [
    "snu = sneut5(rho, T, c)\n",
    "print(snu)"
   ]
  },
  {
   "cell_type": "markdown",
   "id": "98bcdda2-0d4a-4371-98bb-83e76c601484",
   "metadata": {},
   "source": [
    "This is the value in CGS units (erg/g/s)"
   ]
  },
  {
   "cell_type": "markdown",
   "id": "0c1e735b-1942-4f30-b2db-2de0f483d24a",
   "metadata": {},
   "source": [
    "If we want to see the breakdown of the different contributions, we pass ``full_output=True``"
   ]
  },
  {
   "cell_type": "code",
   "execution_count": 4,
   "id": "5f57d3b6-9ac7-4260-9f1f-5fa401e8c96d",
   "metadata": {
    "execution": {
     "iopub.execute_input": "2024-10-10T09:32:15.267738Z",
     "iopub.status.busy": "2024-10-10T09:32:15.267568Z",
     "iopub.status.idle": "2024-10-10T09:32:15.279178Z",
     "shell.execute_reply": "2024-10-10T09:32:15.278691Z"
    }
   },
   "outputs": [
    {
     "ename": "NameError",
     "evalue": "name 'sneut5' is not defined",
     "output_type": "error",
     "traceback": [
      "\u001b[0;31m---------------------------------------------------------------------------\u001b[0m",
      "\u001b[0;31mNameError\u001b[0m                                 Traceback (most recent call last)",
      "Cell \u001b[0;32mIn[4], line 1\u001b[0m\n\u001b[0;32m----> 1\u001b[0m snu, scomps \u001b[38;5;241m=\u001b[39m \u001b[43msneut5\u001b[49m(rho, T, c, full_output\u001b[38;5;241m=\u001b[39m\u001b[38;5;28;01mTrue\u001b[39;00m)\n\u001b[1;32m      2\u001b[0m \u001b[38;5;28mprint\u001b[39m(scomps)\n",
      "\u001b[0;31mNameError\u001b[0m: name 'sneut5' is not defined"
     ]
    }
   ],
   "source": [
    "snu, scomps = sneut5(rho, T, c, full_output=True)\n",
    "print(scomps)"
   ]
  },
  {
   "cell_type": "markdown",
   "id": "1be0d9a1-e979-4e10-afe8-9d0bae46e420",
   "metadata": {},
   "source": [
    "## Plotting $\\epsilon_\\nu$ in the $\\rho$-$T$ plane"
   ]
  },
  {
   "cell_type": "markdown",
   "id": "9ca8a15e-3c64-49b5-a3fb-7612421f616d",
   "metadata": {},
   "source": [
    "We can see the trend with thermodynamics state by using the ``NeutrinoCooling`` class"
   ]
  },
  {
   "cell_type": "code",
   "execution_count": 5,
   "id": "3496f621-0580-4480-81c7-4b73adb4c539",
   "metadata": {
    "execution": {
     "iopub.execute_input": "2024-10-10T09:32:15.281088Z",
     "iopub.status.busy": "2024-10-10T09:32:15.280672Z",
     "iopub.status.idle": "2024-10-10T09:32:15.292230Z",
     "shell.execute_reply": "2024-10-10T09:32:15.291792Z"
    }
   },
   "outputs": [
    {
     "ename": "NameError",
     "evalue": "name 'NeutrinoCooling' is not defined",
     "output_type": "error",
     "traceback": [
      "\u001b[0;31m---------------------------------------------------------------------------\u001b[0m",
      "\u001b[0;31mNameError\u001b[0m                                 Traceback (most recent call last)",
      "Cell \u001b[0;32mIn[5], line 1\u001b[0m\n\u001b[0;32m----> 1\u001b[0m nc \u001b[38;5;241m=\u001b[39m \u001b[43mNeutrinoCooling\u001b[49m()\n\u001b[1;32m      2\u001b[0m fig \u001b[38;5;241m=\u001b[39m nc\u001b[38;5;241m.\u001b[39mplot(Tmin\u001b[38;5;241m=\u001b[39m\u001b[38;5;241m1.e7\u001b[39m, Tmax\u001b[38;5;241m=\u001b[39m\u001b[38;5;241m1.e10\u001b[39m, rhomin\u001b[38;5;241m=\u001b[39m\u001b[38;5;241m1.e3\u001b[39m, rhomax\u001b[38;5;241m=\u001b[39m\u001b[38;5;241m1.e10\u001b[39m,\n\u001b[1;32m      3\u001b[0m               abar\u001b[38;5;241m=\u001b[39mc\u001b[38;5;241m.\u001b[39meval_abar(), zbar\u001b[38;5;241m=\u001b[39mc\u001b[38;5;241m.\u001b[39meval_zbar())\n",
      "\u001b[0;31mNameError\u001b[0m: name 'NeutrinoCooling' is not defined"
     ]
    }
   ],
   "source": [
    "nc = NeutrinoCooling()\n",
    "fig = nc.plot(Tmin=1.e7, Tmax=1.e10, rhomin=1.e3, rhomax=1.e10,\n",
    "              abar=c.eval_abar(), zbar=c.eval_zbar())"
   ]
  }
 ],
 "metadata": {
  "kernelspec": {
   "display_name": "Python 3 (ipykernel)",
   "language": "python",
   "name": "python3"
  },
  "language_info": {
   "codemirror_mode": {
    "name": "ipython",
    "version": 3
   },
   "file_extension": ".py",
   "mimetype": "text/x-python",
   "name": "python",
   "nbconvert_exporter": "python",
   "pygments_lexer": "ipython3",
   "version": "3.11.10"
  }
 },
 "nbformat": 4,
 "nbformat_minor": 5
}
